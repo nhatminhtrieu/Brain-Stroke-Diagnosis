{
 "cells": [
  {
   "cell_type": "markdown",
   "id": "baaa12d9fcb31ad8",
   "metadata": {},
   "source": [
    "# Import Libraries"
   ]
  },
  {
   "cell_type": "code",
   "id": "765cf8c236921ef7",
   "metadata": {
    "ExecuteTime": {
     "end_time": "2024-12-20T10:40:26.031022Z",
     "start_time": "2024-12-20T10:40:24.147449Z"
    }
   },
   "source": [
    "!pip install gpytorch\n",
    "!pip install wandb\n",
    "!pip install python-gdcm\n",
    "# !pip install pylibjpeg pylibjpeg-libjpeg pylibjpeg-openjpeg"
   ],
   "outputs": [
    {
     "name": "stdout",
     "output_type": "stream",
     "text": [
      "Requirement already satisfied: gpytorch in /home/hskha23/miniconda3/envs/tf/lib/python3.10/site-packages (1.13)\r\n",
      "Requirement already satisfied: jaxtyping==0.2.19 in /home/hskha23/miniconda3/envs/tf/lib/python3.10/site-packages (from gpytorch) (0.2.19)\r\n",
      "Requirement already satisfied: mpmath<=1.3,>=0.19 in /home/hskha23/miniconda3/envs/tf/lib/python3.10/site-packages (from gpytorch) (1.3.0)\r\n",
      "Requirement already satisfied: scikit-learn in /home/hskha23/miniconda3/envs/tf/lib/python3.10/site-packages (from gpytorch) (1.5.1)\r\n",
      "Requirement already satisfied: scipy>=1.6.0 in /home/hskha23/miniconda3/envs/tf/lib/python3.10/site-packages (from gpytorch) (1.10.1)\r\n",
      "Requirement already satisfied: linear-operator>=0.5.3 in /home/hskha23/miniconda3/envs/tf/lib/python3.10/site-packages (from gpytorch) (0.5.3)\r\n",
      "Requirement already satisfied: numpy>=1.20.0 in /home/hskha23/miniconda3/envs/tf/lib/python3.10/site-packages (from jaxtyping==0.2.19->gpytorch) (1.26.4)\r\n",
      "Requirement already satisfied: typeguard>=2.13.3 in /home/hskha23/miniconda3/envs/tf/lib/python3.10/site-packages (from jaxtyping==0.2.19->gpytorch) (4.2.1)\r\n",
      "Requirement already satisfied: typing-extensions>=3.7.4.1 in /home/hskha23/miniconda3/envs/tf/lib/python3.10/site-packages (from jaxtyping==0.2.19->gpytorch) (4.12.2)\r\n",
      "Requirement already satisfied: torch>=1.11 in /home/hskha23/miniconda3/envs/tf/lib/python3.10/site-packages (from linear-operator>=0.5.3->gpytorch) (2.4.0)\r\n",
      "Requirement already satisfied: joblib>=1.2.0 in /home/hskha23/miniconda3/envs/tf/lib/python3.10/site-packages (from scikit-learn->gpytorch) (1.4.2)\r\n",
      "Requirement already satisfied: threadpoolctl>=3.1.0 in /home/hskha23/miniconda3/envs/tf/lib/python3.10/site-packages (from scikit-learn->gpytorch) (3.5.0)\r\n",
      "Requirement already satisfied: filelock in /home/hskha23/miniconda3/envs/tf/lib/python3.10/site-packages (from torch>=1.11->linear-operator>=0.5.3->gpytorch) (3.13.1)\r\n",
      "Requirement already satisfied: sympy in /home/hskha23/miniconda3/envs/tf/lib/python3.10/site-packages (from torch>=1.11->linear-operator>=0.5.3->gpytorch) (1.13.2)\r\n",
      "Requirement already satisfied: networkx in /home/hskha23/miniconda3/envs/tf/lib/python3.10/site-packages (from torch>=1.11->linear-operator>=0.5.3->gpytorch) (3.3)\r\n",
      "Requirement already satisfied: jinja2 in /home/hskha23/miniconda3/envs/tf/lib/python3.10/site-packages (from torch>=1.11->linear-operator>=0.5.3->gpytorch) (3.1.4)\r\n",
      "Requirement already satisfied: fsspec in /home/hskha23/miniconda3/envs/tf/lib/python3.10/site-packages (from torch>=1.11->linear-operator>=0.5.3->gpytorch) (2024.6.1)\r\n",
      "Requirement already satisfied: nvidia-cuda-nvrtc-cu12==12.1.105 in /home/hskha23/miniconda3/envs/tf/lib/python3.10/site-packages (from torch>=1.11->linear-operator>=0.5.3->gpytorch) (12.1.105)\r\n",
      "Requirement already satisfied: nvidia-cuda-runtime-cu12==12.1.105 in /home/hskha23/miniconda3/envs/tf/lib/python3.10/site-packages (from torch>=1.11->linear-operator>=0.5.3->gpytorch) (12.1.105)\r\n",
      "Requirement already satisfied: nvidia-cuda-cupti-cu12==12.1.105 in /home/hskha23/miniconda3/envs/tf/lib/python3.10/site-packages (from torch>=1.11->linear-operator>=0.5.3->gpytorch) (12.1.105)\r\n",
      "Requirement already satisfied: nvidia-cudnn-cu12==9.1.0.70 in /home/hskha23/miniconda3/envs/tf/lib/python3.10/site-packages (from torch>=1.11->linear-operator>=0.5.3->gpytorch) (9.1.0.70)\r\n",
      "Requirement already satisfied: nvidia-cublas-cu12==12.1.3.1 in /home/hskha23/miniconda3/envs/tf/lib/python3.10/site-packages (from torch>=1.11->linear-operator>=0.5.3->gpytorch) (12.1.3.1)\r\n",
      "Requirement already satisfied: nvidia-cufft-cu12==11.0.2.54 in /home/hskha23/miniconda3/envs/tf/lib/python3.10/site-packages (from torch>=1.11->linear-operator>=0.5.3->gpytorch) (11.0.2.54)\r\n",
      "Requirement already satisfied: nvidia-curand-cu12==10.3.2.106 in /home/hskha23/miniconda3/envs/tf/lib/python3.10/site-packages (from torch>=1.11->linear-operator>=0.5.3->gpytorch) (10.3.2.106)\r\n",
      "Requirement already satisfied: nvidia-cusolver-cu12==11.4.5.107 in /home/hskha23/miniconda3/envs/tf/lib/python3.10/site-packages (from torch>=1.11->linear-operator>=0.5.3->gpytorch) (11.4.5.107)\r\n",
      "Requirement already satisfied: nvidia-cusparse-cu12==12.1.0.106 in /home/hskha23/miniconda3/envs/tf/lib/python3.10/site-packages (from torch>=1.11->linear-operator>=0.5.3->gpytorch) (12.1.0.106)\r\n",
      "Requirement already satisfied: nvidia-nccl-cu12==2.20.5 in /home/hskha23/miniconda3/envs/tf/lib/python3.10/site-packages (from torch>=1.11->linear-operator>=0.5.3->gpytorch) (2.20.5)\r\n",
      "Requirement already satisfied: nvidia-nvtx-cu12==12.1.105 in /home/hskha23/miniconda3/envs/tf/lib/python3.10/site-packages (from torch>=1.11->linear-operator>=0.5.3->gpytorch) (12.1.105)\r\n",
      "Requirement already satisfied: triton==3.0.0 in /home/hskha23/miniconda3/envs/tf/lib/python3.10/site-packages (from torch>=1.11->linear-operator>=0.5.3->gpytorch) (3.0.0)\r\n",
      "Requirement already satisfied: nvidia-nvjitlink-cu12 in /home/hskha23/miniconda3/envs/tf/lib/python3.10/site-packages (from nvidia-cusolver-cu12==11.4.5.107->torch>=1.11->linear-operator>=0.5.3->gpytorch) (12.6.20)\r\n",
      "Requirement already satisfied: MarkupSafe>=2.0 in /home/hskha23/miniconda3/envs/tf/lib/python3.10/site-packages (from jinja2->torch>=1.11->linear-operator>=0.5.3->gpytorch) (2.1.3)\r\n",
      "Requirement already satisfied: wandb in /home/hskha23/miniconda3/envs/tf/lib/python3.10/site-packages (0.18.5)\r\n",
      "Requirement already satisfied: click!=8.0.0,>=7.1 in /home/hskha23/miniconda3/envs/tf/lib/python3.10/site-packages (from wandb) (8.1.7)\r\n",
      "Requirement already satisfied: docker-pycreds>=0.4.0 in /home/hskha23/miniconda3/envs/tf/lib/python3.10/site-packages (from wandb) (0.4.0)\r\n",
      "Requirement already satisfied: gitpython!=3.1.29,>=1.0.0 in /home/hskha23/miniconda3/envs/tf/lib/python3.10/site-packages (from wandb) (3.1.43)\r\n",
      "Requirement already satisfied: platformdirs in /home/hskha23/miniconda3/envs/tf/lib/python3.10/site-packages (from wandb) (4.2.2)\r\n",
      "Requirement already satisfied: protobuf!=4.21.0,!=5.28.0,<6,>=3.19.0 in /home/hskha23/miniconda3/envs/tf/lib/python3.10/site-packages (from wandb) (5.28.3)\r\n",
      "Requirement already satisfied: psutil>=5.0.0 in /home/hskha23/miniconda3/envs/tf/lib/python3.10/site-packages (from wandb) (6.0.0)\r\n",
      "Requirement already satisfied: pyyaml in /home/hskha23/miniconda3/envs/tf/lib/python3.10/site-packages (from wandb) (6.0.1)\r\n",
      "Requirement already satisfied: requests<3,>=2.0.0 in /home/hskha23/miniconda3/envs/tf/lib/python3.10/site-packages (from wandb) (2.32.3)\r\n",
      "Requirement already satisfied: sentry-sdk>=2.0.0 in /home/hskha23/miniconda3/envs/tf/lib/python3.10/site-packages (from wandb) (2.17.0)\r\n",
      "Requirement already satisfied: setproctitle in /home/hskha23/miniconda3/envs/tf/lib/python3.10/site-packages (from wandb) (1.3.3)\r\n",
      "Requirement already satisfied: setuptools in /home/hskha23/miniconda3/envs/tf/lib/python3.10/site-packages (from wandb) (72.1.0)\r\n",
      "Requirement already satisfied: typing-extensions<5,>=4.4 in /home/hskha23/miniconda3/envs/tf/lib/python3.10/site-packages (from wandb) (4.12.2)\r\n",
      "Requirement already satisfied: six>=1.4.0 in /home/hskha23/miniconda3/envs/tf/lib/python3.10/site-packages (from docker-pycreds>=0.4.0->wandb) (1.16.0)\r\n",
      "Requirement already satisfied: gitdb<5,>=4.0.1 in /home/hskha23/miniconda3/envs/tf/lib/python3.10/site-packages (from gitpython!=3.1.29,>=1.0.0->wandb) (4.0.11)\r\n",
      "Requirement already satisfied: charset-normalizer<4,>=2 in /home/hskha23/miniconda3/envs/tf/lib/python3.10/site-packages (from requests<3,>=2.0.0->wandb) (3.3.2)\r\n",
      "Requirement already satisfied: idna<4,>=2.5 in /home/hskha23/miniconda3/envs/tf/lib/python3.10/site-packages (from requests<3,>=2.0.0->wandb) (3.7)\r\n",
      "Requirement already satisfied: urllib3<3,>=1.21.1 in /home/hskha23/miniconda3/envs/tf/lib/python3.10/site-packages (from requests<3,>=2.0.0->wandb) (2.2.2)\r\n",
      "Requirement already satisfied: certifi>=2017.4.17 in /home/hskha23/miniconda3/envs/tf/lib/python3.10/site-packages (from requests<3,>=2.0.0->wandb) (2024.12.14)\r\n",
      "Requirement already satisfied: smmap<6,>=3.0.1 in /home/hskha23/miniconda3/envs/tf/lib/python3.10/site-packages (from gitdb<5,>=4.0.1->gitpython!=3.1.29,>=1.0.0->wandb) (5.0.1)\r\n",
      "Requirement already satisfied: python-gdcm in /home/hskha23/miniconda3/envs/tf/lib/python3.10/site-packages (3.0.24.1)\r\n"
     ]
    }
   ],
   "execution_count": 1
  },
  {
   "cell_type": "code",
   "id": "1294e5bb6af45456",
   "metadata": {
    "ExecuteTime": {
     "end_time": "2024-12-20T10:40:27.723300Z",
     "start_time": "2024-12-20T10:40:26.037756Z"
    }
   },
   "source": [
    "import os\n",
    "import random\n",
    "import numpy as np\n",
    "import pandas as pd\n",
    "import matplotlib.pyplot as plt\n",
    "import pydicom\n",
    "import cv2\n",
    "from skimage.transform import resize\n",
    "\n",
    "import torch\n",
    "import torch.nn as nn\n",
    "from torch.utils.data import Dataset, DataLoader\n",
    "import torch.optim as optim\n",
    "import torch.nn.functional as F\n",
    "import torchvision.models as models\n",
    "from torchvision.transforms import v2 as transforms\n",
    "\n",
    "import wandb\n",
    "\n",
    "from sklearn.model_selection import train_test_split\n",
    "from sklearn.metrics import accuracy_score, precision_score, recall_score, f1_score\n",
    "from sklearn.metrics import roc_curve, auc, confusion_matrix, ConfusionMatrixDisplay\n",
    "\n",
    "from pytorch_metric_learning import losses, miners\n",
    "\n",
    "import gpytorch\n",
    "from gpytorch.models import ApproximateGP\n",
    "from gpytorch.variational import CholeskyVariationalDistribution, VariationalStrategy\n",
    "\n",
    "import time\n",
    "\n",
    "os.environ['PYTORCH_CUDA_ALLOC_CONF'] = 'expandable_segments:True'"
   ],
   "outputs": [],
   "execution_count": 2
  },
  {
   "cell_type": "code",
   "id": "2efcebecbc1c916b",
   "metadata": {
    "ExecuteTime": {
     "end_time": "2024-12-20T10:40:27.747780Z",
     "start_time": "2024-12-20T10:40:27.746148Z"
    }
   },
   "source": [
    "import warnings\n",
    "from sklearn.exceptions import UndefinedMetricWarning\n",
    "\n",
    "warnings.filterwarnings(\"ignore\", category=RuntimeWarning)\n",
    "warnings.filterwarnings(\"ignore\", category=UndefinedMetricWarning)"
   ],
   "outputs": [],
   "execution_count": 3
  },
  {
   "cell_type": "markdown",
   "id": "e3f248b2eba173b1",
   "metadata": {},
   "source": [
    "# Init GPU"
   ]
  },
  {
   "cell_type": "code",
   "id": "8a90a1893a854dcf",
   "metadata": {
    "ExecuteTime": {
     "end_time": "2024-12-20T10:40:27.815595Z",
     "start_time": "2024-12-20T10:40:27.795318Z"
    }
   },
   "source": [
    "# Initialize GPU Device\n",
    "device = torch.device('cuda' if torch.cuda.is_available() else 'cpu')\n",
    "\n",
    "if torch.cuda.is_available():\n",
    "    print(f\"GPU: {torch.cuda.get_device_name(0)} is available.\")\n",
    "else:\n",
    "    print(\"No GPU available. Training will run on CPU.\")\n",
    "\n",
    "print(device)"
   ],
   "outputs": [
    {
     "name": "stdout",
     "output_type": "stream",
     "text": [
      "GPU: NVIDIA GeForce RTX 4070 SUPER is available.\n",
      "cuda\n"
     ]
    }
   ],
   "execution_count": 4
  },
  {
   "cell_type": "code",
   "id": "40177aca4bb9d795",
   "metadata": {
    "ExecuteTime": {
     "end_time": "2024-12-20T10:40:27.866749Z",
     "start_time": "2024-12-20T10:40:27.847569Z"
    }
   },
   "source": [
    "%load_ext autoreload\n",
    "%autoreload 2"
   ],
   "outputs": [],
   "execution_count": 5
  },
  {
   "cell_type": "markdown",
   "id": "bbd15ec0f4cd2b79",
   "metadata": {},
   "source": [
    "# Seed Everything"
   ]
  },
  {
   "cell_type": "code",
   "id": "d8b41189701bef25",
   "metadata": {
    "ExecuteTime": {
     "end_time": "2024-12-20T10:40:27.919359Z",
     "start_time": "2024-12-20T10:40:27.894674Z"
    }
   },
   "source": [
    "def seed_everything(seed=42):\n",
    "    random.seed(seed)\n",
    "    os.environ['PYTHONHASHSEED'] = str(seed)\n",
    "    np.random.seed(seed)\n",
    "    torch.manual_seed(seed)\n",
    "    torch.cuda.manual_seed(seed)\n",
    "    torch.cuda.manual_seed_all(seed)\n",
    "    torch.backends.cudnn.deterministic = True\n",
    "    torch.backends.cudnn.benchmark = False\n",
    "\n",
    "seed_everything()"
   ],
   "outputs": [],
   "execution_count": 6
  },
  {
   "cell_type": "markdown",
   "id": "5df48832a822c69c",
   "metadata": {},
   "source": [
    "# Config Information"
   ]
  },
  {
   "cell_type": "code",
   "id": "fc151d45596ffb6",
   "metadata": {
    "ExecuteTime": {
     "end_time": "2024-12-20T10:40:27.970843Z",
     "start_time": "2024-12-20T10:40:27.942830Z"
    }
   },
   "source": [
    "# Constants\n",
    "HEIGHT = 224\n",
    "WIDTH = 224\n",
    "CHANNELS = 1\n",
    "\n",
    "TRAIN_BATCH_SIZE = 4\n",
    "VALID_BATCH_SIZE = 2\n",
    "TEST_BATCH_SIZE = 2\n",
    "TEST_SIZE = 1\n",
    "VALID_SIZE = 0.15\n",
    "\n",
    "MAX_SLICES = 420\n",
    "# MAX_SLICES = 420\n",
    "SHAPE = (HEIGHT, WIDTH, CHANNELS)\n",
    "\n",
    "NUM_EPOCHS = 20\n",
    "LEARNING_RATE = 1e-4\n",
    "INDUCING_POINTS = 128\n",
    "THRESHOLD = 0.4\n",
    "\n",
    "# TARGET_LABELS = ['any', 'epidural', 'intraparenchymal', 'intraventricular', 'subarachnoid', 'subdural']\n",
    "TARGET_LABELS = ['intraparenchymal']\n",
    "\n",
    "MODEL_PATH = 'results/trained_model.pth'\n",
    "DEVICE = 'cuda'"
   ],
   "outputs": [],
   "execution_count": 7
  },
  {
   "cell_type": "markdown",
   "id": "35021eb57fa363eb",
   "metadata": {},
   "source": [
    "# Data Path"
   ]
  },
  {
   "cell_type": "code",
   "id": "b6a3c26c489f50d4",
   "metadata": {
    "ExecuteTime": {
     "end_time": "2024-12-20T10:40:28.032941Z",
     "start_time": "2024-12-20T10:40:28.002203Z"
    }
   },
   "source": [
    "DICOM_DIR = './archive'\n",
    "MODEL_PATH = '../rsna/results/trained_model.pth'\n",
    "\n",
    "CSV_PATH = './filtered_reads_without_nan.csv'\n",
    "patient_scan_labels = pd.read_csv(CSV_PATH)\n",
    "patient_scan_labels.head()"
   ],
   "outputs": [
    {
     "data": {
      "text/plain": [
       "         name Category  R1:ICH  R1:IPH  R1:IVH  R1:SDH  R1:EDH  R1:SAH  \\\n",
       "0  CQ500CT427       B2       1       1       0       0       0       0   \n",
       "1  CQ500CT181       B2       1       1       0       1       0       1   \n",
       "2   CQ500CT99       B1       0       0       0       0       0       0   \n",
       "3   CQ500CT47       B1       0       0       0       0       0       0   \n",
       "4  CQ500CT195       B1       0       0       0       0       0       0   \n",
       "\n",
       "   R2:ICH  R2:IPH  ...  R3:SDH  R3:EDH  R3:SAH  ICH  IPH  IVH  SDH  EDH  SAH  \\\n",
       "0       1       1  ...       0       0       0    1    1    0    0    0    0   \n",
       "1       1       0  ...       0       1       1    1    0    0    0    1    1   \n",
       "2       0       0  ...       0       0       0    0    0    0    0    0    0   \n",
       "3       0       0  ...       0       0       0    0    0    0    0    0    0   \n",
       "4       0       0  ...       0       0       0    0    0    0    0    0    0   \n",
       "\n",
       "             Source Folder  \n",
       "0              CT 2.55mm-2  \n",
       "1                   CT 5mm  \n",
       "2  CT PRE CONTRAST 5MM STD  \n",
       "3  CT PRE CONTRAST 5MM STD  \n",
       "4  CT PRE CONTRAST 5MM STD  \n",
       "\n",
       "[5 rows x 27 columns]"
      ],
      "text/html": [
       "<div>\n",
       "<style scoped>\n",
       "    .dataframe tbody tr th:only-of-type {\n",
       "        vertical-align: middle;\n",
       "    }\n",
       "\n",
       "    .dataframe tbody tr th {\n",
       "        vertical-align: top;\n",
       "    }\n",
       "\n",
       "    .dataframe thead th {\n",
       "        text-align: right;\n",
       "    }\n",
       "</style>\n",
       "<table border=\"1\" class=\"dataframe\">\n",
       "  <thead>\n",
       "    <tr style=\"text-align: right;\">\n",
       "      <th></th>\n",
       "      <th>name</th>\n",
       "      <th>Category</th>\n",
       "      <th>R1:ICH</th>\n",
       "      <th>R1:IPH</th>\n",
       "      <th>R1:IVH</th>\n",
       "      <th>R1:SDH</th>\n",
       "      <th>R1:EDH</th>\n",
       "      <th>R1:SAH</th>\n",
       "      <th>R2:ICH</th>\n",
       "      <th>R2:IPH</th>\n",
       "      <th>...</th>\n",
       "      <th>R3:SDH</th>\n",
       "      <th>R3:EDH</th>\n",
       "      <th>R3:SAH</th>\n",
       "      <th>ICH</th>\n",
       "      <th>IPH</th>\n",
       "      <th>IVH</th>\n",
       "      <th>SDH</th>\n",
       "      <th>EDH</th>\n",
       "      <th>SAH</th>\n",
       "      <th>Source Folder</th>\n",
       "    </tr>\n",
       "  </thead>\n",
       "  <tbody>\n",
       "    <tr>\n",
       "      <th>0</th>\n",
       "      <td>CQ500CT427</td>\n",
       "      <td>B2</td>\n",
       "      <td>1</td>\n",
       "      <td>1</td>\n",
       "      <td>0</td>\n",
       "      <td>0</td>\n",
       "      <td>0</td>\n",
       "      <td>0</td>\n",
       "      <td>1</td>\n",
       "      <td>1</td>\n",
       "      <td>...</td>\n",
       "      <td>0</td>\n",
       "      <td>0</td>\n",
       "      <td>0</td>\n",
       "      <td>1</td>\n",
       "      <td>1</td>\n",
       "      <td>0</td>\n",
       "      <td>0</td>\n",
       "      <td>0</td>\n",
       "      <td>0</td>\n",
       "      <td>CT 2.55mm-2</td>\n",
       "    </tr>\n",
       "    <tr>\n",
       "      <th>1</th>\n",
       "      <td>CQ500CT181</td>\n",
       "      <td>B2</td>\n",
       "      <td>1</td>\n",
       "      <td>1</td>\n",
       "      <td>0</td>\n",
       "      <td>1</td>\n",
       "      <td>0</td>\n",
       "      <td>1</td>\n",
       "      <td>1</td>\n",
       "      <td>0</td>\n",
       "      <td>...</td>\n",
       "      <td>0</td>\n",
       "      <td>1</td>\n",
       "      <td>1</td>\n",
       "      <td>1</td>\n",
       "      <td>0</td>\n",
       "      <td>0</td>\n",
       "      <td>0</td>\n",
       "      <td>1</td>\n",
       "      <td>1</td>\n",
       "      <td>CT 5mm</td>\n",
       "    </tr>\n",
       "    <tr>\n",
       "      <th>2</th>\n",
       "      <td>CQ500CT99</td>\n",
       "      <td>B1</td>\n",
       "      <td>0</td>\n",
       "      <td>0</td>\n",
       "      <td>0</td>\n",
       "      <td>0</td>\n",
       "      <td>0</td>\n",
       "      <td>0</td>\n",
       "      <td>0</td>\n",
       "      <td>0</td>\n",
       "      <td>...</td>\n",
       "      <td>0</td>\n",
       "      <td>0</td>\n",
       "      <td>0</td>\n",
       "      <td>0</td>\n",
       "      <td>0</td>\n",
       "      <td>0</td>\n",
       "      <td>0</td>\n",
       "      <td>0</td>\n",
       "      <td>0</td>\n",
       "      <td>CT PRE CONTRAST 5MM STD</td>\n",
       "    </tr>\n",
       "    <tr>\n",
       "      <th>3</th>\n",
       "      <td>CQ500CT47</td>\n",
       "      <td>B1</td>\n",
       "      <td>0</td>\n",
       "      <td>0</td>\n",
       "      <td>0</td>\n",
       "      <td>0</td>\n",
       "      <td>0</td>\n",
       "      <td>0</td>\n",
       "      <td>0</td>\n",
       "      <td>0</td>\n",
       "      <td>...</td>\n",
       "      <td>0</td>\n",
       "      <td>0</td>\n",
       "      <td>0</td>\n",
       "      <td>0</td>\n",
       "      <td>0</td>\n",
       "      <td>0</td>\n",
       "      <td>0</td>\n",
       "      <td>0</td>\n",
       "      <td>0</td>\n",
       "      <td>CT PRE CONTRAST 5MM STD</td>\n",
       "    </tr>\n",
       "    <tr>\n",
       "      <th>4</th>\n",
       "      <td>CQ500CT195</td>\n",
       "      <td>B1</td>\n",
       "      <td>0</td>\n",
       "      <td>0</td>\n",
       "      <td>0</td>\n",
       "      <td>0</td>\n",
       "      <td>0</td>\n",
       "      <td>0</td>\n",
       "      <td>0</td>\n",
       "      <td>0</td>\n",
       "      <td>...</td>\n",
       "      <td>0</td>\n",
       "      <td>0</td>\n",
       "      <td>0</td>\n",
       "      <td>0</td>\n",
       "      <td>0</td>\n",
       "      <td>0</td>\n",
       "      <td>0</td>\n",
       "      <td>0</td>\n",
       "      <td>0</td>\n",
       "      <td>CT PRE CONTRAST 5MM STD</td>\n",
       "    </tr>\n",
       "  </tbody>\n",
       "</table>\n",
       "<p>5 rows × 27 columns</p>\n",
       "</div>"
      ]
     },
     "execution_count": 8,
     "metadata": {},
     "output_type": "execute_result"
    }
   ],
   "execution_count": 8
  },
  {
   "cell_type": "markdown",
   "id": "e2b70d972cf4c16",
   "metadata": {},
   "source": [
    "# Data Preprocessing"
   ]
  },
  {
   "cell_type": "code",
   "id": "745da504c8ef0eed",
   "metadata": {
    "ExecuteTime": {
     "end_time": "2024-12-20T10:40:28.072728Z",
     "start_time": "2024-12-20T10:40:28.054488Z"
    }
   },
   "source": [
    "def correct_dcm(dcm):\n",
    "    x = dcm.pixel_array + 1000\n",
    "    px_mode = 4096\n",
    "    x[x>=px_mode] = x[x>=px_mode] - px_mode\n",
    "    dcm.PixelData = x.tobytes()\n",
    "    dcm.RescaleIntercept = -1000\n",
    "\n",
    "def window_image(dcm, window_center, window_width):\n",
    "    if (dcm.BitsStored == 12) and (dcm.PixelRepresentation == 0) and (int(dcm.RescaleIntercept) > -100):\n",
    "        correct_dcm(dcm)\n",
    "    # extract_bone_mask(dcm)\n",
    "    img = dcm.pixel_array * dcm.RescaleSlope + dcm.RescaleIntercept\n",
    "\n",
    "    # Resize\n",
    "    img = cv2.resize(img, SHAPE[:2], interpolation = cv2.INTER_LINEAR)\n",
    "\n",
    "    img_min = window_center - window_width // 2\n",
    "    img_max = window_center + window_width // 2\n",
    "    img = np.clip(img, img_min, img_max)\n",
    "    return img\n",
    "\n",
    "def bsb_window(dcm):\n",
    "    brain_img = window_image(dcm, 40, 90)\n",
    "    subdural_img = window_image(dcm, 80, 200)\n",
    "    soft_img = window_image(dcm, 40, 380)\n",
    "\n",
    "    brain_img = (brain_img - 0) / 90\n",
    "    subdural_img = (subdural_img - (-20)) / 200\n",
    "    soft_img = (soft_img - (-150)) / 380\n",
    "\n",
    "    if CHANNELS == 3:\n",
    "        bsb_img = np.stack([brain_img, subdural_img, soft_img], axis=-1)\n",
    "    else:\n",
    "        bsb_img = brain_img\n",
    "    return bsb_img.astype(np.float16)"
   ],
   "outputs": [],
   "execution_count": 9
  },
  {
   "cell_type": "code",
   "id": "944c27bb7464ceb2",
   "metadata": {
    "ExecuteTime": {
     "end_time": "2024-12-20T10:40:28.116613Z",
     "start_time": "2024-12-20T10:40:28.099847Z"
    }
   },
   "source": [
    "def preprocess_slice(slice, target_size=(HEIGHT, WIDTH)):\n",
    "    # Check if type of slice is dicom or an empty numpy array\n",
    "    if (type(slice) == np.ndarray):\n",
    "        slice = resize(slice, target_size, anti_aliasing=True)\n",
    "        multichannel_slice = np.stack([slice, slice, slice], axis=-1)\n",
    "        if CHANNELS == 3:\n",
    "            return multichannel_slice.astype(np.float16)\n",
    "        else:\n",
    "            return slice.astype(np.float16)\n",
    "    else:\n",
    "        slice = bsb_window(slice)\n",
    "        return slice.astype(np.float16)"
   ],
   "outputs": [],
   "execution_count": 10
  },
  {
   "cell_type": "code",
   "id": "5a614505bc1df891",
   "metadata": {
    "ExecuteTime": {
     "end_time": "2024-12-20T10:40:28.173205Z",
     "start_time": "2024-12-20T10:40:28.155717Z"
    }
   },
   "source": [
    "def read_dicom_folder(folder_path, max_slices=MAX_SLICES, test_phase=None):\n",
    "    # Filter and sort DICOM files directly based on ImagePositionPatient\n",
    "    dicom_files = sorted(\n",
    "        [f for f in os.listdir(folder_path) if f.endswith(\".dcm\")],\n",
    "        key=lambda f: float(pydicom.dcmread(os.path.join(folder_path, f)).ImagePositionPatient[2])\n",
    "    )[:max_slices]\n",
    "\n",
    "    # Read and store slices\n",
    "    slices = [pydicom.dcmread(os.path.join(folder_path, f)) for f in dicom_files]\n",
    "\n",
    "    if test_phase == None:\n",
    "        # Pad with black images if necessary\n",
    "        if len(slices) < max_slices:\n",
    "            black_image = np.zeros_like(slices[0].pixel_array)\n",
    "            slices += [black_image] * (max_slices - len(slices))\n",
    "\n",
    "        return slices[:max_slices]\n",
    "    else:\n",
    "        return slices"
   ],
   "outputs": [],
   "execution_count": 11
  },
  {
   "cell_type": "markdown",
   "id": "a51457341ea18766",
   "metadata": {},
   "source": [
    "# Dataset and DataLoader"
   ]
  },
  {
   "cell_type": "markdown",
   "id": "db6475d1a47bd019",
   "metadata": {},
   "source": [
    "## Splitting Data"
   ]
  },
  {
   "cell_type": "code",
   "id": "c06837a2484215b5",
   "metadata": {
    "ExecuteTime": {
     "end_time": "2024-12-20T10:40:28.255812Z",
     "start_time": "2024-12-20T10:40:28.234361Z"
    }
   },
   "source": [
    "def split_dataset(patient_scan_labels, test_size=TEST_SIZE, val_size=VALID_SIZE, random_state=42):\n",
    "    # # Extract the labels from the DataFrame\n",
    "    # labels = patient_scan_labels['ICH']\n",
    "    #\n",
    "    # # First, split off the test set\n",
    "    # train_val_labels, test_labels = train_test_split(\n",
    "    #     patient_scan_labels,\n",
    "    #     test_size=test_size,\n",
    "    #     stratify=labels,\n",
    "    #     random_state=random_state\n",
    "    # )\n",
    "    #\n",
    "    # # Calculate the validation size relative to the train_val set\n",
    "    # val_size_adjusted = val_size / (1 - test_size)\n",
    "    #\n",
    "    # # Split the train_val set into train and validation sets\n",
    "    # train_labels, val_labels = train_test_split(\n",
    "    #     train_val_labels,\n",
    "    #     test_size=val_size_adjusted,\n",
    "    #     stratify=train_val_labels['ICH'],\n",
    "    #     random_state=random_state\n",
    "    # )\n",
    "    #\n",
    "    # return train_labels, val_labels, test_labels\n",
    "    # Return all data as test set and no training or validation sets\n",
    "    test_labels = patient_scan_labels\n",
    "    return None, None, test_labels"
   ],
   "outputs": [],
   "execution_count": 12
  },
  {
   "cell_type": "markdown",
   "id": "9811bdbe53f8f8ff",
   "metadata": {},
   "source": [
    "## Processing the Data"
   ]
  },
  {
   "cell_type": "code",
   "id": "ce546699300006b6",
   "metadata": {
    "ExecuteTime": {
     "end_time": "2024-12-20T10:40:28.298545Z",
     "start_time": "2024-12-20T10:40:28.280284Z"
    }
   },
   "source": [
    "def process_patient_data(dicom_dir, row, test_phase=None, num_instance=12, depth=5):\n",
    "    patient_folder_name = str(row['name'])\n",
    "    dicom_folder = str(row['Source Folder'])\n",
    "\n",
    "    patient_folder_path = os.path.join(dicom_dir, patient_folder_name, 'Unknown Study', dicom_folder)\n",
    "\n",
    "    if os.path.exists(patient_folder_path):\n",
    "        slices = read_dicom_folder(patient_folder_path, test_phase=test_phase)\n",
    "        preprocessed_slices = [torch.tensor(preprocess_slice(slice), dtype=torch.float32) for slice in slices]\n",
    "\n",
    "        # Stack preprocessed slices into an array\n",
    "        preprocessed_slices = torch.stack(preprocessed_slices, dim=0)  # (num_slices, height, width, channels)\n",
    "\n",
    "        # # Labels are already in list form, so just convert them to a tensor\n",
    "        # labels = torch.tensor(row['ICH'], dtype=torch.long)\n",
    "\n",
    "        # # Fill labels with 0s if necessary\n",
    "        # if len(preprocessed_slices) > len(labels):\n",
    "        #     padded_labels = torch.zeros(len(preprocessed_slices), dtype=torch.long)\n",
    "        #     padded_labels[:len(labels)] = labels\n",
    "        # else:\n",
    "        #     padded_labels = labels[:len(preprocessed_slices)]\n",
    "        padded_labels = []\n",
    "\n",
    "        return preprocessed_slices, padded_labels\n",
    "    else:\n",
    "        print(f'Folder {patient_folder_path} does not exist.')\n",
    "        return None, None"
   ],
   "outputs": [],
   "execution_count": 13
  },
  {
   "cell_type": "markdown",
   "id": "4dcd79804ea73577",
   "metadata": {},
   "source": [
    "## Dataset Generator"
   ]
  },
  {
   "cell_type": "code",
   "id": "97ac24cd4f2b727b",
   "metadata": {
    "ExecuteTime": {
     "end_time": "2024-12-20T10:40:28.354992Z",
     "start_time": "2024-12-20T10:40:28.335543Z"
    }
   },
   "source": [
    "class CQ500Dataset:\n",
    "    def __init__(self, dicom_dir, patient_scan_labels):\n",
    "        self.dicom_dir = dicom_dir\n",
    "        self.patient_scan_labels = patient_scan_labels\n",
    "\n",
    "    def _parse_patient_scan_labels(self, patient_scan_labels):\n",
    "        \"\"\"Parse and validate patient scan labels.\"\"\"\n",
    "        patient_scan_labels['name'] = patient_scan_labels['name'].apply(\n",
    "            lambda x: eval(x) if isinstance(x, str) else x\n",
    "        )\n",
    "        patient_scan_labels['Source File'] = patient_scan_labels['Source File'].apply(\n",
    "            lambda x: eval(x) if isinstance(x, str) else x\n",
    "        )\n",
    "        # patient_scan_labels['R1:ICH'] = patient_scan_labels['R1:ICH'].astype(bool)\n",
    "        return patient_scan_labels\n",
    "\n",
    "    def _process_patient_data(self, row):\n",
    "        return process_patient_data(self.dicom_dir, row)\n",
    "\n",
    "    def __len__(self):\n",
    "        return len(self.patient_scan_labels)\n",
    "\n",
    "    def __getitem__(self, idx):\n",
    "        row = self.patient_scan_labels.iloc[idx]\n",
    "        preprocessed_slices, labels = self._process_patient_data(row)\n",
    "\n",
    "        preprocessed_slices = self._prepare_tensor(preprocessed_slices)\n",
    "        patient_label = torch.tensor(bool(row['ICH']), dtype=torch.uint8)\n",
    "\n",
    "        return preprocessed_slices, labels, patient_label\n",
    "\n",
    "    def _prepare_tensor(self, preprocessed_slices):\n",
    "        # Convert to numpy array and then to torch tensor\n",
    "        preprocessed_slices = np.array(preprocessed_slices)\n",
    "        preprocessed_slices = torch.tensor(preprocessed_slices, dtype=torch.float32)\n",
    "\n",
    "        # Add an additional dimension for channel if it's missing (no augmentor)\n",
    "        if preprocessed_slices.ndim == 3:\n",
    "            preprocessed_slices = preprocessed_slices.unsqueeze(1)  # shape: [slices, 1, H, W]\n",
    "\n",
    "        return preprocessed_slices  # Return without augmentation if augmentor is None\n",
    "\n",
    "class CQ500Dataset_TestPhase:\n",
    "    def __init__(self, dicom_dir, patient_scan_labels):\n",
    "        self.dicom_dir = dicom_dir\n",
    "        self.patient_scan_labels = patient_scan_labels\n",
    "\n",
    "    def _parse_patient_scan_labels(self, patient_scan_labels):\n",
    "        \"\"\"Parse and validate patient scan labels.\"\"\"\n",
    "        patient_scan_labels['name'] = patient_scan_labels['name'].apply(\n",
    "            lambda x: eval(x) if isinstance(x, str) else x\n",
    "        )\n",
    "        patient_scan_labels['Source File'] = patient_scan_labels['Source File'].apply(\n",
    "            lambda x: eval(x) if isinstance(x, str) else x\n",
    "        )\n",
    "        patient_scan_labels['ICH'] = patient_scan_labels['ICH'].astype(bool)\n",
    "        return patient_scan_labels\n",
    "\n",
    "    def _process_patient_data(self, row):\n",
    "        return process_patient_data(self.dicom_dir, row, 'TEST')\n",
    "\n",
    "    def __len__(self):\n",
    "        return len(self.patient_scan_labels)\n",
    "\n",
    "    def __getitem__(self, idx):\n",
    "        row = self.patient_scan_labels.iloc[idx]\n",
    "        preprocessed_slices, labels = self._process_patient_data(row)\n",
    "\n",
    "        preprocessed_slices = self._prepare_tensor(preprocessed_slices)\n",
    "        patient_label = torch.tensor(bool(row['ICH']), dtype=torch.uint8)\n",
    "\n",
    "        return preprocessed_slices, labels, patient_label\n",
    "\n",
    "    def _prepare_tensor(self, preprocessed_slices):\n",
    "        # Convert to numpy array and then to torch tensor\n",
    "        preprocessed_slices = np.array(preprocessed_slices)\n",
    "        preprocessed_slices = torch.tensor(preprocessed_slices, dtype=torch.float32)\n",
    "\n",
    "        # Add an additional dimension for channel if it's missing (no augmentor)\n",
    "        if preprocessed_slices.ndim == 3:\n",
    "            preprocessed_slices = preprocessed_slices.unsqueeze(1)  # shape: [slices, 1, H, W]\n",
    "\n",
    "        return preprocessed_slices  # Return without augmentation if augmentor is None"
   ],
   "outputs": [],
   "execution_count": 14
  },
  {
   "cell_type": "code",
   "id": "210e83be43f41d20",
   "metadata": {
    "ExecuteTime": {
     "end_time": "2024-12-20T10:40:28.409593Z",
     "start_time": "2024-12-20T10:40:28.392217Z"
    }
   },
   "source": [
    "class TrainDatasetGenerator(CQ500Dataset):\n",
    "    \"\"\"Dataset class for training medical scan data.\"\"\"\n",
    "    def __init__(self, data_dir, patient_scan_labels):\n",
    "        super().__init__(data_dir, patient_scan_labels)\n",
    "\n",
    "class TestDatasetGenerator(CQ500Dataset):\n",
    "    \"\"\"Dataset class for testing medical scan data.\"\"\"\n",
    "    def __init__(self, data_dir, patient_scan_labels):\n",
    "        super().__init__(data_dir, patient_scan_labels)"
   ],
   "outputs": [],
   "execution_count": 15
  },
  {
   "cell_type": "code",
   "id": "87ce35f6f5569c27",
   "metadata": {
    "ExecuteTime": {
     "end_time": "2024-12-20T10:40:30.428231Z",
     "start_time": "2024-12-20T10:40:28.435595Z"
    }
   },
   "source": [
    "original_dataset = TrainDatasetGenerator(DICOM_DIR, patient_scan_labels)\n",
    "print(f'Length of Original Dataset: {len(original_dataset)}')\n",
    "\n",
    "x,y,z = original_dataset[0]\n",
    "# print(x.shape, y.shape, z.shape)"
   ],
   "outputs": [
    {
     "name": "stdout",
     "output_type": "stream",
     "text": [
      "Length of Original Dataset: 473\n"
     ]
    }
   ],
   "execution_count": 16
  },
  {
   "cell_type": "code",
   "id": "2223e4aa8522df41",
   "metadata": {
    "ExecuteTime": {
     "end_time": "2024-12-20T10:40:30.453044Z",
     "start_time": "2024-12-20T10:40:30.436567Z"
    }
   },
   "source": [
    "def get_train_loader(dicom_dir, patient_scan_labels, batch_size=TRAIN_BATCH_SIZE):\n",
    "    # original_dataset = TrainDatasetGenerator(dicom_dir, patient_scan_labels, augmentor=augmentor)\n",
    "    original_dataset = TrainDatasetGenerator(dicom_dir, patient_scan_labels)\n",
    "    return DataLoader(original_dataset, batch_size=batch_size, shuffle=True, num_workers=4, pin_memory=True, drop_last=True)\n",
    "\n",
    "def get_test_loader(dicom_dir, patient_scan_labels, batch_size=TEST_BATCH_SIZE):\n",
    "    test_dataset = TestDatasetGenerator(dicom_dir, patient_scan_labels)\n",
    "    return DataLoader(test_dataset, batch_size=batch_size, shuffle=True, num_workers=4, pin_memory=True, drop_last=True)"
   ],
   "outputs": [],
   "execution_count": 17
  },
  {
   "cell_type": "markdown",
   "id": "d00b5b226bdfc963",
   "metadata": {},
   "source": [
    "# Contrastive Loss and Augmentation\n",
    "\n"
   ]
  },
  {
   "cell_type": "markdown",
   "id": "521aa9ab0fb50a54",
   "metadata": {},
   "source": [
    "## NTXentLoss"
   ]
  },
  {
   "cell_type": "code",
   "id": "71c6e81e2c93125d",
   "metadata": {
    "ExecuteTime": {
     "end_time": "2024-12-20T10:40:30.507223Z",
     "start_time": "2024-12-20T10:40:30.489528Z"
    }
   },
   "source": [
    "class NTXentLoss(losses.NTXentLoss):\n",
    "    def __init__(self, temperature, **kwargs):\n",
    "        super().__init__(temperature=temperature, **kwargs)\n",
    "        self.temperature = temperature\n",
    "\n",
    "    def forward(self, embeddings1, embeddings2, labels=None, hard_pairs=None):\n",
    "        # Concatenate the embeddings\n",
    "        embeddings = torch.cat([embeddings1, embeddings2], dim=0)\n",
    "        # Normalize feature vectors\n",
    "        feature_vectors_normalized = F.normalize(embeddings, p=2, dim=1)\n",
    "\n",
    "        if labels == None:\n",
    "            # Self-supervised labels\n",
    "            labels = torch.arange(feature_vectors_normalized.size(0))\n",
    "        else:\n",
    "            # Supervised labels\n",
    "            labels = torch.cat([labels, labels], dim=0)\n",
    "\n",
    "        # Compute logits\n",
    "        logits = torch.div(\n",
    "            torch.matmul(\n",
    "                feature_vectors_normalized, torch.transpose(feature_vectors_normalized, 0, 1)\n",
    "            ),\n",
    "            self.temperature,\n",
    "        )\n",
    "\n",
    "        if labels == None:\n",
    "            return losses.NTXentLoss(temperature=self.temperature)(logits, torch.squeeze(labels))\n",
    "        return losses.SupConLoss(temperature=self.temperature)(logits, torch.squeeze(labels), hard_pairs)"
   ],
   "outputs": [],
   "execution_count": 18
  },
  {
   "cell_type": "markdown",
   "id": "c2e5a251520b579e",
   "metadata": {},
   "source": [
    "## Miner"
   ]
  },
  {
   "cell_type": "code",
   "id": "8753411baf3deb47",
   "metadata": {
    "ExecuteTime": {
     "end_time": "2024-12-20T10:40:30.569255Z",
     "start_time": "2024-12-20T10:40:30.548543Z"
    }
   },
   "source": [
    "from pytorch_metric_learning.miners import BaseMiner\n",
    "from pytorch_metric_learning.utils import loss_and_miner_utils as lmu\n",
    "\n",
    "class ExamplePairMiner(BaseMiner):\n",
    "    def __init__(self, margin=0.1, **kwargs):\n",
    "        super().__init__(**kwargs)\n",
    "        self.margin = margin\n",
    "\n",
    "    def mine(self, embeddings, labels, ref_emb, ref_labels):\n",
    "        mat = self.distance(embeddings, ref_emb)\n",
    "        a1, p, a2, n = lmu.get_all_pairs_indices(labels, ref_labels)\n",
    "        pos_pairs = mat[a1, p]\n",
    "        neg_pairs = mat[a2, n]\n",
    "        pos_mask = (\n",
    "            pos_pairs < self.margin\n",
    "            if self.distance.is_inverted\n",
    "            else pos_pairs > self.margin\n",
    "        )\n",
    "        neg_mask = (\n",
    "            neg_pairs > self.margin\n",
    "            if self.distance.is_inverted\n",
    "            else neg_pairs < self.margin\n",
    "        )\n",
    "        return a1[pos_mask], p[pos_mask], a2[neg_mask], n[neg_mask]"
   ],
   "outputs": [],
   "execution_count": 19
  },
  {
   "cell_type": "markdown",
   "id": "1ce0a604a72885fd",
   "metadata": {},
   "source": [
    "## Augmentation for Contrastive Learning"
   ]
  },
  {
   "cell_type": "code",
   "id": "807b5602a4e7bbdc",
   "metadata": {
    "ExecuteTime": {
     "end_time": "2024-12-20T10:40:30.621487Z",
     "start_time": "2024-12-20T10:40:30.603959Z"
    }
   },
   "source": [
    "# Version 2: Avg time taken: 0.05 seconds for 1 augmentation (w ResizedCrop)\n",
    "def augment_batch(batch_images):\n",
    "    batch_size, num_instances, channels, height, width = batch_images.shape\n",
    "\n",
    "    # Define augmentation transformations using GPU-compatible operations\n",
    "    aug_transform = transforms.Compose([\n",
    "        transforms.RandomResizedCrop((224, 224), scale=(0.8, 1.1)),\n",
    "        # transforms.RandomRotation(degrees=(-5, 5)),\n",
    "        transforms.RandomApply([transforms.ColorJitter(brightness=0.4, contrast=0.4, saturation=0.4, hue=0.4)], p=0.6),\n",
    "        transforms.RandomHorizontalFlip(p=0.5),\n",
    "    ])\n",
    "\n",
    "    # Apply transformations directly on the tensor without converting to PIL\n",
    "    augmented_batch = torch.empty_like(batch_images)  # Preallocate memory for augmented images\n",
    "\n",
    "    for i in range(batch_size):\n",
    "        for j in range(num_instances):\n",
    "            # Apply the transformation directly to the tensor\n",
    "            if CHANNELS == 1:\n",
    "                augmented_batch[i, j] = aug_transform(batch_images[i, j])\n",
    "            else:\n",
    "                augmented_batch[i, j] = aug_transform(batch_images[i, j].permute(2, 0, 1)).permute(1, 2, 0)\n",
    "\n",
    "    return augmented_batch.cuda()  # Move the augmented batch to GPU"
   ],
   "outputs": [],
   "execution_count": 20
  },
  {
   "cell_type": "markdown",
   "id": "a142b7761a4e02ed",
   "metadata": {},
   "source": [
    "# CNN Feature Extractor"
   ]
  },
  {
   "cell_type": "markdown",
   "id": "af5c7fab3a2cf87",
   "metadata": {},
   "source": [
    "## Utilities"
   ]
  },
  {
   "cell_type": "code",
   "id": "4bca62d3c4ae8db9",
   "metadata": {
    "ExecuteTime": {
     "end_time": "2024-12-20T10:40:30.671056Z",
     "start_time": "2024-12-20T10:40:30.648201Z"
    }
   },
   "source": [
    "# import utils.attention as AttentionLayer\n",
    "# import utils.gaussian_process as GPModel\n",
    "import utils.attention as AttentionLayer\n",
    "import utils.gaussian_process as GPModel"
   ],
   "outputs": [],
   "execution_count": 21
  },
  {
   "cell_type": "markdown",
   "id": "a11c4819ca457b6f",
   "metadata": {},
   "source": [
    "## ResNet18"
   ]
  },
  {
   "cell_type": "code",
   "id": "d9c686f4e9f7c4",
   "metadata": {
    "ExecuteTime": {
     "end_time": "2024-12-20T10:40:30.716225Z",
     "start_time": "2024-12-20T10:40:30.694094Z"
    }
   },
   "source": [
    "# import models.mil_resnet as MILResNet18\n",
    "#\n",
    "# model_params = {\n",
    "#     'channels': CHANNELS,\n",
    "#     'projection_location': 'after_gp',\n",
    "#     'projection_hidden_dim': 256,\n",
    "#     'projection_output_dim': 128\n",
    "# }\n",
    "#\n",
    "# model = MILResNet18.MILResNet18(params=model_params)\n",
    "\n",
    "\n",
    "class GPModel(gpytorch.models.ApproximateGP):\n",
    "    def __init__(self, inducing_points):\n",
    "        variational_distribution = gpytorch.variational.CholeskyVariationalDistribution(inducing_points.size(0))\n",
    "        variational_strategy = gpytorch.variational.VariationalStrategy(\n",
    "            self, inducing_points, variational_distribution, learn_inducing_locations=True\n",
    "        )\n",
    "        super(GPModel, self).__init__(variational_strategy)\n",
    "        self.mean_module = gpytorch.means.ConstantMean()\n",
    "        self.covar_module = gpytorch.kernels.ScaleKernel(gpytorch.kernels.RBFKernel())\n",
    "\n",
    "    def forward(self, x):\n",
    "        mean_x = self.mean_module(x)\n",
    "        covar_x = self.covar_module(x)\n",
    "        return gpytorch.distributions.MultivariateNormal(mean_x, covar_x)\n",
    "\n",
    "class MILResNet18(nn.Module):\n",
    "    def __init__(self):\n",
    "        super(MILResNet18, self).__init__()\n",
    "        self.resnet = models.resnet18(weights=models.ResNet18_Weights.DEFAULT)\n",
    "        self.resnet.conv1 = nn.Conv2d(in_channels=CHANNELS, out_channels=64, kernel_size=7, stride=2, padding=3,\n",
    "                                      bias=False)\n",
    "\n",
    "        self.resnet.fc = nn.Identity()\n",
    "\n",
    "        # self.attention = AttentionLayer(input_dim=512, hidden_dim=512)\n",
    "        self.attention = AttentionLayer.GatedAttention(input_dim=512, hidden_dim=512)\n",
    "\n",
    "        self.classifier = nn.Linear(512 + 1, 1)\n",
    "        self.attention_classifier = nn.Linear(512, 1)\n",
    "        self.dropout = nn.Dropout(0.4)\n",
    "\n",
    "        inducing_points = torch.randn(32, 512)\n",
    "        self.gp_layer = GPModel(inducing_points=inducing_points)\n",
    "\n",
    "        self.projection_head = nn.Sequential(\n",
    "            nn.Linear(512 + 1, 256),\n",
    "            nn.ReLU(),\n",
    "            nn.Linear(256, 128)\n",
    "        )\n",
    "\n",
    "    def forward(self, bags):\n",
    "        if CHANNELS == 1:\n",
    "            batch_size, num_instances, c, h, w = bags.size()\n",
    "        else:\n",
    "            batch_size, num_instances, h, w, c = bags.size()\n",
    "\n",
    "        bags_flattened = bags.view(batch_size * num_instances, c, h, w)\n",
    "\n",
    "        # # Version 1: CNN-ResNet + Att + GP\n",
    "        features = self.resnet(bags_flattened)\n",
    "        features = self.dropout(features)\n",
    "        features = features.view(batch_size, num_instances, -1)\n",
    "\n",
    "        # projection_head = self.projection_head(features.view(batch_size * num_instances, -1))\n",
    "\n",
    "        attended_features, attended_weights = self.attention(features)\n",
    "        # attended_features_reshaped = attended_features.view(-1, 512)\n",
    "        attended_features_reshaped = attended_features.view(batch_size, -1)\n",
    "\n",
    "        # Ver2.1\n",
    "        # projection_head = self.projection_head(attended_features_reshaped)\n",
    "        # Ver2.2\n",
    "        # projection_head = attended_features_reshaped\n",
    "\n",
    "        # CNN_ATT_GP\n",
    "        gp_output = self.gp_layer(attended_features_reshaped)\n",
    "        gp_mean = gp_output.mean.view(batch_size, -1)\n",
    "\n",
    "        combine_features = torch.cat((attended_features, gp_mean), dim=1)\n",
    "\n",
    "        projection_head = self.projection_head(combine_features)\n",
    "\n",
    "        combine_features = self.dropout(combine_features)\n",
    "\n",
    "        outputs = torch.sigmoid(self.classifier(combine_features))\n",
    "        att_outputs = torch.sigmoid(self.attention_classifier(attended_features_reshaped))\n",
    "\n",
    "        return outputs, att_outputs, attended_weights, gp_output, projection_head"
   ],
   "outputs": [],
   "execution_count": 22
  },
  {
   "cell_type": "markdown",
   "id": "42e1e16f4e62ce78",
   "metadata": {},
   "source": [
    "# Training and Evaluation"
   ]
  },
  {
   "cell_type": "markdown",
   "id": "287d48fa73919a88",
   "metadata": {},
   "source": [
    "## Loss Functions"
   ]
  },
  {
   "cell_type": "code",
   "id": "949fb40502a11470",
   "metadata": {
    "ExecuteTime": {
     "end_time": "2024-12-20T10:40:30.760555Z",
     "start_time": "2024-12-20T10:40:30.743090Z"
    }
   },
   "source": [
    "def combined_loss(outputs, gp_distribution, target, alpha=0.5):\n",
    "    # Cross-Entropy Loss for CNN outputs\n",
    "    bce_loss = nn.BCELoss()(outputs.squeeze(), target.float())\n",
    "    kl_divergence = gp_distribution.variational_strategy.kl_divergence()\n",
    "    total_loss = (1 - alpha) * bce_loss + alpha * kl_divergence\n",
    "\n",
    "    return total_loss"
   ],
   "outputs": [],
   "execution_count": 23
  },
  {
   "cell_type": "markdown",
   "id": "739d71ea92634858",
   "metadata": {},
   "source": [
    "## Training"
   ]
  },
  {
   "cell_type": "code",
   "id": "a13ee774cf794adf",
   "metadata": {
    "ExecuteTime": {
     "end_time": "2024-12-20T10:40:30.816276Z",
     "start_time": "2024-12-20T10:40:30.789804Z"
    }
   },
   "source": [
    "def train_epoch(model, data_loader, criterion_cl, criterion_bce, optimizer, scheduler, device):\n",
    "    total_loss = 0.0\n",
    "    alpha = 0.5\n",
    "    predictions = []\n",
    "    labels = []\n",
    "\n",
    "    loss, NTXLoss, loss_mod_1, loss_mod_2 = 0, 0, 0, 0\n",
    "    output_1 = None\n",
    "\n",
    "    model.train()\n",
    "\n",
    "    for batch_data, batch_labels, batch_patient_labels in data_loader:\n",
    "        batch_data = batch_data.to(device)\n",
    "        batch_patient_labels = batch_patient_labels.float().to(device)\n",
    "        optimizer.zero_grad()\n",
    "\n",
    "        aug1 = augment_batch(batch_data).cuda()\n",
    "        aug2 = augment_batch(batch_data).cuda()\n",
    "\n",
    "        if isinstance(model, MILResNet18.MILResNet18):\n",
    "            output_1, attention_out_1, _, _, proj_head_1 = model(aug1)\n",
    "            output_2, attention_out_2, _, _, proj_head_2 = model(aug2)\n",
    "\n",
    "            miner_func = ExamplePairMiner()\n",
    "            hard_pairs = miner_func(torch.cat([output_1, output_2], dim=0), torch.cat([batch_patient_labels, batch_patient_labels], dim=0))\n",
    "\n",
    "            NTXLoss = criterion_cl(proj_head_1, proj_head_2, batch_patient_labels, hard_pairs)\n",
    "            loss_mod_1 = combined_loss(output_1, model.gp_layer, batch_patient_labels)\n",
    "            loss_mod_2 = combined_loss(output_2, model.gp_layer, batch_patient_labels)\n",
    "            loss = NTXLoss * 0.7 + loss_mod_1 * 0.15 + loss_mod_2 * 0.15\n",
    "\n",
    "        loss = loss.mean()\n",
    "        total_loss += loss.item()\n",
    "\n",
    "        # Backward pass\n",
    "        loss.backward()\n",
    "        optimizer.step()\n",
    "        scheduler.step()\n",
    "\n",
    "        if isinstance(model, MILResNet18.MILResNet18):\n",
    "            predictions.extend((output_1.squeeze() > THRESHOLD).cpu().detach().numpy())\n",
    "\n",
    "        labels.extend(batch_patient_labels.cpu().numpy())\n",
    "    return total_loss / len(data_loader), predictions, labels\n",
    "\n",
    "def validate(model, data_loader, criterion_cl, criterion_bce, device):\n",
    "    \"\"\"Validate the model.\"\"\"\n",
    "    model.eval()\n",
    "    total_loss = 0.0\n",
    "    alpha = 0.5\n",
    "    predictions = []\n",
    "    labels = []\n",
    "\n",
    "    with torch.no_grad():\n",
    "        for batch_data, batch_labels, batch_patient_labels in data_loader:\n",
    "            batch_data = batch_data.to(device)\n",
    "            batch_patient_labels = batch_patient_labels.float().to(device)\n",
    "\n",
    "            if isinstance(model, MILResNet18.MILResNet18):\n",
    "                output, attention_out, _, _, _ = model(batch_data)\n",
    "                predictions.extend((output.squeeze() > THRESHOLD).cpu().detach().numpy())\n",
    "            else:\n",
    "                z_i, output, predicted_bags, _, _, gp_combine = model(batch_data)\n",
    "                predictions.extend((predicted_bags.squeeze() > THRESHOLD).cpu().detach().numpy())\n",
    "                # predictions.extend((gp_combine.squeeze() > THRESHOLD).cpu().detach().numpy())\n",
    "\n",
    "            labels.extend(batch_patient_labels.cpu().numpy())\n",
    "\n",
    "    return total_loss / len(data_loader), predictions, labels\n",
    "\n",
    "def calculate_metrics(predictions, labels):\n",
    "    \"\"\"Calculate and return performance metrics.\"\"\"\n",
    "    return {\n",
    "        \"accuracy\": accuracy_score(labels, predictions),\n",
    "        \"precision\": precision_score(labels, predictions),\n",
    "        \"recall\": recall_score(labels, predictions),\n",
    "        \"f1\": f1_score(labels, predictions)\n",
    "    }\n",
    "\n",
    "def print_epoch_stats(epoch, num_epochs, phase, loss, metrics):\n",
    "    \"\"\"Print statistics for an epoch.\"\"\"\n",
    "    print(f\"Epoch {epoch+1}/{num_epochs} - {phase.capitalize()}:\")\n",
    "    print(f\"Loss: {loss:.4f}, Accuracy: {metrics['accuracy']:.4f}, \"\n",
    "          f\"Precision: {metrics['precision']:.4f}, Recall: {metrics['recall']:.4f}, \"\n",
    "          f\"F1: {metrics['f1']:.4f}\")\n",
    "\n",
    "def train_model(model, train_loader, val_loader, criterion_cl, criterion_bce, optimizer, num_epochs, learning_rate, device='cuda'):\n",
    "    \"\"\"Train the model and return the best model based on validation accuracy.\"\"\"\n",
    "    model = model.to(device)\n",
    "    model.train()\n",
    "\n",
    "    scheduler = optim.lr_scheduler.OneCycleLR(optimizer, max_lr=learning_rate,\n",
    "                                              steps_per_epoch=len(train_loader), epochs=num_epochs)\n",
    "    best_val_accuracy = 0.0\n",
    "    best_model_state = None\n",
    "\n",
    "    for epoch in range(num_epochs):\n",
    "        # Training phase\n",
    "        train_loss, train_predictions, train_labels = train_epoch(model, train_loader, criterion_cl, criterion_bce, optimizer, scheduler, device)\n",
    "        train_metrics = calculate_metrics(train_predictions, train_labels)\n",
    "        print_epoch_stats(epoch, num_epochs, \"train\", train_loss, train_metrics)\n",
    "        # Log training metrics to W&B\n",
    "        wandb.log({\"train/loss\": train_loss / len(train_loader), **train_metrics})\n",
    "\n",
    "        # Validation phase\n",
    "        val_loss, val_predictions, val_labels = validate(model, val_loader, criterion_cl, criterion_bce, device)\n",
    "        val_metrics = calculate_metrics(val_predictions, val_labels)\n",
    "        print_epoch_stats(epoch, num_epochs, \"validation\", val_loss, val_metrics)\n",
    "        # Log validation metrics to W&B\n",
    "        wandb.log({\"val/loss\": val_loss / len(val_loader), **val_metrics})\n",
    "\n",
    "        # Save best model\n",
    "        if val_metrics['accuracy'] > best_val_accuracy:\n",
    "            best_val_accuracy = val_metrics['accuracy']\n",
    "            best_model_state = model.state_dict()\n",
    "\n",
    "    # Load best model\n",
    "    model.load_state_dict(best_model_state)\n",
    "    # Optionally log the best model to W&B (if desired)\n",
    "    wandb.log_artifact(wandb.Artifact(\"best_model\", type=\"model\", metadata={\"accuracy\": best_val_accuracy}))\n",
    "\n",
    "    return model"
   ],
   "outputs": [],
   "execution_count": 24
  },
  {
   "cell_type": "markdown",
   "id": "28f66177ad25c9cd",
   "metadata": {},
   "source": [
    "## Evaluation"
   ]
  },
  {
   "cell_type": "code",
   "id": "2215dd979c03d9bd",
   "metadata": {
    "ExecuteTime": {
     "end_time": "2024-12-20T10:40:30.867882Z",
     "start_time": "2024-12-20T10:40:30.843059Z"
    }
   },
   "source": [
    "## Model Evaluation Functions\n",
    "def evaluate_model(model, data_loader, device='cuda'):\n",
    "    \"\"\"Evaluate the model on the given data loader.\"\"\"\n",
    "    model = model.to(device)\n",
    "    model.eval()\n",
    "\n",
    "    predictions = []\n",
    "    labels = []\n",
    "\n",
    "    with torch.inference_mode():\n",
    "        for batch_data, batch_labels, batch_patient_labels in data_loader:\n",
    "            batch_data = batch_data.to(device)\n",
    "            # batch_patient_labels = batch_patient_labels.float().to(device)\n",
    "            batch_patient_labels = batch_patient_labels.to(device)\n",
    "\n",
    "            if isinstance(model, MILResNet18):\n",
    "                output, attention_out, _, _, _ = model(batch_data)\n",
    "                # MIL-ResNet18\n",
    "                predictions.extend((output.squeeze() > THRESHOLD).cpu().detach().numpy())\n",
    "            else:\n",
    "                z_i, outputs, predicted_bags, _, _, gp_combine = model(batch_data)\n",
    "                predictions.extend((predicted_bags.squeeze() > THRESHOLD).cpu().detach().numpy())\n",
    "                # predictions.extend((gp_combine.squeeze() > THRESHOLD).cpu().detach().numpy())\n",
    "\n",
    "            labels.extend(batch_patient_labels.cpu().numpy())\n",
    "\n",
    "    return np.array(predictions), np.array(labels)\n",
    "\n",
    "def print_metrics(metrics):\n",
    "    \"\"\"Print the calculated metrics.\"\"\"\n",
    "    print(f\"Test Accuracy: {metrics['accuracy']:.4f}, \"\n",
    "          f\"Precision: {metrics['precision']:.4f}, \"\n",
    "          f\"Recall: {metrics['recall']:.4f}, \"\n",
    "          f\"F1: {metrics['f1']:.4f}\")"
   ],
   "outputs": [],
   "execution_count": 25
  },
  {
   "cell_type": "markdown",
   "id": "294d2b1becb2d17d",
   "metadata": {},
   "source": [
    "# Visualizations"
   ]
  },
  {
   "cell_type": "code",
   "id": "7afdb853fabd1190",
   "metadata": {
    "ExecuteTime": {
     "end_time": "2024-12-20T10:40:30.921115Z",
     "start_time": "2024-12-20T10:40:30.891747Z"
    }
   },
   "source": [
    "## Visualization Functions\n",
    "def plot_roc_curve(model, data_loader, device):\n",
    "    \"\"\"Plot the ROC curve for the model predictions.\"\"\"\n",
    "    model.eval()\n",
    "    labels = []\n",
    "    predictions = []\n",
    "\n",
    "    with torch.no_grad():\n",
    "        for batch_data, batch_labels, batch_patient_labels in data_loader:\n",
    "            batch_data = batch_data.to(device)\n",
    "            batch_patient_labels = batch_patient_labels.float().to(device)\n",
    "\n",
    "            # z_i, outputs, predicted_bags, _, _, gp_combine = model(batch_data)\n",
    "            #\n",
    "            # predictions.extend(predicted_bags.squeeze().cpu().numpy())\n",
    "            # # predictions.extend(gp_combine.squeeze().cpu().numpy())\n",
    "\n",
    "            output, attention_out, _, _, _ = model(batch_data)\n",
    "            # MIL-ResNet18\n",
    "            predictions.extend(output.squeeze().cpu().numpy())\n",
    "\n",
    "            labels.extend(batch_patient_labels.cpu().numpy())\n",
    "\n",
    "    fpr, tpr, _ = roc_curve(labels, predictions)\n",
    "    roc_auc = auc(fpr, tpr)\n",
    "\n",
    "    plt.figure()\n",
    "    plt.plot(fpr, tpr, color='darkorange', lw=2, label=f'ROC curve (AUC = {roc_auc:.4f})')\n",
    "    plt.plot([0, 1], [0, 1], color='navy', lw=2, linestyle='--')\n",
    "    plt.xlim([0.0, 1.0])\n",
    "    plt.ylim([0.0, 1.05])\n",
    "    plt.xlabel('False Positive Rate')\n",
    "    plt.ylabel('True Positive Rate')\n",
    "    plt.title('Receiver Operating Characteristic (ROC) Curve')\n",
    "    plt.legend(loc=\"lower right\")\n",
    "    plt.show()\n",
    "\n",
    "def plot_confusion_matrix(model, data_loader, device):\n",
    "    \"\"\"Plot the confusion matrix for the model predictions.\"\"\"\n",
    "    predictions, labels = evaluate_model(model, data_loader, device)\n",
    "\n",
    "    cm = confusion_matrix(labels, predictions)\n",
    "    disp = ConfusionMatrixDisplay(confusion_matrix=cm)\n",
    "    disp.plot()\n",
    "    plt.title('Confusion Matrix')\n",
    "    plt.show()"
   ],
   "outputs": [],
   "execution_count": 26
  },
  {
   "cell_type": "markdown",
   "id": "6c75639ad4641d25",
   "metadata": {},
   "source": [
    "## Attention Weights and Images"
   ]
  },
  {
   "cell_type": "code",
   "id": "9c6595d919d0b3c4",
   "metadata": {
    "ExecuteTime": {
     "end_time": "2024-12-20T10:40:30.960386Z",
     "start_time": "2024-12-20T10:40:30.939812Z"
    }
   },
   "source": [
    "def plot_label_attention_weights(model, data_loader, device='cuda'):\n",
    "    \"\"\"\n",
    "    Plot images with their labels and attention values in a single large plot.\n",
    "\n",
    "    Parameters:\n",
    "    - model: The trained model\n",
    "    - data_loader: DataLoader containing test dataset\n",
    "    - device: Device to run the model on ('cuda' or 'cpu')\n",
    "    - CHANNELS: Number of channels in the image (e.g., 1 for grayscale, 3 for RGB)\n",
    "\n",
    "    Expected shapes:\n",
    "    - 1-channel images: (batch_size, num_images, 224, 224)\n",
    "    - 3-channel images: (batch_size, num_images, 3, 224, 224)\n",
    "    - attention: float value per image indicating attention weight\n",
    "    \"\"\"\n",
    "    model = model.to(device)\n",
    "    model.eval()\n",
    "    num_images = MAX_SLICES\n",
    "    rows, cols = 10, 6  # Adjust to fit 60 images in a single plot\n",
    "\n",
    "    with torch.no_grad():\n",
    "        for batch_data, batch_labels, batch_patients_label in data_loader:\n",
    "            # Move data to the appropriate device\n",
    "            batch_data = batch_data.to(device)\n",
    "            outputs, _, attention_weight_batch, _, _ = model(batch_data)\n",
    "\n",
    "            # Process each patient in the batch\n",
    "            for patient_idx in range(batch_data.size(0)):\n",
    "                if batch_patients_label[patient_idx].item() == 1:  # Check if patient has positive label\n",
    "                    # Create a new figure for this patient\n",
    "                    fig = plt.figure(figsize=(cols * 4, rows * 4 + 2))  # Increased height for suptitle\n",
    "\n",
    "                    for img_idx in range(num_images):\n",
    "                        # Get the image and its label\n",
    "                        img = batch_data[patient_idx, img_idx].cpu().numpy()\n",
    "                        img_label = batch_labels[patient_idx, img_idx].cpu().numpy()\n",
    "\n",
    "                        # Get attention value\n",
    "                        if attention_weight_batch.size(1) == batch_data.size(1):\n",
    "                            attention_value = attention_weight_batch[patient_idx, img_idx].cpu().item()\n",
    "                        else:\n",
    "                            attention_value = attention_weight_batch[patient_idx].cpu().item()\n",
    "\n",
    "                        # Plot image\n",
    "                        plt.subplot(rows, cols, img_idx + 1)\n",
    "                        if CHANNELS == 3:  # RGB image\n",
    "                            plt.imshow(img)\n",
    "                        else:  # Grayscale image\n",
    "                            if img.ndim == 3:  # If shape is (1, H, W)\n",
    "                                img = np.squeeze(img)  # Convert to (H, W)\n",
    "                            plt.imshow(img, cmap='gray')\n",
    "\n",
    "                        plt.title(f'Label: {img_label}\\nAttention: {attention_value:.4f}', fontsize=12)\n",
    "                        plt.axis('off')\n",
    "\n",
    "                    # Add overall title for the patient\n",
    "                    plt.suptitle(f'Patient Images (Patient Label: {batch_patients_label[patient_idx].cpu().numpy()})', fontsize=16)\n",
    "                    plt.tight_layout(rect=[0, 0, 1, 0.97])  # Adjust rect to make space for suptitle\n",
    "                    plt.show()\n",
    "\n",
    "                    # Since we are plotting only for one patient, return after the first plot\n",
    "                    return"
   ],
   "outputs": [],
   "execution_count": 27
  },
  {
   "cell_type": "markdown",
   "id": "a73c681b23b6eb1a",
   "metadata": {},
   "source": [
    "## Visualization Augmented Bags"
   ]
  },
  {
   "cell_type": "code",
   "id": "80afac9742503cc7",
   "metadata": {
    "ExecuteTime": {
     "end_time": "2024-12-20T10:40:31.009603Z",
     "start_time": "2024-12-20T10:40:30.987587Z"
    }
   },
   "source": [
    "def visualize_augmented_bags(original_bags, augmented_bags, num_bags=12):\n",
    "    \"\"\"\n",
    "    Visualizes all instances of the first bag of original and augmented images.\n",
    "\n",
    "    Parameters:\n",
    "    - original_bags: A tensor of shape (batch_size, num_instances, channels, height, width)\n",
    "    - augmented_bags: A tensor of shape (batch_size, num_instances, channels, height, width)\n",
    "    - num_bags: Number of bags to visualize (only the first bag will be shown).\n",
    "    \"\"\"\n",
    "    # Only visualize the first bag\n",
    "    first_bag_index = 0\n",
    "\n",
    "    # Get number of instances\n",
    "    num_instances = original_bags.size(1)\n",
    "\n",
    "    print(f'Num instances: {num_instances}')\n",
    "\n",
    "    # Limit the number of bags to visualize (but we only show the first one)\n",
    "    num_bags = min(num_bags, 1)  # We only want to visualize the first bag\n",
    "\n",
    "    fig, axes = plt.subplots(num_instances, 2, figsize=(10, 2 * num_instances))\n",
    "\n",
    "    # Original images\n",
    "    for j in range(num_instances):  # Iterate over instances in the first bag\n",
    "        img = original_bags[first_bag_index][j].cpu().numpy().squeeze()  # Remove channel dimension\n",
    "        axes[j, 0].imshow(img, cmap='gray')  # Use gray colormap for single channel images\n",
    "        axes[j, 0].axis('off')  # Hide axes for better visualization\n",
    "        axes[j, 0].set_title(f'Original Instance {j + 1}')\n",
    "\n",
    "    # Augmented images\n",
    "    for j in range(num_instances):\n",
    "        img = augmented_bags[first_bag_index][j].cpu().numpy().squeeze()  # Remove channel dimension\n",
    "        axes[j, 1].imshow(img.squeeze(), cmap='gray')  # Use gray colormap for single channel images\n",
    "        axes[j, 1].axis('off')  # Hide axes for better visualization\n",
    "        axes[j, 1].set_title(f'Augmented Instance {j + 1}')\n",
    "\n",
    "    plt.tight_layout()\n",
    "    plt.show()\n"
   ],
   "outputs": [],
   "execution_count": 28
  },
  {
   "cell_type": "markdown",
   "id": "a3004173c89b7d46",
   "metadata": {},
   "source": [
    "# Model Loading"
   ]
  },
  {
   "cell_type": "code",
   "id": "e8a926693e5659f3",
   "metadata": {
    "ExecuteTime": {
     "end_time": "2024-12-20T10:40:31.057794Z",
     "start_time": "2024-12-20T10:40:31.036105Z"
    }
   },
   "source": [
    "## Data Processing Functions\n",
    "def load_model(model_class, model_path):\n",
    "    \"\"\"Load a trained model from a file.\"\"\"\n",
    "    if not os.path.exists(model_path):\n",
    "        raise FileNotFoundError(f\"Model file not found at {model_path}\")\n",
    "\n",
    "    model = model_class()\n",
    "    try:\n",
    "        state_dict = torch.load(model_path, map_location=torch.device('cuda'), weights_only=True)\n",
    "        if not state_dict:\n",
    "            raise ValueError(f\"The state dictionary loaded from {model_path} is empty\")\n",
    "        model.load_state_dict(state_dict)\n",
    "    except Exception as e:\n",
    "        print(f\"Error loading model from {model_path}: {str(e)}\")\n",
    "        print(\"Initializing model with random weights instead.\")\n",
    "        return model  # Return the model with random initialization\n",
    "\n",
    "    return model.eval()\n",
    "\n",
    "\n",
    "def get_test_results(model, test_loader, test_labels, device=DEVICE):\n",
    "    \"\"\"Get test results including patient information.\"\"\"\n",
    "    predictions, _ = evaluate_model(model, test_loader, device)\n",
    "\n",
    "    results = []\n",
    "    for i, row in enumerate(test_labels.itertuples(index=False)):\n",
    "        result = {col: getattr(row, col) for col in test_labels.columns}\n",
    "        result['prediction'] = predictions[i]\n",
    "        results.append(result)\n",
    "\n",
    "    return pd.DataFrame(results)"
   ],
   "outputs": [],
   "execution_count": 29
  },
  {
   "cell_type": "markdown",
   "id": "30558cbcaea4921f",
   "metadata": {},
   "source": [
    "# Main Function"
   ]
  },
  {
   "cell_type": "code",
   "id": "521e66f4738f1848",
   "metadata": {
    "ExecuteTime": {
     "end_time": "2024-12-20T10:42:58.274611Z",
     "start_time": "2024-12-20T10:40:31.087548Z"
    }
   },
   "source": [
    "def main(mode='train'):\n",
    "    os.environ[\"WANDB_DISABLED\"] = \"true\"\n",
    "\n",
    "    # Initialize W&B\n",
    "    wandb.init(project=\"CQ500\", entity=\"milresnet\", mode=\"disabled\")\n",
    "\n",
    "    # Log hyperparameters\n",
    "    config = wandb.config\n",
    "    config.learning_rate = LEARNING_RATE\n",
    "    config.batch_size = TRAIN_BATCH_SIZE\n",
    "    config.num_epochs = NUM_EPOCHS\n",
    "\n",
    "    train_labels, val_labels, test_labels = split_dataset(patient_scan_labels, test_size=TEST_SIZE)\n",
    "    # train_loader = get_train_loader(DICOM_DIR, train_labels, batch_size=TRAIN_BATCH_SIZE)\n",
    "    # val_loader = get_train_loader(DICOM_DIR, val_labels, batch_size=VALID_BATCH_SIZE)\n",
    "    test_loader = get_test_loader(DICOM_DIR, test_labels, batch_size=TEST_BATCH_SIZE)\n",
    "\n",
    "    # Initialize model, criterion, and optimizer\n",
    "    model = MILResNet18()\n",
    "    # model = Encoder()\n",
    "\n",
    "    criterion_cl = NTXentLoss(0.5)\n",
    "    criterion_bce = torch.nn.BCELoss()\n",
    "    optimizer = optim.Adam(model.parameters(), lr=config.learning_rate)\n",
    "\n",
    "    # if mode == 'train':\n",
    "    #     # Watch the model to log gradients and parameters\n",
    "    #     wandb.watch(model)\n",
    "    #     # Train model\n",
    "    #     trained_model = train_model(model, train_loader, val_loader, criterion_cl, criterion_bce, optimizer, config.num_epochs, config.learning_rate, DEVICE)\n",
    "    #     # Save model\n",
    "    #     torch.save(trained_model.state_dict(), MODEL_PATH)\n",
    "\n",
    "    # Load best model\n",
    "    trained_model = load_model(MILResNet18, MODEL_PATH)\n",
    "\n",
    "\n",
    "    # Evaluate model\n",
    "    predictions, labels = evaluate_model(trained_model, test_loader, DEVICE)\n",
    "    metrics = calculate_metrics(predictions, labels)\n",
    "\n",
    "    # Log metrics to W&B\n",
    "    wandb.log(metrics)\n",
    "\n",
    "    print_metrics(metrics)\n",
    "\n",
    "    if mode == 'train':\n",
    "        # Visualizations\n",
    "        plot_roc_curve(trained_model, test_loader, DEVICE)\n",
    "        plot_confusion_matrix(trained_model, test_loader, DEVICE)\n",
    "\n",
    "    if mode == 'train':\n",
    "        required_columns = ['patient_id', 'study_instance_uid', 'patient_label']\n",
    "        temp_test_labels = test_labels[required_columns]\n",
    "\n",
    "        # Save results\n",
    "        # results_df = get_test_results(trained_model, test_loader, temp_test_labels, device)\n",
    "        # results_df.to_csv('results/results.csv', index=False)\n",
    "        # print(results_df.head())\n",
    "\n",
    "        # # Log results DataFrame as a table in W&B (optional)\n",
    "        # wandb.log({\"results\": wandb.Table(dataframe=results_df)})\n",
    "\n",
    "    # Call the function with the test_loader\n",
    "    # if isinstance(model, MILResNet18):\n",
    "    #     test_loader = get_test_loader(DICOM_DIR, test_labels, batch_size=TEST_BATCH_SIZE)\n",
    "    #     plot_label_attention_weights(trained_model, test_loader, device)\n",
    "\n",
    "    # # Get the first batch of images from the evaluation loader\n",
    "    # images, _, _ = next(iter(train_loader))\n",
    "    # print(f'Original batch shape: {images.shape}')\n",
    "    #\n",
    "    # # Augment the batch of images\n",
    "    # start = time.time()\n",
    "    # augmented_images = augment_batch(images)\n",
    "    # end = time.time()\n",
    "    # taken_time = end - start\n",
    "    # print(f'Augmented batch shape: {augmented_images.shape} | Time: {taken_time:.4f}')\n",
    "    #\n",
    "    # # Visualize the original and augmented bags\n",
    "    # visualize_augmented_bags(images, augmented_images)\n",
    "\n",
    "if __name__ == \"__main__\":\n",
    "    main(mode='test')"
   ],
   "outputs": [
    {
     "name": "stdout",
     "output_type": "stream",
     "text": [
      "Test Accuracy: 0.7627, Precision: 0.7249, Recall: 0.6954, F1: 0.7098\n"
     ]
    }
   ],
   "execution_count": 30
  },
  {
   "cell_type": "markdown",
   "id": "30faa02d1d08e9ed",
   "metadata": {},
   "source": [
    "# Result\n"
   ]
  },
  {
   "cell_type": "code",
   "id": "8e9b23b484fd3c28",
   "metadata": {
    "ExecuteTime": {
     "end_time": "2024-12-20T10:42:58.347641Z",
     "start_time": "2024-12-20T10:42:58.346217Z"
    }
   },
   "source": [],
   "outputs": [],
   "execution_count": null
  },
  {
   "cell_type": "markdown",
   "id": "5f10acaf7c81c192",
   "metadata": {},
   "source": []
  },
  {
   "cell_type": "code",
   "id": "f3b5848bc7776c31",
   "metadata": {
    "ExecuteTime": {
     "end_time": "2024-12-20T10:42:58.394460Z",
     "start_time": "2024-12-20T10:42:58.391732Z"
    }
   },
   "source": [],
   "outputs": [],
   "execution_count": null
  },
  {
   "cell_type": "code",
   "id": "ed8542273f0edd92",
   "metadata": {
    "ExecuteTime": {
     "end_time": "2024-12-20T10:42:58.443645Z",
     "start_time": "2024-12-20T10:42:58.440347Z"
    }
   },
   "source": [],
   "outputs": [],
   "execution_count": null
  }
 ],
 "metadata": {
  "kernelspec": {
   "display_name": "tf",
   "language": "python",
   "name": "python3"
  },
  "language_info": {
   "codemirror_mode": {
    "name": "ipython",
    "version": 3
   },
   "file_extension": ".py",
   "mimetype": "text/x-python",
   "name": "python",
   "nbconvert_exporter": "python",
   "pygments_lexer": "ipython3",
   "version": "3.10.9"
  }
 },
 "nbformat": 5,
 "nbformat_minor": 9
}
