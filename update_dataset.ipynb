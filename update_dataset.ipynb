{
 "cells": [
  {
   "metadata": {
    "ExecuteTime": {
     "end_time": "2024-12-10T11:43:35.920353Z",
     "start_time": "2024-12-10T11:21:58.945517Z"
    }
   },
   "cell_type": "code",
   "outputs": [],
   "execution_count": 1,
   "source": [
    "import zipfile\n",
    "import os\n",
    "\n",
    "def extract_folder_from_zip(zip_path, folder_name, output_path):\n",
    "    \"\"\"\n",
    "    Extracts all files from a specific folder in a ZIP file to a destination directory,\n",
    "    preserving the original folder structure.\n",
    "\n",
    "    Parameters:\n",
    "    zip_path (str): Path to the ZIP file.\n",
    "    folder_name (str): Name of the folder within the ZIP file to extract.\n",
    "    output_path (str): Destination directory where files will be extracted.\n",
    "    \"\"\"\n",
    "    with zipfile.ZipFile(zip_path, 'r') as zip_ref:\n",
    "        # Iterate over all the items in the ZIP file\n",
    "        for file_info in zip_ref.infolist():\n",
    "            # Check if the current item is in the specified folder\n",
    "            if file_info.filename.startswith(folder_name + '/'):\n",
    "                # Define the full path for extraction\n",
    "                # Use os.path.relpath to keep the structure relative to folder_name\n",
    "                extracted_path = os.path.join(output_path, os.path.relpath(file_info.filename, start=folder_name))\n",
    "                # Create any necessary directories\n",
    "                os.makedirs(os.path.dirname(extracted_path), exist_ok=True)\n",
    "                # Extract the file\n",
    "                with zip_ref.open(file_info) as source_file, open(extracted_path, 'wb') as target_file:\n",
    "                    target_file.write(source_file.read())\n",
    "                # print(f\"Extracted: {file_info.filename} to {extracted_path}\")\n",
    "\n",
    "# Example usage\n",
    "zip_file_path = 'rsna-intracranial-hemorrhage-detection.zip'  # Path to your ZIP file\n",
    "folder_to_extract = 'rsna-intracranial-hemorrhage-detection/stage_2_train'  # Folder inside the ZIP to extract\n",
    "destination_directory = './rsna-ich-mil/'  # Where to extract files\n",
    "\n",
    "extract_folder_from_zip(zip_file_path, folder_to_extract, destination_directory)"
   ],
   "id": "fd0c14b1c942707f"
  },
  {
   "metadata": {
    "ExecuteTime": {
     "end_time": "2024-12-10T12:19:26.426974Z",
     "start_time": "2024-12-10T12:19:03.481795Z"
    }
   },
   "cell_type": "code",
   "source": [
    "import os\n",
    "import pandas as pd\n",
    "import shutil\n",
    "\n",
    "def organize_dicom_files(csv_file, source_dir):\n",
    "    # Read the CSV file into a DataFrame\n",
    "    df = pd.read_csv(csv_file)\n",
    "\n",
    "    # Remove 'ID_' prefix from patient_id and study_instance_uid\n",
    "    df['patient_id'] = df['patient_id'].str.replace('ID_', '', regex=False)\n",
    "    df['study_instance_uid'] = df['study_instance_uid'].str.replace('ID_', '', regex=False)\n",
    "\n",
    "    # Group by patient_id and study_instance_uid\n",
    "    grouped = df.groupby(['patient_id', 'study_instance_uid'])\n",
    "\n",
    "    for (patient_id, study_instance_uid), group in grouped:\n",
    "        # Create a subfolder name based on patient_id and study_instance_uid\n",
    "        subfolder_name = f\"{patient_id}_{study_instance_uid}\"\n",
    "        subfolder_path = os.path.join(source_dir, subfolder_name)\n",
    "\n",
    "        # Create the subfolder if it does not exist\n",
    "        os.makedirs(subfolder_path, exist_ok=True)\n",
    "\n",
    "        # Move each file in the group to the respective subfolder\n",
    "        for _, row in group.iterrows():\n",
    "            filename = row['filename']\n",
    "            source_file_path = os.path.join(source_dir, filename)\n",
    "            destination_file_path = os.path.join(subfolder_path, filename)\n",
    "\n",
    "            # Move the file\n",
    "            if os.path.exists(source_file_path):\n",
    "                shutil.move(source_file_path, destination_file_path)\n",
    "                # print(f\"Moved: {source_file_path} to {destination_file_path}\")\n",
    "            else:\n",
    "                print(f\"File not found: {source_file_path}\")\n",
    "\n",
    "# Example usage\n",
    "csv_file_path = './rsna/data_analyze/training_dataset.csv'  # Path to your CSV file\n",
    "source_directory = 'rsna-ich-mil/'        # Source directory containing DICOM files\n",
    "\n",
    "organize_dicom_files(csv_file_path, source_directory)"
   ],
   "id": "eccc0a04fe5664b4",
   "outputs": [],
   "execution_count": 2
  }
 ],
 "metadata": {
  "kernelspec": {
   "display_name": "Python 3",
   "language": "python",
   "name": "python3"
  },
  "language_info": {
   "codemirror_mode": {
    "name": "ipython",
    "version": 2
   },
   "file_extension": ".py",
   "mimetype": "text/x-python",
   "name": "python",
   "nbconvert_exporter": "python",
   "pygments_lexer": "ipython2",
   "version": "2.7.6"
  }
 },
 "nbformat": 4,
 "nbformat_minor": 5
}
