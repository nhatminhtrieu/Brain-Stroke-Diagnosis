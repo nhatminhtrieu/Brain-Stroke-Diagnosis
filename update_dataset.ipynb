{
 "cells": [
  {
   "cell_type": "code",
   "id": "initial_id",
   "metadata": {
    "collapsed": true
   },
   "source": [
    "import pandas as pd\n",
    "\n",
    "df = pd.read_csv('./rsna/data_analyze/sorted_training_dataset_with_labels.csv')\n",
    "\n",
    "# Function to compute patient label\n",
    "def compute_patient_label(group):\n",
    "    # If all specified columns are 0, patient_label is 0, otherwise 1\n",
    "    return 0 if group[['any', 'epidural', 'intraparenchymal', \n",
    "                        'intraventricular', 'subarachnoid', \n",
    "                        'subdural']].sum().sum() == 0 else 1\n",
    "\n",
    "# Group by patient_id and study_instance_uid, and create the patient_label column\n",
    "grouped = df.groupby(['patient_id', 'study_instance_uid'])\n",
    "patient_labels = grouped.apply(compute_patient_label).reset_index(name='patient_label')\n",
    "\n",
    "# Merge the labels back into the original DataFrame\n",
    "result = df.merge(patient_labels, on=['patient_id', 'study_instance_uid'])\n",
    "\n",
    "# Display the result\n",
    "print(result.head())\n",
    "\n",
    "# Save the result to a new CSV file\n",
    "result.to_csv('./rsna/data_analyze/training_dataset.csv', index=False)"
   ],
   "outputs": [],
   "execution_count": null
  },
  {
   "metadata": {
    "ExecuteTime": {
     "end_time": "2024-12-10T10:14:09.657517Z",
     "start_time": "2024-12-10T10:14:06.078412Z"
    }
   },
   "cell_type": "code",
   "source": [
    "import pandas as pd\n",
    "import zipfile\n",
    "import os\n",
    "\n",
    "def create_structured_zip(source_zip_path, destination_zip_path, dataset):\n",
    "    # Load dataset into DataFrame\n",
    "    df = pd.DataFrame(dataset)\n",
    "\n",
    "    # Generate subfolder names by removing 'ID_' prefix\n",
    "    df['subfolder_name'] = df['patient_id'].str.replace('ID_', '') + '_' + df['study_instance_uid'].str.replace('ID_', '')\n",
    "\n",
    "    # Group by subfolder name and list filenames\n",
    "    grouped = df.groupby('subfolder_name')['filename'].apply(list).reset_index()\n",
    "\n",
    "    # Create or open the destination zip file\n",
    "    with zipfile.ZipFile(destination_zip_path, 'a') as dest_zip:\n",
    "        # Open the source zip file for reading\n",
    "        with zipfile.ZipFile(source_zip_path, 'r') as source_zip:\n",
    "            for _, row in grouped.iterrows():\n",
    "                subfolder = row['subfolder_name']\n",
    "                filenames = row['filename']\n",
    "                \n",
    "                for filename in filenames:\n",
    "                    # Define the path inside the zip for this file\n",
    "                    source_file_path = f\"rsna-intracranial-hemorrhage-detection/stage_2_train/{filename}\"\n",
    "                    \n",
    "                    # Check if the file exists in the source zip\n",
    "                    if source_file_path in source_zip.namelist():\n",
    "                        # Create a new path for the file in the destination zip\n",
    "                        dest_file_path = os.path.join(subfolder, filename)\n",
    "                        \n",
    "                        # Copy the file from source to destination zip\n",
    "                        with source_zip.open(source_file_path) as source_file:\n",
    "                            dest_zip.writestr(dest_file_path, source_file.read())\n",
    "                    else:\n",
    "                        print(f\"File {source_file_path} not found in source zip.\")\n",
    "\n",
    "# Sample dataset creation (as provided)\n",
    "dataset = {\n",
    "    'filename': ['ID_45785016b.dcm', 'ID_37f32aed2.dcm', 'ID_1b9de2922.dcm', \n",
    "                 'ID_d61a6a7b9.dcm', 'ID_406c82112.dcm', 'ID_47beede43.dcm', \n",
    "                 'ID_bad62dc58.dcm'],\n",
    "    'patient_id': ['ID_0002cd41']*7,\n",
    "    'study_instance_uid': ['ID_66929e09d4']*7\n",
    "}\n",
    "\n",
    "# dataset = pd.read_csv('./rsna/data_analyze/training_dataset.csv')\n",
    "\n",
    "# Define paths for source and destination zip files\n",
    "source_zip_path = 'rsna-intracranial-hemorrhage-detection.zip'\n",
    "destination_zip_path = 'rsna-ich-mil-temp.zip'\n",
    "\n",
    "# Call the function to create structured zip\n",
    "create_structured_zip(source_zip_path, destination_zip_path, dataset)"
   ],
   "id": "a5146366b940aee8",
   "outputs": [],
   "execution_count": 1
  },
  {
   "metadata": {
    "ExecuteTime": {
     "end_time": "2024-12-10T10:11:16.864128701Z",
     "start_time": "2024-12-10T09:49:14.633404Z"
    }
   },
   "cell_type": "code",
   "source": [
    "# Going to zip file and check the structure of first 10 folders\n",
    "with zipfile.ZipFile('rsna-ich-mil.zip', 'r') as zip_ref:\n",
    "    for i in range(10):\n",
    "        print(zip_ref.namelist()[i])"
   ],
   "id": "75420553b628255e",
   "outputs": [
    {
     "name": "stdout",
     "output_type": "stream",
     "text": [
      "0002cd41_66929e09d4/ID_45785016b.dcm\n",
      "0002cd41_66929e09d4/ID_37f32aed2.dcm\n",
      "0002cd41_66929e09d4/ID_1b9de2922.dcm\n",
      "0002cd41_66929e09d4/ID_d61a6a7b9.dcm\n",
      "0002cd41_66929e09d4/ID_406c82112.dcm\n",
      "0002cd41_66929e09d4/ID_47beede43.dcm\n",
      "0002cd41_66929e09d4/ID_bad62dc58.dcm\n",
      "0002cd41_66929e09d4/ID_40b991168.dcm\n",
      "0002cd41_66929e09d4/ID_00e680819.dcm\n",
      "0002cd41_66929e09d4/ID_54ef737a6.dcm\n"
     ]
    }
   ],
   "execution_count": 5
  },
  {
   "metadata": {
    "ExecuteTime": {
     "end_time": "2024-12-10T10:22:20.924237Z",
     "start_time": "2024-12-10T10:22:18.492767Z"
    }
   },
   "cell_type": "code",
   "source": [
    "with zipfile.ZipFile('rsna-ich-mil.zip', 'r') as zip_ref:\n",
    "    folder_path = '00326f32_81646f5161'\n",
    "    for name in zip_ref.namelist():\n",
    "        if name.startswith(folder_path):\n",
    "            print(name)"
   ],
   "id": "bd571d1ef0f2861",
   "outputs": [
    {
     "name": "stdout",
     "output_type": "stream",
     "text": [
      "00326f32_81646f5161/ID_6ae043a75.dcm\n",
      "00326f32_81646f5161/ID_c20fb17ad.dcm\n",
      "00326f32_81646f5161/ID_08189d9eb.dcm\n",
      "00326f32_81646f5161/ID_618aa2870.dcm\n",
      "00326f32_81646f5161/ID_97e302c22.dcm\n",
      "00326f32_81646f5161/ID_fd83b2d03.dcm\n",
      "00326f32_81646f5161/ID_c46cd6e1d.dcm\n",
      "00326f32_81646f5161/ID_a7038750e.dcm\n",
      "00326f32_81646f5161/ID_7d97d2ab8.dcm\n",
      "00326f32_81646f5161/ID_53d4db036.dcm\n",
      "00326f32_81646f5161/ID_001b4d902.dcm\n",
      "00326f32_81646f5161/ID_b4fe793cd.dcm\n",
      "00326f32_81646f5161/ID_479a5c561.dcm\n",
      "00326f32_81646f5161/ID_a09f63171.dcm\n",
      "00326f32_81646f5161/ID_b16c9e181.dcm\n",
      "00326f32_81646f5161/ID_25520db15.dcm\n",
      "00326f32_81646f5161/ID_8892b92c6.dcm\n",
      "00326f32_81646f5161/ID_7c638957c.dcm\n",
      "00326f32_81646f5161/ID_8de5edd02.dcm\n",
      "00326f32_81646f5161/ID_7bebe71fc.dcm\n",
      "00326f32_81646f5161/ID_51bc23a4e.dcm\n",
      "00326f32_81646f5161/ID_22aa802b5.dcm\n",
      "00326f32_81646f5161/ID_527954d58.dcm\n",
      "00326f32_81646f5161/ID_20ac73f3d.dcm\n",
      "00326f32_81646f5161/ID_adfd9c480.dcm\n",
      "00326f32_81646f5161/ID_095be076f.dcm\n",
      "00326f32_81646f5161/ID_c0d6b4bd5.dcm\n",
      "00326f32_81646f5161/ID_0fd442923.dcm\n",
      "00326f32_81646f5161/ID_4347f8a62.dcm\n",
      "00326f32_81646f5161/ID_0fff6874c.dcm\n",
      "00326f32_81646f5161/ID_5fa74a312.dcm\n",
      "00326f32_81646f5161/ID_33f863e7c.dcm\n",
      "00326f32_81646f5161/ID_c4d0fde32.dcm\n",
      "00326f32_81646f5161/ID_d4a418a52.dcm\n"
     ]
    }
   ],
   "execution_count": 4
  },
  {
   "metadata": {
    "ExecuteTime": {
     "end_time": "2024-12-10T11:43:35.920353Z",
     "start_time": "2024-12-10T11:21:58.945517Z"
    }
   },
   "cell_type": "code",
   "source": [
    "import zipfile\n",
    "import os\n",
    "\n",
    "def extract_folder_from_zip(zip_path, folder_name, output_path):\n",
    "    \"\"\"\n",
    "    Extracts all files from a specific folder in a ZIP file to a destination directory,\n",
    "    preserving the original folder structure.\n",
    "\n",
    "    Parameters:\n",
    "    zip_path (str): Path to the ZIP file.\n",
    "    folder_name (str): Name of the folder within the ZIP file to extract.\n",
    "    output_path (str): Destination directory where files will be extracted.\n",
    "    \"\"\"\n",
    "    with zipfile.ZipFile(zip_path, 'r') as zip_ref:\n",
    "        # Iterate over all the items in the ZIP file\n",
    "        for file_info in zip_ref.infolist():\n",
    "            # Check if the current item is in the specified folder\n",
    "            if file_info.filename.startswith(folder_name + '/'):\n",
    "                # Define the full path for extraction\n",
    "                # Use os.path.relpath to keep the structure relative to folder_name\n",
    "                extracted_path = os.path.join(output_path, os.path.relpath(file_info.filename, start=folder_name))\n",
    "                # Create any necessary directories\n",
    "                os.makedirs(os.path.dirname(extracted_path), exist_ok=True)\n",
    "                # Extract the file\n",
    "                with zip_ref.open(file_info) as source_file, open(extracted_path, 'wb') as target_file:\n",
    "                    target_file.write(source_file.read())\n",
    "                # print(f\"Extracted: {file_info.filename} to {extracted_path}\")\n",
    "\n",
    "# Example usage\n",
    "zip_file_path = 'rsna-intracranial-hemorrhage-detection.zip'  # Path to your ZIP file\n",
    "folder_to_extract = 'rsna-intracranial-hemorrhage-detection/stage_2_train'  # Folder inside the ZIP to extract\n",
    "destination_directory = './rsna-ich-mil/'  # Where to extract files\n",
    "\n",
    "extract_folder_from_zip(zip_file_path, folder_to_extract, destination_directory)"
   ],
   "id": "fd0c14b1c942707f",
   "outputs": [],
   "execution_count": 1
  },
  {
   "metadata": {
    "ExecuteTime": {
     "end_time": "2024-12-10T11:18:27.872761Z",
     "start_time": "2024-12-10T11:18:27.763194Z"
    }
   },
   "cell_type": "code",
   "source": [
    "# delete all the files that .dcm files\n",
    "import os\n",
    "import shutil\n",
    "\n",
    "folder_path = './'\n",
    "for filename in os.listdir(folder_path):\n",
    "    if filename.endswith('.dcm'):\n",
    "        file_path = os.path.join(folder_path, filename)\n",
    "        os.remove(file_path)"
   ],
   "id": "82ca4fa29b82dc7",
   "outputs": [],
   "execution_count": 4
  },
  {
   "metadata": {
    "ExecuteTime": {
     "end_time": "2024-12-10T12:19:26.426974Z",
     "start_time": "2024-12-10T12:19:03.481795Z"
    }
   },
   "cell_type": "code",
   "source": [
    "import os\n",
    "import pandas as pd\n",
    "import shutil\n",
    "\n",
    "def organize_dicom_files(csv_file, source_dir):\n",
    "    # Read the CSV file into a DataFrame\n",
    "    df = pd.read_csv(csv_file)\n",
    "\n",
    "    # Remove 'ID_' prefix from patient_id and study_instance_uid\n",
    "    df['patient_id'] = df['patient_id'].str.replace('ID_', '', regex=False)\n",
    "    df['study_instance_uid'] = df['study_instance_uid'].str.replace('ID_', '', regex=False)\n",
    "\n",
    "    # Group by patient_id and study_instance_uid\n",
    "    grouped = df.groupby(['patient_id', 'study_instance_uid'])\n",
    "\n",
    "    for (patient_id, study_instance_uid), group in grouped:\n",
    "        # Create a subfolder name based on patient_id and study_instance_uid\n",
    "        subfolder_name = f\"{patient_id}_{study_instance_uid}\"\n",
    "        subfolder_path = os.path.join(source_dir, subfolder_name)\n",
    "\n",
    "        # Create the subfolder if it does not exist\n",
    "        os.makedirs(subfolder_path, exist_ok=True)\n",
    "\n",
    "        # Move each file in the group to the respective subfolder\n",
    "        for _, row in group.iterrows():\n",
    "            filename = row['filename']\n",
    "            source_file_path = os.path.join(source_dir, filename)\n",
    "            destination_file_path = os.path.join(subfolder_path, filename)\n",
    "\n",
    "            # Move the file\n",
    "            if os.path.exists(source_file_path):\n",
    "                shutil.move(source_file_path, destination_file_path)\n",
    "                # print(f\"Moved: {source_file_path} to {destination_file_path}\")\n",
    "            else:\n",
    "                print(f\"File not found: {source_file_path}\")\n",
    "\n",
    "# Example usage\n",
    "csv_file_path = './rsna/data_analyze/training_dataset.csv'  # Path to your CSV file\n",
    "source_directory = 'rsna-ich-mil/'        # Source directory containing DICOM files\n",
    "\n",
    "organize_dicom_files(csv_file_path, source_directory)"
   ],
   "id": "eccc0a04fe5664b4",
   "outputs": [],
   "execution_count": 2
  }
 ],
 "metadata": {
  "kernelspec": {
   "display_name": "Python 3",
   "language": "python",
   "name": "python3"
  },
  "language_info": {
   "codemirror_mode": {
    "name": "ipython",
    "version": 2
   },
   "file_extension": ".py",
   "mimetype": "text/x-python",
   "name": "python",
   "nbconvert_exporter": "python",
   "pygments_lexer": "ipython2",
   "version": "2.7.6"
  }
 },
 "nbformat": 4,
 "nbformat_minor": 5
}
