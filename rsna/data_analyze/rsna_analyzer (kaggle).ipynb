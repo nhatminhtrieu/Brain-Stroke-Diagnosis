{
 "cells": [
  {
   "cell_type": "markdown",
   "metadata": {},
   "source": "## Generate NUM_PATIENTS cases for training (2 labels: No hemorrhage and Most occurrence hemorrhage type)"
  },
  {
   "cell_type": "code",
   "metadata": {
    "execution": {
     "iopub.execute_input": "2024-09-14T19:41:07.002434Z",
     "iopub.status.busy": "2024-09-14T19:41:07.001843Z",
     "iopub.status.idle": "2024-09-14T19:41:07.008041Z",
     "shell.execute_reply": "2024-09-14T19:41:07.006780Z",
     "shell.execute_reply.started": "2024-09-14T19:41:07.002378Z"
    },
    "trusted": true,
    "ExecuteTime": {
     "end_time": "2024-10-14T15:42:37.722679Z",
     "start_time": "2024-10-14T15:42:36.886812Z"
    }
   },
   "source": [
    "import os\n",
    "import shutil\n",
    "import pandas as pd\n",
    "import matplotlib.pyplot as plt"
   ],
   "outputs": [],
   "execution_count": 1
  },
  {
   "metadata": {},
   "cell_type": "markdown",
   "source": "## Config"
  },
  {
   "metadata": {
    "ExecuteTime": {
     "end_time": "2024-10-14T15:42:37.737683Z",
     "start_time": "2024-10-14T15:42:37.726680Z"
    }
   },
   "cell_type": "code",
   "source": [
    "# Define storage location and dataset name\n",
    "storage = 'E:/'\n",
    "dataset_name = 'rsna-intracranial-hemorrhage-detection'\n",
    "\n",
    "# Construct paths\n",
    "dataset_path = os.path.join(storage, dataset_name)\n",
    "dataset_output_name = 'rsna-mil-training'\n",
    "destination_dir = os.path.join('D:/', dataset_output_name)\n",
    "train_images_dir = os.path.join(dataset_path, 'stage_2_train')\n",
    "sorted_training = 'C:/Users/MINH/OneDrive - nhatminhtrieu/Thesis 2025 Storage/RSNA_Datasheet/sorted_training_dataset_with_labels.csv'\n",
    "\n",
    "# Define hemorrhage types\n",
    "hemorrhage_types = ['epidural', 'intraparenchymal', 'intraventricular', 'subarachnoid', 'subdural']\n",
    "\n",
    "# Set number of patients\n",
    "NUM_PATIENTS = 1000\n",
    "\n",
    "random_state = 42\n",
    "\n",
    "os.makedirs(destination_dir, exist_ok=True)"
   ],
   "outputs": [],
   "execution_count": 2
  },
  {
   "cell_type": "code",
   "metadata": {
    "execution": {
     "iopub.execute_input": "2024-09-14T19:41:07.025701Z",
     "iopub.status.busy": "2024-09-14T19:41:07.025224Z",
     "iopub.status.idle": "2024-09-14T19:41:10.596333Z",
     "shell.execute_reply": "2024-09-14T19:41:10.594842Z",
     "shell.execute_reply.started": "2024-09-14T19:41:07.025647Z"
    },
    "trusted": true,
    "ExecuteTime": {
     "end_time": "2024-10-14T15:42:39.623560Z",
     "start_time": "2024-10-14T15:42:38.030231Z"
    }
   },
   "source": [
    "# Read file csv as a dataframe\n",
    "raw_df = pd.read_csv(sorted_training)"
   ],
   "outputs": [],
   "execution_count": 3
  },
  {
   "metadata": {
    "ExecuteTime": {
     "end_time": "2024-10-14T15:42:39.670572Z",
     "start_time": "2024-10-14T15:42:39.641565Z"
    }
   },
   "cell_type": "code",
   "source": "raw_df.head(1)",
   "outputs": [
    {
     "data": {
      "text/plain": [
       "           filename  any  epidural  intraparenchymal  intraventricular  \\\n",
       "0  ID_45785016b.dcm    0         0                 0                 0   \n",
       "\n",
       "   subarachnoid  subdural   patient_id study_instance_uid series_instance_uid  \\\n",
       "0             0         0  ID_0002cd41      ID_66929e09d4       ID_e22a5534e6   \n",
       "\n",
       "                 image_position  samples_per_pixel         pixel_spacing  \\\n",
       "0  [-125.000, -122.596, 35.968]                  1  [0.488281, 0.488281]   \n",
       "\n",
       "   pixel_representation window_center window_width  rescale_intercept  \\\n",
       "0                     1            30           80            -1024.0   \n",
       "\n",
       "   rescale_slope         ID  \n",
       "0            1.0  45785016b  "
      ],
      "text/html": [
       "<div>\n",
       "<style scoped>\n",
       "    .dataframe tbody tr th:only-of-type {\n",
       "        vertical-align: middle;\n",
       "    }\n",
       "\n",
       "    .dataframe tbody tr th {\n",
       "        vertical-align: top;\n",
       "    }\n",
       "\n",
       "    .dataframe thead th {\n",
       "        text-align: right;\n",
       "    }\n",
       "</style>\n",
       "<table border=\"1\" class=\"dataframe\">\n",
       "  <thead>\n",
       "    <tr style=\"text-align: right;\">\n",
       "      <th></th>\n",
       "      <th>filename</th>\n",
       "      <th>any</th>\n",
       "      <th>epidural</th>\n",
       "      <th>intraparenchymal</th>\n",
       "      <th>intraventricular</th>\n",
       "      <th>subarachnoid</th>\n",
       "      <th>subdural</th>\n",
       "      <th>patient_id</th>\n",
       "      <th>study_instance_uid</th>\n",
       "      <th>series_instance_uid</th>\n",
       "      <th>image_position</th>\n",
       "      <th>samples_per_pixel</th>\n",
       "      <th>pixel_spacing</th>\n",
       "      <th>pixel_representation</th>\n",
       "      <th>window_center</th>\n",
       "      <th>window_width</th>\n",
       "      <th>rescale_intercept</th>\n",
       "      <th>rescale_slope</th>\n",
       "      <th>ID</th>\n",
       "    </tr>\n",
       "  </thead>\n",
       "  <tbody>\n",
       "    <tr>\n",
       "      <th>0</th>\n",
       "      <td>ID_45785016b.dcm</td>\n",
       "      <td>0</td>\n",
       "      <td>0</td>\n",
       "      <td>0</td>\n",
       "      <td>0</td>\n",
       "      <td>0</td>\n",
       "      <td>0</td>\n",
       "      <td>ID_0002cd41</td>\n",
       "      <td>ID_66929e09d4</td>\n",
       "      <td>ID_e22a5534e6</td>\n",
       "      <td>[-125.000, -122.596, 35.968]</td>\n",
       "      <td>1</td>\n",
       "      <td>[0.488281, 0.488281]</td>\n",
       "      <td>1</td>\n",
       "      <td>30</td>\n",
       "      <td>80</td>\n",
       "      <td>-1024.0</td>\n",
       "      <td>1.0</td>\n",
       "      <td>45785016b</td>\n",
       "    </tr>\n",
       "  </tbody>\n",
       "</table>\n",
       "</div>"
      ]
     },
     "execution_count": 4,
     "metadata": {},
     "output_type": "execute_result"
    }
   ],
   "execution_count": 4
  },
  {
   "metadata": {
    "ExecuteTime": {
     "end_time": "2024-10-14T15:42:39.732585Z",
     "start_time": "2024-10-14T15:42:39.717581Z"
    }
   },
   "cell_type": "code",
   "source": "raw_df.columns",
   "outputs": [
    {
     "data": {
      "text/plain": [
       "Index(['filename', 'any', 'epidural', 'intraparenchymal', 'intraventricular',\n",
       "       'subarachnoid', 'subdural', 'patient_id', 'study_instance_uid',\n",
       "       'series_instance_uid', 'image_position', 'samples_per_pixel',\n",
       "       'pixel_spacing', 'pixel_representation', 'window_center',\n",
       "       'window_width', 'rescale_intercept', 'rescale_slope', 'ID'],\n",
       "      dtype='object')"
      ]
     },
     "execution_count": 5,
     "metadata": {},
     "output_type": "execute_result"
    }
   ],
   "execution_count": 5
  },
  {
   "metadata": {},
   "cell_type": "markdown",
   "source": "## Create dataframe"
  },
  {
   "metadata": {
    "ExecuteTime": {
     "end_time": "2024-10-14T15:42:39.793598Z",
     "start_time": "2024-10-14T15:42:39.780595Z"
    }
   },
   "cell_type": "code",
   "source": [
    "def process_medical_images(raw_df):\n",
    "    grouped = raw_df.groupby(['patient_id', 'study_instance_uid'])\n",
    "    \n",
    "    metadata_columns = ['image_position', 'samples_per_pixel', 'pixel_spacing', 'pixel_representation', \n",
    "                        'window_center', 'window_width', 'rescale_intercept', 'rescale_slope', 'ID']\n",
    "    \n",
    "    label_columns = hemorrhage_types\n",
    "    \n",
    "    new_df_list = [\n",
    "        {\n",
    "            'patient_id': patient_id,\n",
    "            'study_instance_uid': study_instance_uid,\n",
    "            'images': group['filename'].tolist(),\n",
    "            'labels': [int(any(row)) for row in group[label_columns].values],\n",
    "            'patient_scan_label': int(group['any'].any()),\n",
    "            'metadata': group[metadata_columns].to_dict('records')\n",
    "        }\n",
    "        for (patient_id, study_instance_uid), group in grouped\n",
    "    ]\n",
    "    \n",
    "    new_df = pd.DataFrame(new_df_list)\n",
    "    return new_df[['patient_id', 'study_instance_uid', 'images', 'labels', 'patient_scan_label', 'metadata']]"
   ],
   "outputs": [],
   "execution_count": 6
  },
  {
   "metadata": {},
   "cell_type": "markdown",
   "source": "### Balancing labels"
  },
  {
   "metadata": {
    "ExecuteTime": {
     "end_time": "2024-10-14T15:42:39.809603Z",
     "start_time": "2024-10-14T15:42:39.802601Z"
    }
   },
   "cell_type": "code",
   "source": [
    "def balanced_patient_sample(df, max_size=None):\n",
    "    # Process the raw DataFrame to get the main DataFrame\n",
    "    processed_df = process_medical_images(df)\n",
    "    \n",
    "    # Filter patients based on the number of labeled images\n",
    "    patients_with_0_labels = processed_df[processed_df['patient_scan_label'] == 0]\n",
    "    patients_with_1_label = processed_df[processed_df['patient_scan_label'] == 1]\n",
    "    \n",
    "    # Determine the number of samples to take from each group\n",
    "    if max_size is not None:\n",
    "        num_samples = max_size // 2\n",
    "    else:\n",
    "        num_samples = min(len(patients_with_0_labels), len(patients_with_1_label))\n",
    "    \n",
    "    # Ensure we do not exceed available samples\n",
    "    sampled_0_labels = patients_with_0_labels.sample(n=min(num_samples, len(patients_with_0_labels)), random_state=random_state)\n",
    "    sampled_1_label = patients_with_1_label.sample(n=min(num_samples, len(patients_with_1_label)), random_state=random_state)\n",
    "    \n",
    "    # Concatenate the two sampled DataFrames\n",
    "    balanced_df = pd.concat([sampled_0_labels, sampled_1_label], ignore_index=True)\n",
    "\n",
    "    return balanced_df"
   ],
   "outputs": [],
   "execution_count": 7
  },
  {
   "metadata": {},
   "cell_type": "markdown",
   "source": "### Save dataframe"
  },
  {
   "metadata": {
    "ExecuteTime": {
     "end_time": "2024-10-14T15:43:06.208360Z",
     "start_time": "2024-10-14T15:42:39.826608Z"
    }
   },
   "cell_type": "code",
   "source": "balanced_patients_df = balanced_patient_sample(raw_df, max_size=NUM_PATIENTS)",
   "outputs": [],
   "execution_count": 8
  },
  {
   "metadata": {
    "ExecuteTime": {
     "end_time": "2024-10-14T15:43:06.316809Z",
     "start_time": "2024-10-14T15:43:06.272387Z"
    }
   },
   "cell_type": "code",
   "source": "balanced_patients_df.head()",
   "outputs": [
    {
     "data": {
      "text/plain": [
       "    patient_id study_instance_uid  \\\n",
       "0  ID_2e010e33      ID_bda0f47e84   \n",
       "1  ID_43dd2890      ID_43af13416f   \n",
       "2  ID_93753256      ID_1ee74896bd   \n",
       "3  ID_2d49911c      ID_a71e7c6817   \n",
       "4  ID_cd2cd174      ID_d02e9abf35   \n",
       "\n",
       "                                              images  \\\n",
       "0  [ID_b9035cb1e.dcm, ID_0713bed86.dcm, ID_5c1a61...   \n",
       "1  [ID_23864d3ba.dcm, ID_f1c65b76e.dcm, ID_5a822b...   \n",
       "2  [ID_a3a37df48.dcm, ID_61dd5485f.dcm, ID_930ea8...   \n",
       "3  [ID_93d9cf661.dcm, ID_efd4e2780.dcm, ID_7f6bed...   \n",
       "4  [ID_b437d2e19.dcm, ID_0a919428c.dcm, ID_d3cd41...   \n",
       "\n",
       "                                              labels  patient_scan_label  \\\n",
       "0  [0, 0, 0, 0, 0, 0, 0, 0, 0, 0, 0, 0, 0, 0, 0, ...                   0   \n",
       "1  [0, 0, 0, 0, 0, 0, 0, 0, 0, 0, 0, 0, 0, 0, 0, ...                   0   \n",
       "2  [0, 0, 0, 0, 0, 0, 0, 0, 0, 0, 0, 0, 0, 0, 0, ...                   0   \n",
       "3  [0, 0, 0, 0, 0, 0, 0, 0, 0, 0, 0, 0, 0, 0, 0, ...                   0   \n",
       "4  [0, 0, 0, 0, 0, 0, 0, 0, 0, 0, 0, 0, 0, 0, 0, ...                   0   \n",
       "\n",
       "                                            metadata  \n",
       "0  [{'image_position': '[-125.000, -106.498, 42.7...  \n",
       "1  [{'image_position': '[-114.5, 25.5, 86.9000244...  \n",
       "2  [{'image_position': '[-125, -11, 119.599976]',...  \n",
       "3  [{'image_position': '[-125.000, -153.258, 47.6...  \n",
       "4  [{'image_position': '[-110.5, -15.5, 103.80004...  "
      ],
      "text/html": [
       "<div>\n",
       "<style scoped>\n",
       "    .dataframe tbody tr th:only-of-type {\n",
       "        vertical-align: middle;\n",
       "    }\n",
       "\n",
       "    .dataframe tbody tr th {\n",
       "        vertical-align: top;\n",
       "    }\n",
       "\n",
       "    .dataframe thead th {\n",
       "        text-align: right;\n",
       "    }\n",
       "</style>\n",
       "<table border=\"1\" class=\"dataframe\">\n",
       "  <thead>\n",
       "    <tr style=\"text-align: right;\">\n",
       "      <th></th>\n",
       "      <th>patient_id</th>\n",
       "      <th>study_instance_uid</th>\n",
       "      <th>images</th>\n",
       "      <th>labels</th>\n",
       "      <th>patient_scan_label</th>\n",
       "      <th>metadata</th>\n",
       "    </tr>\n",
       "  </thead>\n",
       "  <tbody>\n",
       "    <tr>\n",
       "      <th>0</th>\n",
       "      <td>ID_2e010e33</td>\n",
       "      <td>ID_bda0f47e84</td>\n",
       "      <td>[ID_b9035cb1e.dcm, ID_0713bed86.dcm, ID_5c1a61...</td>\n",
       "      <td>[0, 0, 0, 0, 0, 0, 0, 0, 0, 0, 0, 0, 0, 0, 0, ...</td>\n",
       "      <td>0</td>\n",
       "      <td>[{'image_position': '[-125.000, -106.498, 42.7...</td>\n",
       "    </tr>\n",
       "    <tr>\n",
       "      <th>1</th>\n",
       "      <td>ID_43dd2890</td>\n",
       "      <td>ID_43af13416f</td>\n",
       "      <td>[ID_23864d3ba.dcm, ID_f1c65b76e.dcm, ID_5a822b...</td>\n",
       "      <td>[0, 0, 0, 0, 0, 0, 0, 0, 0, 0, 0, 0, 0, 0, 0, ...</td>\n",
       "      <td>0</td>\n",
       "      <td>[{'image_position': '[-114.5, 25.5, 86.9000244...</td>\n",
       "    </tr>\n",
       "    <tr>\n",
       "      <th>2</th>\n",
       "      <td>ID_93753256</td>\n",
       "      <td>ID_1ee74896bd</td>\n",
       "      <td>[ID_a3a37df48.dcm, ID_61dd5485f.dcm, ID_930ea8...</td>\n",
       "      <td>[0, 0, 0, 0, 0, 0, 0, 0, 0, 0, 0, 0, 0, 0, 0, ...</td>\n",
       "      <td>0</td>\n",
       "      <td>[{'image_position': '[-125, -11, 119.599976]',...</td>\n",
       "    </tr>\n",
       "    <tr>\n",
       "      <th>3</th>\n",
       "      <td>ID_2d49911c</td>\n",
       "      <td>ID_a71e7c6817</td>\n",
       "      <td>[ID_93d9cf661.dcm, ID_efd4e2780.dcm, ID_7f6bed...</td>\n",
       "      <td>[0, 0, 0, 0, 0, 0, 0, 0, 0, 0, 0, 0, 0, 0, 0, ...</td>\n",
       "      <td>0</td>\n",
       "      <td>[{'image_position': '[-125.000, -153.258, 47.6...</td>\n",
       "    </tr>\n",
       "    <tr>\n",
       "      <th>4</th>\n",
       "      <td>ID_cd2cd174</td>\n",
       "      <td>ID_d02e9abf35</td>\n",
       "      <td>[ID_b437d2e19.dcm, ID_0a919428c.dcm, ID_d3cd41...</td>\n",
       "      <td>[0, 0, 0, 0, 0, 0, 0, 0, 0, 0, 0, 0, 0, 0, 0, ...</td>\n",
       "      <td>0</td>\n",
       "      <td>[{'image_position': '[-110.5, -15.5, 103.80004...</td>\n",
       "    </tr>\n",
       "  </tbody>\n",
       "</table>\n",
       "</div>"
      ]
     },
     "execution_count": 9,
     "metadata": {},
     "output_type": "execute_result"
    }
   ],
   "execution_count": 9
  },
  {
   "metadata": {
    "execution": {
     "iopub.execute_input": "2024-09-14T19:41:10.654268Z",
     "iopub.status.busy": "2024-09-14T19:41:10.653914Z",
     "iopub.status.idle": "2024-09-14T19:41:10.668766Z",
     "shell.execute_reply": "2024-09-14T19:41:10.667484Z",
     "shell.execute_reply.started": "2024-09-14T19:41:10.654231Z"
    },
    "trusted": true,
    "ExecuteTime": {
     "end_time": "2024-10-14T15:43:06.673368Z",
     "start_time": "2024-10-14T15:43:06.440048Z"
    }
   },
   "cell_type": "code",
   "source": [
    "# Save the extracted patients to a new CSV file\n",
    "balanced_patients_df.to_csv(f'{destination_dir}/training_{len(balanced_patients_df)}_scan_subset.csv', index=False)"
   ],
   "outputs": [],
   "execution_count": 10
  },
  {
   "metadata": {},
   "cell_type": "markdown",
   "source": "## Save DICOM images"
  },
  {
   "cell_type": "code",
   "metadata": {
    "execution": {
     "iopub.execute_input": "2024-09-14T19:41:10.670939Z",
     "iopub.status.busy": "2024-09-14T19:41:10.670441Z",
     "iopub.status.idle": "2024-09-14T19:43:13.860870Z",
     "shell.execute_reply": "2024-09-14T19:43:13.859734Z",
     "shell.execute_reply.started": "2024-09-14T19:41:10.670885Z"
    },
    "trusted": true,
    "ExecuteTime": {
     "end_time": "2024-10-14T15:43:06.781352Z",
     "start_time": "2024-10-14T15:43:06.767350Z"
    }
   },
   "source": [
    "def group_dcm_files(images_dir, df, destination_dir):\n",
    "    os.makedirs(destination_dir, exist_ok=True)  # Create the main destination directory\n",
    "    folder_dict = {}\n",
    "\n",
    "    # Precompute folder paths to reduce repeated calls to os.makedirs()\n",
    "    for index, row in df.iterrows():\n",
    "        patient_id = row['patient_id'].replace('ID_', '')\n",
    "        study_instance_uid = row['study_instance_uid'].replace('ID_', '')\n",
    "        folder_name = f'{patient_id}_{study_instance_uid}'\n",
    "                \n",
    "        # Store folder path if it doesn't exist\n",
    "        if folder_name not in folder_dict:\n",
    "            folder_path = os.path.join(destination_dir, folder_name)\n",
    "            os.makedirs(folder_path, exist_ok=True)  # Create the directory only once\n",
    "            folder_dict[folder_name] = folder_path\n",
    "        \n",
    "        images = row['images']  # Expecting images is a list\n",
    "        for image in images:\n",
    "            image_path = os.path.join(images_dir, image)\n",
    "            if os.path.isfile(image_path):  # Check if file exists before copying\n",
    "                shutil.copy(image_path, folder_dict[folder_name])  # Use precomputed path\n",
    "            else:\n",
    "                print(f'Warning: {image} not found in {images_dir}.')  # Handle missing files"
   ],
   "outputs": [],
   "execution_count": 11
  },
  {
   "metadata": {
    "ExecuteTime": {
     "end_time": "2024-10-14T16:57:19.971768Z",
     "start_time": "2024-10-14T15:43:06.787353Z"
    }
   },
   "cell_type": "code",
   "source": "group_dcm_files(images_dir=train_images_dir, df=balanced_patients_df, destination_dir=destination_dir)",
   "outputs": [],
   "execution_count": 12
  },
  {
   "metadata": {},
   "cell_type": "markdown",
   "source": "## Statistics"
  },
  {
   "cell_type": "code",
   "metadata": {
    "trusted": true,
    "ExecuteTime": {
     "end_time": "2024-10-14T16:57:20.144806Z",
     "start_time": "2024-10-14T16:57:20.115801Z"
    }
   },
   "source": [
    "def analyze_patient_data(data):\n",
    "    # Drop the metadata column for analysis\n",
    "    data_analysis = data.drop(columns=['metadata'])\n",
    "\n",
    "    # Example Analysis: Distribution of labels\n",
    "    label_counts = pd.Series([label for sublist in data_analysis['labels'] for label in sublist]).value_counts()\n",
    "\n",
    "    # Plotting the distribution of labels\n",
    "    plt.figure(figsize=(10, 6))\n",
    "    bars = label_counts.plot(kind='bar')\n",
    "    plt.title('Distribution of Labels')\n",
    "    plt.xlabel('Label Value')\n",
    "    plt.ylabel('Count')\n",
    "    plt.xticks(rotation=0)\n",
    "    plt.tight_layout()\n",
    "\n",
    "    # Adding value labels on top of each bar\n",
    "    for bar in bars.patches:\n",
    "        plt.text(bar.get_x() + bar.get_width() / 2, bar.get_height(),\n",
    "                 int(bar.get_height()), ha='center', va='bottom')\n",
    "\n",
    "    plt.show()\n",
    "\n",
    "    # Calculate the number of images per patient\n",
    "    data_analysis['num_images'] = data_analysis['images'].apply(len)  # Directly get length of list\n",
    "\n",
    "    # Calculate max, min, mean\n",
    "    max_images = data_analysis['num_images'].max()\n",
    "    min_images = data_analysis['num_images'].min()\n",
    "    mean_images = data_analysis['num_images'].mean()\n",
    "\n",
    "    # Plotting max, min, mean number of images\n",
    "    plt.figure(figsize=(8, 5))\n",
    "    plt.bar(['Max', 'Min', 'Mean'], [max_images, min_images, mean_images], color=['red', 'blue', 'green'])\n",
    "    plt.title('Max, Min, Mean Number of Images per Patient')\n",
    "    plt.ylabel('Number of Images')\n",
    "    plt.ylim(0, max(max_images + 1, mean_images + 1))  # Set y-limit to be slightly above max value\n",
    "\n",
    "    for index, value in enumerate([max_images, min_images, mean_images]):\n",
    "        plt.text(index, value + 0.1, str(value), ha='center')\n",
    "\n",
    "    plt.tight_layout()\n",
    "    plt.show()"
   ],
   "outputs": [],
   "execution_count": 13
  },
  {
   "metadata": {
    "ExecuteTime": {
     "end_time": "2024-10-14T16:57:20.934657Z",
     "start_time": "2024-10-14T16:57:20.210821Z"
    }
   },
   "cell_type": "code",
   "source": "analyze_patient_data(balanced_patients_df)",
   "outputs": [
    {
     "data": {
      "text/plain": [
       "<Figure size 1000x600 with 1 Axes>"
      ],
      "image/png": "[encoded data removed]"
     },
     "metadata": {},
     "output_type": "display_data"
    },
    {
     "data": {
      "text/plain": [
       "<Figure size 800x500 with 1 Axes>"
      ],
      "image/png": "[encoded data removed]"
     },
     "metadata": {},
     "output_type": "display_data"
    }
   ],
   "execution_count": 14
  }
 ],
 "metadata": {
  "kaggle": {
   "accelerator": "none",
   "dataSources": [
    {
     "databundleVersionId": 1188070,
     "datasetId": 654585,
     "sourceId": 13451,
     "sourceType": "competition"
    },
    {
     "databundleVersionId": 9597901,
     "datasetId": 5702623,
     "sourceId": 9396049,
     "sourceType": "datasetVersion"
    }
   ],
   "dockerImageVersionId": 30761,
   "isGpuEnabled": false,
   "isInternetEnabled": true,
   "language": "python",
   "sourceType": "notebook"
  },
  "kernelspec": {
   "display_name": "Python 3",
   "language": "python",
   "name": "python3"
  },
  "language_info": {
   "codemirror_mode": {
    "name": "ipython",
    "version": 3
   },
   "file_extension": ".py",
   "mimetype": "text/x-python",
   "name": "python",
   "nbconvert_exporter": "python",
   "pygments_lexer": "ipython3",
   "version": "3.12.2"
  }
 },
 "nbformat": 4,
 "nbformat_minor": 4
}
