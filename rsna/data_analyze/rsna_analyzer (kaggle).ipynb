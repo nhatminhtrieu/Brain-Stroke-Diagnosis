{
 "cells": [
  {
   "cell_type": "markdown",
   "metadata": {},
   "source": "## Generate NUM_PATIENTS_PER_LABEL cases for training (2 labels: No hemorrhage and Most occurrence hemorrhage type)"
  },
  {
   "cell_type": "code",
   "metadata": {
    "execution": {
     "iopub.execute_input": "2024-09-14T19:41:07.002434Z",
     "iopub.status.busy": "2024-09-14T19:41:07.001843Z",
     "iopub.status.idle": "2024-09-14T19:41:07.008041Z",
     "shell.execute_reply": "2024-09-14T19:41:07.006780Z",
     "shell.execute_reply.started": "2024-09-14T19:41:07.002378Z"
    },
    "trusted": true,
    "ExecuteTime": {
     "end_time": "2024-09-20T15:23:47.956054Z",
     "start_time": "2024-09-20T15:23:47.951480Z"
    }
   },
   "source": [
    "import os\n",
    "import pandas as pd\n",
    "import matplotlib.pyplot as plt\n",
    "import seaborn as sns"
   ],
   "outputs": [],
   "execution_count": 3
  },
  {
   "metadata": {
    "ExecuteTime": {
     "end_time": "2024-09-20T15:23:47.995850Z",
     "start_time": "2024-09-20T15:23:47.992057Z"
    }
   },
   "cell_type": "code",
   "source": [
    "# Define paths\n",
    "dataset_path = 'E:/rsna-intracranial-hemorrhage-detection'\n",
    "destination_dir = 'E:/rsna-mil-training'\n",
    "train_images_dir = 'E:/rsna-intracranial-hemorrhage-detection/stage_2_train'\n",
    "scan_level_dataset = 'C:/Users/MINH/Downloads/Coding/HCMUS/Thesis/Brain-Stroke-Diagnosis/rsna/data_analyze/scan_level_dataset.csv'\n",
    "filename = 'C:/Users/MINH/OneDrive - nhatminhtrieu1/Thesis 2025 Storage/RSNA_Datasheet/sorted_training_dataset_with_labels.csv'\n",
    "\n",
    "# Create destination directory if it doesn't exist\n",
    "os.makedirs(destination_dir, exist_ok=True)"
   ],
   "outputs": [],
   "execution_count": 4
  },
  {
   "cell_type": "code",
   "metadata": {
    "execution": {
     "iopub.execute_input": "2024-09-14T19:41:07.025701Z",
     "iopub.status.busy": "2024-09-14T19:41:07.025224Z",
     "iopub.status.idle": "2024-09-14T19:41:10.596333Z",
     "shell.execute_reply": "2024-09-14T19:41:10.594842Z",
     "shell.execute_reply.started": "2024-09-14T19:41:07.025647Z"
    },
    "trusted": true,
    "ExecuteTime": {
     "end_time": "2024-09-20T15:23:49.906989Z",
     "start_time": "2024-09-20T15:23:48.032365Z"
    }
   },
   "source": [
    "# Read file csv as a dataframe\n",
    "raw_df = pd.read_csv(filename)\n",
    "\n",
    "raw_df.head()"
   ],
   "outputs": [
    {
     "data": {
      "text/plain": [
       "           filename  any  epidural  intraparenchymal  intraventricular  \\\n",
       "0  ID_45785016b.dcm    0         0                 0                 0   \n",
       "1  ID_37f32aed2.dcm    0         0                 0                 0   \n",
       "2  ID_1b9de2922.dcm    0         0                 0                 0   \n",
       "3  ID_d61a6a7b9.dcm    0         0                 0                 0   \n",
       "4  ID_406c82112.dcm    0         0                 0                 0   \n",
       "\n",
       "   subarachnoid  subdural   patient_id study_instance_uid series_instance_uid  \\\n",
       "0             0         0  ID_0002cd41      ID_66929e09d4       ID_e22a5534e6   \n",
       "1             0         0  ID_0002cd41      ID_66929e09d4       ID_e22a5534e6   \n",
       "2             0         0  ID_0002cd41      ID_66929e09d4       ID_e22a5534e6   \n",
       "3             0         0  ID_0002cd41      ID_66929e09d4       ID_e22a5534e6   \n",
       "4             0         0  ID_0002cd41      ID_66929e09d4       ID_e22a5534e6   \n",
       "\n",
       "                 image_position  samples_per_pixel         pixel_spacing  \\\n",
       "0  [-125.000, -122.596, 35.968]                  1  [0.488281, 0.488281]   \n",
       "1  [-125.000, -122.596, 38.484]                  1  [0.488281, 0.488281]   \n",
       "2  [-125.000, -122.596, 41.000]                  1  [0.488281, 0.488281]   \n",
       "3  [-125.000, -122.596, 43.517]                  1  [0.488281, 0.488281]   \n",
       "4  [-125.000, -122.596, 46.033]                  1  [0.488281, 0.488281]   \n",
       "\n",
       "   pixel_representation window_center window_width  rescale_intercept  \\\n",
       "0                     1            30           80            -1024.0   \n",
       "1                     1            30           80            -1024.0   \n",
       "2                     1            30           80            -1024.0   \n",
       "3                     1            30           80            -1024.0   \n",
       "4                     1            30           80            -1024.0   \n",
       "\n",
       "   rescale_slope         ID  \n",
       "0            1.0  45785016b  \n",
       "1            1.0  37f32aed2  \n",
       "2            1.0  1b9de2922  \n",
       "3            1.0  d61a6a7b9  \n",
       "4            1.0  406c82112  "
      ],
      "text/html": [
       "<div>\n",
       "<style scoped>\n",
       "    .dataframe tbody tr th:only-of-type {\n",
       "        vertical-align: middle;\n",
       "    }\n",
       "\n",
       "    .dataframe tbody tr th {\n",
       "        vertical-align: top;\n",
       "    }\n",
       "\n",
       "    .dataframe thead th {\n",
       "        text-align: right;\n",
       "    }\n",
       "</style>\n",
       "<table border=\"1\" class=\"dataframe\">\n",
       "  <thead>\n",
       "    <tr style=\"text-align: right;\">\n",
       "      <th></th>\n",
       "      <th>filename</th>\n",
       "      <th>any</th>\n",
       "      <th>epidural</th>\n",
       "      <th>intraparenchymal</th>\n",
       "      <th>intraventricular</th>\n",
       "      <th>subarachnoid</th>\n",
       "      <th>subdural</th>\n",
       "      <th>patient_id</th>\n",
       "      <th>study_instance_uid</th>\n",
       "      <th>series_instance_uid</th>\n",
       "      <th>image_position</th>\n",
       "      <th>samples_per_pixel</th>\n",
       "      <th>pixel_spacing</th>\n",
       "      <th>pixel_representation</th>\n",
       "      <th>window_center</th>\n",
       "      <th>window_width</th>\n",
       "      <th>rescale_intercept</th>\n",
       "      <th>rescale_slope</th>\n",
       "      <th>ID</th>\n",
       "    </tr>\n",
       "  </thead>\n",
       "  <tbody>\n",
       "    <tr>\n",
       "      <th>0</th>\n",
       "      <td>ID_45785016b.dcm</td>\n",
       "      <td>0</td>\n",
       "      <td>0</td>\n",
       "      <td>0</td>\n",
       "      <td>0</td>\n",
       "      <td>0</td>\n",
       "      <td>0</td>\n",
       "      <td>ID_0002cd41</td>\n",
       "      <td>ID_66929e09d4</td>\n",
       "      <td>ID_e22a5534e6</td>\n",
       "      <td>[-125.000, -122.596, 35.968]</td>\n",
       "      <td>1</td>\n",
       "      <td>[0.488281, 0.488281]</td>\n",
       "      <td>1</td>\n",
       "      <td>30</td>\n",
       "      <td>80</td>\n",
       "      <td>-1024.0</td>\n",
       "      <td>1.0</td>\n",
       "      <td>45785016b</td>\n",
       "    </tr>\n",
       "    <tr>\n",
       "      <th>1</th>\n",
       "      <td>ID_37f32aed2.dcm</td>\n",
       "      <td>0</td>\n",
       "      <td>0</td>\n",
       "      <td>0</td>\n",
       "      <td>0</td>\n",
       "      <td>0</td>\n",
       "      <td>0</td>\n",
       "      <td>ID_0002cd41</td>\n",
       "      <td>ID_66929e09d4</td>\n",
       "      <td>ID_e22a5534e6</td>\n",
       "      <td>[-125.000, -122.596, 38.484]</td>\n",
       "      <td>1</td>\n",
       "      <td>[0.488281, 0.488281]</td>\n",
       "      <td>1</td>\n",
       "      <td>30</td>\n",
       "      <td>80</td>\n",
       "      <td>-1024.0</td>\n",
       "      <td>1.0</td>\n",
       "      <td>37f32aed2</td>\n",
       "    </tr>\n",
       "    <tr>\n",
       "      <th>2</th>\n",
       "      <td>ID_1b9de2922.dcm</td>\n",
       "      <td>0</td>\n",
       "      <td>0</td>\n",
       "      <td>0</td>\n",
       "      <td>0</td>\n",
       "      <td>0</td>\n",
       "      <td>0</td>\n",
       "      <td>ID_0002cd41</td>\n",
       "      <td>ID_66929e09d4</td>\n",
       "      <td>ID_e22a5534e6</td>\n",
       "      <td>[-125.000, -122.596, 41.000]</td>\n",
       "      <td>1</td>\n",
       "      <td>[0.488281, 0.488281]</td>\n",
       "      <td>1</td>\n",
       "      <td>30</td>\n",
       "      <td>80</td>\n",
       "      <td>-1024.0</td>\n",
       "      <td>1.0</td>\n",
       "      <td>1b9de2922</td>\n",
       "    </tr>\n",
       "    <tr>\n",
       "      <th>3</th>\n",
       "      <td>ID_d61a6a7b9.dcm</td>\n",
       "      <td>0</td>\n",
       "      <td>0</td>\n",
       "      <td>0</td>\n",
       "      <td>0</td>\n",
       "      <td>0</td>\n",
       "      <td>0</td>\n",
       "      <td>ID_0002cd41</td>\n",
       "      <td>ID_66929e09d4</td>\n",
       "      <td>ID_e22a5534e6</td>\n",
       "      <td>[-125.000, -122.596, 43.517]</td>\n",
       "      <td>1</td>\n",
       "      <td>[0.488281, 0.488281]</td>\n",
       "      <td>1</td>\n",
       "      <td>30</td>\n",
       "      <td>80</td>\n",
       "      <td>-1024.0</td>\n",
       "      <td>1.0</td>\n",
       "      <td>d61a6a7b9</td>\n",
       "    </tr>\n",
       "    <tr>\n",
       "      <th>4</th>\n",
       "      <td>ID_406c82112.dcm</td>\n",
       "      <td>0</td>\n",
       "      <td>0</td>\n",
       "      <td>0</td>\n",
       "      <td>0</td>\n",
       "      <td>0</td>\n",
       "      <td>0</td>\n",
       "      <td>ID_0002cd41</td>\n",
       "      <td>ID_66929e09d4</td>\n",
       "      <td>ID_e22a5534e6</td>\n",
       "      <td>[-125.000, -122.596, 46.033]</td>\n",
       "      <td>1</td>\n",
       "      <td>[0.488281, 0.488281]</td>\n",
       "      <td>1</td>\n",
       "      <td>30</td>\n",
       "      <td>80</td>\n",
       "      <td>-1024.0</td>\n",
       "      <td>1.0</td>\n",
       "      <td>406c82112</td>\n",
       "    </tr>\n",
       "  </tbody>\n",
       "</table>\n",
       "</div>"
      ]
     },
     "execution_count": 5,
     "metadata": {},
     "output_type": "execute_result"
    }
   ],
   "execution_count": 5
  },
  {
   "metadata": {
    "ExecuteTime": {
     "end_time": "2024-09-20T15:23:49.912500Z",
     "start_time": "2024-09-20T15:23:49.907983Z"
    }
   },
   "cell_type": "code",
   "source": "raw_df.columns",
   "outputs": [
    {
     "data": {
      "text/plain": [
       "Index(['filename', 'any', 'epidural', 'intraparenchymal', 'intraventricular',\n",
       "       'subarachnoid', 'subdural', 'patient_id', 'study_instance_uid',\n",
       "       'series_instance_uid', 'image_position', 'samples_per_pixel',\n",
       "       'pixel_spacing', 'pixel_representation', 'window_center',\n",
       "       'window_width', 'rescale_intercept', 'rescale_slope', 'ID'],\n",
       "      dtype='object')"
      ]
     },
     "execution_count": 6,
     "metadata": {},
     "output_type": "execute_result"
    }
   ],
   "execution_count": 6
  },
  {
   "cell_type": "code",
   "metadata": {
    "execution": {
     "iopub.execute_input": "2024-09-14T19:41:10.599172Z",
     "iopub.status.busy": "2024-09-14T19:41:10.598788Z",
     "iopub.status.idle": "2024-09-14T19:41:10.643702Z",
     "shell.execute_reply": "2024-09-14T19:41:10.642366Z",
     "shell.execute_reply.started": "2024-09-14T19:41:10.599131Z"
    },
    "trusted": true,
    "ExecuteTime": {
     "end_time": "2024-09-20T15:23:49.942838Z",
     "start_time": "2024-09-20T15:23:49.913489Z"
    }
   },
   "source": [
    "# Read scan_level_dataset.csv as a DataFrame \n",
    "scan_level_df = pd.read_csv(scan_level_dataset)"
   ],
   "outputs": [],
   "execution_count": 7
  },
  {
   "metadata": {
    "ExecuteTime": {
     "end_time": "2024-09-20T15:23:49.947841Z",
     "start_time": "2024-09-20T15:23:49.943832Z"
    }
   },
   "cell_type": "code",
   "source": "scan_level_df.columns",
   "outputs": [
    {
     "data": {
      "text/plain": [
       "Index(['patient_id', 'study_instance_uid', 'any', 'epidural',\n",
       "       'intraparenchymal', 'intraventricular', 'subarachnoid', 'subdural'],\n",
       "      dtype='object')"
      ]
     },
     "execution_count": 8,
     "metadata": {},
     "output_type": "execute_result"
    }
   ],
   "execution_count": 8
  },
  {
   "metadata": {
    "ExecuteTime": {
     "end_time": "2024-09-20T15:23:49.972959Z",
     "start_time": "2024-09-20T15:23:49.948350Z"
    }
   },
   "cell_type": "code",
   "source": [
    "## CASE: UNIQUE PATIENTS PER LABEL\n",
    "# Define the number of unique patients to extract per hemorrhage label\n",
    "NUM_PATIENTS_PER_LABEL = 500\n",
    "\n",
    "# Function to extract unique patients based on a specified condition\n",
    "def extract_unique_patients(df, condition, num_patients, excluded_ids):\n",
    "    \"\"\"Extract unique patients based on a specific condition, excluding certain IDs.\"\"\"\n",
    "    unique_patients = df[condition & ~df['patient_id'].isin(excluded_ids)].groupby('patient_id').first().reset_index()\n",
    "    return unique_patients.head(num_patients)\n",
    "\n",
    "# List of hemorrhage types\n",
    "hemorrhage_types = ['intraparenchymal', 'intraventricular', 'subarachnoid', 'subdural', 'epidural']\n",
    "\n",
    "# Initialize a list to store extracted patients\n",
    "extracted_patients_list = []\n",
    "\n",
    "# Initialize a set to keep track of already selected patient IDs\n",
    "selected_patient_ids = set()\n",
    "\n",
    "# Extract patients with no hemorrhage (0 for all hemorrhage columns)\n",
    "no_hemorrhage_condition = (scan_level_df[hemorrhage_types] == 0).all(axis=1)\n",
    "unique_no_hemorrhage_patients = extract_unique_patients(scan_level_df, no_hemorrhage_condition, NUM_PATIENTS_PER_LABEL, selected_patient_ids)\n",
    "extracted_patients_list.append(unique_no_hemorrhage_patients)\n",
    "selected_patient_ids.update(unique_no_hemorrhage_patients['patient_id'])\n",
    "\n",
    "# Determine the most prevalent hemorrhage type by counting positive cases\n",
    "hemorrhage_counts = scan_level_df[hemorrhage_types].sum()\n",
    "most_prevalent_hemorrhage_type = hemorrhage_counts.idxmax()\n",
    "\n",
    "# Extract patients for the most prevalent hemorrhage type\n",
    "most_prevalent_condition = scan_level_df[most_prevalent_hemorrhage_type] == 1\n",
    "unique_most_prevalent_patients = extract_unique_patients(scan_level_df, most_prevalent_condition, NUM_PATIENTS_PER_LABEL, selected_patient_ids)\n",
    "extracted_patients_list.append(unique_most_prevalent_patients)\n",
    "selected_patient_ids.update(unique_most_prevalent_patients['patient_id'])\n",
    "\n",
    "# Concatenate all extracted patients\n",
    "extracted_patients = pd.concat(extracted_patients_list, ignore_index=True)"
   ],
   "outputs": [],
   "execution_count": 9
  },
  {
   "metadata": {
    "ExecuteTime": {
     "end_time": "2024-09-20T15:23:49.977095Z",
     "start_time": "2024-09-20T15:23:49.973955Z"
    }
   },
   "cell_type": "code",
   "source": [
    "# ## CASE: UNIQUE PATIENTS PER LABEL\n",
    "# # Define the number of unique patients to extract per hemorrhage label\n",
    "# NUM_PATIENTS_PER_LABEL = 2\n",
    "# \n",
    "# # Function to extract unique patients based on a specified condition\n",
    "# def extract_unique_patients(df, condition, num_patients, excluded_ids):\n",
    "#     \"\"\"Extract unique patients based on a specific condition, excluding certain IDs.\"\"\"\n",
    "#     unique_patients = df[condition & ~df['patient_id'].isin(excluded_ids)].groupby('patient_id').first().reset_index()\n",
    "#     return unique_patients.head(num_patients)\n",
    "# \n",
    "# # List of hemorrhage types\n",
    "# hemorrhage_types = ['intraparenchymal', 'intraventricular', 'subarachnoid', 'subdural', 'epidural']\n",
    "# \n",
    "# # Initialize a list to store extracted patients\n",
    "# extracted_patients_list = []\n",
    "# \n",
    "# # Initialize a set to keep track of already selected patient IDs\n",
    "# selected_patient_ids = set()\n",
    "# \n",
    "# # Extract patients for each hemorrhage type\n",
    "# for hemorrhage_type in hemorrhage_types:\n",
    "#     condition = scan_level_df[hemorrhage_type] == 1\n",
    "# \n",
    "#     unique_patients = extract_unique_patients(scan_level_df, condition, NUM_PATIENTS_PER_LABEL, selected_patient_ids)\n",
    "# \n",
    "#     extracted_patients_list.append(unique_patients)\n",
    "#     selected_patient_ids.update(unique_patients['patient_id'])\n",
    "# \n",
    "# # Extract patients with no hemorrhage\n",
    "# no_hemorrhage_condition = (scan_level_df[hemorrhage_types] == 0).all(axis=1)\n",
    "# unique_no_hemorrhage_patients = extract_unique_patients(scan_level_df, no_hemorrhage_condition, NUM_PATIENTS_PER_LABEL, selected_patient_ids)\n",
    "# extracted_patients_list.append(unique_no_hemorrhage_patients)\n",
    "# \n",
    "# # Concatenate all extracted patients\n",
    "# extracted_patients = pd.concat(extracted_patients_list, ignore_index=True)"
   ],
   "outputs": [],
   "execution_count": 10
  },
  {
   "metadata": {
    "ExecuteTime": {
     "end_time": "2024-09-20T15:23:49.986617Z",
     "start_time": "2024-09-20T15:23:49.978091Z"
    }
   },
   "cell_type": "code",
   "source": "extracted_patients.head(100)",
   "outputs": [
    {
     "data": {
      "text/plain": [
       "     patient_id study_instance_uid  any  epidural  intraparenchymal  \\\n",
       "0   ID_0002cd41      ID_66929e09d4    0         0                 0   \n",
       "1   ID_00054f3f      ID_8a449ae31b    0         0                 0   \n",
       "2   ID_0006d192      ID_25690b4725    0         0                 0   \n",
       "3   ID_00086119      ID_fdde2979b0    0         0                 0   \n",
       "4   ID_000e5623      ID_9a4be35b9a    0         0                 0   \n",
       "..          ...                ...  ...       ...               ...   \n",
       "95  ID_025083a3      ID_98e9c9ca33    0         0                 0   \n",
       "96  ID_02584b75      ID_6220a4bd85    0         0                 0   \n",
       "97  ID_0260b549      ID_f7e5f505fc    0         0                 0   \n",
       "98  ID_02689616      ID_2edd54174e    0         0                 0   \n",
       "99  ID_026d11dc      ID_2cd11ede35    0         0                 0   \n",
       "\n",
       "    intraventricular  subarachnoid  subdural  \n",
       "0                  0             0         0  \n",
       "1                  0             0         0  \n",
       "2                  0             0         0  \n",
       "3                  0             0         0  \n",
       "4                  0             0         0  \n",
       "..               ...           ...       ...  \n",
       "95                 0             0         0  \n",
       "96                 0             0         0  \n",
       "97                 0             0         0  \n",
       "98                 0             0         0  \n",
       "99                 0             0         0  \n",
       "\n",
       "[100 rows x 8 columns]"
      ],
      "text/html": [
       "<div>\n",
       "<style scoped>\n",
       "    .dataframe tbody tr th:only-of-type {\n",
       "        vertical-align: middle;\n",
       "    }\n",
       "\n",
       "    .dataframe tbody tr th {\n",
       "        vertical-align: top;\n",
       "    }\n",
       "\n",
       "    .dataframe thead th {\n",
       "        text-align: right;\n",
       "    }\n",
       "</style>\n",
       "<table border=\"1\" class=\"dataframe\">\n",
       "  <thead>\n",
       "    <tr style=\"text-align: right;\">\n",
       "      <th></th>\n",
       "      <th>patient_id</th>\n",
       "      <th>study_instance_uid</th>\n",
       "      <th>any</th>\n",
       "      <th>epidural</th>\n",
       "      <th>intraparenchymal</th>\n",
       "      <th>intraventricular</th>\n",
       "      <th>subarachnoid</th>\n",
       "      <th>subdural</th>\n",
       "    </tr>\n",
       "  </thead>\n",
       "  <tbody>\n",
       "    <tr>\n",
       "      <th>0</th>\n",
       "      <td>ID_0002cd41</td>\n",
       "      <td>ID_66929e09d4</td>\n",
       "      <td>0</td>\n",
       "      <td>0</td>\n",
       "      <td>0</td>\n",
       "      <td>0</td>\n",
       "      <td>0</td>\n",
       "      <td>0</td>\n",
       "    </tr>\n",
       "    <tr>\n",
       "      <th>1</th>\n",
       "      <td>ID_00054f3f</td>\n",
       "      <td>ID_8a449ae31b</td>\n",
       "      <td>0</td>\n",
       "      <td>0</td>\n",
       "      <td>0</td>\n",
       "      <td>0</td>\n",
       "      <td>0</td>\n",
       "      <td>0</td>\n",
       "    </tr>\n",
       "    <tr>\n",
       "      <th>2</th>\n",
       "      <td>ID_0006d192</td>\n",
       "      <td>ID_25690b4725</td>\n",
       "      <td>0</td>\n",
       "      <td>0</td>\n",
       "      <td>0</td>\n",
       "      <td>0</td>\n",
       "      <td>0</td>\n",
       "      <td>0</td>\n",
       "    </tr>\n",
       "    <tr>\n",
       "      <th>3</th>\n",
       "      <td>ID_00086119</td>\n",
       "      <td>ID_fdde2979b0</td>\n",
       "      <td>0</td>\n",
       "      <td>0</td>\n",
       "      <td>0</td>\n",
       "      <td>0</td>\n",
       "      <td>0</td>\n",
       "      <td>0</td>\n",
       "    </tr>\n",
       "    <tr>\n",
       "      <th>4</th>\n",
       "      <td>ID_000e5623</td>\n",
       "      <td>ID_9a4be35b9a</td>\n",
       "      <td>0</td>\n",
       "      <td>0</td>\n",
       "      <td>0</td>\n",
       "      <td>0</td>\n",
       "      <td>0</td>\n",
       "      <td>0</td>\n",
       "    </tr>\n",
       "    <tr>\n",
       "      <th>...</th>\n",
       "      <td>...</td>\n",
       "      <td>...</td>\n",
       "      <td>...</td>\n",
       "      <td>...</td>\n",
       "      <td>...</td>\n",
       "      <td>...</td>\n",
       "      <td>...</td>\n",
       "      <td>...</td>\n",
       "    </tr>\n",
       "    <tr>\n",
       "      <th>95</th>\n",
       "      <td>ID_025083a3</td>\n",
       "      <td>ID_98e9c9ca33</td>\n",
       "      <td>0</td>\n",
       "      <td>0</td>\n",
       "      <td>0</td>\n",
       "      <td>0</td>\n",
       "      <td>0</td>\n",
       "      <td>0</td>\n",
       "    </tr>\n",
       "    <tr>\n",
       "      <th>96</th>\n",
       "      <td>ID_02584b75</td>\n",
       "      <td>ID_6220a4bd85</td>\n",
       "      <td>0</td>\n",
       "      <td>0</td>\n",
       "      <td>0</td>\n",
       "      <td>0</td>\n",
       "      <td>0</td>\n",
       "      <td>0</td>\n",
       "    </tr>\n",
       "    <tr>\n",
       "      <th>97</th>\n",
       "      <td>ID_0260b549</td>\n",
       "      <td>ID_f7e5f505fc</td>\n",
       "      <td>0</td>\n",
       "      <td>0</td>\n",
       "      <td>0</td>\n",
       "      <td>0</td>\n",
       "      <td>0</td>\n",
       "      <td>0</td>\n",
       "    </tr>\n",
       "    <tr>\n",
       "      <th>98</th>\n",
       "      <td>ID_02689616</td>\n",
       "      <td>ID_2edd54174e</td>\n",
       "      <td>0</td>\n",
       "      <td>0</td>\n",
       "      <td>0</td>\n",
       "      <td>0</td>\n",
       "      <td>0</td>\n",
       "      <td>0</td>\n",
       "    </tr>\n",
       "    <tr>\n",
       "      <th>99</th>\n",
       "      <td>ID_026d11dc</td>\n",
       "      <td>ID_2cd11ede35</td>\n",
       "      <td>0</td>\n",
       "      <td>0</td>\n",
       "      <td>0</td>\n",
       "      <td>0</td>\n",
       "      <td>0</td>\n",
       "      <td>0</td>\n",
       "    </tr>\n",
       "  </tbody>\n",
       "</table>\n",
       "<p>100 rows × 8 columns</p>\n",
       "</div>"
      ]
     },
     "execution_count": 11,
     "metadata": {},
     "output_type": "execute_result"
    }
   ],
   "execution_count": 11
  },
  {
   "cell_type": "code",
   "metadata": {
    "execution": {
     "iopub.execute_input": "2024-09-14T19:41:10.645530Z",
     "iopub.status.busy": "2024-09-14T19:41:10.645152Z",
     "iopub.status.idle": "2024-09-14T19:41:10.652423Z",
     "shell.execute_reply": "2024-09-14T19:41:10.651023Z",
     "shell.execute_reply.started": "2024-09-14T19:41:10.645464Z"
    },
    "trusted": true,
    "ExecuteTime": {
     "end_time": "2024-09-20T15:23:49.990813Z",
     "start_time": "2024-09-20T15:23:49.987613Z"
    }
   },
   "source": [
    "# Get patient_id and study_instance_uid\n",
    "patient_ids = extracted_patients['patient_id']\n",
    "study_uids = extracted_patients['study_instance_uid']"
   ],
   "outputs": [],
   "execution_count": 12
  },
  {
   "cell_type": "code",
   "metadata": {
    "execution": {
     "iopub.execute_input": "2024-09-14T19:41:10.654268Z",
     "iopub.status.busy": "2024-09-14T19:41:10.653914Z",
     "iopub.status.idle": "2024-09-14T19:41:10.668766Z",
     "shell.execute_reply": "2024-09-14T19:41:10.667484Z",
     "shell.execute_reply.started": "2024-09-14T19:41:10.654231Z"
    },
    "trusted": true,
    "ExecuteTime": {
     "end_time": "2024-09-20T15:23:49.998158Z",
     "start_time": "2024-09-20T15:23:49.991806Z"
    }
   },
   "source": [
    "# Save the extracted patients to a new CSV file\n",
    "extracted_patients.to_csv('training_1000_scan_subset.csv', index=False)"
   ],
   "outputs": [],
   "execution_count": 13
  },
  {
   "cell_type": "code",
   "metadata": {
    "execution": {
     "iopub.execute_input": "2024-09-14T19:41:10.670939Z",
     "iopub.status.busy": "2024-09-14T19:41:10.670441Z",
     "iopub.status.idle": "2024-09-14T19:43:13.860870Z",
     "shell.execute_reply": "2024-09-14T19:43:13.859734Z",
     "shell.execute_reply.started": "2024-09-14T19:41:10.670885Z"
    },
    "trusted": true,
    "ExecuteTime": {
     "end_time": "2024-09-20T15:24:56.357140Z",
     "start_time": "2024-09-20T15:23:49.999154Z"
    }
   },
   "source": [
    "# Initialize a list to hold filenames\n",
    "filenames_to_copy = []\n",
    "\n",
    "# Iterate through the extracted patient IDs and study UIDs\n",
    "for patient_id, study_uid in zip(patient_ids, study_uids):\n",
    "    matching_files = raw_df[(raw_df['patient_id'] == patient_id) & \n",
    "                            (raw_df['study_instance_uid'] == study_uid)]\n",
    "    # Append the filenames to the list\n",
    "    filenames_to_copy.extend(matching_files['filename'].tolist())"
   ],
   "outputs": [],
   "execution_count": 14
  },
  {
   "cell_type": "code",
   "metadata": {
    "execution": {
     "iopub.execute_input": "2024-09-14T19:43:13.862717Z",
     "iopub.status.busy": "2024-09-14T19:43:13.862359Z"
    },
    "trusted": true,
    "ExecuteTime": {
     "end_time": "2024-09-20T16:49:52.902098Z",
     "start_time": "2024-09-20T15:24:56.358120Z"
    }
   },
   "source": [
    "for index, row in extracted_patients.iterrows():\n",
    "    patient_id = row['patient_id']\n",
    "    study_instance_uid = row['study_instance_uid']\n",
    "    \n",
    "    # Remove 'ID_' prefix from patient_id and study_instance_uid\n",
    "    patient_id_clean = patient_id.replace('ID_', '')\n",
    "    study_instance_uid_clean = study_instance_uid.replace('ID_', '')\n",
    "    \n",
    "    # Create the subdirectory name without the 'ID_' prefix\n",
    "    subdirectory_name = f\"{patient_id_clean}_{study_instance_uid_clean}\"\n",
    "    subdirectory_path = os.path.join(destination_dir, subdirectory_name)\n",
    "    os.makedirs(subdirectory_path, exist_ok=True)\n",
    "    \n",
    "    # Filter raw_df for matching patient_id and study_instance_uid\n",
    "    matching_files = raw_df[(raw_df['patient_id'] == patient_id) & \n",
    "                             (raw_df['study_instance_uid'] == study_instance_uid)]\n",
    "    \n",
    "    # Copy each matching file to the subdirectory\n",
    "    for _, file_row in matching_files.iterrows():\n",
    "        # Assuming there's a column that contains the filename or image identifier\n",
    "        # Replace 'image_id' with the correct column name\n",
    "        filename = str(file_row.get('image_id', file_row.get('filename', '')))   # Assuming DICOM files\n",
    "        source_file_path = os.path.join(train_images_dir, filename)\n",
    "        \n",
    "        if os.path.exists(source_file_path):\n",
    "            destination_file_path = os.path.join(subdirectory_path, filename)\n",
    "            # Copy the file\n",
    "            with open(source_file_path, 'rb') as source_file:\n",
    "                with open(destination_file_path, 'wb') as dest_file:\n",
    "                    dest_file.write(source_file.read())\n",
    "        else:\n",
    "            print(f\"File {source_file_path} not found.\")"
   ],
   "outputs": [],
   "execution_count": 15
  },
  {
   "cell_type": "code",
   "metadata": {
    "trusted": true,
    "ExecuteTime": {
     "end_time": "2024-09-20T16:49:53.399788Z",
     "start_time": "2024-09-20T16:49:52.902098Z"
    }
   },
   "source": [
    "# Count occurrences of each hemorrhage type in the extracted patients DataFrame\n",
    "hemorrhage_counts_extracted = extracted_patients[['any', 'epidural', 'intraparenchymal',\n",
    "                                                  'intraventricular', 'subarachnoid',\n",
    "                                                  'subdural']].sum()\n",
    "\n",
    "# Count occurrences of patients not having any specified hemorrhage types (all labels are 0)\n",
    "extracted_patients['no_hemorrhage'] = extracted_patients.apply(\n",
    "    lambda row: 1 if row[['any', 'epidural', 'intraparenchymal',\n",
    "                          'intraventricular', 'subarachnoid',\n",
    "                          'subdural']].sum() == 0 else 0, axis=1)\n",
    "\n",
    "# Sum the counts of patients with no hemorrhage\n",
    "no_hemorrhage_count = extracted_patients['no_hemorrhage'].sum()\n",
    "\n",
    "# Convert counts to a DataFrame for plotting purposes\n",
    "hemorrhage_counts_extracted = hemorrhage_counts_extracted.reset_index()\n",
    "hemorrhage_counts_extracted.columns = ['hemorrhage_type', 'count']\n",
    "\n",
    "# Create a DataFrame for the \"No Hemorrhage\" category\n",
    "no_hemorrhage_df = pd.DataFrame({'hemorrhage_type': ['No Hemorrhage'], 'count': [no_hemorrhage_count]})\n",
    "\n",
    "# Combine \"No Hemorrhage\" counts with existing hemorrhage counts DataFrame\n",
    "combined_hemorrhage_counts = pd.concat([hemorrhage_counts_extracted, no_hemorrhage_df], ignore_index=True)\n",
    "\n",
    "# Create a bar chart to visualize counts of hemorrhage types in extracted patients data\n",
    "plt.figure(figsize=(8, 6))\n",
    "sns.barplot(x='hemorrhage_type', y='count', data=combined_hemorrhage_counts)\n",
    "plt.title('Counts of Hemorrhage Types - Scan Level')\n",
    "plt.xlabel('Hemorrhage Type')\n",
    "plt.ylabel('Count')\n",
    "plt.xticks(rotation=45, ha='right')\n",
    "plt.tight_layout()\n",
    "plt.show()"
   ],
   "outputs": [
    {
     "data": {
      "text/plain": [
       "<Figure size 800x600 with 1 Axes>"
      ],
      "image/png": "[encoded data removed]"
     },
     "metadata": {},
     "output_type": "display_data"
    }
   ],
   "execution_count": 16
  }
 ],
 "metadata": {
  "kaggle": {
   "accelerator": "none",
   "dataSources": [
    {
     "databundleVersionId": 1188070,
     "datasetId": 654585,
     "sourceId": 13451,
     "sourceType": "competition"
    },
    {
     "databundleVersionId": 9597901,
     "datasetId": 5702623,
     "sourceId": 9396049,
     "sourceType": "datasetVersion"
    }
   ],
   "dockerImageVersionId": 30761,
   "isGpuEnabled": false,
   "isInternetEnabled": true,
   "language": "python",
   "sourceType": "notebook"
  },
  "kernelspec": {
   "display_name": "Python 3",
   "language": "python",
   "name": "python3"
  },
  "language_info": {
   "codemirror_mode": {
    "name": "ipython",
    "version": 3
   },
   "file_extension": ".py",
   "mimetype": "text/x-python",
   "name": "python",
   "nbconvert_exporter": "python",
   "pygments_lexer": "ipython3",
   "version": "3.12.2"
  }
 },
 "nbformat": 4,
 "nbformat_minor": 4
}
