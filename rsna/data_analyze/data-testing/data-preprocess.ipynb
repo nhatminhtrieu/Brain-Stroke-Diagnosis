{
 "cells": [
  {
   "cell_type": "code",
   "id": "initial_id",
   "metadata": {
    "collapsed": true,
    "ExecuteTime": {
     "end_time": "2024-10-13T15:04:10.994554Z",
     "start_time": "2024-10-13T15:04:10.175553Z"
    }
   },
   "source": [
    "import pandas as pd\n",
    "\n",
    "# Load your dataset\n",
    "df = pd.read_csv('../sorted_training_dataset_with_labels.csv')  # Replace with your actual dataset file"
   ],
   "outputs": [],
   "execution_count": 11
  },
  {
   "metadata": {
    "ExecuteTime": {
     "end_time": "2024-10-13T15:04:11.042083Z",
     "start_time": "2024-10-13T15:04:10.997917Z"
    }
   },
   "cell_type": "code",
   "source": "unique_combinations = df[['patient_id', 'study_instance_uid']].drop_duplicates().reset_index(drop=True)",
   "id": "11d6a4d4986cddba",
   "outputs": [],
   "execution_count": 12
  },
  {
   "metadata": {
    "ExecuteTime": {
     "end_time": "2024-10-13T15:04:11.076530Z",
     "start_time": "2024-10-13T15:04:11.055744Z"
    }
   },
   "cell_type": "code",
   "source": "grouped = df.groupby(['patient_id', 'study_instance_uid'])",
   "id": "e0f6d96dd1991dd3",
   "outputs": [],
   "execution_count": 13
  },
  {
   "metadata": {
    "ExecuteTime": {
     "end_time": "2024-10-13T15:04:11.488584Z",
     "start_time": "2024-10-13T15:04:11.487282Z"
    }
   },
   "cell_type": "code",
   "source": "results = []",
   "id": "2ee30fbea80a11b9",
   "outputs": [],
   "execution_count": 14
  },
  {
   "metadata": {
    "ExecuteTime": {
     "end_time": "2024-10-13T15:04:14.125527Z",
     "start_time": "2024-10-13T15:04:11.532504Z"
    }
   },
   "cell_type": "code",
   "source": [
    "for _, group in grouped:\n",
    "    patient_images = group['filename'].tolist()  # List of image filenames\n",
    "    labels = group[['any', 'epidural', 'intraparenchymal', 'intraventricular', 'subarachnoid', 'subdural']]"
   ],
   "id": "ead6686e8ba3a375",
   "outputs": [],
   "execution_count": 15
  },
  {
   "metadata": {
    "ExecuteTime": {
     "end_time": "2024-10-13T15:04:14.138283Z",
     "start_time": "2024-10-13T15:04:14.136373Z"
    }
   },
   "cell_type": "code",
   "source": "image_labels = [1 if row['any'] == 1 else 0 for index, row in labels.iterrows()]",
   "id": "dbb29eb9a48a8b9c",
   "outputs": [],
   "execution_count": 16
  },
  {
   "metadata": {
    "ExecuteTime": {
     "end_time": "2024-10-13T15:04:14.184364Z",
     "start_time": "2024-10-13T15:04:14.180976Z"
    }
   },
   "cell_type": "code",
   "source": "patient_scan_label = int(labels['any'].sum() > 0)",
   "id": "9406e4d4e7ee2c19",
   "outputs": [],
   "execution_count": 17
  },
  {
   "metadata": {
    "ExecuteTime": {
     "end_time": "2024-10-13T15:04:14.230530Z",
     "start_time": "2024-10-13T15:04:14.227827Z"
    }
   },
   "cell_type": "code",
   "source": [
    "results.append({\n",
    "    'patient_id': group['patient_id'].iloc[0],\n",
    "    'study_instance_uid': group['study_instance_uid'].iloc[0],\n",
    "    'images': patient_images,\n",
    "    'labels': image_labels,\n",
    "    'patient_scan_label': patient_scan_label\n",
    "})"
   ],
   "id": "2fe970376b2243ed",
   "outputs": [],
   "execution_count": 18
  },
  {
   "metadata": {
    "ExecuteTime": {
     "end_time": "2024-10-13T15:04:14.275218Z",
     "start_time": "2024-10-13T15:04:14.272741Z"
    }
   },
   "cell_type": "code",
   "source": "results_df = pd.DataFrame(results)",
   "id": "c7425ddf678fc8b3",
   "outputs": [],
   "execution_count": 19
  },
  {
   "metadata": {
    "ExecuteTime": {
     "end_time": "2024-10-13T15:04:14.320040Z",
     "start_time": "2024-10-13T15:04:14.317547Z"
    }
   },
   "cell_type": "code",
   "source": "results_df.to_csv('prepared_dataset.csv', index=False)",
   "id": "75128823583e7345",
   "outputs": [],
   "execution_count": 20
  }
 ],
 "metadata": {
  "kernelspec": {
   "display_name": "Python 3",
   "language": "python",
   "name": "python3"
  },
  "language_info": {
   "codemirror_mode": {
    "name": "ipython",
    "version": 2
   },
   "file_extension": ".py",
   "mimetype": "text/x-python",
   "name": "python",
   "nbconvert_exporter": "python",
   "pygments_lexer": "ipython2",
   "version": "2.7.6"
  }
 },
 "nbformat": 4,
 "nbformat_minor": 5
}
