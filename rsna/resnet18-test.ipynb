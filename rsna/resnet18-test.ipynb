{
 "cells": [
  {
   "cell_type": "code",
   "execution_count": 1,
   "id": "55671d8a",
   "metadata": {
    "ExecuteTime": {
     "end_time": "2024-10-15T15:07:46.081006Z",
     "start_time": "2024-10-15T15:07:41.005714Z"
    },
    "_cell_guid": "b1076dfc-b9ad-4769-8c92-a6c4dae69d19",
    "_uuid": "8f2839f25d086af736a60e9eeb907d3b93b6e0e5",
    "execution": {
     "iopub.execute_input": "2024-10-22T13:31:26.854266Z",
     "iopub.status.busy": "2024-10-22T13:31:26.853905Z",
     "iopub.status.idle": "2024-10-22T13:31:34.132125Z",
     "shell.execute_reply": "2024-10-22T13:31:34.131254Z"
    },
    "papermill": {
     "duration": 7.292299,
     "end_time": "2024-10-22T13:31:34.134453",
     "exception": false,
     "start_time": "2024-10-22T13:31:26.842154",
     "status": "completed"
    },
    "tags": []
   },
   "outputs": [],
   "source": [
    "# Standard library imports\n",
    "import os\n",
    "import zipfile\n",
    "\n",
    "# Third-party imports\n",
    "import cv2\n",
    "import matplotlib.pyplot as plt\n",
    "import numpy as np\n",
    "import pandas as pd\n",
    "import pydicom\n",
    "\n",
    "# PyTorch imports\n",
    "import torch\n",
    "import torch.nn as nn\n",
    "import torch.optim as optim\n",
    "from torch.optim.lr_scheduler import ReduceLROnPlateau\n",
    "from torch.utils.data import Dataset, DataLoader, Subset\n",
    "\n",
    "from sklearn.model_selection import train_test_split\n",
    "from sklearn.metrics import confusion_matrix, ConfusionMatrixDisplay, roc_curve, auc\n",
    "\n",
    "# Torchvision imports\n",
    "from torchvision import transforms, models\n",
    "from torchvision.models import ResNet18_Weights"
   ]
  },
  {
   "cell_type": "code",
   "execution_count": 2,
   "id": "3bd93704",
   "metadata": {
    "ExecuteTime": {
     "end_time": "2024-10-15T15:07:46.497429Z",
     "start_time": "2024-10-15T15:07:46.096325Z"
    },
    "execution": {
     "iopub.execute_input": "2024-10-22T13:31:34.155736Z",
     "iopub.status.busy": "2024-10-22T13:31:34.155290Z",
     "iopub.status.idle": "2024-10-22T13:31:34.239347Z",
     "shell.execute_reply": "2024-10-22T13:31:34.238303Z"
    },
    "papermill": {
     "duration": 0.096185,
     "end_time": "2024-10-22T13:31:34.241437",
     "exception": false,
     "start_time": "2024-10-22T13:31:34.145252",
     "status": "completed"
    },
    "tags": []
   },
   "outputs": [
    {
     "name": "stdout",
     "output_type": "stream",
     "text": [
      "GPUs Available: 1\n",
      "- Tesla P100-PCIE-16GB\n"
     ]
    }
   ],
   "source": [
    "if torch.cuda.is_available():\n",
    "    print(f\"GPUs Available: {torch.cuda.device_count()}\")\n",
    "    for i in range(torch.cuda.device_count()):\n",
    "        print(f\"- {torch.cuda.get_device_name(i)}\")\n",
    "else:\n",
    "    print(\"No GPUs available.\")"
   ]
  },
  {
   "cell_type": "markdown",
   "id": "17b7f308",
   "metadata": {
    "papermill": {
     "duration": 0.009026,
     "end_time": "2024-10-22T13:31:34.259924",
     "exception": false,
     "start_time": "2024-10-22T13:31:34.250898",
     "status": "completed"
    },
    "tags": []
   },
   "source": [
    "# Local"
   ]
  },
  {
   "cell_type": "code",
   "execution_count": 3,
   "id": "04c6cc34",
   "metadata": {
    "ExecuteTime": {
     "end_time": "2024-10-15T15:07:47.108742Z",
     "start_time": "2024-10-15T15:07:46.826869Z"
    },
    "execution": {
     "iopub.execute_input": "2024-10-22T13:31:34.280455Z",
     "iopub.status.busy": "2024-10-22T13:31:34.280107Z",
     "iopub.status.idle": "2024-10-22T13:31:34.285265Z",
     "shell.execute_reply": "2024-10-22T13:31:34.284372Z"
    },
    "papermill": {
     "duration": 0.017846,
     "end_time": "2024-10-22T13:31:34.287216",
     "exception": false,
     "start_time": "2024-10-22T13:31:34.269370",
     "status": "completed"
    },
    "tags": []
   },
   "outputs": [],
   "source": [
    "# ## Dataset and Directory Configuration\n",
    "# DATASET_NAME = 'rsna-mil-training'\n",
    "# JOB_NAME = 'RSNA-ResNet18'\n",
    "# HPC_DIR = '/media02/tdhoang01/21127112-21127734/data'\n",
    "# OUTPUT_DIR = '/media02/tdhoang01/python-debugging/rsna/results'\n",
    "\n",
    "# ZIP_FILE_PATH = os.path.join(HPC_DIR, DATASET_NAME + '.zip')\n",
    "# CHECKPOINTS_DIR = os.path.join(OUTPUT_DIR, JOB_NAME, 'checkpoints')\n",
    "# FIGURES_DIR = os.path.join(OUTPUT_DIR, JOB_NAME, 'figures')\n",
    "# DICOM_DIR = f'{DATASET_NAME}/'\n",
    "\n",
    "# ## File Paths\n",
    "# CSV_PATH = f'{DATASET_NAME}/training_1000_scan_subset.csv'\n",
    "\n",
    "# ## Image Processing Parameters\n",
    "# MAX_SLICES = 60\n",
    "# HEIGHT = 224\n",
    "# WIDTH = 224\n",
    "\n",
    "# ## Training Hyperparameters\n",
    "# BATCH_PATIENTS = 4\n",
    "# NUM_EPOCHS = 2\n",
    "# LEARNING_RATE = 1e-4\n",
    "\n",
    "# ## Dataset Split Ratios\n",
    "# VAL_SIZE = 0.15\n",
    "# TEST_SIZE = 0.15\n",
    "\n",
    "# ## Create Necessary Directories\n",
    "# os.makedirs(CHECKPOINTS_DIR, exist_ok=True)\n",
    "# os.makedirs(FIGURES_DIR, exist_ok=True)\n",
    "\n",
    "# ## Load CSVs from zip\n",
    "# with zipfile.ZipFile(ZIP_FILE_PATH, 'r') as zip_ref:\n",
    "#     medical_scan_data = pd.read_csv(zip_ref.open(CSV_PATH))"
   ]
  },
  {
   "cell_type": "markdown",
   "id": "88d0586d",
   "metadata": {
    "papermill": {
     "duration": 0.008897,
     "end_time": "2024-10-22T13:31:34.305446",
     "exception": false,
     "start_time": "2024-10-22T13:31:34.296549",
     "status": "completed"
    },
    "tags": []
   },
   "source": [
    "# Kaggle"
   ]
  },
  {
   "cell_type": "code",
   "execution_count": 4,
   "id": "455e9095",
   "metadata": {
    "ExecuteTime": {
     "end_time": "2024-10-15T15:07:47.136336Z",
     "start_time": "2024-10-15T15:07:47.132955Z"
    },
    "execution": {
     "iopub.execute_input": "2024-10-22T13:31:34.325133Z",
     "iopub.status.busy": "2024-10-22T13:31:34.324790Z",
     "iopub.status.idle": "2024-10-22T13:31:34.365095Z",
     "shell.execute_reply": "2024-10-22T13:31:34.364265Z"
    },
    "papermill": {
     "duration": 0.05261,
     "end_time": "2024-10-22T13:31:34.367150",
     "exception": false,
     "start_time": "2024-10-22T13:31:34.314540",
     "status": "completed"
    },
    "tags": []
   },
   "outputs": [],
   "source": [
    "# Configuration\n",
    "DATASET_NAME = 'rsna-mil-training'\n",
    "JOB_NAME = 'RSNA-ResNet18'\n",
    "INPUT_DIR = '/kaggle/input'\n",
    "OUTPUT_DIR = '/kaggle/working'\n",
    "\n",
    "# Directories\n",
    "CHECKPOINTS_DIR = os.path.join(OUTPUT_DIR, JOB_NAME, 'checkpoints')\n",
    "FIGURES_DIR = os.path.join(OUTPUT_DIR, JOB_NAME, 'figures')\n",
    "DICOM_DIR = os.path.join(INPUT_DIR, DATASET_NAME, DATASET_NAME)\n",
    "\n",
    "# File Paths\n",
    "CSV_PATH = f'{DICOM_DIR}/training_1000_scan_subset.csv'\n",
    "\n",
    "# Image Processing Parameters\n",
    "MAX_SLICES = 60\n",
    "HEIGHT = 512\n",
    "WIDTH = 512\n",
    "\n",
    "# Training Hyperparameters\n",
    "BATCH_PATIENTS = 128\n",
    "NUM_EPOCHS = 30\n",
    "LEARNING_RATE = 5e-4\n",
    "\n",
    "# Dataset Split Ratios\n",
    "VAL_SIZE = 0.15\n",
    "TEST_SIZE = 0.15\n",
    "\n",
    "# Create Necessary Directories\n",
    "os.makedirs(CHECKPOINTS_DIR, exist_ok=True)\n",
    "os.makedirs(FIGURES_DIR, exist_ok=True)\n",
    "\n",
    "# Load CSV from Kaggle environment (no need to unzip)\n",
    "medical_scan_data = pd.read_csv(CSV_PATH)"
   ]
  },
  {
   "cell_type": "code",
   "execution_count": 5,
   "id": "ebb77b1c",
   "metadata": {
    "ExecuteTime": {
     "end_time": "2024-10-15T15:07:47.212661Z",
     "start_time": "2024-10-15T15:07:47.197850Z"
    },
    "execution": {
     "iopub.execute_input": "2024-10-22T13:31:34.386820Z",
     "iopub.status.busy": "2024-10-22T13:31:34.386470Z",
     "iopub.status.idle": "2024-10-22T13:31:34.403851Z",
     "shell.execute_reply": "2024-10-22T13:31:34.403042Z"
    },
    "papermill": {
     "duration": 0.029298,
     "end_time": "2024-10-22T13:31:34.405775",
     "exception": false,
     "start_time": "2024-10-22T13:31:34.376477",
     "status": "completed"
    },
    "tags": []
   },
   "outputs": [
    {
     "data": {
      "text/html": [
       "<div>\n",
       "<style scoped>\n",
       "    .dataframe tbody tr th:only-of-type {\n",
       "        vertical-align: middle;\n",
       "    }\n",
       "\n",
       "    .dataframe tbody tr th {\n",
       "        vertical-align: top;\n",
       "    }\n",
       "\n",
       "    .dataframe thead th {\n",
       "        text-align: right;\n",
       "    }\n",
       "</style>\n",
       "<table border=\"1\" class=\"dataframe\">\n",
       "  <thead>\n",
       "    <tr style=\"text-align: right;\">\n",
       "      <th></th>\n",
       "      <th>patient_id</th>\n",
       "      <th>study_instance_uid</th>\n",
       "      <th>images</th>\n",
       "      <th>labels</th>\n",
       "      <th>patient_label</th>\n",
       "      <th>length</th>\n",
       "    </tr>\n",
       "  </thead>\n",
       "  <tbody>\n",
       "    <tr>\n",
       "      <th>0</th>\n",
       "      <td>ID_2e010e33</td>\n",
       "      <td>ID_bda0f47e84</td>\n",
       "      <td>['ID_b9035cb1e.dcm', 'ID_0713bed86.dcm', 'ID_5...</td>\n",
       "      <td>[0, 0, 0, 0, 0, 0, 0, 0, 0, 0, 0, 0, 0, 0, 0, ...</td>\n",
       "      <td>0</td>\n",
       "      <td>48</td>\n",
       "    </tr>\n",
       "  </tbody>\n",
       "</table>\n",
       "</div>"
      ],
      "text/plain": [
       "    patient_id study_instance_uid  \\\n",
       "0  ID_2e010e33      ID_bda0f47e84   \n",
       "\n",
       "                                              images  \\\n",
       "0  ['ID_b9035cb1e.dcm', 'ID_0713bed86.dcm', 'ID_5...   \n",
       "\n",
       "                                              labels  patient_label  length  \n",
       "0  [0, 0, 0, 0, 0, 0, 0, 0, 0, 0, 0, 0, 0, 0, 0, ...              0      48  "
      ]
     },
     "execution_count": 5,
     "metadata": {},
     "output_type": "execute_result"
    }
   ],
   "source": [
    "medical_scan_data.head(1)"
   ]
  },
  {
   "cell_type": "code",
   "execution_count": 6,
   "id": "116a6be5",
   "metadata": {
    "ExecuteTime": {
     "end_time": "2024-10-15T15:07:47.321026Z",
     "start_time": "2024-10-15T15:07:47.316594Z"
    },
    "execution": {
     "iopub.execute_input": "2024-10-22T13:31:34.425454Z",
     "iopub.status.busy": "2024-10-22T13:31:34.425166Z",
     "iopub.status.idle": "2024-10-22T13:31:34.431057Z",
     "shell.execute_reply": "2024-10-22T13:31:34.430110Z"
    },
    "papermill": {
     "duration": 0.017831,
     "end_time": "2024-10-22T13:31:34.432996",
     "exception": false,
     "start_time": "2024-10-22T13:31:34.415165",
     "status": "completed"
    },
    "tags": []
   },
   "outputs": [
    {
     "data": {
      "text/plain": [
       "Index(['patient_id', 'study_instance_uid', 'images', 'labels', 'patient_label',\n",
       "       'length'],\n",
       "      dtype='object')"
      ]
     },
     "execution_count": 6,
     "metadata": {},
     "output_type": "execute_result"
    }
   ],
   "source": [
    "medical_scan_data.columns"
   ]
  },
  {
   "cell_type": "markdown",
   "id": "107d0fd8",
   "metadata": {
    "papermill": {
     "duration": 0.009292,
     "end_time": "2024-10-22T13:31:34.451642",
     "exception": false,
     "start_time": "2024-10-22T13:31:34.442350",
     "status": "completed"
    },
    "tags": []
   },
   "source": [
    "# Local dataset gen."
   ]
  },
  {
   "cell_type": "markdown",
   "id": "aec1dd03",
   "metadata": {
    "papermill": {
     "duration": 0.009154,
     "end_time": "2024-10-22T13:31:34.470136",
     "exception": false,
     "start_time": "2024-10-22T13:31:34.460982",
     "status": "completed"
    },
    "tags": []
   },
   "source": [
    "# Kaggle dataset gen."
   ]
  },
  {
   "cell_type": "code",
   "execution_count": 7,
   "id": "dc383382",
   "metadata": {
    "execution": {
     "iopub.execute_input": "2024-10-22T13:31:34.490278Z",
     "iopub.status.busy": "2024-10-22T13:31:34.489987Z",
     "iopub.status.idle": "2024-10-22T13:32:41.017818Z",
     "shell.execute_reply": "2024-10-22T13:32:41.016834Z"
    },
    "papermill": {
     "duration": 66.549675,
     "end_time": "2024-10-22T13:32:41.029407",
     "exception": false,
     "start_time": "2024-10-22T13:31:34.479732",
     "status": "completed"
    },
    "tags": []
   },
   "outputs": [
    {
     "name": "stdout",
     "output_type": "stream",
     "text": [
      "Initial Label Distribution: Counter({0: 28408, 1: 6089})\n",
      "Balanced Label Distribution: Counter({0: 6089, 1: 6089})\n"
     ]
    }
   ],
   "source": [
    "import random\n",
    "from collections import Counter\n",
    "\n",
    "class DatasetGenerator(Dataset):\n",
    "    def __init__(self, dicom_dir, medical_scan_data, max_slices, height, width, balance_dataset=False):\n",
    "        self.dicom_dir = dicom_dir\n",
    "        self.medical_scan_data = self._parse_medical_scan_data(medical_scan_data)\n",
    "        self.max_slices = max_slices\n",
    "        self.height = height\n",
    "        self.width = width\n",
    "        self.channels = 3\n",
    "        self.dicom_paths, self.all_labels = self._get_dicom_paths_and_labels()\n",
    "        \n",
    "        if balance_dataset:\n",
    "            self._balance_dataset()\n",
    "        \n",
    "        self.transform = transforms.Compose([transforms.Resize((self.height, self.width))])\n",
    "\n",
    "    def __len__(self):\n",
    "        return len(self.dicom_paths)\n",
    "\n",
    "    def __getitem__(self, idx):\n",
    "        dicom_file, label = self.dicom_paths[idx], self.all_labels[idx]\n",
    "        images = self._process_dicom_file(dicom_file)\n",
    "        labels = torch.tensor(label, dtype=torch.float32)\n",
    "        return images, labels\n",
    "\n",
    "    def _parse_medical_scan_data(self, medical_scan_data):\n",
    "        medical_scan_data['images'] = medical_scan_data['images'].apply(lambda x: eval(x) if isinstance(x, str) else x)\n",
    "        medical_scan_data['labels'] = medical_scan_data['labels'].apply(lambda x: eval(x) if isinstance(x, str) else x)\n",
    "        return medical_scan_data\n",
    "\n",
    "    def _get_dicom_paths_and_labels(self):\n",
    "        dicom_paths = []\n",
    "        labels = []\n",
    "\n",
    "        for _, row in self.medical_scan_data.iterrows():\n",
    "            patient_id = row['patient_id'].replace(\"ID_\", \"\")\n",
    "            study_instance_uid = row['study_instance_uid'].replace(\"ID_\", \"\")\n",
    "            dicom_dir_path = os.path.join(self.dicom_dir, f\"{patient_id}_{study_instance_uid}\")\n",
    "\n",
    "            if os.path.exists(dicom_dir_path):\n",
    "                for image, label in zip(row['images'], row['labels']):\n",
    "                    dicom_file_path = os.path.join(dicom_dir_path, image)\n",
    "                    if os.path.exists(dicom_file_path):\n",
    "                        dicom_paths.append(dicom_file_path)\n",
    "                        labels.append(label)\n",
    "            else:\n",
    "                print(f\"DICOM directory does not exist: {dicom_dir_path}\")\n",
    "\n",
    "        return dicom_paths, labels\n",
    "\n",
    "    def _balance_dataset(self):\n",
    "        # Count occurrences of each label\n",
    "        label_counter = Counter(self.all_labels)\n",
    "        print(f\"Initial Label Distribution: {label_counter}\")\n",
    "\n",
    "        # Find the minority class count\n",
    "        min_class_count = min(label_counter[0], label_counter[1])\n",
    "\n",
    "        # Separate DICOM paths and labels into two groups (keeping pairs together)\n",
    "        dicom_pairs_0 = [(path, label) for path, label in zip(self.dicom_paths, self.all_labels) if label == 0]\n",
    "        dicom_pairs_1 = [(path, label) for path, label in zip(self.dicom_paths, self.all_labels) if label == 1]\n",
    "\n",
    "        # Undersample the majority class\n",
    "        random.shuffle(dicom_pairs_0)\n",
    "        random.shuffle(dicom_pairs_1)\n",
    "\n",
    "        dicom_pairs_0 = dicom_pairs_0[:min_class_count]\n",
    "        dicom_pairs_1 = dicom_pairs_1[:min_class_count]\n",
    "\n",
    "        # Combine the balanced pairs\n",
    "        balanced_pairs = dicom_pairs_0 + dicom_pairs_1\n",
    "\n",
    "        # Shuffle the dataset to mix 0s and 1s while keeping the image-label pairs together\n",
    "        random.shuffle(balanced_pairs)\n",
    "\n",
    "        # Separate the paths and labels again after shuffling\n",
    "        self.dicom_paths, self.all_labels = zip(*balanced_pairs)\n",
    "\n",
    "        # Print the new balanced distribution\n",
    "        print(f\"Balanced Label Distribution: {Counter(self.all_labels)}\")\n",
    "        \n",
    "    def plot_label_distribution(self, title=\"Label Distribution\"):\n",
    "        # Count occurrences of each label\n",
    "        label_counter = Counter(self.all_labels)\n",
    "        labels, counts = zip(*label_counter.items())\n",
    "\n",
    "        # Plot the label distribution\n",
    "        plt.bar(labels, counts, color=['blue', 'orange'])\n",
    "        plt.xlabel('Labels')\n",
    "        plt.ylabel('Count')\n",
    "        plt.title(title)\n",
    "        plt.xticks([0, 1], ['Class 0', 'Class 1'])\n",
    "        plt.show()\n",
    "\n",
    "    def _process_dicom_file(self, dicom_file):\n",
    "        dicom = pydicom.dcmread(dicom_file)\n",
    "        img = self._preprocess_slice(dicom)\n",
    "        images = torch.from_numpy(img).float()\n",
    "        return images\n",
    "\n",
    "    def _preprocess_slice(self, dicom):\n",
    "        bsb_img = self._bsb_window(dicom)\n",
    "        return bsb_img.astype(np.float16)\n",
    "\n",
    "    def _bsb_window(self, dcm):\n",
    "        brain_img = self._window_image(dcm, 40, 80)\n",
    "        subdural_img = self._window_image(dcm, 80, 200)\n",
    "        soft_img = self._window_image(dcm, 40, 380)\n",
    "\n",
    "        brain_img_normalized = (brain_img - 0) / 80\n",
    "        subdural_img_normalized = (subdural_img - (-20)) / 200\n",
    "        soft_img_normalized = (soft_img - (-150)) / 380\n",
    "\n",
    "        bsb_img = np.stack([brain_img_normalized, brain_img_normalized, brain_img_normalized], axis=0)\n",
    "        \n",
    "        return bsb_img\n",
    "\n",
    "    def _window_image(self, dcm, window_center, window_width):\n",
    "        img = dcm.pixel_array * dcm.RescaleSlope + dcm.RescaleIntercept\n",
    "        img_min = window_center - window_width // 2\n",
    "        img_max = window_center + window_width // 2\n",
    "        img = np.clip(img, img_min, img_max)\n",
    "        img_resized = cv2.resize(img, (self.height, self.width), interpolation=cv2.INTER_LINEAR)\n",
    "        return img_resized\n",
    "\n",
    "dataset = DatasetGenerator(\n",
    "    dicom_dir=DICOM_DIR,\n",
    "    medical_scan_data=medical_scan_data,\n",
    "    max_slices=MAX_SLICES,\n",
    "    height=HEIGHT,\n",
    "    width=WIDTH,\n",
    "    balance_dataset=True\n",
    ")"
   ]
  },
  {
   "cell_type": "code",
   "execution_count": 8,
   "id": "080fb39c",
   "metadata": {
    "execution": {
     "iopub.execute_input": "2024-10-22T13:32:41.049881Z",
     "iopub.status.busy": "2024-10-22T13:32:41.049229Z",
     "iopub.status.idle": "2024-10-22T13:32:41.175409Z",
     "shell.execute_reply": "2024-10-22T13:32:41.174269Z"
    },
    "papermill": {
     "duration": 0.138617,
     "end_time": "2024-10-22T13:32:41.177508",
     "exception": false,
     "start_time": "2024-10-22T13:32:41.038891",
     "status": "completed"
    },
    "tags": []
   },
   "outputs": [
    {
     "name": "stdout",
     "output_type": "stream",
     "text": [
      "Shape of image tensor: torch.Size([3, 512, 512])\n",
      "Label: tensor(0.)\n"
     ]
    }
   ],
   "source": [
    "images, labels = dataset[0]\n",
    "print(\"Shape of image tensor:\", images.shape)\n",
    "print(\"Label:\", labels)"
   ]
  },
  {
   "cell_type": "code",
   "execution_count": 9,
   "id": "0617b796",
   "metadata": {
    "execution": {
     "iopub.execute_input": "2024-10-22T13:32:41.198182Z",
     "iopub.status.busy": "2024-10-22T13:32:41.197848Z",
     "iopub.status.idle": "2024-10-22T13:32:41.202975Z",
     "shell.execute_reply": "2024-10-22T13:32:41.201897Z"
    },
    "papermill": {
     "duration": 0.017889,
     "end_time": "2024-10-22T13:32:41.205132",
     "exception": false,
     "start_time": "2024-10-22T13:32:41.187243",
     "status": "completed"
    },
    "tags": []
   },
   "outputs": [
    {
     "name": "stdout",
     "output_type": "stream",
     "text": [
      "12178\n"
     ]
    }
   ],
   "source": [
    "print(len(dataset))"
   ]
  },
  {
   "cell_type": "code",
   "execution_count": 10,
   "id": "b1731176",
   "metadata": {
    "execution": {
     "iopub.execute_input": "2024-10-22T13:32:41.226528Z",
     "iopub.status.busy": "2024-10-22T13:32:41.226216Z",
     "iopub.status.idle": "2024-10-22T13:32:41.488596Z",
     "shell.execute_reply": "2024-10-22T13:32:41.487622Z"
    },
    "papermill": {
     "duration": 0.27627,
     "end_time": "2024-10-22T13:32:41.491765",
     "exception": false,
     "start_time": "2024-10-22T13:32:41.215495",
     "status": "completed"
    },
    "tags": []
   },
   "outputs": [
    {
     "data": {
      "image/png": "[encoded data removed]",
      "text/plain": [
       "<Figure size 640x480 with 1 Axes>"
      ]
     },
     "metadata": {},
     "output_type": "display_data"
    }
   ],
   "source": [
    "dataset.plot_label_distribution(\"Balanced Label Distribution\")"
   ]
  },
  {
   "cell_type": "markdown",
   "id": "07cdd77e",
   "metadata": {
    "papermill": {
     "duration": 0.009846,
     "end_time": "2024-10-22T13:32:41.512925",
     "exception": false,
     "start_time": "2024-10-22T13:32:41.503079",
     "status": "completed"
    },
    "tags": []
   },
   "source": [
    "# Dataloader"
   ]
  },
  {
   "cell_type": "code",
   "execution_count": 11,
   "id": "052b1901",
   "metadata": {
    "ExecuteTime": {
     "end_time": "2024-10-15T15:07:51.439856Z",
     "start_time": "2024-10-15T15:07:51.432637Z"
    },
    "execution": {
     "iopub.execute_input": "2024-10-22T13:32:41.534335Z",
     "iopub.status.busy": "2024-10-22T13:32:41.533990Z",
     "iopub.status.idle": "2024-10-22T13:32:41.547633Z",
     "shell.execute_reply": "2024-10-22T13:32:41.546896Z"
    },
    "papermill": {
     "duration": 0.026658,
     "end_time": "2024-10-22T13:32:41.549538",
     "exception": false,
     "start_time": "2024-10-22T13:32:41.522880",
     "status": "completed"
    },
    "tags": []
   },
   "outputs": [],
   "source": [
    "class DataloaderManager:\n",
    "    def __init__(self, dataset, val_size, test_size, batch_size, num_workers=4):\n",
    "        self.dataset = dataset\n",
    "        self.val_size = val_size\n",
    "        self.test_size = test_size\n",
    "        self.batch_size = batch_size\n",
    "        self.num_workers = num_workers\n",
    "        \n",
    "        self.train_indices = None\n",
    "        self.val_indices = None\n",
    "        self.test_indices = None\n",
    "        \n",
    "        self._create_loaders()\n",
    "        self.print_lengths()\n",
    "        self.print_label_distribution()\n",
    "\n",
    "    def _get_labels(self, indices):\n",
    "        # Fetch labels for a given set of indices\n",
    "        return [self.dataset.all_labels[i] for i in indices]\n",
    "\n",
    "    def _split_indices(self):\n",
    "        labels = self.dataset.all_labels\n",
    "        total_size = len(labels)\n",
    "        indices = np.arange(total_size)\n",
    "\n",
    "        # Split into train+val and test sets first\n",
    "        train_val_indices, test_indices = train_test_split(\n",
    "            indices,\n",
    "            test_size=self.test_size,\n",
    "            stratify=labels,\n",
    "            random_state=42\n",
    "        )\n",
    "\n",
    "        # Now split the remaining data into train and validation sets\n",
    "        val_relative_size = self.val_size / (1 - self.test_size)\n",
    "        train_indices, val_indices = train_test_split(\n",
    "            train_val_indices,\n",
    "            test_size=val_relative_size,\n",
    "            stratify=np.array(labels)[train_val_indices],\n",
    "            random_state=42\n",
    "        )\n",
    "\n",
    "        return train_indices, val_indices, test_indices\n",
    "\n",
    "    def _create_dataloader(self, indices, shuffle):\n",
    "        return DataLoader(\n",
    "            Subset(self.dataset, indices),\n",
    "            batch_size=self.batch_size,\n",
    "            shuffle=shuffle,\n",
    "            num_workers=self.num_workers,\n",
    "            pin_memory=True\n",
    "        )\n",
    "\n",
    "    def _create_loaders(self):\n",
    "        self.train_indices, self.val_indices, self.test_indices = self._split_indices()\n",
    "        \n",
    "        self.train_loader = self._create_dataloader(self.train_indices, shuffle=True)\n",
    "        self.validate_loader = self._create_dataloader(self.val_indices, shuffle=False)\n",
    "        self.test_loader = self._create_dataloader(self.test_indices, shuffle=False)\n",
    "\n",
    "    def print_lengths(self):\n",
    "        print(f\"Length of training dataset: {len(self.train_loader.dataset)}\")\n",
    "        print(f\"Length of validation dataset: {len(self.validate_loader.dataset)}\")\n",
    "        print(f\"Length of testing dataset: {len(self.test_loader.dataset)}\")\n",
    "        \n",
    "    def print_label_distribution(self):\n",
    "        # Get label distributions for train, validation, and test sets\n",
    "        train_labels = self._get_labels(self.train_indices)\n",
    "        val_labels = self._get_labels(self.val_indices)\n",
    "        test_labels = self._get_labels(self.test_indices)\n",
    "\n",
    "        print(\"\\n***********************\\n\")\n",
    "        print(\"Label Distribution:\")\n",
    "        print(f\"Train set: {Counter(train_labels)}\")\n",
    "        print(f\"Validation set: {Counter(val_labels)}\")\n",
    "        print(f\"Test set: {Counter(test_labels)}\")"
   ]
  },
  {
   "cell_type": "code",
   "execution_count": 12,
   "id": "0039b369",
   "metadata": {
    "execution": {
     "iopub.execute_input": "2024-10-22T13:32:41.570538Z",
     "iopub.status.busy": "2024-10-22T13:32:41.570253Z",
     "iopub.status.idle": "2024-10-22T13:32:41.594797Z",
     "shell.execute_reply": "2024-10-22T13:32:41.593644Z"
    },
    "papermill": {
     "duration": 0.0374,
     "end_time": "2024-10-22T13:32:41.596818",
     "exception": false,
     "start_time": "2024-10-22T13:32:41.559418",
     "status": "completed"
    },
    "tags": []
   },
   "outputs": [
    {
     "name": "stdout",
     "output_type": "stream",
     "text": [
      "Length of training dataset: 8524\n",
      "Length of validation dataset: 1827\n",
      "Length of testing dataset: 1827\n",
      "\n",
      "***********************\n",
      "\n",
      "Label Distribution:\n",
      "Train set: Counter({1: 4262, 0: 4262})\n",
      "Validation set: Counter({1: 914, 0: 913})\n",
      "Test set: Counter({0: 914, 1: 913})\n"
     ]
    }
   ],
   "source": [
    "dataloader_manager = DataloaderManager(dataset, val_size=VAL_SIZE, test_size=TEST_SIZE, batch_size=BATCH_PATIENTS)"
   ]
  },
  {
   "cell_type": "markdown",
   "id": "fa0d9a75",
   "metadata": {
    "papermill": {
     "duration": 0.009831,
     "end_time": "2024-10-22T13:32:41.616734",
     "exception": false,
     "start_time": "2024-10-22T13:32:41.606903",
     "status": "completed"
    },
    "tags": []
   },
   "source": [
    "# Model configurations"
   ]
  },
  {
   "cell_type": "code",
   "execution_count": 13,
   "id": "f093c800",
   "metadata": {
    "ExecuteTime": {
     "end_time": "2024-10-15T15:07:52.586835Z",
     "start_time": "2024-10-15T15:07:51.642585Z"
    },
    "execution": {
     "iopub.execute_input": "2024-10-22T13:32:41.638232Z",
     "iopub.status.busy": "2024-10-22T13:32:41.637530Z",
     "iopub.status.idle": "2024-10-22T13:32:42.422990Z",
     "shell.execute_reply": "2024-10-22T13:32:42.422097Z"
    },
    "papermill": {
     "duration": 0.798671,
     "end_time": "2024-10-22T13:32:42.425419",
     "exception": false,
     "start_time": "2024-10-22T13:32:41.626748",
     "status": "completed"
    },
    "tags": []
   },
   "outputs": [
    {
     "name": "stderr",
     "output_type": "stream",
     "text": [
      "Downloading: \"https://download.pytorch.org/models/resnet18-f37072fd.pth\" to /root/.cache/torch/hub/checkpoints/resnet18-f37072fd.pth\n",
      "100%|██████████| 44.7M/44.7M [00:00<00:00, 168MB/s]\n"
     ]
    }
   ],
   "source": [
    "# 2. Model Definition\n",
    "class ResNet18(nn.Module):\n",
    "    def __init__(self, num_classes=1):\n",
    "        super(ResNet18, self).__init__()\n",
    "        self.resnet = models.resnet18(weights=ResNet18_Weights.DEFAULT)\n",
    "        self.resnet.fc = nn.Linear(self.resnet.fc.in_features, num_classes)\n",
    "        self.dropout = nn.Dropout(p=0.25)  # Add dropout layer\n",
    "\n",
    "    def forward(self, x):\n",
    "        batch_slices, channels, height, width = x.size()\n",
    "        return self.dropout(self.resnet(x))\n",
    "        \n",
    "device = torch.device(\"cuda\" if torch.cuda.is_available() else \"cpu\")\n",
    "model = ResNet18().to(device)"
   ]
  },
  {
   "cell_type": "code",
   "execution_count": 14,
   "id": "46a0af6e",
   "metadata": {
    "ExecuteTime": {
     "end_time": "2024-10-15T15:07:52.616483Z",
     "start_time": "2024-10-15T15:07:52.612038Z"
    },
    "execution": {
     "iopub.execute_input": "2024-10-22T13:32:42.449592Z",
     "iopub.status.busy": "2024-10-22T13:32:42.448793Z",
     "iopub.status.idle": "2024-10-22T13:32:42.455426Z",
     "shell.execute_reply": "2024-10-22T13:32:42.454568Z"
    },
    "papermill": {
     "duration": 0.020799,
     "end_time": "2024-10-22T13:32:42.457361",
     "exception": false,
     "start_time": "2024-10-22T13:32:42.436562",
     "status": "completed"
    },
    "tags": []
   },
   "outputs": [],
   "source": [
    "# 3. Loss and Optimizer\n",
    "criterion = nn.BCEWithLogitsLoss()\n",
    "optimizer = optim.Adam(model.parameters(), lr=LEARNING_RATE)\n",
    "scheduler = ReduceLROnPlateau(optimizer, mode='min', factor=0.2, patience=2)\n",
    "\n",
    "# mode: Monitors 'min' or 'max' changes in metrics.\n",
    "# factor: The multiplicative factor for reducing the learning rate. \n",
    "##  If the current learning rate is 0.01 and factor=0.5, the new learning rate will be 0.01 * 0.5 = 0.005\n",
    "# patience: Number of epochs to wait for improvement before reducing the learning rate."
   ]
  },
  {
   "cell_type": "code",
   "execution_count": 15,
   "id": "923a9b9e",
   "metadata": {
    "ExecuteTime": {
     "end_time": "2024-10-15T15:07:52.680223Z",
     "start_time": "2024-10-15T15:07:52.670633Z"
    },
    "execution": {
     "iopub.execute_input": "2024-10-22T13:32:42.479810Z",
     "iopub.status.busy": "2024-10-22T13:32:42.479469Z",
     "iopub.status.idle": "2024-10-22T13:32:42.487837Z",
     "shell.execute_reply": "2024-10-22T13:32:42.486922Z"
    },
    "papermill": {
     "duration": 0.021777,
     "end_time": "2024-10-22T13:32:42.489785",
     "exception": false,
     "start_time": "2024-10-22T13:32:42.468008",
     "status": "completed"
    },
    "tags": []
   },
   "outputs": [],
   "source": [
    "def train(model, train_loader, criterion, optimizer, scheduler, device):\n",
    "    model.train()\n",
    "\n",
    "    running_loss = 0.0\n",
    "    correct = 0\n",
    "    total = 0\n",
    "\n",
    "    for batch_idx, (image, label) in enumerate(train_loader):\n",
    "        image, label = image.to(device), label.to(device)\n",
    "\n",
    "        # Forward pass\n",
    "        optimizer.zero_grad()\n",
    "        output = model(image).squeeze()\n",
    "        label = label.reshape(-1)\n",
    "        \n",
    "        loss = criterion(output, label)\n",
    "\n",
    "        # Backward pass and optimization\n",
    "        loss.backward()\n",
    "        optimizer.step()\n",
    "\n",
    "        # Track loss\n",
    "        running_loss += loss.item()\n",
    "\n",
    "        # Calculate accuracy\n",
    "        predicted_label = (output > 0.5).float()\n",
    "        total += label.size(0)\n",
    "        correct += (predicted_label == label).sum().item()\n",
    "\n",
    "    # Calculate average loss and accuracy for the epoch\n",
    "    epoch_loss = running_loss / len(train_loader)\n",
    "    accuracy = 100 * correct / total\n",
    "\n",
    "    print(f'Epoch {epoch+1}: Loss: {epoch_loss:.4f}, Accuracy: {accuracy:.4f}%')\n",
    "\n",
    "    scheduler.step(epoch_loss)\n",
    "    return epoch_loss"
   ]
  },
  {
   "cell_type": "code",
   "execution_count": 16,
   "id": "3997cead",
   "metadata": {
    "ExecuteTime": {
     "end_time": "2024-10-15T15:07:52.742433Z",
     "start_time": "2024-10-15T15:07:52.734550Z"
    },
    "execution": {
     "iopub.execute_input": "2024-10-22T13:32:42.512052Z",
     "iopub.status.busy": "2024-10-22T13:32:42.511782Z",
     "iopub.status.idle": "2024-10-22T13:32:42.519086Z",
     "shell.execute_reply": "2024-10-22T13:32:42.518244Z"
    },
    "papermill": {
     "duration": 0.020501,
     "end_time": "2024-10-22T13:32:42.520980",
     "exception": false,
     "start_time": "2024-10-22T13:32:42.500479",
     "status": "completed"
    },
    "tags": []
   },
   "outputs": [],
   "source": [
    "def validate(model, validate_loader, criterion, device):\n",
    "    model.eval()\n",
    "    running_loss = 0.0\n",
    "    correct = 0\n",
    "    total = 0\n",
    "    \n",
    "    with torch.no_grad():\n",
    "        for batch_idx, (image, label) in enumerate(validate_loader):\n",
    "            image, label = image.to(device), label.to(device)\n",
    "            \n",
    "            # Forward pass\n",
    "            output = model(image).squeeze()\n",
    "            label = label.reshape(-1)\n",
    "            \n",
    "            loss = criterion(output, label)\n",
    "            running_loss += loss.item()\n",
    "            \n",
    "            # Calculate accuracy\n",
    "            predicted_label = (output > 0.5).float()\n",
    "            total += label.size(0)\n",
    "            correct += (predicted_label == label).sum().item()\n",
    "    \n",
    "    # Calculate average loss and accuracy for validation\n",
    "    val_loss = running_loss / len(validate_loader)\n",
    "    accuracy = 100 * correct / total\n",
    "    \n",
    "    print(f'Validation Loss: {val_loss:.4f}, Validation Accuracy: {accuracy:.4f}%')\n",
    "    \n",
    "    return val_loss"
   ]
  },
  {
   "cell_type": "code",
   "execution_count": 17,
   "id": "8f6de653",
   "metadata": {
    "ExecuteTime": {
     "end_time": "2024-10-15T15:07:52.801793Z",
     "start_time": "2024-10-15T15:07:52.796322Z"
    },
    "execution": {
     "iopub.execute_input": "2024-10-22T13:32:42.543194Z",
     "iopub.status.busy": "2024-10-22T13:32:42.542902Z",
     "iopub.status.idle": "2024-10-22T13:32:42.548273Z",
     "shell.execute_reply": "2024-10-22T13:32:42.547460Z"
    },
    "papermill": {
     "duration": 0.01865,
     "end_time": "2024-10-22T13:32:42.550110",
     "exception": false,
     "start_time": "2024-10-22T13:32:42.531460",
     "status": "completed"
    },
    "tags": []
   },
   "outputs": [],
   "source": [
    "def save_checkpoint(model, optimizer, scheduler, epoch, loss):\n",
    "    checkpoint_path = os.path.join(CHECKPOINTS_DIR, f'checkpoint_epoch_{epoch+1}.pth')    \n",
    "    torch.save({\n",
    "        'epoch': epoch,\n",
    "        'model_state_dict': model.state_dict(),\n",
    "        'optimizer_state_dict': optimizer.state_dict(),\n",
    "        'scheduler_state_dict': scheduler.state_dict(),\n",
    "        'loss': loss\n",
    "    }, checkpoint_path)\n",
    "    print(f\"Checkpoint saved: {checkpoint_path}\")"
   ]
  },
  {
   "cell_type": "code",
   "execution_count": 18,
   "id": "ae74c252",
   "metadata": {
    "ExecuteTime": {
     "end_time": "2024-10-15T15:07:53.165742Z",
     "start_time": "2024-10-15T15:07:53.159773Z"
    },
    "execution": {
     "iopub.execute_input": "2024-10-22T13:32:42.572211Z",
     "iopub.status.busy": "2024-10-22T13:32:42.571948Z",
     "iopub.status.idle": "2024-10-22T13:32:42.580785Z",
     "shell.execute_reply": "2024-10-22T13:32:42.579924Z"
    },
    "papermill": {
     "duration": 0.022106,
     "end_time": "2024-10-22T13:32:42.582775",
     "exception": false,
     "start_time": "2024-10-22T13:32:42.560669",
     "status": "completed"
    },
    "tags": []
   },
   "outputs": [],
   "source": [
    "def load_best_checkpoint(model, optimizer, scheduler, checkpoint_dir):\n",
    "    checkpoint_files = [f for f in os.listdir(checkpoint_dir) if f.startswith('checkpoint_epoch_') and f.endswith('.pth')]\n",
    "    if not checkpoint_files:\n",
    "        print(\"No checkpoints found.\")\n",
    "        return None, None\n",
    "\n",
    "    best_checkpoint = min(checkpoint_files, key=lambda x: float(x.split('_')[-1].split('.')[0]))\n",
    "    checkpoint_path = os.path.join(checkpoint_dir, best_checkpoint)\n",
    "    \n",
    "    try:\n",
    "        checkpoint = torch.load(checkpoint_path, map_location=torch.device(device), weights_only=True)\n",
    "    except RuntimeError as e:\n",
    "        print(f\"Error loading checkpoint: {e}\")\n",
    "        print(f\"Checkpoint file: {checkpoint_path}\")\n",
    "        print(f\"File size: {os.path.getsize(checkpoint_path)} bytes\")\n",
    "        return None, None\n",
    "\n",
    "    try:\n",
    "        model.load_state_dict(checkpoint['model_state_dict'])\n",
    "        optimizer.load_state_dict(checkpoint['optimizer_state_dict'])\n",
    "        scheduler.load_state_dict(checkpoint['scheduler_state_dict'])\n",
    "        \n",
    "        epoch = checkpoint['epoch']\n",
    "        best_val_loss = checkpoint['loss']\n",
    "        \n",
    "        print(f\"Loaded checkpoint from epoch {epoch+1} with validation loss {best_val_loss}\")\n",
    "        \n",
    "        return epoch, best_val_loss\n",
    "    except KeyError as e:\n",
    "        print(f\"Error: Checkpoint file is missing expected data: {e}\")\n",
    "        print(f\"Available keys in checkpoint: {checkpoint.keys()}\")\n",
    "        return None, None"
   ]
  },
  {
   "cell_type": "code",
   "execution_count": 19,
   "id": "5dcb35cf",
   "metadata": {
    "ExecuteTime": {
     "end_time": "2024-10-15T15:07:53.235969Z",
     "start_time": "2024-10-15T15:07:53.227459Z"
    },
    "execution": {
     "iopub.execute_input": "2024-10-22T13:32:42.606200Z",
     "iopub.status.busy": "2024-10-22T13:32:42.605934Z",
     "iopub.status.idle": "2024-10-22T13:32:42.612679Z",
     "shell.execute_reply": "2024-10-22T13:32:42.611874Z"
    },
    "papermill": {
     "duration": 0.020819,
     "end_time": "2024-10-22T13:32:42.614560",
     "exception": false,
     "start_time": "2024-10-22T13:32:42.593741",
     "status": "completed"
    },
    "tags": []
   },
   "outputs": [],
   "source": [
    "def plot_roc_curve(y_true, y_scores):\n",
    "    fpr, tpr, thresholds = roc_curve(y_true, y_scores)\n",
    "    roc_auc = auc(fpr, tpr)\n",
    "    plt.figure()\n",
    "    plt.plot(fpr, tpr, color='darkorange', lw=2, label='ROC curve (area = %0.2f)' % roc_auc)\n",
    "    plt.plot([0, 1], [0, 1], color='navy', lw=2, linestyle='--')\n",
    "    plt.xlim([0.0, 1.0])\n",
    "    plt.ylim([0.0, 1.05])\n",
    "    plt.xlabel('False Positive Rate')\n",
    "    plt.ylabel('True Positive Rate')\n",
    "    plt.title('Receiver Operating Characteristic')\n",
    "    plt.legend(loc='lower right')\n",
    "    plt.savefig(os.path.join(FIGURES_DIR, 'roc_curve.png'))\n",
    "    plt.show()\n",
    "    plt.close()"
   ]
  },
  {
   "cell_type": "code",
   "execution_count": 20,
   "id": "12166726",
   "metadata": {
    "ExecuteTime": {
     "end_time": "2024-10-15T15:07:53.598335Z",
     "start_time": "2024-10-15T15:07:53.594214Z"
    },
    "execution": {
     "iopub.execute_input": "2024-10-22T13:32:42.636586Z",
     "iopub.status.busy": "2024-10-22T13:32:42.636300Z",
     "iopub.status.idle": "2024-10-22T13:32:42.641245Z",
     "shell.execute_reply": "2024-10-22T13:32:42.640405Z"
    },
    "papermill": {
     "duration": 0.018077,
     "end_time": "2024-10-22T13:32:42.643128",
     "exception": false,
     "start_time": "2024-10-22T13:32:42.625051",
     "status": "completed"
    },
    "tags": []
   },
   "outputs": [],
   "source": [
    "def plot_confusion_matrix(y_true, y_pred):\n",
    "    cm = confusion_matrix(y_true, y_pred)\n",
    "    disp = ConfusionMatrixDisplay(confusion_matrix=cm)\n",
    "    disp.plot(cmap=plt.cm.Blues)\n",
    "    plt.title('Confusion Matrix')\n",
    "    plt.savefig(os.path.join(FIGURES_DIR, 'confusion_matrix.png'))\n",
    "    plt.show()\n",
    "    plt.close()"
   ]
  },
  {
   "cell_type": "code",
   "execution_count": 21,
   "id": "eca39078",
   "metadata": {
    "ExecuteTime": {
     "end_time": "2024-10-15T15:07:53.657149Z",
     "start_time": "2024-10-15T15:07:53.651664Z"
    },
    "execution": {
     "iopub.execute_input": "2024-10-22T13:32:42.665293Z",
     "iopub.status.busy": "2024-10-22T13:32:42.665006Z",
     "iopub.status.idle": "2024-10-22T13:32:42.669611Z",
     "shell.execute_reply": "2024-10-22T13:32:42.668794Z"
    },
    "papermill": {
     "duration": 0.017827,
     "end_time": "2024-10-22T13:32:42.671547",
     "exception": false,
     "start_time": "2024-10-22T13:32:42.653720",
     "status": "completed"
    },
    "tags": []
   },
   "outputs": [],
   "source": [
    "def save_final_model(model, optimizer, scheduler, final_model_path):\n",
    "    torch.save({\n",
    "        'model_state_dict': model.state_dict(),\n",
    "        'optimizer_state_dict': optimizer.state_dict(),\n",
    "        'scheduler_state_dict': scheduler.state_dict(),\n",
    "    }, final_model_path)\n",
    "    print(f\"Final model saved to {final_model_path}\")"
   ]
  },
  {
   "cell_type": "code",
   "execution_count": 22,
   "id": "9b1b0323",
   "metadata": {
    "ExecuteTime": {
     "end_time": "2024-10-15T15:07:53.997995Z",
     "start_time": "2024-10-15T15:07:53.983343Z"
    },
    "execution": {
     "iopub.execute_input": "2024-10-22T13:32:42.694127Z",
     "iopub.status.busy": "2024-10-22T13:32:42.693530Z",
     "iopub.status.idle": "2024-10-22T13:32:42.702950Z",
     "shell.execute_reply": "2024-10-22T13:32:42.702068Z"
    },
    "papermill": {
     "duration": 0.022739,
     "end_time": "2024-10-22T13:32:42.704783",
     "exception": false,
     "start_time": "2024-10-22T13:32:42.682044",
     "status": "completed"
    },
    "tags": []
   },
   "outputs": [],
   "source": [
    "def evaluate(model, test_loader, device, criterion):\n",
    "    model.to(device)\n",
    "    model.eval()\n",
    "    correct = 0\n",
    "    total = 0\n",
    "    all_labels = []\n",
    "    all_predictions = []\n",
    "    all_scores = []\n",
    "    test_loss = 0\n",
    "\n",
    "    with torch.no_grad():\n",
    "        for image, label in test_loader:\n",
    "            image, label = image.to(device), label.to(device)\n",
    "            \n",
    "            output = model(image).squeeze()\n",
    "            label = label.reshape(-1)\n",
    "            \n",
    "            loss = criterion(output, label)\n",
    "            test_loss += loss.item()\n",
    "            \n",
    "            predicted_label = (output > 0.5).float()\n",
    "            total += label.size(0)\n",
    "            correct += (predicted_label == label).sum().item()\n",
    "            \n",
    "            all_labels.extend(label.cpu().numpy())\n",
    "            all_predictions.extend(predicted_label.cpu().numpy())\n",
    "            all_scores.extend(output.cpu().numpy())\n",
    "\n",
    "    accuracy = 100 * correct / total\n",
    "    avg_loss = test_loss / len(test_loader)\n",
    "    print(f'Test Accuracy: {accuracy:.4f}%')\n",
    "    print(f'Test Loss: {avg_loss:.4f}')\n",
    "    \n",
    "    plot_roc_curve(np.array(all_labels), np.array(all_scores))\n",
    "    plot_confusion_matrix(np.array(all_labels), np.array(all_predictions))\n",
    "\n",
    "    return accuracy, avg_loss"
   ]
  },
  {
   "cell_type": "markdown",
   "id": "ba650d17",
   "metadata": {
    "papermill": {
     "duration": 0.010178,
     "end_time": "2024-10-22T13:32:42.725485",
     "exception": false,
     "start_time": "2024-10-22T13:32:42.715307",
     "status": "completed"
    },
    "tags": []
   },
   "source": [
    "# Main"
   ]
  },
  {
   "cell_type": "markdown",
   "id": "4f3a86c7",
   "metadata": {
    "papermill": {
     "duration": 0.010177,
     "end_time": "2024-10-22T13:32:42.746321",
     "exception": false,
     "start_time": "2024-10-22T13:32:42.736144",
     "status": "completed"
    },
    "tags": []
   },
   "source": [
    "## Train result"
   ]
  },
  {
   "cell_type": "code",
   "execution_count": 23,
   "id": "9ed6f5b4",
   "metadata": {
    "execution": {
     "iopub.execute_input": "2024-10-22T13:32:42.768341Z",
     "iopub.status.busy": "2024-10-22T13:32:42.768045Z",
     "iopub.status.idle": "2024-10-22T14:18:13.179296Z",
     "shell.execute_reply": "2024-10-22T14:18:13.177857Z"
    },
    "papermill": {
     "duration": 2730.42485,
     "end_time": "2024-10-22T14:18:13.181601",
     "exception": false,
     "start_time": "2024-10-22T13:32:42.756751",
     "status": "completed"
    },
    "tags": []
   },
   "outputs": [
    {
     "name": "stdout",
     "output_type": "stream",
     "text": [
      "No checkpoints found.\n",
      "Epoch 1: Loss: 0.5103, Accuracy: 70.6476%\n",
      "Validation Loss: 0.5001, Validation Accuracy: 67.9803%\n",
      "Checkpoint saved: /kaggle/working/RSNA-ResNet18/checkpoints/checkpoint_epoch_1.pth\n",
      "Epoch 2: Loss: 0.4411, Accuracy: 74.4486%\n",
      "Validation Loss: 0.3938, Validation Accuracy: 76.2452%\n",
      "Checkpoint saved: /kaggle/working/RSNA-ResNet18/checkpoints/checkpoint_epoch_2.pth\n",
      "Epoch 3: Loss: 0.3985, Accuracy: 76.8301%\n",
      "Validation Loss: 0.3807, Validation Accuracy: 84.4554%\n",
      "Checkpoint saved: /kaggle/working/RSNA-ResNet18/checkpoints/checkpoint_epoch_3.pth\n",
      "Epoch 4: Loss: 0.3678, Accuracy: 78.1793%\n",
      "Validation Loss: 0.6339, Validation Accuracy: 76.7378%\n",
      "Epoch 5: Loss: 0.3408, Accuracy: 80.0211%\n",
      "Validation Loss: 0.3251, Validation Accuracy: 85.6048%\n",
      "Checkpoint saved: /kaggle/working/RSNA-ResNet18/checkpoints/checkpoint_epoch_5.pth\n",
      "Epoch 6: Loss: 0.3246, Accuracy: 80.6429%\n",
      "Validation Loss: 0.3289, Validation Accuracy: 86.8090%\n",
      "Epoch 7: Loss: 0.2742, Accuracy: 83.2356%\n",
      "Validation Loss: 0.4331, Validation Accuracy: 82.3755%\n",
      "Epoch 8: Loss: 0.2626, Accuracy: 83.5171%\n",
      "Validation Loss: 0.3791, Validation Accuracy: 82.8134%\n",
      "Epoch 9: Loss: 0.2355, Accuracy: 85.1713%\n",
      "Validation Loss: 0.3921, Validation Accuracy: 86.7542%\n",
      "Epoch 10: Loss: 0.2299, Accuracy: 85.2651%\n",
      "Validation Loss: 0.4485, Validation Accuracy: 81.3903%\n",
      "Epoch 11: Loss: 0.2164, Accuracy: 86.5087%\n",
      "Validation Loss: 0.4180, Validation Accuracy: 82.7586%\n",
      "Epoch 12: Loss: 0.1956, Accuracy: 86.5908%\n",
      "Validation Loss: 0.3624, Validation Accuracy: 86.5900%\n",
      "Epoch 13: Loss: 0.1866, Accuracy: 87.5763%\n",
      "Validation Loss: 0.4507, Validation Accuracy: 85.3311%\n",
      "Epoch 14: Loss: 0.1895, Accuracy: 87.1305%\n",
      "Validation Loss: 0.5310, Validation Accuracy: 86.0974%\n",
      "Epoch 15: Loss: 0.1919, Accuracy: 87.1656%\n",
      "Validation Loss: 0.8063, Validation Accuracy: 80.4050%\n",
      "Epoch 16: Loss: 0.2030, Accuracy: 86.4383%\n",
      "Validation Loss: 0.4441, Validation Accuracy: 84.6196%\n",
      "Epoch 17: Loss: 0.1920, Accuracy: 86.1802%\n",
      "Validation Loss: 0.3803, Validation Accuracy: 87.8489%\n",
      "Epoch 18: Loss: 0.1713, Accuracy: 87.8109%\n",
      "Validation Loss: 0.3867, Validation Accuracy: 87.6847%\n",
      "Epoch 19: Loss: 0.1737, Accuracy: 87.6232%\n",
      "Validation Loss: 0.3703, Validation Accuracy: 88.1773%\n",
      "Epoch 20: Loss: 0.1702, Accuracy: 87.8226%\n",
      "Validation Loss: 0.3789, Validation Accuracy: 87.9037%\n",
      "Epoch 21: Loss: 0.1748, Accuracy: 87.7288%\n",
      "Validation Loss: 0.3943, Validation Accuracy: 87.5753%\n",
      "Epoch 22: Loss: 0.1742, Accuracy: 87.4824%\n",
      "Validation Loss: 0.3802, Validation Accuracy: 88.2868%\n",
      "Epoch 23: Loss: 0.1696, Accuracy: 87.8578%\n",
      "Validation Loss: 0.3776, Validation Accuracy: 88.1773%\n",
      "Epoch 24: Loss: 0.1774, Accuracy: 87.3651%\n",
      "Validation Loss: 0.3837, Validation Accuracy: 88.4510%\n",
      "Epoch 25: Loss: 0.1786, Accuracy: 87.1656%\n",
      "Validation Loss: 0.3828, Validation Accuracy: 88.2868%\n",
      "Epoch 26: Loss: 0.1664, Accuracy: 88.0338%\n",
      "Validation Loss: 0.3948, Validation Accuracy: 87.9584%\n",
      "Epoch 27: Loss: 0.1773, Accuracy: 87.0483%\n",
      "Validation Loss: 0.3958, Validation Accuracy: 87.9037%\n",
      "Epoch 28: Loss: 0.1761, Accuracy: 87.0835%\n",
      "Validation Loss: 0.3897, Validation Accuracy: 88.5057%\n",
      "Epoch 29: Loss: 0.1796, Accuracy: 87.4472%\n",
      "Validation Loss: 0.3886, Validation Accuracy: 88.5057%\n",
      "Epoch 30: Loss: 0.1741, Accuracy: 87.3182%\n",
      "Validation Loss: 0.3900, Validation Accuracy: 88.5057%\n"
     ]
    }
   ],
   "source": [
    "loaded_epoch, loaded_best_val_loss = load_best_checkpoint(model, optimizer, scheduler, CHECKPOINTS_DIR)\n",
    "\n",
    "if loaded_epoch is not None:\n",
    "    start_epoch = loaded_epoch + 1\n",
    "    best_val_loss = loaded_best_val_loss\n",
    "else:\n",
    "    start_epoch = 0\n",
    "    best_val_loss = float('inf')\n",
    "\n",
    "for epoch in range(start_epoch, NUM_EPOCHS):\n",
    "    train_loader = dataloader_manager.train_loader\n",
    "    validate_loader = dataloader_manager.validate_loader \n",
    "    \n",
    "    train_loss = train(model, train_loader, criterion, optimizer, scheduler, device)\n",
    "    val_loss = validate(model, validate_loader, criterion, device)\n",
    "    \n",
    "    if val_loss < best_val_loss:\n",
    "        save_checkpoint(model, optimizer, scheduler, epoch, val_loss)\n",
    "        best_val_loss = val_loss"
   ]
  },
  {
   "cell_type": "markdown",
   "id": "00b9bd62",
   "metadata": {
    "papermill": {
     "duration": 0.015422,
     "end_time": "2024-10-22T14:18:13.213014",
     "exception": false,
     "start_time": "2024-10-22T14:18:13.197592",
     "status": "completed"
    },
    "tags": []
   },
   "source": [
    "## Evaluate result"
   ]
  },
  {
   "cell_type": "code",
   "execution_count": 24,
   "id": "9cd4cc07",
   "metadata": {
    "ExecuteTime": {
     "end_time": "2024-10-15T15:18:44.867379Z",
     "start_time": "2024-10-15T15:17:49.586291Z"
    },
    "execution": {
     "iopub.execute_input": "2024-10-22T14:18:13.245685Z",
     "iopub.status.busy": "2024-10-22T14:18:13.245295Z",
     "iopub.status.idle": "2024-10-22T14:18:34.488779Z",
     "shell.execute_reply": "2024-10-22T14:18:34.487809Z"
    },
    "papermill": {
     "duration": 21.262937,
     "end_time": "2024-10-22T14:18:34.491288",
     "exception": false,
     "start_time": "2024-10-22T14:18:13.228351",
     "status": "completed"
    },
    "tags": []
   },
   "outputs": [
    {
     "name": "stdout",
     "output_type": "stream",
     "text": [
      "Test Accuracy: 89.1626%\n",
      "Test Loss: 0.3926\n"
     ]
    },
    {
     "data": {
      "image/png": "[encoded data removed]",
      "text/plain": [
       "<Figure size 640x480 with 1 Axes>"
      ]
     },
     "metadata": {},
     "output_type": "display_data"
    },
    {
     "data": {
      "image/png": "[encoded data removed]",
      "text/plain": [
       "<Figure size 640x480 with 2 Axes>"
      ]
     },
     "metadata": {},
     "output_type": "display_data"
    },
    {
     "name": "stdout",
     "output_type": "stream",
     "text": [
      "Final model saved to /kaggle/working/RSNA-ResNet18/checkpoints/final_model.pth\n"
     ]
    }
   ],
   "source": [
    "test_loader = dataloader_manager.test_loader\n",
    "accuracy, test_loss = evaluate(model, test_loader, device, criterion)\n",
    "\n",
    "final_model_path = os.path.join(CHECKPOINTS_DIR, 'final_model.pth')\n",
    "save_final_model(model, optimizer, scheduler, final_model_path)"
   ]
  }
 ],
 "metadata": {
  "kaggle": {
   "accelerator": "gpu",
   "dataSources": [
    {
     "datasetId": 5854070,
     "sourceId": 9651167,
     "sourceType": "datasetVersion"
    },
    {
     "datasetId": 5705276,
     "sourceId": 9652074,
     "sourceType": "datasetVersion"
    }
   ],
   "dockerImageVersionId": 30787,
   "isGpuEnabled": true,
   "isInternetEnabled": true,
   "language": "python",
   "sourceType": "notebook"
  },
  "kernelspec": {
   "display_name": "Python 3",
   "language": "python",
   "name": "python3"
  },
  "language_info": {
   "codemirror_mode": {
    "name": "ipython",
    "version": 3
   },
   "file_extension": ".py",
   "mimetype": "text/x-python",
   "name": "python",
   "nbconvert_exporter": "python",
   "pygments_lexer": "ipython3",
   "version": "3.10.14"
  },
  "papermill": {
   "default_parameters": {},
   "duration": 2833.048756,
   "end_time": "2024-10-22T14:18:37.170781",
   "environment_variables": {},
   "exception": null,
   "input_path": "__notebook__.ipynb",
   "output_path": "__notebook__.ipynb",
   "parameters": {},
   "start_time": "2024-10-22T13:31:24.122025",
   "version": "2.6.0"
  }
 },
 "nbformat": 4,
 "nbformat_minor": 5
}
