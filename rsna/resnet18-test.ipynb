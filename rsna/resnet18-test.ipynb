{
 "cells": [
  {
   "cell_type": "code",
   "execution_count": 1,
   "id": "a4651a0e",
   "metadata": {
    "ExecuteTime": {
     "end_time": "2024-10-15T15:07:46.081006Z",
     "start_time": "2024-10-15T15:07:41.005714Z"
    },
    "_cell_guid": "b1076dfc-b9ad-4769-8c92-a6c4dae69d19",
    "_uuid": "8f2839f25d086af736a60e9eeb907d3b93b6e0e5",
    "execution": {
     "iopub.execute_input": "2024-10-17T18:43:00.734673Z",
     "iopub.status.busy": "2024-10-17T18:43:00.734346Z",
     "iopub.status.idle": "2024-10-17T18:43:07.683259Z",
     "shell.execute_reply": "2024-10-17T18:43:07.682496Z"
    },
    "papermill": {
     "duration": 6.962397,
     "end_time": "2024-10-17T18:43:07.685614",
     "exception": false,
     "start_time": "2024-10-17T18:43:00.723217",
     "status": "completed"
    },
    "tags": []
   },
   "outputs": [],
   "source": [
    "# Standard library imports\n",
    "import os\n",
    "import zipfile\n",
    "\n",
    "# Third-party imports\n",
    "import cv2\n",
    "import matplotlib.pyplot as plt\n",
    "import numpy as np\n",
    "import pandas as pd\n",
    "import pydicom\n",
    "\n",
    "# PyTorch imports\n",
    "import torch\n",
    "import torch.nn as nn\n",
    "import torch.optim as optim\n",
    "from torch.optim.lr_scheduler import ReduceLROnPlateau\n",
    "from torch.utils.data import Dataset, DataLoader, Subset\n",
    "\n",
    "from sklearn.model_selection import train_test_split\n",
    "from sklearn.metrics import confusion_matrix, ConfusionMatrixDisplay, roc_curve, auc\n",
    "\n",
    "# Torchvision imports\n",
    "from torchvision import transforms, models\n",
    "from torchvision.models import ResNet18_Weights"
   ]
  },
  {
   "cell_type": "code",
   "execution_count": 2,
   "id": "30dc29f9",
   "metadata": {
    "ExecuteTime": {
     "end_time": "2024-10-15T15:07:46.497429Z",
     "start_time": "2024-10-15T15:07:46.096325Z"
    },
    "execution": {
     "iopub.execute_input": "2024-10-17T18:43:07.706922Z",
     "iopub.status.busy": "2024-10-17T18:43:07.706500Z",
     "iopub.status.idle": "2024-10-17T18:43:07.799428Z",
     "shell.execute_reply": "2024-10-17T18:43:07.798469Z"
    },
    "papermill": {
     "duration": 0.105078,
     "end_time": "2024-10-17T18:43:07.801420",
     "exception": false,
     "start_time": "2024-10-17T18:43:07.696342",
     "status": "completed"
    },
    "tags": []
   },
   "outputs": [
    {
     "name": "stdout",
     "output_type": "stream",
     "text": [
      "GPUs Available: 1\n",
      "- Tesla P100-PCIE-16GB\n"
     ]
    }
   ],
   "source": [
    "if torch.cuda.is_available():\n",
    "    print(f\"GPUs Available: {torch.cuda.device_count()}\")\n",
    "    for i in range(torch.cuda.device_count()):\n",
    "        print(f\"- {torch.cuda.get_device_name(i)}\")\n",
    "else:\n",
    "    print(\"No GPUs available.\")"
   ]
  },
  {
   "cell_type": "markdown",
   "id": "00a725dd",
   "metadata": {
    "papermill": {
     "duration": 0.009146,
     "end_time": "2024-10-17T18:43:07.819935",
     "exception": false,
     "start_time": "2024-10-17T18:43:07.810789",
     "status": "completed"
    },
    "tags": []
   },
   "source": [
    "# Local"
   ]
  },
  {
   "cell_type": "code",
   "execution_count": 3,
   "id": "dfbf6b8f",
   "metadata": {
    "ExecuteTime": {
     "end_time": "2024-10-15T15:07:47.108742Z",
     "start_time": "2024-10-15T15:07:46.826869Z"
    },
    "execution": {
     "iopub.execute_input": "2024-10-17T18:43:07.839664Z",
     "iopub.status.busy": "2024-10-17T18:43:07.839322Z",
     "iopub.status.idle": "2024-10-17T18:43:07.844304Z",
     "shell.execute_reply": "2024-10-17T18:43:07.843445Z"
    },
    "papermill": {
     "duration": 0.016968,
     "end_time": "2024-10-17T18:43:07.846105",
     "exception": false,
     "start_time": "2024-10-17T18:43:07.829137",
     "status": "completed"
    },
    "tags": []
   },
   "outputs": [],
   "source": [
    "# ## Dataset and Directory Configuration\n",
    "# DATASET_NAME = 'rsna-mil-training'\n",
    "# JOB_NAME = 'RSNA-ResNet18'\n",
    "# HPC_DIR = '/media02/tdhoang01/21127112-21127734/data'\n",
    "# OUTPUT_DIR = '/media02/tdhoang01/python-debugging/rsna/results'\n",
    "\n",
    "# ZIP_FILE_PATH = os.path.join(HPC_DIR, DATASET_NAME + '.zip')\n",
    "# CHECKPOINTS_DIR = os.path.join(OUTPUT_DIR, JOB_NAME, 'checkpoints')\n",
    "# FIGURES_DIR = os.path.join(OUTPUT_DIR, JOB_NAME, 'figures')\n",
    "# DICOM_DIR = f'{DATASET_NAME}/'\n",
    "\n",
    "# ## File Paths\n",
    "# CSV_PATH = f'{DATASET_NAME}/training_1000_scan_subset.csv'\n",
    "\n",
    "# ## Image Processing Parameters\n",
    "# MAX_SLICES = 60\n",
    "# HEIGHT = 224\n",
    "# WIDTH = 224\n",
    "\n",
    "# ## Training Hyperparameters\n",
    "# BATCH_PATIENTS = 4\n",
    "# NUM_EPOCHS = 2\n",
    "# LEARNING_RATE = 1e-4\n",
    "\n",
    "# ## Dataset Split Ratios\n",
    "# VAL_SIZE = 0.15\n",
    "# TEST_SIZE = 0.15\n",
    "\n",
    "# ## Create Necessary Directories\n",
    "# os.makedirs(CHECKPOINTS_DIR, exist_ok=True)\n",
    "# os.makedirs(FIGURES_DIR, exist_ok=True)\n",
    "\n",
    "# ## Load CSVs from zip\n",
    "# with zipfile.ZipFile(ZIP_FILE_PATH, 'r') as zip_ref:\n",
    "#     medical_scan_data = pd.read_csv(zip_ref.open(CSV_PATH))"
   ]
  },
  {
   "cell_type": "markdown",
   "id": "cd80ab77",
   "metadata": {
    "papermill": {
     "duration": 0.008996,
     "end_time": "2024-10-17T18:43:07.864351",
     "exception": false,
     "start_time": "2024-10-17T18:43:07.855355",
     "status": "completed"
    },
    "tags": []
   },
   "source": [
    "# Kaggle"
   ]
  },
  {
   "cell_type": "code",
   "execution_count": 4,
   "id": "eb73a12b",
   "metadata": {
    "ExecuteTime": {
     "end_time": "2024-10-15T15:07:47.136336Z",
     "start_time": "2024-10-15T15:07:47.132955Z"
    },
    "execution": {
     "iopub.execute_input": "2024-10-17T18:43:07.884184Z",
     "iopub.status.busy": "2024-10-17T18:43:07.883856Z",
     "iopub.status.idle": "2024-10-17T18:43:07.924485Z",
     "shell.execute_reply": "2024-10-17T18:43:07.923827Z"
    },
    "papermill": {
     "duration": 0.052717,
     "end_time": "2024-10-17T18:43:07.926423",
     "exception": false,
     "start_time": "2024-10-17T18:43:07.873706",
     "status": "completed"
    },
    "tags": []
   },
   "outputs": [],
   "source": [
    "# Configuration\n",
    "DATASET_NAME = 'rsna-mil-training'\n",
    "JOB_NAME = 'RSNA-ResNet18'\n",
    "INPUT_DIR = '/kaggle/input'\n",
    "OUTPUT_DIR = '/kaggle/working'\n",
    "\n",
    "# Directories\n",
    "CHECKPOINTS_DIR = os.path.join(OUTPUT_DIR, JOB_NAME, 'checkpoints')\n",
    "FIGURES_DIR = os.path.join(OUTPUT_DIR, JOB_NAME, 'figures')\n",
    "DICOM_DIR = os.path.join(INPUT_DIR, DATASET_NAME, DATASET_NAME)\n",
    "\n",
    "# File Paths\n",
    "CSV_PATH = f'{DICOM_DIR}/training_1000_scan_subset.csv'\n",
    "\n",
    "# Image Processing Parameters\n",
    "MAX_SLICES = 60\n",
    "HEIGHT = 512\n",
    "WIDTH = 512\n",
    "\n",
    "# Training Hyperparameters\n",
    "BATCH_PATIENTS = 128\n",
    "NUM_EPOCHS = 10\n",
    "LEARNING_RATE = 5e-4\n",
    "\n",
    "# Dataset Split Ratios\n",
    "VAL_SIZE = 0.15\n",
    "TEST_SIZE = 0.15\n",
    "\n",
    "# Create Necessary Directories\n",
    "os.makedirs(CHECKPOINTS_DIR, exist_ok=True)\n",
    "os.makedirs(FIGURES_DIR, exist_ok=True)\n",
    "\n",
    "# Load CSV from Kaggle environment (no need to unzip)\n",
    "medical_scan_data = pd.read_csv(CSV_PATH)"
   ]
  },
  {
   "cell_type": "code",
   "execution_count": 5,
   "id": "2b058fe8",
   "metadata": {
    "ExecuteTime": {
     "end_time": "2024-10-15T15:07:47.212661Z",
     "start_time": "2024-10-15T15:07:47.197850Z"
    },
    "execution": {
     "iopub.execute_input": "2024-10-17T18:43:07.946096Z",
     "iopub.status.busy": "2024-10-17T18:43:07.945822Z",
     "iopub.status.idle": "2024-10-17T18:43:07.963948Z",
     "shell.execute_reply": "2024-10-17T18:43:07.963113Z"
    },
    "papermill": {
     "duration": 0.030007,
     "end_time": "2024-10-17T18:43:07.965859",
     "exception": false,
     "start_time": "2024-10-17T18:43:07.935852",
     "status": "completed"
    },
    "tags": []
   },
   "outputs": [
    {
     "data": {
      "text/html": [
       "<div>\n",
       "<style scoped>\n",
       "    .dataframe tbody tr th:only-of-type {\n",
       "        vertical-align: middle;\n",
       "    }\n",
       "\n",
       "    .dataframe tbody tr th {\n",
       "        vertical-align: top;\n",
       "    }\n",
       "\n",
       "    .dataframe thead th {\n",
       "        text-align: right;\n",
       "    }\n",
       "</style>\n",
       "<table border=\"1\" class=\"dataframe\">\n",
       "  <thead>\n",
       "    <tr style=\"text-align: right;\">\n",
       "      <th></th>\n",
       "      <th>patient_id</th>\n",
       "      <th>study_instance_uid</th>\n",
       "      <th>images</th>\n",
       "      <th>labels</th>\n",
       "      <th>patient_label</th>\n",
       "      <th>length</th>\n",
       "    </tr>\n",
       "  </thead>\n",
       "  <tbody>\n",
       "    <tr>\n",
       "      <th>0</th>\n",
       "      <td>ID_2e010e33</td>\n",
       "      <td>ID_bda0f47e84</td>\n",
       "      <td>['ID_b9035cb1e.dcm', 'ID_0713bed86.dcm', 'ID_5...</td>\n",
       "      <td>[0, 0, 0, 0, 0, 0, 0, 0, 0, 0, 0, 0, 0, 0, 0, ...</td>\n",
       "      <td>0</td>\n",
       "      <td>48</td>\n",
       "    </tr>\n",
       "  </tbody>\n",
       "</table>\n",
       "</div>"
      ],
      "text/plain": [
       "    patient_id study_instance_uid  \\\n",
       "0  ID_2e010e33      ID_bda0f47e84   \n",
       "\n",
       "                                              images  \\\n",
       "0  ['ID_b9035cb1e.dcm', 'ID_0713bed86.dcm', 'ID_5...   \n",
       "\n",
       "                                              labels  patient_label  length  \n",
       "0  [0, 0, 0, 0, 0, 0, 0, 0, 0, 0, 0, 0, 0, 0, 0, ...              0      48  "
      ]
     },
     "execution_count": 5,
     "metadata": {},
     "output_type": "execute_result"
    }
   ],
   "source": [
    "medical_scan_data.head(1)"
   ]
  },
  {
   "cell_type": "code",
   "execution_count": 6,
   "id": "be06b862",
   "metadata": {
    "ExecuteTime": {
     "end_time": "2024-10-15T15:07:47.321026Z",
     "start_time": "2024-10-15T15:07:47.316594Z"
    },
    "execution": {
     "iopub.execute_input": "2024-10-17T18:43:07.985695Z",
     "iopub.status.busy": "2024-10-17T18:43:07.985391Z",
     "iopub.status.idle": "2024-10-17T18:43:07.991081Z",
     "shell.execute_reply": "2024-10-17T18:43:07.990256Z"
    },
    "papermill": {
     "duration": 0.0176,
     "end_time": "2024-10-17T18:43:07.992893",
     "exception": false,
     "start_time": "2024-10-17T18:43:07.975293",
     "status": "completed"
    },
    "tags": []
   },
   "outputs": [
    {
     "data": {
      "text/plain": [
       "Index(['patient_id', 'study_instance_uid', 'images', 'labels', 'patient_label',\n",
       "       'length'],\n",
       "      dtype='object')"
      ]
     },
     "execution_count": 6,
     "metadata": {},
     "output_type": "execute_result"
    }
   ],
   "source": [
    "medical_scan_data.columns"
   ]
  },
  {
   "cell_type": "markdown",
   "id": "0a6a648a",
   "metadata": {
    "papermill": {
     "duration": 0.009259,
     "end_time": "2024-10-17T18:43:08.011601",
     "exception": false,
     "start_time": "2024-10-17T18:43:08.002342",
     "status": "completed"
    },
    "tags": []
   },
   "source": [
    "# Local dataset gen."
   ]
  },
  {
   "cell_type": "code",
   "execution_count": 7,
   "id": "0e5c7254",
   "metadata": {
    "ExecuteTime": {
     "end_time": "2024-10-15T15:07:50.768147Z",
     "start_time": "2024-10-15T15:07:47.399320Z"
    },
    "execution": {
     "iopub.execute_input": "2024-10-17T18:43:08.031911Z",
     "iopub.status.busy": "2024-10-17T18:43:08.031623Z",
     "iopub.status.idle": "2024-10-17T18:43:08.040102Z",
     "shell.execute_reply": "2024-10-17T18:43:08.039387Z"
    },
    "papermill": {
     "duration": 0.020917,
     "end_time": "2024-10-17T18:43:08.041962",
     "exception": false,
     "start_time": "2024-10-17T18:43:08.021045",
     "status": "completed"
    },
    "tags": []
   },
   "outputs": [],
   "source": [
    "# class DatasetGenerator(Dataset):\n",
    "#     def __init__(self, zip_file_path, medical_scan_data, max_slices, height, width):\n",
    "#         self.zip_file_path = zip_file_path\n",
    "#         self.medical_scan_data = self._parse_medical_scan_data(medical_scan_data)\n",
    "#         self.max_slices = max_slices\n",
    "#         self.height = height\n",
    "#         self.width = width\n",
    "#         self.channels = 3\n",
    "#         self.dicom_paths = self._get_dicom_paths()\n",
    "#         self.transform = transforms.Compose([\n",
    "#             transforms.Resize((self.height, self.width))\n",
    "#         ])\n",
    "\n",
    "#     def __len__(self):\n",
    "#         return len(self.dicom_paths)\n",
    "\n",
    "#     def __getitem__(self, idx):\n",
    "#         dicom_files, row = self.dicom_paths[idx]\n",
    "\n",
    "#         # Process DICOM files to get images and labels\n",
    "#         images, labels = self._process_dicom_files(dicom_files)\n",
    "\n",
    "#         patient_scan_label = row['patient_scan_label']\n",
    "\n",
    "#         return self._pad_data(images, labels, patient_scan_label)\n",
    "    \n",
    "#     def _parse_medical_scan_data(self, medical_scan_data):\n",
    "#         medical_scan_data['images'] = medical_scan_data['images'].apply(lambda x: eval(x) if isinstance(x, str) else x)\n",
    "#         medical_scan_data['labels'] = medical_scan_data['labels'].apply(lambda x: eval(x) if isinstance(x, str) else x)\n",
    "#         return medical_scan_data\n",
    "\n",
    "#     def _get_dicom_paths(self):\n",
    "#         dicom_paths = []\n",
    "#         with zipfile.ZipFile(self.zip_file_path, 'r') as zip_ref:\n",
    "#             file_list = zip_ref.namelist()\n",
    "            \n",
    "#             for _, row in self.medical_scan_data.iterrows():\n",
    "#                 patient_id = row['patient_id'].replace(\"ID_\", \"\")\n",
    "#                 study_instance_uid = row['study_instance_uid'].replace(\"ID_\", \"\")\n",
    "#                 dicom_dir_path = f\"{DATASET_NAME}/{patient_id}_{study_instance_uid}\"\n",
    "                \n",
    "#                 dicom_files = [f for f in file_list if f.startswith(dicom_dir_path) and f.endswith(\".dcm\")]\n",
    "#                 if dicom_files:\n",
    "#                     dicom_paths.append((dicom_files, row))\n",
    "#                 else:\n",
    "#                     print(f\"No DICOM files found for {dicom_dir_path}.\")\n",
    "        \n",
    "#         return dicom_paths\n",
    "    \n",
    "#     def _process_dicom_files(self, dicom_files):\n",
    "#         images = []\n",
    "#         labels = []\n",
    "\n",
    "#         for _, row in self.medical_scan_data.iterrows():\n",
    "#             image_list = row['images']\n",
    "#             if all(os.path.basename(f) in image_list for f in dicom_files) and len(image_list) == len(dicom_files):\n",
    "#                 labels = row['labels']\n",
    "#                 if labels:\n",
    "#                     labels = torch.tensor(labels, dtype=torch.float32)\n",
    "#                 break\n",
    "\n",
    "#         with zipfile.ZipFile(self.zip_file_path, 'r') as zip_ref:\n",
    "#             for dicom_file in dicom_files:\n",
    "#                 with zip_ref.open(dicom_file) as file:\n",
    "#                     dicom = pydicom.dcmread(file)\n",
    "#                     img = self._preprocess_slice(dicom)\n",
    "#                     images.append(torch.from_numpy(img).float())\n",
    "\n",
    "#         return torch.stack(images), labels\n",
    "    \n",
    "#     def _preprocess_slice(self, dicom):\n",
    "#         bsb_img = self._bsb_window(dicom)\n",
    "#         return bsb_img.astype(np.float16)\n",
    "\n",
    "#     def _pad_data(self, images, labels, patient_scan_label):\n",
    "#         if images.shape[0] > self.max_slices:\n",
    "#             # Cut out the last images\n",
    "#             images = images[:self.max_slices]\n",
    "#             if isinstance(labels, torch.Tensor):\n",
    "#                 labels = labels[:self.max_slices]\n",
    "#             else:\n",
    "#                 labels = labels[:self.max_slices]\n",
    "#         elif images.shape[0] < self.max_slices:\n",
    "#             padding = torch.zeros((self.max_slices - images.shape[0], self.channels, self.height, self.width))\n",
    "#             images = torch.cat((images, padding), dim=0)\n",
    "    \n",
    "#             if isinstance(labels, torch.Tensor):\n",
    "#                 label_padding = torch.zeros(self.max_slices - labels.shape[0])\n",
    "#                 labels = torch.cat((labels, label_padding))\n",
    "#             else:\n",
    "#                 label_padding = torch.zeros(self.max_slices - len(labels))\n",
    "#                 labels = torch.cat((torch.tensor(labels), label_padding))\n",
    "        \n",
    "#         return images, labels, float(patient_scan_label)\n",
    "    \n",
    "#     def _correct_dcm(self, dcm):\n",
    "#         x = dcm.pixel_array + 1000\n",
    "#         px_mode = 4096\n",
    "#         x[x >= px_mode] -= px_mode\n",
    "#         dcm.PixelData = x.tobytes()\n",
    "#         dcm.RescaleIntercept = -1000\n",
    "\n",
    "#     def _window_image(self, dcm, window_center, window_width):\n",
    "#         if (dcm.BitsStored == 12) and (dcm.PixelRepresentation == 0) and (int(dcm.RescaleIntercept) > -100):\n",
    "#             self._correct_dcm(dcm)\n",
    "\n",
    "#         img = dcm.pixel_array * dcm.RescaleSlope + dcm.RescaleIntercept\n",
    "#         img_min = window_center - window_width // 2\n",
    "#         img_max = window_center + window_width // 2\n",
    "#         img = np.clip(img, img_min, img_max)\n",
    "\n",
    "#         img_resized = cv2.resize(img, (self.height, self.width), interpolation=cv2.INTER_LINEAR)\n",
    "       \n",
    "#         return img_resized\n",
    "\n",
    "#     def _bsb_window(self, dcm):\n",
    "#         brain_img = self._window_image(dcm, 40, 80)\n",
    "#         subdural_img = self._window_image(dcm, 80, 200)\n",
    "#         soft_img = self._window_image(dcm, 40, 380)\n",
    "\n",
    "#         brain_img_normalized = (brain_img - 0) / 80\n",
    "#         subdural_img_normalized = (subdural_img - (-20)) / 200\n",
    "#         soft_img_normalized = (soft_img - (-150)) / 380\n",
    "\n",
    "#         bsb_img = np.stack([brain_img_normalized, subdural_img_normalized, soft_img_normalized], axis=0)\n",
    "#         return bsb_img\n",
    "\n",
    "# # Usage\n",
    "# dataset = DatasetGenerator(\n",
    "#     zip_file_path=ZIP_FILE_PATH,\n",
    "#     medical_scan_data=medical_scan_data,\n",
    "#     max_slices=MAX_SLICES,\n",
    "#     height=HEIGHT,\n",
    "#     width=WIDTH,\n",
    "# )"
   ]
  },
  {
   "cell_type": "markdown",
   "id": "d30bc97f",
   "metadata": {
    "papermill": {
     "duration": 0.009255,
     "end_time": "2024-10-17T18:43:08.060768",
     "exception": false,
     "start_time": "2024-10-17T18:43:08.051513",
     "status": "completed"
    },
    "tags": []
   },
   "source": [
    "# Kaggle dataset gen."
   ]
  },
  {
   "cell_type": "code",
   "execution_count": 8,
   "id": "26ca3e5d",
   "metadata": {
    "ExecuteTime": {
     "end_time": "2024-10-15T15:07:50.806044Z",
     "start_time": "2024-10-15T15:07:50.800294Z"
    },
    "execution": {
     "iopub.execute_input": "2024-10-17T18:43:08.081335Z",
     "iopub.status.busy": "2024-10-17T18:43:08.080659Z",
     "iopub.status.idle": "2024-10-17T18:43:22.715902Z",
     "shell.execute_reply": "2024-10-17T18:43:22.714929Z"
    },
    "papermill": {
     "duration": 14.648195,
     "end_time": "2024-10-17T18:43:22.718364",
     "exception": false,
     "start_time": "2024-10-17T18:43:08.070169",
     "status": "completed"
    },
    "tags": []
   },
   "outputs": [],
   "source": [
    "class DatasetGenerator(Dataset):\n",
    "    def __init__(self, dicom_dir, medical_scan_data, max_slices, height, width):\n",
    "        self.dicom_dir = dicom_dir\n",
    "        self.medical_scan_data = self._parse_medical_scan_data(medical_scan_data)\n",
    "        self.max_slices = max_slices\n",
    "        self.height = height\n",
    "        self.width = width\n",
    "        self.channels = 3\n",
    "        self.dicom_paths = self._get_dicom_paths()\n",
    "        self.transform = transforms.Compose([\n",
    "            transforms.Resize((self.height, self.width))\n",
    "        ])\n",
    "\n",
    "    def __len__(self):\n",
    "        return sum(len(dicom_files) for dicom_files, _ in self.dicom_paths)\n",
    "\n",
    "    def __getitem__(self, idx):\n",
    "        # Find the correct DICOM files and their corresponding labels\n",
    "        dicom_files, row = self._get_dicom_file_and_label(idx)\n",
    "        images, labels = self._process_dicom_files(dicom_files, row)\n",
    "        \n",
    "        return images, labels  # Now images are already in the desired shape\n",
    "\n",
    "    def _parse_medical_scan_data(self, medical_scan_data):\n",
    "        medical_scan_data['images'] = medical_scan_data['images'].apply(lambda x: eval(x) if isinstance(x, str) else x)\n",
    "        medical_scan_data['labels'] = medical_scan_data['labels'].apply(lambda x: eval(x) if isinstance(x, str) else x)\n",
    "        return medical_scan_data\n",
    "\n",
    "    def _get_dicom_paths(self):\n",
    "        dicom_paths = []\n",
    "        \n",
    "        for _, row in self.medical_scan_data.iterrows():\n",
    "            patient_id = row['patient_id'].replace(\"ID_\", \"\")\n",
    "            study_instance_uid = row['study_instance_uid'].replace(\"ID_\", \"\")\n",
    "            dicom_dir_path = os.path.join(self.dicom_dir, f\"{patient_id}_{study_instance_uid}\")\n",
    "            \n",
    "            if os.path.exists(dicom_dir_path):\n",
    "                dicom_files = [os.path.join(dicom_dir_path, f) for f in os.listdir(dicom_dir_path) if f.endswith(\".dcm\")]\n",
    "                if dicom_files:\n",
    "                    dicom_paths.append((dicom_files, row))\n",
    "                else:\n",
    "                    print(f\"No DICOM files found for {dicom_dir_path}.\")\n",
    "            else:\n",
    "                print(f\"DICOM directory does not exist: {dicom_dir_path}\")\n",
    "        \n",
    "        return dicom_paths\n",
    "\n",
    "    def _get_dicom_file_and_label(self, idx):\n",
    "        current_idx = 0\n",
    "        \n",
    "        for dicom_files, row in self.dicom_paths:\n",
    "            num_files = len(dicom_files)\n",
    "            if current_idx + num_files > idx:\n",
    "                return dicom_files[idx - current_idx], row  # Return the specific file and corresponding row data\n",
    "            current_idx += num_files\n",
    "        \n",
    "        raise IndexError(\"Index out of bounds.\")\n",
    "\n",
    "    def _process_dicom_files(self, dicom_file, row):\n",
    "        label_list = row['labels']\n",
    "        \n",
    "        # Read the DICOM file and preprocess it\n",
    "        dicom = pydicom.dcmread(dicom_file)\n",
    "        img = self._preprocess_slice(dicom)\n",
    "\n",
    "        # Create a tensor directly from img assuming it's shaped (channels, height, width)\n",
    "        images = torch.from_numpy(img).float()\n",
    "\n",
    "        # Convert labels to tensor (assuming single label per image)\n",
    "        labels = torch.tensor(label_list[0], dtype=torch.float32)  # Adjust as necessary for your data structure\n",
    "        \n",
    "        return images, labels\n",
    "\n",
    "    def _preprocess_slice(self, dicom):\n",
    "        bsb_img = self._bsb_window(dicom)\n",
    "        return bsb_img.astype(np.float16)\n",
    "\n",
    "    def _bsb_window(self, dcm):\n",
    "        brain_img = self._window_image(dcm, 40, 80)\n",
    "        subdural_img = self._window_image(dcm, 80, 200)\n",
    "        soft_img = self._window_image(dcm, 40, 380)\n",
    "\n",
    "        brain_img_normalized = (brain_img - 0) / 80\n",
    "        subdural_img_normalized = (subdural_img - (-20)) / 200\n",
    "        soft_img_normalized = (soft_img - (-150)) / 380\n",
    "\n",
    "        bsb_img = np.stack([brain_img_normalized,\n",
    "                            subdural_img_normalized,\n",
    "                            soft_img_normalized], axis=0)  # Shape (3, height, width)\n",
    "        \n",
    "        return bsb_img\n",
    "\n",
    "    def _window_image(self, dcm, window_center, window_width):\n",
    "        img = dcm.pixel_array * dcm.RescaleSlope + dcm.RescaleIntercept\n",
    "        img_min = window_center - window_width // 2\n",
    "        img_max = window_center + window_width // 2\n",
    "        img = np.clip(img, img_min, img_max)\n",
    "\n",
    "        img_resized = cv2.resize(img, (self.height, self.width), interpolation=cv2.INTER_LINEAR)\n",
    "\n",
    "        return img_resized\n",
    "\n",
    "# Usage in Kaggle environment\n",
    "dataset = DatasetGenerator(\n",
    "    dicom_dir=DICOM_DIR,\n",
    "    medical_scan_data=medical_scan_data,\n",
    "    max_slices=MAX_SLICES,\n",
    "    height=HEIGHT,\n",
    "    width=WIDTH,\n",
    ")"
   ]
  },
  {
   "cell_type": "code",
   "execution_count": 9,
   "id": "0a7a4351",
   "metadata": {
    "execution": {
     "iopub.execute_input": "2024-10-17T18:43:22.739547Z",
     "iopub.status.busy": "2024-10-17T18:43:22.738728Z",
     "iopub.status.idle": "2024-10-17T18:43:22.815650Z",
     "shell.execute_reply": "2024-10-17T18:43:22.814623Z"
    },
    "papermill": {
     "duration": 0.089386,
     "end_time": "2024-10-17T18:43:22.817694",
     "exception": false,
     "start_time": "2024-10-17T18:43:22.728308",
     "status": "completed"
    },
    "tags": []
   },
   "outputs": [
    {
     "name": "stdout",
     "output_type": "stream",
     "text": [
      "torch.Size([3, 512, 512])\n"
     ]
    }
   ],
   "source": [
    "images, labels = dataset[34496]\n",
    "\n",
    "print(images.shape)"
   ]
  },
  {
   "cell_type": "code",
   "execution_count": 10,
   "id": "00a23aeb",
   "metadata": {
    "execution": {
     "iopub.execute_input": "2024-10-17T18:43:22.839071Z",
     "iopub.status.busy": "2024-10-17T18:43:22.838319Z",
     "iopub.status.idle": "2024-10-17T18:43:22.843769Z",
     "shell.execute_reply": "2024-10-17T18:43:22.842804Z"
    },
    "papermill": {
     "duration": 0.018291,
     "end_time": "2024-10-17T18:43:22.845926",
     "exception": false,
     "start_time": "2024-10-17T18:43:22.827635",
     "status": "completed"
    },
    "tags": []
   },
   "outputs": [
    {
     "name": "stdout",
     "output_type": "stream",
     "text": [
      "34497\n"
     ]
    }
   ],
   "source": [
    "print(len(dataset))"
   ]
  },
  {
   "cell_type": "code",
   "execution_count": 11,
   "id": "9a8723f0",
   "metadata": {
    "execution": {
     "iopub.execute_input": "2024-10-17T18:43:22.866882Z",
     "iopub.status.busy": "2024-10-17T18:43:22.866580Z",
     "iopub.status.idle": "2024-10-17T18:43:23.228282Z",
     "shell.execute_reply": "2024-10-17T18:43:23.227374Z"
    },
    "papermill": {
     "duration": 0.374583,
     "end_time": "2024-10-17T18:43:23.230237",
     "exception": false,
     "start_time": "2024-10-17T18:43:22.855654",
     "status": "completed"
    },
    "tags": []
   },
   "outputs": [
    {
     "data": {
      "image/png": "[encoded data removed]",
      "text/plain": [
       "<Figure size 1000x600 with 1 Axes>"
      ]
     },
     "metadata": {},
     "output_type": "display_data"
    }
   ],
   "source": [
    "# Extract and flatten labels\n",
    "labels = medical_scan_data['labels'].explode()\n",
    "\n",
    "# Count frequencies\n",
    "label_counts = labels.value_counts()\n",
    "\n",
    "# Plotting\n",
    "plt.figure(figsize=(10, 6))\n",
    "label_counts.plot(kind='bar')\n",
    "plt.title('Label Distribution in Dataset')\n",
    "plt.xlabel('Labels')\n",
    "plt.ylabel('Frequency')\n",
    "plt.xticks(rotation=45)\n",
    "plt.tight_layout()\n",
    "plt.show()"
   ]
  },
  {
   "cell_type": "markdown",
   "id": "c2a9b0c5",
   "metadata": {
    "papermill": {
     "duration": 0.00981,
     "end_time": "2024-10-17T18:43:23.250307",
     "exception": false,
     "start_time": "2024-10-17T18:43:23.240497",
     "status": "completed"
    },
    "tags": []
   },
   "source": [
    "# Dataloader"
   ]
  },
  {
   "cell_type": "code",
   "execution_count": 12,
   "id": "4f1fb7c2",
   "metadata": {
    "ExecuteTime": {
     "end_time": "2024-10-15T15:07:51.439856Z",
     "start_time": "2024-10-15T15:07:51.432637Z"
    },
    "execution": {
     "iopub.execute_input": "2024-10-17T18:43:23.272030Z",
     "iopub.status.busy": "2024-10-17T18:43:23.271499Z",
     "iopub.status.idle": "2024-10-17T18:43:23.283296Z",
     "shell.execute_reply": "2024-10-17T18:43:23.282451Z"
    },
    "papermill": {
     "duration": 0.024808,
     "end_time": "2024-10-17T18:43:23.285126",
     "exception": false,
     "start_time": "2024-10-17T18:43:23.260318",
     "status": "completed"
    },
    "tags": []
   },
   "outputs": [],
   "source": [
    "class DataloaderManager:\n",
    "    def __init__(self, dataset, batch_size, val_size, test_size, num_workers=4):\n",
    "        self.dataset = dataset\n",
    "        self.batch_size = batch_size\n",
    "        self.val_size = val_size\n",
    "        self.test_size = test_size\n",
    "        self.num_workers = num_workers\n",
    "        self.train_loader = None\n",
    "        self.validate_loader = None\n",
    "        self.test_loader = None\n",
    "        self._create_loaders()\n",
    "        \n",
    "        # Print lengths after loaders are created\n",
    "        self.print_lengths()\n",
    "\n",
    "    def print_lengths(self):\n",
    "        print(f\"Length of training dataset: {len(self.train_loader.dataset)}\")\n",
    "        print(f\"Length of validation dataset: {len(self.validate_loader.dataset)}\")\n",
    "        print(f\"Length of testing dataset: {len(self.test_loader.dataset)}\")\n",
    "\n",
    "    def _create_loaders(self):\n",
    "        # Get all labels from the dataset\n",
    "        labels = [label for _, row in self.dataset.dicom_paths for label in row['labels']]\n",
    "\n",
    "        print(f\"Length of labels: {len(labels)}\")\n",
    "        \n",
    "        # Calculate sizes based on proportions\n",
    "        total_size = len(labels)\n",
    "        test_size_count = int(self.test_size * total_size)\n",
    "        val_size_count = int(self.val_size * total_size)\n",
    "        train_size_count = total_size - test_size_count - val_size_count\n",
    "\n",
    "        # Split into train+val and test sets first\n",
    "        train_val_indices, test_indices = train_test_split(\n",
    "            np.arange(total_size),\n",
    "            test_size=test_size_count,\n",
    "            stratify=labels,\n",
    "            random_state=42\n",
    "        )\n",
    "\n",
    "        # Now split the remaining data into train and validation sets\n",
    "        train_indices, val_indices = train_test_split(\n",
    "            train_val_indices,\n",
    "            test_size=val_size_count / (train_size_count + val_size_count),\n",
    "            stratify=np.array(labels)[train_val_indices],\n",
    "            random_state=42\n",
    "        )\n",
    "\n",
    "        # Create datasets from selected indices using Subset\n",
    "        train_dataset = Subset(self.dataset, train_indices)\n",
    "        val_dataset = Subset(self.dataset, val_indices)\n",
    "        test_dataset = Subset(self.dataset, test_indices)\n",
    "\n",
    "        # Create DataLoaders for each set\n",
    "        self.train_loader = DataLoader(train_dataset, batch_size=self.batch_size, num_workers=self.num_workers, shuffle=True)\n",
    "        self.validate_loader = DataLoader(val_dataset, batch_size=self.batch_size, num_workers=self.num_workers)\n",
    "        self.test_loader = DataLoader(test_dataset, batch_size=self.batch_size, num_workers=self.num_workers)"
   ]
  },
  {
   "cell_type": "code",
   "execution_count": 13,
   "id": "15cb9708",
   "metadata": {
    "ExecuteTime": {
     "end_time": "2024-10-15T15:07:51.510263Z",
     "start_time": "2024-10-15T15:07:51.498564Z"
    },
    "execution": {
     "iopub.execute_input": "2024-10-17T18:43:23.306565Z",
     "iopub.status.busy": "2024-10-17T18:43:23.306044Z",
     "iopub.status.idle": "2024-10-17T18:43:23.348484Z",
     "shell.execute_reply": "2024-10-17T18:43:23.347590Z"
    },
    "papermill": {
     "duration": 0.055421,
     "end_time": "2024-10-17T18:43:23.350477",
     "exception": false,
     "start_time": "2024-10-17T18:43:23.295056",
     "status": "completed"
    },
    "tags": []
   },
   "outputs": [
    {
     "name": "stdout",
     "output_type": "stream",
     "text": [
      "Length of labels: 34497\n",
      "Length of training dataset: 24149\n",
      "Length of validation dataset: 5174\n",
      "Length of testing dataset: 5174\n"
     ]
    }
   ],
   "source": [
    "dataloader_manager = DataloaderManager(dataset, batch_size=BATCH_PATIENTS, val_size=VAL_SIZE, test_size=TEST_SIZE)"
   ]
  },
  {
   "cell_type": "markdown",
   "id": "f2a50b8c",
   "metadata": {
    "papermill": {
     "duration": 0.009801,
     "end_time": "2024-10-17T18:43:23.370310",
     "exception": false,
     "start_time": "2024-10-17T18:43:23.360509",
     "status": "completed"
    },
    "tags": []
   },
   "source": [
    "# Model configurations"
   ]
  },
  {
   "cell_type": "code",
   "execution_count": 14,
   "id": "34ccba74",
   "metadata": {
    "ExecuteTime": {
     "end_time": "2024-10-15T15:07:52.586835Z",
     "start_time": "2024-10-15T15:07:51.642585Z"
    },
    "execution": {
     "iopub.execute_input": "2024-10-17T18:43:23.392147Z",
     "iopub.status.busy": "2024-10-17T18:43:23.391553Z",
     "iopub.status.idle": "2024-10-17T18:43:24.075610Z",
     "shell.execute_reply": "2024-10-17T18:43:24.074626Z"
    },
    "papermill": {
     "duration": 0.697937,
     "end_time": "2024-10-17T18:43:24.078416",
     "exception": false,
     "start_time": "2024-10-17T18:43:23.380479",
     "status": "completed"
    },
    "tags": []
   },
   "outputs": [
    {
     "name": "stderr",
     "output_type": "stream",
     "text": [
      "Downloading: \"https://download.pytorch.org/models/resnet18-f37072fd.pth\" to /root/.cache/torch/hub/checkpoints/resnet18-f37072fd.pth\n",
      "100%|██████████| 44.7M/44.7M [00:00<00:00, 215MB/s]\n"
     ]
    }
   ],
   "source": [
    "# 2. Model Definition\n",
    "class ResNet18(nn.Module):\n",
    "    def __init__(self, num_classes=1):\n",
    "        super(ResNet18, self).__init__()\n",
    "        self.resnet = models.resnet18(weights=ResNet18_Weights.DEFAULT)\n",
    "        self.resnet.fc = nn.Linear(self.resnet.fc.in_features, num_classes)\n",
    "        self.dropout = nn.Dropout(p=0.3)  # Add dropout layer\n",
    "\n",
    "    def forward(self, x):\n",
    "        batch_slices, channels, height, width = x.size()\n",
    "        return self.dropout(self.resnet(x))\n",
    "        \n",
    "device = torch.device(\"cuda\" if torch.cuda.is_available() else \"cpu\")\n",
    "model = ResNet18().to(device)"
   ]
  },
  {
   "cell_type": "code",
   "execution_count": 15,
   "id": "06bcebdc",
   "metadata": {
    "ExecuteTime": {
     "end_time": "2024-10-15T15:07:52.616483Z",
     "start_time": "2024-10-15T15:07:52.612038Z"
    },
    "execution": {
     "iopub.execute_input": "2024-10-17T18:43:24.105959Z",
     "iopub.status.busy": "2024-10-17T18:43:24.105363Z",
     "iopub.status.idle": "2024-10-17T18:43:24.111177Z",
     "shell.execute_reply": "2024-10-17T18:43:24.110264Z"
    },
    "papermill": {
     "duration": 0.020531,
     "end_time": "2024-10-17T18:43:24.113155",
     "exception": false,
     "start_time": "2024-10-17T18:43:24.092624",
     "status": "completed"
    },
    "tags": []
   },
   "outputs": [],
   "source": [
    "# 3. Loss and Optimizer\n",
    "criterion = nn.BCEWithLogitsLoss()\n",
    "optimizer = optim.Adam(model.parameters(), lr=LEARNING_RATE)\n",
    "scheduler = ReduceLROnPlateau(optimizer, mode='min', factor=0.5, patience=1)\n",
    "\n",
    "# mode: Monitors 'min' or 'max' changes in metrics.\n",
    "# factor: The multiplicative factor for reducing the learning rate. \n",
    "##  If the current learning rate is 0.01 and factor=0.5, the new learning rate will be 0.01 * 0.5 = 0.005\n",
    "# patience: Number of epochs to wait for improvement before reducing the learning rate."
   ]
  },
  {
   "cell_type": "code",
   "execution_count": 16,
   "id": "9c6a898b",
   "metadata": {
    "ExecuteTime": {
     "end_time": "2024-10-15T15:07:52.680223Z",
     "start_time": "2024-10-15T15:07:52.670633Z"
    },
    "execution": {
     "iopub.execute_input": "2024-10-17T18:43:24.137019Z",
     "iopub.status.busy": "2024-10-17T18:43:24.136304Z",
     "iopub.status.idle": "2024-10-17T18:43:24.145091Z",
     "shell.execute_reply": "2024-10-17T18:43:24.144185Z"
    },
    "papermill": {
     "duration": 0.023263,
     "end_time": "2024-10-17T18:43:24.147293",
     "exception": false,
     "start_time": "2024-10-17T18:43:24.124030",
     "status": "completed"
    },
    "tags": []
   },
   "outputs": [],
   "source": [
    "def train(model, train_loader, criterion, optimizer, scheduler, device):\n",
    "    model.train()\n",
    "\n",
    "    running_loss = 0.0\n",
    "    correct = 0\n",
    "    total = 0\n",
    "\n",
    "    for batch_idx, (image, label) in enumerate(train_loader):\n",
    "        image, label = image.to(device), label.to(device)\n",
    "\n",
    "        # Forward pass\n",
    "        optimizer.zero_grad()\n",
    "        output = model(image).squeeze()\n",
    "        label = label.reshape(-1)\n",
    "\n",
    "        loss = criterion(output, label)\n",
    "\n",
    "        # Backward pass and optimization\n",
    "        loss.backward()\n",
    "        optimizer.step()\n",
    "\n",
    "        # Track loss\n",
    "        running_loss += loss.item()\n",
    "\n",
    "        # Calculate accuracy\n",
    "        predicted_label = (output > 0.5).float()\n",
    "        total += label.size(0)\n",
    "        correct += (predicted_label == label).sum().item()\n",
    "\n",
    "    # Calculate average loss and accuracy for the epoch\n",
    "    epoch_loss = running_loss / len(train_loader)\n",
    "    accuracy = 100 * correct / total\n",
    "\n",
    "    print(f'Epoch {epoch+1}: Loss: {epoch_loss:.4f}, Accuracy: {accuracy:.4f}%')\n",
    "\n",
    "    scheduler.step(epoch_loss)\n",
    "    return epoch_loss"
   ]
  },
  {
   "cell_type": "code",
   "execution_count": 17,
   "id": "c52b14fd",
   "metadata": {
    "ExecuteTime": {
     "end_time": "2024-10-15T15:07:52.742433Z",
     "start_time": "2024-10-15T15:07:52.734550Z"
    },
    "execution": {
     "iopub.execute_input": "2024-10-17T18:43:24.171631Z",
     "iopub.status.busy": "2024-10-17T18:43:24.171279Z",
     "iopub.status.idle": "2024-10-17T18:43:24.178568Z",
     "shell.execute_reply": "2024-10-17T18:43:24.177741Z"
    },
    "papermill": {
     "duration": 0.020524,
     "end_time": "2024-10-17T18:43:24.180346",
     "exception": false,
     "start_time": "2024-10-17T18:43:24.159822",
     "status": "completed"
    },
    "tags": []
   },
   "outputs": [],
   "source": [
    "def validate(model, validate_loader, criterion, device):\n",
    "    model.eval()\n",
    "    running_loss = 0.0\n",
    "    correct = 0\n",
    "    total = 0\n",
    "    \n",
    "    with torch.no_grad():\n",
    "        for batch_idx, (image, label) in enumerate(validate_loader):\n",
    "            image, label = image.to(device), label.to(device)\n",
    "            \n",
    "            # Forward pass\n",
    "            output = model(image).squeeze()\n",
    "            label = label.reshape(-1)\n",
    "            \n",
    "            loss = criterion(output, label)\n",
    "            running_loss += loss.item()\n",
    "            \n",
    "            # Calculate accuracy\n",
    "            predicted_label = (output > 0.5).float()\n",
    "            total += label.size(0)\n",
    "            correct += (predicted_label == label).sum().item()\n",
    "    \n",
    "    # Calculate average loss and accuracy for validation\n",
    "    val_loss = running_loss / len(validate_loader)\n",
    "    accuracy = 100 * correct / total\n",
    "    \n",
    "    print(f'Validation Loss: {val_loss:.4f}, Validation Accuracy: {accuracy:.4f}%')\n",
    "    \n",
    "    return val_loss"
   ]
  },
  {
   "cell_type": "code",
   "execution_count": 18,
   "id": "15622766",
   "metadata": {
    "ExecuteTime": {
     "end_time": "2024-10-15T15:07:52.801793Z",
     "start_time": "2024-10-15T15:07:52.796322Z"
    },
    "execution": {
     "iopub.execute_input": "2024-10-17T18:43:24.204213Z",
     "iopub.status.busy": "2024-10-17T18:43:24.203546Z",
     "iopub.status.idle": "2024-10-17T18:43:24.208907Z",
     "shell.execute_reply": "2024-10-17T18:43:24.208073Z"
    },
    "papermill": {
     "duration": 0.018734,
     "end_time": "2024-10-17T18:43:24.210719",
     "exception": false,
     "start_time": "2024-10-17T18:43:24.191985",
     "status": "completed"
    },
    "tags": []
   },
   "outputs": [],
   "source": [
    "def save_checkpoint(model, optimizer, scheduler, epoch, loss):\n",
    "    checkpoint_path = os.path.join(CHECKPOINTS_DIR, f'checkpoint_epoch_{epoch+1}.pth')    \n",
    "    torch.save({\n",
    "        'epoch': epoch,\n",
    "        'model_state_dict': model.state_dict(),\n",
    "        'optimizer_state_dict': optimizer.state_dict(),\n",
    "        'scheduler_state_dict': scheduler.state_dict(),\n",
    "        'loss': loss\n",
    "    }, checkpoint_path)\n",
    "    print(f\"Checkpoint saved: {checkpoint_path}\")"
   ]
  },
  {
   "cell_type": "code",
   "execution_count": 19,
   "id": "4cef0252",
   "metadata": {
    "ExecuteTime": {
     "end_time": "2024-10-15T15:07:53.165742Z",
     "start_time": "2024-10-15T15:07:53.159773Z"
    },
    "execution": {
     "iopub.execute_input": "2024-10-17T18:43:24.233611Z",
     "iopub.status.busy": "2024-10-17T18:43:24.233124Z",
     "iopub.status.idle": "2024-10-17T18:43:24.242792Z",
     "shell.execute_reply": "2024-10-17T18:43:24.241854Z"
    },
    "papermill": {
     "duration": 0.023042,
     "end_time": "2024-10-17T18:43:24.244815",
     "exception": false,
     "start_time": "2024-10-17T18:43:24.221773",
     "status": "completed"
    },
    "tags": []
   },
   "outputs": [],
   "source": [
    "def load_best_checkpoint(model, optimizer, scheduler, checkpoint_dir):\n",
    "    checkpoint_files = [f for f in os.listdir(checkpoint_dir) if f.startswith('checkpoint_epoch_') and f.endswith('.pth')]\n",
    "    if not checkpoint_files:\n",
    "        print(\"No checkpoints found.\")\n",
    "        return None, None\n",
    "\n",
    "    best_checkpoint = min(checkpoint_files, key=lambda x: float(x.split('_')[-1].split('.')[0]))\n",
    "    checkpoint_path = os.path.join(checkpoint_dir, best_checkpoint)\n",
    "    \n",
    "    try:\n",
    "        checkpoint = torch.load(checkpoint_path, map_location=torch.device(device), weights_only=True)\n",
    "    except RuntimeError as e:\n",
    "        print(f\"Error loading checkpoint: {e}\")\n",
    "        print(f\"Checkpoint file: {checkpoint_path}\")\n",
    "        print(f\"File size: {os.path.getsize(checkpoint_path)} bytes\")\n",
    "        return None, None\n",
    "\n",
    "    try:\n",
    "        model.load_state_dict(checkpoint['model_state_dict'])\n",
    "        optimizer.load_state_dict(checkpoint['optimizer_state_dict'])\n",
    "        scheduler.load_state_dict(checkpoint['scheduler_state_dict'])\n",
    "        \n",
    "        epoch = checkpoint['epoch']\n",
    "        best_val_loss = checkpoint['loss']\n",
    "        \n",
    "        print(f\"Loaded checkpoint from epoch {epoch+1} with validation loss {best_val_loss}\")\n",
    "        \n",
    "        return epoch, best_val_loss\n",
    "    except KeyError as e:\n",
    "        print(f\"Error: Checkpoint file is missing expected data: {e}\")\n",
    "        print(f\"Available keys in checkpoint: {checkpoint.keys()}\")\n",
    "        return None, None"
   ]
  },
  {
   "cell_type": "code",
   "execution_count": 20,
   "id": "8e7c4533",
   "metadata": {
    "ExecuteTime": {
     "end_time": "2024-10-15T15:07:53.235969Z",
     "start_time": "2024-10-15T15:07:53.227459Z"
    },
    "execution": {
     "iopub.execute_input": "2024-10-17T18:43:24.267046Z",
     "iopub.status.busy": "2024-10-17T18:43:24.266721Z",
     "iopub.status.idle": "2024-10-17T18:43:24.273372Z",
     "shell.execute_reply": "2024-10-17T18:43:24.272555Z"
    },
    "papermill": {
     "duration": 0.019824,
     "end_time": "2024-10-17T18:43:24.275193",
     "exception": false,
     "start_time": "2024-10-17T18:43:24.255369",
     "status": "completed"
    },
    "tags": []
   },
   "outputs": [],
   "source": [
    "def plot_roc_curve(y_true, y_scores):\n",
    "    fpr, tpr, thresholds = roc_curve(y_true, y_scores)\n",
    "    roc_auc = auc(fpr, tpr)\n",
    "    plt.figure()\n",
    "    plt.plot(fpr, tpr, color='darkorange', lw=2, label='ROC curve (area = %0.2f)' % roc_auc)\n",
    "    plt.plot([0, 1], [0, 1], color='navy', lw=2, linestyle='--')\n",
    "    plt.xlim([0.0, 1.0])\n",
    "    plt.ylim([0.0, 1.05])\n",
    "    plt.xlabel('False Positive Rate')\n",
    "    plt.ylabel('True Positive Rate')\n",
    "    plt.title('Receiver Operating Characteristic')\n",
    "    plt.legend(loc='lower right')\n",
    "    plt.savefig(os.path.join(FIGURES_DIR, 'roc_curve.png'))\n",
    "    plt.show()\n",
    "    plt.close()"
   ]
  },
  {
   "cell_type": "code",
   "execution_count": 21,
   "id": "b9afc8c9",
   "metadata": {
    "ExecuteTime": {
     "end_time": "2024-10-15T15:07:53.598335Z",
     "start_time": "2024-10-15T15:07:53.594214Z"
    },
    "execution": {
     "iopub.execute_input": "2024-10-17T18:43:24.297748Z",
     "iopub.status.busy": "2024-10-17T18:43:24.297057Z",
     "iopub.status.idle": "2024-10-17T18:43:24.301983Z",
     "shell.execute_reply": "2024-10-17T18:43:24.301307Z"
    },
    "papermill": {
     "duration": 0.01807,
     "end_time": "2024-10-17T18:43:24.303887",
     "exception": false,
     "start_time": "2024-10-17T18:43:24.285817",
     "status": "completed"
    },
    "tags": []
   },
   "outputs": [],
   "source": [
    "def plot_confusion_matrix(y_true, y_pred):\n",
    "    cm = confusion_matrix(y_true, y_pred)\n",
    "    disp = ConfusionMatrixDisplay(confusion_matrix=cm)\n",
    "    disp.plot(cmap=plt.cm.Blues)\n",
    "    plt.title('Confusion Matrix')\n",
    "    plt.savefig(os.path.join(FIGURES_DIR, 'confusion_matrix.png'))\n",
    "    plt.show()\n",
    "    plt.close()"
   ]
  },
  {
   "cell_type": "code",
   "execution_count": 22,
   "id": "4c3291b1",
   "metadata": {
    "ExecuteTime": {
     "end_time": "2024-10-15T15:07:53.657149Z",
     "start_time": "2024-10-15T15:07:53.651664Z"
    },
    "execution": {
     "iopub.execute_input": "2024-10-17T18:43:24.326238Z",
     "iopub.status.busy": "2024-10-17T18:43:24.325775Z",
     "iopub.status.idle": "2024-10-17T18:43:24.330416Z",
     "shell.execute_reply": "2024-10-17T18:43:24.329601Z"
    },
    "papermill": {
     "duration": 0.017919,
     "end_time": "2024-10-17T18:43:24.332405",
     "exception": false,
     "start_time": "2024-10-17T18:43:24.314486",
     "status": "completed"
    },
    "tags": []
   },
   "outputs": [],
   "source": [
    "def save_final_model(model, optimizer, scheduler, final_model_path):\n",
    "    torch.save({\n",
    "        'model_state_dict': model.state_dict(),\n",
    "        'optimizer_state_dict': optimizer.state_dict(),\n",
    "        'scheduler_state_dict': scheduler.state_dict(),\n",
    "    }, final_model_path)\n",
    "    print(f\"Final model saved to {final_model_path}\")"
   ]
  },
  {
   "cell_type": "code",
   "execution_count": 23,
   "id": "69ea1b75",
   "metadata": {
    "ExecuteTime": {
     "end_time": "2024-10-15T15:07:53.997995Z",
     "start_time": "2024-10-15T15:07:53.983343Z"
    },
    "execution": {
     "iopub.execute_input": "2024-10-17T18:43:24.355088Z",
     "iopub.status.busy": "2024-10-17T18:43:24.354345Z",
     "iopub.status.idle": "2024-10-17T18:43:24.363390Z",
     "shell.execute_reply": "2024-10-17T18:43:24.362738Z"
    },
    "papermill": {
     "duration": 0.022234,
     "end_time": "2024-10-17T18:43:24.365215",
     "exception": false,
     "start_time": "2024-10-17T18:43:24.342981",
     "status": "completed"
    },
    "tags": []
   },
   "outputs": [],
   "source": [
    "def evaluate(model, test_loader, device, criterion):\n",
    "    model.to(device)\n",
    "    model.eval()\n",
    "    correct = 0\n",
    "    total = 0\n",
    "    all_labels = []\n",
    "    all_predictions = []\n",
    "    all_scores = []\n",
    "    test_loss = 0\n",
    "\n",
    "    with torch.no_grad():\n",
    "        for image, label in test_loader:\n",
    "            image, label = image.to(device), label.to(device)\n",
    "            \n",
    "            output = model(image).squeeze()\n",
    "            label = label.reshape(-1)\n",
    "            \n",
    "            loss = criterion(output, label)\n",
    "            test_loss += loss.item()\n",
    "            \n",
    "            predicted_label = (output > 0.5).float()\n",
    "            total += label.size(0)\n",
    "            correct += (predicted_label == label).sum().item()\n",
    "            \n",
    "            all_labels.extend(label.cpu().numpy())\n",
    "            all_predictions.extend(predicted_label.cpu().numpy())\n",
    "            all_scores.extend(output.cpu().numpy())\n",
    "\n",
    "    accuracy = 100 * correct / total\n",
    "    avg_loss = test_loss / len(test_loader)\n",
    "    print(f'Test Accuracy: {accuracy:.4f}%')\n",
    "    print(f'Test Loss: {avg_loss:.4f}')\n",
    "    \n",
    "    plot_roc_curve(np.array(all_labels), np.array(all_scores))\n",
    "    plot_confusion_matrix(np.array(all_labels), np.array(all_predictions))\n",
    "\n",
    "    return accuracy, avg_loss"
   ]
  },
  {
   "cell_type": "markdown",
   "id": "57086b2b",
   "metadata": {
    "papermill": {
     "duration": 0.010502,
     "end_time": "2024-10-17T18:43:24.386255",
     "exception": false,
     "start_time": "2024-10-17T18:43:24.375753",
     "status": "completed"
    },
    "tags": []
   },
   "source": [
    "# Main"
   ]
  },
  {
   "cell_type": "code",
   "execution_count": 24,
   "id": "27daa9a6",
   "metadata": {
    "execution": {
     "iopub.execute_input": "2024-10-17T18:43:24.409062Z",
     "iopub.status.busy": "2024-10-17T18:43:24.408782Z",
     "iopub.status.idle": "2024-10-17T19:26:49.441160Z",
     "shell.execute_reply": "2024-10-17T19:26:49.439774Z"
    },
    "papermill": {
     "duration": 2605.058868,
     "end_time": "2024-10-17T19:26:49.455635",
     "exception": false,
     "start_time": "2024-10-17T18:43:24.396767",
     "status": "completed"
    },
    "tags": []
   },
   "outputs": [
    {
     "name": "stdout",
     "output_type": "stream",
     "text": [
      "No checkpoints found.\n",
      "Epoch 1: Loss: 0.2507, Accuracy: 98.6211%\n",
      "Validation Loss: 0.0686, Validation Accuracy: 99.2462%\n",
      "Checkpoint saved: /kaggle/working/RSNA-ResNet18/checkpoints/checkpoint_epoch_1.pth\n",
      "Epoch 2: Loss: 0.2308, Accuracy: 98.9855%\n",
      "Validation Loss: 0.7627, Validation Accuracy: 74.9517%\n",
      "Epoch 3: Loss: 0.2263, Accuracy: 99.0973%\n",
      "Validation Loss: 0.0292, Validation Accuracy: 99.4588%\n",
      "Checkpoint saved: /kaggle/working/RSNA-ResNet18/checkpoints/checkpoint_epoch_3.pth\n",
      "Epoch 4: Loss: 0.2210, Accuracy: 99.2588%\n",
      "Validation Loss: 0.0237, Validation Accuracy: 99.4202%\n",
      "Checkpoint saved: /kaggle/working/RSNA-ResNet18/checkpoints/checkpoint_epoch_4.pth\n",
      "Epoch 5: Loss: 0.2185, Accuracy: 99.4410%\n",
      "Validation Loss: 0.0184, Validation Accuracy: 99.5168%\n",
      "Checkpoint saved: /kaggle/working/RSNA-ResNet18/checkpoints/checkpoint_epoch_5.pth\n",
      "Epoch 6: Loss: 0.2157, Accuracy: 99.4327%\n",
      "Validation Loss: 0.0155, Validation Accuracy: 99.6714%\n",
      "Checkpoint saved: /kaggle/working/RSNA-ResNet18/checkpoints/checkpoint_epoch_6.pth\n",
      "Epoch 7: Loss: 0.2146, Accuracy: 99.5818%\n",
      "Validation Loss: 0.0111, Validation Accuracy: 99.7681%\n",
      "Checkpoint saved: /kaggle/working/RSNA-ResNet18/checkpoints/checkpoint_epoch_7.pth\n",
      "Epoch 8: Loss: 0.2128, Accuracy: 99.5072%\n",
      "Validation Loss: 0.0107, Validation Accuracy: 99.7681%\n",
      "Checkpoint saved: /kaggle/working/RSNA-ResNet18/checkpoints/checkpoint_epoch_8.pth\n",
      "Epoch 9: Loss: 0.2138, Accuracy: 99.5031%\n",
      "Validation Loss: 0.0190, Validation Accuracy: 99.5361%\n",
      "Epoch 10: Loss: 0.2128, Accuracy: 99.6232%\n",
      "Validation Loss: 0.0052, Validation Accuracy: 99.8840%\n",
      "Checkpoint saved: /kaggle/working/RSNA-ResNet18/checkpoints/checkpoint_epoch_10.pth\n"
     ]
    }
   ],
   "source": [
    "loaded_epoch, loaded_best_val_loss = load_best_checkpoint(model, optimizer, scheduler, CHECKPOINTS_DIR)\n",
    "\n",
    "if loaded_epoch is not None:\n",
    "    start_epoch = loaded_epoch + 1\n",
    "    best_val_loss = loaded_best_val_loss\n",
    "else:\n",
    "    start_epoch = 0\n",
    "    best_val_loss = float('inf')\n",
    "\n",
    "for epoch in range(start_epoch, NUM_EPOCHS):\n",
    "    train_loader = dataloader_manager.train_loader\n",
    "    validate_loader = dataloader_manager.validate_loader\n",
    "        \n",
    "    train_loss = train(model, train_loader, criterion, optimizer, scheduler, device)\n",
    "    val_loss = validate(model, validate_loader, criterion, device)\n",
    "    \n",
    "    if val_loss < best_val_loss:\n",
    "        save_checkpoint(model, optimizer, scheduler, epoch, val_loss)\n",
    "        best_val_loss = val_loss"
   ]
  },
  {
   "cell_type": "code",
   "execution_count": 25,
   "id": "5c544d55",
   "metadata": {
    "ExecuteTime": {
     "end_time": "2024-10-15T15:18:44.867379Z",
     "start_time": "2024-10-15T15:17:49.586291Z"
    },
    "execution": {
     "iopub.execute_input": "2024-10-17T19:26:49.482279Z",
     "iopub.status.busy": "2024-10-17T19:26:49.481943Z",
     "iopub.status.idle": "2024-10-17T19:27:42.136620Z",
     "shell.execute_reply": "2024-10-17T19:27:42.135435Z"
    },
    "papermill": {
     "duration": 52.670705,
     "end_time": "2024-10-17T19:27:42.138856",
     "exception": false,
     "start_time": "2024-10-17T19:26:49.468151",
     "status": "completed"
    },
    "tags": []
   },
   "outputs": [
    {
     "name": "stdout",
     "output_type": "stream",
     "text": [
      "Test Accuracy: 99.7294%\n",
      "Test Loss: 0.0083\n"
     ]
    },
    {
     "data": {
      "image/png": "[encoded data removed]",
      "text/plain": [
       "<Figure size 640x480 with 1 Axes>"
      ]
     },
     "metadata": {},
     "output_type": "display_data"
    },
    {
     "data": {
      "image/png": "[encoded data removed]",
      "text/plain": [
       "<Figure size 640x480 with 2 Axes>"
      ]
     },
     "metadata": {},
     "output_type": "display_data"
    },
    {
     "name": "stdout",
     "output_type": "stream",
     "text": [
      "Final model saved to /kaggle/working/RSNA-ResNet18/checkpoints/final_model.pth\n"
     ]
    }
   ],
   "source": [
    "test_loader = dataloader_manager.test_loader\n",
    "accuracy, test_loss = evaluate(model, test_loader, device, criterion)\n",
    "\n",
    "final_model_path = os.path.join(CHECKPOINTS_DIR, 'final_model.pth')\n",
    "save_final_model(model, optimizer, scheduler, final_model_path)"
   ]
  }
 ],
 "metadata": {
  "kaggle": {
   "accelerator": "gpu",
   "dataSources": [
    {
     "datasetId": 5854070,
     "sourceId": 9651167,
     "sourceType": "datasetVersion"
    },
    {
     "datasetId": 5705276,
     "sourceId": 9652074,
     "sourceType": "datasetVersion"
    }
   ],
   "dockerImageVersionId": 30787,
   "isGpuEnabled": true,
   "isInternetEnabled": true,
   "language": "python",
   "sourceType": "notebook"
  },
  "kernelspec": {
   "display_name": "Python 3",
   "language": "python",
   "name": "python3"
  },
  "language_info": {
   "codemirror_mode": {
    "name": "ipython",
    "version": 3
   },
   "file_extension": ".py",
   "mimetype": "text/x-python",
   "name": "python",
   "nbconvert_exporter": "python",
   "pygments_lexer": "ipython3",
   "version": "3.10.14"
  },
  "papermill": {
   "default_parameters": {},
   "duration": 2685.825389,
   "end_time": "2024-10-17T19:27:43.876769",
   "environment_variables": {},
   "exception": null,
   "input_path": "__notebook__.ipynb",
   "output_path": "__notebook__.ipynb",
   "parameters": {},
   "start_time": "2024-10-17T18:42:58.051380",
   "version": "2.6.0"
  }
 },
 "nbformat": 4,
 "nbformat_minor": 5
}
