{
 "metadata": {
  "kernelspec": {
   "language": "python",
   "display_name": "Python 3",
   "name": "python3"
  },
  "language_info": {
   "name": "python",
   "version": "3.10.14",
   "mimetype": "text/x-python",
   "codemirror_mode": {
    "name": "ipython",
    "version": 3
   },
   "pygments_lexer": "ipython3",
   "nbconvert_exporter": "python",
   "file_extension": ".py"
  },
  "kaggle": {
   "accelerator": "gpu",
   "dataSources": [
    {
     "sourceId": 9596701,
     "sourceType": "datasetVersion",
     "datasetId": 5854070
    },
    {
     "sourceId": 9546002,
     "sourceType": "datasetVersion",
     "datasetId": 5705276
    }
   ],
   "dockerImageVersionId": 30787,
   "isInternetEnabled": true,
   "language": "python",
   "sourceType": "notebook",
   "isGpuEnabled": true
  }
 },
 "nbformat_minor": 4,
 "nbformat": 4,
 "cells": [
  {
   "cell_type": "code",
   "source": [
    "import os\n",
    "import glob\n",
    "from collections import Counter\n",
    "\n",
    "import numpy as np\n",
    "import pandas as pd\n",
    "\n",
    "import matplotlib.pyplot as plt\n",
    "from skimage.transform import resize\n",
    "import cv2\n",
    "\n",
    "import pydicom\n",
    "\n",
    "import torch\n",
    "import torch.nn as nn\n",
    "import torch.optim as optim\n",
    "from torch.optim.lr_scheduler import ReduceLROnPlateau\n",
    "from torch.utils.data import Dataset, DataLoader, Subset\n",
    "\n",
    "from torchvision import datasets, transforms, models\n",
    "from torchvision.models import ResNet18_Weights\n",
    "\n",
    "import zipfile"
   ],
   "metadata": {
    "_uuid": "8f2839f25d086af736a60e9eeb907d3b93b6e0e5",
    "_cell_guid": "b1076dfc-b9ad-4769-8c92-a6c4dae69d19",
    "execution": {
     "iopub.status.busy": "2024-10-11T18:09:09.379210Z",
     "iopub.execute_input": "2024-10-11T18:09:09.379674Z",
     "iopub.status.idle": "2024-10-11T18:09:15.813031Z",
     "shell.execute_reply.started": "2024-10-11T18:09:09.379608Z",
     "shell.execute_reply": "2024-10-11T18:09:15.812227Z"
    },
    "trusted": true,
    "ExecuteTime": {
     "end_time": "2024-10-12T08:01:18.209077Z",
     "start_time": "2024-10-12T08:00:47.701535Z"
    }
   },
   "outputs": [],
   "execution_count": 1
  },
  {
   "cell_type": "code",
   "source": [
    "DATASET_NAME = 'rsna-cnn-training'\n",
    "HPC_DIR = '/media02/tdhoang01/21127112-21127734/data'\n",
    "\n",
    "ZIP_FILE_PATH = os.path.join(HPC_DIR, DATASET_NAME + '.zip')  # Path to the zip file\n",
    "\n",
    "DICOM_DIR = f'{DATASET_NAME}/'\n",
    "\n",
    "# Paths within the zip, using DATASET_NAME\n",
    "CSV_PATH = f'{DATASET_NAME}/training_20_scan_subset.csv'\n",
    "SLICE_LABEL_PATH = 'sorted_training_dataset_with_labels.csv'\n",
    "\n",
    "# Load CSVs from zip\n",
    "with zipfile.ZipFile(ZIP_FILE_PATH, 'r') as zip_ref:\n",
    "    patient_scan_labels = pd.read_csv(zip_ref.open(CSV_PATH))\n",
    "    patient_slice_labels = pd.read_csv(zip_ref.open(SLICE_LABEL_PATH))"
   ],
   "metadata": {
    "execution": {
     "iopub.status.busy": "2024-10-11T18:09:15.814689Z",
     "iopub.execute_input": "2024-10-11T18:09:15.815115Z",
     "iopub.status.idle": "2024-10-11T18:09:20.329455Z",
     "shell.execute_reply.started": "2024-10-11T18:09:15.815082Z",
     "shell.execute_reply": "2024-10-11T18:09:20.328536Z"
    },
    "trusted": true,
    "ExecuteTime": {
     "end_time": "2024-10-12T08:01:20.325150Z",
     "start_time": "2024-10-12T08:01:18.268486Z"
    }
   },
   "outputs": [],
   "execution_count": 2
  },
  {
   "cell_type": "code",
   "source": "MAX_SLICES = 60\n\nHEIGHT = 224\nWIDTH = 224\n\nBATCH_PATIENTS = 8\n\nVAL_SIZE = 0.15\nTEST_SIZE = 0.15\n\nTARGET_COLUMNS = ['any', 'epidural', 'intraparenchymal', 'intraventricular', 'subarachnoid', 'subdural']",
   "metadata": {
    "execution": {
     "iopub.status.busy": "2024-10-11T18:09:20.330629Z",
     "iopub.execute_input": "2024-10-11T18:09:20.331040Z",
     "iopub.status.idle": "2024-10-11T18:09:20.336976Z",
     "shell.execute_reply.started": "2024-10-11T18:09:20.330996Z",
     "shell.execute_reply": "2024-10-11T18:09:20.335987Z"
    },
    "trusted": true,
    "ExecuteTime": {
     "end_time": "2024-10-12T08:01:20.496062Z",
     "start_time": "2024-10-12T08:01:20.493577Z"
    }
   },
   "outputs": [],
   "execution_count": 3
  },
  {
   "cell_type": "code",
   "source": "patient_scan_labels.head(1)",
   "metadata": {
    "execution": {
     "iopub.status.busy": "2024-10-11T18:09:20.339498Z",
     "iopub.execute_input": "2024-10-11T18:09:20.339815Z",
     "iopub.status.idle": "2024-10-11T18:09:20.375537Z",
     "shell.execute_reply.started": "2024-10-11T18:09:20.339784Z",
     "shell.execute_reply": "2024-10-11T18:09:20.374624Z"
    },
    "trusted": true,
    "ExecuteTime": {
     "end_time": "2024-10-12T08:01:20.576595Z",
     "start_time": "2024-10-12T08:01:20.561897Z"
    }
   },
   "outputs": [
    {
     "data": {
      "text/plain": [
       "    patient_id study_instance_uid  any  epidural  intraparenchymal  \\\n",
       "0  ID_0002cd41      ID_66929e09d4    0         0                 0   \n",
       "\n",
       "   intraventricular  subarachnoid  subdural  \n",
       "0                 0             0         0  "
      ],
      "text/html": [
       "<div>\n",
       "<style scoped>\n",
       "    .dataframe tbody tr th:only-of-type {\n",
       "        vertical-align: middle;\n",
       "    }\n",
       "\n",
       "    .dataframe tbody tr th {\n",
       "        vertical-align: top;\n",
       "    }\n",
       "\n",
       "    .dataframe thead th {\n",
       "        text-align: right;\n",
       "    }\n",
       "</style>\n",
       "<table border=\"1\" class=\"dataframe\">\n",
       "  <thead>\n",
       "    <tr style=\"text-align: right;\">\n",
       "      <th></th>\n",
       "      <th>patient_id</th>\n",
       "      <th>study_instance_uid</th>\n",
       "      <th>any</th>\n",
       "      <th>epidural</th>\n",
       "      <th>intraparenchymal</th>\n",
       "      <th>intraventricular</th>\n",
       "      <th>subarachnoid</th>\n",
       "      <th>subdural</th>\n",
       "    </tr>\n",
       "  </thead>\n",
       "  <tbody>\n",
       "    <tr>\n",
       "      <th>0</th>\n",
       "      <td>ID_0002cd41</td>\n",
       "      <td>ID_66929e09d4</td>\n",
       "      <td>0</td>\n",
       "      <td>0</td>\n",
       "      <td>0</td>\n",
       "      <td>0</td>\n",
       "      <td>0</td>\n",
       "      <td>0</td>\n",
       "    </tr>\n",
       "  </tbody>\n",
       "</table>\n",
       "</div>"
      ]
     },
     "execution_count": 4,
     "metadata": {},
     "output_type": "execute_result"
    }
   ],
   "execution_count": 4
  },
  {
   "cell_type": "code",
   "source": "patient_slice_labels.head(1)",
   "metadata": {
    "execution": {
     "iopub.status.busy": "2024-10-11T18:09:20.377129Z",
     "iopub.execute_input": "2024-10-11T18:09:20.377456Z",
     "iopub.status.idle": "2024-10-11T18:09:20.396076Z",
     "shell.execute_reply.started": "2024-10-11T18:09:20.377421Z",
     "shell.execute_reply": "2024-10-11T18:09:20.394910Z"
    },
    "trusted": true,
    "ExecuteTime": {
     "end_time": "2024-10-12T08:01:20.681648Z",
     "start_time": "2024-10-12T08:01:20.672553Z"
    }
   },
   "outputs": [
    {
     "data": {
      "text/plain": [
       "           filename  any  epidural  intraparenchymal  intraventricular  \\\n",
       "0  ID_45785016b.dcm    0         0                 0                 0   \n",
       "\n",
       "   subarachnoid  subdural   patient_id study_instance_uid series_instance_uid  \\\n",
       "0             0         0  ID_0002cd41      ID_66929e09d4       ID_e22a5534e6   \n",
       "\n",
       "                 image_position  samples_per_pixel         pixel_spacing  \\\n",
       "0  [-125.000, -122.596, 35.968]                  1  [0.488281, 0.488281]   \n",
       "\n",
       "   pixel_representation window_center window_width  rescale_intercept  \\\n",
       "0                     1            30           80            -1024.0   \n",
       "\n",
       "   rescale_slope         ID  \n",
       "0            1.0  45785016b  "
      ],
      "text/html": [
       "<div>\n",
       "<style scoped>\n",
       "    .dataframe tbody tr th:only-of-type {\n",
       "        vertical-align: middle;\n",
       "    }\n",
       "\n",
       "    .dataframe tbody tr th {\n",
       "        vertical-align: top;\n",
       "    }\n",
       "\n",
       "    .dataframe thead th {\n",
       "        text-align: right;\n",
       "    }\n",
       "</style>\n",
       "<table border=\"1\" class=\"dataframe\">\n",
       "  <thead>\n",
       "    <tr style=\"text-align: right;\">\n",
       "      <th></th>\n",
       "      <th>filename</th>\n",
       "      <th>any</th>\n",
       "      <th>epidural</th>\n",
       "      <th>intraparenchymal</th>\n",
       "      <th>intraventricular</th>\n",
       "      <th>subarachnoid</th>\n",
       "      <th>subdural</th>\n",
       "      <th>patient_id</th>\n",
       "      <th>study_instance_uid</th>\n",
       "      <th>series_instance_uid</th>\n",
       "      <th>image_position</th>\n",
       "      <th>samples_per_pixel</th>\n",
       "      <th>pixel_spacing</th>\n",
       "      <th>pixel_representation</th>\n",
       "      <th>window_center</th>\n",
       "      <th>window_width</th>\n",
       "      <th>rescale_intercept</th>\n",
       "      <th>rescale_slope</th>\n",
       "      <th>ID</th>\n",
       "    </tr>\n",
       "  </thead>\n",
       "  <tbody>\n",
       "    <tr>\n",
       "      <th>0</th>\n",
       "      <td>ID_45785016b.dcm</td>\n",
       "      <td>0</td>\n",
       "      <td>0</td>\n",
       "      <td>0</td>\n",
       "      <td>0</td>\n",
       "      <td>0</td>\n",
       "      <td>0</td>\n",
       "      <td>ID_0002cd41</td>\n",
       "      <td>ID_66929e09d4</td>\n",
       "      <td>ID_e22a5534e6</td>\n",
       "      <td>[-125.000, -122.596, 35.968]</td>\n",
       "      <td>1</td>\n",
       "      <td>[0.488281, 0.488281]</td>\n",
       "      <td>1</td>\n",
       "      <td>30</td>\n",
       "      <td>80</td>\n",
       "      <td>-1024.0</td>\n",
       "      <td>1.0</td>\n",
       "      <td>45785016b</td>\n",
       "    </tr>\n",
       "  </tbody>\n",
       "</table>\n",
       "</div>"
      ]
     },
     "execution_count": 5,
     "metadata": {},
     "output_type": "execute_result"
    }
   ],
   "execution_count": 5
  },
  {
   "cell_type": "code",
   "source": [
    "class DatasetGenerator(Dataset):\n",
    "    \"\"\"\n",
    "    A custom PyTorch Dataset for processing and preparing medical imaging DICOM data.\n",
    "\n",
    "    This class handles multi-slice medical scans (e.g., CT or MRI), processing DICOM files,\n",
    "    applying image preprocessing techniques, and preparing labels for machine learning tasks.\n",
    "\n",
    "    Features:\n",
    "    - DICOM file handling and organization\n",
    "    - Image preprocessing (resizing, windowing)\n",
    "    - Multi-slice support with padding/truncation\n",
    "    - Label processing for patient-level and slice-level data\n",
    "    - Basic data augmentation\n",
    "    - Efficient data loading\n",
    "    - Flexible target selection for classification\n",
    "\n",
    "    Args:\n",
    "        dicom_dir (str): Directory containing the DICOM files.\n",
    "        patient_scan_labels (pd.DataFrame): DataFrame with patient-level scan labels.\n",
    "        patient_slice_labels (pd.DataFrame): DataFrame with slice-level labels.\n",
    "        max_slices (int): Maximum number of slices to consider per scan.\n",
    "        height (int): Desired height of the processed images.\n",
    "        width (int): Desired width of the processed images.\n",
    "        target_columns (list): List of column names to use as classification targets.\n",
    "\n",
    "    Attributes:\n",
    "        dicom_dir (str): Directory containing the DICOM files.\n",
    "        patient_scan_labels (pd.DataFrame): DataFrame with patient-level scan labels.\n",
    "        patient_slice_labels (pd.DataFrame): DataFrame with slice-level labels.\n",
    "        max_slices (int): Maximum number of slices per scan.\n",
    "        channels (int): Number of channels in the processed images (default: 3).\n",
    "        height (int): Height of the processed images.\n",
    "        width (int): Width of the processed images.\n",
    "        target_columns (list): List of target column names for classification.\n",
    "        dicom_paths (list): List of tuples containing DICOM file paths and corresponding rows.\n",
    "        transform (torchvision.transforms.Compose): Image transformation pipeline.\n",
    "\n",
    "    Example:\n",
    "        >>> dataset = DatasetGenerator(dicom_dir='path/to/dicoms',\n",
    "        ...                            patient_scan_labels=scan_df,\n",
    "        ...                            patient_slice_labels=slice_df,\n",
    "        ...                            max_slices=100,\n",
    "        ...                            height=224,\n",
    "        ...                            width=224,\n",
    "        ...                            target_columns=['label1', 'label2'])\n",
    "        >>> image_tensor, label_tensor = dataset[0]\n",
    "    \"\"\"\n",
    "    def __init__(self, dicom_dir, patient_scan_labels, patient_slice_labels, max_slices, height, width, target_columns):\n",
    "        self.dicom_dir = dicom_dir\n",
    "        self.patient_scan_labels = patient_scan_labels\n",
    "        self.patient_slice_labels = patient_slice_labels\n",
    "        self.max_slices = max_slices\n",
    "        self.channels = 3\n",
    "        self.height = height\n",
    "        self.width = width\n",
    "        self.target_columns = target_columns\n",
    "        self.dicom_paths = self._get_dicom_paths()\n",
    "        self.transform = transforms.Compose([\n",
    "            transforms.Resize((self.height, self.width))\n",
    "        ])\n",
    "\n",
    "    # def _get_dicom_paths(self):\n",
    "    #     dicom_paths = []\n",
    "    #     for _, row in self.patient_scan_labels.iterrows():\n",
    "    #         patient_id = row['patient_id'].replace(\"ID_\", \"\")\n",
    "    #         study_instance_uid = row['study_instance_uid'].replace(\"ID_\", \"\")\n",
    "    #         dicom_dir_path = os.path.join(self.dicom_dir, f\"{patient_id}_{study_instance_uid}\")\n",
    "    #         \n",
    "    #         if os.path.exists(dicom_dir_path):\n",
    "    #             dicom_files = glob.glob(os.path.join(dicom_dir_path, \"*.dcm\"))\n",
    "    #             if dicom_files:\n",
    "    #                 dicom_paths.append((dicom_files, row))\n",
    "    #             else:\n",
    "    #                 print(f\"No DICOM files found in {dicom_dir_path}\")\n",
    "    #         else:\n",
    "    #             print(f\"Directory {dicom_dir_path} does not exist.\")\n",
    "    #     return dicom_paths\n",
    "    \n",
    "    def _get_dicom_paths(self):\n",
    "        dicom_paths = []\n",
    "        \n",
    "        # Open the zip file\n",
    "        with zipfile.ZipFile(self.dicom_dir, 'r') as dicom_zip:\n",
    "            zip_file_list = dicom_zip.namelist()  # List all files in the zip archive\n",
    "            \n",
    "            # Assuming the DICOM files are stored under a top-level folder \"DATASET_NAME/\"\n",
    "            top_level_folder = DATASET_NAME + '/'\n",
    "            \n",
    "            for _, row in self.patient_scan_labels.iterrows():\n",
    "                patient_id = row['patient_id'].replace(\"ID_\", \"\")\n",
    "                study_instance_uid = row['study_instance_uid'].replace(\"ID_\", \"\")\n",
    "                \n",
    "                # Include the top-level folder in the path\n",
    "                dicom_dir_path = f\"{top_level_folder}{patient_id}_{study_instance_uid}/\"\n",
    "                \n",
    "                # Find DICOM files in the relevant directory within the zip archive\n",
    "                dicom_files = [f for f in zip_file_list if f.startswith(dicom_dir_path) and f.endswith(\".dcm\")]\n",
    "                \n",
    "                if dicom_files:\n",
    "                    dicom_paths.append((dicom_files, row))\n",
    "                else:\n",
    "                    print(f\"No DICOM files found in {dicom_dir_path} within the zip file.\")\n",
    "        \n",
    "        return dicom_paths\n",
    "\n",
    "    def __len__(self):\n",
    "        return len(self.dicom_paths)\n",
    "\n",
    "    def _pad_images(self, images):\n",
    "        num_slices = images.shape[0]\n",
    "        if num_slices < self.max_slices:\n",
    "            padding = torch.zeros((self.max_slices - num_slices, self.channels, self.height, self.width))\n",
    "            images = torch.cat((images, padding), dim=0)\n",
    "        return images\n",
    "    \n",
    "    def _pad_labels(self, labels_tensor):\n",
    "        if len(labels_tensor) < self.max_slices:\n",
    "            padding_labels = torch.zeros(self.max_slices - len(labels_tensor))\n",
    "            labels_tensor = torch.cat((labels_tensor, padding_labels))\n",
    "        return labels_tensor\n",
    "\n",
    "    def correct_dcm(self, dcm):\n",
    "        x = dcm.pixel_array + 1000\n",
    "        px_mode = 4096\n",
    "        x[x >= px_mode] -= px_mode\n",
    "        dcm.PixelData = x.tobytes()\n",
    "        dcm.RescaleIntercept = -1000\n",
    "\n",
    "    def window_image(self, dcm, window_center, window_width):    \n",
    "        if (dcm.BitsStored == 12) and (dcm.PixelRepresentation == 0) and (int(dcm.RescaleIntercept) > -100):\n",
    "            self.correct_dcm(dcm)\n",
    "        \n",
    "        img = dcm.pixel_array * dcm.RescaleSlope + dcm.RescaleIntercept\n",
    "        img = cv2.resize(img, (self.height, self.width), interpolation=cv2.INTER_LINEAR)\n",
    "       \n",
    "        img_min = window_center - window_width // 2\n",
    "        img_max = window_center + window_width // 2\n",
    "        img = np.clip(img, img_min, img_max)\n",
    "        \n",
    "        return img\n",
    "\n",
    "    def bsb_window(self, dcm):\n",
    "        brain_img = self.window_image(dcm, 40, 80)\n",
    "        subdural_img = self.window_image(dcm, 80, 200)\n",
    "        soft_img = self.window_image(dcm, 40, 380)\n",
    "        \n",
    "        brain_img = (brain_img - 0) / 80\n",
    "        subdural_img = (subdural_img - (-20)) / 200\n",
    "        soft_img = (soft_img - (-150)) / 380\n",
    "        \n",
    "        bsb_img = np.stack([brain_img, subdural_img, soft_img], axis=0)\n",
    "        return bsb_img.astype(np.float16)\n",
    "\n",
    "    def preprocess_slice(self, slice):\n",
    "        # Check if type of slice is DICOM or an empty numpy array\n",
    "        if isinstance(slice, np.ndarray):\n",
    "            # Resize the slice to the desired height and width\n",
    "            slice_resized = resize(slice, (self.height, self.width), anti_aliasing=True)\n",
    "            multichannel_slice = np.stack([slice_resized] * 3, axis=0)\n",
    "            return multichannel_slice.astype(np.float16)\n",
    "        else:\n",
    "            bsb_img = self.bsb_window(slice)  # Get the BSB windowed image\n",
    "            return bsb_img.astype(np.float16)\n",
    "\n",
    "    # def __getitem__(self, idx):\n",
    "    #     dicom_files, row = self.dicom_paths[idx]\n",
    "    #     images = []\n",
    "    #     labels = []\n",
    "    #     \n",
    "    #     for dicom_file in dicom_files:\n",
    "    #         dicom = pydicom.dcmread(dicom_file)\n",
    "    #         img = self.preprocess_slice(dicom)  # Use preprocess_slice instead of converting to 3 channels\n",
    "    #         \n",
    "    #         img_tensor = torch.from_numpy(img).float()\n",
    "    #         images.append(img_tensor)\n",
    "    # \n",
    "    #         file_key = os.path.basename(dicom_file)\n",
    "    #         label_row = self.patient_slice_labels[self.patient_slice_labels['filename'] == file_key]\n",
    "    #         label = 1.0 if not label_row.empty and np.any(label_row[self.target_columns].values == 1) else 0.0\n",
    "    #         labels.append(label)\n",
    "    # \n",
    "    #     images_tensor = torch.stack(images)\n",
    "    #     labels_tensor = torch.tensor(labels, dtype=torch.float32)        \n",
    "    #         \n",
    "    #     # Padding with 0\n",
    "    #     images_tensor = self._pad_images(images_tensor)\n",
    "    #     labels_tensor = self._pad_labels(labels_tensor)\n",
    "    # \n",
    "    #     return images_tensor, labels_tensor\n",
    "    \n",
    "    def __getitem__(self, idx):\n",
    "        dicom_files, row = self.dicom_paths[idx]\n",
    "        images = []\n",
    "        labels = []\n",
    "        \n",
    "        with zipfile.ZipFile(self.dicom_dir, 'r') as dicom_zip:\n",
    "            for dicom_file in dicom_files:\n",
    "                with dicom_zip.open(dicom_file) as file:\n",
    "                    dicom = pydicom.dcmread(file)\n",
    "                    img = self.preprocess_slice(dicom)\n",
    "                    \n",
    "                    img_tensor = torch.from_numpy(img).float()\n",
    "                    images.append(img_tensor)\n",
    "    \n",
    "                    file_key = os.path.basename(dicom_file)\n",
    "                    label_row = self.patient_slice_labels[self.patient_slice_labels['filename'] == file_key]\n",
    "                    label = 1.0 if not label_row.empty and np.any(label_row[self.target_columns].values == 1) else 0.0\n",
    "                    labels.append(label)\n",
    "    \n",
    "        images_tensor = torch.stack(images)\n",
    "        labels_tensor = torch.tensor(labels, dtype=torch.float32)        \n",
    "        \n",
    "        # Padding with 0\n",
    "        images_tensor = self._pad_images(images_tensor)\n",
    "        labels_tensor = self._pad_labels(labels_tensor)\n",
    "    \n",
    "        return images_tensor, labels_tensor"
   ],
   "metadata": {
    "execution": {
     "iopub.status.busy": "2024-10-11T18:09:20.397679Z",
     "iopub.execute_input": "2024-10-11T18:09:20.398052Z",
     "iopub.status.idle": "2024-10-11T18:09:20.427261Z",
     "shell.execute_reply.started": "2024-10-11T18:09:20.397990Z",
     "shell.execute_reply": "2024-10-11T18:09:20.426336Z"
    },
    "trusted": true,
    "ExecuteTime": {
     "end_time": "2024-10-12T08:01:20.750840Z",
     "start_time": "2024-10-12T08:01:20.735649Z"
    }
   },
   "outputs": [],
   "execution_count": 6
  },
  {
   "cell_type": "code",
   "source": "class DataloaderManager:\n    \"\"\"\n    A class to manage DataLoader instances for training, validation, and testing splits of a dataset. \n    It includes methods to create the splits, ensure balanced label distribution, and visualize label counts.\n\n    Attributes:\n    ----------\n    dataset : Dataset\n        The full dataset to be split into training, validation, and testing sets.\n    batch_size : int, optional\n        The number of samples in each batch (default is 8).\n    val_size : float, optional\n        The proportion of the dataset to use for validation (default is 0.15).\n    test_size : float, optional\n        The proportion of the dataset to use for testing (default is 0.15).\n    num_workers : int, optional\n        The number of subprocesses to use for data loading (default is 4).\n    train_loader : DataLoader\n        The DataLoader for the training set.\n    validate_loader : DataLoader\n        The DataLoader for the validation set.\n    test_loader : DataLoader\n        The DataLoader for the testing set.\n\n    Methods:\n    --------\n    print_dataset_length():\n        Prints the total length of the dataset.\n    \n    print_lengths():\n        Prints the lengths of the training, validation, and testing datasets.\n    \n    _create_loaders():\n        Internal method that splits the dataset into training, validation, and testing sets, and \n        ensures each split contains at least one instance of label 1. DataLoaders are created for each split.\n    \n    visualize_label_distribution():\n        Visualizes the distribution of labels (0 and 1) for the training, validation, and testing datasets.\n    \"\"\"\n    def __init__(self, dataset, batch_size, val_size, test_size, num_workers=4):\n        self.dataset = dataset\n        self.batch_size = batch_size\n        self.val_size = val_size\n        self.test_size = test_size\n        self.num_workers = num_workers\n        self.train_loader = None\n        self.validate_loader = None\n        self.test_loader = None\n        self._create_loaders()\n\n    def print_dataset_length(self):\n        print(f\"Length of dataset: {len(self.dataset)}\")\n\n    def print_lengths(self):\n        print(f\"Length of training dataset: {len(self.train_loader.dataset)}\")\n        print(f\"Length of validation dataset: {len(self.validate_loader.dataset)}\")\n        print(f\"Length of testing dataset: {len(self.test_loader.dataset)}\")\n    \n    def _create_loaders(self):\n        dataset_length = len(self.dataset)\n        print(f\"Dataset length: {dataset_length}\")\n\n        # Create masks for indices with and without label 1\n        label_mask = np.array([1 in sample[1].tolist() for sample in self.dataset])\n        indices_with_one = np.where(label_mask)[0]\n        indices_without_one = np.where(~label_mask)[0]\n\n        print(f\"Total indices with one: {len(indices_with_one)}\")\n\n        # Calculate split sizes\n        val_size = int(dataset_length * self.val_size)\n        test_size = int(dataset_length * self.test_size)\n\n        # Shuffle and split indices\n        np.random.shuffle(indices_with_one)\n        np.random.shuffle(indices_without_one)\n\n        val_one_count = int(len(indices_with_one) * self.val_size)\n        test_one_count = int(len(indices_with_one) * self.test_size)\n\n        val_indices = np.concatenate((\n            indices_with_one[:val_one_count],\n            indices_without_one[:val_size - val_one_count]\n        ))\n\n        test_indices = np.concatenate((\n            indices_with_one[val_one_count:val_one_count + test_one_count],\n            indices_without_one[val_size - val_one_count:val_size - val_one_count + test_size - test_one_count]\n        ))\n\n        train_indices = np.concatenate((\n            indices_with_one[val_one_count + test_one_count:],\n            indices_without_one[val_size - val_one_count + test_size - test_one_count:]\n        ))\n\n        # Create datasets from selected indices using Subset\n        train_dataset = Subset(self.dataset, train_indices)\n        val_dataset = Subset(self.dataset, val_indices)\n        test_dataset = Subset(self.dataset, test_indices)\n\n        # Create DataLoaders for each set\n        self.train_loader = DataLoader(train_dataset, batch_size=self.batch_size, num_workers=self.num_workers)\n        self.validate_loader = DataLoader(val_dataset, batch_size=self.batch_size, num_workers=self.num_workers)\n        self.test_loader = DataLoader(test_dataset, batch_size=self.batch_size, num_workers=self.num_workers)\n\n    def visualize_label_distribution(self):\n        for loader_name, loader in zip(['Training', 'Validation', 'Testing'], \n                                        [self.train_loader, self.validate_loader, self.test_loader]):\n            all_labels = []\n            for _, labels in loader:\n                all_labels.extend(labels.view(-1).numpy().tolist())\n\n            label_counts = Counter(all_labels)\n            counts = [label_counts.get(0, 0), label_counts.get(1, 0)]\n            labels = [0, 1]\n\n            plt.figure(figsize=(10, 6))\n            bars = plt.bar(labels, counts, color='blue')\n            plt.xlabel('Labels')\n            plt.ylabel('Counts')\n            plt.title(f'Label Distribution - {loader_name} Set')\n            plt.xticks(labels)\n\n            for bar in bars:\n                yval = bar.get_height()\n                plt.text(bar.get_x() + bar.get_width()/2, yval, int(yval), ha='center', va='bottom')\n\n            plt.tight_layout()\n            plt.show()",
   "metadata": {
    "execution": {
     "iopub.status.busy": "2024-10-11T18:09:20.428840Z",
     "iopub.execute_input": "2024-10-11T18:09:20.429490Z",
     "iopub.status.idle": "2024-10-11T18:09:20.450111Z",
     "shell.execute_reply.started": "2024-10-11T18:09:20.429443Z",
     "shell.execute_reply": "2024-10-11T18:09:20.449233Z"
    },
    "trusted": true,
    "ExecuteTime": {
     "end_time": "2024-10-12T08:01:20.871066Z",
     "start_time": "2024-10-12T08:01:20.861058Z"
    }
   },
   "outputs": [],
   "execution_count": 7
  },
  {
   "cell_type": "code",
   "source": [
    "dataset = DatasetGenerator(\n",
    "    ZIP_FILE_PATH,\n",
    "    patient_scan_labels=patient_scan_labels,\n",
    "    patient_slice_labels=patient_slice_labels,\n",
    "    max_slices=MAX_SLICES,\n",
    "    height=HEIGHT,\n",
    "    width=WIDTH,\n",
    "    target_columns=TARGET_COLUMNS\n",
    ")"
   ],
   "metadata": {
    "execution": {
     "iopub.status.busy": "2024-10-11T18:09:20.451320Z",
     "iopub.execute_input": "2024-10-11T18:09:20.451674Z",
     "iopub.status.idle": "2024-10-11T18:09:37.258880Z",
     "shell.execute_reply.started": "2024-10-11T18:09:20.451640Z",
     "shell.execute_reply": "2024-10-11T18:09:37.257901Z"
    },
    "trusted": true,
    "ExecuteTime": {
     "end_time": "2024-10-12T08:01:20.911577Z",
     "start_time": "2024-10-12T08:01:20.902708Z"
    }
   },
   "outputs": [],
   "execution_count": 8
  },
  {
   "cell_type": "code",
   "source": "images, labels = dataset[0]\n\nprint(images.shape, labels.shape)",
   "metadata": {
    "execution": {
     "iopub.status.busy": "2024-10-11T18:09:37.260451Z",
     "iopub.execute_input": "2024-10-11T18:09:37.260893Z",
     "iopub.status.idle": "2024-10-11T18:09:43.744706Z",
     "shell.execute_reply.started": "2024-10-11T18:09:37.260849Z",
     "shell.execute_reply": "2024-10-11T18:09:43.743680Z"
    },
    "trusted": true,
    "ExecuteTime": {
     "end_time": "2024-10-12T08:01:23.008190Z",
     "start_time": "2024-10-12T08:01:21.115675Z"
    }
   },
   "outputs": [
    {
     "name": "stdout",
     "output_type": "stream",
     "text": [
      "torch.Size([60, 3, 224, 224]) torch.Size([60])\n"
     ]
    }
   ],
   "execution_count": 9
  },
  {
   "cell_type": "code",
   "source": [
    "dataloader_manager = DataloaderManager(dataset, batch_size=BATCH_PATIENTS, val_size=VAL_SIZE, test_size=TEST_SIZE)\n",
    "\n",
    "# Accessing the loaders\n",
    "train_loader = dataloader_manager.train_loader\n",
    "validate_loader = dataloader_manager.validate_loader\n",
    "test_loader = dataloader_manager.test_loader"
   ],
   "metadata": {
    "execution": {
     "iopub.status.busy": "2024-10-11T18:09:43.748011Z",
     "iopub.execute_input": "2024-10-11T18:09:43.748343Z"
    },
    "trusted": true,
    "ExecuteTime": {
     "end_time": "2024-10-12T08:02:01.679616Z",
     "start_time": "2024-10-12T08:01:23.101991Z"
    }
   },
   "outputs": [
    {
     "name": "stdout",
     "output_type": "stream",
     "text": [
      "Dataset length: 20\n",
      "Total indices with one: 10\n"
     ]
    }
   ],
   "execution_count": 10
  },
  {
   "cell_type": "code",
   "source": "dataloader_manager.print_lengths()",
   "metadata": {
    "trusted": true,
    "ExecuteTime": {
     "end_time": "2024-10-12T08:02:01.705380Z",
     "start_time": "2024-10-12T08:02:01.702995Z"
    }
   },
   "outputs": [
    {
     "name": "stdout",
     "output_type": "stream",
     "text": [
      "Length of training dataset: 14\n",
      "Length of validation dataset: 3\n",
      "Length of testing dataset: 3\n"
     ]
    }
   ],
   "execution_count": 11
  },
  {
   "cell_type": "code",
   "source": "dataloader_manager.visualize_label_distribution()",
   "metadata": {
    "trusted": true,
    "jupyter": {
     "is_executing": true
    },
    "ExecuteTime": {
     "start_time": "2024-10-12T08:02:11.278923Z"
    }
   },
   "outputs": [
    {
     "data": {
      "text/plain": [
       "<Figure size 1000x600 with 1 Axes>"
      ],
      "image/png": "[encoded data removed]"
     },
     "metadata": {},
     "output_type": "display_data"
    },
    {
     "data": {
      "text/plain": [
       "<Figure size 1000x600 with 1 Axes>"
      ],
      "image/png": "[encoded data removed]"
     },
     "metadata": {},
     "output_type": "display_data"
    }
   ],
   "execution_count": null
  },
  {
   "cell_type": "code",
   "source": "def plot_image_grid(dataloader, grid_rows=10, max_slices=MAX_SLICES):\n    \"\"\"\n    Plot a grid of images from the given DataLoader.\n    \n    Args:\n    dataloader (DataLoader): DataLoader containing batches of images and labels.\n    grid_rows (int): Number of rows in the grid\n    max_slices (int): Maximum number of slices to plot\n    \"\"\"\n    # Get a first value in batch from the DataLoader\n    for batch_images, batch_labels in dataloader:\n        image_tensor = batch_images[0]\n        label_tensor = batch_labels[0]\n        break\n\n    num_slices = min(image_tensor.shape[0], max_slices)  # Ensure we don't exceed the number of slices\n    grid_cols = int(max_slices / grid_rows)  # Calculate number of columns\n    \n    # Calculate the figure size based on the image dimensions\n    img_size = HEIGHT # or WIDTH\n    dpi = plt.rcParams['figure.dpi']  # Get the default DPI\n    figsize = (grid_cols * img_size / dpi, grid_rows * img_size / dpi)\n    \n    fig, axes = plt.subplots(grid_rows, grid_cols, figsize=figsize)\n    axes = axes.flatten()  # Flatten the axes array for easy indexing\n    \n    # Loop through the number of slices and plot each image\n    for i in range(num_slices):\n        axes[i].imshow(image_tensor[i].permute(1, 2, 0).cpu().numpy())  # Convert to (height, width, channels) for plotting\n        axes[i].set_title(f\"Label: {label_tensor[i].item()}\")\n        axes[i].axis('off')  # Turn off axis for all subplots\n    \n    # Turn off any remaining empty subplots\n    for i in range(num_slices, grid_rows * grid_cols):\n        axes[i].axis('off')\n    \n    plt.tight_layout()\n    plt.show()",
   "metadata": {
    "trusted": true
   },
   "outputs": [],
   "execution_count": null
  },
  {
   "cell_type": "code",
   "source": "# plot_image_grid(test_loader)",
   "metadata": {
    "trusted": true
   },
   "outputs": [],
   "execution_count": null
  },
  {
   "cell_type": "code",
   "source": "# 2. Model Definition\nclass ResNet18(nn.Module):\n    def __init__(self, num_classes=1):\n        super(ResNet18, self).__init__()\n        self.resnet = models.resnet18(weights=ResNet18_Weights.DEFAULT)\n        self.resnet.fc = nn.Linear(self.resnet.fc.in_features, num_classes)\n        self.dropout = nn.Dropout(p=0.3)  # Add dropout layer\n\n    def forward(self, x):\n        batch_patients, num_slices, channels, height, width = x.size()\n        x = x.view(-1, channels, height, width)\n        x = self.resnet(x)\n        return self.dropout(x)  # Apply dropout before returning\n\ndevice = torch.device(\"cuda\" if torch.cuda.is_available() else \"cpu\")\nmodel = ResNet18().to(device)",
   "metadata": {
    "trusted": true
   },
   "outputs": [],
   "execution_count": null
  },
  {
   "cell_type": "code",
   "source": "# 3. Loss and Optimizer\ncriterion = nn.BCEWithLogitsLoss()\noptimizer = optim.Adam(model.parameters(), lr=0.0005)\nscheduler = ReduceLROnPlateau(optimizer, mode='min', factor=0.5, patience=1)\n\n# mode: Monitors 'min' or 'max' changes in metrics.\n# factor: The multiplicative factor for reducing the learning rate. \n##  If the current learning rate is 0.01 and factor=0.5, the new learning rate will be 0.01 * 0.5 = 0.005\n# patience: Number of epochs to wait for improvement before reducing the learning rate.",
   "metadata": {
    "trusted": true
   },
   "outputs": [],
   "execution_count": null
  },
  {
   "cell_type": "code",
   "source": "def train(model, train_loader, criterion, optimizer, scheduler, num_epochs, device):\n    model.train()\n\n    running_loss = 0.0\n    correct = 0\n    total = 0\n\n    for batch_idx, (image, label) in enumerate(train_loader):\n        image, label = image.to(device), label.to(device)\n\n        # Forward pass\n        optimizer.zero_grad()\n        output = model(image).squeeze()\n        label = label.reshape(-1)\n\n        loss = criterion(output, label)\n\n        # Backward pass and optimization\n        loss.backward()\n        optimizer.step()\n\n        # Track loss\n        running_loss += loss.item()\n\n        # Calculate accuracy\n        predicted_label = (output > 0.5).float()\n        total += label.size(0)\n        correct += (predicted_label == label).sum().item()\n\n    # Calculate average loss and accuracy for the epoch\n    epoch_loss = running_loss / len(train_loader)\n    accuracy = 100 * correct / total\n\n    print(f'Epoch {epoch+1}: Loss: {epoch_loss:.4f}, Accuracy: {accuracy:.4f}%')\n\n    scheduler.step(epoch_loss)",
   "metadata": {
    "trusted": true
   },
   "outputs": [],
   "execution_count": null
  },
  {
   "cell_type": "code",
   "source": "def validate(model, validate_loader, criterion, device):\n    model.eval()\n    running_loss = 0.0\n    correct = 0\n    total = 0\n    \n    with torch.no_grad():\n        for batch_idx, (image, label) in enumerate(validate_loader):\n            image, label = image.to(device), label.to(device)\n            \n            # Forward pass\n            output = model(image).squeeze()\n            label = label.reshape(-1)\n            \n            loss = criterion(output, label)\n            running_loss += loss.item()\n            \n            # Calculate accuracy\n            predicted_label = (output > 0.5).float()\n            total += label.size(0)\n            correct += (predicted_label == label).sum().item()\n    \n    # Calculate average loss and accuracy for validation\n    val_loss = running_loss / len(validate_loader)\n    accuracy = 100 * correct / total\n    \n    print(f'Validation Loss: {val_loss:.4f}, Validation Accuracy: {accuracy:.4f}%')",
   "metadata": {
    "trusted": true
   },
   "outputs": [],
   "execution_count": null
  },
  {
   "cell_type": "code",
   "source": "from sklearn.metrics import confusion_matrix, ConfusionMatrixDisplay, roc_curve, auc\n\ndef plot_roc_curve(y_true, y_scores):\n    fpr, tpr, thresholds = roc_curve(y_true, y_scores)\n    roc_auc = auc(fpr, tpr)\n    plt.figure()\n    plt.plot(fpr, tpr, color='darkorange', lw=2, label='ROC curve (area = %0.2f)' % roc_auc)\n    plt.plot([0, 1], [0, 1], color='navy', lw=2, linestyle='--')\n    plt.xlim([0.0, 1.0])\n    plt.ylim([0.0, 1.05])\n    plt.xlabel('False Positive Rate')\n    plt.ylabel('True Positive Rate')\n    plt.title('Receiver Operating Characteristic')\n    plt.legend(loc='lower right')\n    plt.show()",
   "metadata": {
    "trusted": true
   },
   "outputs": [],
   "execution_count": null
  },
  {
   "cell_type": "code",
   "source": "def plot_confusion_matrix(y_true, y_pred):\n    cm = confusion_matrix(y_true, y_pred)\n    disp = ConfusionMatrixDisplay(confusion_matrix=cm)\n    disp.plot(cmap=plt.cm.Blues)\n    plt.title('Confusion Matrix')\n    plt.show()",
   "metadata": {
    "trusted": true
   },
   "outputs": [],
   "execution_count": null
  },
  {
   "cell_type": "code",
   "source": "def evaluate(model, test_loader, device):\n    model.eval()\n    correct = 0\n    total = 0\n    all_labels = []\n    all_predictions = []\n    all_scores = []\n\n    with torch.no_grad():\n        for image, label in test_loader:\n            image, label = image.to(device), label.to(device)\n            \n            output = model(image).squeeze()\n            label = label.reshape(-1)\n            \n            predicted_label = (output > 0.5).float()\n            total += label.size(0)\n            correct += (predicted_label == label).sum().item()\n            \n            # Collecting true labels and scores for ROC and confusion matrix\n            all_labels.extend(label.cpu().numpy())\n            all_predictions.extend(predicted_label.cpu().numpy())\n            all_scores.extend(output.cpu().numpy())\n\n    accuracy = 100 * correct / total\n    print(f'Test Accuracy: {accuracy:.4f}%')\n    \n    # Plot ROC Curve\n    plot_roc_curve(np.array(all_labels), np.array(all_scores))\n    \n    # Plot Confusion Matrix\n    plot_confusion_matrix(np.array(all_labels), np.array(all_predictions))",
   "metadata": {
    "trusted": true
   },
   "outputs": [],
   "execution_count": null
  },
  {
   "cell_type": "code",
   "source": "num_epochs = 10",
   "metadata": {
    "trusted": true
   },
   "outputs": [],
   "execution_count": null
  },
  {
   "cell_type": "code",
   "source": "for epoch in range(num_epochs):\n    train(model, train_loader, criterion, optimizer, scheduler, num_epochs, device)\n    validate(model, validate_loader, criterion, device)",
   "metadata": {
    "trusted": true
   },
   "outputs": [],
   "execution_count": null
  },
  {
   "cell_type": "code",
   "source": "evaluate(model, test_loader, device)",
   "metadata": {
    "trusted": true
   },
   "outputs": [],
   "execution_count": null
  }
 ]
}
