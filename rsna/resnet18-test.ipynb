{
 "cells": [
  {
   "cell_type": "code",
   "execution_count": 1,
   "id": "4bc24bc2",
   "metadata": {
    "ExecuteTime": {
     "end_time": "2024-10-15T15:07:46.081006Z",
     "start_time": "2024-10-15T15:07:41.005714Z"
    },
    "_cell_guid": "b1076dfc-b9ad-4769-8c92-a6c4dae69d19",
    "_uuid": "8f2839f25d086af736a60e9eeb907d3b93b6e0e5",
    "execution": {
     "iopub.execute_input": "2024-10-16T19:33:32.786725Z",
     "iopub.status.busy": "2024-10-16T19:33:32.786334Z",
     "iopub.status.idle": "2024-10-16T19:33:40.194391Z",
     "shell.execute_reply": "2024-10-16T19:33:40.193532Z"
    },
    "papermill": {
     "duration": 7.422088,
     "end_time": "2024-10-16T19:33:40.196752",
     "exception": false,
     "start_time": "2024-10-16T19:33:32.774664",
     "status": "completed"
    },
    "tags": []
   },
   "outputs": [],
   "source": [
    "# Standard library imports\n",
    "import os\n",
    "import zipfile\n",
    "\n",
    "# Third-party imports\n",
    "import cv2\n",
    "import matplotlib.pyplot as plt\n",
    "import numpy as np\n",
    "import pandas as pd\n",
    "import pydicom\n",
    "\n",
    "# PyTorch imports\n",
    "import torch\n",
    "import torch.nn as nn\n",
    "import torch.optim as optim\n",
    "from torch.optim.lr_scheduler import ReduceLROnPlateau\n",
    "from torch.utils.data import Dataset, DataLoader, Subset\n",
    "\n",
    "from sklearn.model_selection import train_test_split\n",
    "from sklearn.metrics import confusion_matrix, ConfusionMatrixDisplay, roc_curve, auc\n",
    "\n",
    "# Torchvision imports\n",
    "from torchvision import transforms, models\n",
    "from torchvision.models import ResNet50_Weights"
   ]
  },
  {
   "cell_type": "code",
   "execution_count": 2,
   "id": "c7170537",
   "metadata": {
    "ExecuteTime": {
     "end_time": "2024-10-15T15:07:46.497429Z",
     "start_time": "2024-10-15T15:07:46.096325Z"
    },
    "execution": {
     "iopub.execute_input": "2024-10-16T19:33:40.218599Z",
     "iopub.status.busy": "2024-10-16T19:33:40.218089Z",
     "iopub.status.idle": "2024-10-16T19:33:40.306534Z",
     "shell.execute_reply": "2024-10-16T19:33:40.305508Z"
    },
    "papermill": {
     "duration": 0.101442,
     "end_time": "2024-10-16T19:33:40.309136",
     "exception": false,
     "start_time": "2024-10-16T19:33:40.207694",
     "status": "completed"
    },
    "tags": []
   },
   "outputs": [
    {
     "name": "stdout",
     "output_type": "stream",
     "text": [
      "GPUs Available: 1\n",
      "- Tesla P100-PCIE-16GB\n"
     ]
    }
   ],
   "source": [
    "if torch.cuda.is_available():\n",
    "    print(f\"GPUs Available: {torch.cuda.device_count()}\")\n",
    "    for i in range(torch.cuda.device_count()):\n",
    "        print(f\"- {torch.cuda.get_device_name(i)}\")\n",
    "else:\n",
    "    print(\"No GPUs available.\")"
   ]
  },
  {
   "cell_type": "markdown",
   "id": "f699207f",
   "metadata": {
    "papermill": {
     "duration": 0.00935,
     "end_time": "2024-10-16T19:33:40.328294",
     "exception": false,
     "start_time": "2024-10-16T19:33:40.318944",
     "status": "completed"
    },
    "tags": []
   },
   "source": [
    "# Local"
   ]
  },
  {
   "cell_type": "code",
   "execution_count": 3,
   "id": "e521c149",
   "metadata": {
    "ExecuteTime": {
     "end_time": "2024-10-15T15:07:47.108742Z",
     "start_time": "2024-10-15T15:07:46.826869Z"
    },
    "execution": {
     "iopub.execute_input": "2024-10-16T19:33:40.348739Z",
     "iopub.status.busy": "2024-10-16T19:33:40.348347Z",
     "iopub.status.idle": "2024-10-16T19:33:40.353391Z",
     "shell.execute_reply": "2024-10-16T19:33:40.352518Z"
    },
    "papermill": {
     "duration": 0.017633,
     "end_time": "2024-10-16T19:33:40.355356",
     "exception": false,
     "start_time": "2024-10-16T19:33:40.337723",
     "status": "completed"
    },
    "tags": []
   },
   "outputs": [],
   "source": [
    "# ## Dataset and Directory Configuration\n",
    "# DATASET_NAME = 'rsna-mil-training'\n",
    "# JOB_NAME = 'RSNA-ResNet18'\n",
    "# HPC_DIR = '/media02/tdhoang01/21127112-21127734/data'\n",
    "# OUTPUT_DIR = '/media02/tdhoang01/python-debugging/rsna/results'\n",
    "\n",
    "# ZIP_FILE_PATH = os.path.join(HPC_DIR, DATASET_NAME + '.zip')\n",
    "# CHECKPOINTS_DIR = os.path.join(OUTPUT_DIR, JOB_NAME, 'checkpoints')\n",
    "# FIGURES_DIR = os.path.join(OUTPUT_DIR, JOB_NAME, 'figures')\n",
    "# DICOM_DIR = f'{DATASET_NAME}/'\n",
    "\n",
    "# ## File Paths\n",
    "# CSV_PATH = f'{DATASET_NAME}/training_1000_scan_subset.csv'\n",
    "\n",
    "# ## Image Processing Parameters\n",
    "# MAX_SLICES = 60\n",
    "# HEIGHT = 224\n",
    "# WIDTH = 224\n",
    "\n",
    "# ## Training Hyperparameters\n",
    "# BATCH_PATIENTS = 4\n",
    "# NUM_EPOCHS = 2\n",
    "# LEARNING_RATE = 1e-4\n",
    "\n",
    "# ## Dataset Split Ratios\n",
    "# VAL_SIZE = 0.15\n",
    "# TEST_SIZE = 0.15\n",
    "\n",
    "# ## Create Necessary Directories\n",
    "# os.makedirs(CHECKPOINTS_DIR, exist_ok=True)\n",
    "# os.makedirs(FIGURES_DIR, exist_ok=True)\n",
    "\n",
    "# ## Load CSVs from zip\n",
    "# with zipfile.ZipFile(ZIP_FILE_PATH, 'r') as zip_ref:\n",
    "#     medical_scan_data = pd.read_csv(zip_ref.open(CSV_PATH))"
   ]
  },
  {
   "cell_type": "markdown",
   "id": "f0612ed4",
   "metadata": {
    "papermill": {
     "duration": 0.009022,
     "end_time": "2024-10-16T19:33:40.373787",
     "exception": false,
     "start_time": "2024-10-16T19:33:40.364765",
     "status": "completed"
    },
    "tags": []
   },
   "source": [
    "# Kaggle"
   ]
  },
  {
   "cell_type": "code",
   "execution_count": 4,
   "id": "03949445",
   "metadata": {
    "ExecuteTime": {
     "end_time": "2024-10-15T15:07:47.136336Z",
     "start_time": "2024-10-15T15:07:47.132955Z"
    },
    "execution": {
     "iopub.execute_input": "2024-10-16T19:33:40.394698Z",
     "iopub.status.busy": "2024-10-16T19:33:40.394300Z",
     "iopub.status.idle": "2024-10-16T19:33:40.720392Z",
     "shell.execute_reply": "2024-10-16T19:33:40.719614Z"
    },
    "papermill": {
     "duration": 0.339388,
     "end_time": "2024-10-16T19:33:40.722786",
     "exception": false,
     "start_time": "2024-10-16T19:33:40.383398",
     "status": "completed"
    },
    "tags": []
   },
   "outputs": [],
   "source": [
    "# Configuration\n",
    "DATASET_NAME = 'rsna-mil-training'\n",
    "JOB_NAME = 'RSNA-ResNet50'\n",
    "INPUT_DIR = '/kaggle/input'\n",
    "OUTPUT_DIR = '/kaggle/working'\n",
    "\n",
    "# Directories\n",
    "CHECKPOINTS_DIR = os.path.join(OUTPUT_DIR, JOB_NAME, 'checkpoints')\n",
    "FIGURES_DIR = os.path.join(OUTPUT_DIR, JOB_NAME, 'figures')\n",
    "DICOM_DIR = os.path.join(INPUT_DIR, DATASET_NAME, DATASET_NAME)\n",
    "\n",
    "# File Paths\n",
    "CSV_PATH = f'{DICOM_DIR}/training_1000_scan_subset.csv'\n",
    "\n",
    "# Image Processing Parameters\n",
    "MAX_SLICES = 60\n",
    "HEIGHT = 512\n",
    "WIDTH = 512\n",
    "\n",
    "# Training Hyperparameters\n",
    "BATCH_PATIENTS = 32\n",
    "NUM_EPOCHS = 50\n",
    "LEARNING_RATE = 1e-4\n",
    "\n",
    "# Dataset Split Ratios\n",
    "VAL_SIZE = 0.15\n",
    "TEST_SIZE = 0.15\n",
    "\n",
    "# Create Necessary Directories\n",
    "os.makedirs(CHECKPOINTS_DIR, exist_ok=True)\n",
    "os.makedirs(FIGURES_DIR, exist_ok=True)\n",
    "\n",
    "# Load CSV from Kaggle environment (no need to unzip)\n",
    "medical_scan_data = pd.read_csv(CSV_PATH)"
   ]
  },
  {
   "cell_type": "code",
   "execution_count": 5,
   "id": "d2f10f6c",
   "metadata": {
    "ExecuteTime": {
     "end_time": "2024-10-15T15:07:47.212661Z",
     "start_time": "2024-10-15T15:07:47.197850Z"
    },
    "execution": {
     "iopub.execute_input": "2024-10-16T19:33:40.744536Z",
     "iopub.status.busy": "2024-10-16T19:33:40.744157Z",
     "iopub.status.idle": "2024-10-16T19:33:40.762147Z",
     "shell.execute_reply": "2024-10-16T19:33:40.761200Z"
    },
    "papermill": {
     "duration": 0.030864,
     "end_time": "2024-10-16T19:33:40.764180",
     "exception": false,
     "start_time": "2024-10-16T19:33:40.733316",
     "status": "completed"
    },
    "tags": []
   },
   "outputs": [
    {
     "data": {
      "text/html": [
       "<div>\n",
       "<style scoped>\n",
       "    .dataframe tbody tr th:only-of-type {\n",
       "        vertical-align: middle;\n",
       "    }\n",
       "\n",
       "    .dataframe tbody tr th {\n",
       "        vertical-align: top;\n",
       "    }\n",
       "\n",
       "    .dataframe thead th {\n",
       "        text-align: right;\n",
       "    }\n",
       "</style>\n",
       "<table border=\"1\" class=\"dataframe\">\n",
       "  <thead>\n",
       "    <tr style=\"text-align: right;\">\n",
       "      <th></th>\n",
       "      <th>patient_id</th>\n",
       "      <th>study_instance_uid</th>\n",
       "      <th>images</th>\n",
       "      <th>labels</th>\n",
       "      <th>patient_scan_label</th>\n",
       "      <th>metadata</th>\n",
       "    </tr>\n",
       "  </thead>\n",
       "  <tbody>\n",
       "    <tr>\n",
       "      <th>0</th>\n",
       "      <td>ID_2e010e33</td>\n",
       "      <td>ID_bda0f47e84</td>\n",
       "      <td>['ID_b9035cb1e.dcm', 'ID_0713bed86.dcm', 'ID_5...</td>\n",
       "      <td>[0, 0, 0, 0, 0, 0, 0, 0, 0, 0, 0, 0, 0, 0, 0, ...</td>\n",
       "      <td>0</td>\n",
       "      <td>[{'image_position': '[-125.000, -106.498, 42.7...</td>\n",
       "    </tr>\n",
       "  </tbody>\n",
       "</table>\n",
       "</div>"
      ],
      "text/plain": [
       "    patient_id study_instance_uid  \\\n",
       "0  ID_2e010e33      ID_bda0f47e84   \n",
       "\n",
       "                                              images  \\\n",
       "0  ['ID_b9035cb1e.dcm', 'ID_0713bed86.dcm', 'ID_5...   \n",
       "\n",
       "                                              labels  patient_scan_label  \\\n",
       "0  [0, 0, 0, 0, 0, 0, 0, 0, 0, 0, 0, 0, 0, 0, 0, ...                   0   \n",
       "\n",
       "                                            metadata  \n",
       "0  [{'image_position': '[-125.000, -106.498, 42.7...  "
      ]
     },
     "execution_count": 5,
     "metadata": {},
     "output_type": "execute_result"
    }
   ],
   "source": [
    "medical_scan_data.head(1)"
   ]
  },
  {
   "cell_type": "code",
   "execution_count": 6,
   "id": "a0c45438",
   "metadata": {
    "ExecuteTime": {
     "end_time": "2024-10-15T15:07:47.321026Z",
     "start_time": "2024-10-15T15:07:47.316594Z"
    },
    "execution": {
     "iopub.execute_input": "2024-10-16T19:33:40.784820Z",
     "iopub.status.busy": "2024-10-16T19:33:40.784478Z",
     "iopub.status.idle": "2024-10-16T19:33:40.790499Z",
     "shell.execute_reply": "2024-10-16T19:33:40.789631Z"
    },
    "papermill": {
     "duration": 0.0185,
     "end_time": "2024-10-16T19:33:40.792394",
     "exception": false,
     "start_time": "2024-10-16T19:33:40.773894",
     "status": "completed"
    },
    "tags": []
   },
   "outputs": [
    {
     "data": {
      "text/plain": [
       "Index(['patient_id', 'study_instance_uid', 'images', 'labels',\n",
       "       'patient_scan_label', 'metadata'],\n",
       "      dtype='object')"
      ]
     },
     "execution_count": 6,
     "metadata": {},
     "output_type": "execute_result"
    }
   ],
   "source": [
    "medical_scan_data.columns"
   ]
  },
  {
   "cell_type": "markdown",
   "id": "071f9165",
   "metadata": {
    "papermill": {
     "duration": 0.009451,
     "end_time": "2024-10-16T19:33:40.811510",
     "exception": false,
     "start_time": "2024-10-16T19:33:40.802059",
     "status": "completed"
    },
    "tags": []
   },
   "source": [
    "# Local dataset gen."
   ]
  },
  {
   "cell_type": "code",
   "execution_count": 7,
   "id": "04327a07",
   "metadata": {
    "ExecuteTime": {
     "end_time": "2024-10-15T15:07:50.768147Z",
     "start_time": "2024-10-15T15:07:47.399320Z"
    },
    "execution": {
     "iopub.execute_input": "2024-10-16T19:33:40.832469Z",
     "iopub.status.busy": "2024-10-16T19:33:40.832054Z",
     "iopub.status.idle": "2024-10-16T19:33:40.840823Z",
     "shell.execute_reply": "2024-10-16T19:33:40.840068Z"
    },
    "papermill": {
     "duration": 0.021627,
     "end_time": "2024-10-16T19:33:40.842768",
     "exception": false,
     "start_time": "2024-10-16T19:33:40.821141",
     "status": "completed"
    },
    "tags": []
   },
   "outputs": [],
   "source": [
    "# class DatasetGenerator(Dataset):\n",
    "#     def __init__(self, zip_file_path, medical_scan_data, max_slices, height, width):\n",
    "#         self.zip_file_path = zip_file_path\n",
    "#         self.medical_scan_data = self._parse_medical_scan_data(medical_scan_data)\n",
    "#         self.max_slices = max_slices\n",
    "#         self.height = height\n",
    "#         self.width = width\n",
    "#         self.channels = 3\n",
    "#         self.dicom_paths = self._get_dicom_paths()\n",
    "#         self.transform = transforms.Compose([\n",
    "#             transforms.Resize((self.height, self.width))\n",
    "#         ])\n",
    "\n",
    "#     def __len__(self):\n",
    "#         return len(self.dicom_paths)\n",
    "\n",
    "#     def __getitem__(self, idx):\n",
    "#         dicom_files, row = self.dicom_paths[idx]\n",
    "\n",
    "#         # Process DICOM files to get images and labels\n",
    "#         images, labels = self._process_dicom_files(dicom_files)\n",
    "\n",
    "#         patient_scan_label = row['patient_scan_label']\n",
    "\n",
    "#         return self._pad_data(images, labels, patient_scan_label)\n",
    "    \n",
    "#     def _parse_medical_scan_data(self, medical_scan_data):\n",
    "#         medical_scan_data['images'] = medical_scan_data['images'].apply(lambda x: eval(x) if isinstance(x, str) else x)\n",
    "#         medical_scan_data['labels'] = medical_scan_data['labels'].apply(lambda x: eval(x) if isinstance(x, str) else x)\n",
    "#         return medical_scan_data\n",
    "\n",
    "#     def _get_dicom_paths(self):\n",
    "#         dicom_paths = []\n",
    "#         with zipfile.ZipFile(self.zip_file_path, 'r') as zip_ref:\n",
    "#             file_list = zip_ref.namelist()\n",
    "            \n",
    "#             for _, row in self.medical_scan_data.iterrows():\n",
    "#                 patient_id = row['patient_id'].replace(\"ID_\", \"\")\n",
    "#                 study_instance_uid = row['study_instance_uid'].replace(\"ID_\", \"\")\n",
    "#                 dicom_dir_path = f\"{DATASET_NAME}/{patient_id}_{study_instance_uid}\"\n",
    "                \n",
    "#                 dicom_files = [f for f in file_list if f.startswith(dicom_dir_path) and f.endswith(\".dcm\")]\n",
    "#                 if dicom_files:\n",
    "#                     dicom_paths.append((dicom_files, row))\n",
    "#                 else:\n",
    "#                     print(f\"No DICOM files found for {dicom_dir_path}.\")\n",
    "        \n",
    "#         return dicom_paths\n",
    "    \n",
    "#     def _process_dicom_files(self, dicom_files):\n",
    "#         images = []\n",
    "#         labels = []\n",
    "\n",
    "#         for _, row in self.medical_scan_data.iterrows():\n",
    "#             image_list = row['images']\n",
    "#             if all(os.path.basename(f) in image_list for f in dicom_files) and len(image_list) == len(dicom_files):\n",
    "#                 labels = row['labels']\n",
    "#                 if labels:\n",
    "#                     labels = torch.tensor(labels, dtype=torch.float32)\n",
    "#                 break\n",
    "\n",
    "#         with zipfile.ZipFile(self.zip_file_path, 'r') as zip_ref:\n",
    "#             for dicom_file in dicom_files:\n",
    "#                 with zip_ref.open(dicom_file) as file:\n",
    "#                     dicom = pydicom.dcmread(file)\n",
    "#                     img = self._preprocess_slice(dicom)\n",
    "#                     images.append(torch.from_numpy(img).float())\n",
    "\n",
    "#         return torch.stack(images), labels\n",
    "    \n",
    "#     def _preprocess_slice(self, dicom):\n",
    "#         bsb_img = self._bsb_window(dicom)\n",
    "#         return bsb_img.astype(np.float16)\n",
    "\n",
    "#     def _pad_data(self, images, labels, patient_scan_label):\n",
    "#         if images.shape[0] > self.max_slices:\n",
    "#             # Cut out the last images\n",
    "#             images = images[:self.max_slices]\n",
    "#             if isinstance(labels, torch.Tensor):\n",
    "#                 labels = labels[:self.max_slices]\n",
    "#             else:\n",
    "#                 labels = labels[:self.max_slices]\n",
    "#         elif images.shape[0] < self.max_slices:\n",
    "#             padding = torch.zeros((self.max_slices - images.shape[0], self.channels, self.height, self.width))\n",
    "#             images = torch.cat((images, padding), dim=0)\n",
    "    \n",
    "#             if isinstance(labels, torch.Tensor):\n",
    "#                 label_padding = torch.zeros(self.max_slices - labels.shape[0])\n",
    "#                 labels = torch.cat((labels, label_padding))\n",
    "#             else:\n",
    "#                 label_padding = torch.zeros(self.max_slices - len(labels))\n",
    "#                 labels = torch.cat((torch.tensor(labels), label_padding))\n",
    "        \n",
    "#         return images, labels, float(patient_scan_label)\n",
    "    \n",
    "#     def _correct_dcm(self, dcm):\n",
    "#         x = dcm.pixel_array + 1000\n",
    "#         px_mode = 4096\n",
    "#         x[x >= px_mode] -= px_mode\n",
    "#         dcm.PixelData = x.tobytes()\n",
    "#         dcm.RescaleIntercept = -1000\n",
    "\n",
    "#     def _window_image(self, dcm, window_center, window_width):\n",
    "#         if (dcm.BitsStored == 12) and (dcm.PixelRepresentation == 0) and (int(dcm.RescaleIntercept) > -100):\n",
    "#             self._correct_dcm(dcm)\n",
    "\n",
    "#         img = dcm.pixel_array * dcm.RescaleSlope + dcm.RescaleIntercept\n",
    "#         img_min = window_center - window_width // 2\n",
    "#         img_max = window_center + window_width // 2\n",
    "#         img = np.clip(img, img_min, img_max)\n",
    "\n",
    "#         img_resized = cv2.resize(img, (self.height, self.width), interpolation=cv2.INTER_LINEAR)\n",
    "       \n",
    "#         return img_resized\n",
    "\n",
    "#     def _bsb_window(self, dcm):\n",
    "#         brain_img = self._window_image(dcm, 40, 80)\n",
    "#         subdural_img = self._window_image(dcm, 80, 200)\n",
    "#         soft_img = self._window_image(dcm, 40, 380)\n",
    "\n",
    "#         brain_img_normalized = (brain_img - 0) / 80\n",
    "#         subdural_img_normalized = (subdural_img - (-20)) / 200\n",
    "#         soft_img_normalized = (soft_img - (-150)) / 380\n",
    "\n",
    "#         bsb_img = np.stack([brain_img_normalized, subdural_img_normalized, soft_img_normalized], axis=0)\n",
    "#         return bsb_img\n",
    "\n",
    "# # Usage\n",
    "# dataset = DatasetGenerator(\n",
    "#     zip_file_path=ZIP_FILE_PATH,\n",
    "#     medical_scan_data=medical_scan_data,\n",
    "#     max_slices=MAX_SLICES,\n",
    "#     height=HEIGHT,\n",
    "#     width=WIDTH,\n",
    "# )"
   ]
  },
  {
   "cell_type": "markdown",
   "id": "319d2074",
   "metadata": {
    "papermill": {
     "duration": 0.009387,
     "end_time": "2024-10-16T19:33:40.862019",
     "exception": false,
     "start_time": "2024-10-16T19:33:40.852632",
     "status": "completed"
    },
    "tags": []
   },
   "source": [
    "# Kaggle dataset gen."
   ]
  },
  {
   "cell_type": "code",
   "execution_count": 8,
   "id": "dfa7cc67",
   "metadata": {
    "execution": {
     "iopub.execute_input": "2024-10-16T19:33:40.882647Z",
     "iopub.status.busy": "2024-10-16T19:33:40.882102Z",
     "iopub.status.idle": "2024-10-16T19:33:40.886300Z",
     "shell.execute_reply": "2024-10-16T19:33:40.885512Z"
    },
    "papermill": {
     "duration": 0.016669,
     "end_time": "2024-10-16T19:33:40.888233",
     "exception": false,
     "start_time": "2024-10-16T19:33:40.871564",
     "status": "completed"
    },
    "tags": []
   },
   "outputs": [],
   "source": [
    "import random\n"
   ]
  },
  {
   "cell_type": "code",
   "execution_count": 9,
   "id": "2fdf6051",
   "metadata": {
    "ExecuteTime": {
     "end_time": "2024-10-15T15:07:50.806044Z",
     "start_time": "2024-10-15T15:07:50.800294Z"
    },
    "execution": {
     "iopub.execute_input": "2024-10-16T19:33:40.909585Z",
     "iopub.status.busy": "2024-10-16T19:33:40.909242Z",
     "iopub.status.idle": "2024-10-16T19:34:06.580479Z",
     "shell.execute_reply": "2024-10-16T19:34:06.579450Z"
    },
    "papermill": {
     "duration": 25.684864,
     "end_time": "2024-10-16T19:34:06.582953",
     "exception": false,
     "start_time": "2024-10-16T19:33:40.898089",
     "status": "completed"
    },
    "tags": []
   },
   "outputs": [],
   "source": [
    "class DatasetGenerator(Dataset):\n",
    "    def __init__(self, dicom_dir, medical_scan_data, height, width):\n",
    "        self.dicom_dir = dicom_dir\n",
    "        self.medical_scan_data = self._parse_medical_scan_data(medical_scan_data)\n",
    "        self.height = height\n",
    "        self.width = width\n",
    "        self.channels = 3\n",
    "        self.dicom_paths = self._get_dicom_paths()\n",
    "        self.balanced_indices = self._balance_dataset()\n",
    "\n",
    "    def __len__(self):\n",
    "        return len(self.balanced_indices)\n",
    "\n",
    "    def __getitem__(self, idx):\n",
    "        patient_idx, image_idx = self.balanced_indices[idx]\n",
    "        dicom_files, _ = self.dicom_paths[patient_idx]\n",
    "\n",
    "        # Load and process the specific DICOM file\n",
    "        dicom_file = dicom_files[image_idx]\n",
    "        dicom = pydicom.dcmread(dicom_file)\n",
    "        img = self._preprocess_slice(dicom)\n",
    "\n",
    "        # Convert the NumPy array to a PyTorch tensor\n",
    "        img_tensor = torch.from_numpy(img).float()\n",
    "\n",
    "        # Get the corresponding label\n",
    "        labels = torch.tensor(self.medical_scan_data.iloc[patient_idx]['labels'], dtype=torch.float32)\n",
    "\n",
    "        return img_tensor, labels[image_idx]\n",
    "\n",
    "    def _balance_dataset(self):\n",
    "        all_indices = []\n",
    "        positive_indices = []\n",
    "        negative_indices = []\n",
    "\n",
    "        for patient_idx, row in enumerate(self.dicom_paths):\n",
    "            _, patient_data = row\n",
    "            labels = patient_data['labels']\n",
    "            for image_idx, label in enumerate(labels):\n",
    "                if label == 1:\n",
    "                    positive_indices.append((patient_idx, image_idx))\n",
    "                else:\n",
    "                    negative_indices.append((patient_idx, image_idx))\n",
    "\n",
    "        # Randomly undersample the majority class (0s) to match the minority class (1s)\n",
    "        num_positive = len(positive_indices)\n",
    "        balanced_negative_indices = random.sample(negative_indices, num_positive)\n",
    "\n",
    "        balanced_indices = positive_indices + balanced_negative_indices\n",
    "        random.shuffle(balanced_indices)\n",
    "\n",
    "        return balanced_indices\n",
    "\n",
    "    def _parse_medical_scan_data(self, medical_scan_data):\n",
    "        medical_scan_data['images'] = medical_scan_data['images'].apply(lambda x: eval(x) if isinstance(x, str) else x)\n",
    "        medical_scan_data['labels'] = medical_scan_data['labels'].apply(lambda x: eval(x) if isinstance(x, str) else x)\n",
    "        return medical_scan_data\n",
    "\n",
    "    def _get_dicom_paths(self):\n",
    "        dicom_paths = []\n",
    "        \n",
    "        for _, row in self.medical_scan_data.iterrows():\n",
    "            patient_id = row['patient_id'].replace(\"ID_\", \"\")\n",
    "            study_instance_uid = row['study_instance_uid'].replace(\"ID_\", \"\")\n",
    "            dicom_dir_path = os.path.join(self.dicom_dir, f\"{patient_id}_{study_instance_uid}\")\n",
    "            \n",
    "            if os.path.exists(dicom_dir_path):\n",
    "                dicom_files = [os.path.join(dicom_dir_path, f) for f in os.listdir(dicom_dir_path) if f.endswith(\".dcm\")]\n",
    "                if dicom_files:\n",
    "                    dicom_paths.append((dicom_files, row))\n",
    "                else:\n",
    "                    print(f\"No DICOM files found for {dicom_dir_path}.\")\n",
    "            else:\n",
    "                print(f\"DICOM directory does not exist: {dicom_dir_path}\")\n",
    "        \n",
    "        return dicom_paths\n",
    "\n",
    "    def _preprocess_slice(self, dicom):\n",
    "        bsb_img = self._bsb_window(dicom)\n",
    "        return bsb_img.astype(np.float16)\n",
    "\n",
    "    def _bsb_window(self, dcm):\n",
    "        brain_img = self._window_image(dcm, 40, 80)\n",
    "        subdural_img = self._window_image(dcm, 80, 200)\n",
    "        soft_img = self._window_image(dcm, 40, 380)\n",
    "\n",
    "        brain_img_normalized = (brain_img - 0) / 80\n",
    "        subdural_img_normalized = (subdural_img - (-20)) / 200\n",
    "        soft_img_normalized = (soft_img - (-150)) / 380\n",
    "\n",
    "        bsb_img = np.stack([brain_img_normalized, subdural_img_normalized, soft_img_normalized], axis=0)\n",
    "        return bsb_img\n",
    "\n",
    "    def _window_image(self, dcm, window_center, window_width):\n",
    "        img = dcm.pixel_array * dcm.RescaleSlope + dcm.RescaleIntercept\n",
    "        img_min = window_center - window_width // 2\n",
    "        img_max = window_center + window_width // 2\n",
    "        img = np.clip(img, img_min, img_max)\n",
    "\n",
    "        img_resized = cv2.resize(img, (self.height, self.width), interpolation=cv2.INTER_LINEAR)\n",
    "       \n",
    "        return img_resized\n",
    "    \n",
    "    def plot_label_distribution(self):\n",
    "        # Count occurrences of each label in the balanced dataset\n",
    "        label_counts = {0: 0, 1: 0}\n",
    "        for patient_idx, image_idx in self.balanced_indices:\n",
    "            label = self.medical_scan_data.iloc[patient_idx]['labels'][image_idx]\n",
    "            label_counts[label] += 1\n",
    "\n",
    "        # Create a bar plot for the distribution of labels\n",
    "        plt.bar(label_counts.keys(), label_counts.values(), color=['blue', 'orange'])\n",
    "        plt.ylabel('Count')\n",
    "        plt.title('Distribution of Labels (Balanced)')\n",
    "\n",
    "        # Annotate counts on top of each bar\n",
    "        for label, count in label_counts.items():\n",
    "            plt.text(label, count, str(count), ha='center', va='bottom')\n",
    "\n",
    "        plt.xticks(list(label_counts.keys()))\n",
    "        plt.show()\n",
    "        \n",
    "    def verify_dataset_integrity(self):\n",
    "        print(f\"Total number of samples in balanced dataset: {len(self.balanced_indices)}\")\n",
    "        \n",
    "        # Verify that each index refers to a valid image and label\n",
    "        for idx in range(len(self)):\n",
    "            img, label = self[idx]\n",
    "            assert img.shape == (self.channels, self.height, self.width), f\"Mismatch in image shape at index {idx}\"\n",
    "            assert label.shape == (), f\"Mismatch in label shape at index {idx}\"\n",
    "            assert label.item() in [0, 1], f\"Invalid label value at index {idx}\"\n",
    "\n",
    "        print(\"Dataset integrity verified. All samples have matching images and labels.\")\n",
    "\n",
    "dataset = DatasetGenerator(\n",
    "    dicom_dir=DICOM_DIR,\n",
    "    medical_scan_data=medical_scan_data,\n",
    "    height=HEIGHT,\n",
    "    width=WIDTH,\n",
    ")"
   ]
  },
  {
   "cell_type": "code",
   "execution_count": 10,
   "id": "b9e35de6",
   "metadata": {
    "ExecuteTime": {
     "end_time": "2024-10-15T15:07:51.408407Z",
     "start_time": "2024-10-15T15:07:50.858262Z"
    },
    "execution": {
     "iopub.execute_input": "2024-10-16T19:34:06.604407Z",
     "iopub.status.busy": "2024-10-16T19:34:06.604057Z",
     "iopub.status.idle": "2024-10-16T19:34:07.558047Z",
     "shell.execute_reply": "2024-10-16T19:34:07.557121Z"
    },
    "papermill": {
     "duration": 0.967149,
     "end_time": "2024-10-16T19:34:07.560135",
     "exception": false,
     "start_time": "2024-10-16T19:34:06.592986",
     "status": "completed"
    },
    "tags": []
   },
   "outputs": [
    {
     "data": {
      "image/png": "[encoded data removed]",
      "text/plain": [
       "<Figure size 640x480 with 1 Axes>"
      ]
     },
     "metadata": {},
     "output_type": "display_data"
    }
   ],
   "source": [
    "dataset.plot_label_distribution()"
   ]
  },
  {
   "cell_type": "code",
   "execution_count": 11,
   "id": "85ced299",
   "metadata": {
    "execution": {
     "iopub.execute_input": "2024-10-16T19:34:07.581838Z",
     "iopub.status.busy": "2024-10-16T19:34:07.581514Z",
     "iopub.status.idle": "2024-10-16T19:34:07.586009Z",
     "shell.execute_reply": "2024-10-16T19:34:07.585080Z"
    },
    "papermill": {
     "duration": 0.01755,
     "end_time": "2024-10-16T19:34:07.588065",
     "exception": false,
     "start_time": "2024-10-16T19:34:07.570515",
     "status": "completed"
    },
    "tags": []
   },
   "outputs": [
    {
     "name": "stdout",
     "output_type": "stream",
     "text": [
      "12178\n"
     ]
    }
   ],
   "source": [
    "print(len(dataset))"
   ]
  },
  {
   "cell_type": "markdown",
   "id": "9f61b4f8",
   "metadata": {
    "papermill": {
     "duration": 0.009873,
     "end_time": "2024-10-16T19:34:07.607806",
     "exception": false,
     "start_time": "2024-10-16T19:34:07.597933",
     "status": "completed"
    },
    "tags": []
   },
   "source": [
    "# Dataloader"
   ]
  },
  {
   "cell_type": "code",
   "execution_count": 12,
   "id": "91553597",
   "metadata": {
    "ExecuteTime": {
     "end_time": "2024-10-15T15:07:51.439856Z",
     "start_time": "2024-10-15T15:07:51.432637Z"
    },
    "execution": {
     "iopub.execute_input": "2024-10-16T19:34:07.629183Z",
     "iopub.status.busy": "2024-10-16T19:34:07.628600Z",
     "iopub.status.idle": "2024-10-16T19:34:07.640482Z",
     "shell.execute_reply": "2024-10-16T19:34:07.639643Z"
    },
    "papermill": {
     "duration": 0.024666,
     "end_time": "2024-10-16T19:34:07.642451",
     "exception": false,
     "start_time": "2024-10-16T19:34:07.617785",
     "status": "completed"
    },
    "tags": []
   },
   "outputs": [],
   "source": [
    "class DataloaderManager:\n",
    "    def __init__(self, dataset, batch_size, val_size, test_size, num_workers=4):\n",
    "        self.dataset = dataset\n",
    "        self.batch_size = batch_size\n",
    "        self.val_size = val_size\n",
    "        self.test_size = test_size\n",
    "        self.num_workers = num_workers\n",
    "        self.train_loader = None\n",
    "        self.validate_loader = None\n",
    "        self.test_loader = None\n",
    "        self._create_loaders()\n",
    "        \n",
    "        # Print lengths after loaders are created\n",
    "        self.print_lengths()\n",
    "\n",
    "    def print_dataset_length(self):\n",
    "        print(f\"Total length of dataset: {len(self.dataset)}\")\n",
    "\n",
    "    def print_lengths(self):\n",
    "        print(f\"Length of training dataset: {len(self.train_loader.dataset)}\")\n",
    "        print(f\"Length of validation dataset: {len(self.validate_loader.dataset)}\")\n",
    "        print(f\"Length of testing dataset: {len(self.test_loader.dataset)}\")\n",
    "    \n",
    "    def _create_loaders(self):\n",
    "        # Use balanced indices to get labels for all slices\n",
    "        labels = [self.dataset.medical_scan_data.iloc[idx[0]]['labels'][idx[1]] for idx in self.dataset.balanced_indices]\n",
    "\n",
    "        # Adjust val_size relative to train_size\n",
    "        train_size = 1 - self.test_size - self.val_size\n",
    "        relative_val_size = self.val_size / (train_size + self.val_size)\n",
    "\n",
    "        # First split: separate test set\n",
    "        train_val_indices, test_indices = train_test_split(\n",
    "            np.arange(len(labels)),\n",
    "            test_size=self.test_size,\n",
    "            stratify=labels,\n",
    "            random_state=42\n",
    "        )\n",
    "\n",
    "        # Second split: separate train and validation sets\n",
    "        train_indices, val_indices = train_test_split(\n",
    "            train_val_indices,\n",
    "            test_size=relative_val_size,\n",
    "            stratify=np.array(labels)[train_val_indices],\n",
    "            random_state=42\n",
    "        )\n",
    "\n",
    "        # Create datasets from selected indices using Subset\n",
    "        train_dataset = Subset(self.dataset, train_indices)\n",
    "        val_dataset = Subset(self.dataset, val_indices)\n",
    "        test_dataset = Subset(self.dataset, test_indices)\n",
    "\n",
    "        # Create DataLoaders for each set\n",
    "        self.train_loader = DataLoader(train_dataset, batch_size=self.batch_size, num_workers=self.num_workers, shuffle=True)\n",
    "        self.validate_loader = DataLoader(val_dataset, batch_size=self.batch_size, num_workers=self.num_workers)\n",
    "        self.test_loader = DataLoader(test_dataset, batch_size=self.batch_size, num_workers=self.num_workers)"
   ]
  },
  {
   "cell_type": "code",
   "execution_count": 13,
   "id": "427535a4",
   "metadata": {
    "ExecuteTime": {
     "end_time": "2024-10-15T15:07:51.510263Z",
     "start_time": "2024-10-15T15:07:51.498564Z"
    },
    "execution": {
     "iopub.execute_input": "2024-10-16T19:34:07.663564Z",
     "iopub.status.busy": "2024-10-16T19:34:07.663289Z",
     "iopub.status.idle": "2024-10-16T19:34:08.412972Z",
     "shell.execute_reply": "2024-10-16T19:34:08.411737Z"
    },
    "papermill": {
     "duration": 0.762676,
     "end_time": "2024-10-16T19:34:08.414993",
     "exception": false,
     "start_time": "2024-10-16T19:34:07.652317",
     "status": "completed"
    },
    "tags": []
   },
   "outputs": [
    {
     "name": "stdout",
     "output_type": "stream",
     "text": [
      "Length of training dataset: 8524\n",
      "Length of validation dataset: 1827\n",
      "Length of testing dataset: 1827\n"
     ]
    }
   ],
   "source": [
    "dataloader_manager = DataloaderManager(dataset, batch_size=BATCH_PATIENTS, val_size=VAL_SIZE, test_size=TEST_SIZE)"
   ]
  },
  {
   "cell_type": "markdown",
   "id": "e660833e",
   "metadata": {
    "papermill": {
     "duration": 0.009933,
     "end_time": "2024-10-16T19:34:08.435302",
     "exception": false,
     "start_time": "2024-10-16T19:34:08.425369",
     "status": "completed"
    },
    "tags": []
   },
   "source": [
    "# Model configurations"
   ]
  },
  {
   "cell_type": "code",
   "execution_count": 14,
   "id": "44483798",
   "metadata": {
    "ExecuteTime": {
     "end_time": "2024-10-15T15:07:52.586835Z",
     "start_time": "2024-10-15T15:07:51.642585Z"
    },
    "execution": {
     "iopub.execute_input": "2024-10-16T19:34:08.456805Z",
     "iopub.status.busy": "2024-10-16T19:34:08.456437Z",
     "iopub.status.idle": "2024-10-16T19:34:09.945922Z",
     "shell.execute_reply": "2024-10-16T19:34:09.945055Z"
    },
    "papermill": {
     "duration": 1.502937,
     "end_time": "2024-10-16T19:34:09.948331",
     "exception": false,
     "start_time": "2024-10-16T19:34:08.445394",
     "status": "completed"
    },
    "tags": []
   },
   "outputs": [
    {
     "name": "stderr",
     "output_type": "stream",
     "text": [
      "Downloading: \"https://download.pytorch.org/models/resnet50-11ad3fa6.pth\" to /root/.cache/torch/hub/checkpoints/resnet50-11ad3fa6.pth\n",
      "100%|██████████| 97.8M/97.8M [00:00<00:00, 171MB/s]\n"
     ]
    }
   ],
   "source": [
    "# 2. Model Definition\n",
    "class ResNet50(nn.Module):\n",
    "    def __init__(self, num_classes=1):\n",
    "        super(ResNet50, self).__init__()\n",
    "        self.resnet = models.resnet50(weights=ResNet50_Weights.DEFAULT)\n",
    "        self.resnet.fc = nn.Linear(self.resnet.fc.in_features, num_classes)\n",
    "        self.dropout = nn.Dropout(p=0.3)  # Add dropout layer\n",
    "\n",
    "    def forward(self, x):\n",
    "        batch_slices, channels, height, width = x.size()\n",
    "        return self.dropout(self.resnet(x))\n",
    "        \n",
    "device = torch.device(\"cuda\" if torch.cuda.is_available() else \"cpu\")\n",
    "model = ResNet50().to(device)"
   ]
  },
  {
   "cell_type": "code",
   "execution_count": 15,
   "id": "3ab4289f",
   "metadata": {
    "ExecuteTime": {
     "end_time": "2024-10-15T15:07:52.616483Z",
     "start_time": "2024-10-15T15:07:52.612038Z"
    },
    "execution": {
     "iopub.execute_input": "2024-10-16T19:34:09.972447Z",
     "iopub.status.busy": "2024-10-16T19:34:09.972094Z",
     "iopub.status.idle": "2024-10-16T19:34:09.978649Z",
     "shell.execute_reply": "2024-10-16T19:34:09.977656Z"
    },
    "papermill": {
     "duration": 0.020777,
     "end_time": "2024-10-16T19:34:09.980471",
     "exception": false,
     "start_time": "2024-10-16T19:34:09.959694",
     "status": "completed"
    },
    "tags": []
   },
   "outputs": [],
   "source": [
    "# 3. Loss and Optimizer\n",
    "criterion = nn.BCEWithLogitsLoss()\n",
    "optimizer = optim.Adam(model.parameters(), lr=LEARNING_RATE)\n",
    "scheduler = ReduceLROnPlateau(optimizer, mode='min', factor=0.5, patience=1)\n",
    "\n",
    "# mode: Monitors 'min' or 'max' changes in metrics.\n",
    "# factor: The multiplicative factor for reducing the learning rate. \n",
    "##  If the current learning rate is 0.01 and factor=0.5, the new learning rate will be 0.01 * 0.5 = 0.005\n",
    "# patience: Number of epochs to wait for improvement before reducing the learning rate."
   ]
  },
  {
   "cell_type": "code",
   "execution_count": 16,
   "id": "45b14394",
   "metadata": {
    "ExecuteTime": {
     "end_time": "2024-10-15T15:07:52.680223Z",
     "start_time": "2024-10-15T15:07:52.670633Z"
    },
    "execution": {
     "iopub.execute_input": "2024-10-16T19:34:10.003517Z",
     "iopub.status.busy": "2024-10-16T19:34:10.003209Z",
     "iopub.status.idle": "2024-10-16T19:34:10.011321Z",
     "shell.execute_reply": "2024-10-16T19:34:10.010575Z"
    },
    "papermill": {
     "duration": 0.021628,
     "end_time": "2024-10-16T19:34:10.013122",
     "exception": false,
     "start_time": "2024-10-16T19:34:09.991494",
     "status": "completed"
    },
    "tags": []
   },
   "outputs": [],
   "source": [
    "def train(model, train_loader, criterion, optimizer, scheduler, device):\n",
    "    model.train()\n",
    "\n",
    "    running_loss = 0.0\n",
    "    correct = 0\n",
    "    total = 0\n",
    "\n",
    "    for batch_idx, (image, label) in enumerate(train_loader):\n",
    "        image, label = image.to(device), label.to(device)\n",
    "\n",
    "        # Forward pass\n",
    "        optimizer.zero_grad()\n",
    "        output = model(image).squeeze()\n",
    "        label = label.reshape(-1)\n",
    "\n",
    "        loss = criterion(output, label)\n",
    "\n",
    "        # Backward pass and optimization\n",
    "        loss.backward()\n",
    "        optimizer.step()\n",
    "\n",
    "        # Track loss\n",
    "        running_loss += loss.item()\n",
    "\n",
    "        # Calculate accuracy\n",
    "        predicted_label = (output > 0.5).float()\n",
    "        total += label.size(0)\n",
    "        correct += (predicted_label == label).sum().item()\n",
    "\n",
    "    # Calculate average loss and accuracy for the epoch\n",
    "    epoch_loss = running_loss / len(train_loader)\n",
    "    accuracy = 100 * correct / total\n",
    "\n",
    "    print(f'Epoch {epoch+1}: Loss: {epoch_loss:.4f}, Accuracy: {accuracy:.4f}%')\n",
    "\n",
    "    scheduler.step(epoch_loss)\n",
    "    return epoch_loss"
   ]
  },
  {
   "cell_type": "code",
   "execution_count": 17,
   "id": "a157a562",
   "metadata": {
    "ExecuteTime": {
     "end_time": "2024-10-15T15:07:52.742433Z",
     "start_time": "2024-10-15T15:07:52.734550Z"
    },
    "execution": {
     "iopub.execute_input": "2024-10-16T19:34:10.036671Z",
     "iopub.status.busy": "2024-10-16T19:34:10.036315Z",
     "iopub.status.idle": "2024-10-16T19:34:10.044266Z",
     "shell.execute_reply": "2024-10-16T19:34:10.043314Z"
    },
    "papermill": {
     "duration": 0.022127,
     "end_time": "2024-10-16T19:34:10.046192",
     "exception": false,
     "start_time": "2024-10-16T19:34:10.024065",
     "status": "completed"
    },
    "tags": []
   },
   "outputs": [],
   "source": [
    "def validate(model, validate_loader, criterion, device):\n",
    "    model.eval()\n",
    "    running_loss = 0.0\n",
    "    correct = 0\n",
    "    total = 0\n",
    "    \n",
    "    with torch.no_grad():\n",
    "        for batch_idx, (image, label) in enumerate(validate_loader):\n",
    "            image, label = image.to(device), label.to(device)\n",
    "            \n",
    "            # Forward pass\n",
    "            output = model(image).squeeze()\n",
    "            label = label.reshape(-1)\n",
    "            \n",
    "            loss = criterion(output, label)\n",
    "            running_loss += loss.item()\n",
    "            \n",
    "            # Calculate accuracy\n",
    "            predicted_label = (output > 0.5).float()\n",
    "            total += label.size(0)\n",
    "            correct += (predicted_label == label).sum().item()\n",
    "    \n",
    "    # Calculate average loss and accuracy for validation\n",
    "    val_loss = running_loss / len(validate_loader)\n",
    "    accuracy = 100 * correct / total\n",
    "    \n",
    "    print(f'Validation Loss: {val_loss:.4f}, Validation Accuracy: {accuracy:.4f}%')\n",
    "    \n",
    "    return val_loss"
   ]
  },
  {
   "cell_type": "code",
   "execution_count": 18,
   "id": "27228c53",
   "metadata": {
    "ExecuteTime": {
     "end_time": "2024-10-15T15:07:52.801793Z",
     "start_time": "2024-10-15T15:07:52.796322Z"
    },
    "execution": {
     "iopub.execute_input": "2024-10-16T19:34:10.069794Z",
     "iopub.status.busy": "2024-10-16T19:34:10.069266Z",
     "iopub.status.idle": "2024-10-16T19:34:10.074778Z",
     "shell.execute_reply": "2024-10-16T19:34:10.073893Z"
    },
    "papermill": {
     "duration": 0.019195,
     "end_time": "2024-10-16T19:34:10.076656",
     "exception": false,
     "start_time": "2024-10-16T19:34:10.057461",
     "status": "completed"
    },
    "tags": []
   },
   "outputs": [],
   "source": [
    "def save_checkpoint(model, optimizer, scheduler, epoch, loss):\n",
    "    checkpoint_path = os.path.join(CHECKPOINTS_DIR, f'checkpoint_epoch_{epoch+1}.pth')    \n",
    "    torch.save({\n",
    "        'epoch': epoch,\n",
    "        'model_state_dict': model.state_dict(),\n",
    "        'optimizer_state_dict': optimizer.state_dict(),\n",
    "        'scheduler_state_dict': scheduler.state_dict(),\n",
    "        'loss': loss\n",
    "    }, checkpoint_path)\n",
    "    print(f\"Checkpoint saved: {checkpoint_path}\")"
   ]
  },
  {
   "cell_type": "code",
   "execution_count": 19,
   "id": "2b0cbb99",
   "metadata": {
    "ExecuteTime": {
     "end_time": "2024-10-15T15:07:53.165742Z",
     "start_time": "2024-10-15T15:07:53.159773Z"
    },
    "execution": {
     "iopub.execute_input": "2024-10-16T19:34:10.099922Z",
     "iopub.status.busy": "2024-10-16T19:34:10.099571Z",
     "iopub.status.idle": "2024-10-16T19:34:10.108866Z",
     "shell.execute_reply": "2024-10-16T19:34:10.108070Z"
    },
    "papermill": {
     "duration": 0.023151,
     "end_time": "2024-10-16T19:34:10.110796",
     "exception": false,
     "start_time": "2024-10-16T19:34:10.087645",
     "status": "completed"
    },
    "tags": []
   },
   "outputs": [],
   "source": [
    "def load_best_checkpoint(model, optimizer, scheduler, checkpoint_dir):\n",
    "    checkpoint_files = [f for f in os.listdir(checkpoint_dir) if f.startswith('checkpoint_epoch_') and f.endswith('.pth')]\n",
    "    if not checkpoint_files:\n",
    "        print(\"No checkpoints found.\")\n",
    "        return None, None\n",
    "\n",
    "    best_checkpoint = min(checkpoint_files, key=lambda x: float(x.split('_')[-1].split('.')[0]))\n",
    "    checkpoint_path = os.path.join(checkpoint_dir, best_checkpoint)\n",
    "    \n",
    "    try:\n",
    "        checkpoint = torch.load(checkpoint_path, map_location=torch.device(device), weights_only=True)\n",
    "    except RuntimeError as e:\n",
    "        print(f\"Error loading checkpoint: {e}\")\n",
    "        print(f\"Checkpoint file: {checkpoint_path}\")\n",
    "        print(f\"File size: {os.path.getsize(checkpoint_path)} bytes\")\n",
    "        return None, None\n",
    "\n",
    "    try:\n",
    "        model.load_state_dict(checkpoint['model_state_dict'])\n",
    "        optimizer.load_state_dict(checkpoint['optimizer_state_dict'])\n",
    "        scheduler.load_state_dict(checkpoint['scheduler_state_dict'])\n",
    "        \n",
    "        epoch = checkpoint['epoch']\n",
    "        best_val_loss = checkpoint['loss']\n",
    "        \n",
    "        print(f\"Loaded checkpoint from epoch {epoch+1} with validation loss {best_val_loss}\")\n",
    "        \n",
    "        return epoch, best_val_loss\n",
    "    except KeyError as e:\n",
    "        print(f\"Error: Checkpoint file is missing expected data: {e}\")\n",
    "        print(f\"Available keys in checkpoint: {checkpoint.keys()}\")\n",
    "        return None, None"
   ]
  },
  {
   "cell_type": "code",
   "execution_count": 20,
   "id": "c7ff64e9",
   "metadata": {
    "ExecuteTime": {
     "end_time": "2024-10-15T15:07:53.235969Z",
     "start_time": "2024-10-15T15:07:53.227459Z"
    },
    "execution": {
     "iopub.execute_input": "2024-10-16T19:34:10.134157Z",
     "iopub.status.busy": "2024-10-16T19:34:10.133860Z",
     "iopub.status.idle": "2024-10-16T19:34:10.140924Z",
     "shell.execute_reply": "2024-10-16T19:34:10.140052Z"
    },
    "papermill": {
     "duration": 0.021163,
     "end_time": "2024-10-16T19:34:10.142879",
     "exception": false,
     "start_time": "2024-10-16T19:34:10.121716",
     "status": "completed"
    },
    "tags": []
   },
   "outputs": [],
   "source": [
    "def plot_roc_curve(y_true, y_scores):\n",
    "    fpr, tpr, thresholds = roc_curve(y_true, y_scores)\n",
    "    roc_auc = auc(fpr, tpr)\n",
    "    plt.figure()\n",
    "    plt.plot(fpr, tpr, color='darkorange', lw=2, label='ROC curve (area = %0.2f)' % roc_auc)\n",
    "    plt.plot([0, 1], [0, 1], color='navy', lw=2, linestyle='--')\n",
    "    plt.xlim([0.0, 1.0])\n",
    "    plt.ylim([0.0, 1.05])\n",
    "    plt.xlabel('False Positive Rate')\n",
    "    plt.ylabel('True Positive Rate')\n",
    "    plt.title('Receiver Operating Characteristic')\n",
    "    plt.legend(loc='lower right')\n",
    "    plt.savefig(os.path.join(FIGURES_DIR, 'roc_curve.png'))\n",
    "    plt.show()\n",
    "    plt.close()"
   ]
  },
  {
   "cell_type": "code",
   "execution_count": 21,
   "id": "96e887be",
   "metadata": {
    "ExecuteTime": {
     "end_time": "2024-10-15T15:07:53.598335Z",
     "start_time": "2024-10-15T15:07:53.594214Z"
    },
    "execution": {
     "iopub.execute_input": "2024-10-16T19:34:10.166211Z",
     "iopub.status.busy": "2024-10-16T19:34:10.165649Z",
     "iopub.status.idle": "2024-10-16T19:34:10.170756Z",
     "shell.execute_reply": "2024-10-16T19:34:10.169979Z"
    },
    "papermill": {
     "duration": 0.018699,
     "end_time": "2024-10-16T19:34:10.172591",
     "exception": false,
     "start_time": "2024-10-16T19:34:10.153892",
     "status": "completed"
    },
    "tags": []
   },
   "outputs": [],
   "source": [
    "def plot_confusion_matrix(y_true, y_pred):\n",
    "    cm = confusion_matrix(y_true, y_pred)\n",
    "    disp = ConfusionMatrixDisplay(confusion_matrix=cm)\n",
    "    disp.plot(cmap=plt.cm.Blues)\n",
    "    plt.title('Confusion Matrix')\n",
    "    plt.savefig(os.path.join(FIGURES_DIR, 'confusion_matrix.png'))\n",
    "    plt.show()\n",
    "    plt.close()"
   ]
  },
  {
   "cell_type": "code",
   "execution_count": 22,
   "id": "d8901c42",
   "metadata": {
    "ExecuteTime": {
     "end_time": "2024-10-15T15:07:53.657149Z",
     "start_time": "2024-10-15T15:07:53.651664Z"
    },
    "execution": {
     "iopub.execute_input": "2024-10-16T19:34:10.195839Z",
     "iopub.status.busy": "2024-10-16T19:34:10.195307Z",
     "iopub.status.idle": "2024-10-16T19:34:10.200309Z",
     "shell.execute_reply": "2024-10-16T19:34:10.199432Z"
    },
    "papermill": {
     "duration": 0.018398,
     "end_time": "2024-10-16T19:34:10.202177",
     "exception": false,
     "start_time": "2024-10-16T19:34:10.183779",
     "status": "completed"
    },
    "tags": []
   },
   "outputs": [],
   "source": [
    "def save_final_model(model, optimizer, scheduler, final_model_path):\n",
    "    torch.save({\n",
    "        'model_state_dict': model.state_dict(),\n",
    "        'optimizer_state_dict': optimizer.state_dict(),\n",
    "        'scheduler_state_dict': scheduler.state_dict(),\n",
    "    }, final_model_path)\n",
    "    print(f\"Final model saved to {final_model_path}\")"
   ]
  },
  {
   "cell_type": "code",
   "execution_count": 23,
   "id": "578ebc4b",
   "metadata": {
    "ExecuteTime": {
     "end_time": "2024-10-15T15:07:53.997995Z",
     "start_time": "2024-10-15T15:07:53.983343Z"
    },
    "execution": {
     "iopub.execute_input": "2024-10-16T19:34:10.225524Z",
     "iopub.status.busy": "2024-10-16T19:34:10.225227Z",
     "iopub.status.idle": "2024-10-16T19:34:10.234574Z",
     "shell.execute_reply": "2024-10-16T19:34:10.233719Z"
    },
    "papermill": {
     "duration": 0.023348,
     "end_time": "2024-10-16T19:34:10.236549",
     "exception": false,
     "start_time": "2024-10-16T19:34:10.213201",
     "status": "completed"
    },
    "tags": []
   },
   "outputs": [],
   "source": [
    "def evaluate(model, test_loader, device, criterion):\n",
    "    model.to(device)\n",
    "    model.eval()\n",
    "    correct = 0\n",
    "    total = 0\n",
    "    all_labels = []\n",
    "    all_predictions = []\n",
    "    all_scores = []\n",
    "    test_loss = 0\n",
    "\n",
    "    with torch.no_grad():\n",
    "        for image, label in test_loader:\n",
    "            image, label = image.to(device), label.to(device)\n",
    "            \n",
    "            output = model(image).squeeze()\n",
    "            label = label.reshape(-1)\n",
    "            \n",
    "            loss = criterion(output, label)\n",
    "            test_loss += loss.item()\n",
    "            \n",
    "            predicted_label = (output > 0.5).float()\n",
    "            total += label.size(0)\n",
    "            correct += (predicted_label == label).sum().item()\n",
    "            \n",
    "            all_labels.extend(label.cpu().numpy())\n",
    "            all_predictions.extend(predicted_label.cpu().numpy())\n",
    "            all_scores.extend(output.cpu().numpy())\n",
    "\n",
    "    accuracy = 100 * correct / total\n",
    "    avg_loss = test_loss / len(test_loader)\n",
    "    print(f'Test Accuracy: {accuracy:.4f}%')\n",
    "    print(f'Test Loss: {avg_loss:.4f}')\n",
    "    \n",
    "    plot_roc_curve(np.array(all_labels), np.array(all_scores))\n",
    "    plot_confusion_matrix(np.array(all_labels), np.array(all_predictions))\n",
    "\n",
    "    return accuracy, avg_loss"
   ]
  },
  {
   "cell_type": "markdown",
   "id": "4ed26699",
   "metadata": {
    "papermill": {
     "duration": 0.010639,
     "end_time": "2024-10-16T19:34:10.258165",
     "exception": false,
     "start_time": "2024-10-16T19:34:10.247526",
     "status": "completed"
    },
    "tags": []
   },
   "source": [
    "# Main"
   ]
  },
  {
   "cell_type": "code",
   "execution_count": 24,
   "id": "95dc8dbd",
   "metadata": {
    "execution": {
     "iopub.execute_input": "2024-10-16T19:34:10.281545Z",
     "iopub.status.busy": "2024-10-16T19:34:10.281249Z",
     "iopub.status.idle": "2024-10-16T22:44:46.662546Z",
     "shell.execute_reply": "2024-10-16T22:44:46.661343Z"
    },
    "papermill": {
     "duration": 11436.395632,
     "end_time": "2024-10-16T22:44:46.664625",
     "exception": false,
     "start_time": "2024-10-16T19:34:10.268993",
     "status": "completed"
    },
    "tags": []
   },
   "outputs": [
    {
     "name": "stdout",
     "output_type": "stream",
     "text": [
      "No checkpoints found.\n",
      "Epoch 1: Loss: 0.6583, Accuracy: 56.2764%\n",
      "Validation Loss: 0.6121, Validation Accuracy: 59.8248%\n",
      "Checkpoint saved: /kaggle/working/RSNA-ResNet50/checkpoints/checkpoint_epoch_1.pth\n",
      "Epoch 2: Loss: 0.6083, Accuracy: 62.2478%\n",
      "Validation Loss: 0.5773, Validation Accuracy: 64.9699%\n",
      "Checkpoint saved: /kaggle/working/RSNA-ResNet50/checkpoints/checkpoint_epoch_2.pth\n",
      "Epoch 3: Loss: 0.5673, Accuracy: 65.9667%\n",
      "Validation Loss: 0.6071, Validation Accuracy: 66.9951%\n",
      "Epoch 4: Loss: 0.5249, Accuracy: 69.1107%\n",
      "Validation Loss: 0.5841, Validation Accuracy: 68.4182%\n",
      "Epoch 5: Loss: 0.4693, Accuracy: 72.6889%\n",
      "Validation Loss: 0.5795, Validation Accuracy: 67.4330%\n",
      "Epoch 6: Loss: 0.4085, Accuracy: 76.2201%\n",
      "Validation Loss: 0.6955, Validation Accuracy: 65.9004%\n",
      "Epoch 7: Loss: 0.3495, Accuracy: 79.2586%\n",
      "Validation Loss: 0.7946, Validation Accuracy: 64.7510%\n",
      "Epoch 8: Loss: 0.3210, Accuracy: 80.5373%\n",
      "Validation Loss: 0.7783, Validation Accuracy: 69.0203%\n",
      "Epoch 9: Loss: 0.2919, Accuracy: 81.1356%\n",
      "Validation Loss: 0.9078, Validation Accuracy: 65.4625%\n",
      "Epoch 10: Loss: 0.2893, Accuracy: 81.7574%\n",
      "Validation Loss: 0.9568, Validation Accuracy: 67.8161%\n",
      "Epoch 11: Loss: 0.2697, Accuracy: 83.1065%\n",
      "Validation Loss: 1.1569, Validation Accuracy: 60.4269%\n",
      "Epoch 12: Loss: 0.2571, Accuracy: 83.0479%\n",
      "Validation Loss: 0.9556, Validation Accuracy: 67.4877%\n",
      "Epoch 13: Loss: 0.2850, Accuracy: 81.8278%\n",
      "Validation Loss: 0.9266, Validation Accuracy: 68.8560%\n",
      "Epoch 14: Loss: 0.2723, Accuracy: 82.5903%\n",
      "Validation Loss: 0.9131, Validation Accuracy: 68.6918%\n",
      "Epoch 15: Loss: 0.2321, Accuracy: 84.1976%\n",
      "Validation Loss: 0.8841, Validation Accuracy: 69.5676%\n",
      "Epoch 16: Loss: 0.2240, Accuracy: 83.9277%\n",
      "Validation Loss: 0.9242, Validation Accuracy: 68.3634%\n",
      "Epoch 17: Loss: 0.2180, Accuracy: 84.5026%\n",
      "Validation Loss: 0.9856, Validation Accuracy: 69.5676%\n",
      "Epoch 18: Loss: 0.2245, Accuracy: 84.0920%\n",
      "Validation Loss: 0.9906, Validation Accuracy: 69.8960%\n",
      "Epoch 19: Loss: 0.2119, Accuracy: 84.9836%\n",
      "Validation Loss: 1.0722, Validation Accuracy: 69.2392%\n",
      "Epoch 20: Loss: 0.2113, Accuracy: 85.0422%\n",
      "Validation Loss: 1.0754, Validation Accuracy: 67.5424%\n",
      "Epoch 21: Loss: 0.2212, Accuracy: 84.4908%\n",
      "Validation Loss: 1.0762, Validation Accuracy: 70.4433%\n",
      "Epoch 22: Loss: 0.2214, Accuracy: 83.9981%\n",
      "Validation Loss: 1.1394, Validation Accuracy: 67.4877%\n",
      "Epoch 23: Loss: 0.2188, Accuracy: 84.4205%\n",
      "Validation Loss: 1.0842, Validation Accuracy: 69.4034%\n",
      "Epoch 24: Loss: 0.2128, Accuracy: 84.8545%\n",
      "Validation Loss: 1.0846, Validation Accuracy: 69.3487%\n",
      "Epoch 25: Loss: 0.2126, Accuracy: 84.7137%\n",
      "Validation Loss: 1.0907, Validation Accuracy: 69.5676%\n",
      "Epoch 26: Loss: 0.2084, Accuracy: 85.2182%\n",
      "Validation Loss: 1.1371, Validation Accuracy: 69.9507%\n",
      "Epoch 27: Loss: 0.2131, Accuracy: 84.7959%\n",
      "Validation Loss: 1.1031, Validation Accuracy: 69.5676%\n",
      "Epoch 28: Loss: 0.2156, Accuracy: 84.6434%\n",
      "Validation Loss: 1.0951, Validation Accuracy: 69.7318%\n",
      "Epoch 29: Loss: 0.2132, Accuracy: 84.5026%\n",
      "Validation Loss: 1.1041, Validation Accuracy: 70.0055%\n",
      "Epoch 30: Loss: 0.2153, Accuracy: 84.4205%\n",
      "Validation Loss: 1.1382, Validation Accuracy: 69.4034%\n",
      "Epoch 31: Loss: 0.2068, Accuracy: 84.9953%\n",
      "Validation Loss: 1.1136, Validation Accuracy: 70.1149%\n",
      "Epoch 32: Loss: 0.2110, Accuracy: 84.6668%\n",
      "Validation Loss: 1.1144, Validation Accuracy: 69.7318%\n",
      "Epoch 33: Loss: 0.2225, Accuracy: 83.5289%\n",
      "Validation Loss: 1.1387, Validation Accuracy: 69.9507%\n",
      "Epoch 34: Loss: 0.2144, Accuracy: 84.6903%\n",
      "Validation Loss: 1.1095, Validation Accuracy: 69.9507%\n",
      "Epoch 35: Loss: 0.2076, Accuracy: 85.0774%\n",
      "Validation Loss: 1.1115, Validation Accuracy: 69.9507%\n",
      "Epoch 36: Loss: 0.2088, Accuracy: 85.2182%\n",
      "Validation Loss: 1.1362, Validation Accuracy: 69.5676%\n",
      "Epoch 37: Loss: 0.2142, Accuracy: 84.8663%\n",
      "Validation Loss: 1.1185, Validation Accuracy: 69.9507%\n",
      "Epoch 38: Loss: 0.2066, Accuracy: 85.0657%\n",
      "Validation Loss: 1.1258, Validation Accuracy: 70.3886%\n",
      "Epoch 39: Loss: 0.2190, Accuracy: 84.4674%\n",
      "Validation Loss: 1.1292, Validation Accuracy: 70.2791%\n",
      "Epoch 40: Loss: 0.2075, Accuracy: 85.3003%\n",
      "Validation Loss: 1.1359, Validation Accuracy: 69.6771%\n",
      "Epoch 41: Loss: 0.2128, Accuracy: 84.4322%\n",
      "Validation Loss: 1.1232, Validation Accuracy: 70.1149%\n",
      "Epoch 42: Loss: 0.2168, Accuracy: 84.2445%\n",
      "Validation Loss: 1.1304, Validation Accuracy: 69.7318%\n",
      "Epoch 43: Loss: 0.2185, Accuracy: 84.4322%\n",
      "Validation Loss: 1.1483, Validation Accuracy: 70.2244%\n",
      "Epoch 44: Loss: 0.2099, Accuracy: 85.1244%\n",
      "Validation Loss: 1.1491, Validation Accuracy: 70.2244%\n",
      "Epoch 45: Loss: 0.2126, Accuracy: 84.9132%\n",
      "Validation Loss: 1.1161, Validation Accuracy: 69.8960%\n",
      "Epoch 46: Loss: 0.2074, Accuracy: 85.2065%\n",
      "Validation Loss: 1.1299, Validation Accuracy: 69.9507%\n",
      "Epoch 47: Loss: 0.2140, Accuracy: 84.8897%\n",
      "Validation Loss: 1.1195, Validation Accuracy: 70.1697%\n",
      "Epoch 48: Loss: 0.2074, Accuracy: 85.7227%\n",
      "Validation Loss: 1.1178, Validation Accuracy: 70.2244%\n",
      "Epoch 49: Loss: 0.2177, Accuracy: 84.1741%\n",
      "Validation Loss: 1.1355, Validation Accuracy: 70.2244%\n",
      "Epoch 50: Loss: 0.2119, Accuracy: 85.1595%\n",
      "Validation Loss: 1.1568, Validation Accuracy: 70.2791%\n"
     ]
    }
   ],
   "source": [
    "loaded_epoch, loaded_best_val_loss = load_best_checkpoint(model, optimizer, scheduler, CHECKPOINTS_DIR)\n",
    "\n",
    "if loaded_epoch is not None:\n",
    "    start_epoch = loaded_epoch + 1\n",
    "    best_val_loss = loaded_best_val_loss\n",
    "else:\n",
    "    start_epoch = 0\n",
    "    best_val_loss = float('inf')\n",
    "\n",
    "for epoch in range(start_epoch, NUM_EPOCHS):\n",
    "    train_loader = dataloader_manager.train_loader\n",
    "    validate_loader = dataloader_manager.validate_loader\n",
    "    \n",
    "    train_loss = train(model, train_loader, criterion, optimizer, scheduler, device)\n",
    "    val_loss = validate(model, validate_loader, criterion, device)\n",
    "    \n",
    "    if val_loss < best_val_loss:\n",
    "        save_checkpoint(model, optimizer, scheduler, epoch, val_loss)\n",
    "        best_val_loss = val_loss"
   ]
  },
  {
   "cell_type": "code",
   "execution_count": 25,
   "id": "fabdcb01",
   "metadata": {
    "ExecuteTime": {
     "end_time": "2024-10-15T15:18:44.867379Z",
     "start_time": "2024-10-15T15:17:49.586291Z"
    },
    "execution": {
     "iopub.execute_input": "2024-10-16T22:44:46.705255Z",
     "iopub.status.busy": "2024-10-16T22:44:46.704324Z",
     "iopub.status.idle": "2024-10-16T22:45:06.804305Z",
     "shell.execute_reply": "2024-10-16T22:45:06.803172Z"
    },
    "papermill": {
     "duration": 20.122194,
     "end_time": "2024-10-16T22:45:06.806330",
     "exception": false,
     "start_time": "2024-10-16T22:44:46.684136",
     "status": "completed"
    },
    "tags": []
   },
   "outputs": [
    {
     "name": "stdout",
     "output_type": "stream",
     "text": [
      "Test Accuracy: 68.6918%\n",
      "Test Loss: 1.2213\n"
     ]
    },
    {
     "data": {
      "image/png": "[encoded data removed]",
      "text/plain": [
       "<Figure size 640x480 with 1 Axes>"
      ]
     },
     "metadata": {},
     "output_type": "display_data"
    },
    {
     "data": {
      "image/png": "[encoded data removed]",
      "text/plain": [
       "<Figure size 640x480 with 2 Axes>"
      ]
     },
     "metadata": {},
     "output_type": "display_data"
    },
    {
     "name": "stdout",
     "output_type": "stream",
     "text": [
      "Final model saved to /kaggle/working/RSNA-ResNet50/checkpoints/final_model.pth\n"
     ]
    }
   ],
   "source": [
    "test_loader = dataloader_manager.test_loader\n",
    "accuracy, test_loss = evaluate(model, test_loader, device, criterion)\n",
    "\n",
    "final_model_path = os.path.join(CHECKPOINTS_DIR, 'final_model.pth')\n",
    "save_final_model(model, optimizer, scheduler, final_model_path)"
   ]
  }
 ],
 "metadata": {
  "kaggle": {
   "accelerator": "gpu",
   "dataSources": [
    {
     "datasetId": 5854070,
     "sourceId": 9623727,
     "sourceType": "datasetVersion"
    },
    {
     "datasetId": 5705276,
     "sourceId": 9624923,
     "sourceType": "datasetVersion"
    }
   ],
   "dockerImageVersionId": 30787,
   "isGpuEnabled": true,
   "isInternetEnabled": true,
   "language": "python",
   "sourceType": "notebook"
  },
  "kernelspec": {
   "display_name": "Python 3",
   "language": "python",
   "name": "python3"
  },
  "language_info": {
   "codemirror_mode": {
    "name": "ipython",
    "version": 3
   },
   "file_extension": ".py",
   "mimetype": "text/x-python",
   "name": "python",
   "nbconvert_exporter": "python",
   "pygments_lexer": "ipython3",
   "version": "3.10.14"
  },
  "papermill": {
   "default_parameters": {},
   "duration": 11499.199259,
   "end_time": "2024-10-16T22:45:09.205181",
   "environment_variables": {},
   "exception": null,
   "input_path": "__notebook__.ipynb",
   "output_path": "__notebook__.ipynb",
   "parameters": {},
   "start_time": "2024-10-16T19:33:30.005922",
   "version": "2.6.0"
  }
 },
 "nbformat": 4,
 "nbformat_minor": 5
}
