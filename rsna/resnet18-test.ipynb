{
 "cells": [
  {
   "cell_type": "code",
   "execution_count": 1,
   "id": "5a9128ec",
   "metadata": {
    "ExecuteTime": {
     "end_time": "2024-10-15T15:07:46.081006Z",
     "start_time": "2024-10-15T15:07:41.005714Z"
    },
    "_cell_guid": "b1076dfc-b9ad-4769-8c92-a6c4dae69d19",
    "_uuid": "8f2839f25d086af736a60e9eeb907d3b93b6e0e5",
    "execution": {
     "iopub.execute_input": "2024-10-22T10:43:37.018684Z",
     "iopub.status.busy": "2024-10-22T10:43:37.018378Z",
     "iopub.status.idle": "2024-10-22T10:43:44.052202Z",
     "shell.execute_reply": "2024-10-22T10:43:44.051283Z"
    },
    "papermill": {
     "duration": 7.047336,
     "end_time": "2024-10-22T10:43:44.054545",
     "exception": false,
     "start_time": "2024-10-22T10:43:37.007209",
     "status": "completed"
    },
    "tags": []
   },
   "outputs": [],
   "source": [
    "# Standard library imports\n",
    "import os\n",
    "import zipfile\n",
    "\n",
    "# Third-party imports\n",
    "import cv2\n",
    "import matplotlib.pyplot as plt\n",
    "import numpy as np\n",
    "import pandas as pd\n",
    "import pydicom\n",
    "\n",
    "# PyTorch imports\n",
    "import torch\n",
    "import torch.nn as nn\n",
    "import torch.optim as optim\n",
    "from torch.optim.lr_scheduler import ReduceLROnPlateau\n",
    "from torch.utils.data import Dataset, DataLoader, Subset\n",
    "\n",
    "from sklearn.model_selection import train_test_split\n",
    "from sklearn.metrics import confusion_matrix, ConfusionMatrixDisplay, roc_curve, auc\n",
    "\n",
    "# Torchvision imports\n",
    "from torchvision import transforms, models\n",
    "from torchvision.models import ResNet18_Weights"
   ]
  },
  {
   "cell_type": "code",
   "execution_count": 2,
   "id": "117bf972",
   "metadata": {
    "ExecuteTime": {
     "end_time": "2024-10-15T15:07:46.497429Z",
     "start_time": "2024-10-15T15:07:46.096325Z"
    },
    "execution": {
     "iopub.execute_input": "2024-10-22T10:43:44.075705Z",
     "iopub.status.busy": "2024-10-22T10:43:44.075225Z",
     "iopub.status.idle": "2024-10-22T10:43:44.157399Z",
     "shell.execute_reply": "2024-10-22T10:43:44.156306Z"
    },
    "papermill": {
     "duration": 0.094282,
     "end_time": "2024-10-22T10:43:44.159433",
     "exception": false,
     "start_time": "2024-10-22T10:43:44.065151",
     "status": "completed"
    },
    "tags": []
   },
   "outputs": [
    {
     "name": "stdout",
     "output_type": "stream",
     "text": [
      "GPUs Available: 1\n",
      "- Tesla P100-PCIE-16GB\n"
     ]
    }
   ],
   "source": [
    "if torch.cuda.is_available():\n",
    "    print(f\"GPUs Available: {torch.cuda.device_count()}\")\n",
    "    for i in range(torch.cuda.device_count()):\n",
    "        print(f\"- {torch.cuda.get_device_name(i)}\")\n",
    "else:\n",
    "    print(\"No GPUs available.\")"
   ]
  },
  {
   "cell_type": "markdown",
   "id": "69fb0d42",
   "metadata": {
    "papermill": {
     "duration": 0.008925,
     "end_time": "2024-10-22T10:43:44.177694",
     "exception": false,
     "start_time": "2024-10-22T10:43:44.168769",
     "status": "completed"
    },
    "tags": []
   },
   "source": [
    "# Local"
   ]
  },
  {
   "cell_type": "code",
   "execution_count": 3,
   "id": "953568fc",
   "metadata": {
    "ExecuteTime": {
     "end_time": "2024-10-15T15:07:47.108742Z",
     "start_time": "2024-10-15T15:07:46.826869Z"
    },
    "execution": {
     "iopub.execute_input": "2024-10-22T10:43:44.197374Z",
     "iopub.status.busy": "2024-10-22T10:43:44.196743Z",
     "iopub.status.idle": "2024-10-22T10:43:44.201598Z",
     "shell.execute_reply": "2024-10-22T10:43:44.200756Z"
    },
    "papermill": {
     "duration": 0.016778,
     "end_time": "2024-10-22T10:43:44.203546",
     "exception": false,
     "start_time": "2024-10-22T10:43:44.186768",
     "status": "completed"
    },
    "tags": []
   },
   "outputs": [],
   "source": [
    "# ## Dataset and Directory Configuration\n",
    "# DATASET_NAME = 'rsna-mil-training'\n",
    "# JOB_NAME = 'RSNA-ResNet18'\n",
    "# HPC_DIR = '/media02/tdhoang01/21127112-21127734/data'\n",
    "# OUTPUT_DIR = '/media02/tdhoang01/python-debugging/rsna/results'\n",
    "\n",
    "# ZIP_FILE_PATH = os.path.join(HPC_DIR, DATASET_NAME + '.zip')\n",
    "# CHECKPOINTS_DIR = os.path.join(OUTPUT_DIR, JOB_NAME, 'checkpoints')\n",
    "# FIGURES_DIR = os.path.join(OUTPUT_DIR, JOB_NAME, 'figures')\n",
    "# DICOM_DIR = f'{DATASET_NAME}/'\n",
    "\n",
    "# ## File Paths\n",
    "# CSV_PATH = f'{DATASET_NAME}/training_1000_scan_subset.csv'\n",
    "\n",
    "# ## Image Processing Parameters\n",
    "# MAX_SLICES = 60\n",
    "# HEIGHT = 224\n",
    "# WIDTH = 224\n",
    "\n",
    "# ## Training Hyperparameters\n",
    "# BATCH_PATIENTS = 4\n",
    "# NUM_EPOCHS = 2\n",
    "# LEARNING_RATE = 1e-4\n",
    "\n",
    "# ## Dataset Split Ratios\n",
    "# VAL_SIZE = 0.15\n",
    "# TEST_SIZE = 0.15\n",
    "\n",
    "# ## Create Necessary Directories\n",
    "# os.makedirs(CHECKPOINTS_DIR, exist_ok=True)\n",
    "# os.makedirs(FIGURES_DIR, exist_ok=True)\n",
    "\n",
    "# ## Load CSVs from zip\n",
    "# with zipfile.ZipFile(ZIP_FILE_PATH, 'r') as zip_ref:\n",
    "#     medical_scan_data = pd.read_csv(zip_ref.open(CSV_PATH))"
   ]
  },
  {
   "cell_type": "markdown",
   "id": "fe6c1da4",
   "metadata": {
    "papermill": {
     "duration": 0.008877,
     "end_time": "2024-10-22T10:43:44.221522",
     "exception": false,
     "start_time": "2024-10-22T10:43:44.212645",
     "status": "completed"
    },
    "tags": []
   },
   "source": [
    "# Kaggle"
   ]
  },
  {
   "cell_type": "code",
   "execution_count": 4,
   "id": "0ec30a2f",
   "metadata": {
    "ExecuteTime": {
     "end_time": "2024-10-15T15:07:47.136336Z",
     "start_time": "2024-10-15T15:07:47.132955Z"
    },
    "execution": {
     "iopub.execute_input": "2024-10-22T10:43:44.240968Z",
     "iopub.status.busy": "2024-10-22T10:43:44.240481Z",
     "iopub.status.idle": "2024-10-22T10:43:44.277915Z",
     "shell.execute_reply": "2024-10-22T10:43:44.277204Z"
    },
    "papermill": {
     "duration": 0.049328,
     "end_time": "2024-10-22T10:43:44.279849",
     "exception": false,
     "start_time": "2024-10-22T10:43:44.230521",
     "status": "completed"
    },
    "tags": []
   },
   "outputs": [],
   "source": [
    "# Configuration\n",
    "DATASET_NAME = 'rsna-mil-training'\n",
    "JOB_NAME = 'RSNA-ResNet18'\n",
    "INPUT_DIR = '/kaggle/input'\n",
    "OUTPUT_DIR = '/kaggle/working'\n",
    "\n",
    "# Directories\n",
    "CHECKPOINTS_DIR = os.path.join(OUTPUT_DIR, JOB_NAME, 'checkpoints')\n",
    "FIGURES_DIR = os.path.join(OUTPUT_DIR, JOB_NAME, 'figures')\n",
    "DICOM_DIR = os.path.join(INPUT_DIR, DATASET_NAME, DATASET_NAME)\n",
    "\n",
    "# File Paths\n",
    "CSV_PATH = f'{DICOM_DIR}/training_1000_scan_subset.csv'\n",
    "\n",
    "# Image Processing Parameters\n",
    "MAX_SLICES = 60\n",
    "HEIGHT = 512\n",
    "WIDTH = 512\n",
    "\n",
    "# Training Hyperparameters\n",
    "BATCH_PATIENTS = 128\n",
    "NUM_EPOCHS = 30\n",
    "LEARNING_RATE = 5e-4\n",
    "\n",
    "# Dataset Split Ratios\n",
    "VAL_SIZE = 0.15\n",
    "TEST_SIZE = 0.15\n",
    "\n",
    "# Create Necessary Directories\n",
    "os.makedirs(CHECKPOINTS_DIR, exist_ok=True)\n",
    "os.makedirs(FIGURES_DIR, exist_ok=True)\n",
    "\n",
    "# Load CSV from Kaggle environment (no need to unzip)\n",
    "medical_scan_data = pd.read_csv(CSV_PATH)"
   ]
  },
  {
   "cell_type": "code",
   "execution_count": 5,
   "id": "9f94affd",
   "metadata": {
    "ExecuteTime": {
     "end_time": "2024-10-15T15:07:47.212661Z",
     "start_time": "2024-10-15T15:07:47.197850Z"
    },
    "execution": {
     "iopub.execute_input": "2024-10-22T10:43:44.299736Z",
     "iopub.status.busy": "2024-10-22T10:43:44.299211Z",
     "iopub.status.idle": "2024-10-22T10:43:44.314804Z",
     "shell.execute_reply": "2024-10-22T10:43:44.314001Z"
    },
    "papermill": {
     "duration": 0.027405,
     "end_time": "2024-10-22T10:43:44.316745",
     "exception": false,
     "start_time": "2024-10-22T10:43:44.289340",
     "status": "completed"
    },
    "tags": []
   },
   "outputs": [
    {
     "data": {
      "text/html": [
       "<div>\n",
       "<style scoped>\n",
       "    .dataframe tbody tr th:only-of-type {\n",
       "        vertical-align: middle;\n",
       "    }\n",
       "\n",
       "    .dataframe tbody tr th {\n",
       "        vertical-align: top;\n",
       "    }\n",
       "\n",
       "    .dataframe thead th {\n",
       "        text-align: right;\n",
       "    }\n",
       "</style>\n",
       "<table border=\"1\" class=\"dataframe\">\n",
       "  <thead>\n",
       "    <tr style=\"text-align: right;\">\n",
       "      <th></th>\n",
       "      <th>patient_id</th>\n",
       "      <th>study_instance_uid</th>\n",
       "      <th>images</th>\n",
       "      <th>labels</th>\n",
       "      <th>patient_label</th>\n",
       "      <th>length</th>\n",
       "    </tr>\n",
       "  </thead>\n",
       "  <tbody>\n",
       "    <tr>\n",
       "      <th>0</th>\n",
       "      <td>ID_2e010e33</td>\n",
       "      <td>ID_bda0f47e84</td>\n",
       "      <td>['ID_b9035cb1e.dcm', 'ID_0713bed86.dcm', 'ID_5...</td>\n",
       "      <td>[0, 0, 0, 0, 0, 0, 0, 0, 0, 0, 0, 0, 0, 0, 0, ...</td>\n",
       "      <td>0</td>\n",
       "      <td>48</td>\n",
       "    </tr>\n",
       "  </tbody>\n",
       "</table>\n",
       "</div>"
      ],
      "text/plain": [
       "    patient_id study_instance_uid  \\\n",
       "0  ID_2e010e33      ID_bda0f47e84   \n",
       "\n",
       "                                              images  \\\n",
       "0  ['ID_b9035cb1e.dcm', 'ID_0713bed86.dcm', 'ID_5...   \n",
       "\n",
       "                                              labels  patient_label  length  \n",
       "0  [0, 0, 0, 0, 0, 0, 0, 0, 0, 0, 0, 0, 0, 0, 0, ...              0      48  "
      ]
     },
     "execution_count": 5,
     "metadata": {},
     "output_type": "execute_result"
    }
   ],
   "source": [
    "medical_scan_data.head(1)"
   ]
  },
  {
   "cell_type": "code",
   "execution_count": 6,
   "id": "7b0d1dad",
   "metadata": {
    "ExecuteTime": {
     "end_time": "2024-10-15T15:07:47.321026Z",
     "start_time": "2024-10-15T15:07:47.316594Z"
    },
    "execution": {
     "iopub.execute_input": "2024-10-22T10:43:44.336613Z",
     "iopub.status.busy": "2024-10-22T10:43:44.336159Z",
     "iopub.status.idle": "2024-10-22T10:43:44.341553Z",
     "shell.execute_reply": "2024-10-22T10:43:44.340788Z"
    },
    "papermill": {
     "duration": 0.017263,
     "end_time": "2024-10-22T10:43:44.343496",
     "exception": false,
     "start_time": "2024-10-22T10:43:44.326233",
     "status": "completed"
    },
    "tags": []
   },
   "outputs": [
    {
     "data": {
      "text/plain": [
       "Index(['patient_id', 'study_instance_uid', 'images', 'labels', 'patient_label',\n",
       "       'length'],\n",
       "      dtype='object')"
      ]
     },
     "execution_count": 6,
     "metadata": {},
     "output_type": "execute_result"
    }
   ],
   "source": [
    "medical_scan_data.columns"
   ]
  },
  {
   "cell_type": "markdown",
   "id": "7d805f1e",
   "metadata": {
    "papermill": {
     "duration": 0.009273,
     "end_time": "2024-10-22T10:43:44.362081",
     "exception": false,
     "start_time": "2024-10-22T10:43:44.352808",
     "status": "completed"
    },
    "tags": []
   },
   "source": [
    "# Local dataset gen."
   ]
  },
  {
   "cell_type": "markdown",
   "id": "6fe87da0",
   "metadata": {
    "papermill": {
     "duration": 0.009166,
     "end_time": "2024-10-22T10:43:44.380733",
     "exception": false,
     "start_time": "2024-10-22T10:43:44.371567",
     "status": "completed"
    },
    "tags": []
   },
   "source": [
    "# Kaggle dataset gen."
   ]
  },
  {
   "cell_type": "code",
   "execution_count": 7,
   "id": "4d385fe1",
   "metadata": {
    "execution": {
     "iopub.execute_input": "2024-10-22T10:43:44.401127Z",
     "iopub.status.busy": "2024-10-22T10:43:44.400833Z",
     "iopub.status.idle": "2024-10-22T10:45:04.446745Z",
     "shell.execute_reply": "2024-10-22T10:45:04.445854Z"
    },
    "papermill": {
     "duration": 80.067684,
     "end_time": "2024-10-22T10:45:04.457887",
     "exception": false,
     "start_time": "2024-10-22T10:43:44.390203",
     "status": "completed"
    },
    "tags": []
   },
   "outputs": [
    {
     "name": "stdout",
     "output_type": "stream",
     "text": [
      "Initial Label Distribution: Counter({0: 28408, 1: 6089})\n",
      "Balanced Label Distribution: Counter({1: 6089, 0: 6089})\n"
     ]
    }
   ],
   "source": [
    "import random\n",
    "from collections import Counter\n",
    "\n",
    "class DatasetGenerator(Dataset):\n",
    "    def __init__(self, dicom_dir, medical_scan_data, max_slices, height, width, balance_dataset=False):\n",
    "        self.dicom_dir = dicom_dir\n",
    "        self.medical_scan_data = self._parse_medical_scan_data(medical_scan_data)\n",
    "        self.max_slices = max_slices\n",
    "        self.height = height\n",
    "        self.width = width\n",
    "        self.channels = 3\n",
    "        self.dicom_paths, self.all_labels = self._get_dicom_paths_and_labels()\n",
    "        \n",
    "        if balance_dataset:\n",
    "            self._balance_dataset()\n",
    "        \n",
    "        self.transform = transforms.Compose([transforms.Resize((self.height, self.width))])\n",
    "\n",
    "    def __len__(self):\n",
    "        return len(self.dicom_paths)\n",
    "\n",
    "    def __getitem__(self, idx):\n",
    "        dicom_file, label = self.dicom_paths[idx], self.all_labels[idx]\n",
    "        images = self._process_dicom_file(dicom_file)\n",
    "        labels = torch.tensor(label, dtype=torch.float32)\n",
    "        return images, labels\n",
    "\n",
    "    def _parse_medical_scan_data(self, medical_scan_data):\n",
    "        medical_scan_data['images'] = medical_scan_data['images'].apply(lambda x: eval(x) if isinstance(x, str) else x)\n",
    "        medical_scan_data['labels'] = medical_scan_data['labels'].apply(lambda x: eval(x) if isinstance(x, str) else x)\n",
    "        return medical_scan_data\n",
    "\n",
    "    def _get_dicom_paths_and_labels(self):\n",
    "        dicom_paths = []\n",
    "        labels = []\n",
    "\n",
    "        for _, row in self.medical_scan_data.iterrows():\n",
    "            patient_id = row['patient_id'].replace(\"ID_\", \"\")\n",
    "            study_instance_uid = row['study_instance_uid'].replace(\"ID_\", \"\")\n",
    "            dicom_dir_path = os.path.join(self.dicom_dir, f\"{patient_id}_{study_instance_uid}\")\n",
    "\n",
    "            if os.path.exists(dicom_dir_path):\n",
    "                for image, label in zip(row['images'], row['labels']):\n",
    "                    dicom_file_path = os.path.join(dicom_dir_path, image)\n",
    "                    if os.path.exists(dicom_file_path):\n",
    "                        dicom_paths.append(dicom_file_path)\n",
    "                        labels.append(label)\n",
    "            else:\n",
    "                print(f\"DICOM directory does not exist: {dicom_dir_path}\")\n",
    "\n",
    "        return dicom_paths, labels\n",
    "\n",
    "    def _balance_dataset(self):\n",
    "        # Count occurrences of each label\n",
    "        label_counter = Counter(self.all_labels)\n",
    "        print(f\"Initial Label Distribution: {label_counter}\")\n",
    "\n",
    "        # Find the minority class count\n",
    "        min_class_count = min(label_counter[0], label_counter[1])\n",
    "\n",
    "        # Separate DICOM paths and labels into two groups (keeping pairs together)\n",
    "        dicom_pairs_0 = [(path, label) for path, label in zip(self.dicom_paths, self.all_labels) if label == 0]\n",
    "        dicom_pairs_1 = [(path, label) for path, label in zip(self.dicom_paths, self.all_labels) if label == 1]\n",
    "\n",
    "        # Undersample the majority class\n",
    "        random.shuffle(dicom_pairs_0)\n",
    "        random.shuffle(dicom_pairs_1)\n",
    "\n",
    "        dicom_pairs_0 = dicom_pairs_0[:min_class_count]\n",
    "        dicom_pairs_1 = dicom_pairs_1[:min_class_count]\n",
    "\n",
    "        # Combine the balanced pairs\n",
    "        balanced_pairs = dicom_pairs_0 + dicom_pairs_1\n",
    "\n",
    "        # Shuffle the dataset to mix 0s and 1s while keeping the image-label pairs together\n",
    "        random.shuffle(balanced_pairs)\n",
    "\n",
    "        # Separate the paths and labels again after shuffling\n",
    "        self.dicom_paths, self.all_labels = zip(*balanced_pairs)\n",
    "\n",
    "        # Print the new balanced distribution\n",
    "        print(f\"Balanced Label Distribution: {Counter(self.all_labels)}\")\n",
    "        \n",
    "    def plot_label_distribution(self, title=\"Label Distribution\"):\n",
    "        # Count occurrences of each label\n",
    "        label_counter = Counter(self.all_labels)\n",
    "        labels, counts = zip(*label_counter.items())\n",
    "\n",
    "        # Plot the label distribution\n",
    "        plt.bar(labels, counts, color=['blue', 'orange'])\n",
    "        plt.xlabel('Labels')\n",
    "        plt.ylabel('Count')\n",
    "        plt.title(title)\n",
    "        plt.xticks([0, 1], ['Class 0', 'Class 1'])\n",
    "        plt.show()\n",
    "\n",
    "    def _process_dicom_file(self, dicom_file):\n",
    "        dicom = pydicom.dcmread(dicom_file)\n",
    "        img = self._preprocess_slice(dicom)\n",
    "        images = torch.from_numpy(img).float()\n",
    "        return images\n",
    "\n",
    "    def _preprocess_slice(self, dicom):\n",
    "        bsb_img = self._bsb_window(dicom)\n",
    "        return bsb_img.astype(np.float16)\n",
    "\n",
    "    def _bsb_window(self, dcm):\n",
    "        brain_img = self._window_image(dcm, 40, 80)\n",
    "        subdural_img = self._window_image(dcm, 80, 200)\n",
    "        soft_img = self._window_image(dcm, 40, 380)\n",
    "\n",
    "        brain_img_normalized = (brain_img - 0) / 80\n",
    "        subdural_img_normalized = (subdural_img - (-20)) / 200\n",
    "        soft_img_normalized = (soft_img - (-150)) / 380\n",
    "\n",
    "        bsb_img = np.stack([brain_img_normalized, subdural_img_normalized, soft_img_normalized], axis=0)\n",
    "        \n",
    "        return bsb_img\n",
    "\n",
    "    def _window_image(self, dcm, window_center, window_width):\n",
    "        img = dcm.pixel_array * dcm.RescaleSlope + dcm.RescaleIntercept\n",
    "        img_min = window_center - window_width // 2\n",
    "        img_max = window_center + window_width // 2\n",
    "        img = np.clip(img, img_min, img_max)\n",
    "        img_resized = cv2.resize(img, (self.height, self.width), interpolation=cv2.INTER_LINEAR)\n",
    "        return img_resized\n",
    "\n",
    "dataset = DatasetGenerator(\n",
    "    dicom_dir=DICOM_DIR,\n",
    "    medical_scan_data=medical_scan_data,\n",
    "    max_slices=MAX_SLICES,\n",
    "    height=HEIGHT,\n",
    "    width=WIDTH,\n",
    "    balance_dataset=True\n",
    ")"
   ]
  },
  {
   "cell_type": "code",
   "execution_count": 8,
   "id": "4555667d",
   "metadata": {
    "execution": {
     "iopub.execute_input": "2024-10-22T10:45:04.478274Z",
     "iopub.status.busy": "2024-10-22T10:45:04.477939Z",
     "iopub.status.idle": "2024-10-22T10:45:04.617976Z",
     "shell.execute_reply": "2024-10-22T10:45:04.616732Z"
    },
    "papermill": {
     "duration": 0.152584,
     "end_time": "2024-10-22T10:45:04.620193",
     "exception": false,
     "start_time": "2024-10-22T10:45:04.467609",
     "status": "completed"
    },
    "tags": []
   },
   "outputs": [
    {
     "name": "stdout",
     "output_type": "stream",
     "text": [
      "Shape of image tensor: torch.Size([3, 512, 512])\n",
      "Label: tensor(1.)\n"
     ]
    }
   ],
   "source": [
    "images, labels = dataset[0]\n",
    "print(\"Shape of image tensor:\", images.shape)\n",
    "print(\"Label:\", labels)"
   ]
  },
  {
   "cell_type": "code",
   "execution_count": 9,
   "id": "2d9860f2",
   "metadata": {
    "execution": {
     "iopub.execute_input": "2024-10-22T10:45:04.641192Z",
     "iopub.status.busy": "2024-10-22T10:45:04.640558Z",
     "iopub.status.idle": "2024-10-22T10:45:04.645488Z",
     "shell.execute_reply": "2024-10-22T10:45:04.644562Z"
    },
    "papermill": {
     "duration": 0.017506,
     "end_time": "2024-10-22T10:45:04.647514",
     "exception": false,
     "start_time": "2024-10-22T10:45:04.630008",
     "status": "completed"
    },
    "tags": []
   },
   "outputs": [
    {
     "name": "stdout",
     "output_type": "stream",
     "text": [
      "12178\n"
     ]
    }
   ],
   "source": [
    "print(len(dataset))"
   ]
  },
  {
   "cell_type": "code",
   "execution_count": 10,
   "id": "3d731698",
   "metadata": {
    "execution": {
     "iopub.execute_input": "2024-10-22T10:45:04.668976Z",
     "iopub.status.busy": "2024-10-22T10:45:04.668321Z",
     "iopub.status.idle": "2024-10-22T10:45:04.915409Z",
     "shell.execute_reply": "2024-10-22T10:45:04.914405Z"
    },
    "papermill": {
     "duration": 0.259481,
     "end_time": "2024-10-22T10:45:04.917278",
     "exception": false,
     "start_time": "2024-10-22T10:45:04.657797",
     "status": "completed"
    },
    "tags": []
   },
   "outputs": [
    {
     "data": {
      "image/png": "[encoded data removed]",
      "text/plain": [
       "<Figure size 640x480 with 1 Axes>"
      ]
     },
     "metadata": {},
     "output_type": "display_data"
    }
   ],
   "source": [
    "dataset.plot_label_distribution(\"Balanced Label Distribution\")"
   ]
  },
  {
   "cell_type": "markdown",
   "id": "36162fd0",
   "metadata": {
    "papermill": {
     "duration": 0.009705,
     "end_time": "2024-10-22T10:45:04.937094",
     "exception": false,
     "start_time": "2024-10-22T10:45:04.927389",
     "status": "completed"
    },
    "tags": []
   },
   "source": [
    "# Dataloader"
   ]
  },
  {
   "cell_type": "code",
   "execution_count": 11,
   "id": "2f8e0958",
   "metadata": {
    "ExecuteTime": {
     "end_time": "2024-10-15T15:07:51.439856Z",
     "start_time": "2024-10-15T15:07:51.432637Z"
    },
    "execution": {
     "iopub.execute_input": "2024-10-22T10:45:04.958087Z",
     "iopub.status.busy": "2024-10-22T10:45:04.957777Z",
     "iopub.status.idle": "2024-10-22T10:45:04.968774Z",
     "shell.execute_reply": "2024-10-22T10:45:04.967953Z"
    },
    "papermill": {
     "duration": 0.023677,
     "end_time": "2024-10-22T10:45:04.970671",
     "exception": false,
     "start_time": "2024-10-22T10:45:04.946994",
     "status": "completed"
    },
    "tags": []
   },
   "outputs": [],
   "source": [
    "class DataloaderManager:\n",
    "    def __init__(self, dataset, val_size, test_size, batch_size, num_workers=4):\n",
    "        self.dataset = dataset\n",
    "        self.val_size = val_size\n",
    "        self.test_size = test_size\n",
    "        self.batch_size = batch_size\n",
    "        self.num_workers = num_workers\n",
    "        \n",
    "        self._create_loaders()\n",
    "        self.print_lengths()\n",
    "\n",
    "    def _get_labels(self):\n",
    "        return self.dataset.all_labels\n",
    "\n",
    "    def _split_indices(self):\n",
    "        labels = self._get_labels()\n",
    "        total_size = len(labels)\n",
    "        indices = np.arange(total_size)\n",
    "\n",
    "        # Split into train+val and test sets first\n",
    "        train_val_indices, test_indices = train_test_split(\n",
    "            indices,\n",
    "            test_size=self.test_size,\n",
    "            stratify=labels,\n",
    "            random_state=42\n",
    "        )\n",
    "\n",
    "        # Now split the remaining data into train and validation sets\n",
    "        val_relative_size = self.val_size / (1 - self.test_size)\n",
    "        train_indices, val_indices = train_test_split(\n",
    "            train_val_indices,\n",
    "            test_size=val_relative_size,\n",
    "            stratify=np.array(labels)[train_val_indices],\n",
    "            random_state=42\n",
    "        )\n",
    "\n",
    "        return train_indices, val_indices, test_indices\n",
    "\n",
    "    def _create_dataloader(self, indices, shuffle):\n",
    "        return DataLoader(\n",
    "            Subset(self.dataset, indices),\n",
    "            batch_size=self.batch_size,\n",
    "            shuffle=shuffle,\n",
    "            num_workers=self.num_workers,\n",
    "            pin_memory=True\n",
    "        )\n",
    "\n",
    "    def _create_loaders(self):\n",
    "        train_indices, val_indices, test_indices = self._split_indices()\n",
    "        \n",
    "        self.train_loader = self._create_dataloader(train_indices, shuffle=True)\n",
    "        self.validate_loader = self._create_dataloader(val_indices, shuffle=False)\n",
    "        self.test_loader = self._create_dataloader(test_indices, shuffle=False)\n",
    "\n",
    "    def print_lengths(self):\n",
    "        print(f\"Length of training dataset: {len(self.train_loader.dataset)}\")\n",
    "        print(f\"Length of validation dataset: {len(self.validate_loader.dataset)}\")\n",
    "        print(f\"Length of testing dataset: {len(self.test_loader.dataset)}\")"
   ]
  },
  {
   "cell_type": "code",
   "execution_count": 12,
   "id": "22204b96",
   "metadata": {
    "execution": {
     "iopub.execute_input": "2024-10-22T10:45:04.991749Z",
     "iopub.status.busy": "2024-10-22T10:45:04.991199Z",
     "iopub.status.idle": "2024-10-22T10:45:05.008356Z",
     "shell.execute_reply": "2024-10-22T10:45:05.007449Z"
    },
    "papermill": {
     "duration": 0.029845,
     "end_time": "2024-10-22T10:45:05.010338",
     "exception": false,
     "start_time": "2024-10-22T10:45:04.980493",
     "status": "completed"
    },
    "tags": []
   },
   "outputs": [
    {
     "name": "stdout",
     "output_type": "stream",
     "text": [
      "Length of training dataset: 8524\n",
      "Length of validation dataset: 1827\n",
      "Length of testing dataset: 1827\n"
     ]
    }
   ],
   "source": [
    "dataloader_manager = DataloaderManager(dataset, val_size=VAL_SIZE, test_size=TEST_SIZE, batch_size=BATCH_PATIENTS)"
   ]
  },
  {
   "cell_type": "markdown",
   "id": "7f4f6702",
   "metadata": {
    "papermill": {
     "duration": 0.009767,
     "end_time": "2024-10-22T10:45:05.030013",
     "exception": false,
     "start_time": "2024-10-22T10:45:05.020246",
     "status": "completed"
    },
    "tags": []
   },
   "source": [
    "# Model configurations"
   ]
  },
  {
   "cell_type": "code",
   "execution_count": 13,
   "id": "a5fe260d",
   "metadata": {
    "ExecuteTime": {
     "end_time": "2024-10-15T15:07:52.586835Z",
     "start_time": "2024-10-15T15:07:51.642585Z"
    },
    "execution": {
     "iopub.execute_input": "2024-10-22T10:45:05.051493Z",
     "iopub.status.busy": "2024-10-22T10:45:05.050908Z",
     "iopub.status.idle": "2024-10-22T10:45:05.778980Z",
     "shell.execute_reply": "2024-10-22T10:45:05.778106Z"
    },
    "papermill": {
     "duration": 0.741332,
     "end_time": "2024-10-22T10:45:05.781318",
     "exception": false,
     "start_time": "2024-10-22T10:45:05.039986",
     "status": "completed"
    },
    "tags": []
   },
   "outputs": [
    {
     "name": "stderr",
     "output_type": "stream",
     "text": [
      "Downloading: \"https://download.pytorch.org/models/resnet18-f37072fd.pth\" to /root/.cache/torch/hub/checkpoints/resnet18-f37072fd.pth\n",
      "100%|██████████| 44.7M/44.7M [00:00<00:00, 173MB/s]\n"
     ]
    }
   ],
   "source": [
    "# 2. Model Definition\n",
    "class ResNet18(nn.Module):\n",
    "    def __init__(self, num_classes=1):\n",
    "        super(ResNet18, self).__init__()\n",
    "        self.resnet = models.resnet18(weights=ResNet18_Weights.DEFAULT)\n",
    "        self.resnet.fc = nn.Linear(self.resnet.fc.in_features, num_classes)\n",
    "        self.dropout = nn.Dropout(p=0.3)  # Add dropout layer\n",
    "\n",
    "    def forward(self, x):\n",
    "        batch_slices, channels, height, width = x.size()\n",
    "        return self.dropout(self.resnet(x))\n",
    "        \n",
    "device = torch.device(\"cuda\" if torch.cuda.is_available() else \"cpu\")\n",
    "model = ResNet18().to(device)"
   ]
  },
  {
   "cell_type": "code",
   "execution_count": 14,
   "id": "40b0d298",
   "metadata": {
    "ExecuteTime": {
     "end_time": "2024-10-15T15:07:52.616483Z",
     "start_time": "2024-10-15T15:07:52.612038Z"
    },
    "execution": {
     "iopub.execute_input": "2024-10-22T10:45:05.804379Z",
     "iopub.status.busy": "2024-10-22T10:45:05.803725Z",
     "iopub.status.idle": "2024-10-22T10:45:05.810140Z",
     "shell.execute_reply": "2024-10-22T10:45:05.809280Z"
    },
    "papermill": {
     "duration": 0.019712,
     "end_time": "2024-10-22T10:45:05.811994",
     "exception": false,
     "start_time": "2024-10-22T10:45:05.792282",
     "status": "completed"
    },
    "tags": []
   },
   "outputs": [],
   "source": [
    "# 3. Loss and Optimizer\n",
    "criterion = nn.BCEWithLogitsLoss()\n",
    "optimizer = optim.Adam(model.parameters(), lr=LEARNING_RATE)\n",
    "scheduler = ReduceLROnPlateau(optimizer, mode='min', factor=0.5, patience=1)\n",
    "\n",
    "# mode: Monitors 'min' or 'max' changes in metrics.\n",
    "# factor: The multiplicative factor for reducing the learning rate. \n",
    "##  If the current learning rate is 0.01 and factor=0.5, the new learning rate will be 0.01 * 0.5 = 0.005\n",
    "# patience: Number of epochs to wait for improvement before reducing the learning rate."
   ]
  },
  {
   "cell_type": "code",
   "execution_count": 15,
   "id": "d8fd4717",
   "metadata": {
    "ExecuteTime": {
     "end_time": "2024-10-15T15:07:52.680223Z",
     "start_time": "2024-10-15T15:07:52.670633Z"
    },
    "execution": {
     "iopub.execute_input": "2024-10-22T10:45:05.834596Z",
     "iopub.status.busy": "2024-10-22T10:45:05.834286Z",
     "iopub.status.idle": "2024-10-22T10:45:05.843105Z",
     "shell.execute_reply": "2024-10-22T10:45:05.842297Z"
    },
    "papermill": {
     "duration": 0.02245,
     "end_time": "2024-10-22T10:45:05.845092",
     "exception": false,
     "start_time": "2024-10-22T10:45:05.822642",
     "status": "completed"
    },
    "tags": []
   },
   "outputs": [],
   "source": [
    "def train(model, train_loader, criterion, optimizer, scheduler, device):\n",
    "    model.train()\n",
    "\n",
    "    running_loss = 0.0\n",
    "    correct = 0\n",
    "    total = 0\n",
    "\n",
    "    for batch_idx, (image, label) in enumerate(train_loader):\n",
    "        image, label = image.to(device), label.to(device)\n",
    "\n",
    "        # Forward pass\n",
    "        optimizer.zero_grad()\n",
    "        output = model(image).squeeze()\n",
    "        label = label.reshape(-1)\n",
    "        \n",
    "        loss = criterion(output, label)\n",
    "\n",
    "        # Backward pass and optimization\n",
    "        loss.backward()\n",
    "        optimizer.step()\n",
    "\n",
    "        # Track loss\n",
    "        running_loss += loss.item()\n",
    "\n",
    "        # Calculate accuracy\n",
    "        predicted_label = (output > 0.5).float()\n",
    "        total += label.size(0)\n",
    "        correct += (predicted_label == label).sum().item()\n",
    "\n",
    "    # Calculate average loss and accuracy for the epoch\n",
    "    epoch_loss = running_loss / len(train_loader)\n",
    "    accuracy = 100 * correct / total\n",
    "\n",
    "    print(f'Epoch {epoch+1}: Loss: {epoch_loss:.4f}, Accuracy: {accuracy:.4f}%')\n",
    "\n",
    "    scheduler.step(epoch_loss)\n",
    "    return epoch_loss"
   ]
  },
  {
   "cell_type": "code",
   "execution_count": 16,
   "id": "d8cd3f87",
   "metadata": {
    "ExecuteTime": {
     "end_time": "2024-10-15T15:07:52.742433Z",
     "start_time": "2024-10-15T15:07:52.734550Z"
    },
    "execution": {
     "iopub.execute_input": "2024-10-22T10:45:05.867817Z",
     "iopub.status.busy": "2024-10-22T10:45:05.867189Z",
     "iopub.status.idle": "2024-10-22T10:45:05.874412Z",
     "shell.execute_reply": "2024-10-22T10:45:05.873577Z"
    },
    "papermill": {
     "duration": 0.020317,
     "end_time": "2024-10-22T10:45:05.876205",
     "exception": false,
     "start_time": "2024-10-22T10:45:05.855888",
     "status": "completed"
    },
    "tags": []
   },
   "outputs": [],
   "source": [
    "def validate(model, validate_loader, criterion, device):\n",
    "    model.eval()\n",
    "    running_loss = 0.0\n",
    "    correct = 0\n",
    "    total = 0\n",
    "    \n",
    "    with torch.no_grad():\n",
    "        for batch_idx, (image, label) in enumerate(validate_loader):\n",
    "            image, label = image.to(device), label.to(device)\n",
    "            \n",
    "            # Forward pass\n",
    "            output = model(image).squeeze()\n",
    "            label = label.reshape(-1)\n",
    "            \n",
    "            loss = criterion(output, label)\n",
    "            running_loss += loss.item()\n",
    "            \n",
    "            # Calculate accuracy\n",
    "            predicted_label = (output > 0.5).float()\n",
    "            total += label.size(0)\n",
    "            correct += (predicted_label == label).sum().item()\n",
    "    \n",
    "    # Calculate average loss and accuracy for validation\n",
    "    val_loss = running_loss / len(validate_loader)\n",
    "    accuracy = 100 * correct / total\n",
    "    \n",
    "    print(f'Validation Loss: {val_loss:.4f}, Validation Accuracy: {accuracy:.4f}%')\n",
    "    \n",
    "    return val_loss"
   ]
  },
  {
   "cell_type": "code",
   "execution_count": 17,
   "id": "ea7f85fc",
   "metadata": {
    "ExecuteTime": {
     "end_time": "2024-10-15T15:07:52.801793Z",
     "start_time": "2024-10-15T15:07:52.796322Z"
    },
    "execution": {
     "iopub.execute_input": "2024-10-22T10:45:05.899010Z",
     "iopub.status.busy": "2024-10-22T10:45:05.898394Z",
     "iopub.status.idle": "2024-10-22T10:45:05.903595Z",
     "shell.execute_reply": "2024-10-22T10:45:05.902801Z"
    },
    "papermill": {
     "duration": 0.018564,
     "end_time": "2024-10-22T10:45:05.905500",
     "exception": false,
     "start_time": "2024-10-22T10:45:05.886936",
     "status": "completed"
    },
    "tags": []
   },
   "outputs": [],
   "source": [
    "def save_checkpoint(model, optimizer, scheduler, epoch, loss):\n",
    "    checkpoint_path = os.path.join(CHECKPOINTS_DIR, f'checkpoint_epoch_{epoch+1}.pth')    \n",
    "    torch.save({\n",
    "        'epoch': epoch,\n",
    "        'model_state_dict': model.state_dict(),\n",
    "        'optimizer_state_dict': optimizer.state_dict(),\n",
    "        'scheduler_state_dict': scheduler.state_dict(),\n",
    "        'loss': loss\n",
    "    }, checkpoint_path)\n",
    "    print(f\"Checkpoint saved: {checkpoint_path}\")"
   ]
  },
  {
   "cell_type": "code",
   "execution_count": 18,
   "id": "ec19048f",
   "metadata": {
    "ExecuteTime": {
     "end_time": "2024-10-15T15:07:53.165742Z",
     "start_time": "2024-10-15T15:07:53.159773Z"
    },
    "execution": {
     "iopub.execute_input": "2024-10-22T10:45:05.927878Z",
     "iopub.status.busy": "2024-10-22T10:45:05.927248Z",
     "iopub.status.idle": "2024-10-22T10:45:05.935880Z",
     "shell.execute_reply": "2024-10-22T10:45:05.935078Z"
    },
    "papermill": {
     "duration": 0.021794,
     "end_time": "2024-10-22T10:45:05.937797",
     "exception": false,
     "start_time": "2024-10-22T10:45:05.916003",
     "status": "completed"
    },
    "tags": []
   },
   "outputs": [],
   "source": [
    "def load_best_checkpoint(model, optimizer, scheduler, checkpoint_dir):\n",
    "    checkpoint_files = [f for f in os.listdir(checkpoint_dir) if f.startswith('checkpoint_epoch_') and f.endswith('.pth')]\n",
    "    if not checkpoint_files:\n",
    "        print(\"No checkpoints found.\")\n",
    "        return None, None\n",
    "\n",
    "    best_checkpoint = min(checkpoint_files, key=lambda x: float(x.split('_')[-1].split('.')[0]))\n",
    "    checkpoint_path = os.path.join(checkpoint_dir, best_checkpoint)\n",
    "    \n",
    "    try:\n",
    "        checkpoint = torch.load(checkpoint_path, map_location=torch.device(device), weights_only=True)\n",
    "    except RuntimeError as e:\n",
    "        print(f\"Error loading checkpoint: {e}\")\n",
    "        print(f\"Checkpoint file: {checkpoint_path}\")\n",
    "        print(f\"File size: {os.path.getsize(checkpoint_path)} bytes\")\n",
    "        return None, None\n",
    "\n",
    "    try:\n",
    "        model.load_state_dict(checkpoint['model_state_dict'])\n",
    "        optimizer.load_state_dict(checkpoint['optimizer_state_dict'])\n",
    "        scheduler.load_state_dict(checkpoint['scheduler_state_dict'])\n",
    "        \n",
    "        epoch = checkpoint['epoch']\n",
    "        best_val_loss = checkpoint['loss']\n",
    "        \n",
    "        print(f\"Loaded checkpoint from epoch {epoch+1} with validation loss {best_val_loss}\")\n",
    "        \n",
    "        return epoch, best_val_loss\n",
    "    except KeyError as e:\n",
    "        print(f\"Error: Checkpoint file is missing expected data: {e}\")\n",
    "        print(f\"Available keys in checkpoint: {checkpoint.keys()}\")\n",
    "        return None, None"
   ]
  },
  {
   "cell_type": "code",
   "execution_count": 19,
   "id": "9e4a854f",
   "metadata": {
    "ExecuteTime": {
     "end_time": "2024-10-15T15:07:53.235969Z",
     "start_time": "2024-10-15T15:07:53.227459Z"
    },
    "execution": {
     "iopub.execute_input": "2024-10-22T10:45:05.960223Z",
     "iopub.status.busy": "2024-10-22T10:45:05.959714Z",
     "iopub.status.idle": "2024-10-22T10:45:05.966628Z",
     "shell.execute_reply": "2024-10-22T10:45:05.965925Z"
    },
    "papermill": {
     "duration": 0.02003,
     "end_time": "2024-10-22T10:45:05.968479",
     "exception": false,
     "start_time": "2024-10-22T10:45:05.948449",
     "status": "completed"
    },
    "tags": []
   },
   "outputs": [],
   "source": [
    "def plot_roc_curve(y_true, y_scores):\n",
    "    fpr, tpr, thresholds = roc_curve(y_true, y_scores)\n",
    "    roc_auc = auc(fpr, tpr)\n",
    "    plt.figure()\n",
    "    plt.plot(fpr, tpr, color='darkorange', lw=2, label='ROC curve (area = %0.2f)' % roc_auc)\n",
    "    plt.plot([0, 1], [0, 1], color='navy', lw=2, linestyle='--')\n",
    "    plt.xlim([0.0, 1.0])\n",
    "    plt.ylim([0.0, 1.05])\n",
    "    plt.xlabel('False Positive Rate')\n",
    "    plt.ylabel('True Positive Rate')\n",
    "    plt.title('Receiver Operating Characteristic')\n",
    "    plt.legend(loc='lower right')\n",
    "    plt.savefig(os.path.join(FIGURES_DIR, 'roc_curve.png'))\n",
    "    plt.show()\n",
    "    plt.close()"
   ]
  },
  {
   "cell_type": "code",
   "execution_count": 20,
   "id": "f11d96ba",
   "metadata": {
    "ExecuteTime": {
     "end_time": "2024-10-15T15:07:53.598335Z",
     "start_time": "2024-10-15T15:07:53.594214Z"
    },
    "execution": {
     "iopub.execute_input": "2024-10-22T10:45:05.990350Z",
     "iopub.status.busy": "2024-10-22T10:45:05.990063Z",
     "iopub.status.idle": "2024-10-22T10:45:05.995019Z",
     "shell.execute_reply": "2024-10-22T10:45:05.994226Z"
    },
    "papermill": {
     "duration": 0.017873,
     "end_time": "2024-10-22T10:45:05.996795",
     "exception": false,
     "start_time": "2024-10-22T10:45:05.978922",
     "status": "completed"
    },
    "tags": []
   },
   "outputs": [],
   "source": [
    "def plot_confusion_matrix(y_true, y_pred):\n",
    "    cm = confusion_matrix(y_true, y_pred)\n",
    "    disp = ConfusionMatrixDisplay(confusion_matrix=cm)\n",
    "    disp.plot(cmap=plt.cm.Blues)\n",
    "    plt.title('Confusion Matrix')\n",
    "    plt.savefig(os.path.join(FIGURES_DIR, 'confusion_matrix.png'))\n",
    "    plt.show()\n",
    "    plt.close()"
   ]
  },
  {
   "cell_type": "code",
   "execution_count": 21,
   "id": "b855585e",
   "metadata": {
    "ExecuteTime": {
     "end_time": "2024-10-15T15:07:53.657149Z",
     "start_time": "2024-10-15T15:07:53.651664Z"
    },
    "execution": {
     "iopub.execute_input": "2024-10-22T10:45:06.019205Z",
     "iopub.status.busy": "2024-10-22T10:45:06.018595Z",
     "iopub.status.idle": "2024-10-22T10:45:06.023129Z",
     "shell.execute_reply": "2024-10-22T10:45:06.022416Z"
    },
    "papermill": {
     "duration": 0.017589,
     "end_time": "2024-10-22T10:45:06.024969",
     "exception": false,
     "start_time": "2024-10-22T10:45:06.007380",
     "status": "completed"
    },
    "tags": []
   },
   "outputs": [],
   "source": [
    "def save_final_model(model, optimizer, scheduler, final_model_path):\n",
    "    torch.save({\n",
    "        'model_state_dict': model.state_dict(),\n",
    "        'optimizer_state_dict': optimizer.state_dict(),\n",
    "        'scheduler_state_dict': scheduler.state_dict(),\n",
    "    }, final_model_path)\n",
    "    print(f\"Final model saved to {final_model_path}\")"
   ]
  },
  {
   "cell_type": "code",
   "execution_count": 22,
   "id": "cd4dd5ad",
   "metadata": {
    "ExecuteTime": {
     "end_time": "2024-10-15T15:07:53.997995Z",
     "start_time": "2024-10-15T15:07:53.983343Z"
    },
    "execution": {
     "iopub.execute_input": "2024-10-22T10:45:06.047127Z",
     "iopub.status.busy": "2024-10-22T10:45:06.046657Z",
     "iopub.status.idle": "2024-10-22T10:45:06.055343Z",
     "shell.execute_reply": "2024-10-22T10:45:06.054646Z"
    },
    "papermill": {
     "duration": 0.021653,
     "end_time": "2024-10-22T10:45:06.057083",
     "exception": false,
     "start_time": "2024-10-22T10:45:06.035430",
     "status": "completed"
    },
    "tags": []
   },
   "outputs": [],
   "source": [
    "def evaluate(model, test_loader, device, criterion):\n",
    "    model.to(device)\n",
    "    model.eval()\n",
    "    correct = 0\n",
    "    total = 0\n",
    "    all_labels = []\n",
    "    all_predictions = []\n",
    "    all_scores = []\n",
    "    test_loss = 0\n",
    "\n",
    "    with torch.no_grad():\n",
    "        for image, label in test_loader:\n",
    "            image, label = image.to(device), label.to(device)\n",
    "            \n",
    "            output = model(image).squeeze()\n",
    "            label = label.reshape(-1)\n",
    "            \n",
    "            loss = criterion(output, label)\n",
    "            test_loss += loss.item()\n",
    "            \n",
    "            predicted_label = (output > 0.5).float()\n",
    "            total += label.size(0)\n",
    "            correct += (predicted_label == label).sum().item()\n",
    "            \n",
    "            all_labels.extend(label.cpu().numpy())\n",
    "            all_predictions.extend(predicted_label.cpu().numpy())\n",
    "            all_scores.extend(output.cpu().numpy())\n",
    "\n",
    "    accuracy = 100 * correct / total\n",
    "    avg_loss = test_loss / len(test_loader)\n",
    "    print(f'Test Accuracy: {accuracy:.4f}%')\n",
    "    print(f'Test Loss: {avg_loss:.4f}')\n",
    "    \n",
    "    plot_roc_curve(np.array(all_labels), np.array(all_scores))\n",
    "    plot_confusion_matrix(np.array(all_labels), np.array(all_predictions))\n",
    "\n",
    "    return accuracy, avg_loss"
   ]
  },
  {
   "cell_type": "markdown",
   "id": "31da59bf",
   "metadata": {
    "papermill": {
     "duration": 0.010215,
     "end_time": "2024-10-22T10:45:06.077771",
     "exception": false,
     "start_time": "2024-10-22T10:45:06.067556",
     "status": "completed"
    },
    "tags": []
   },
   "source": [
    "# Main"
   ]
  },
  {
   "cell_type": "markdown",
   "id": "5f0a7e2e",
   "metadata": {
    "papermill": {
     "duration": 0.010278,
     "end_time": "2024-10-22T10:45:06.098523",
     "exception": false,
     "start_time": "2024-10-22T10:45:06.088245",
     "status": "completed"
    },
    "tags": []
   },
   "source": [
    "## Train result"
   ]
  },
  {
   "cell_type": "code",
   "execution_count": 23,
   "id": "844c2493",
   "metadata": {
    "execution": {
     "iopub.execute_input": "2024-10-22T10:45:06.122030Z",
     "iopub.status.busy": "2024-10-22T10:45:06.121486Z",
     "iopub.status.idle": "2024-10-22T11:32:04.321012Z",
     "shell.execute_reply": "2024-10-22T11:32:04.319724Z"
    },
    "papermill": {
     "duration": 2818.213265,
     "end_time": "2024-10-22T11:32:04.323221",
     "exception": false,
     "start_time": "2024-10-22T10:45:06.109956",
     "status": "completed"
    },
    "tags": []
   },
   "outputs": [
    {
     "name": "stdout",
     "output_type": "stream",
     "text": [
      "No checkpoints found.\n",
      "Epoch 1: Loss: 0.5290, Accuracy: 68.4069%\n",
      "Validation Loss: 0.4909, Validation Accuracy: 67.3782%\n",
      "Checkpoint saved: /kaggle/working/RSNA-ResNet18/checkpoints/checkpoint_epoch_1.pth\n",
      "Epoch 2: Loss: 0.4581, Accuracy: 72.5950%\n",
      "Validation Loss: 0.4285, Validation Accuracy: 74.6579%\n",
      "Checkpoint saved: /kaggle/working/RSNA-ResNet18/checkpoints/checkpoint_epoch_2.pth\n",
      "Epoch 3: Loss: 0.4207, Accuracy: 75.0352%\n",
      "Validation Loss: 0.3415, Validation Accuracy: 83.5249%\n",
      "Checkpoint saved: /kaggle/working/RSNA-ResNet18/checkpoints/checkpoint_epoch_3.pth\n",
      "Epoch 4: Loss: 0.4013, Accuracy: 76.6307%\n",
      "Validation Loss: 0.3271, Validation Accuracy: 86.0974%\n",
      "Checkpoint saved: /kaggle/working/RSNA-ResNet18/checkpoints/checkpoint_epoch_4.pth\n",
      "Epoch 5: Loss: 0.3661, Accuracy: 78.4491%\n",
      "Validation Loss: 0.3794, Validation Accuracy: 85.1669%\n",
      "Epoch 6: Loss: 0.3354, Accuracy: 79.4463%\n",
      "Validation Loss: 0.3432, Validation Accuracy: 84.6196%\n",
      "Epoch 7: Loss: 0.3282, Accuracy: 80.1032%\n",
      "Validation Loss: 0.3746, Validation Accuracy: 82.4302%\n",
      "Epoch 8: Loss: 0.3056, Accuracy: 80.7133%\n",
      "Validation Loss: 0.5691, Validation Accuracy: 74.7674%\n",
      "Epoch 9: Loss: 0.2883, Accuracy: 81.5814%\n",
      "Validation Loss: 0.4456, Validation Accuracy: 85.2764%\n",
      "Epoch 10: Loss: 0.2665, Accuracy: 82.6959%\n",
      "Validation Loss: 0.3515, Validation Accuracy: 86.3164%\n",
      "Epoch 11: Loss: 0.2512, Accuracy: 83.4702%\n",
      "Validation Loss: 0.6232, Validation Accuracy: 80.8976%\n",
      "Epoch 12: Loss: 0.2440, Accuracy: 83.5758%\n",
      "Validation Loss: 0.3787, Validation Accuracy: 86.4258%\n",
      "Epoch 13: Loss: 0.2469, Accuracy: 83.4233%\n",
      "Validation Loss: 0.4608, Validation Accuracy: 85.3859%\n",
      "Epoch 14: Loss: 0.2427, Accuracy: 83.1300%\n",
      "Validation Loss: 0.3998, Validation Accuracy: 85.3311%\n",
      "Epoch 15: Loss: 0.2202, Accuracy: 84.2914%\n",
      "Validation Loss: 0.5912, Validation Accuracy: 84.5649%\n",
      "Epoch 16: Loss: 0.2260, Accuracy: 84.6903%\n",
      "Validation Loss: 0.3886, Validation Accuracy: 85.9332%\n",
      "Epoch 17: Loss: 0.2289, Accuracy: 84.0333%\n",
      "Validation Loss: 0.5022, Validation Accuracy: 85.4406%\n",
      "Epoch 18: Loss: 0.2105, Accuracy: 84.7489%\n",
      "Validation Loss: 0.3606, Validation Accuracy: 88.5057%\n",
      "Epoch 19: Loss: 0.2152, Accuracy: 84.6082%\n",
      "Validation Loss: 0.3829, Validation Accuracy: 87.8489%\n",
      "Epoch 20: Loss: 0.2138, Accuracy: 84.7959%\n",
      "Validation Loss: 0.3768, Validation Accuracy: 88.6700%\n",
      "Epoch 21: Loss: 0.2046, Accuracy: 85.9221%\n",
      "Validation Loss: 0.3763, Validation Accuracy: 88.9984%\n",
      "Epoch 22: Loss: 0.2042, Accuracy: 85.2651%\n",
      "Validation Loss: 0.3758, Validation Accuracy: 88.7794%\n",
      "Epoch 23: Loss: 0.2146, Accuracy: 84.7841%\n",
      "Validation Loss: 0.3873, Validation Accuracy: 88.7247%\n",
      "Epoch 24: Loss: 0.2162, Accuracy: 84.1506%\n",
      "Validation Loss: 0.3805, Validation Accuracy: 89.1626%\n",
      "Epoch 25: Loss: 0.2112, Accuracy: 84.8663%\n",
      "Validation Loss: 0.3837, Validation Accuracy: 88.7247%\n",
      "Epoch 26: Loss: 0.2114, Accuracy: 84.5612%\n",
      "Validation Loss: 0.3818, Validation Accuracy: 89.2720%\n",
      "Epoch 27: Loss: 0.2075, Accuracy: 85.2417%\n",
      "Validation Loss: 0.3863, Validation Accuracy: 88.8889%\n",
      "Epoch 28: Loss: 0.2051, Accuracy: 85.6288%\n",
      "Validation Loss: 0.3846, Validation Accuracy: 89.2173%\n",
      "Epoch 29: Loss: 0.2078, Accuracy: 84.9953%\n",
      "Validation Loss: 0.3858, Validation Accuracy: 88.7247%\n",
      "Epoch 30: Loss: 0.2083, Accuracy: 84.8780%\n",
      "Validation Loss: 0.3839, Validation Accuracy: 88.9984%\n"
     ]
    }
   ],
   "source": [
    "loaded_epoch, loaded_best_val_loss = load_best_checkpoint(model, optimizer, scheduler, CHECKPOINTS_DIR)\n",
    "\n",
    "if loaded_epoch is not None:\n",
    "    start_epoch = loaded_epoch + 1\n",
    "    best_val_loss = loaded_best_val_loss\n",
    "else:\n",
    "    start_epoch = 0\n",
    "    best_val_loss = float('inf')\n",
    "\n",
    "for epoch in range(start_epoch, NUM_EPOCHS):\n",
    "    train_loader = dataloader_manager.train_loader\n",
    "    validate_loader = dataloader_manager.validate_loader \n",
    "    \n",
    "    train_loss = train(model, train_loader, criterion, optimizer, scheduler, device)\n",
    "    val_loss = validate(model, validate_loader, criterion, device)\n",
    "    \n",
    "    if val_loss < best_val_loss:\n",
    "        save_checkpoint(model, optimizer, scheduler, epoch, val_loss)\n",
    "        best_val_loss = val_loss"
   ]
  },
  {
   "cell_type": "markdown",
   "id": "5133c853",
   "metadata": {
    "papermill": {
     "duration": 0.014887,
     "end_time": "2024-10-22T11:32:04.353785",
     "exception": false,
     "start_time": "2024-10-22T11:32:04.338898",
     "status": "completed"
    },
    "tags": []
   },
   "source": [
    "## Evaluate result"
   ]
  },
  {
   "cell_type": "code",
   "execution_count": 24,
   "id": "dcaa9e85",
   "metadata": {
    "ExecuteTime": {
     "end_time": "2024-10-15T15:18:44.867379Z",
     "start_time": "2024-10-15T15:17:49.586291Z"
    },
    "execution": {
     "iopub.execute_input": "2024-10-22T11:32:04.385956Z",
     "iopub.status.busy": "2024-10-22T11:32:04.385561Z",
     "iopub.status.idle": "2024-10-22T11:32:26.166373Z",
     "shell.execute_reply": "2024-10-22T11:32:26.165188Z"
    },
    "papermill": {
     "duration": 21.799527,
     "end_time": "2024-10-22T11:32:26.168381",
     "exception": false,
     "start_time": "2024-10-22T11:32:04.368854",
     "status": "completed"
    },
    "tags": []
   },
   "outputs": [
    {
     "name": "stdout",
     "output_type": "stream",
     "text": [
      "Test Accuracy: 88.9436%\n",
      "Test Loss: 0.3410\n"
     ]
    },
    {
     "data": {
      "image/png": "[encoded data removed]",
      "text/plain": [
       "<Figure size 640x480 with 1 Axes>"
      ]
     },
     "metadata": {},
     "output_type": "display_data"
    },
    {
     "data": {
      "image/png": "[encoded data removed]",
      "text/plain": [
       "<Figure size 640x480 with 2 Axes>"
      ]
     },
     "metadata": {},
     "output_type": "display_data"
    },
    {
     "name": "stdout",
     "output_type": "stream",
     "text": [
      "Final model saved to /kaggle/working/RSNA-ResNet18/checkpoints/final_model.pth\n"
     ]
    }
   ],
   "source": [
    "test_loader = dataloader_manager.test_loader\n",
    "accuracy, test_loss = evaluate(model, test_loader, device, criterion)\n",
    "\n",
    "final_model_path = os.path.join(CHECKPOINTS_DIR, 'final_model.pth')\n",
    "save_final_model(model, optimizer, scheduler, final_model_path)"
   ]
  }
 ],
 "metadata": {
  "kaggle": {
   "accelerator": "gpu",
   "dataSources": [
    {
     "datasetId": 5854070,
     "sourceId": 9651167,
     "sourceType": "datasetVersion"
    },
    {
     "datasetId": 5705276,
     "sourceId": 9652074,
     "sourceType": "datasetVersion"
    }
   ],
   "dockerImageVersionId": 30787,
   "isGpuEnabled": true,
   "isInternetEnabled": true,
   "language": "python",
   "sourceType": "notebook"
  },
  "kernelspec": {
   "display_name": "Python 3",
   "language": "python",
   "name": "python3"
  },
  "language_info": {
   "codemirror_mode": {
    "name": "ipython",
    "version": 3
   },
   "file_extension": ".py",
   "mimetype": "text/x-python",
   "name": "python",
   "nbconvert_exporter": "python",
   "pygments_lexer": "ipython3",
   "version": "3.10.14"
  },
  "papermill": {
   "default_parameters": {},
   "duration": 2935.055929,
   "end_time": "2024-10-22T11:32:29.394012",
   "environment_variables": {},
   "exception": null,
   "input_path": "__notebook__.ipynb",
   "output_path": "__notebook__.ipynb",
   "parameters": {},
   "start_time": "2024-10-22T10:43:34.338083",
   "version": "2.6.0"
  }
 },
 "nbformat": 4,
 "nbformat_minor": 5
}
