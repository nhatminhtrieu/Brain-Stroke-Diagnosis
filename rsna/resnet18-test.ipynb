{
 "cells": [
  {
   "cell_type": "code",
   "execution_count": 1,
   "id": "959696e6",
   "metadata": {
    "ExecuteTime": {
     "end_time": "2024-10-15T15:07:46.081006Z",
     "start_time": "2024-10-15T15:07:41.005714Z"
    },
    "_cell_guid": "b1076dfc-b9ad-4769-8c92-a6c4dae69d19",
    "_uuid": "8f2839f25d086af736a60e9eeb907d3b93b6e0e5",
    "execution": {
     "iopub.execute_input": "2024-10-21T19:30:09.699275Z",
     "iopub.status.busy": "2024-10-21T19:30:09.698914Z",
     "iopub.status.idle": "2024-10-21T19:30:20.512276Z",
     "shell.execute_reply": "2024-10-21T19:30:20.511299Z"
    },
    "papermill": {
     "duration": 10.827591,
     "end_time": "2024-10-21T19:30:20.514718",
     "exception": false,
     "start_time": "2024-10-21T19:30:09.687127",
     "status": "completed"
    },
    "tags": []
   },
   "outputs": [],
   "source": [
    "# Standard library imports\n",
    "import os\n",
    "import zipfile\n",
    "\n",
    "# Third-party imports\n",
    "import cv2\n",
    "import matplotlib.pyplot as plt\n",
    "import numpy as np\n",
    "import pandas as pd\n",
    "import pydicom\n",
    "\n",
    "# PyTorch imports\n",
    "import torch\n",
    "import torch.nn as nn\n",
    "import torch.optim as optim\n",
    "from torch.optim.lr_scheduler import ReduceLROnPlateau\n",
    "from torch.utils.data import Dataset, DataLoader, Subset\n",
    "\n",
    "from sklearn.model_selection import train_test_split\n",
    "from sklearn.metrics import confusion_matrix, ConfusionMatrixDisplay, roc_curve, auc\n",
    "\n",
    "# Torchvision imports\n",
    "from torchvision import transforms, models\n",
    "from torchvision.models import ResNet18_Weights"
   ]
  },
  {
   "cell_type": "code",
   "execution_count": 2,
   "id": "27221002",
   "metadata": {
    "ExecuteTime": {
     "end_time": "2024-10-15T15:07:46.497429Z",
     "start_time": "2024-10-15T15:07:46.096325Z"
    },
    "execution": {
     "iopub.execute_input": "2024-10-21T19:30:20.537525Z",
     "iopub.status.busy": "2024-10-21T19:30:20.537033Z",
     "iopub.status.idle": "2024-10-21T19:30:20.625686Z",
     "shell.execute_reply": "2024-10-21T19:30:20.624642Z"
    },
    "papermill": {
     "duration": 0.101545,
     "end_time": "2024-10-21T19:30:20.627785",
     "exception": false,
     "start_time": "2024-10-21T19:30:20.526240",
     "status": "completed"
    },
    "tags": []
   },
   "outputs": [
    {
     "name": "stdout",
     "output_type": "stream",
     "text": [
      "GPUs Available: 1\n",
      "- Tesla P100-PCIE-16GB\n"
     ]
    }
   ],
   "source": [
    "if torch.cuda.is_available():\n",
    "    print(f\"GPUs Available: {torch.cuda.device_count()}\")\n",
    "    for i in range(torch.cuda.device_count()):\n",
    "        print(f\"- {torch.cuda.get_device_name(i)}\")\n",
    "else:\n",
    "    print(\"No GPUs available.\")"
   ]
  },
  {
   "cell_type": "markdown",
   "id": "50a58185",
   "metadata": {
    "papermill": {
     "duration": 0.009775,
     "end_time": "2024-10-21T19:30:20.647612",
     "exception": false,
     "start_time": "2024-10-21T19:30:20.637837",
     "status": "completed"
    },
    "tags": []
   },
   "source": [
    "# Local"
   ]
  },
  {
   "cell_type": "code",
   "execution_count": 3,
   "id": "471d1aef",
   "metadata": {
    "ExecuteTime": {
     "end_time": "2024-10-15T15:07:47.108742Z",
     "start_time": "2024-10-15T15:07:46.826869Z"
    },
    "execution": {
     "iopub.execute_input": "2024-10-21T19:30:20.668488Z",
     "iopub.status.busy": "2024-10-21T19:30:20.668163Z",
     "iopub.status.idle": "2024-10-21T19:30:20.672878Z",
     "shell.execute_reply": "2024-10-21T19:30:20.672038Z"
    },
    "papermill": {
     "duration": 0.017208,
     "end_time": "2024-10-21T19:30:20.674680",
     "exception": false,
     "start_time": "2024-10-21T19:30:20.657472",
     "status": "completed"
    },
    "tags": []
   },
   "outputs": [],
   "source": [
    "# ## Dataset and Directory Configuration\n",
    "# DATASET_NAME = 'rsna-mil-training'\n",
    "# JOB_NAME = 'RSNA-ResNet18'\n",
    "# HPC_DIR = '/media02/tdhoang01/21127112-21127734/data'\n",
    "# OUTPUT_DIR = '/media02/tdhoang01/python-debugging/rsna/results'\n",
    "\n",
    "# ZIP_FILE_PATH = os.path.join(HPC_DIR, DATASET_NAME + '.zip')\n",
    "# CHECKPOINTS_DIR = os.path.join(OUTPUT_DIR, JOB_NAME, 'checkpoints')\n",
    "# FIGURES_DIR = os.path.join(OUTPUT_DIR, JOB_NAME, 'figures')\n",
    "# DICOM_DIR = f'{DATASET_NAME}/'\n",
    "\n",
    "# ## File Paths\n",
    "# CSV_PATH = f'{DATASET_NAME}/training_1000_scan_subset.csv'\n",
    "\n",
    "# ## Image Processing Parameters\n",
    "# MAX_SLICES = 60\n",
    "# HEIGHT = 224\n",
    "# WIDTH = 224\n",
    "\n",
    "# ## Training Hyperparameters\n",
    "# BATCH_PATIENTS = 4\n",
    "# NUM_EPOCHS = 2\n",
    "# LEARNING_RATE = 1e-4\n",
    "\n",
    "# ## Dataset Split Ratios\n",
    "# VAL_SIZE = 0.15\n",
    "# TEST_SIZE = 0.15\n",
    "\n",
    "# ## Create Necessary Directories\n",
    "# os.makedirs(CHECKPOINTS_DIR, exist_ok=True)\n",
    "# os.makedirs(FIGURES_DIR, exist_ok=True)\n",
    "\n",
    "# ## Load CSVs from zip\n",
    "# with zipfile.ZipFile(ZIP_FILE_PATH, 'r') as zip_ref:\n",
    "#     medical_scan_data = pd.read_csv(zip_ref.open(CSV_PATH))"
   ]
  },
  {
   "cell_type": "markdown",
   "id": "7cb61889",
   "metadata": {
    "papermill": {
     "duration": 0.009569,
     "end_time": "2024-10-21T19:30:20.694005",
     "exception": false,
     "start_time": "2024-10-21T19:30:20.684436",
     "status": "completed"
    },
    "tags": []
   },
   "source": [
    "# Kaggle"
   ]
  },
  {
   "cell_type": "code",
   "execution_count": 4,
   "id": "496735ab",
   "metadata": {
    "ExecuteTime": {
     "end_time": "2024-10-15T15:07:47.136336Z",
     "start_time": "2024-10-15T15:07:47.132955Z"
    },
    "execution": {
     "iopub.execute_input": "2024-10-21T19:30:20.714747Z",
     "iopub.status.busy": "2024-10-21T19:30:20.714481Z",
     "iopub.status.idle": "2024-10-21T19:30:20.764286Z",
     "shell.execute_reply": "2024-10-21T19:30:20.763515Z"
    },
    "papermill": {
     "duration": 0.062477,
     "end_time": "2024-10-21T19:30:20.766258",
     "exception": false,
     "start_time": "2024-10-21T19:30:20.703781",
     "status": "completed"
    },
    "tags": []
   },
   "outputs": [],
   "source": [
    "# Configuration\n",
    "DATASET_NAME = 'rsna-mil-training'\n",
    "NUM_PATIENTS = 1000 if 'mil' in DATASET_NAME else 50 if 'cnn' in DATASET_NAME else None\n",
    "JOB_NAME = 'RSNA-ResNet18'\n",
    "INPUT_DIR = '/kaggle/input'\n",
    "OUTPUT_DIR = '/kaggle/working'\n",
    "\n",
    "# Directories\n",
    "CHECKPOINTS_DIR = os.path.join(OUTPUT_DIR, JOB_NAME, 'checkpoints')\n",
    "FIGURES_DIR = os.path.join(OUTPUT_DIR, JOB_NAME, 'figures')\n",
    "DICOM_DIR = os.path.join(INPUT_DIR, DATASET_NAME, DATASET_NAME)\n",
    "\n",
    "# File Paths\n",
    "CSV_PATH = f'{DICOM_DIR}/training_{NUM_PATIENTS}_scan_subset.csv'\n",
    "\n",
    "# Image Processing Parameters\n",
    "MAX_SLICES = 60\n",
    "HEIGHT = 512\n",
    "WIDTH = 512\n",
    "\n",
    "# Training Hyperparameters\n",
    "BATCH_PATIENTS = 128\n",
    "NUM_EPOCHS = 50\n",
    "LEARNING_RATE = 1e-4\n",
    "\n",
    "# Dataset Split Ratios\n",
    "VAL_SIZE = 0.2\n",
    "TEST_SIZE = 0.2\n",
    "\n",
    "# Create Necessary Directories\n",
    "os.makedirs(CHECKPOINTS_DIR, exist_ok=True)\n",
    "os.makedirs(FIGURES_DIR, exist_ok=True)\n",
    "\n",
    "# Load CSV from Kaggle environment (no need to unzip)\n",
    "medical_scan_data = pd.read_csv(CSV_PATH)"
   ]
  },
  {
   "cell_type": "code",
   "execution_count": 5,
   "id": "2fda7ca0",
   "metadata": {
    "ExecuteTime": {
     "end_time": "2024-10-15T15:07:47.212661Z",
     "start_time": "2024-10-15T15:07:47.197850Z"
    },
    "execution": {
     "iopub.execute_input": "2024-10-21T19:30:20.787541Z",
     "iopub.status.busy": "2024-10-21T19:30:20.787241Z",
     "iopub.status.idle": "2024-10-21T19:30:20.807254Z",
     "shell.execute_reply": "2024-10-21T19:30:20.806474Z"
    },
    "papermill": {
     "duration": 0.032495,
     "end_time": "2024-10-21T19:30:20.809174",
     "exception": false,
     "start_time": "2024-10-21T19:30:20.776679",
     "status": "completed"
    },
    "tags": []
   },
   "outputs": [
    {
     "data": {
      "text/html": [
       "<div>\n",
       "<style scoped>\n",
       "    .dataframe tbody tr th:only-of-type {\n",
       "        vertical-align: middle;\n",
       "    }\n",
       "\n",
       "    .dataframe tbody tr th {\n",
       "        vertical-align: top;\n",
       "    }\n",
       "\n",
       "    .dataframe thead th {\n",
       "        text-align: right;\n",
       "    }\n",
       "</style>\n",
       "<table border=\"1\" class=\"dataframe\">\n",
       "  <thead>\n",
       "    <tr style=\"text-align: right;\">\n",
       "      <th></th>\n",
       "      <th>patient_id</th>\n",
       "      <th>study_instance_uid</th>\n",
       "      <th>images</th>\n",
       "      <th>labels</th>\n",
       "      <th>patient_label</th>\n",
       "      <th>length</th>\n",
       "    </tr>\n",
       "  </thead>\n",
       "  <tbody>\n",
       "    <tr>\n",
       "      <th>0</th>\n",
       "      <td>ID_2e010e33</td>\n",
       "      <td>ID_bda0f47e84</td>\n",
       "      <td>['ID_b9035cb1e.dcm', 'ID_0713bed86.dcm', 'ID_5...</td>\n",
       "      <td>[0, 0, 0, 0, 0, 0, 0, 0, 0, 0, 0, 0, 0, 0, 0, ...</td>\n",
       "      <td>0</td>\n",
       "      <td>48</td>\n",
       "    </tr>\n",
       "  </tbody>\n",
       "</table>\n",
       "</div>"
      ],
      "text/plain": [
       "    patient_id study_instance_uid  \\\n",
       "0  ID_2e010e33      ID_bda0f47e84   \n",
       "\n",
       "                                              images  \\\n",
       "0  ['ID_b9035cb1e.dcm', 'ID_0713bed86.dcm', 'ID_5...   \n",
       "\n",
       "                                              labels  patient_label  length  \n",
       "0  [0, 0, 0, 0, 0, 0, 0, 0, 0, 0, 0, 0, 0, 0, 0, ...              0      48  "
      ]
     },
     "execution_count": 5,
     "metadata": {},
     "output_type": "execute_result"
    }
   ],
   "source": [
    "medical_scan_data.head(1)"
   ]
  },
  {
   "cell_type": "code",
   "execution_count": 6,
   "id": "5b5ea2d3",
   "metadata": {
    "ExecuteTime": {
     "end_time": "2024-10-15T15:07:47.321026Z",
     "start_time": "2024-10-15T15:07:47.316594Z"
    },
    "execution": {
     "iopub.execute_input": "2024-10-21T19:30:20.830173Z",
     "iopub.status.busy": "2024-10-21T19:30:20.829850Z",
     "iopub.status.idle": "2024-10-21T19:30:20.835601Z",
     "shell.execute_reply": "2024-10-21T19:30:20.834762Z"
    },
    "papermill": {
     "duration": 0.0184,
     "end_time": "2024-10-21T19:30:20.837583",
     "exception": false,
     "start_time": "2024-10-21T19:30:20.819183",
     "status": "completed"
    },
    "tags": []
   },
   "outputs": [
    {
     "data": {
      "text/plain": [
       "Index(['patient_id', 'study_instance_uid', 'images', 'labels', 'patient_label',\n",
       "       'length'],\n",
       "      dtype='object')"
      ]
     },
     "execution_count": 6,
     "metadata": {},
     "output_type": "execute_result"
    }
   ],
   "source": [
    "medical_scan_data.columns"
   ]
  },
  {
   "cell_type": "markdown",
   "id": "c7d636bf",
   "metadata": {
    "papermill": {
     "duration": 0.010327,
     "end_time": "2024-10-21T19:30:20.857997",
     "exception": false,
     "start_time": "2024-10-21T19:30:20.847670",
     "status": "completed"
    },
    "tags": []
   },
   "source": [
    "# Local dataset gen."
   ]
  },
  {
   "cell_type": "code",
   "execution_count": 7,
   "id": "dfdc79aa",
   "metadata": {
    "ExecuteTime": {
     "end_time": "2024-10-15T15:07:50.768147Z",
     "start_time": "2024-10-15T15:07:47.399320Z"
    },
    "execution": {
     "iopub.execute_input": "2024-10-21T19:30:20.879485Z",
     "iopub.status.busy": "2024-10-21T19:30:20.879224Z",
     "iopub.status.idle": "2024-10-21T19:30:20.888382Z",
     "shell.execute_reply": "2024-10-21T19:30:20.886881Z"
    },
    "papermill": {
     "duration": 0.022489,
     "end_time": "2024-10-21T19:30:20.890503",
     "exception": false,
     "start_time": "2024-10-21T19:30:20.868014",
     "status": "completed"
    },
    "tags": []
   },
   "outputs": [],
   "source": [
    "# class DatasetGenerator(Dataset):\n",
    "#     def __init__(self, zip_file_path, medical_scan_data, max_slices, height, width):\n",
    "#         self.zip_file_path = zip_file_path\n",
    "#         self.medical_scan_data = self._parse_medical_scan_data(medical_scan_data)\n",
    "#         self.max_slices = max_slices\n",
    "#         self.height = height\n",
    "#         self.width = width\n",
    "#         self.channels = 3\n",
    "#         self.dicom_paths = self._get_dicom_paths()\n",
    "#         self.transform = transforms.Compose([\n",
    "#             transforms.Resize((self.height, self.width))\n",
    "#         ])\n",
    "\n",
    "#     def __len__(self):\n",
    "#         return len(self.dicom_paths)\n",
    "\n",
    "#     def __getitem__(self, idx):\n",
    "#         dicom_files, row = self.dicom_paths[idx]\n",
    "\n",
    "#         # Process DICOM files to get images and labels\n",
    "#         images, labels = self._process_dicom_files(dicom_files)\n",
    "\n",
    "#         patient_scan_label = row['patient_scan_label']\n",
    "\n",
    "#         return self._pad_data(images, labels, patient_scan_label)\n",
    "    \n",
    "#     def _parse_medical_scan_data(self, medical_scan_data):\n",
    "#         medical_scan_data['images'] = medical_scan_data['images'].apply(lambda x: eval(x) if isinstance(x, str) else x)\n",
    "#         medical_scan_data['labels'] = medical_scan_data['labels'].apply(lambda x: eval(x) if isinstance(x, str) else x)\n",
    "#         return medical_scan_data\n",
    "\n",
    "#     def _get_dicom_paths(self):\n",
    "#         dicom_paths = []\n",
    "#         with zipfile.ZipFile(self.zip_file_path, 'r') as zip_ref:\n",
    "#             file_list = zip_ref.namelist()\n",
    "            \n",
    "#             for _, row in self.medical_scan_data.iterrows():\n",
    "#                 patient_id = row['patient_id'].replace(\"ID_\", \"\")\n",
    "#                 study_instance_uid = row['study_instance_uid'].replace(\"ID_\", \"\")\n",
    "#                 dicom_dir_path = f\"{DATASET_NAME}/{patient_id}_{study_instance_uid}\"\n",
    "                \n",
    "#                 dicom_files = [f for f in file_list if f.startswith(dicom_dir_path) and f.endswith(\".dcm\")]\n",
    "#                 if dicom_files:\n",
    "#                     dicom_paths.append((dicom_files, row))\n",
    "#                 else:\n",
    "#                     print(f\"No DICOM files found for {dicom_dir_path}.\")\n",
    "        \n",
    "#         return dicom_paths\n",
    "    \n",
    "#     def _process_dicom_files(self, dicom_files):\n",
    "#         images = []\n",
    "#         labels = []\n",
    "\n",
    "#         for _, row in self.medical_scan_data.iterrows():\n",
    "#             image_list = row['images']\n",
    "#             if all(os.path.basename(f) in image_list for f in dicom_files) and len(image_list) == len(dicom_files):\n",
    "#                 labels = row['labels']\n",
    "#                 if labels:\n",
    "#                     labels = torch.tensor(labels, dtype=torch.float32)\n",
    "#                 break\n",
    "\n",
    "#         with zipfile.ZipFile(self.zip_file_path, 'r') as zip_ref:\n",
    "#             for dicom_file in dicom_files:\n",
    "#                 with zip_ref.open(dicom_file) as file:\n",
    "#                     dicom = pydicom.dcmread(file)\n",
    "#                     img = self._preprocess_slice(dicom)\n",
    "#                     images.append(torch.from_numpy(img).float())\n",
    "\n",
    "#         return torch.stack(images), labels\n",
    "    \n",
    "#     def _preprocess_slice(self, dicom):\n",
    "#         bsb_img = self._bsb_window(dicom)\n",
    "#         return bsb_img.astype(np.float16)\n",
    "\n",
    "#     def _pad_data(self, images, labels, patient_scan_label):\n",
    "#         if images.shape[0] > self.max_slices:\n",
    "#             # Cut out the last images\n",
    "#             images = images[:self.max_slices]\n",
    "#             if isinstance(labels, torch.Tensor):\n",
    "#                 labels = labels[:self.max_slices]\n",
    "#             else:\n",
    "#                 labels = labels[:self.max_slices]\n",
    "#         elif images.shape[0] < self.max_slices:\n",
    "#             padding = torch.zeros((self.max_slices - images.shape[0], self.channels, self.height, self.width))\n",
    "#             images = torch.cat((images, padding), dim=0)\n",
    "    \n",
    "#             if isinstance(labels, torch.Tensor):\n",
    "#                 label_padding = torch.zeros(self.max_slices - labels.shape[0])\n",
    "#                 labels = torch.cat((labels, label_padding))\n",
    "#             else:\n",
    "#                 label_padding = torch.zeros(self.max_slices - len(labels))\n",
    "#                 labels = torch.cat((torch.tensor(labels), label_padding))\n",
    "        \n",
    "#         return images, labels, float(patient_scan_label)\n",
    "    \n",
    "#     def _correct_dcm(self, dcm):\n",
    "#         x = dcm.pixel_array + 1000\n",
    "#         px_mode = 4096\n",
    "#         x[x >= px_mode] -= px_mode\n",
    "#         dcm.PixelData = x.tobytes()\n",
    "#         dcm.RescaleIntercept = -1000\n",
    "\n",
    "#     def _window_image(self, dcm, window_center, window_width):\n",
    "#         if (dcm.BitsStored == 12) and (dcm.PixelRepresentation == 0) and (int(dcm.RescaleIntercept) > -100):\n",
    "#             self._correct_dcm(dcm)\n",
    "\n",
    "#         img = dcm.pixel_array * dcm.RescaleSlope + dcm.RescaleIntercept\n",
    "#         img_min = window_center - window_width // 2\n",
    "#         img_max = window_center + window_width // 2\n",
    "#         img = np.clip(img, img_min, img_max)\n",
    "\n",
    "#         img_resized = cv2.resize(img, (self.height, self.width), interpolation=cv2.INTER_LINEAR)\n",
    "       \n",
    "#         return img_resized\n",
    "\n",
    "#     def _bsb_window(self, dcm):\n",
    "#         brain_img = self._window_image(dcm, 40, 80)\n",
    "#         subdural_img = self._window_image(dcm, 80, 200)\n",
    "#         soft_img = self._window_image(dcm, 40, 380)\n",
    "\n",
    "#         brain_img_normalized = (brain_img - 0) / 80\n",
    "#         subdural_img_normalized = (subdural_img - (-20)) / 200\n",
    "#         soft_img_normalized = (soft_img - (-150)) / 380\n",
    "\n",
    "#         bsb_img = np.stack([brain_img_normalized, subdural_img_normalized, soft_img_normalized], axis=0)\n",
    "#         return bsb_img\n",
    "\n",
    "# # Usage\n",
    "# dataset = DatasetGenerator(\n",
    "#     zip_file_path=ZIP_FILE_PATH,\n",
    "#     medical_scan_data=medical_scan_data,\n",
    "#     max_slices=MAX_SLICES,\n",
    "#     height=HEIGHT,\n",
    "#     width=WIDTH,\n",
    "# )"
   ]
  },
  {
   "cell_type": "markdown",
   "id": "c67cfe3e",
   "metadata": {
    "papermill": {
     "duration": 0.009859,
     "end_time": "2024-10-21T19:30:20.910484",
     "exception": false,
     "start_time": "2024-10-21T19:30:20.900625",
     "status": "completed"
    },
    "tags": []
   },
   "source": [
    "# Kaggle dataset gen."
   ]
  },
  {
   "cell_type": "code",
   "execution_count": 8,
   "id": "8fb4b1a3",
   "metadata": {
    "execution": {
     "iopub.execute_input": "2024-10-21T19:30:20.931711Z",
     "iopub.status.busy": "2024-10-21T19:30:20.931420Z",
     "iopub.status.idle": "2024-10-21T19:30:20.934936Z",
     "shell.execute_reply": "2024-10-21T19:30:20.934141Z"
    },
    "papermill": {
     "duration": 0.016221,
     "end_time": "2024-10-21T19:30:20.936810",
     "exception": false,
     "start_time": "2024-10-21T19:30:20.920589",
     "status": "completed"
    },
    "tags": []
   },
   "outputs": [],
   "source": [
    "import random"
   ]
  },
  {
   "cell_type": "code",
   "execution_count": 9,
   "id": "2432dde4",
   "metadata": {
    "execution": {
     "iopub.execute_input": "2024-10-21T19:30:20.958286Z",
     "iopub.status.busy": "2024-10-21T19:30:20.957968Z",
     "iopub.status.idle": "2024-10-21T19:30:32.139752Z",
     "shell.execute_reply": "2024-10-21T19:30:32.138979Z"
    },
    "papermill": {
     "duration": 11.195288,
     "end_time": "2024-10-21T19:30:32.142085",
     "exception": false,
     "start_time": "2024-10-21T19:30:20.946797",
     "status": "completed"
    },
    "tags": []
   },
   "outputs": [],
   "source": [
    "class DatasetGenerator(Dataset):\n",
    "    def __init__(self, dicom_dir, medical_scan_data, max_slices, height, width):\n",
    "        self.dicom_dir = dicom_dir\n",
    "        self.medical_scan_data = self._parse_medical_scan_data(medical_scan_data)\n",
    "        self.max_slices = max_slices\n",
    "        self.height = height\n",
    "        self.width = width\n",
    "        self.channels = 3\n",
    "        self.dicom_paths = self._get_dicom_paths()\n",
    "        self.transform = transforms.Compose([\n",
    "            transforms.Resize((self.height, self.width)),\n",
    "            transforms.RandomHorizontalFlip(),\n",
    "            transforms.RandomRotation(30),\n",
    "            transforms.ColorJitter(brightness=0.5, contrast=0.2),\n",
    "        ])\n",
    "        \n",
    "        # Apply undersampling to balance the dataset\n",
    "        self.balanced_dicom_paths = self._undersample_dataset()\n",
    "        \n",
    "    def __len__(self):\n",
    "        return len(self.balanced_dicom_paths)\n",
    "\n",
    "    def __getitem__(self, idx):\n",
    "        # Find the correct DICOM files and their corresponding labels\n",
    "        dicom_file, row = self.balanced_dicom_paths[idx]\n",
    "        images, labels = self._process_dicom_file(dicom_file, row)\n",
    "    \n",
    "        images = self.transform(images)\n",
    "\n",
    "        return images, labels\n",
    "\n",
    "    def _parse_medical_scan_data(self, medical_scan_data):\n",
    "        medical_scan_data['images'] = medical_scan_data['images'].apply(lambda x: eval(x) if isinstance(x, str) else x)\n",
    "        medical_scan_data['labels'] = medical_scan_data['labels'].apply(lambda x: eval(x) if isinstance(x, str) else x)\n",
    "        return medical_scan_data\n",
    "\n",
    "    def _get_dicom_paths(self):\n",
    "        dicom_paths = []\n",
    "        \n",
    "        for _, row in self.medical_scan_data.iterrows():\n",
    "            patient_id = row['patient_id'].replace(\"ID_\", \"\")\n",
    "            study_instance_uid = row['study_instance_uid'].replace(\"ID_\", \"\")\n",
    "            dicom_dir_path = os.path.join(self.dicom_dir, f\"{patient_id}_{study_instance_uid}\")\n",
    "            \n",
    "            if os.path.exists(dicom_dir_path):\n",
    "                dicom_files = [os.path.join(dicom_dir_path, f) for f in os.listdir(dicom_dir_path) if f.endswith(\".dcm\")]\n",
    "                if dicom_files:\n",
    "                    dicom_paths.append((dicom_files, row))\n",
    "                else:\n",
    "                    print(f\"No DICOM files found for {dicom_dir_path}.\")\n",
    "            else:\n",
    "                print(f\"DICOM directory does not exist: {dicom_dir_path}\")\n",
    "        \n",
    "        return dicom_paths\n",
    "\n",
    "    def _undersample_dataset(self):\n",
    "        # Separate the paths based on labels\n",
    "        majority_class = []\n",
    "        minority_class = []\n",
    "\n",
    "        for dicom_files, row in self.dicom_paths:\n",
    "            label_list = row['labels']\n",
    "            for i in range(len(label_list)):\n",
    "                if label_list[i] == 0:\n",
    "                    majority_class.append((dicom_files[i], row))\n",
    "                else:\n",
    "                    minority_class.append((dicom_files[i], row))\n",
    "\n",
    "        # Calculate how many samples to take from each class\n",
    "        num_minority_samples = len(minority_class)\n",
    "        \n",
    "        # Randomly sample from the majority class to match minority class size\n",
    "        sampled_majority_class = random.sample(majority_class, num_minority_samples)\n",
    "\n",
    "        # Combine and shuffle the balanced dataset\n",
    "        balanced_dataset = sampled_majority_class + minority_class\n",
    "        random.shuffle(balanced_dataset)\n",
    "\n",
    "        return balanced_dataset\n",
    "\n",
    "    def _get_dicom_file_and_label(self, idx):\n",
    "        return self.balanced_dicom_paths[idx]\n",
    "\n",
    "    def _process_dicom_file(self, dicom_file, row):\n",
    "        label_list = row['labels']\n",
    "        \n",
    "        dicom = pydicom.dcmread(dicom_file)\n",
    "        img = self._preprocess_slice(dicom)\n",
    "\n",
    "        images = torch.from_numpy(img).float()\n",
    "\n",
    "        index_in_list = row['images'].index(os.path.basename(dicom_file))\n",
    "        \n",
    "        labels = torch.tensor(label_list[index_in_list], dtype=torch.float32)\n",
    "        \n",
    "        return images, labels\n",
    "\n",
    "    def _preprocess_slice(self, dicom):\n",
    "        bsb_img = self._bsb_window(dicom)\n",
    "        return bsb_img.astype(np.float16)\n",
    "\n",
    "    def _bsb_window(self, dcm):\n",
    "        brain_img = self._window_image(dcm, 40, 80)\n",
    "        subdural_img = self._window_image(dcm, 80, 200)\n",
    "        soft_img = self._window_image(dcm, 40, 380)\n",
    "\n",
    "        brain_img_normalized = (brain_img - 0) / 80\n",
    "        subdural_img_normalized = (subdural_img - (-20)) / 200\n",
    "        soft_img_normalized = (soft_img - (-150)) / 380\n",
    "\n",
    "        bsb_img = np.stack([brain_img_normalized,\n",
    "                            subdural_img_normalized,\n",
    "                            soft_img_normalized], axis=0) \n",
    "        \n",
    "        return bsb_img\n",
    "\n",
    "    def _window_image(self, dcm, window_center, window_width):\n",
    "        img = dcm.pixel_array * dcm.RescaleSlope + dcm.RescaleIntercept\n",
    "        img_min = window_center - window_width // 2\n",
    "        img_max = window_center + window_width // 2\n",
    "        img = np.clip(img, img_min, img_max)\n",
    "\n",
    "        img_resized = cv2.resize(img, (self.height, self.width), interpolation=cv2.INTER_LINEAR)\n",
    "\n",
    "        return img_resized\n",
    "\n",
    "# Usage in Kaggle environment\n",
    "dataset = DatasetGenerator(\n",
    "    dicom_dir=DICOM_DIR,\n",
    "    medical_scan_data=medical_scan_data,\n",
    "    max_slices=MAX_SLICES,\n",
    "    height=HEIGHT,\n",
    "    width=WIDTH,\n",
    ")"
   ]
  },
  {
   "cell_type": "code",
   "execution_count": 10,
   "id": "d4e2d140",
   "metadata": {
    "execution": {
     "iopub.execute_input": "2024-10-21T19:30:32.164482Z",
     "iopub.status.busy": "2024-10-21T19:30:32.163724Z",
     "iopub.status.idle": "2024-10-21T19:30:32.501591Z",
     "shell.execute_reply": "2024-10-21T19:30:32.500412Z"
    },
    "papermill": {
     "duration": 0.35103,
     "end_time": "2024-10-21T19:30:32.503747",
     "exception": false,
     "start_time": "2024-10-21T19:30:32.152717",
     "status": "completed"
    },
    "tags": []
   },
   "outputs": [
    {
     "name": "stdout",
     "output_type": "stream",
     "text": [
      "torch.Size([3, 512, 512]) torch.Size([])\n"
     ]
    }
   ],
   "source": [
    "original_images, labels = dataset[0]\n",
    "\n",
    "print(original_images.shape, labels.shape)"
   ]
  },
  {
   "cell_type": "code",
   "execution_count": 11,
   "id": "e96e2536",
   "metadata": {
    "execution": {
     "iopub.execute_input": "2024-10-21T19:30:32.526027Z",
     "iopub.status.busy": "2024-10-21T19:30:32.525397Z",
     "iopub.status.idle": "2024-10-21T19:30:32.530218Z",
     "shell.execute_reply": "2024-10-21T19:30:32.529372Z"
    },
    "papermill": {
     "duration": 0.018026,
     "end_time": "2024-10-21T19:30:32.532201",
     "exception": false,
     "start_time": "2024-10-21T19:30:32.514175",
     "status": "completed"
    },
    "tags": []
   },
   "outputs": [
    {
     "name": "stdout",
     "output_type": "stream",
     "text": [
      "12178\n"
     ]
    }
   ],
   "source": [
    "print(len(dataset))"
   ]
  },
  {
   "cell_type": "code",
   "execution_count": 12,
   "id": "85958a6e",
   "metadata": {
    "execution": {
     "iopub.execute_input": "2024-10-21T19:30:32.554809Z",
     "iopub.status.busy": "2024-10-21T19:30:32.554485Z",
     "iopub.status.idle": "2024-10-21T19:30:33.019889Z",
     "shell.execute_reply": "2024-10-21T19:30:33.018847Z"
    },
    "papermill": {
     "duration": 0.478815,
     "end_time": "2024-10-21T19:30:33.022103",
     "exception": false,
     "start_time": "2024-10-21T19:30:32.543288",
     "status": "completed"
    },
    "tags": []
   },
   "outputs": [
    {
     "data": {
      "image/png": "[encoded data removed]",
      "text/plain": [
       "<Figure size 1000x600 with 1 Axes>"
      ]
     },
     "metadata": {},
     "output_type": "display_data"
    }
   ],
   "source": [
    "# Extract and flatten labels\n",
    "labels = medical_scan_data['labels'].explode().tolist()\n",
    "\n",
    "# Count frequencies\n",
    "label_counts = pd.Series(labels).value_counts().to_dict()\n",
    "\n",
    "# Prepare data for plotting\n",
    "labels = list(label_counts.keys())\n",
    "counts = list(label_counts.values())\n",
    "\n",
    "# Plotting\n",
    "plt.figure(figsize=(10, 6))\n",
    "bar_container = plt.bar(labels, counts)\n",
    "plt.title('Label Distribution in Dataset')\n",
    "plt.xlabel('Labels')\n",
    "plt.ylabel('Frequency')\n",
    "plt.xticks(rotation=0)\n",
    "\n",
    "# Adding count on bar\n",
    "for bar in bar_container:\n",
    "    yval = bar.get_height()\n",
    "    plt.text(bar.get_x() + bar.get_width()/2, yval, yval, va='bottom', ha='center')  # va: vertical alignment, ha: horizontal alignment\n",
    "\n",
    "plt.tight_layout()\n",
    "plt.show()"
   ]
  },
  {
   "cell_type": "markdown",
   "id": "dd5d22af",
   "metadata": {
    "papermill": {
     "duration": 0.010471,
     "end_time": "2024-10-21T19:30:33.044046",
     "exception": false,
     "start_time": "2024-10-21T19:30:33.033575",
     "status": "completed"
    },
    "tags": []
   },
   "source": [
    "# Dataloader"
   ]
  },
  {
   "cell_type": "code",
   "execution_count": 13,
   "id": "237cd03e",
   "metadata": {
    "ExecuteTime": {
     "end_time": "2024-10-15T15:07:51.439856Z",
     "start_time": "2024-10-15T15:07:51.432637Z"
    },
    "execution": {
     "iopub.execute_input": "2024-10-21T19:30:33.066956Z",
     "iopub.status.busy": "2024-10-21T19:30:33.066648Z",
     "iopub.status.idle": "2024-10-21T19:30:33.079699Z",
     "shell.execute_reply": "2024-10-21T19:30:33.078910Z"
    },
    "papermill": {
     "duration": 0.026745,
     "end_time": "2024-10-21T19:30:33.081616",
     "exception": false,
     "start_time": "2024-10-21T19:30:33.054871",
     "status": "completed"
    },
    "tags": []
   },
   "outputs": [],
   "source": [
    "import numpy as np\n",
    "from sklearn.model_selection import train_test_split\n",
    "from torch.utils.data import DataLoader, Subset\n",
    "\n",
    "class DataloaderManager:\n",
    "    def __init__(self, dataset, val_size, test_size, batch_size, num_workers=4):\n",
    "        self.dataset = dataset\n",
    "        self.val_size = val_size\n",
    "        self.test_size = test_size\n",
    "        self.batch_size = batch_size\n",
    "        self.num_workers = num_workers\n",
    "        \n",
    "        self._create_loaders()\n",
    "        self.print_lengths()\n",
    "\n",
    "    def _get_labels(self):\n",
    "        # Get labels from the balanced dataset\n",
    "        if hasattr(self.dataset, 'balanced_dicom_paths'):\n",
    "            labels = []\n",
    "            for dicom_file_path, row in self.dataset.balanced_dicom_paths:\n",
    "                # Assuming row['labels'] is a list of labels corresponding to dicom_files\n",
    "                # Extract the label based on the index of the dicom_file_path\n",
    "                # Here we need to find out which index this dicom_file_path corresponds to\n",
    "                index = row['images'].index(os.path.basename(dicom_file_path))\n",
    "                labels.append(row['labels'][index])  # Append only the corresponding label\n",
    "            return labels\n",
    "        else:\n",
    "            raise AttributeError(\"Dataset does not have a 'balanced_dicom_paths' attribute.\")\n",
    "    def _split_indices(self):\n",
    "        labels = self._get_labels()\n",
    "        \n",
    "        # Check if the number of labels matches the expected size\n",
    "        total_size = len(labels)\n",
    "        print(f\"Total size of labels: {total_size}\")  # Debugging line\n",
    "        \n",
    "        indices = np.arange(total_size)\n",
    "\n",
    "        # Split into train+val and test sets first\n",
    "        train_val_indices, test_indices = train_test_split(\n",
    "            indices,\n",
    "            test_size=self.test_size,\n",
    "            stratify=labels,\n",
    "            random_state=42\n",
    "        )\n",
    "\n",
    "        # Now split the remaining data into train and validation sets\n",
    "        val_relative_size = self.val_size / (1 - self.test_size)\n",
    "        train_indices, val_indices = train_test_split(\n",
    "            train_val_indices,\n",
    "            test_size=val_relative_size,\n",
    "            stratify=np.array(labels)[train_val_indices],\n",
    "            random_state=42\n",
    "        )\n",
    "\n",
    "        return train_indices, val_indices, test_indices\n",
    "\n",
    "    def _create_dataloader(self, indices, shuffle):\n",
    "        return DataLoader(\n",
    "            Subset(self.dataset, indices),\n",
    "            batch_size=self.batch_size,\n",
    "            shuffle=shuffle,\n",
    "            num_workers=self.num_workers,\n",
    "            pin_memory=True\n",
    "        )\n",
    "\n",
    "    def _create_loaders(self):\n",
    "        train_indices, val_indices, test_indices = self._split_indices()\n",
    "        \n",
    "        self.train_loader = self._create_dataloader(train_indices, shuffle=True)\n",
    "        self.validate_loader = self._create_dataloader(val_indices, shuffle=False)\n",
    "        self.test_loader = self._create_dataloader(test_indices, shuffle=False)\n",
    "\n",
    "    def print_lengths(self):\n",
    "        print(f\"Length of training dataset: {len(self.train_loader.dataset)}\")\n",
    "        print(f\"Length of validation dataset: {len(self.validate_loader.dataset)}\")\n",
    "        print(f\"Length of testing dataset: {len(self.test_loader.dataset)}\")"
   ]
  },
  {
   "cell_type": "code",
   "execution_count": 14,
   "id": "237bc66b",
   "metadata": {
    "execution": {
     "iopub.execute_input": "2024-10-21T19:30:33.104138Z",
     "iopub.status.busy": "2024-10-21T19:30:33.103570Z",
     "iopub.status.idle": "2024-10-21T19:30:33.263864Z",
     "shell.execute_reply": "2024-10-21T19:30:33.262897Z"
    },
    "papermill": {
     "duration": 0.173665,
     "end_time": "2024-10-21T19:30:33.265915",
     "exception": false,
     "start_time": "2024-10-21T19:30:33.092250",
     "status": "completed"
    },
    "tags": []
   },
   "outputs": [
    {
     "name": "stdout",
     "output_type": "stream",
     "text": [
      "Total size of labels: 12178\n",
      "Length of training dataset: 7306\n",
      "Length of validation dataset: 2436\n",
      "Length of testing dataset: 2436\n"
     ]
    }
   ],
   "source": [
    "dataloader_manager = DataloaderManager(dataset, val_size=VAL_SIZE, test_size=TEST_SIZE, batch_size=BATCH_PATIENTS)"
   ]
  },
  {
   "cell_type": "markdown",
   "id": "9e4fed61",
   "metadata": {
    "papermill": {
     "duration": 0.010565,
     "end_time": "2024-10-21T19:30:33.287488",
     "exception": false,
     "start_time": "2024-10-21T19:30:33.276923",
     "status": "completed"
    },
    "tags": []
   },
   "source": [
    "# Model configurations"
   ]
  },
  {
   "cell_type": "code",
   "execution_count": 15,
   "id": "6f97d8ae",
   "metadata": {
    "ExecuteTime": {
     "end_time": "2024-10-15T15:07:52.586835Z",
     "start_time": "2024-10-15T15:07:51.642585Z"
    },
    "execution": {
     "iopub.execute_input": "2024-10-21T19:30:33.310331Z",
     "iopub.status.busy": "2024-10-21T19:30:33.309983Z",
     "iopub.status.idle": "2024-10-21T19:30:33.966147Z",
     "shell.execute_reply": "2024-10-21T19:30:33.965183Z"
    },
    "papermill": {
     "duration": 0.670498,
     "end_time": "2024-10-21T19:30:33.968658",
     "exception": false,
     "start_time": "2024-10-21T19:30:33.298160",
     "status": "completed"
    },
    "tags": []
   },
   "outputs": [
    {
     "name": "stderr",
     "output_type": "stream",
     "text": [
      "Downloading: \"https://download.pytorch.org/models/resnet18-f37072fd.pth\" to /root/.cache/torch/hub/checkpoints/resnet18-f37072fd.pth\n",
      "100%|██████████| 44.7M/44.7M [00:00<00:00, 213MB/s]\n"
     ]
    }
   ],
   "source": [
    "# 2. Model Definition\n",
    "class ResNet18(nn.Module):\n",
    "    def __init__(self, num_classes=1):\n",
    "        super(ResNet18, self).__init__()\n",
    "        self.resnet = models.resnet18(weights=ResNet18_Weights.DEFAULT)\n",
    "        self.resnet.fc = nn.Linear(self.resnet.fc.in_features, num_classes)\n",
    "        self.dropout = nn.Dropout(p=0.2)  # Add dropout layer\n",
    "\n",
    "    def forward(self, x):\n",
    "        batch_slices, channels, height, width = x.size()\n",
    "        return self.dropout(self.resnet(x))\n",
    "        \n",
    "device = torch.device(\"cuda\" if torch.cuda.is_available() else \"cpu\")\n",
    "model = ResNet18().to(device)"
   ]
  },
  {
   "cell_type": "code",
   "execution_count": 16,
   "id": "9f0a73ab",
   "metadata": {
    "ExecuteTime": {
     "end_time": "2024-10-15T15:07:52.616483Z",
     "start_time": "2024-10-15T15:07:52.612038Z"
    },
    "execution": {
     "iopub.execute_input": "2024-10-21T19:30:33.996615Z",
     "iopub.status.busy": "2024-10-21T19:30:33.995788Z",
     "iopub.status.idle": "2024-10-21T19:30:34.002205Z",
     "shell.execute_reply": "2024-10-21T19:30:34.001365Z"
    },
    "papermill": {
     "duration": 0.021024,
     "end_time": "2024-10-21T19:30:34.004075",
     "exception": false,
     "start_time": "2024-10-21T19:30:33.983051",
     "status": "completed"
    },
    "tags": []
   },
   "outputs": [],
   "source": [
    "# 3. Loss and Optimizer\n",
    "criterion = nn.BCEWithLogitsLoss()\n",
    "optimizer = optim.Adam(model.parameters(), lr=LEARNING_RATE)\n",
    "scheduler = ReduceLROnPlateau(optimizer, mode='min', factor=0.5, patience=1)\n",
    "\n",
    "# mode: Monitors 'min' or 'max' changes in metrics.\n",
    "# factor: The multiplicative factor for reducing the learning rate. \n",
    "##  If the current learning rate is 0.01 and factor=0.5, the new learning rate will be 0.01 * 0.5 = 0.005\n",
    "# patience: Number of epochs to wait for improvement before reducing the learning rate."
   ]
  },
  {
   "cell_type": "code",
   "execution_count": 17,
   "id": "6cd37d23",
   "metadata": {
    "ExecuteTime": {
     "end_time": "2024-10-15T15:07:52.680223Z",
     "start_time": "2024-10-15T15:07:52.670633Z"
    },
    "execution": {
     "iopub.execute_input": "2024-10-21T19:30:34.028259Z",
     "iopub.status.busy": "2024-10-21T19:30:34.027735Z",
     "iopub.status.idle": "2024-10-21T19:30:34.035535Z",
     "shell.execute_reply": "2024-10-21T19:30:34.034764Z"
    },
    "papermill": {
     "duration": 0.021774,
     "end_time": "2024-10-21T19:30:34.037369",
     "exception": false,
     "start_time": "2024-10-21T19:30:34.015595",
     "status": "completed"
    },
    "tags": []
   },
   "outputs": [],
   "source": [
    "def train(model, train_loader, criterion, optimizer, scheduler, device):\n",
    "    model.train()\n",
    "\n",
    "    running_loss = 0.0\n",
    "    correct = 0\n",
    "    total = 0\n",
    "\n",
    "    for batch_idx, (image, label) in enumerate(train_loader):\n",
    "        image, label = image.to(device), label.to(device)\n",
    "\n",
    "        # Forward pass\n",
    "        optimizer.zero_grad()\n",
    "        output = model(image).squeeze()\n",
    "        label = label.reshape(-1)\n",
    "        \n",
    "        loss = criterion(output, label)\n",
    "\n",
    "        # Backward pass and optimization\n",
    "        loss.backward()\n",
    "        optimizer.step()\n",
    "\n",
    "        # Track loss\n",
    "        running_loss += loss.item()\n",
    "\n",
    "        # Calculate accuracy\n",
    "        predicted_label = (output > 0.5).float()\n",
    "        total += label.size(0)\n",
    "        correct += (predicted_label == label).sum().item()\n",
    "\n",
    "    # Calculate average loss and accuracy for the epoch\n",
    "    epoch_loss = running_loss / len(train_loader)\n",
    "    accuracy = 100 * correct / total\n",
    "\n",
    "    print(f'Epoch {epoch+1}: Loss: {epoch_loss:.4f}, Accuracy: {accuracy:.4f}%')\n",
    "\n",
    "    scheduler.step(epoch_loss)\n",
    "    return epoch_loss"
   ]
  },
  {
   "cell_type": "code",
   "execution_count": 18,
   "id": "f4756fbd",
   "metadata": {
    "ExecuteTime": {
     "end_time": "2024-10-15T15:07:52.742433Z",
     "start_time": "2024-10-15T15:07:52.734550Z"
    },
    "execution": {
     "iopub.execute_input": "2024-10-21T19:30:34.060872Z",
     "iopub.status.busy": "2024-10-21T19:30:34.060583Z",
     "iopub.status.idle": "2024-10-21T19:30:34.067936Z",
     "shell.execute_reply": "2024-10-21T19:30:34.067140Z"
    },
    "papermill": {
     "duration": 0.021306,
     "end_time": "2024-10-21T19:30:34.069854",
     "exception": false,
     "start_time": "2024-10-21T19:30:34.048548",
     "status": "completed"
    },
    "tags": []
   },
   "outputs": [],
   "source": [
    "def validate(model, validate_loader, criterion, device):\n",
    "    model.eval()\n",
    "    running_loss = 0.0\n",
    "    correct = 0\n",
    "    total = 0\n",
    "    \n",
    "    with torch.no_grad():\n",
    "        for batch_idx, (image, label) in enumerate(validate_loader):\n",
    "            image, label = image.to(device), label.to(device)\n",
    "            \n",
    "            # Forward pass\n",
    "            output = model(image).squeeze()\n",
    "            label = label.reshape(-1)\n",
    "            \n",
    "            loss = criterion(output, label)\n",
    "            running_loss += loss.item()\n",
    "            \n",
    "            # Calculate accuracy\n",
    "            predicted_label = (output > 0.5).float()\n",
    "            total += label.size(0)\n",
    "            correct += (predicted_label == label).sum().item()\n",
    "    \n",
    "    # Calculate average loss and accuracy for validation\n",
    "    val_loss = running_loss / len(validate_loader)\n",
    "    accuracy = 100 * correct / total\n",
    "    \n",
    "    print(f'Validation Loss: {val_loss:.4f}, Validation Accuracy: {accuracy:.4f}%')\n",
    "    \n",
    "    return val_loss"
   ]
  },
  {
   "cell_type": "code",
   "execution_count": 19,
   "id": "8e9e28db",
   "metadata": {
    "ExecuteTime": {
     "end_time": "2024-10-15T15:07:52.801793Z",
     "start_time": "2024-10-15T15:07:52.796322Z"
    },
    "execution": {
     "iopub.execute_input": "2024-10-21T19:30:34.093518Z",
     "iopub.status.busy": "2024-10-21T19:30:34.093254Z",
     "iopub.status.idle": "2024-10-21T19:30:34.098348Z",
     "shell.execute_reply": "2024-10-21T19:30:34.097576Z"
    },
    "papermill": {
     "duration": 0.018858,
     "end_time": "2024-10-21T19:30:34.100185",
     "exception": false,
     "start_time": "2024-10-21T19:30:34.081327",
     "status": "completed"
    },
    "tags": []
   },
   "outputs": [],
   "source": [
    "def save_checkpoint(model, optimizer, scheduler, epoch, loss):\n",
    "    checkpoint_path = os.path.join(CHECKPOINTS_DIR, f'checkpoint_epoch_{epoch+1}.pth')    \n",
    "    torch.save({\n",
    "        'epoch': epoch,\n",
    "        'model_state_dict': model.state_dict(),\n",
    "        'optimizer_state_dict': optimizer.state_dict(),\n",
    "        'scheduler_state_dict': scheduler.state_dict(),\n",
    "        'loss': loss\n",
    "    }, checkpoint_path)\n",
    "    print(f\"Checkpoint saved: {checkpoint_path}\")"
   ]
  },
  {
   "cell_type": "code",
   "execution_count": 20,
   "id": "ec228975",
   "metadata": {
    "ExecuteTime": {
     "end_time": "2024-10-15T15:07:53.165742Z",
     "start_time": "2024-10-15T15:07:53.159773Z"
    },
    "execution": {
     "iopub.execute_input": "2024-10-21T19:30:34.124133Z",
     "iopub.status.busy": "2024-10-21T19:30:34.123475Z",
     "iopub.status.idle": "2024-10-21T19:30:34.132026Z",
     "shell.execute_reply": "2024-10-21T19:30:34.131223Z"
    },
    "papermill": {
     "duration": 0.022326,
     "end_time": "2024-10-21T19:30:34.133825",
     "exception": false,
     "start_time": "2024-10-21T19:30:34.111499",
     "status": "completed"
    },
    "tags": []
   },
   "outputs": [],
   "source": [
    "def load_best_checkpoint(model, optimizer, scheduler, checkpoint_dir):\n",
    "    checkpoint_files = [f for f in os.listdir(checkpoint_dir) if f.startswith('checkpoint_epoch_') and f.endswith('.pth')]\n",
    "    if not checkpoint_files:\n",
    "        print(\"No checkpoints found.\")\n",
    "        return None, None\n",
    "\n",
    "    best_checkpoint = min(checkpoint_files, key=lambda x: float(x.split('_')[-1].split('.')[0]))\n",
    "    checkpoint_path = os.path.join(checkpoint_dir, best_checkpoint)\n",
    "    \n",
    "    try:\n",
    "        checkpoint = torch.load(checkpoint_path, map_location=torch.device(device), weights_only=True)\n",
    "    except RuntimeError as e:\n",
    "        print(f\"Error loading checkpoint: {e}\")\n",
    "        print(f\"Checkpoint file: {checkpoint_path}\")\n",
    "        print(f\"File size: {os.path.getsize(checkpoint_path)} bytes\")\n",
    "        return None, None\n",
    "\n",
    "    try:\n",
    "        model.load_state_dict(checkpoint['model_state_dict'])\n",
    "        optimizer.load_state_dict(checkpoint['optimizer_state_dict'])\n",
    "        scheduler.load_state_dict(checkpoint['scheduler_state_dict'])\n",
    "        \n",
    "        epoch = checkpoint['epoch']\n",
    "        best_val_loss = checkpoint['loss']\n",
    "        \n",
    "        print(f\"Loaded checkpoint from epoch {epoch+1} with validation loss {best_val_loss}\")\n",
    "        \n",
    "        return epoch, best_val_loss\n",
    "    except KeyError as e:\n",
    "        print(f\"Error: Checkpoint file is missing expected data: {e}\")\n",
    "        print(f\"Available keys in checkpoint: {checkpoint.keys()}\")\n",
    "        return None, None"
   ]
  },
  {
   "cell_type": "code",
   "execution_count": 21,
   "id": "d68c73d3",
   "metadata": {
    "ExecuteTime": {
     "end_time": "2024-10-15T15:07:53.235969Z",
     "start_time": "2024-10-15T15:07:53.227459Z"
    },
    "execution": {
     "iopub.execute_input": "2024-10-21T19:30:34.157620Z",
     "iopub.status.busy": "2024-10-21T19:30:34.157350Z",
     "iopub.status.idle": "2024-10-21T19:30:34.164194Z",
     "shell.execute_reply": "2024-10-21T19:30:34.163399Z"
    },
    "papermill": {
     "duration": 0.020777,
     "end_time": "2024-10-21T19:30:34.166000",
     "exception": false,
     "start_time": "2024-10-21T19:30:34.145223",
     "status": "completed"
    },
    "tags": []
   },
   "outputs": [],
   "source": [
    "def plot_roc_curve(y_true, y_scores):\n",
    "    fpr, tpr, thresholds = roc_curve(y_true, y_scores)\n",
    "    roc_auc = auc(fpr, tpr)\n",
    "    plt.figure()\n",
    "    plt.plot(fpr, tpr, color='darkorange', lw=2, label='ROC curve (area = %0.2f)' % roc_auc)\n",
    "    plt.plot([0, 1], [0, 1], color='navy', lw=2, linestyle='--')\n",
    "    plt.xlim([0.0, 1.0])\n",
    "    plt.ylim([0.0, 1.05])\n",
    "    plt.xlabel('False Positive Rate')\n",
    "    plt.ylabel('True Positive Rate')\n",
    "    plt.title('Receiver Operating Characteristic')\n",
    "    plt.legend(loc='lower right')\n",
    "    plt.savefig(os.path.join(FIGURES_DIR, 'roc_curve.png'))\n",
    "    plt.show()\n",
    "    plt.close()"
   ]
  },
  {
   "cell_type": "code",
   "execution_count": 22,
   "id": "04006680",
   "metadata": {
    "ExecuteTime": {
     "end_time": "2024-10-15T15:07:53.598335Z",
     "start_time": "2024-10-15T15:07:53.594214Z"
    },
    "execution": {
     "iopub.execute_input": "2024-10-21T19:30:34.189506Z",
     "iopub.status.busy": "2024-10-21T19:30:34.189234Z",
     "iopub.status.idle": "2024-10-21T19:30:34.194261Z",
     "shell.execute_reply": "2024-10-21T19:30:34.193402Z"
    },
    "papermill": {
     "duration": 0.019092,
     "end_time": "2024-10-21T19:30:34.196346",
     "exception": false,
     "start_time": "2024-10-21T19:30:34.177254",
     "status": "completed"
    },
    "tags": []
   },
   "outputs": [],
   "source": [
    "def plot_confusion_matrix(y_true, y_pred):\n",
    "    cm = confusion_matrix(y_true, y_pred)\n",
    "    disp = ConfusionMatrixDisplay(confusion_matrix=cm)\n",
    "    disp.plot(cmap=plt.cm.Blues)\n",
    "    plt.title('Confusion Matrix')\n",
    "    plt.savefig(os.path.join(FIGURES_DIR, 'confusion_matrix.png'))\n",
    "    plt.show()\n",
    "    plt.close()"
   ]
  },
  {
   "cell_type": "code",
   "execution_count": 23,
   "id": "738f15c9",
   "metadata": {
    "ExecuteTime": {
     "end_time": "2024-10-15T15:07:53.657149Z",
     "start_time": "2024-10-15T15:07:53.651664Z"
    },
    "execution": {
     "iopub.execute_input": "2024-10-21T19:30:34.220188Z",
     "iopub.status.busy": "2024-10-21T19:30:34.219887Z",
     "iopub.status.idle": "2024-10-21T19:30:34.224635Z",
     "shell.execute_reply": "2024-10-21T19:30:34.223816Z"
    },
    "papermill": {
     "duration": 0.01857,
     "end_time": "2024-10-21T19:30:34.226452",
     "exception": false,
     "start_time": "2024-10-21T19:30:34.207882",
     "status": "completed"
    },
    "tags": []
   },
   "outputs": [],
   "source": [
    "def save_final_model(model, optimizer, scheduler, final_model_path):\n",
    "    torch.save({\n",
    "        'model_state_dict': model.state_dict(),\n",
    "        'optimizer_state_dict': optimizer.state_dict(),\n",
    "        'scheduler_state_dict': scheduler.state_dict(),\n",
    "    }, final_model_path)\n",
    "    print(f\"Final model saved to {final_model_path}\")"
   ]
  },
  {
   "cell_type": "code",
   "execution_count": 24,
   "id": "1c5620e6",
   "metadata": {
    "ExecuteTime": {
     "end_time": "2024-10-15T15:07:53.997995Z",
     "start_time": "2024-10-15T15:07:53.983343Z"
    },
    "execution": {
     "iopub.execute_input": "2024-10-21T19:30:34.250501Z",
     "iopub.status.busy": "2024-10-21T19:30:34.249987Z",
     "iopub.status.idle": "2024-10-21T19:30:34.259089Z",
     "shell.execute_reply": "2024-10-21T19:30:34.258209Z"
    },
    "papermill": {
     "duration": 0.023198,
     "end_time": "2024-10-21T19:30:34.260968",
     "exception": false,
     "start_time": "2024-10-21T19:30:34.237770",
     "status": "completed"
    },
    "tags": []
   },
   "outputs": [],
   "source": [
    "def evaluate(model, test_loader, device, criterion):\n",
    "    model.to(device)\n",
    "    model.eval()\n",
    "    correct = 0\n",
    "    total = 0\n",
    "    all_labels = []\n",
    "    all_predictions = []\n",
    "    all_scores = []\n",
    "    test_loss = 0\n",
    "\n",
    "    with torch.no_grad():\n",
    "        for image, label in test_loader:\n",
    "            image, label = image.to(device), label.to(device)\n",
    "            \n",
    "            output = model(image).squeeze()\n",
    "            label = label.reshape(-1)\n",
    "            \n",
    "            loss = criterion(output, label)\n",
    "            test_loss += loss.item()\n",
    "            \n",
    "            predicted_label = (output > 0.5).float()\n",
    "            total += label.size(0)\n",
    "            correct += (predicted_label == label).sum().item()\n",
    "            \n",
    "            all_labels.extend(label.cpu().numpy())\n",
    "            all_predictions.extend(predicted_label.cpu().numpy())\n",
    "            all_scores.extend(output.cpu().numpy())\n",
    "\n",
    "    accuracy = 100 * correct / total\n",
    "    avg_loss = test_loss / len(test_loader)\n",
    "    print(f'Test Accuracy: {accuracy:.4f}%')\n",
    "    print(f'Test Loss: {avg_loss:.4f}')\n",
    "    \n",
    "    plot_roc_curve(np.array(all_labels), np.array(all_scores))\n",
    "    plot_confusion_matrix(np.array(all_labels), np.array(all_predictions))\n",
    "\n",
    "    return accuracy, avg_loss"
   ]
  },
  {
   "cell_type": "markdown",
   "id": "02e3d0b9",
   "metadata": {
    "papermill": {
     "duration": 0.01119,
     "end_time": "2024-10-21T19:30:34.283370",
     "exception": false,
     "start_time": "2024-10-21T19:30:34.272180",
     "status": "completed"
    },
    "tags": []
   },
   "source": [
    "# Main"
   ]
  },
  {
   "cell_type": "markdown",
   "id": "78372fa7",
   "metadata": {
    "papermill": {
     "duration": 0.010942,
     "end_time": "2024-10-21T19:30:34.305619",
     "exception": false,
     "start_time": "2024-10-21T19:30:34.294677",
     "status": "completed"
    },
    "tags": []
   },
   "source": [
    "## Train result"
   ]
  },
  {
   "cell_type": "code",
   "execution_count": 25,
   "id": "cd5ece9e",
   "metadata": {
    "execution": {
     "iopub.execute_input": "2024-10-21T19:30:34.329835Z",
     "iopub.status.busy": "2024-10-21T19:30:34.329078Z",
     "iopub.status.idle": "2024-10-21T21:41:33.361844Z",
     "shell.execute_reply": "2024-10-21T21:41:33.360651Z"
    },
    "papermill": {
     "duration": 7859.065619,
     "end_time": "2024-10-21T21:41:33.382668",
     "exception": false,
     "start_time": "2024-10-21T19:30:34.317049",
     "status": "completed"
    },
    "tags": []
   },
   "outputs": [
    {
     "name": "stdout",
     "output_type": "stream",
     "text": [
      "No checkpoints found.\n",
      "Epoch 1: Loss: 0.4980, Accuracy: 76.1840%\n",
      "Validation Loss: 0.4144, Validation Accuracy: 83.3333%\n",
      "Checkpoint saved: /kaggle/working/RSNA-ResNet18/checkpoints/checkpoint_epoch_1.pth\n",
      "Epoch 2: Loss: 0.4262, Accuracy: 81.1388%\n",
      "Validation Loss: 0.3646, Validation Accuracy: 82.1429%\n",
      "Checkpoint saved: /kaggle/working/RSNA-ResNet18/checkpoints/checkpoint_epoch_2.pth\n",
      "Epoch 3: Loss: 0.3962, Accuracy: 82.4802%\n",
      "Validation Loss: 0.5906, Validation Accuracy: 80.1314%\n",
      "Epoch 4: Loss: 0.3793, Accuracy: 83.4793%\n",
      "Validation Loss: 0.3708, Validation Accuracy: 86.6995%\n",
      "Epoch 5: Loss: 0.3667, Accuracy: 84.1363%\n",
      "Validation Loss: 0.3060, Validation Accuracy: 87.1921%\n",
      "Checkpoint saved: /kaggle/working/RSNA-ResNet18/checkpoints/checkpoint_epoch_5.pth\n",
      "Epoch 6: Loss: 0.3545, Accuracy: 85.0671%\n",
      "Validation Loss: 0.3316, Validation Accuracy: 84.4007%\n",
      "Epoch 7: Loss: 0.3467, Accuracy: 85.5598%\n",
      "Validation Loss: 0.3173, Validation Accuracy: 88.9573%\n",
      "Epoch 8: Loss: 0.3375, Accuracy: 85.9704%\n",
      "Validation Loss: 0.3100, Validation Accuracy: 88.0131%\n",
      "Epoch 9: Loss: 0.3182, Accuracy: 86.3674%\n",
      "Validation Loss: 0.2874, Validation Accuracy: 89.4499%\n",
      "Checkpoint saved: /kaggle/working/RSNA-ResNet18/checkpoints/checkpoint_epoch_9.pth\n",
      "Epoch 10: Loss: 0.3145, Accuracy: 86.7780%\n",
      "Validation Loss: 0.3652, Validation Accuracy: 86.6174%\n",
      "Epoch 11: Loss: 0.3097, Accuracy: 86.9970%\n",
      "Validation Loss: 0.2838, Validation Accuracy: 89.9836%\n",
      "Checkpoint saved: /kaggle/working/RSNA-ResNet18/checkpoints/checkpoint_epoch_11.pth\n",
      "Epoch 12: Loss: 0.2996, Accuracy: 87.2434%\n",
      "Validation Loss: 0.2848, Validation Accuracy: 88.4236%\n",
      "Epoch 13: Loss: 0.2833, Accuracy: 88.3657%\n",
      "Validation Loss: 0.3179, Validation Accuracy: 89.2447%\n",
      "Epoch 14: Loss: 0.3110, Accuracy: 87.9551%\n",
      "Validation Loss: 0.4643, Validation Accuracy: 83.2512%\n",
      "Epoch 15: Loss: 0.3184, Accuracy: 86.5590%\n",
      "Validation Loss: 0.2816, Validation Accuracy: 89.9836%\n",
      "Checkpoint saved: /kaggle/working/RSNA-ResNet18/checkpoints/checkpoint_epoch_15.pth\n",
      "Epoch 16: Loss: 0.2726, Accuracy: 88.5984%\n",
      "Validation Loss: 0.2694, Validation Accuracy: 90.1067%\n",
      "Checkpoint saved: /kaggle/working/RSNA-ResNet18/checkpoints/checkpoint_epoch_16.pth\n",
      "Epoch 17: Loss: 0.2585, Accuracy: 89.3649%\n",
      "Validation Loss: 0.2615, Validation Accuracy: 91.4614%\n",
      "Checkpoint saved: /kaggle/working/RSNA-ResNet18/checkpoints/checkpoint_epoch_17.pth\n",
      "Epoch 18: Loss: 0.2516, Accuracy: 89.9124%\n",
      "Validation Loss: 0.2490, Validation Accuracy: 91.0509%\n",
      "Checkpoint saved: /kaggle/working/RSNA-ResNet18/checkpoints/checkpoint_epoch_18.pth\n",
      "Epoch 19: Loss: 0.2488, Accuracy: 89.5428%\n",
      "Validation Loss: 0.2620, Validation Accuracy: 90.3120%\n",
      "Epoch 20: Loss: 0.2339, Accuracy: 90.9937%\n",
      "Validation Loss: 0.2850, Validation Accuracy: 89.4499%\n",
      "Epoch 21: Loss: 0.2301, Accuracy: 90.8842%\n",
      "Validation Loss: 0.2702, Validation Accuracy: 90.3530%\n",
      "Epoch 22: Loss: 0.2230, Accuracy: 91.1443%\n",
      "Validation Loss: 0.2893, Validation Accuracy: 89.7373%\n",
      "Epoch 23: Loss: 0.2381, Accuracy: 90.1314%\n",
      "Validation Loss: 0.2929, Validation Accuracy: 90.5172%\n",
      "Epoch 24: Loss: 0.2197, Accuracy: 91.1443%\n",
      "Validation Loss: 0.2788, Validation Accuracy: 90.0246%\n",
      "Epoch 25: Loss: 0.2139, Accuracy: 90.9937%\n",
      "Validation Loss: 0.2604, Validation Accuracy: 90.5172%\n",
      "Epoch 26: Loss: 0.2086, Accuracy: 91.4317%\n",
      "Validation Loss: 0.4057, Validation Accuracy: 88.7110%\n",
      "Epoch 27: Loss: 0.2084, Accuracy: 91.6918%\n",
      "Validation Loss: 0.2857, Validation Accuracy: 91.0509%\n",
      "Epoch 28: Loss: 0.1973, Accuracy: 91.7602%\n",
      "Validation Loss: 0.3540, Validation Accuracy: 89.9425%\n",
      "Epoch 29: Loss: 0.1876, Accuracy: 92.4035%\n",
      "Validation Loss: 0.2826, Validation Accuracy: 91.0099%\n",
      "Epoch 30: Loss: 0.1898, Accuracy: 91.7602%\n",
      "Validation Loss: 0.2972, Validation Accuracy: 91.5435%\n",
      "Epoch 31: Loss: 0.1778, Accuracy: 92.4583%\n",
      "Validation Loss: 0.2856, Validation Accuracy: 90.5993%\n",
      "Epoch 32: Loss: 0.1800, Accuracy: 92.3214%\n",
      "Validation Loss: 0.2938, Validation Accuracy: 91.0920%\n",
      "Epoch 33: Loss: 0.1864, Accuracy: 92.5130%\n",
      "Validation Loss: 0.3344, Validation Accuracy: 90.3530%\n",
      "Epoch 34: Loss: 0.1909, Accuracy: 92.3351%\n",
      "Validation Loss: 0.3354, Validation Accuracy: 90.5172%\n",
      "Epoch 35: Loss: 0.1783, Accuracy: 93.0057%\n",
      "Validation Loss: 0.2724, Validation Accuracy: 91.3793%\n",
      "Epoch 36: Loss: 0.1721, Accuracy: 92.9373%\n",
      "Validation Loss: 0.2859, Validation Accuracy: 90.7635%\n",
      "Epoch 37: Loss: 0.1712, Accuracy: 93.2247%\n",
      "Validation Loss: 0.2892, Validation Accuracy: 90.9278%\n",
      "Epoch 38: Loss: 0.1653, Accuracy: 93.3890%\n",
      "Validation Loss: 0.2729, Validation Accuracy: 91.4204%\n",
      "Epoch 39: Loss: 0.1615, Accuracy: 93.2795%\n",
      "Validation Loss: 0.2919, Validation Accuracy: 91.1741%\n",
      "Epoch 40: Loss: 0.1631, Accuracy: 93.6217%\n",
      "Validation Loss: 0.2770, Validation Accuracy: 91.0920%\n",
      "Epoch 41: Loss: 0.1613, Accuracy: 93.5396%\n",
      "Validation Loss: 0.2824, Validation Accuracy: 91.0920%\n",
      "Epoch 42: Loss: 0.1612, Accuracy: 93.8681%\n",
      "Validation Loss: 0.3209, Validation Accuracy: 91.0509%\n",
      "Epoch 43: Loss: 0.1592, Accuracy: 93.7449%\n",
      "Validation Loss: 0.3231, Validation Accuracy: 91.6256%\n",
      "Epoch 44: Loss: 0.1593, Accuracy: 93.5943%\n",
      "Validation Loss: 0.3016, Validation Accuracy: 90.8456%\n",
      "Epoch 45: Loss: 0.1653, Accuracy: 93.1016%\n",
      "Validation Loss: 0.2936, Validation Accuracy: 91.3793%\n",
      "Epoch 46: Loss: 0.1543, Accuracy: 93.6491%\n",
      "Validation Loss: 0.2678, Validation Accuracy: 91.6256%\n",
      "Epoch 47: Loss: 0.1582, Accuracy: 93.8544%\n",
      "Validation Loss: 0.2695, Validation Accuracy: 91.4204%\n",
      "Epoch 48: Loss: 0.1633, Accuracy: 93.4301%\n",
      "Validation Loss: 0.2752, Validation Accuracy: 91.0920%\n",
      "Epoch 49: Loss: 0.1625, Accuracy: 93.5669%\n",
      "Validation Loss: 0.3159, Validation Accuracy: 91.2562%\n",
      "Epoch 50: Loss: 0.1543, Accuracy: 93.7175%\n",
      "Validation Loss: 0.2567, Validation Accuracy: 91.8719%\n"
     ]
    }
   ],
   "source": [
    "loaded_epoch, loaded_best_val_loss = load_best_checkpoint(model, optimizer, scheduler, CHECKPOINTS_DIR)\n",
    "\n",
    "if loaded_epoch is not None:\n",
    "    start_epoch = loaded_epoch + 1\n",
    "    best_val_loss = loaded_best_val_loss\n",
    "else:\n",
    "    start_epoch = 0\n",
    "    best_val_loss = float('inf')\n",
    "\n",
    "for epoch in range(start_epoch, NUM_EPOCHS):\n",
    "    train_loader = dataloader_manager.train_loader\n",
    "    validate_loader = dataloader_manager.validate_loader \n",
    "    \n",
    "    train_loss = train(model, train_loader, criterion, optimizer, scheduler, device)\n",
    "    val_loss = validate(model, validate_loader, criterion, device)\n",
    "    \n",
    "    if val_loss < best_val_loss:\n",
    "        save_checkpoint(model, optimizer, scheduler, epoch, val_loss)\n",
    "        best_val_loss = val_loss"
   ]
  },
  {
   "cell_type": "markdown",
   "id": "1ee1eaba",
   "metadata": {
    "papermill": {
     "duration": 0.018926,
     "end_time": "2024-10-21T21:41:33.420932",
     "exception": false,
     "start_time": "2024-10-21T21:41:33.402006",
     "status": "completed"
    },
    "tags": []
   },
   "source": [
    "## Evaluate result"
   ]
  },
  {
   "cell_type": "code",
   "execution_count": 26,
   "id": "fc920bf3",
   "metadata": {
    "ExecuteTime": {
     "end_time": "2024-10-15T15:18:44.867379Z",
     "start_time": "2024-10-15T15:17:49.586291Z"
    },
    "execution": {
     "iopub.execute_input": "2024-10-21T21:41:33.460819Z",
     "iopub.status.busy": "2024-10-21T21:41:33.460394Z",
     "iopub.status.idle": "2024-10-21T21:42:18.410255Z",
     "shell.execute_reply": "2024-10-21T21:42:18.409105Z"
    },
    "papermill": {
     "duration": 44.972492,
     "end_time": "2024-10-21T21:42:18.412485",
     "exception": false,
     "start_time": "2024-10-21T21:41:33.439993",
     "status": "completed"
    },
    "tags": []
   },
   "outputs": [
    {
     "name": "stdout",
     "output_type": "stream",
     "text": [
      "Test Accuracy: 91.3383%\n",
      "Test Loss: 0.2479\n"
     ]
    },
    {
     "data": {
      "image/png": "[encoded data removed]",
      "text/plain": [
       "<Figure size 640x480 with 1 Axes>"
      ]
     },
     "metadata": {},
     "output_type": "display_data"
    },
    {
     "data": {
      "image/png": "[encoded data removed]",
      "text/plain": [
       "<Figure size 640x480 with 2 Axes>"
      ]
     },
     "metadata": {},
     "output_type": "display_data"
    },
    {
     "name": "stdout",
     "output_type": "stream",
     "text": [
      "Final model saved to /kaggle/working/RSNA-ResNet18/checkpoints/final_model.pth\n"
     ]
    }
   ],
   "source": [
    "test_loader = dataloader_manager.test_loader\n",
    "accuracy, test_loss = evaluate(model, test_loader, device, criterion)\n",
    "\n",
    "final_model_path = os.path.join(CHECKPOINTS_DIR, 'final_model.pth')\n",
    "save_final_model(model, optimizer, scheduler, final_model_path)"
   ]
  }
 ],
 "metadata": {
  "kaggle": {
   "accelerator": "gpu",
   "dataSources": [
    {
     "datasetId": 5854070,
     "sourceId": 9651167,
     "sourceType": "datasetVersion"
    },
    {
     "datasetId": 5705276,
     "sourceId": 9652074,
     "sourceType": "datasetVersion"
    }
   ],
   "dockerImageVersionId": 30787,
   "isGpuEnabled": true,
   "isInternetEnabled": true,
   "language": "python",
   "sourceType": "notebook"
  },
  "kernelspec": {
   "display_name": "Python 3",
   "language": "python",
   "name": "python3"
  },
  "language_info": {
   "codemirror_mode": {
    "name": "ipython",
    "version": 3
   },
   "file_extension": ".py",
   "mimetype": "text/x-python",
   "name": "python",
   "nbconvert_exporter": "python",
   "pygments_lexer": "ipython3",
   "version": "3.10.14"
  },
  "papermill": {
   "default_parameters": {},
   "duration": 7935.872943,
   "end_time": "2024-10-21T21:42:21.948445",
   "environment_variables": {},
   "exception": null,
   "input_path": "__notebook__.ipynb",
   "output_path": "__notebook__.ipynb",
   "parameters": {},
   "start_time": "2024-10-21T19:30:06.075502",
   "version": "2.6.0"
  }
 },
 "nbformat": 4,
 "nbformat_minor": 5
}
