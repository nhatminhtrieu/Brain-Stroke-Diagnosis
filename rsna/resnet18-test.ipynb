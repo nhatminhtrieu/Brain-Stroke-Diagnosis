{
 "cells": [
  {
   "cell_type": "code",
   "execution_count": 1,
   "id": "cada21f9",
   "metadata": {
    "ExecuteTime": {
     "end_time": "2024-10-15T15:07:46.081006Z",
     "start_time": "2024-10-15T15:07:41.005714Z"
    },
    "_cell_guid": "b1076dfc-b9ad-4769-8c92-a6c4dae69d19",
    "_uuid": "8f2839f25d086af736a60e9eeb907d3b93b6e0e5",
    "execution": {
     "iopub.execute_input": "2024-10-18T14:26:26.359417Z",
     "iopub.status.busy": "2024-10-18T14:26:26.358381Z",
     "iopub.status.idle": "2024-10-18T14:26:36.796192Z",
     "shell.execute_reply": "2024-10-18T14:26:36.795376Z"
    },
    "papermill": {
     "duration": 10.455665,
     "end_time": "2024-10-18T14:26:36.798508",
     "exception": false,
     "start_time": "2024-10-18T14:26:26.342843",
     "status": "completed"
    },
    "tags": []
   },
   "outputs": [],
   "source": [
    "# Standard library imports\n",
    "import os\n",
    "import zipfile\n",
    "\n",
    "# Third-party imports\n",
    "import cv2\n",
    "import matplotlib.pyplot as plt\n",
    "import numpy as np\n",
    "import pandas as pd\n",
    "import pydicom\n",
    "\n",
    "# PyTorch imports\n",
    "import torch\n",
    "import torch.nn as nn\n",
    "import torch.optim as optim\n",
    "from torch.optim.lr_scheduler import ReduceLROnPlateau\n",
    "from torch.utils.data import Dataset, DataLoader, Subset\n",
    "\n",
    "from sklearn.model_selection import train_test_split\n",
    "from sklearn.metrics import confusion_matrix, ConfusionMatrixDisplay, roc_curve, auc\n",
    "\n",
    "# Torchvision imports\n",
    "from torchvision import transforms, models\n",
    "from torchvision.models import ResNet18_Weights"
   ]
  },
  {
   "cell_type": "code",
   "execution_count": 2,
   "id": "6024c4f1",
   "metadata": {
    "ExecuteTime": {
     "end_time": "2024-10-15T15:07:46.497429Z",
     "start_time": "2024-10-15T15:07:46.096325Z"
    },
    "execution": {
     "iopub.execute_input": "2024-10-18T14:26:36.822283Z",
     "iopub.status.busy": "2024-10-18T14:26:36.821787Z",
     "iopub.status.idle": "2024-10-18T14:26:36.899199Z",
     "shell.execute_reply": "2024-10-18T14:26:36.898139Z"
    },
    "papermill": {
     "duration": 0.09107,
     "end_time": "2024-10-18T14:26:36.901252",
     "exception": false,
     "start_time": "2024-10-18T14:26:36.810182",
     "status": "completed"
    },
    "tags": []
   },
   "outputs": [
    {
     "name": "stdout",
     "output_type": "stream",
     "text": [
      "GPUs Available: 1\n",
      "- Tesla P100-PCIE-16GB\n"
     ]
    }
   ],
   "source": [
    "if torch.cuda.is_available():\n",
    "    print(f\"GPUs Available: {torch.cuda.device_count()}\")\n",
    "    for i in range(torch.cuda.device_count()):\n",
    "        print(f\"- {torch.cuda.get_device_name(i)}\")\n",
    "else:\n",
    "    print(\"No GPUs available.\")"
   ]
  },
  {
   "cell_type": "markdown",
   "id": "6bf51c04",
   "metadata": {
    "papermill": {
     "duration": 0.009694,
     "end_time": "2024-10-18T14:26:36.921414",
     "exception": false,
     "start_time": "2024-10-18T14:26:36.911720",
     "status": "completed"
    },
    "tags": []
   },
   "source": [
    "# Local"
   ]
  },
  {
   "cell_type": "code",
   "execution_count": 3,
   "id": "626d5e49",
   "metadata": {
    "ExecuteTime": {
     "end_time": "2024-10-15T15:07:47.108742Z",
     "start_time": "2024-10-15T15:07:46.826869Z"
    },
    "execution": {
     "iopub.execute_input": "2024-10-18T14:26:36.942388Z",
     "iopub.status.busy": "2024-10-18T14:26:36.942048Z",
     "iopub.status.idle": "2024-10-18T14:26:36.946692Z",
     "shell.execute_reply": "2024-10-18T14:26:36.945826Z"
    },
    "papermill": {
     "duration": 0.017295,
     "end_time": "2024-10-18T14:26:36.948590",
     "exception": false,
     "start_time": "2024-10-18T14:26:36.931295",
     "status": "completed"
    },
    "tags": []
   },
   "outputs": [],
   "source": [
    "# ## Dataset and Directory Configuration\n",
    "# DATASET_NAME = 'rsna-mil-training'\n",
    "# JOB_NAME = 'RSNA-ResNet18'\n",
    "# HPC_DIR = '/media02/tdhoang01/21127112-21127734/data'\n",
    "# OUTPUT_DIR = '/media02/tdhoang01/python-debugging/rsna/results'\n",
    "\n",
    "# ZIP_FILE_PATH = os.path.join(HPC_DIR, DATASET_NAME + '.zip')\n",
    "# CHECKPOINTS_DIR = os.path.join(OUTPUT_DIR, JOB_NAME, 'checkpoints')\n",
    "# FIGURES_DIR = os.path.join(OUTPUT_DIR, JOB_NAME, 'figures')\n",
    "# DICOM_DIR = f'{DATASET_NAME}/'\n",
    "\n",
    "# ## File Paths\n",
    "# CSV_PATH = f'{DATASET_NAME}/training_1000_scan_subset.csv'\n",
    "\n",
    "# ## Image Processing Parameters\n",
    "# MAX_SLICES = 60\n",
    "# HEIGHT = 224\n",
    "# WIDTH = 224\n",
    "\n",
    "# ## Training Hyperparameters\n",
    "# BATCH_PATIENTS = 4\n",
    "# NUM_EPOCHS = 2\n",
    "# LEARNING_RATE = 1e-4\n",
    "\n",
    "# ## Dataset Split Ratios\n",
    "# VAL_SIZE = 0.15\n",
    "# TEST_SIZE = 0.15\n",
    "\n",
    "# ## Create Necessary Directories\n",
    "# os.makedirs(CHECKPOINTS_DIR, exist_ok=True)\n",
    "# os.makedirs(FIGURES_DIR, exist_ok=True)\n",
    "\n",
    "# ## Load CSVs from zip\n",
    "# with zipfile.ZipFile(ZIP_FILE_PATH, 'r') as zip_ref:\n",
    "#     medical_scan_data = pd.read_csv(zip_ref.open(CSV_PATH))"
   ]
  },
  {
   "cell_type": "markdown",
   "id": "cdf262b3",
   "metadata": {
    "papermill": {
     "duration": 0.009647,
     "end_time": "2024-10-18T14:26:36.968059",
     "exception": false,
     "start_time": "2024-10-18T14:26:36.958412",
     "status": "completed"
    },
    "tags": []
   },
   "source": [
    "# Kaggle"
   ]
  },
  {
   "cell_type": "code",
   "execution_count": 4,
   "id": "4e55da87",
   "metadata": {
    "ExecuteTime": {
     "end_time": "2024-10-15T15:07:47.136336Z",
     "start_time": "2024-10-15T15:07:47.132955Z"
    },
    "execution": {
     "iopub.execute_input": "2024-10-18T14:26:36.989021Z",
     "iopub.status.busy": "2024-10-18T14:26:36.988525Z",
     "iopub.status.idle": "2024-10-18T14:26:37.039327Z",
     "shell.execute_reply": "2024-10-18T14:26:37.038468Z"
    },
    "papermill": {
     "duration": 0.06339,
     "end_time": "2024-10-18T14:26:37.041294",
     "exception": false,
     "start_time": "2024-10-18T14:26:36.977904",
     "status": "completed"
    },
    "tags": []
   },
   "outputs": [],
   "source": [
    "# Configuration\n",
    "DATASET_NAME = 'rsna-mil-training'\n",
    "JOB_NAME = 'RSNA-ResNet18'\n",
    "INPUT_DIR = '/kaggle/input'\n",
    "OUTPUT_DIR = '/kaggle/working'\n",
    "\n",
    "# Directories\n",
    "CHECKPOINTS_DIR = os.path.join(OUTPUT_DIR, JOB_NAME, 'checkpoints')\n",
    "FIGURES_DIR = os.path.join(OUTPUT_DIR, JOB_NAME, 'figures')\n",
    "DICOM_DIR = os.path.join(INPUT_DIR, DATASET_NAME, DATASET_NAME)\n",
    "\n",
    "# File Paths\n",
    "CSV_PATH = f'{DICOM_DIR}/training_1000_scan_subset.csv'\n",
    "\n",
    "# Image Processing Parameters\n",
    "MAX_SLICES = 60\n",
    "HEIGHT = 512\n",
    "WIDTH = 512\n",
    "\n",
    "# Training Hyperparameters\n",
    "BATCH_PATIENTS = 128\n",
    "NUM_EPOCHS = 30\n",
    "LEARNING_RATE = 5e-4\n",
    "\n",
    "# Dataset Split Ratios\n",
    "VAL_SIZE = 0.15\n",
    "TEST_SIZE = 0.15\n",
    "\n",
    "# Create Necessary Directories\n",
    "os.makedirs(CHECKPOINTS_DIR, exist_ok=True)\n",
    "os.makedirs(FIGURES_DIR, exist_ok=True)\n",
    "\n",
    "# Load CSV from Kaggle environment (no need to unzip)\n",
    "medical_scan_data = pd.read_csv(CSV_PATH)"
   ]
  },
  {
   "cell_type": "code",
   "execution_count": 5,
   "id": "e2e1994e",
   "metadata": {
    "ExecuteTime": {
     "end_time": "2024-10-15T15:07:47.212661Z",
     "start_time": "2024-10-15T15:07:47.197850Z"
    },
    "execution": {
     "iopub.execute_input": "2024-10-18T14:26:37.062090Z",
     "iopub.status.busy": "2024-10-18T14:26:37.061801Z",
     "iopub.status.idle": "2024-10-18T14:26:37.081402Z",
     "shell.execute_reply": "2024-10-18T14:26:37.080558Z"
    },
    "papermill": {
     "duration": 0.032161,
     "end_time": "2024-10-18T14:26:37.083417",
     "exception": false,
     "start_time": "2024-10-18T14:26:37.051256",
     "status": "completed"
    },
    "tags": []
   },
   "outputs": [
    {
     "data": {
      "text/html": [
       "<div>\n",
       "<style scoped>\n",
       "    .dataframe tbody tr th:only-of-type {\n",
       "        vertical-align: middle;\n",
       "    }\n",
       "\n",
       "    .dataframe tbody tr th {\n",
       "        vertical-align: top;\n",
       "    }\n",
       "\n",
       "    .dataframe thead th {\n",
       "        text-align: right;\n",
       "    }\n",
       "</style>\n",
       "<table border=\"1\" class=\"dataframe\">\n",
       "  <thead>\n",
       "    <tr style=\"text-align: right;\">\n",
       "      <th></th>\n",
       "      <th>patient_id</th>\n",
       "      <th>study_instance_uid</th>\n",
       "      <th>images</th>\n",
       "      <th>labels</th>\n",
       "      <th>patient_label</th>\n",
       "      <th>length</th>\n",
       "    </tr>\n",
       "  </thead>\n",
       "  <tbody>\n",
       "    <tr>\n",
       "      <th>0</th>\n",
       "      <td>ID_2e010e33</td>\n",
       "      <td>ID_bda0f47e84</td>\n",
       "      <td>['ID_b9035cb1e.dcm', 'ID_0713bed86.dcm', 'ID_5...</td>\n",
       "      <td>[0, 0, 0, 0, 0, 0, 0, 0, 0, 0, 0, 0, 0, 0, 0, ...</td>\n",
       "      <td>0</td>\n",
       "      <td>48</td>\n",
       "    </tr>\n",
       "  </tbody>\n",
       "</table>\n",
       "</div>"
      ],
      "text/plain": [
       "    patient_id study_instance_uid  \\\n",
       "0  ID_2e010e33      ID_bda0f47e84   \n",
       "\n",
       "                                              images  \\\n",
       "0  ['ID_b9035cb1e.dcm', 'ID_0713bed86.dcm', 'ID_5...   \n",
       "\n",
       "                                              labels  patient_label  length  \n",
       "0  [0, 0, 0, 0, 0, 0, 0, 0, 0, 0, 0, 0, 0, 0, 0, ...              0      48  "
      ]
     },
     "execution_count": 5,
     "metadata": {},
     "output_type": "execute_result"
    }
   ],
   "source": [
    "medical_scan_data.head(1)"
   ]
  },
  {
   "cell_type": "code",
   "execution_count": 6,
   "id": "23fe9710",
   "metadata": {
    "ExecuteTime": {
     "end_time": "2024-10-15T15:07:47.321026Z",
     "start_time": "2024-10-15T15:07:47.316594Z"
    },
    "execution": {
     "iopub.execute_input": "2024-10-18T14:26:37.104557Z",
     "iopub.status.busy": "2024-10-18T14:26:37.104238Z",
     "iopub.status.idle": "2024-10-18T14:26:37.109943Z",
     "shell.execute_reply": "2024-10-18T14:26:37.109112Z"
    },
    "papermill": {
     "duration": 0.018447,
     "end_time": "2024-10-18T14:26:37.111901",
     "exception": false,
     "start_time": "2024-10-18T14:26:37.093454",
     "status": "completed"
    },
    "tags": []
   },
   "outputs": [
    {
     "data": {
      "text/plain": [
       "Index(['patient_id', 'study_instance_uid', 'images', 'labels', 'patient_label',\n",
       "       'length'],\n",
       "      dtype='object')"
      ]
     },
     "execution_count": 6,
     "metadata": {},
     "output_type": "execute_result"
    }
   ],
   "source": [
    "medical_scan_data.columns"
   ]
  },
  {
   "cell_type": "markdown",
   "id": "4973e397",
   "metadata": {
    "papermill": {
     "duration": 0.009874,
     "end_time": "2024-10-18T14:26:37.131928",
     "exception": false,
     "start_time": "2024-10-18T14:26:37.122054",
     "status": "completed"
    },
    "tags": []
   },
   "source": [
    "# Local dataset gen."
   ]
  },
  {
   "cell_type": "code",
   "execution_count": 7,
   "id": "004ecbc5",
   "metadata": {
    "ExecuteTime": {
     "end_time": "2024-10-15T15:07:50.768147Z",
     "start_time": "2024-10-15T15:07:47.399320Z"
    },
    "execution": {
     "iopub.execute_input": "2024-10-18T14:26:37.153559Z",
     "iopub.status.busy": "2024-10-18T14:26:37.153254Z",
     "iopub.status.idle": "2024-10-18T14:26:37.162567Z",
     "shell.execute_reply": "2024-10-18T14:26:37.161468Z"
    },
    "papermill": {
     "duration": 0.022629,
     "end_time": "2024-10-18T14:26:37.164610",
     "exception": false,
     "start_time": "2024-10-18T14:26:37.141981",
     "status": "completed"
    },
    "tags": []
   },
   "outputs": [],
   "source": [
    "# class DatasetGenerator(Dataset):\n",
    "#     def __init__(self, zip_file_path, medical_scan_data, max_slices, height, width):\n",
    "#         self.zip_file_path = zip_file_path\n",
    "#         self.medical_scan_data = self._parse_medical_scan_data(medical_scan_data)\n",
    "#         self.max_slices = max_slices\n",
    "#         self.height = height\n",
    "#         self.width = width\n",
    "#         self.channels = 3\n",
    "#         self.dicom_paths = self._get_dicom_paths()\n",
    "#         self.transform = transforms.Compose([\n",
    "#             transforms.Resize((self.height, self.width))\n",
    "#         ])\n",
    "\n",
    "#     def __len__(self):\n",
    "#         return len(self.dicom_paths)\n",
    "\n",
    "#     def __getitem__(self, idx):\n",
    "#         dicom_files, row = self.dicom_paths[idx]\n",
    "\n",
    "#         # Process DICOM files to get images and labels\n",
    "#         images, labels = self._process_dicom_files(dicom_files)\n",
    "\n",
    "#         patient_scan_label = row['patient_scan_label']\n",
    "\n",
    "#         return self._pad_data(images, labels, patient_scan_label)\n",
    "    \n",
    "#     def _parse_medical_scan_data(self, medical_scan_data):\n",
    "#         medical_scan_data['images'] = medical_scan_data['images'].apply(lambda x: eval(x) if isinstance(x, str) else x)\n",
    "#         medical_scan_data['labels'] = medical_scan_data['labels'].apply(lambda x: eval(x) if isinstance(x, str) else x)\n",
    "#         return medical_scan_data\n",
    "\n",
    "#     def _get_dicom_paths(self):\n",
    "#         dicom_paths = []\n",
    "#         with zipfile.ZipFile(self.zip_file_path, 'r') as zip_ref:\n",
    "#             file_list = zip_ref.namelist()\n",
    "            \n",
    "#             for _, row in self.medical_scan_data.iterrows():\n",
    "#                 patient_id = row['patient_id'].replace(\"ID_\", \"\")\n",
    "#                 study_instance_uid = row['study_instance_uid'].replace(\"ID_\", \"\")\n",
    "#                 dicom_dir_path = f\"{DATASET_NAME}/{patient_id}_{study_instance_uid}\"\n",
    "                \n",
    "#                 dicom_files = [f for f in file_list if f.startswith(dicom_dir_path) and f.endswith(\".dcm\")]\n",
    "#                 if dicom_files:\n",
    "#                     dicom_paths.append((dicom_files, row))\n",
    "#                 else:\n",
    "#                     print(f\"No DICOM files found for {dicom_dir_path}.\")\n",
    "        \n",
    "#         return dicom_paths\n",
    "    \n",
    "#     def _process_dicom_files(self, dicom_files):\n",
    "#         images = []\n",
    "#         labels = []\n",
    "\n",
    "#         for _, row in self.medical_scan_data.iterrows():\n",
    "#             image_list = row['images']\n",
    "#             if all(os.path.basename(f) in image_list for f in dicom_files) and len(image_list) == len(dicom_files):\n",
    "#                 labels = row['labels']\n",
    "#                 if labels:\n",
    "#                     labels = torch.tensor(labels, dtype=torch.float32)\n",
    "#                 break\n",
    "\n",
    "#         with zipfile.ZipFile(self.zip_file_path, 'r') as zip_ref:\n",
    "#             for dicom_file in dicom_files:\n",
    "#                 with zip_ref.open(dicom_file) as file:\n",
    "#                     dicom = pydicom.dcmread(file)\n",
    "#                     img = self._preprocess_slice(dicom)\n",
    "#                     images.append(torch.from_numpy(img).float())\n",
    "\n",
    "#         return torch.stack(images), labels\n",
    "    \n",
    "#     def _preprocess_slice(self, dicom):\n",
    "#         bsb_img = self._bsb_window(dicom)\n",
    "#         return bsb_img.astype(np.float16)\n",
    "\n",
    "#     def _pad_data(self, images, labels, patient_scan_label):\n",
    "#         if images.shape[0] > self.max_slices:\n",
    "#             # Cut out the last images\n",
    "#             images = images[:self.max_slices]\n",
    "#             if isinstance(labels, torch.Tensor):\n",
    "#                 labels = labels[:self.max_slices]\n",
    "#             else:\n",
    "#                 labels = labels[:self.max_slices]\n",
    "#         elif images.shape[0] < self.max_slices:\n",
    "#             padding = torch.zeros((self.max_slices - images.shape[0], self.channels, self.height, self.width))\n",
    "#             images = torch.cat((images, padding), dim=0)\n",
    "    \n",
    "#             if isinstance(labels, torch.Tensor):\n",
    "#                 label_padding = torch.zeros(self.max_slices - labels.shape[0])\n",
    "#                 labels = torch.cat((labels, label_padding))\n",
    "#             else:\n",
    "#                 label_padding = torch.zeros(self.max_slices - len(labels))\n",
    "#                 labels = torch.cat((torch.tensor(labels), label_padding))\n",
    "        \n",
    "#         return images, labels, float(patient_scan_label)\n",
    "    \n",
    "#     def _correct_dcm(self, dcm):\n",
    "#         x = dcm.pixel_array + 1000\n",
    "#         px_mode = 4096\n",
    "#         x[x >= px_mode] -= px_mode\n",
    "#         dcm.PixelData = x.tobytes()\n",
    "#         dcm.RescaleIntercept = -1000\n",
    "\n",
    "#     def _window_image(self, dcm, window_center, window_width):\n",
    "#         if (dcm.BitsStored == 12) and (dcm.PixelRepresentation == 0) and (int(dcm.RescaleIntercept) > -100):\n",
    "#             self._correct_dcm(dcm)\n",
    "\n",
    "#         img = dcm.pixel_array * dcm.RescaleSlope + dcm.RescaleIntercept\n",
    "#         img_min = window_center - window_width // 2\n",
    "#         img_max = window_center + window_width // 2\n",
    "#         img = np.clip(img, img_min, img_max)\n",
    "\n",
    "#         img_resized = cv2.resize(img, (self.height, self.width), interpolation=cv2.INTER_LINEAR)\n",
    "       \n",
    "#         return img_resized\n",
    "\n",
    "#     def _bsb_window(self, dcm):\n",
    "#         brain_img = self._window_image(dcm, 40, 80)\n",
    "#         subdural_img = self._window_image(dcm, 80, 200)\n",
    "#         soft_img = self._window_image(dcm, 40, 380)\n",
    "\n",
    "#         brain_img_normalized = (brain_img - 0) / 80\n",
    "#         subdural_img_normalized = (subdural_img - (-20)) / 200\n",
    "#         soft_img_normalized = (soft_img - (-150)) / 380\n",
    "\n",
    "#         bsb_img = np.stack([brain_img_normalized, subdural_img_normalized, soft_img_normalized], axis=0)\n",
    "#         return bsb_img\n",
    "\n",
    "# # Usage\n",
    "# dataset = DatasetGenerator(\n",
    "#     zip_file_path=ZIP_FILE_PATH,\n",
    "#     medical_scan_data=medical_scan_data,\n",
    "#     max_slices=MAX_SLICES,\n",
    "#     height=HEIGHT,\n",
    "#     width=WIDTH,\n",
    "# )"
   ]
  },
  {
   "cell_type": "markdown",
   "id": "c95a11a2",
   "metadata": {
    "papermill": {
     "duration": 0.010343,
     "end_time": "2024-10-18T14:26:37.185730",
     "exception": false,
     "start_time": "2024-10-18T14:26:37.175387",
     "status": "completed"
    },
    "tags": []
   },
   "source": [
    "# Kaggle dataset gen."
   ]
  },
  {
   "cell_type": "code",
   "execution_count": 8,
   "id": "6d102099",
   "metadata": {
    "ExecuteTime": {
     "end_time": "2024-10-15T15:07:50.806044Z",
     "start_time": "2024-10-15T15:07:50.800294Z"
    },
    "execution": {
     "iopub.execute_input": "2024-10-18T14:26:37.207793Z",
     "iopub.status.busy": "2024-10-18T14:26:37.207522Z",
     "iopub.status.idle": "2024-10-18T14:26:37.214664Z",
     "shell.execute_reply": "2024-10-18T14:26:37.213826Z"
    },
    "papermill": {
     "duration": 0.020509,
     "end_time": "2024-10-18T14:26:37.216565",
     "exception": false,
     "start_time": "2024-10-18T14:26:37.196056",
     "status": "completed"
    },
    "tags": []
   },
   "outputs": [],
   "source": [
    "# class DatasetGenerator(Dataset):\n",
    "#     def __init__(self, dicom_dir, medical_scan_data, max_slices, height, width):\n",
    "#         self.dicom_dir = dicom_dir\n",
    "#         self.medical_scan_data = self._parse_medical_scan_data(medical_scan_data)\n",
    "#         self.max_slices = max_slices\n",
    "#         self.height = height\n",
    "#         self.width = width\n",
    "#         self.channels = 3\n",
    "#         self.dicom_paths = self._get_dicom_paths()\n",
    "#         self.transform = transforms.Compose([\n",
    "#             transforms.Resize((self.height, self.width))\n",
    "#         ])\n",
    "\n",
    "#     def __len__(self):\n",
    "#         return sum(len(dicom_files) for dicom_files, _ in self.dicom_paths)\n",
    "\n",
    "#     def __getitem__(self, idx):\n",
    "#         # Find the correct DICOM files and their corresponding labels\n",
    "#         dicom_files, row = self._get_dicom_file_and_label(idx)\n",
    "#         images, labels = self._process_dicom_files(dicom_files, row)\n",
    "    \n",
    "#         return images, labels  # Now images are already in the desired shape\n",
    "\n",
    "#     def _parse_medical_scan_data(self, medical_scan_data):\n",
    "#         medical_scan_data['images'] = medical_scan_data['images'].apply(lambda x: eval(x) if isinstance(x, str) else x)\n",
    "#         medical_scan_data['labels'] = medical_scan_data['labels'].apply(lambda x: eval(x) if isinstance(x, str) else x)\n",
    "#         return medical_scan_data\n",
    "\n",
    "#     def _get_dicom_paths(self):\n",
    "#         dicom_paths = []\n",
    "        \n",
    "#         for _, row in self.medical_scan_data.iterrows():\n",
    "#             patient_id = row['patient_id'].replace(\"ID_\", \"\")\n",
    "#             study_instance_uid = row['study_instance_uid'].replace(\"ID_\", \"\")\n",
    "#             dicom_dir_path = os.path.join(self.dicom_dir, f\"{patient_id}_{study_instance_uid}\")\n",
    "            \n",
    "#             if os.path.exists(dicom_dir_path):\n",
    "#                 dicom_files = [os.path.join(dicom_dir_path, f) for f in os.listdir(dicom_dir_path) if f.endswith(\".dcm\")]\n",
    "#                 if dicom_files:\n",
    "#                     dicom_paths.append((dicom_files, row))\n",
    "#                 else:\n",
    "#                     print(f\"No DICOM files found for {dicom_dir_path}.\")\n",
    "#             else:\n",
    "#                 print(f\"DICOM directory does not exist: {dicom_dir_path}\")\n",
    "        \n",
    "#         return dicom_paths\n",
    "\n",
    "#     def _get_dicom_file_and_label(self, idx):\n",
    "#         current_idx = 0\n",
    "        \n",
    "#         for dicom_files, row in self.dicom_paths:\n",
    "#             num_files = len(dicom_files)\n",
    "#             if current_idx + num_files > idx:\n",
    "#                 return dicom_files[idx - current_idx], row  \n",
    "#             current_idx += num_files\n",
    "        \n",
    "#         raise IndexError(\"Index out of bounds.\")\n",
    "\n",
    "#     def _process_dicom_files(self, dicom_file, row):\n",
    "#         # Get the index of the current DICOM file to find its label\n",
    "#         label_list = row['labels']\n",
    "        \n",
    "#         dicom = pydicom.dcmread(dicom_file)\n",
    "#         img = self._preprocess_slice(dicom)\n",
    "\n",
    "#         images = torch.from_numpy(img).float()\n",
    "\n",
    "#         index_in_list = row['images'].index(os.path.basename(dicom_file))\n",
    "        \n",
    "#         labels = torch.tensor(label_list[index_in_list], dtype=torch.float32)\n",
    "        \n",
    "#         return images, labels\n",
    "\n",
    "#     def _preprocess_slice(self, dicom):\n",
    "#         bsb_img = self._bsb_window(dicom)\n",
    "#         return bsb_img.astype(np.float16)\n",
    "\n",
    "#     def _bsb_window(self, dcm):\n",
    "#         brain_img = self._window_image(dcm, 40, 80)\n",
    "#         subdural_img = self._window_image(dcm, 80, 200)\n",
    "#         soft_img = self._window_image(dcm, 40, 380)\n",
    "\n",
    "#         brain_img_normalized = (brain_img - 0) / 80\n",
    "#         subdural_img_normalized = (subdural_img - (-20)) / 200\n",
    "#         soft_img_normalized = (soft_img - (-150)) / 380\n",
    "\n",
    "#         bsb_img = np.stack([brain_img_normalized,\n",
    "#                             subdural_img_normalized,\n",
    "#                             soft_img_normalized], axis=0)  # Shape (3, height, width)\n",
    "        \n",
    "#         return bsb_img\n",
    "\n",
    "#     def _window_image(self, dcm, window_center, window_width):\n",
    "#         img = dcm.pixel_array * dcm.RescaleSlope + dcm.RescaleIntercept\n",
    "#         img_min = window_center - window_width // 2\n",
    "#         img_max = window_center + window_width // 2\n",
    "#         img = np.clip(img, img_min, img_max)\n",
    "\n",
    "#         img_resized = cv2.resize(img, (self.height, self.width), interpolation=cv2.INTER_LINEAR)\n",
    "\n",
    "#         return img_resized\n",
    "\n",
    "# # Usage in Kaggle environment\n",
    "# dataset = DatasetGenerator(\n",
    "#     dicom_dir=DICOM_DIR,\n",
    "#     medical_scan_data=medical_scan_data,\n",
    "#     max_slices=MAX_SLICES,\n",
    "#     height=HEIGHT,\n",
    "#     width=WIDTH,\n",
    "# )"
   ]
  },
  {
   "cell_type": "code",
   "execution_count": 9,
   "id": "ea3056c8",
   "metadata": {
    "execution": {
     "iopub.execute_input": "2024-10-18T14:26:37.238371Z",
     "iopub.status.busy": "2024-10-18T14:26:37.238087Z",
     "iopub.status.idle": "2024-10-18T14:26:49.293384Z",
     "shell.execute_reply": "2024-10-18T14:26:49.292384Z"
    },
    "papermill": {
     "duration": 12.069436,
     "end_time": "2024-10-18T14:26:49.296199",
     "exception": false,
     "start_time": "2024-10-18T14:26:37.226763",
     "status": "completed"
    },
    "tags": []
   },
   "outputs": [],
   "source": [
    "class DatasetGenerator(Dataset):\n",
    "    def __init__(self, dicom_dir, medical_scan_data, max_slices, height, width):\n",
    "        self.dicom_dir = dicom_dir\n",
    "        self.medical_scan_data = self._parse_medical_scan_data(medical_scan_data)\n",
    "        self.max_slices = max_slices\n",
    "        self.height = height\n",
    "        self.width = width\n",
    "        self.channels = 3\n",
    "        self.dicom_paths = self._get_dicom_paths()\n",
    "        self.transform = transforms.Compose([\n",
    "            transforms.Resize((self.height, self.width))\n",
    "        ])\n",
    "\n",
    "    def __len__(self):\n",
    "        return sum(len(dicom_files) for dicom_files, _ in self.dicom_paths)\n",
    "\n",
    "    def __getitem__(self, idx):\n",
    "        # Find the correct DICOM files and their corresponding labels\n",
    "        dicom_file, row = self._get_dicom_file_and_label(idx)\n",
    "        images, labels = self._process_dicom_file(dicom_file, row)\n",
    "    \n",
    "        return images, labels  # Now images are already in the desired shape\n",
    "\n",
    "    def _parse_medical_scan_data(self, medical_scan_data):\n",
    "        medical_scan_data['images'] = medical_scan_data['images'].apply(lambda x: eval(x) if isinstance(x, str) else x)\n",
    "        medical_scan_data['labels'] = medical_scan_data['labels'].apply(lambda x: eval(x) if isinstance(x, str) else x)\n",
    "        return medical_scan_data\n",
    "\n",
    "    def _get_dicom_paths(self):\n",
    "        dicom_paths = []\n",
    "        \n",
    "        for _, row in self.medical_scan_data.iterrows():\n",
    "            patient_id = row['patient_id'].replace(\"ID_\", \"\")\n",
    "            study_instance_uid = row['study_instance_uid'].replace(\"ID_\", \"\")\n",
    "            dicom_dir_path = os.path.join(self.dicom_dir, f\"{patient_id}_{study_instance_uid}\")\n",
    "            \n",
    "            if os.path.exists(dicom_dir_path):\n",
    "                dicom_files = [os.path.join(dicom_dir_path, f) for f in os.listdir(dicom_dir_path) if f.endswith(\".dcm\")]\n",
    "                if dicom_files:\n",
    "                    dicom_paths.append((dicom_files, row))\n",
    "                else:\n",
    "                    print(f\"No DICOM files found for {dicom_dir_path}.\")\n",
    "            else:\n",
    "                print(f\"DICOM directory does not exist: {dicom_dir_path}\")\n",
    "        \n",
    "        return dicom_paths\n",
    "\n",
    "    def _get_dicom_file_and_label(self, idx):\n",
    "        current_idx = 0\n",
    "        \n",
    "        for dicom_files, row in self.dicom_paths:\n",
    "            num_files = len(dicom_files)\n",
    "            if current_idx + num_files > idx:\n",
    "                return dicom_files[idx - current_idx], row  \n",
    "            current_idx += num_files\n",
    "        \n",
    "        raise IndexError(\"Index out of bounds.\")\n",
    "\n",
    "    def _process_dicom_file(self, dicom_file, row):\n",
    "        # Get the index of the current DICOM file to find its label\n",
    "        label_list = row['labels']\n",
    "        \n",
    "        dicom = pydicom.dcmread(dicom_file)\n",
    "        img = self._preprocess_slice(dicom)\n",
    "\n",
    "        images = torch.from_numpy(img).float()\n",
    "\n",
    "        index_in_list = row['images'].index(os.path.basename(dicom_file))\n",
    "        \n",
    "        labels = torch.tensor(label_list[index_in_list], dtype=torch.float32)\n",
    "        \n",
    "        return images, labels\n",
    "\n",
    "    def _preprocess_slice(self, dicom):\n",
    "        bsb_img = self._bsb_window(dicom)\n",
    "        return bsb_img.astype(np.float16)\n",
    "\n",
    "    def _bsb_window(self, dcm):\n",
    "        brain_img = self._window_image(dcm, 40, 80)\n",
    "        subdural_img = self._window_image(dcm, 80, 200)\n",
    "        soft_img = self._window_image(dcm, 40, 380)\n",
    "\n",
    "        brain_img_normalized = (brain_img - 0) / 80\n",
    "        subdural_img_normalized = (subdural_img - (-20)) / 200\n",
    "        soft_img_normalized = (soft_img - (-150)) / 380\n",
    "\n",
    "        bsb_img = np.stack([brain_img_normalized,\n",
    "                            subdural_img_normalized,\n",
    "                            soft_img_normalized], axis=0)  # Shape (3, height, width)\n",
    "        \n",
    "        return bsb_img\n",
    "\n",
    "    def _window_image(self, dcm, window_center, window_width):\n",
    "        img = dcm.pixel_array * dcm.RescaleSlope + dcm.RescaleIntercept\n",
    "        img_min = window_center - window_width // 2\n",
    "        img_max = window_center + window_width // 2\n",
    "        img = np.clip(img, img_min, img_max)\n",
    "\n",
    "        img_resized = cv2.resize(img, (self.height, self.width), interpolation=cv2.INTER_LINEAR)\n",
    "\n",
    "        return img_resized\n",
    "\n",
    "# Usage in Kaggle environment\n",
    "dataset = DatasetGenerator(\n",
    "    dicom_dir=DICOM_DIR,\n",
    "    medical_scan_data=medical_scan_data,\n",
    "    max_slices=MAX_SLICES,\n",
    "    height=HEIGHT,\n",
    "    width=WIDTH,\n",
    ")"
   ]
  },
  {
   "cell_type": "code",
   "execution_count": 10,
   "id": "bf5db7d1",
   "metadata": {
    "execution": {
     "iopub.execute_input": "2024-10-18T14:26:49.318614Z",
     "iopub.status.busy": "2024-10-18T14:26:49.318269Z",
     "iopub.status.idle": "2024-10-18T14:26:49.437289Z",
     "shell.execute_reply": "2024-10-18T14:26:49.436030Z"
    },
    "papermill": {
     "duration": 0.132426,
     "end_time": "2024-10-18T14:26:49.439471",
     "exception": false,
     "start_time": "2024-10-18T14:26:49.307045",
     "status": "completed"
    },
    "tags": []
   },
   "outputs": [
    {
     "name": "stdout",
     "output_type": "stream",
     "text": [
      "torch.Size([3, 512, 512]) torch.Size([])\n"
     ]
    }
   ],
   "source": [
    "images, labels = dataset[0]\n",
    "\n",
    "print(images.shape, labels.shape)"
   ]
  },
  {
   "cell_type": "code",
   "execution_count": 11,
   "id": "217371c7",
   "metadata": {
    "execution": {
     "iopub.execute_input": "2024-10-18T14:26:49.462012Z",
     "iopub.status.busy": "2024-10-18T14:26:49.461207Z",
     "iopub.status.idle": "2024-10-18T14:26:49.466938Z",
     "shell.execute_reply": "2024-10-18T14:26:49.465871Z"
    },
    "papermill": {
     "duration": 0.018816,
     "end_time": "2024-10-18T14:26:49.468774",
     "exception": false,
     "start_time": "2024-10-18T14:26:49.449958",
     "status": "completed"
    },
    "tags": []
   },
   "outputs": [
    {
     "name": "stdout",
     "output_type": "stream",
     "text": [
      "34497\n"
     ]
    }
   ],
   "source": [
    "print(len(dataset))"
   ]
  },
  {
   "cell_type": "code",
   "execution_count": 12,
   "id": "cc787d23",
   "metadata": {
    "execution": {
     "iopub.execute_input": "2024-10-18T14:26:49.490834Z",
     "iopub.status.busy": "2024-10-18T14:26:49.490263Z",
     "iopub.status.idle": "2024-10-18T14:26:49.941335Z",
     "shell.execute_reply": "2024-10-18T14:26:49.940406Z"
    },
    "papermill": {
     "duration": 0.464553,
     "end_time": "2024-10-18T14:26:49.943669",
     "exception": false,
     "start_time": "2024-10-18T14:26:49.479116",
     "status": "completed"
    },
    "tags": []
   },
   "outputs": [
    {
     "data": {
      "image/png": "[encoded data removed]",
      "text/plain": [
       "<Figure size 1000x600 with 1 Axes>"
      ]
     },
     "metadata": {},
     "output_type": "display_data"
    }
   ],
   "source": [
    "# Extract and flatten labels\n",
    "labels = medical_scan_data['labels'].explode().tolist()\n",
    "\n",
    "# Count frequencies\n",
    "label_counts = pd.Series(labels).value_counts().to_dict()\n",
    "\n",
    "# Prepare data for plotting\n",
    "labels = list(label_counts.keys())\n",
    "counts = list(label_counts.values())\n",
    "\n",
    "# Plotting\n",
    "plt.figure(figsize=(10, 6))\n",
    "bar_container = plt.bar(labels, counts)\n",
    "plt.title('Label Distribution in Dataset')\n",
    "plt.xlabel('Labels')\n",
    "plt.ylabel('Frequency')\n",
    "plt.xticks(rotation=0)\n",
    "\n",
    "# Adding count on bar\n",
    "for bar in bar_container:\n",
    "    yval = bar.get_height()\n",
    "    plt.text(bar.get_x() + bar.get_width()/2, yval, yval, va='bottom', ha='center')  # va: vertical alignment, ha: horizontal alignment\n",
    "\n",
    "plt.tight_layout()\n",
    "plt.show()"
   ]
  },
  {
   "cell_type": "markdown",
   "id": "46febb5c",
   "metadata": {
    "papermill": {
     "duration": 0.010578,
     "end_time": "2024-10-18T14:26:49.965274",
     "exception": false,
     "start_time": "2024-10-18T14:26:49.954696",
     "status": "completed"
    },
    "tags": []
   },
   "source": [
    "# Dataloader"
   ]
  },
  {
   "cell_type": "code",
   "execution_count": 13,
   "id": "1512765c",
   "metadata": {
    "ExecuteTime": {
     "end_time": "2024-10-15T15:07:51.439856Z",
     "start_time": "2024-10-15T15:07:51.432637Z"
    },
    "execution": {
     "iopub.execute_input": "2024-10-18T14:26:49.988059Z",
     "iopub.status.busy": "2024-10-18T14:26:49.987742Z",
     "iopub.status.idle": "2024-10-18T14:26:50.000257Z",
     "shell.execute_reply": "2024-10-18T14:26:49.999489Z"
    },
    "papermill": {
     "duration": 0.026165,
     "end_time": "2024-10-18T14:26:50.002169",
     "exception": false,
     "start_time": "2024-10-18T14:26:49.976004",
     "status": "completed"
    },
    "tags": []
   },
   "outputs": [],
   "source": [
    "class DataloaderManager:\n",
    "    def __init__(self, dataset, val_size, test_size, batch_size, num_workers=4):\n",
    "        self.dataset = dataset\n",
    "        self.val_size = val_size\n",
    "        self.test_size = test_size\n",
    "        self.batch_size = batch_size\n",
    "        self.num_workers = num_workers\n",
    "        \n",
    "        self._create_loaders()\n",
    "        self.print_lengths()\n",
    "\n",
    "    def _get_labels(self):\n",
    "        # Assuming the dataset has a 'labels' attribute or method\n",
    "        if hasattr(self.dataset, 'labels'):\n",
    "            return self.dataset.labels\n",
    "        elif hasattr(self.dataset, 'get_labels'):\n",
    "            return self.dataset.get_labels()\n",
    "        else:\n",
    "            return [label for _, row in self.dataset.dicom_paths for label in row['labels']]\n",
    "\n",
    "    def _split_indices(self):\n",
    "        labels = self._get_labels()\n",
    "        total_size = len(labels)\n",
    "        indices = np.arange(total_size)\n",
    "\n",
    "        # Split into train+val and test sets first\n",
    "        train_val_indices, test_indices = train_test_split(\n",
    "            indices,\n",
    "            test_size=self.test_size,\n",
    "            stratify=labels,\n",
    "            random_state=42\n",
    "        )\n",
    "\n",
    "        # Now split the remaining data into train and validation sets\n",
    "        val_relative_size = self.val_size / (1 - self.test_size)\n",
    "        train_indices, val_indices = train_test_split(\n",
    "            train_val_indices,\n",
    "            test_size=val_relative_size,\n",
    "            stratify=np.array(labels)[train_val_indices],\n",
    "            random_state=42\n",
    "        )\n",
    "\n",
    "        return train_indices, val_indices, test_indices\n",
    "\n",
    "    def _create_dataloader(self, indices, shuffle):\n",
    "        return DataLoader(\n",
    "            Subset(self.dataset, indices),\n",
    "            batch_size=self.batch_size,\n",
    "            shuffle=shuffle,\n",
    "            num_workers=self.num_workers,\n",
    "            pin_memory=True\n",
    "        )\n",
    "\n",
    "    def _create_loaders(self):\n",
    "        train_indices, val_indices, test_indices = self._split_indices()\n",
    "        \n",
    "        self.train_loader = self._create_dataloader(train_indices, shuffle=True)\n",
    "        self.validate_loader = self._create_dataloader(val_indices, shuffle=False)\n",
    "        self.test_loader = self._create_dataloader(test_indices, shuffle=False)\n",
    "\n",
    "    def print_lengths(self):\n",
    "        print(f\"Length of training dataset: {len(self.train_loader.dataset)}\")\n",
    "        print(f\"Length of validation dataset: {len(self.validate_loader.dataset)}\")\n",
    "        print(f\"Length of testing dataset: {len(self.test_loader.dataset)}\")"
   ]
  },
  {
   "cell_type": "code",
   "execution_count": 14,
   "id": "cbdcb183",
   "metadata": {
    "execution": {
     "iopub.execute_input": "2024-10-18T14:26:50.024888Z",
     "iopub.status.busy": "2024-10-18T14:26:50.024584Z",
     "iopub.status.idle": "2024-10-18T14:26:50.071717Z",
     "shell.execute_reply": "2024-10-18T14:26:50.070600Z"
    },
    "papermill": {
     "duration": 0.060796,
     "end_time": "2024-10-18T14:26:50.073828",
     "exception": false,
     "start_time": "2024-10-18T14:26:50.013032",
     "status": "completed"
    },
    "tags": []
   },
   "outputs": [
    {
     "name": "stdout",
     "output_type": "stream",
     "text": [
      "Length of training dataset: 24147\n",
      "Length of validation dataset: 5175\n",
      "Length of testing dataset: 5175\n"
     ]
    }
   ],
   "source": [
    "dataloader_manager = DataloaderManager(dataset, val_size=VAL_SIZE, test_size=TEST_SIZE, batch_size=BATCH_PATIENTS)"
   ]
  },
  {
   "cell_type": "markdown",
   "id": "a801881e",
   "metadata": {
    "papermill": {
     "duration": 0.010541,
     "end_time": "2024-10-18T14:26:50.095381",
     "exception": false,
     "start_time": "2024-10-18T14:26:50.084840",
     "status": "completed"
    },
    "tags": []
   },
   "source": [
    "# Model configurations"
   ]
  },
  {
   "cell_type": "code",
   "execution_count": 15,
   "id": "06bc93f8",
   "metadata": {
    "ExecuteTime": {
     "end_time": "2024-10-15T15:07:52.586835Z",
     "start_time": "2024-10-15T15:07:51.642585Z"
    },
    "execution": {
     "iopub.execute_input": "2024-10-18T14:26:50.118520Z",
     "iopub.status.busy": "2024-10-18T14:26:50.118120Z",
     "iopub.status.idle": "2024-10-18T14:26:50.864666Z",
     "shell.execute_reply": "2024-10-18T14:26:50.863673Z"
    },
    "papermill": {
     "duration": 0.761005,
     "end_time": "2024-10-18T14:26:50.867164",
     "exception": false,
     "start_time": "2024-10-18T14:26:50.106159",
     "status": "completed"
    },
    "tags": []
   },
   "outputs": [
    {
     "name": "stderr",
     "output_type": "stream",
     "text": [
      "Downloading: \"https://download.pytorch.org/models/resnet18-f37072fd.pth\" to /root/.cache/torch/hub/checkpoints/resnet18-f37072fd.pth\n",
      "100%|██████████| 44.7M/44.7M [00:00<00:00, 189MB/s]\n"
     ]
    }
   ],
   "source": [
    "# 2. Model Definition\n",
    "class ResNet18(nn.Module):\n",
    "    def __init__(self, num_classes=1):\n",
    "        super(ResNet18, self).__init__()\n",
    "        self.resnet = models.resnet18(weights=ResNet18_Weights.DEFAULT)\n",
    "        self.resnet.fc = nn.Linear(self.resnet.fc.in_features, num_classes)\n",
    "        self.dropout = nn.Dropout(p=0.3)  # Add dropout layer\n",
    "\n",
    "    def forward(self, x):\n",
    "        batch_slices, channels, height, width = x.size()\n",
    "        return self.dropout(self.resnet(x))\n",
    "        \n",
    "device = torch.device(\"cuda\" if torch.cuda.is_available() else \"cpu\")\n",
    "model = ResNet18().to(device)"
   ]
  },
  {
   "cell_type": "code",
   "execution_count": 16,
   "id": "f8344aa0",
   "metadata": {
    "ExecuteTime": {
     "end_time": "2024-10-15T15:07:52.616483Z",
     "start_time": "2024-10-15T15:07:52.612038Z"
    },
    "execution": {
     "iopub.execute_input": "2024-10-18T14:26:50.894878Z",
     "iopub.status.busy": "2024-10-18T14:26:50.894208Z",
     "iopub.status.idle": "2024-10-18T14:26:50.900077Z",
     "shell.execute_reply": "2024-10-18T14:26:50.899208Z"
    },
    "papermill": {
     "duration": 0.020682,
     "end_time": "2024-10-18T14:26:50.902140",
     "exception": false,
     "start_time": "2024-10-18T14:26:50.881458",
     "status": "completed"
    },
    "tags": []
   },
   "outputs": [],
   "source": [
    "# 3. Loss and Optimizer\n",
    "criterion = nn.BCEWithLogitsLoss()\n",
    "optimizer = optim.Adam(model.parameters(), lr=LEARNING_RATE)\n",
    "scheduler = ReduceLROnPlateau(optimizer, mode='min', factor=0.5, patience=1)\n",
    "\n",
    "# mode: Monitors 'min' or 'max' changes in metrics.\n",
    "# factor: The multiplicative factor for reducing the learning rate. \n",
    "##  If the current learning rate is 0.01 and factor=0.5, the new learning rate will be 0.01 * 0.5 = 0.005\n",
    "# patience: Number of epochs to wait for improvement before reducing the learning rate."
   ]
  },
  {
   "cell_type": "code",
   "execution_count": 17,
   "id": "53317977",
   "metadata": {
    "ExecuteTime": {
     "end_time": "2024-10-15T15:07:52.680223Z",
     "start_time": "2024-10-15T15:07:52.670633Z"
    },
    "execution": {
     "iopub.execute_input": "2024-10-18T14:26:50.926978Z",
     "iopub.status.busy": "2024-10-18T14:26:50.926695Z",
     "iopub.status.idle": "2024-10-18T14:26:50.934521Z",
     "shell.execute_reply": "2024-10-18T14:26:50.933709Z"
    },
    "papermill": {
     "duration": 0.021876,
     "end_time": "2024-10-18T14:26:50.936358",
     "exception": false,
     "start_time": "2024-10-18T14:26:50.914482",
     "status": "completed"
    },
    "tags": []
   },
   "outputs": [],
   "source": [
    "def train(model, train_loader, criterion, optimizer, scheduler, device):\n",
    "    model.train()\n",
    "\n",
    "    running_loss = 0.0\n",
    "    correct = 0\n",
    "    total = 0\n",
    "\n",
    "    for batch_idx, (image, label) in enumerate(train_loader):\n",
    "        image, label = image.to(device), label.to(device)\n",
    "\n",
    "        # Forward pass\n",
    "        optimizer.zero_grad()\n",
    "        output = model(image).squeeze()\n",
    "        label = label.reshape(-1)\n",
    "        \n",
    "        loss = criterion(output, label)\n",
    "\n",
    "        # Backward pass and optimization\n",
    "        loss.backward()\n",
    "        optimizer.step()\n",
    "\n",
    "        # Track loss\n",
    "        running_loss += loss.item()\n",
    "\n",
    "        # Calculate accuracy\n",
    "        predicted_label = (output > 0.5).float()\n",
    "        total += label.size(0)\n",
    "        correct += (predicted_label == label).sum().item()\n",
    "\n",
    "    # Calculate average loss and accuracy for the epoch\n",
    "    epoch_loss = running_loss / len(train_loader)\n",
    "    accuracy = 100 * correct / total\n",
    "\n",
    "    print(f'Epoch {epoch+1}: Loss: {epoch_loss:.4f}, Accuracy: {accuracy:.4f}%')\n",
    "\n",
    "    scheduler.step(epoch_loss)\n",
    "    return epoch_loss"
   ]
  },
  {
   "cell_type": "code",
   "execution_count": 18,
   "id": "0bffc7ab",
   "metadata": {
    "ExecuteTime": {
     "end_time": "2024-10-15T15:07:52.742433Z",
     "start_time": "2024-10-15T15:07:52.734550Z"
    },
    "execution": {
     "iopub.execute_input": "2024-10-18T14:26:50.960243Z",
     "iopub.status.busy": "2024-10-18T14:26:50.959761Z",
     "iopub.status.idle": "2024-10-18T14:26:50.967057Z",
     "shell.execute_reply": "2024-10-18T14:26:50.966271Z"
    },
    "papermill": {
     "duration": 0.021217,
     "end_time": "2024-10-18T14:26:50.968887",
     "exception": false,
     "start_time": "2024-10-18T14:26:50.947670",
     "status": "completed"
    },
    "tags": []
   },
   "outputs": [],
   "source": [
    "def validate(model, validate_loader, criterion, device):\n",
    "    model.eval()\n",
    "    running_loss = 0.0\n",
    "    correct = 0\n",
    "    total = 0\n",
    "    \n",
    "    with torch.no_grad():\n",
    "        for batch_idx, (image, label) in enumerate(validate_loader):\n",
    "            image, label = image.to(device), label.to(device)\n",
    "            \n",
    "            # Forward pass\n",
    "            output = model(image).squeeze()\n",
    "            label = label.reshape(-1)\n",
    "            \n",
    "            loss = criterion(output, label)\n",
    "            running_loss += loss.item()\n",
    "            \n",
    "            # Calculate accuracy\n",
    "            predicted_label = (output > 0.5).float()\n",
    "            total += label.size(0)\n",
    "            correct += (predicted_label == label).sum().item()\n",
    "    \n",
    "    # Calculate average loss and accuracy for validation\n",
    "    val_loss = running_loss / len(validate_loader)\n",
    "    accuracy = 100 * correct / total\n",
    "    \n",
    "    print(f'Validation Loss: {val_loss:.4f}, Validation Accuracy: {accuracy:.4f}%')\n",
    "    \n",
    "    return val_loss"
   ]
  },
  {
   "cell_type": "code",
   "execution_count": 19,
   "id": "4a029278",
   "metadata": {
    "ExecuteTime": {
     "end_time": "2024-10-15T15:07:52.801793Z",
     "start_time": "2024-10-15T15:07:52.796322Z"
    },
    "execution": {
     "iopub.execute_input": "2024-10-18T14:26:50.992831Z",
     "iopub.status.busy": "2024-10-18T14:26:50.992546Z",
     "iopub.status.idle": "2024-10-18T14:26:50.997682Z",
     "shell.execute_reply": "2024-10-18T14:26:50.996917Z"
    },
    "papermill": {
     "duration": 0.019292,
     "end_time": "2024-10-18T14:26:50.999442",
     "exception": false,
     "start_time": "2024-10-18T14:26:50.980150",
     "status": "completed"
    },
    "tags": []
   },
   "outputs": [],
   "source": [
    "def save_checkpoint(model, optimizer, scheduler, epoch, loss):\n",
    "    checkpoint_path = os.path.join(CHECKPOINTS_DIR, f'checkpoint_epoch_{epoch+1}.pth')    \n",
    "    torch.save({\n",
    "        'epoch': epoch,\n",
    "        'model_state_dict': model.state_dict(),\n",
    "        'optimizer_state_dict': optimizer.state_dict(),\n",
    "        'scheduler_state_dict': scheduler.state_dict(),\n",
    "        'loss': loss\n",
    "    }, checkpoint_path)\n",
    "    print(f\"Checkpoint saved: {checkpoint_path}\")"
   ]
  },
  {
   "cell_type": "code",
   "execution_count": 20,
   "id": "5c4e56b1",
   "metadata": {
    "ExecuteTime": {
     "end_time": "2024-10-15T15:07:53.165742Z",
     "start_time": "2024-10-15T15:07:53.159773Z"
    },
    "execution": {
     "iopub.execute_input": "2024-10-18T14:26:51.023050Z",
     "iopub.status.busy": "2024-10-18T14:26:51.022793Z",
     "iopub.status.idle": "2024-10-18T14:26:51.031674Z",
     "shell.execute_reply": "2024-10-18T14:26:51.030844Z"
    },
    "papermill": {
     "duration": 0.022848,
     "end_time": "2024-10-18T14:26:51.033588",
     "exception": false,
     "start_time": "2024-10-18T14:26:51.010740",
     "status": "completed"
    },
    "tags": []
   },
   "outputs": [],
   "source": [
    "def load_best_checkpoint(model, optimizer, scheduler, checkpoint_dir):\n",
    "    checkpoint_files = [f for f in os.listdir(checkpoint_dir) if f.startswith('checkpoint_epoch_') and f.endswith('.pth')]\n",
    "    if not checkpoint_files:\n",
    "        print(\"No checkpoints found.\")\n",
    "        return None, None\n",
    "\n",
    "    best_checkpoint = min(checkpoint_files, key=lambda x: float(x.split('_')[-1].split('.')[0]))\n",
    "    checkpoint_path = os.path.join(checkpoint_dir, best_checkpoint)\n",
    "    \n",
    "    try:\n",
    "        checkpoint = torch.load(checkpoint_path, map_location=torch.device(device), weights_only=True)\n",
    "    except RuntimeError as e:\n",
    "        print(f\"Error loading checkpoint: {e}\")\n",
    "        print(f\"Checkpoint file: {checkpoint_path}\")\n",
    "        print(f\"File size: {os.path.getsize(checkpoint_path)} bytes\")\n",
    "        return None, None\n",
    "\n",
    "    try:\n",
    "        model.load_state_dict(checkpoint['model_state_dict'])\n",
    "        optimizer.load_state_dict(checkpoint['optimizer_state_dict'])\n",
    "        scheduler.load_state_dict(checkpoint['scheduler_state_dict'])\n",
    "        \n",
    "        epoch = checkpoint['epoch']\n",
    "        best_val_loss = checkpoint['loss']\n",
    "        \n",
    "        print(f\"Loaded checkpoint from epoch {epoch+1} with validation loss {best_val_loss}\")\n",
    "        \n",
    "        return epoch, best_val_loss\n",
    "    except KeyError as e:\n",
    "        print(f\"Error: Checkpoint file is missing expected data: {e}\")\n",
    "        print(f\"Available keys in checkpoint: {checkpoint.keys()}\")\n",
    "        return None, None"
   ]
  },
  {
   "cell_type": "code",
   "execution_count": 21,
   "id": "28d92903",
   "metadata": {
    "ExecuteTime": {
     "end_time": "2024-10-15T15:07:53.235969Z",
     "start_time": "2024-10-15T15:07:53.227459Z"
    },
    "execution": {
     "iopub.execute_input": "2024-10-18T14:26:51.065083Z",
     "iopub.status.busy": "2024-10-18T14:26:51.064765Z",
     "iopub.status.idle": "2024-10-18T14:26:51.072195Z",
     "shell.execute_reply": "2024-10-18T14:26:51.071310Z"
    },
    "papermill": {
     "duration": 0.029564,
     "end_time": "2024-10-18T14:26:51.074441",
     "exception": false,
     "start_time": "2024-10-18T14:26:51.044877",
     "status": "completed"
    },
    "tags": []
   },
   "outputs": [],
   "source": [
    "def plot_roc_curve(y_true, y_scores):\n",
    "    fpr, tpr, thresholds = roc_curve(y_true, y_scores)\n",
    "    roc_auc = auc(fpr, tpr)\n",
    "    plt.figure()\n",
    "    plt.plot(fpr, tpr, color='darkorange', lw=2, label='ROC curve (area = %0.2f)' % roc_auc)\n",
    "    plt.plot([0, 1], [0, 1], color='navy', lw=2, linestyle='--')\n",
    "    plt.xlim([0.0, 1.0])\n",
    "    plt.ylim([0.0, 1.05])\n",
    "    plt.xlabel('False Positive Rate')\n",
    "    plt.ylabel('True Positive Rate')\n",
    "    plt.title('Receiver Operating Characteristic')\n",
    "    plt.legend(loc='lower right')\n",
    "    plt.savefig(os.path.join(FIGURES_DIR, 'roc_curve.png'))\n",
    "    plt.show()\n",
    "    plt.close()"
   ]
  },
  {
   "cell_type": "code",
   "execution_count": 22,
   "id": "251d2b5b",
   "metadata": {
    "ExecuteTime": {
     "end_time": "2024-10-15T15:07:53.598335Z",
     "start_time": "2024-10-15T15:07:53.594214Z"
    },
    "execution": {
     "iopub.execute_input": "2024-10-18T14:26:51.100039Z",
     "iopub.status.busy": "2024-10-18T14:26:51.099753Z",
     "iopub.status.idle": "2024-10-18T14:26:51.105255Z",
     "shell.execute_reply": "2024-10-18T14:26:51.104386Z"
    },
    "papermill": {
     "duration": 0.020625,
     "end_time": "2024-10-18T14:26:51.107373",
     "exception": false,
     "start_time": "2024-10-18T14:26:51.086748",
     "status": "completed"
    },
    "tags": []
   },
   "outputs": [],
   "source": [
    "def plot_confusion_matrix(y_true, y_pred):\n",
    "    cm = confusion_matrix(y_true, y_pred)\n",
    "    disp = ConfusionMatrixDisplay(confusion_matrix=cm)\n",
    "    disp.plot(cmap=plt.cm.Blues)\n",
    "    plt.title('Confusion Matrix')\n",
    "    plt.savefig(os.path.join(FIGURES_DIR, 'confusion_matrix.png'))\n",
    "    plt.show()\n",
    "    plt.close()"
   ]
  },
  {
   "cell_type": "code",
   "execution_count": 23,
   "id": "818d0b30",
   "metadata": {
    "ExecuteTime": {
     "end_time": "2024-10-15T15:07:53.657149Z",
     "start_time": "2024-10-15T15:07:53.651664Z"
    },
    "execution": {
     "iopub.execute_input": "2024-10-18T14:26:51.133128Z",
     "iopub.status.busy": "2024-10-18T14:26:51.132853Z",
     "iopub.status.idle": "2024-10-18T14:26:51.137775Z",
     "shell.execute_reply": "2024-10-18T14:26:51.136927Z"
    },
    "papermill": {
     "duration": 0.020048,
     "end_time": "2024-10-18T14:26:51.139796",
     "exception": false,
     "start_time": "2024-10-18T14:26:51.119748",
     "status": "completed"
    },
    "tags": []
   },
   "outputs": [],
   "source": [
    "def save_final_model(model, optimizer, scheduler, final_model_path):\n",
    "    torch.save({\n",
    "        'model_state_dict': model.state_dict(),\n",
    "        'optimizer_state_dict': optimizer.state_dict(),\n",
    "        'scheduler_state_dict': scheduler.state_dict(),\n",
    "    }, final_model_path)\n",
    "    print(f\"Final model saved to {final_model_path}\")"
   ]
  },
  {
   "cell_type": "code",
   "execution_count": 24,
   "id": "5be7c2d2",
   "metadata": {
    "ExecuteTime": {
     "end_time": "2024-10-15T15:07:53.997995Z",
     "start_time": "2024-10-15T15:07:53.983343Z"
    },
    "execution": {
     "iopub.execute_input": "2024-10-18T14:26:51.164890Z",
     "iopub.status.busy": "2024-10-18T14:26:51.164119Z",
     "iopub.status.idle": "2024-10-18T14:26:51.173455Z",
     "shell.execute_reply": "2024-10-18T14:26:51.172601Z"
    },
    "papermill": {
     "duration": 0.023488,
     "end_time": "2024-10-18T14:26:51.175295",
     "exception": false,
     "start_time": "2024-10-18T14:26:51.151807",
     "status": "completed"
    },
    "tags": []
   },
   "outputs": [],
   "source": [
    "def evaluate(model, test_loader, device, criterion):\n",
    "    model.to(device)\n",
    "    model.eval()\n",
    "    correct = 0\n",
    "    total = 0\n",
    "    all_labels = []\n",
    "    all_predictions = []\n",
    "    all_scores = []\n",
    "    test_loss = 0\n",
    "\n",
    "    with torch.no_grad():\n",
    "        for image, label in test_loader:\n",
    "            image, label = image.to(device), label.to(device)\n",
    "            \n",
    "            output = model(image).squeeze()\n",
    "            label = label.reshape(-1)\n",
    "            \n",
    "            loss = criterion(output, label)\n",
    "            test_loss += loss.item()\n",
    "            \n",
    "            predicted_label = (output > 0.5).float()\n",
    "            total += label.size(0)\n",
    "            correct += (predicted_label == label).sum().item()\n",
    "            \n",
    "            all_labels.extend(label.cpu().numpy())\n",
    "            all_predictions.extend(predicted_label.cpu().numpy())\n",
    "            all_scores.extend(output.cpu().numpy())\n",
    "\n",
    "    accuracy = 100 * correct / total\n",
    "    avg_loss = test_loss / len(test_loader)\n",
    "    print(f'Test Accuracy: {accuracy:.4f}%')\n",
    "    print(f'Test Loss: {avg_loss:.4f}')\n",
    "    \n",
    "    plot_roc_curve(np.array(all_labels), np.array(all_scores))\n",
    "    plot_confusion_matrix(np.array(all_labels), np.array(all_predictions))\n",
    "\n",
    "    return accuracy, avg_loss"
   ]
  },
  {
   "cell_type": "markdown",
   "id": "dd78d475",
   "metadata": {
    "papermill": {
     "duration": 0.011094,
     "end_time": "2024-10-18T14:26:51.197650",
     "exception": false,
     "start_time": "2024-10-18T14:26:51.186556",
     "status": "completed"
    },
    "tags": []
   },
   "source": [
    "# Main"
   ]
  },
  {
   "cell_type": "markdown",
   "id": "370d93af",
   "metadata": {
    "papermill": {
     "duration": 0.011262,
     "end_time": "2024-10-18T14:26:51.220577",
     "exception": false,
     "start_time": "2024-10-18T14:26:51.209315",
     "status": "completed"
    },
    "tags": []
   },
   "source": [
    "## Train result"
   ]
  },
  {
   "cell_type": "code",
   "execution_count": 25,
   "id": "ec40f3c0",
   "metadata": {
    "execution": {
     "iopub.execute_input": "2024-10-18T14:26:51.245577Z",
     "iopub.status.busy": "2024-10-18T14:26:51.245212Z",
     "iopub.status.idle": "2024-10-18T17:16:14.743578Z",
     "shell.execute_reply": "2024-10-18T17:16:14.742470Z"
    },
    "papermill": {
     "duration": 10163.528144,
     "end_time": "2024-10-18T17:16:14.761198",
     "exception": false,
     "start_time": "2024-10-18T14:26:51.233054",
     "status": "completed"
    },
    "tags": []
   },
   "outputs": [
    {
     "name": "stdout",
     "output_type": "stream",
     "text": [
      "No checkpoints found.\n",
      "Epoch 1: Loss: 0.4168, Accuracy: 85.9651%\n",
      "Validation Loss: 0.2784, Validation Accuracy: 88.4251%\n",
      "Checkpoint saved: /kaggle/working/RSNA-ResNet18/checkpoints/checkpoint_epoch_1.pth\n",
      "Epoch 2: Loss: 0.3647, Accuracy: 88.6611%\n",
      "Validation Loss: 0.3190, Validation Accuracy: 85.0628%\n",
      "Epoch 3: Loss: 0.3497, Accuracy: 89.1746%\n",
      "Validation Loss: 0.2714, Validation Accuracy: 91.7101%\n",
      "Checkpoint saved: /kaggle/working/RSNA-ResNet18/checkpoints/checkpoint_epoch_3.pth\n",
      "Epoch 4: Loss: 0.3349, Accuracy: 89.7834%\n",
      "Validation Loss: 0.2290, Validation Accuracy: 89.5652%\n",
      "Checkpoint saved: /kaggle/working/RSNA-ResNet18/checkpoints/checkpoint_epoch_4.pth\n",
      "Epoch 5: Loss: 0.3229, Accuracy: 90.4170%\n",
      "Validation Loss: 0.2664, Validation Accuracy: 88.1546%\n",
      "Epoch 6: Loss: 0.3117, Accuracy: 90.7193%\n",
      "Validation Loss: 0.2089, Validation Accuracy: 93.1014%\n",
      "Checkpoint saved: /kaggle/working/RSNA-ResNet18/checkpoints/checkpoint_epoch_6.pth\n",
      "Epoch 7: Loss: 0.2872, Accuracy: 91.6760%\n",
      "Validation Loss: 0.2169, Validation Accuracy: 91.5362%\n",
      "Epoch 8: Loss: 0.2779, Accuracy: 92.0363%\n",
      "Validation Loss: 0.2343, Validation Accuracy: 91.4203%\n",
      "Epoch 9: Loss: 0.2653, Accuracy: 92.6036%\n",
      "Validation Loss: 0.2649, Validation Accuracy: 91.1884%\n",
      "Epoch 10: Loss: 0.2511, Accuracy: 93.0716%\n",
      "Validation Loss: 0.1996, Validation Accuracy: 92.0000%\n",
      "Checkpoint saved: /kaggle/working/RSNA-ResNet18/checkpoints/checkpoint_epoch_10.pth\n",
      "Epoch 11: Loss: 0.2518, Accuracy: 92.8728%\n",
      "Validation Loss: 0.1895, Validation Accuracy: 93.0435%\n",
      "Checkpoint saved: /kaggle/working/RSNA-ResNet18/checkpoints/checkpoint_epoch_11.pth\n",
      "Epoch 12: Loss: 0.2415, Accuracy: 93.1876%\n",
      "Validation Loss: 0.3039, Validation Accuracy: 90.5894%\n",
      "Epoch 13: Loss: 0.2352, Accuracy: 93.6845%\n",
      "Validation Loss: 0.2107, Validation Accuracy: 93.1981%\n",
      "Epoch 14: Loss: 0.2319, Accuracy: 94.0407%\n",
      "Validation Loss: 0.1971, Validation Accuracy: 93.2947%\n",
      "Epoch 15: Loss: 0.2265, Accuracy: 94.1649%\n",
      "Validation Loss: 0.1948, Validation Accuracy: 93.7971%\n",
      "Epoch 16: Loss: 0.2242, Accuracy: 94.2105%\n",
      "Validation Loss: 0.2485, Validation Accuracy: 92.8309%\n",
      "Epoch 17: Loss: 0.2260, Accuracy: 94.1525%\n",
      "Validation Loss: 0.2472, Validation Accuracy: 92.3092%\n",
      "Epoch 18: Loss: 0.2251, Accuracy: 94.0738%\n",
      "Validation Loss: 0.2276, Validation Accuracy: 93.2174%\n",
      "Epoch 19: Loss: 0.2094, Accuracy: 94.4755%\n",
      "Validation Loss: 0.2226, Validation Accuracy: 93.5845%\n",
      "Epoch 20: Loss: 0.2096, Accuracy: 94.6329%\n",
      "Validation Loss: 0.2193, Validation Accuracy: 93.9130%\n",
      "Epoch 21: Loss: 0.2060, Accuracy: 94.7902%\n",
      "Validation Loss: 0.2319, Validation Accuracy: 94.1063%\n",
      "Epoch 22: Loss: 0.2104, Accuracy: 94.7447%\n",
      "Validation Loss: 0.2412, Validation Accuracy: 93.7778%\n",
      "Epoch 23: Loss: 0.2141, Accuracy: 94.4589%\n",
      "Validation Loss: 0.2415, Validation Accuracy: 93.9903%\n",
      "Epoch 24: Loss: 0.2084, Accuracy: 94.8358%\n",
      "Validation Loss: 0.2381, Validation Accuracy: 94.2222%\n",
      "Epoch 25: Loss: 0.2052, Accuracy: 94.8068%\n",
      "Validation Loss: 0.2505, Validation Accuracy: 93.8551%\n",
      "Epoch 26: Loss: 0.2082, Accuracy: 94.5708%\n",
      "Validation Loss: 0.2491, Validation Accuracy: 94.0290%\n",
      "Epoch 27: Loss: 0.2096, Accuracy: 94.5915%\n",
      "Validation Loss: 0.2438, Validation Accuracy: 94.1836%\n",
      "Epoch 28: Loss: 0.2071, Accuracy: 94.7488%\n",
      "Validation Loss: 0.2509, Validation Accuracy: 94.0676%\n",
      "Epoch 29: Loss: 0.2091, Accuracy: 94.6412%\n",
      "Validation Loss: 0.2498, Validation Accuracy: 94.1063%\n",
      "Epoch 30: Loss: 0.2069, Accuracy: 94.8689%\n",
      "Validation Loss: 0.2515, Validation Accuracy: 94.0870%\n"
     ]
    }
   ],
   "source": [
    "loaded_epoch, loaded_best_val_loss = load_best_checkpoint(model, optimizer, scheduler, CHECKPOINTS_DIR)\n",
    "\n",
    "if loaded_epoch is not None:\n",
    "    start_epoch = loaded_epoch + 1\n",
    "    best_val_loss = loaded_best_val_loss\n",
    "else:\n",
    "    start_epoch = 0\n",
    "    best_val_loss = float('inf')\n",
    "\n",
    "for epoch in range(start_epoch, NUM_EPOCHS):\n",
    "    train_loader = dataloader_manager.train_loader\n",
    "    validate_loader = dataloader_manager.validate_loader \n",
    "    \n",
    "    train_loss = train(model, train_loader, criterion, optimizer, scheduler, device)\n",
    "    val_loss = validate(model, validate_loader, criterion, device)\n",
    "    \n",
    "    if val_loss < best_val_loss:\n",
    "        save_checkpoint(model, optimizer, scheduler, epoch, val_loss)\n",
    "        best_val_loss = val_loss"
   ]
  },
  {
   "cell_type": "markdown",
   "id": "64581c33",
   "metadata": {
    "papermill": {
     "duration": 0.015736,
     "end_time": "2024-10-18T17:16:14.792955",
     "exception": false,
     "start_time": "2024-10-18T17:16:14.777219",
     "status": "completed"
    },
    "tags": []
   },
   "source": [
    "## Evaluate result"
   ]
  },
  {
   "cell_type": "code",
   "execution_count": 26,
   "id": "9bfb2651",
   "metadata": {
    "ExecuteTime": {
     "end_time": "2024-10-15T15:18:44.867379Z",
     "start_time": "2024-10-15T15:17:49.586291Z"
    },
    "execution": {
     "iopub.execute_input": "2024-10-18T17:16:14.826282Z",
     "iopub.status.busy": "2024-10-18T17:16:14.825937Z",
     "iopub.status.idle": "2024-10-18T17:17:26.524165Z",
     "shell.execute_reply": "2024-10-18T17:17:26.523174Z"
    },
    "papermill": {
     "duration": 71.717593,
     "end_time": "2024-10-18T17:17:26.526404",
     "exception": false,
     "start_time": "2024-10-18T17:16:14.808811",
     "status": "completed"
    },
    "tags": []
   },
   "outputs": [
    {
     "name": "stdout",
     "output_type": "stream",
     "text": [
      "Test Accuracy: 93.9324%\n",
      "Test Loss: 0.2746\n"
     ]
    },
    {
     "data": {
      "image/png": "[encoded data removed]",
      "text/plain": [
       "<Figure size 640x480 with 1 Axes>"
      ]
     },
     "metadata": {},
     "output_type": "display_data"
    },
    {
     "data": {
      "image/png": "[encoded data removed]",
      "text/plain": [
       "<Figure size 640x480 with 2 Axes>"
      ]
     },
     "metadata": {},
     "output_type": "display_data"
    },
    {
     "name": "stdout",
     "output_type": "stream",
     "text": [
      "Final model saved to /kaggle/working/RSNA-ResNet18/checkpoints/final_model.pth\n"
     ]
    }
   ],
   "source": [
    "test_loader = dataloader_manager.test_loader\n",
    "accuracy, test_loss = evaluate(model, test_loader, device, criterion)\n",
    "\n",
    "final_model_path = os.path.join(CHECKPOINTS_DIR, 'final_model.pth')\n",
    "save_final_model(model, optimizer, scheduler, final_model_path)"
   ]
  }
 ],
 "metadata": {
  "kaggle": {
   "accelerator": "none",
   "dataSources": [
    {
     "datasetId": 5854070,
     "sourceId": 9651167,
     "sourceType": "datasetVersion"
    },
    {
     "datasetId": 5705276,
     "sourceId": 9652074,
     "sourceType": "datasetVersion"
    }
   ],
   "dockerImageVersionId": 30787,
   "isGpuEnabled": false,
   "isInternetEnabled": true,
   "language": "python",
   "sourceType": "notebook"
  },
  "kernelspec": {
   "display_name": "Python 3",
   "language": "python",
   "name": "python3"
  },
  "language_info": {
   "codemirror_mode": {
    "name": "ipython",
    "version": 3
   },
   "file_extension": ".py",
   "mimetype": "text/x-python",
   "name": "python",
   "nbconvert_exporter": "python",
   "pygments_lexer": "ipython3",
   "version": "3.10.14"
  },
  "papermill": {
   "default_parameters": {},
   "duration": 10268.003691,
   "end_time": "2024-10-18T17:17:30.725047",
   "environment_variables": {},
   "exception": null,
   "input_path": "__notebook__.ipynb",
   "output_path": "__notebook__.ipynb",
   "parameters": {},
   "start_time": "2024-10-18T14:26:22.721356",
   "version": "2.6.0"
  }
 },
 "nbformat": 4,
 "nbformat_minor": 5
}
