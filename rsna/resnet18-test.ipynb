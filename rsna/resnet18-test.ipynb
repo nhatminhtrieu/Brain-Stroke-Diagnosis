{
 "cells": [
  {
   "cell_type": "code",
   "execution_count": 1,
   "id": "0a820916",
   "metadata": {
    "ExecuteTime": {
     "end_time": "2024-10-15T15:07:46.081006Z",
     "start_time": "2024-10-15T15:07:41.005714Z"
    },
    "_cell_guid": "b1076dfc-b9ad-4769-8c92-a6c4dae69d19",
    "_uuid": "8f2839f25d086af736a60e9eeb907d3b93b6e0e5",
    "execution": {
     "iopub.execute_input": "2024-10-22T13:31:49.639531Z",
     "iopub.status.busy": "2024-10-22T13:31:49.639162Z",
     "iopub.status.idle": "2024-10-22T13:31:56.749075Z",
     "shell.execute_reply": "2024-10-22T13:31:56.748036Z"
    },
    "papermill": {
     "duration": 7.123732,
     "end_time": "2024-10-22T13:31:56.751451",
     "exception": false,
     "start_time": "2024-10-22T13:31:49.627719",
     "status": "completed"
    },
    "tags": []
   },
   "outputs": [],
   "source": [
    "# Standard library imports\n",
    "import os\n",
    "import zipfile\n",
    "\n",
    "# Third-party imports\n",
    "import cv2\n",
    "import matplotlib.pyplot as plt\n",
    "import numpy as np\n",
    "import pandas as pd\n",
    "import pydicom\n",
    "\n",
    "# PyTorch imports\n",
    "import torch\n",
    "import torch.nn as nn\n",
    "import torch.optim as optim\n",
    "from torch.optim.lr_scheduler import ReduceLROnPlateau\n",
    "from torch.utils.data import Dataset, DataLoader, Subset\n",
    "\n",
    "from sklearn.model_selection import train_test_split\n",
    "from sklearn.metrics import confusion_matrix, ConfusionMatrixDisplay, roc_curve, auc\n",
    "\n",
    "# Torchvision imports\n",
    "from torchvision import transforms, models\n",
    "from torchvision.models import ResNet18_Weights"
   ]
  },
  {
   "cell_type": "code",
   "execution_count": 2,
   "id": "927f4cf4",
   "metadata": {
    "ExecuteTime": {
     "end_time": "2024-10-15T15:07:46.497429Z",
     "start_time": "2024-10-15T15:07:46.096325Z"
    },
    "execution": {
     "iopub.execute_input": "2024-10-22T13:31:56.773004Z",
     "iopub.status.busy": "2024-10-22T13:31:56.772495Z",
     "iopub.status.idle": "2024-10-22T13:31:56.863326Z",
     "shell.execute_reply": "2024-10-22T13:31:56.862245Z"
    },
    "papermill": {
     "duration": 0.103207,
     "end_time": "2024-10-22T13:31:56.865446",
     "exception": false,
     "start_time": "2024-10-22T13:31:56.762239",
     "status": "completed"
    },
    "tags": []
   },
   "outputs": [
    {
     "name": "stdout",
     "output_type": "stream",
     "text": [
      "GPUs Available: 1\n",
      "- Tesla P100-PCIE-16GB\n"
     ]
    }
   ],
   "source": [
    "if torch.cuda.is_available():\n",
    "    print(f\"GPUs Available: {torch.cuda.device_count()}\")\n",
    "    for i in range(torch.cuda.device_count()):\n",
    "        print(f\"- {torch.cuda.get_device_name(i)}\")\n",
    "else:\n",
    "    print(\"No GPUs available.\")"
   ]
  },
  {
   "cell_type": "markdown",
   "id": "8ae54179",
   "metadata": {
    "papermill": {
     "duration": 0.008921,
     "end_time": "2024-10-22T13:31:56.883692",
     "exception": false,
     "start_time": "2024-10-22T13:31:56.874771",
     "status": "completed"
    },
    "tags": []
   },
   "source": [
    "# Local"
   ]
  },
  {
   "cell_type": "code",
   "execution_count": 3,
   "id": "fe54e7e5",
   "metadata": {
    "ExecuteTime": {
     "end_time": "2024-10-15T15:07:47.108742Z",
     "start_time": "2024-10-15T15:07:46.826869Z"
    },
    "execution": {
     "iopub.execute_input": "2024-10-22T13:31:56.904599Z",
     "iopub.status.busy": "2024-10-22T13:31:56.904226Z",
     "iopub.status.idle": "2024-10-22T13:31:56.909342Z",
     "shell.execute_reply": "2024-10-22T13:31:56.908435Z"
    },
    "papermill": {
     "duration": 0.017303,
     "end_time": "2024-10-22T13:31:56.911284",
     "exception": false,
     "start_time": "2024-10-22T13:31:56.893981",
     "status": "completed"
    },
    "tags": []
   },
   "outputs": [],
   "source": [
    "# ## Dataset and Directory Configuration\n",
    "# DATASET_NAME = 'rsna-mil-training'\n",
    "# JOB_NAME = 'RSNA-ResNet18'\n",
    "# HPC_DIR = '/media02/tdhoang01/21127112-21127734/data'\n",
    "# OUTPUT_DIR = '/media02/tdhoang01/python-debugging/rsna/results'\n",
    "\n",
    "# ZIP_FILE_PATH = os.path.join(HPC_DIR, DATASET_NAME + '.zip')\n",
    "# CHECKPOINTS_DIR = os.path.join(OUTPUT_DIR, JOB_NAME, 'checkpoints')\n",
    "# FIGURES_DIR = os.path.join(OUTPUT_DIR, JOB_NAME, 'figures')\n",
    "# DICOM_DIR = f'{DATASET_NAME}/'\n",
    "\n",
    "# ## File Paths\n",
    "# CSV_PATH = f'{DATASET_NAME}/training_1000_scan_subset.csv'\n",
    "\n",
    "# ## Image Processing Parameters\n",
    "# MAX_SLICES = 60\n",
    "# HEIGHT = 224\n",
    "# WIDTH = 224\n",
    "\n",
    "# ## Training Hyperparameters\n",
    "# BATCH_PATIENTS = 4\n",
    "# NUM_EPOCHS = 2\n",
    "# LEARNING_RATE = 1e-4\n",
    "\n",
    "# ## Dataset Split Ratios\n",
    "# VAL_SIZE = 0.15\n",
    "# TEST_SIZE = 0.15\n",
    "\n",
    "# ## Create Necessary Directories\n",
    "# os.makedirs(CHECKPOINTS_DIR, exist_ok=True)\n",
    "# os.makedirs(FIGURES_DIR, exist_ok=True)\n",
    "\n",
    "# ## Load CSVs from zip\n",
    "# with zipfile.ZipFile(ZIP_FILE_PATH, 'r') as zip_ref:\n",
    "#     medical_scan_data = pd.read_csv(zip_ref.open(CSV_PATH))"
   ]
  },
  {
   "cell_type": "markdown",
   "id": "49c49ca9",
   "metadata": {
    "papermill": {
     "duration": 0.008929,
     "end_time": "2024-10-22T13:31:56.929352",
     "exception": false,
     "start_time": "2024-10-22T13:31:56.920423",
     "status": "completed"
    },
    "tags": []
   },
   "source": [
    "# Kaggle"
   ]
  },
  {
   "cell_type": "code",
   "execution_count": 4,
   "id": "6027a064",
   "metadata": {
    "ExecuteTime": {
     "end_time": "2024-10-15T15:07:47.136336Z",
     "start_time": "2024-10-15T15:07:47.132955Z"
    },
    "execution": {
     "iopub.execute_input": "2024-10-22T13:31:56.949268Z",
     "iopub.status.busy": "2024-10-22T13:31:56.948922Z",
     "iopub.status.idle": "2024-10-22T13:31:56.992209Z",
     "shell.execute_reply": "2024-10-22T13:31:56.990947Z"
    },
    "papermill": {
     "duration": 0.055841,
     "end_time": "2024-10-22T13:31:56.994498",
     "exception": false,
     "start_time": "2024-10-22T13:31:56.938657",
     "status": "completed"
    },
    "tags": []
   },
   "outputs": [],
   "source": [
    "# Configuration\n",
    "DATASET_NAME = 'rsna-mil-training'\n",
    "JOB_NAME = 'RSNA-ResNet18'\n",
    "INPUT_DIR = '/kaggle/input'\n",
    "OUTPUT_DIR = '/kaggle/working'\n",
    "\n",
    "# Directories\n",
    "CHECKPOINTS_DIR = os.path.join(OUTPUT_DIR, JOB_NAME, 'checkpoints')\n",
    "FIGURES_DIR = os.path.join(OUTPUT_DIR, JOB_NAME, 'figures')\n",
    "DICOM_DIR = os.path.join(INPUT_DIR, DATASET_NAME, DATASET_NAME)\n",
    "\n",
    "# File Paths\n",
    "CSV_PATH = f'{DICOM_DIR}/training_1000_scan_subset.csv'\n",
    "\n",
    "# Image Processing Parameters\n",
    "MAX_SLICES = 60\n",
    "HEIGHT = 512\n",
    "WIDTH = 512\n",
    "\n",
    "# Training Hyperparameters\n",
    "BATCH_PATIENTS = 128\n",
    "NUM_EPOCHS = 30\n",
    "LEARNING_RATE = 5e-4\n",
    "\n",
    "# Dataset Split Ratios\n",
    "VAL_SIZE = 0.15\n",
    "TEST_SIZE = 0.15\n",
    "\n",
    "# Create Necessary Directories\n",
    "os.makedirs(CHECKPOINTS_DIR, exist_ok=True)\n",
    "os.makedirs(FIGURES_DIR, exist_ok=True)\n",
    "\n",
    "# Load CSV from Kaggle environment (no need to unzip)\n",
    "medical_scan_data = pd.read_csv(CSV_PATH)"
   ]
  },
  {
   "cell_type": "code",
   "execution_count": 5,
   "id": "1e5907b8",
   "metadata": {
    "ExecuteTime": {
     "end_time": "2024-10-15T15:07:47.212661Z",
     "start_time": "2024-10-15T15:07:47.197850Z"
    },
    "execution": {
     "iopub.execute_input": "2024-10-22T13:31:57.014706Z",
     "iopub.status.busy": "2024-10-22T13:31:57.014362Z",
     "iopub.status.idle": "2024-10-22T13:31:57.031689Z",
     "shell.execute_reply": "2024-10-22T13:31:57.030842Z"
    },
    "papermill": {
     "duration": 0.029588,
     "end_time": "2024-10-22T13:31:57.033777",
     "exception": false,
     "start_time": "2024-10-22T13:31:57.004189",
     "status": "completed"
    },
    "tags": []
   },
   "outputs": [
    {
     "data": {
      "text/html": [
       "<div>\n",
       "<style scoped>\n",
       "    .dataframe tbody tr th:only-of-type {\n",
       "        vertical-align: middle;\n",
       "    }\n",
       "\n",
       "    .dataframe tbody tr th {\n",
       "        vertical-align: top;\n",
       "    }\n",
       "\n",
       "    .dataframe thead th {\n",
       "        text-align: right;\n",
       "    }\n",
       "</style>\n",
       "<table border=\"1\" class=\"dataframe\">\n",
       "  <thead>\n",
       "    <tr style=\"text-align: right;\">\n",
       "      <th></th>\n",
       "      <th>patient_id</th>\n",
       "      <th>study_instance_uid</th>\n",
       "      <th>images</th>\n",
       "      <th>labels</th>\n",
       "      <th>patient_label</th>\n",
       "      <th>length</th>\n",
       "    </tr>\n",
       "  </thead>\n",
       "  <tbody>\n",
       "    <tr>\n",
       "      <th>0</th>\n",
       "      <td>ID_2e010e33</td>\n",
       "      <td>ID_bda0f47e84</td>\n",
       "      <td>['ID_b9035cb1e.dcm', 'ID_0713bed86.dcm', 'ID_5...</td>\n",
       "      <td>[0, 0, 0, 0, 0, 0, 0, 0, 0, 0, 0, 0, 0, 0, 0, ...</td>\n",
       "      <td>0</td>\n",
       "      <td>48</td>\n",
       "    </tr>\n",
       "  </tbody>\n",
       "</table>\n",
       "</div>"
      ],
      "text/plain": [
       "    patient_id study_instance_uid  \\\n",
       "0  ID_2e010e33      ID_bda0f47e84   \n",
       "\n",
       "                                              images  \\\n",
       "0  ['ID_b9035cb1e.dcm', 'ID_0713bed86.dcm', 'ID_5...   \n",
       "\n",
       "                                              labels  patient_label  length  \n",
       "0  [0, 0, 0, 0, 0, 0, 0, 0, 0, 0, 0, 0, 0, 0, 0, ...              0      48  "
      ]
     },
     "execution_count": 5,
     "metadata": {},
     "output_type": "execute_result"
    }
   ],
   "source": [
    "medical_scan_data.head(1)"
   ]
  },
  {
   "cell_type": "code",
   "execution_count": 6,
   "id": "1a9cb76b",
   "metadata": {
    "ExecuteTime": {
     "end_time": "2024-10-15T15:07:47.321026Z",
     "start_time": "2024-10-15T15:07:47.316594Z"
    },
    "execution": {
     "iopub.execute_input": "2024-10-22T13:31:57.054126Z",
     "iopub.status.busy": "2024-10-22T13:31:57.053841Z",
     "iopub.status.idle": "2024-10-22T13:31:57.059774Z",
     "shell.execute_reply": "2024-10-22T13:31:57.058888Z"
    },
    "papermill": {
     "duration": 0.018228,
     "end_time": "2024-10-22T13:31:57.061694",
     "exception": false,
     "start_time": "2024-10-22T13:31:57.043466",
     "status": "completed"
    },
    "tags": []
   },
   "outputs": [
    {
     "data": {
      "text/plain": [
       "Index(['patient_id', 'study_instance_uid', 'images', 'labels', 'patient_label',\n",
       "       'length'],\n",
       "      dtype='object')"
      ]
     },
     "execution_count": 6,
     "metadata": {},
     "output_type": "execute_result"
    }
   ],
   "source": [
    "medical_scan_data.columns"
   ]
  },
  {
   "cell_type": "markdown",
   "id": "a80e6119",
   "metadata": {
    "papermill": {
     "duration": 0.009427,
     "end_time": "2024-10-22T13:31:57.080529",
     "exception": false,
     "start_time": "2024-10-22T13:31:57.071102",
     "status": "completed"
    },
    "tags": []
   },
   "source": [
    "# Local dataset gen."
   ]
  },
  {
   "cell_type": "markdown",
   "id": "d67fd2af",
   "metadata": {
    "papermill": {
     "duration": 0.009265,
     "end_time": "2024-10-22T13:31:57.099206",
     "exception": false,
     "start_time": "2024-10-22T13:31:57.089941",
     "status": "completed"
    },
    "tags": []
   },
   "source": [
    "# Kaggle dataset gen."
   ]
  },
  {
   "cell_type": "code",
   "execution_count": 7,
   "id": "869c7819",
   "metadata": {
    "execution": {
     "iopub.execute_input": "2024-10-22T13:31:57.119927Z",
     "iopub.status.busy": "2024-10-22T13:31:57.119525Z",
     "iopub.status.idle": "2024-10-22T13:33:23.041191Z",
     "shell.execute_reply": "2024-10-22T13:33:23.040208Z"
    },
    "papermill": {
     "duration": 85.939532,
     "end_time": "2024-10-22T13:33:23.048328",
     "exception": false,
     "start_time": "2024-10-22T13:31:57.108796",
     "status": "completed"
    },
    "tags": []
   },
   "outputs": [
    {
     "name": "stdout",
     "output_type": "stream",
     "text": [
      "Initial Label Distribution: Counter({0: 28408, 1: 6089})\n",
      "Balanced Label Distribution: Counter({1: 6089, 0: 6089})\n"
     ]
    }
   ],
   "source": [
    "import random\n",
    "from collections import Counter\n",
    "\n",
    "class DatasetGenerator(Dataset):\n",
    "    def __init__(self, dicom_dir, medical_scan_data, max_slices, height, width, balance_dataset=False):\n",
    "        self.dicom_dir = dicom_dir\n",
    "        self.medical_scan_data = self._parse_medical_scan_data(medical_scan_data)\n",
    "        self.max_slices = max_slices\n",
    "        self.height = height\n",
    "        self.width = width\n",
    "        self.channels = 3\n",
    "        self.dicom_paths, self.all_labels = self._get_dicom_paths_and_labels()\n",
    "        \n",
    "        if balance_dataset:\n",
    "            self._balance_dataset()\n",
    "        \n",
    "        self.transform = transforms.Compose([transforms.Resize((self.height, self.width))])\n",
    "\n",
    "    def __len__(self):\n",
    "        return len(self.dicom_paths)\n",
    "\n",
    "    def __getitem__(self, idx):\n",
    "        dicom_file, label = self.dicom_paths[idx], self.all_labels[idx]\n",
    "        images = self._process_dicom_file(dicom_file)\n",
    "        labels = torch.tensor(label, dtype=torch.float32)\n",
    "        return images, labels\n",
    "\n",
    "    def _parse_medical_scan_data(self, medical_scan_data):\n",
    "        medical_scan_data['images'] = medical_scan_data['images'].apply(lambda x: eval(x) if isinstance(x, str) else x)\n",
    "        medical_scan_data['labels'] = medical_scan_data['labels'].apply(lambda x: eval(x) if isinstance(x, str) else x)\n",
    "        return medical_scan_data\n",
    "\n",
    "    def _get_dicom_paths_and_labels(self):\n",
    "        dicom_paths = []\n",
    "        labels = []\n",
    "\n",
    "        for _, row in self.medical_scan_data.iterrows():\n",
    "            patient_id = row['patient_id'].replace(\"ID_\", \"\")\n",
    "            study_instance_uid = row['study_instance_uid'].replace(\"ID_\", \"\")\n",
    "            dicom_dir_path = os.path.join(self.dicom_dir, f\"{patient_id}_{study_instance_uid}\")\n",
    "\n",
    "            if os.path.exists(dicom_dir_path):\n",
    "                for image, label in zip(row['images'], row['labels']):\n",
    "                    dicom_file_path = os.path.join(dicom_dir_path, image)\n",
    "                    if os.path.exists(dicom_file_path):\n",
    "                        dicom_paths.append(dicom_file_path)\n",
    "                        labels.append(label)\n",
    "            else:\n",
    "                print(f\"DICOM directory does not exist: {dicom_dir_path}\")\n",
    "\n",
    "        return dicom_paths, labels\n",
    "\n",
    "    def _balance_dataset(self):\n",
    "        # Count occurrences of each label\n",
    "        label_counter = Counter(self.all_labels)\n",
    "        print(f\"Initial Label Distribution: {label_counter}\")\n",
    "\n",
    "        # Find the minority class count\n",
    "        min_class_count = min(label_counter[0], label_counter[1])\n",
    "\n",
    "        # Separate DICOM paths and labels into two groups (keeping pairs together)\n",
    "        dicom_pairs_0 = [(path, label) for path, label in zip(self.dicom_paths, self.all_labels) if label == 0]\n",
    "        dicom_pairs_1 = [(path, label) for path, label in zip(self.dicom_paths, self.all_labels) if label == 1]\n",
    "\n",
    "        # Undersample the majority class\n",
    "        random.shuffle(dicom_pairs_0)\n",
    "        random.shuffle(dicom_pairs_1)\n",
    "\n",
    "        dicom_pairs_0 = dicom_pairs_0[:min_class_count]\n",
    "        dicom_pairs_1 = dicom_pairs_1[:min_class_count]\n",
    "\n",
    "        # Combine the balanced pairs\n",
    "        balanced_pairs = dicom_pairs_0 + dicom_pairs_1\n",
    "\n",
    "        # Shuffle the dataset to mix 0s and 1s while keeping the image-label pairs together\n",
    "        random.shuffle(balanced_pairs)\n",
    "\n",
    "        # Separate the paths and labels again after shuffling\n",
    "        self.dicom_paths, self.all_labels = zip(*balanced_pairs)\n",
    "\n",
    "        # Print the new balanced distribution\n",
    "        print(f\"Balanced Label Distribution: {Counter(self.all_labels)}\")\n",
    "        \n",
    "    def plot_label_distribution(self, title=\"Label Distribution\"):\n",
    "        # Count occurrences of each label\n",
    "        label_counter = Counter(self.all_labels)\n",
    "        labels, counts = zip(*label_counter.items())\n",
    "\n",
    "        # Plot the label distribution\n",
    "        plt.bar(labels, counts, color=['blue', 'orange'])\n",
    "        plt.xlabel('Labels')\n",
    "        plt.ylabel('Count')\n",
    "        plt.title(title)\n",
    "        plt.xticks([0, 1], ['Class 0', 'Class 1'])\n",
    "        plt.show()\n",
    "\n",
    "    def _process_dicom_file(self, dicom_file):\n",
    "        dicom = pydicom.dcmread(dicom_file)\n",
    "        img = self._preprocess_slice(dicom)\n",
    "        images = torch.from_numpy(img).float()\n",
    "        return images\n",
    "\n",
    "    def _preprocess_slice(self, dicom):\n",
    "        bsb_img = self._bsb_window(dicom)\n",
    "        return bsb_img.astype(np.float16)\n",
    "\n",
    "    def _bsb_window(self, dcm):\n",
    "        brain_img = self._window_image(dcm, 40, 80)\n",
    "        subdural_img = self._window_image(dcm, 80, 200)\n",
    "        soft_img = self._window_image(dcm, 40, 380)\n",
    "\n",
    "        brain_img_normalized = (brain_img - 0) / 80\n",
    "        subdural_img_normalized = (subdural_img - (-20)) / 200\n",
    "        soft_img_normalized = (soft_img - (-150)) / 380\n",
    "\n",
    "        bsb_img = np.stack([soft_img_normalized, soft_img_normalized, soft_img_normalized], axis=0)\n",
    "        \n",
    "        return bsb_img\n",
    "\n",
    "    def _window_image(self, dcm, window_center, window_width):\n",
    "        img = dcm.pixel_array * dcm.RescaleSlope + dcm.RescaleIntercept\n",
    "        img_min = window_center - window_width // 2\n",
    "        img_max = window_center + window_width // 2\n",
    "        img = np.clip(img, img_min, img_max)\n",
    "        img_resized = cv2.resize(img, (self.height, self.width), interpolation=cv2.INTER_LINEAR)\n",
    "        return img_resized\n",
    "\n",
    "dataset = DatasetGenerator(\n",
    "    dicom_dir=DICOM_DIR,\n",
    "    medical_scan_data=medical_scan_data,\n",
    "    max_slices=MAX_SLICES,\n",
    "    height=HEIGHT,\n",
    "    width=WIDTH,\n",
    "    balance_dataset=True\n",
    ")"
   ]
  },
  {
   "cell_type": "code",
   "execution_count": 8,
   "id": "6be32733",
   "metadata": {
    "execution": {
     "iopub.execute_input": "2024-10-22T13:33:23.069282Z",
     "iopub.status.busy": "2024-10-22T13:33:23.068903Z",
     "iopub.status.idle": "2024-10-22T13:33:23.209232Z",
     "shell.execute_reply": "2024-10-22T13:33:23.207974Z"
    },
    "papermill": {
     "duration": 0.153461,
     "end_time": "2024-10-22T13:33:23.211507",
     "exception": false,
     "start_time": "2024-10-22T13:33:23.058046",
     "status": "completed"
    },
    "tags": []
   },
   "outputs": [
    {
     "name": "stdout",
     "output_type": "stream",
     "text": [
      "Shape of image tensor: torch.Size([3, 512, 512])\n",
      "Label: tensor(1.)\n"
     ]
    }
   ],
   "source": [
    "images, labels = dataset[0]\n",
    "print(\"Shape of image tensor:\", images.shape)\n",
    "print(\"Label:\", labels)"
   ]
  },
  {
   "cell_type": "code",
   "execution_count": 9,
   "id": "67e60ec8",
   "metadata": {
    "execution": {
     "iopub.execute_input": "2024-10-22T13:33:23.233563Z",
     "iopub.status.busy": "2024-10-22T13:33:23.232865Z",
     "iopub.status.idle": "2024-10-22T13:33:23.237829Z",
     "shell.execute_reply": "2024-10-22T13:33:23.236940Z"
    },
    "papermill": {
     "duration": 0.018254,
     "end_time": "2024-10-22T13:33:23.239857",
     "exception": false,
     "start_time": "2024-10-22T13:33:23.221603",
     "status": "completed"
    },
    "tags": []
   },
   "outputs": [
    {
     "name": "stdout",
     "output_type": "stream",
     "text": [
      "12178\n"
     ]
    }
   ],
   "source": [
    "print(len(dataset))"
   ]
  },
  {
   "cell_type": "code",
   "execution_count": 10,
   "id": "a1d59f7b",
   "metadata": {
    "execution": {
     "iopub.execute_input": "2024-10-22T13:33:23.263627Z",
     "iopub.status.busy": "2024-10-22T13:33:23.262735Z",
     "iopub.status.idle": "2024-10-22T13:33:23.516455Z",
     "shell.execute_reply": "2024-10-22T13:33:23.515453Z"
    },
    "papermill": {
     "duration": 0.267571,
     "end_time": "2024-10-22T13:33:23.518976",
     "exception": false,
     "start_time": "2024-10-22T13:33:23.251405",
     "status": "completed"
    },
    "tags": []
   },
   "outputs": [
    {
     "data": {
      "image/png": "[encoded data removed]",
      "text/plain": [
       "<Figure size 640x480 with 1 Axes>"
      ]
     },
     "metadata": {},
     "output_type": "display_data"
    }
   ],
   "source": [
    "dataset.plot_label_distribution(\"Balanced Label Distribution\")"
   ]
  },
  {
   "cell_type": "markdown",
   "id": "5bdb0280",
   "metadata": {
    "papermill": {
     "duration": 0.010447,
     "end_time": "2024-10-22T13:33:23.540072",
     "exception": false,
     "start_time": "2024-10-22T13:33:23.529625",
     "status": "completed"
    },
    "tags": []
   },
   "source": [
    "# Dataloader"
   ]
  },
  {
   "cell_type": "code",
   "execution_count": 11,
   "id": "edcee028",
   "metadata": {
    "ExecuteTime": {
     "end_time": "2024-10-15T15:07:51.439856Z",
     "start_time": "2024-10-15T15:07:51.432637Z"
    },
    "execution": {
     "iopub.execute_input": "2024-10-22T13:33:23.562683Z",
     "iopub.status.busy": "2024-10-22T13:33:23.562276Z",
     "iopub.status.idle": "2024-10-22T13:33:23.577174Z",
     "shell.execute_reply": "2024-10-22T13:33:23.576403Z"
    },
    "papermill": {
     "duration": 0.028656,
     "end_time": "2024-10-22T13:33:23.579180",
     "exception": false,
     "start_time": "2024-10-22T13:33:23.550524",
     "status": "completed"
    },
    "tags": []
   },
   "outputs": [],
   "source": [
    "class DataloaderManager:\n",
    "    def __init__(self, dataset, val_size, test_size, batch_size, num_workers=4):\n",
    "        self.dataset = dataset\n",
    "        self.val_size = val_size\n",
    "        self.test_size = test_size\n",
    "        self.batch_size = batch_size\n",
    "        self.num_workers = num_workers\n",
    "        \n",
    "        self.train_indices = None\n",
    "        self.val_indices = None\n",
    "        self.test_indices = None\n",
    "        \n",
    "        self._create_loaders()\n",
    "        self.print_lengths()\n",
    "        self.print_label_distribution()\n",
    "\n",
    "    def _get_labels(self, indices):\n",
    "        # Fetch labels for a given set of indices\n",
    "        return [self.dataset.all_labels[i] for i in indices]\n",
    "\n",
    "    def _split_indices(self):\n",
    "        labels = self.dataset.all_labels\n",
    "        total_size = len(labels)\n",
    "        indices = np.arange(total_size)\n",
    "\n",
    "        # Split into train+val and test sets first\n",
    "        train_val_indices, test_indices = train_test_split(\n",
    "            indices,\n",
    "            test_size=self.test_size,\n",
    "            stratify=labels,\n",
    "            random_state=42\n",
    "        )\n",
    "\n",
    "        # Now split the remaining data into train and validation sets\n",
    "        val_relative_size = self.val_size / (1 - self.test_size)\n",
    "        train_indices, val_indices = train_test_split(\n",
    "            train_val_indices,\n",
    "            test_size=val_relative_size,\n",
    "            stratify=np.array(labels)[train_val_indices],\n",
    "            random_state=42\n",
    "        )\n",
    "\n",
    "        return train_indices, val_indices, test_indices\n",
    "\n",
    "    def _create_dataloader(self, indices, shuffle):\n",
    "        return DataLoader(\n",
    "            Subset(self.dataset, indices),\n",
    "            batch_size=self.batch_size,\n",
    "            shuffle=shuffle,\n",
    "            num_workers=self.num_workers,\n",
    "            pin_memory=True\n",
    "        )\n",
    "\n",
    "    def _create_loaders(self):\n",
    "        self.train_indices, self.val_indices, self.test_indices = self._split_indices()\n",
    "        \n",
    "        self.train_loader = self._create_dataloader(self.train_indices, shuffle=True)\n",
    "        self.validate_loader = self._create_dataloader(self.val_indices, shuffle=False)\n",
    "        self.test_loader = self._create_dataloader(self.test_indices, shuffle=False)\n",
    "\n",
    "    def print_lengths(self):\n",
    "        print(f\"Length of training dataset: {len(self.train_loader.dataset)}\")\n",
    "        print(f\"Length of validation dataset: {len(self.validate_loader.dataset)}\")\n",
    "        print(f\"Length of testing dataset: {len(self.test_loader.dataset)}\")\n",
    "        \n",
    "    def print_label_distribution(self):\n",
    "        # Get label distributions for train, validation, and test sets\n",
    "        train_labels = self._get_labels(self.train_indices)\n",
    "        val_labels = self._get_labels(self.val_indices)\n",
    "        test_labels = self._get_labels(self.test_indices)\n",
    "\n",
    "        print(\"\\n***********************\\n\")\n",
    "        print(\"Label Distribution:\")\n",
    "        print(f\"Train set: {Counter(train_labels)}\")\n",
    "        print(f\"Validation set: {Counter(val_labels)}\")\n",
    "        print(f\"Test set: {Counter(test_labels)}\")"
   ]
  },
  {
   "cell_type": "code",
   "execution_count": 12,
   "id": "bc6cd00c",
   "metadata": {
    "execution": {
     "iopub.execute_input": "2024-10-22T13:33:23.601375Z",
     "iopub.status.busy": "2024-10-22T13:33:23.601044Z",
     "iopub.status.idle": "2024-10-22T13:33:23.624537Z",
     "shell.execute_reply": "2024-10-22T13:33:23.623457Z"
    },
    "papermill": {
     "duration": 0.036915,
     "end_time": "2024-10-22T13:33:23.626599",
     "exception": false,
     "start_time": "2024-10-22T13:33:23.589684",
     "status": "completed"
    },
    "tags": []
   },
   "outputs": [
    {
     "name": "stdout",
     "output_type": "stream",
     "text": [
      "Length of training dataset: 8524\n",
      "Length of validation dataset: 1827\n",
      "Length of testing dataset: 1827\n",
      "\n",
      "***********************\n",
      "\n",
      "Label Distribution:\n",
      "Train set: Counter({1: 4262, 0: 4262})\n",
      "Validation set: Counter({1: 914, 0: 913})\n",
      "Test set: Counter({0: 914, 1: 913})\n"
     ]
    }
   ],
   "source": [
    "dataloader_manager = DataloaderManager(dataset, val_size=VAL_SIZE, test_size=TEST_SIZE, batch_size=BATCH_PATIENTS)"
   ]
  },
  {
   "cell_type": "markdown",
   "id": "74c38194",
   "metadata": {
    "papermill": {
     "duration": 0.010099,
     "end_time": "2024-10-22T13:33:23.647085",
     "exception": false,
     "start_time": "2024-10-22T13:33:23.636986",
     "status": "completed"
    },
    "tags": []
   },
   "source": [
    "# Model configurations"
   ]
  },
  {
   "cell_type": "code",
   "execution_count": 13,
   "id": "c015ecc4",
   "metadata": {
    "ExecuteTime": {
     "end_time": "2024-10-15T15:07:52.586835Z",
     "start_time": "2024-10-15T15:07:51.642585Z"
    },
    "execution": {
     "iopub.execute_input": "2024-10-22T13:33:23.669740Z",
     "iopub.status.busy": "2024-10-22T13:33:23.669344Z",
     "iopub.status.idle": "2024-10-22T13:33:24.343734Z",
     "shell.execute_reply": "2024-10-22T13:33:24.342732Z"
    },
    "papermill": {
     "duration": 0.688575,
     "end_time": "2024-10-22T13:33:24.346338",
     "exception": false,
     "start_time": "2024-10-22T13:33:23.657763",
     "status": "completed"
    },
    "tags": []
   },
   "outputs": [
    {
     "name": "stderr",
     "output_type": "stream",
     "text": [
      "Downloading: \"https://download.pytorch.org/models/resnet18-f37072fd.pth\" to /root/.cache/torch/hub/checkpoints/resnet18-f37072fd.pth\n",
      "100%|██████████| 44.7M/44.7M [00:00<00:00, 202MB/s]\n"
     ]
    }
   ],
   "source": [
    "# 2. Model Definition\n",
    "class ResNet18(nn.Module):\n",
    "    def __init__(self, num_classes=1):\n",
    "        super(ResNet18, self).__init__()\n",
    "        self.resnet = models.resnet18(weights=ResNet18_Weights.DEFAULT)\n",
    "        self.resnet.fc = nn.Linear(self.resnet.fc.in_features, num_classes)\n",
    "        self.dropout = nn.Dropout(p=0.25)  # Add dropout layer\n",
    "\n",
    "    def forward(self, x):\n",
    "        batch_slices, channels, height, width = x.size()\n",
    "        return self.dropout(self.resnet(x))\n",
    "        \n",
    "device = torch.device(\"cuda\" if torch.cuda.is_available() else \"cpu\")\n",
    "model = ResNet18().to(device)"
   ]
  },
  {
   "cell_type": "code",
   "execution_count": 14,
   "id": "4ae6656b",
   "metadata": {
    "ExecuteTime": {
     "end_time": "2024-10-15T15:07:52.616483Z",
     "start_time": "2024-10-15T15:07:52.612038Z"
    },
    "execution": {
     "iopub.execute_input": "2024-10-22T13:33:24.369768Z",
     "iopub.status.busy": "2024-10-22T13:33:24.369386Z",
     "iopub.status.idle": "2024-10-22T13:33:24.376449Z",
     "shell.execute_reply": "2024-10-22T13:33:24.375616Z"
    },
    "papermill": {
     "duration": 0.02111,
     "end_time": "2024-10-22T13:33:24.378545",
     "exception": false,
     "start_time": "2024-10-22T13:33:24.357435",
     "status": "completed"
    },
    "tags": []
   },
   "outputs": [],
   "source": [
    "# 3. Loss and Optimizer\n",
    "criterion = nn.BCEWithLogitsLoss()\n",
    "optimizer = optim.Adam(model.parameters(), lr=LEARNING_RATE)\n",
    "scheduler = ReduceLROnPlateau(optimizer, mode='min', factor=0.2, patience=2)\n",
    "\n",
    "# mode: Monitors 'min' or 'max' changes in metrics.\n",
    "# factor: The multiplicative factor for reducing the learning rate. \n",
    "##  If the current learning rate is 0.01 and factor=0.5, the new learning rate will be 0.01 * 0.5 = 0.005\n",
    "# patience: Number of epochs to wait for improvement before reducing the learning rate."
   ]
  },
  {
   "cell_type": "code",
   "execution_count": 15,
   "id": "c29bb898",
   "metadata": {
    "ExecuteTime": {
     "end_time": "2024-10-15T15:07:52.680223Z",
     "start_time": "2024-10-15T15:07:52.670633Z"
    },
    "execution": {
     "iopub.execute_input": "2024-10-22T13:33:24.402282Z",
     "iopub.status.busy": "2024-10-22T13:33:24.401932Z",
     "iopub.status.idle": "2024-10-22T13:33:24.410526Z",
     "shell.execute_reply": "2024-10-22T13:33:24.409619Z"
    },
    "papermill": {
     "duration": 0.02271,
     "end_time": "2024-10-22T13:33:24.412402",
     "exception": false,
     "start_time": "2024-10-22T13:33:24.389692",
     "status": "completed"
    },
    "tags": []
   },
   "outputs": [],
   "source": [
    "def train(model, train_loader, criterion, optimizer, scheduler, device):\n",
    "    model.train()\n",
    "\n",
    "    running_loss = 0.0\n",
    "    correct = 0\n",
    "    total = 0\n",
    "\n",
    "    for batch_idx, (image, label) in enumerate(train_loader):\n",
    "        image, label = image.to(device), label.to(device)\n",
    "\n",
    "        # Forward pass\n",
    "        optimizer.zero_grad()\n",
    "        output = model(image).squeeze()\n",
    "        label = label.reshape(-1)\n",
    "        \n",
    "        loss = criterion(output, label)\n",
    "\n",
    "        # Backward pass and optimization\n",
    "        loss.backward()\n",
    "        optimizer.step()\n",
    "\n",
    "        # Track loss\n",
    "        running_loss += loss.item()\n",
    "\n",
    "        # Calculate accuracy\n",
    "        predicted_label = (output > 0.5).float()\n",
    "        total += label.size(0)\n",
    "        correct += (predicted_label == label).sum().item()\n",
    "\n",
    "    # Calculate average loss and accuracy for the epoch\n",
    "    epoch_loss = running_loss / len(train_loader)\n",
    "    accuracy = 100 * correct / total\n",
    "\n",
    "    print(f'Epoch {epoch+1}: Loss: {epoch_loss:.4f}, Accuracy: {accuracy:.4f}%')\n",
    "\n",
    "    scheduler.step(epoch_loss)\n",
    "    return epoch_loss"
   ]
  },
  {
   "cell_type": "code",
   "execution_count": 16,
   "id": "38186cb6",
   "metadata": {
    "ExecuteTime": {
     "end_time": "2024-10-15T15:07:52.742433Z",
     "start_time": "2024-10-15T15:07:52.734550Z"
    },
    "execution": {
     "iopub.execute_input": "2024-10-22T13:33:24.436545Z",
     "iopub.status.busy": "2024-10-22T13:33:24.435726Z",
     "iopub.status.idle": "2024-10-22T13:33:24.444119Z",
     "shell.execute_reply": "2024-10-22T13:33:24.443212Z"
    },
    "papermill": {
     "duration": 0.022448,
     "end_time": "2024-10-22T13:33:24.446074",
     "exception": false,
     "start_time": "2024-10-22T13:33:24.423626",
     "status": "completed"
    },
    "tags": []
   },
   "outputs": [],
   "source": [
    "def validate(model, validate_loader, criterion, device):\n",
    "    model.eval()\n",
    "    running_loss = 0.0\n",
    "    correct = 0\n",
    "    total = 0\n",
    "    \n",
    "    with torch.no_grad():\n",
    "        for batch_idx, (image, label) in enumerate(validate_loader):\n",
    "            image, label = image.to(device), label.to(device)\n",
    "            \n",
    "            # Forward pass\n",
    "            output = model(image).squeeze()\n",
    "            label = label.reshape(-1)\n",
    "            \n",
    "            loss = criterion(output, label)\n",
    "            running_loss += loss.item()\n",
    "            \n",
    "            # Calculate accuracy\n",
    "            predicted_label = (output > 0.5).float()\n",
    "            total += label.size(0)\n",
    "            correct += (predicted_label == label).sum().item()\n",
    "    \n",
    "    # Calculate average loss and accuracy for validation\n",
    "    val_loss = running_loss / len(validate_loader)\n",
    "    accuracy = 100 * correct / total\n",
    "    \n",
    "    print(f'Validation Loss: {val_loss:.4f}, Validation Accuracy: {accuracy:.4f}%')\n",
    "    \n",
    "    return val_loss"
   ]
  },
  {
   "cell_type": "code",
   "execution_count": 17,
   "id": "ae2516b5",
   "metadata": {
    "ExecuteTime": {
     "end_time": "2024-10-15T15:07:52.801793Z",
     "start_time": "2024-10-15T15:07:52.796322Z"
    },
    "execution": {
     "iopub.execute_input": "2024-10-22T13:33:24.470020Z",
     "iopub.status.busy": "2024-10-22T13:33:24.469118Z",
     "iopub.status.idle": "2024-10-22T13:33:24.475223Z",
     "shell.execute_reply": "2024-10-22T13:33:24.474323Z"
    },
    "papermill": {
     "duration": 0.020081,
     "end_time": "2024-10-22T13:33:24.477150",
     "exception": false,
     "start_time": "2024-10-22T13:33:24.457069",
     "status": "completed"
    },
    "tags": []
   },
   "outputs": [],
   "source": [
    "def save_checkpoint(model, optimizer, scheduler, epoch, loss):\n",
    "    checkpoint_path = os.path.join(CHECKPOINTS_DIR, f'checkpoint_epoch_{epoch+1}.pth')    \n",
    "    torch.save({\n",
    "        'epoch': epoch,\n",
    "        'model_state_dict': model.state_dict(),\n",
    "        'optimizer_state_dict': optimizer.state_dict(),\n",
    "        'scheduler_state_dict': scheduler.state_dict(),\n",
    "        'loss': loss\n",
    "    }, checkpoint_path)\n",
    "    print(f\"Checkpoint saved: {checkpoint_path}\")"
   ]
  },
  {
   "cell_type": "code",
   "execution_count": 18,
   "id": "3d8bf4a4",
   "metadata": {
    "ExecuteTime": {
     "end_time": "2024-10-15T15:07:53.165742Z",
     "start_time": "2024-10-15T15:07:53.159773Z"
    },
    "execution": {
     "iopub.execute_input": "2024-10-22T13:33:24.500544Z",
     "iopub.status.busy": "2024-10-22T13:33:24.499945Z",
     "iopub.status.idle": "2024-10-22T13:33:24.509318Z",
     "shell.execute_reply": "2024-10-22T13:33:24.508409Z"
    },
    "papermill": {
     "duration": 0.023119,
     "end_time": "2024-10-22T13:33:24.511234",
     "exception": false,
     "start_time": "2024-10-22T13:33:24.488115",
     "status": "completed"
    },
    "tags": []
   },
   "outputs": [],
   "source": [
    "def load_best_checkpoint(model, optimizer, scheduler, checkpoint_dir):\n",
    "    checkpoint_files = [f for f in os.listdir(checkpoint_dir) if f.startswith('checkpoint_epoch_') and f.endswith('.pth')]\n",
    "    if not checkpoint_files:\n",
    "        print(\"No checkpoints found.\")\n",
    "        return None, None\n",
    "\n",
    "    best_checkpoint = min(checkpoint_files, key=lambda x: float(x.split('_')[-1].split('.')[0]))\n",
    "    checkpoint_path = os.path.join(checkpoint_dir, best_checkpoint)\n",
    "    \n",
    "    try:\n",
    "        checkpoint = torch.load(checkpoint_path, map_location=torch.device(device), weights_only=True)\n",
    "    except RuntimeError as e:\n",
    "        print(f\"Error loading checkpoint: {e}\")\n",
    "        print(f\"Checkpoint file: {checkpoint_path}\")\n",
    "        print(f\"File size: {os.path.getsize(checkpoint_path)} bytes\")\n",
    "        return None, None\n",
    "\n",
    "    try:\n",
    "        model.load_state_dict(checkpoint['model_state_dict'])\n",
    "        optimizer.load_state_dict(checkpoint['optimizer_state_dict'])\n",
    "        scheduler.load_state_dict(checkpoint['scheduler_state_dict'])\n",
    "        \n",
    "        epoch = checkpoint['epoch']\n",
    "        best_val_loss = checkpoint['loss']\n",
    "        \n",
    "        print(f\"Loaded checkpoint from epoch {epoch+1} with validation loss {best_val_loss}\")\n",
    "        \n",
    "        return epoch, best_val_loss\n",
    "    except KeyError as e:\n",
    "        print(f\"Error: Checkpoint file is missing expected data: {e}\")\n",
    "        print(f\"Available keys in checkpoint: {checkpoint.keys()}\")\n",
    "        return None, None"
   ]
  },
  {
   "cell_type": "code",
   "execution_count": 19,
   "id": "543024aa",
   "metadata": {
    "ExecuteTime": {
     "end_time": "2024-10-15T15:07:53.235969Z",
     "start_time": "2024-10-15T15:07:53.227459Z"
    },
    "execution": {
     "iopub.execute_input": "2024-10-22T13:33:24.534178Z",
     "iopub.status.busy": "2024-10-22T13:33:24.533864Z",
     "iopub.status.idle": "2024-10-22T13:33:24.540999Z",
     "shell.execute_reply": "2024-10-22T13:33:24.540184Z"
    },
    "papermill": {
     "duration": 0.020856,
     "end_time": "2024-10-22T13:33:24.542967",
     "exception": false,
     "start_time": "2024-10-22T13:33:24.522111",
     "status": "completed"
    },
    "tags": []
   },
   "outputs": [],
   "source": [
    "def plot_roc_curve(y_true, y_scores):\n",
    "    fpr, tpr, thresholds = roc_curve(y_true, y_scores)\n",
    "    roc_auc = auc(fpr, tpr)\n",
    "    plt.figure()\n",
    "    plt.plot(fpr, tpr, color='darkorange', lw=2, label='ROC curve (area = %0.2f)' % roc_auc)\n",
    "    plt.plot([0, 1], [0, 1], color='navy', lw=2, linestyle='--')\n",
    "    plt.xlim([0.0, 1.0])\n",
    "    plt.ylim([0.0, 1.05])\n",
    "    plt.xlabel('False Positive Rate')\n",
    "    plt.ylabel('True Positive Rate')\n",
    "    plt.title('Receiver Operating Characteristic')\n",
    "    plt.legend(loc='lower right')\n",
    "    plt.savefig(os.path.join(FIGURES_DIR, 'roc_curve.png'))\n",
    "    plt.show()\n",
    "    plt.close()"
   ]
  },
  {
   "cell_type": "code",
   "execution_count": 20,
   "id": "8af72069",
   "metadata": {
    "ExecuteTime": {
     "end_time": "2024-10-15T15:07:53.598335Z",
     "start_time": "2024-10-15T15:07:53.594214Z"
    },
    "execution": {
     "iopub.execute_input": "2024-10-22T13:33:24.566468Z",
     "iopub.status.busy": "2024-10-22T13:33:24.566132Z",
     "iopub.status.idle": "2024-10-22T13:33:24.571692Z",
     "shell.execute_reply": "2024-10-22T13:33:24.570785Z"
    },
    "papermill": {
     "duration": 0.019441,
     "end_time": "2024-10-22T13:33:24.573534",
     "exception": false,
     "start_time": "2024-10-22T13:33:24.554093",
     "status": "completed"
    },
    "tags": []
   },
   "outputs": [],
   "source": [
    "def plot_confusion_matrix(y_true, y_pred):\n",
    "    cm = confusion_matrix(y_true, y_pred)\n",
    "    disp = ConfusionMatrixDisplay(confusion_matrix=cm)\n",
    "    disp.plot(cmap=plt.cm.Blues)\n",
    "    plt.title('Confusion Matrix')\n",
    "    plt.savefig(os.path.join(FIGURES_DIR, 'confusion_matrix.png'))\n",
    "    plt.show()\n",
    "    plt.close()"
   ]
  },
  {
   "cell_type": "code",
   "execution_count": 21,
   "id": "edb26c6b",
   "metadata": {
    "ExecuteTime": {
     "end_time": "2024-10-15T15:07:53.657149Z",
     "start_time": "2024-10-15T15:07:53.651664Z"
    },
    "execution": {
     "iopub.execute_input": "2024-10-22T13:33:24.597057Z",
     "iopub.status.busy": "2024-10-22T13:33:24.596705Z",
     "iopub.status.idle": "2024-10-22T13:33:24.601963Z",
     "shell.execute_reply": "2024-10-22T13:33:24.601016Z"
    },
    "papermill": {
     "duration": 0.019231,
     "end_time": "2024-10-22T13:33:24.603995",
     "exception": false,
     "start_time": "2024-10-22T13:33:24.584764",
     "status": "completed"
    },
    "tags": []
   },
   "outputs": [],
   "source": [
    "def save_final_model(model, optimizer, scheduler, final_model_path):\n",
    "    torch.save({\n",
    "        'model_state_dict': model.state_dict(),\n",
    "        'optimizer_state_dict': optimizer.state_dict(),\n",
    "        'scheduler_state_dict': scheduler.state_dict(),\n",
    "    }, final_model_path)\n",
    "    print(f\"Final model saved to {final_model_path}\")"
   ]
  },
  {
   "cell_type": "code",
   "execution_count": 22,
   "id": "104c1cd7",
   "metadata": {
    "ExecuteTime": {
     "end_time": "2024-10-15T15:07:53.997995Z",
     "start_time": "2024-10-15T15:07:53.983343Z"
    },
    "execution": {
     "iopub.execute_input": "2024-10-22T13:33:24.627564Z",
     "iopub.status.busy": "2024-10-22T13:33:24.627207Z",
     "iopub.status.idle": "2024-10-22T13:33:24.637233Z",
     "shell.execute_reply": "2024-10-22T13:33:24.636514Z"
    },
    "papermill": {
     "duration": 0.023945,
     "end_time": "2024-10-22T13:33:24.639170",
     "exception": false,
     "start_time": "2024-10-22T13:33:24.615225",
     "status": "completed"
    },
    "tags": []
   },
   "outputs": [],
   "source": [
    "def evaluate(model, test_loader, device, criterion):\n",
    "    model.to(device)\n",
    "    model.eval()\n",
    "    correct = 0\n",
    "    total = 0\n",
    "    all_labels = []\n",
    "    all_predictions = []\n",
    "    all_scores = []\n",
    "    test_loss = 0\n",
    "\n",
    "    with torch.no_grad():\n",
    "        for image, label in test_loader:\n",
    "            image, label = image.to(device), label.to(device)\n",
    "            \n",
    "            output = model(image).squeeze()\n",
    "            label = label.reshape(-1)\n",
    "            \n",
    "            loss = criterion(output, label)\n",
    "            test_loss += loss.item()\n",
    "            \n",
    "            predicted_label = (output > 0.5).float()\n",
    "            total += label.size(0)\n",
    "            correct += (predicted_label == label).sum().item()\n",
    "            \n",
    "            all_labels.extend(label.cpu().numpy())\n",
    "            all_predictions.extend(predicted_label.cpu().numpy())\n",
    "            all_scores.extend(output.cpu().numpy())\n",
    "\n",
    "    accuracy = 100 * correct / total\n",
    "    avg_loss = test_loss / len(test_loader)\n",
    "    print(f'Test Accuracy: {accuracy:.4f}%')\n",
    "    print(f'Test Loss: {avg_loss:.4f}')\n",
    "    \n",
    "    plot_roc_curve(np.array(all_labels), np.array(all_scores))\n",
    "    plot_confusion_matrix(np.array(all_labels), np.array(all_predictions))\n",
    "\n",
    "    return accuracy, avg_loss"
   ]
  },
  {
   "cell_type": "markdown",
   "id": "6ee436cf",
   "metadata": {
    "papermill": {
     "duration": 0.010674,
     "end_time": "2024-10-22T13:33:24.660810",
     "exception": false,
     "start_time": "2024-10-22T13:33:24.650136",
     "status": "completed"
    },
    "tags": []
   },
   "source": [
    "# Main"
   ]
  },
  {
   "cell_type": "markdown",
   "id": "b146ca82",
   "metadata": {
    "papermill": {
     "duration": 0.010436,
     "end_time": "2024-10-22T13:33:24.682064",
     "exception": false,
     "start_time": "2024-10-22T13:33:24.671628",
     "status": "completed"
    },
    "tags": []
   },
   "source": [
    "## Train result"
   ]
  },
  {
   "cell_type": "code",
   "execution_count": 23,
   "id": "2afad28c",
   "metadata": {
    "execution": {
     "iopub.execute_input": "2024-10-22T13:33:24.705355Z",
     "iopub.status.busy": "2024-10-22T13:33:24.704691Z",
     "iopub.status.idle": "2024-10-22T14:21:39.223097Z",
     "shell.execute_reply": "2024-10-22T14:21:39.221731Z"
    },
    "papermill": {
     "duration": 2894.532634,
     "end_time": "2024-10-22T14:21:39.225476",
     "exception": false,
     "start_time": "2024-10-22T13:33:24.692842",
     "status": "completed"
    },
    "tags": []
   },
   "outputs": [
    {
     "name": "stdout",
     "output_type": "stream",
     "text": [
      "No checkpoints found.\n",
      "Epoch 1: Loss: 0.5453, Accuracy: 67.8437%\n",
      "Validation Loss: 0.6032, Validation Accuracy: 60.8101%\n",
      "Checkpoint saved: /kaggle/working/RSNA-ResNet18/checkpoints/checkpoint_epoch_1.pth\n",
      "Epoch 2: Loss: 0.4776, Accuracy: 72.8766%\n",
      "Validation Loss: 0.5406, Validation Accuracy: 77.4494%\n",
      "Checkpoint saved: /kaggle/working/RSNA-ResNet18/checkpoints/checkpoint_epoch_2.pth\n",
      "Epoch 3: Loss: 0.4429, Accuracy: 74.6129%\n",
      "Validation Loss: 0.5014, Validation Accuracy: 81.1713%\n",
      "Checkpoint saved: /kaggle/working/RSNA-ResNet18/checkpoints/checkpoint_epoch_3.pth\n",
      "Epoch 4: Loss: 0.4179, Accuracy: 75.7039%\n",
      "Validation Loss: 0.4421, Validation Accuracy: 71.9759%\n",
      "Checkpoint saved: /kaggle/working/RSNA-ResNet18/checkpoints/checkpoint_epoch_4.pth\n",
      "Epoch 5: Loss: 0.3905, Accuracy: 77.6279%\n",
      "Validation Loss: 0.8208, Validation Accuracy: 76.0810%\n",
      "Epoch 6: Loss: 0.3802, Accuracy: 78.0267%\n",
      "Validation Loss: 0.3428, Validation Accuracy: 84.8933%\n",
      "Checkpoint saved: /kaggle/working/RSNA-ResNet18/checkpoints/checkpoint_epoch_6.pth\n",
      "Epoch 7: Loss: 0.3480, Accuracy: 80.1971%\n",
      "Validation Loss: 0.3887, Validation Accuracy: 80.2408%\n",
      "Epoch 8: Loss: 0.3288, Accuracy: 80.8541%\n",
      "Validation Loss: 0.3634, Validation Accuracy: 85.6596%\n",
      "Epoch 9: Loss: 0.2910, Accuracy: 82.4730%\n",
      "Validation Loss: 0.4547, Validation Accuracy: 79.3103%\n",
      "Epoch 10: Loss: 0.2653, Accuracy: 83.7048%\n",
      "Validation Loss: 0.5029, Validation Accuracy: 80.6240%\n",
      "Epoch 11: Loss: 0.2615, Accuracy: 84.1741%\n",
      "Validation Loss: 0.3546, Validation Accuracy: 84.9480%\n",
      "Epoch 12: Loss: 0.2341, Accuracy: 85.1830%\n",
      "Validation Loss: 0.4464, Validation Accuracy: 81.8829%\n",
      "Epoch 13: Loss: 0.2183, Accuracy: 85.6171%\n",
      "Validation Loss: 0.3247, Validation Accuracy: 87.7942%\n",
      "Checkpoint saved: /kaggle/working/RSNA-ResNet18/checkpoints/checkpoint_epoch_13.pth\n",
      "Epoch 14: Loss: 0.2169, Accuracy: 86.2858%\n",
      "Validation Loss: 0.5288, Validation Accuracy: 81.6092%\n",
      "Epoch 15: Loss: 0.2172, Accuracy: 85.5467%\n",
      "Validation Loss: 0.5445, Validation Accuracy: 83.8533%\n",
      "Epoch 16: Loss: 0.2102, Accuracy: 86.3210%\n",
      "Validation Loss: 0.5521, Validation Accuracy: 83.8533%\n",
      "Epoch 17: Loss: 0.2009, Accuracy: 86.4148%\n",
      "Validation Loss: 0.5111, Validation Accuracy: 82.5944%\n",
      "Epoch 18: Loss: 0.2062, Accuracy: 86.3562%\n",
      "Validation Loss: 0.5485, Validation Accuracy: 79.8577%\n",
      "Epoch 19: Loss: 0.2008, Accuracy: 86.5439%\n",
      "Validation Loss: 0.4813, Validation Accuracy: 86.1522%\n",
      "Epoch 20: Loss: 0.1918, Accuracy: 86.6847%\n",
      "Validation Loss: 0.5325, Validation Accuracy: 83.5249%\n",
      "Epoch 21: Loss: 0.2014, Accuracy: 86.0160%\n",
      "Validation Loss: 0.4446, Validation Accuracy: 83.4154%\n",
      "Epoch 22: Loss: 0.1967, Accuracy: 86.8372%\n",
      "Validation Loss: 0.3764, Validation Accuracy: 87.5753%\n",
      "Epoch 23: Loss: 0.1911, Accuracy: 86.6025%\n",
      "Validation Loss: 0.3864, Validation Accuracy: 86.2616%\n",
      "Epoch 24: Loss: 0.1902, Accuracy: 86.8372%\n",
      "Validation Loss: 0.3755, Validation Accuracy: 85.7143%\n",
      "Epoch 25: Loss: 0.1887, Accuracy: 86.4266%\n",
      "Validation Loss: 0.3829, Validation Accuracy: 87.4111%\n",
      "Epoch 26: Loss: 0.1765, Accuracy: 88.0455%\n",
      "Validation Loss: 0.3534, Validation Accuracy: 88.8342%\n",
      "Epoch 27: Loss: 0.1749, Accuracy: 87.3299%\n",
      "Validation Loss: 0.3981, Validation Accuracy: 88.0679%\n",
      "Epoch 28: Loss: 0.1897, Accuracy: 86.0394%\n",
      "Validation Loss: 0.5954, Validation Accuracy: 84.3459%\n",
      "Epoch 29: Loss: 0.1834, Accuracy: 86.9662%\n",
      "Validation Loss: 0.6315, Validation Accuracy: 82.4302%\n",
      "Epoch 30: Loss: 0.1834, Accuracy: 87.3651%\n",
      "Validation Loss: 0.5887, Validation Accuracy: 83.1965%\n"
     ]
    }
   ],
   "source": [
    "loaded_epoch, loaded_best_val_loss = load_best_checkpoint(model, optimizer, scheduler, CHECKPOINTS_DIR)\n",
    "\n",
    "if loaded_epoch is not None:\n",
    "    start_epoch = loaded_epoch + 1\n",
    "    best_val_loss = loaded_best_val_loss\n",
    "else:\n",
    "    start_epoch = 0\n",
    "    best_val_loss = float('inf')\n",
    "\n",
    "for epoch in range(start_epoch, NUM_EPOCHS):\n",
    "    train_loader = dataloader_manager.train_loader\n",
    "    validate_loader = dataloader_manager.validate_loader \n",
    "    \n",
    "    train_loss = train(model, train_loader, criterion, optimizer, scheduler, device)\n",
    "    val_loss = validate(model, validate_loader, criterion, device)\n",
    "    \n",
    "    if val_loss < best_val_loss:\n",
    "        save_checkpoint(model, optimizer, scheduler, epoch, val_loss)\n",
    "        best_val_loss = val_loss"
   ]
  },
  {
   "cell_type": "markdown",
   "id": "83bf05c0",
   "metadata": {
    "papermill": {
     "duration": 0.015311,
     "end_time": "2024-10-22T14:21:39.256607",
     "exception": false,
     "start_time": "2024-10-22T14:21:39.241296",
     "status": "completed"
    },
    "tags": []
   },
   "source": [
    "## Evaluate result"
   ]
  },
  {
   "cell_type": "code",
   "execution_count": 24,
   "id": "31b39991",
   "metadata": {
    "ExecuteTime": {
     "end_time": "2024-10-15T15:18:44.867379Z",
     "start_time": "2024-10-15T15:17:49.586291Z"
    },
    "execution": {
     "iopub.execute_input": "2024-10-22T14:21:39.289513Z",
     "iopub.status.busy": "2024-10-22T14:21:39.289113Z",
     "iopub.status.idle": "2024-10-22T14:22:02.638796Z",
     "shell.execute_reply": "2024-10-22T14:22:02.637635Z"
    },
    "papermill": {
     "duration": 23.369057,
     "end_time": "2024-10-22T14:22:02.641085",
     "exception": false,
     "start_time": "2024-10-22T14:21:39.272028",
     "status": "completed"
    },
    "tags": []
   },
   "outputs": [
    {
     "name": "stdout",
     "output_type": "stream",
     "text": [
      "Test Accuracy: 83.2512%\n",
      "Test Loss: 0.5191\n"
     ]
    },
    {
     "data": {
      "image/png": "[encoded data removed]",
      "text/plain": [
       "<Figure size 640x480 with 1 Axes>"
      ]
     },
     "metadata": {},
     "output_type": "display_data"
    },
    {
     "data": {
      "image/png": "[encoded data removed]",
      "text/plain": [
       "<Figure size 640x480 with 2 Axes>"
      ]
     },
     "metadata": {},
     "output_type": "display_data"
    },
    {
     "name": "stdout",
     "output_type": "stream",
     "text": [
      "Final model saved to /kaggle/working/RSNA-ResNet18/checkpoints/final_model.pth\n"
     ]
    }
   ],
   "source": [
    "test_loader = dataloader_manager.test_loader\n",
    "accuracy, test_loss = evaluate(model, test_loader, device, criterion)\n",
    "\n",
    "final_model_path = os.path.join(CHECKPOINTS_DIR, 'final_model.pth')\n",
    "save_final_model(model, optimizer, scheduler, final_model_path)"
   ]
  }
 ],
 "metadata": {
  "kaggle": {
   "accelerator": "gpu",
   "dataSources": [
    {
     "datasetId": 5854070,
     "sourceId": 9651167,
     "sourceType": "datasetVersion"
    },
    {
     "datasetId": 5705276,
     "sourceId": 9652074,
     "sourceType": "datasetVersion"
    }
   ],
   "dockerImageVersionId": 30787,
   "isGpuEnabled": true,
   "isInternetEnabled": true,
   "language": "python",
   "sourceType": "notebook"
  },
  "kernelspec": {
   "display_name": "Python 3",
   "language": "python",
   "name": "python3"
  },
  "language_info": {
   "codemirror_mode": {
    "name": "ipython",
    "version": 3
   },
   "file_extension": ".py",
   "mimetype": "text/x-python",
   "name": "python",
   "nbconvert_exporter": "python",
   "pygments_lexer": "ipython3",
   "version": "3.10.14"
  },
  "papermill": {
   "default_parameters": {},
   "duration": 3019.114789,
   "end_time": "2024-10-22T14:22:05.924306",
   "environment_variables": {},
   "exception": null,
   "input_path": "__notebook__.ipynb",
   "output_path": "__notebook__.ipynb",
   "parameters": {},
   "start_time": "2024-10-22T13:31:46.809517",
   "version": "2.6.0"
  }
 },
 "nbformat": 4,
 "nbformat_minor": 5
}
