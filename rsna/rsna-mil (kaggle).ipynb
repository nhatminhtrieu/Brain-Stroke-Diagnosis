{
 "cells": [
  {
   "cell_type": "markdown",
   "id": "1efd01bd",
   "metadata": {
    "papermill": {
     "duration": 0.006538,
     "end_time": "2024-09-16T16:30:12.390739",
     "exception": false,
     "start_time": "2024-09-16T16:30:12.384201",
     "status": "completed"
    },
    "tags": []
   },
   "source": [
    "## Library"
   ]
  },
  {
   "cell_type": "code",
   "execution_count": 1,
   "id": "5486adc3",
   "metadata": {
    "ExecuteTime": {
     "end_time": "2024-09-14T07:28:37.120692Z",
     "start_time": "2024-09-14T07:28:36.048336Z"
    },
    "execution": {
     "iopub.execute_input": "2024-09-16T16:30:12.404602Z",
     "iopub.status.busy": "2024-09-16T16:30:12.403916Z",
     "iopub.status.idle": "2024-09-16T16:30:19.267401Z",
     "shell.execute_reply": "2024-09-16T16:30:19.266551Z"
    },
    "papermill": {
     "duration": 6.873213,
     "end_time": "2024-09-16T16:30:19.269838",
     "exception": false,
     "start_time": "2024-09-16T16:30:12.396625",
     "status": "completed"
    },
    "tags": []
   },
   "outputs": [],
   "source": [
    "import torch\n",
    "import torch.optim as optim\n",
    "from torch.optim import Optimizer\n",
    "import torch.nn as nn\n",
    "import torch.nn.functional as F\n",
    "import torchvision.models as models\n",
    "\n",
    "import numpy as np\n",
    "import pydicom\n",
    "import cv2\n",
    "import os\n",
    "import pandas as pd\n",
    "from skimage.transform import resize\n",
    "\n",
    "from torch.utils.data import Dataset, DataLoader\n",
    "from torch.amp import GradScaler, autocast\n",
    "\n",
    "from tqdm import tqdm\n",
    "\n",
    "import os\n",
    "os.environ['PYTORCH_CUDA_ALLOC_CONF'] = 'expandable_segments:True'"
   ]
  },
  {
   "cell_type": "markdown",
   "id": "f37788f1",
   "metadata": {
    "papermill": {
     "duration": 0.005611,
     "end_time": "2024-09-16T16:30:19.281871",
     "exception": false,
     "start_time": "2024-09-16T16:30:19.276260",
     "status": "completed"
    },
    "tags": []
   },
   "source": [
    "## Init GPU"
   ]
  },
  {
   "cell_type": "code",
   "execution_count": 2,
   "id": "46d55de1",
   "metadata": {
    "ExecuteTime": {
     "end_time": "2024-09-14T07:28:37.147624Z",
     "start_time": "2024-09-14T07:28:37.123291Z"
    },
    "execution": {
     "iopub.execute_input": "2024-09-16T16:30:19.295330Z",
     "iopub.status.busy": "2024-09-16T16:30:19.294779Z",
     "iopub.status.idle": "2024-09-16T16:30:19.395263Z",
     "shell.execute_reply": "2024-09-16T16:30:19.394264Z"
    },
    "papermill": {
     "duration": 0.109895,
     "end_time": "2024-09-16T16:30:19.397610",
     "exception": false,
     "start_time": "2024-09-16T16:30:19.287715",
     "status": "completed"
    },
    "tags": []
   },
   "outputs": [
    {
     "name": "stdout",
     "output_type": "stream",
     "text": [
      "GPU: Tesla P100-PCIE-16GB is available.\n",
      "cuda\n"
     ]
    }
   ],
   "source": [
    "# Initialize GPU Device\n",
    "device = torch.device('cuda' if torch.cuda.is_available() else 'cpu')\n",
    "\n",
    "if torch.cuda.is_available():\n",
    "    print(f\"GPU: {torch.cuda.get_device_name(0)} is available.\")\n",
    "else:\n",
    "    print(\"No GPU available. Training will run on CPU.\")\n",
    "\n",
    "print(device)"
   ]
  },
  {
   "cell_type": "code",
   "execution_count": 3,
   "id": "17cd84ca",
   "metadata": {
    "ExecuteTime": {
     "end_time": "2024-09-14T07:28:37.195720Z",
     "start_time": "2024-09-14T07:28:37.181737Z"
    },
    "execution": {
     "iopub.execute_input": "2024-09-16T16:30:19.411389Z",
     "iopub.status.busy": "2024-09-16T16:30:19.410850Z",
     "iopub.status.idle": "2024-09-16T16:30:19.463084Z",
     "shell.execute_reply": "2024-09-16T16:30:19.462267Z"
    },
    "papermill": {
     "duration": 0.061286,
     "end_time": "2024-09-16T16:30:19.465229",
     "exception": false,
     "start_time": "2024-09-16T16:30:19.403943",
     "status": "completed"
    },
    "tags": []
   },
   "outputs": [],
   "source": [
    "%load_ext autoreload\n",
    "%autoreload 2"
   ]
  },
  {
   "cell_type": "markdown",
   "id": "aba45eb2",
   "metadata": {
    "papermill": {
     "duration": 0.005743,
     "end_time": "2024-09-16T16:30:19.476828",
     "exception": false,
     "start_time": "2024-09-16T16:30:19.471085",
     "status": "completed"
    },
    "tags": []
   },
   "source": [
    "## Config Info"
   ]
  },
  {
   "cell_type": "code",
   "execution_count": 4,
   "id": "428dd497",
   "metadata": {
    "ExecuteTime": {
     "end_time": "2024-09-14T07:28:37.241496Z",
     "start_time": "2024-09-14T07:28:37.226978Z"
    },
    "execution": {
     "iopub.execute_input": "2024-09-16T16:30:19.490372Z",
     "iopub.status.busy": "2024-09-16T16:30:19.489566Z",
     "iopub.status.idle": "2024-09-16T16:30:19.534517Z",
     "shell.execute_reply": "2024-09-16T16:30:19.533738Z"
    },
    "papermill": {
     "duration": 0.054062,
     "end_time": "2024-09-16T16:30:19.536609",
     "exception": false,
     "start_time": "2024-09-16T16:30:19.482547",
     "status": "completed"
    },
    "tags": []
   },
   "outputs": [],
   "source": [
    "# Constants\n",
    "TEST_SIZE = 0.02\n",
    "HEIGHT = 512\n",
    "WIDTH = 512\n",
    "CHANNELS = 2\n",
    "TRAIN_BATCH_SIZE = 2\n",
    "VALID_BATCH_SIZE = 2\n",
    "TEST_BATCH_SIZE = 2\n",
    "MAX_SLICES = 80\n",
    "SHAPE = (HEIGHT, WIDTH, CHANNELS)\n",
    "\n",
    "# Folders\n",
    "DATA_DIR = '/kaggle/input/rsna-mil-training/'"
   ]
  },
  {
   "cell_type": "code",
   "execution_count": 5,
   "id": "f1ac5e78",
   "metadata": {
    "ExecuteTime": {
     "end_time": "2024-09-14T07:28:37.646853Z",
     "start_time": "2024-09-14T07:28:37.627110Z"
    },
    "execution": {
     "iopub.execute_input": "2024-09-16T16:30:19.550235Z",
     "iopub.status.busy": "2024-09-16T16:30:19.549898Z",
     "iopub.status.idle": "2024-09-16T16:30:19.614510Z",
     "shell.execute_reply": "2024-09-16T16:30:19.613630Z"
    },
    "papermill": {
     "duration": 0.074261,
     "end_time": "2024-09-16T16:30:19.616998",
     "exception": false,
     "start_time": "2024-09-16T16:30:19.542737",
     "status": "completed"
    },
    "tags": []
   },
   "outputs": [],
   "source": [
    "DICOM_DIR = DATA_DIR + 'rsna-mil-training'\n",
    "CSV_PATH = DATA_DIR + 'training_1000_scan_subset.csv'\n",
    "patient_scan_labels = pd.read_csv(CSV_PATH)"
   ]
  },
  {
   "cell_type": "code",
   "execution_count": 6,
   "id": "6c632cb3",
   "metadata": {
    "ExecuteTime": {
     "end_time": "2024-09-14T07:28:37.286525Z",
     "start_time": "2024-09-14T07:28:37.272027Z"
    },
    "execution": {
     "iopub.execute_input": "2024-09-16T16:30:19.631420Z",
     "iopub.status.busy": "2024-09-16T16:30:19.630766Z",
     "iopub.status.idle": "2024-09-16T16:30:19.679961Z",
     "shell.execute_reply": "2024-09-16T16:30:19.679202Z"
    },
    "papermill": {
     "duration": 0.058732,
     "end_time": "2024-09-16T16:30:19.682131",
     "exception": false,
     "start_time": "2024-09-16T16:30:19.623399",
     "status": "completed"
    },
    "tags": []
   },
   "outputs": [],
   "source": [
    "def preprocess_slice(slice, target_size=(HEIGHT, WIDTH)):\n",
    "    slice = resize(slice, target_size, anti_aliasing=True)\n",
    "    brain_channel = apply_windowing(slice, window=(40, 80))\n",
    "    subdural_channel = apply_windowing(slice, window=(80, 200))\n",
    "    bone_channel = apply_windowing(slice, window=(600, 2800))\n",
    "    \n",
    "    multichannel_slice = np.stack([brain_channel, subdural_channel, bone_channel], axis=-1)\n",
    "    return multichannel_slice.astype(np.float16)  # Use float16 for reduced memory usage\n",
    "\n",
    "def apply_windowing(slice, window):\n",
    "    window_width, window_level = window\n",
    "    lower_bound = window_level - window_width // 2\n",
    "    upper_bound = window_level + window_width // 2\n",
    "    \n",
    "    windowed_slice = np.clip(slice, lower_bound, upper_bound)\n",
    "    windowed_slice = (windowed_slice - lower_bound) / (upper_bound - lower_bound)\n",
    "    return windowed_slice"
   ]
  },
  {
   "cell_type": "code",
   "execution_count": 7,
   "id": "2cb6e5cf",
   "metadata": {
    "ExecuteTime": {
     "end_time": "2024-09-14T07:28:37.334765Z",
     "start_time": "2024-09-14T07:28:37.319238Z"
    },
    "execution": {
     "iopub.execute_input": "2024-09-16T16:30:19.695913Z",
     "iopub.status.busy": "2024-09-16T16:30:19.695560Z",
     "iopub.status.idle": "2024-09-16T16:30:19.743391Z",
     "shell.execute_reply": "2024-09-16T16:30:19.742549Z"
    },
    "papermill": {
     "duration": 0.057295,
     "end_time": "2024-09-16T16:30:19.745649",
     "exception": false,
     "start_time": "2024-09-16T16:30:19.688354",
     "status": "completed"
    },
    "tags": []
   },
   "outputs": [],
   "source": [
    "def read_dicom_folder(folder_path):\n",
    "    slices = []\n",
    "    for filename in sorted(os.listdir(folder_path))[:MAX_SLICES]:  # Limit to MAX_SLICES\n",
    "        if filename.endswith(\".dcm\"):\n",
    "            file_path = os.path.join(folder_path, filename)\n",
    "            ds = pydicom.dcmread(file_path)\n",
    "            slices.append(ds.pixel_array)\n",
    "    \n",
    "    # Pad with black images if necessary\n",
    "    while len(slices) < MAX_SLICES:\n",
    "        slices.append(np.zeros_like(slices[0]))\n",
    "    \n",
    "    return slices[:MAX_SLICES]  # Ensure we return exactly MAX_SLICES"
   ]
  },
  {
   "cell_type": "code",
   "execution_count": 8,
   "id": "db1d20e5",
   "metadata": {
    "ExecuteTime": {
     "end_time": "2024-09-14T07:28:37.387325Z",
     "start_time": "2024-09-14T07:28:37.366621Z"
    },
    "execution": {
     "iopub.execute_input": "2024-09-16T16:30:19.760427Z",
     "iopub.status.busy": "2024-09-16T16:30:19.760052Z",
     "iopub.status.idle": "2024-09-16T16:30:19.811870Z",
     "shell.execute_reply": "2024-09-16T16:30:19.810994Z"
    },
    "papermill": {
     "duration": 0.062191,
     "end_time": "2024-09-16T16:30:19.814419",
     "exception": false,
     "start_time": "2024-09-16T16:30:19.752228",
     "status": "completed"
    },
    "tags": []
   },
   "outputs": [],
   "source": [
    "def process_patient_data(dicom_dir, row):\n",
    "    \"\"\"\n",
    "    Process data for a single patient based on the row from the DataFrame.\n",
    "    \n",
    "    Args:\n",
    "        dicom_dir (str): The directory containing DICOM folders.\n",
    "        row (pd.Series): A row from the patient_scan_labels DataFrame.\n",
    "\n",
    "    Returns:\n",
    "        Tuple: Preprocessed slices and label.\n",
    "    \"\"\"\n",
    "    patient_id = row['patient_id'].replace('ID_', '')  # Remove 'ID_' prefix\n",
    "    study_instance_uid = row['study_instance_uid'].replace('ID_', '')  # Remove 'ID_' prefix\n",
    "    \n",
    "    # Construct folder path based on patient_id and study_instance_uid\n",
    "    folder_name = f\"{patient_id}_{study_instance_uid}\"\n",
    "    folder_path = os.path.join(dicom_dir, folder_name)\n",
    "    \n",
    "    # Read and preprocess DICOM slices\n",
    "    if os.path.exists(folder_path):\n",
    "        slices = read_dicom_folder(folder_path)\n",
    "        preprocessed_slices = [preprocess_slice(slice) for slice in slices]\n",
    "        \n",
    "        # Determine label based on any of the hemorrhage indicators\n",
    "        label = 1 if row[['any', 'epidural', 'intraparenchymal', 'intraventricular', 'subarachnoid', 'subdural']].any() else 0\n",
    "        \n",
    "        return preprocessed_slices, label\n",
    "    else:\n",
    "        print(f\"Folder not found: {folder_path}\")\n",
    "        return None, None  # Handle the case where the folder is not found"
   ]
  },
  {
   "cell_type": "code",
   "execution_count": 9,
   "id": "fc507d08",
   "metadata": {
    "ExecuteTime": {
     "end_time": "2024-09-14T07:28:37.441645Z",
     "start_time": "2024-09-14T07:28:37.417416Z"
    },
    "execution": {
     "iopub.execute_input": "2024-09-16T16:30:19.829040Z",
     "iopub.status.busy": "2024-09-16T16:30:19.828658Z",
     "iopub.status.idle": "2024-09-16T16:30:19.883434Z",
     "shell.execute_reply": "2024-09-16T16:30:19.882596Z"
    },
    "papermill": {
     "duration": 0.064974,
     "end_time": "2024-09-16T16:30:19.885943",
     "exception": false,
     "start_time": "2024-09-16T16:30:19.820969",
     "status": "completed"
    },
    "tags": []
   },
   "outputs": [],
   "source": [
    "class TrainDatasetGenerator(Dataset):\n",
    "    def __init__(self, dicom_dir, patient_scan_labels):\n",
    "        self.dicom_dir = dicom_dir\n",
    "        self.patient_scan_labels = patient_scan_labels\n",
    "\n",
    "    def __len__(self):\n",
    "        return len(self.patient_scan_labels)\n",
    "\n",
    "    def __getitem__(self, idx):\n",
    "        row = self.patient_scan_labels.iloc[idx]\n",
    "        preprocessed_slices, label = process_patient_data(self.dicom_dir, row)\n",
    "        \n",
    "        if preprocessed_slices is not None:\n",
    "            preprocessed_slices = np.array(preprocessed_slices)\n",
    "            return torch.tensor(preprocessed_slices, dtype=torch.float16), torch.tensor(label, dtype=torch.long)\n",
    "        else:\n",
    "            return None, None\n",
    "\n",
    "class TestDatasetGenerator(Dataset):\n",
    "    def __init__(self, dicom_dir, patient_scan_labels):\n",
    "        self.dicom_dir = dicom_dir\n",
    "        self.patient_scan_labels = patient_scan_labels\n",
    "\n",
    "    def __len__(self):\n",
    "        return len(self.patient_scan_labels)\n",
    "\n",
    "    def __getitem__(self, idx):\n",
    "        row = self.patient_scan_labels.iloc[idx]\n",
    "        preprocessed_slices, label = process_patient_data(self.dicom_dir, row)\n",
    "        \n",
    "        if preprocessed_slices is not None:\n",
    "            preprocessed_slices = np.array(preprocessed_slices)\n",
    "            return torch.tensor(preprocessed_slices, dtype=torch.float16), torch.tensor(label, dtype=torch.long)\n",
    "        else:\n",
    "            return None, None\n",
    "\n",
    "def get_train_loader(dicom_dir, patient_scan_labels, batch_size=TRAIN_BATCH_SIZE, shuffle=True):\n",
    "    train_dataset = TrainDatasetGenerator(dicom_dir, patient_scan_labels)\n",
    "    return DataLoader(train_dataset, batch_size=batch_size, shuffle=shuffle, num_workers=4, pin_memory=True)\n",
    "\n",
    "def get_test_loader(dicom_dir, patient_scan_labels, batch_size=TEST_BATCH_SIZE):\n",
    "    test_dataset = TestDatasetGenerator(dicom_dir, patient_scan_labels)\n",
    "    return DataLoader(test_dataset, batch_size=batch_size, shuffle=False, num_workers=4, pin_memory=True)"
   ]
  },
  {
   "cell_type": "markdown",
   "id": "826abe72",
   "metadata": {
    "papermill": {
     "duration": 0.006209,
     "end_time": "2024-09-16T16:30:19.898829",
     "exception": false,
     "start_time": "2024-09-16T16:30:19.892620",
     "status": "completed"
    },
    "tags": []
   },
   "source": [
    "## CNN Feature Extractor"
   ]
  },
  {
   "cell_type": "code",
   "execution_count": 10,
   "id": "8aff1fba",
   "metadata": {
    "ExecuteTime": {
     "end_time": "2024-09-14T07:28:37.496836Z",
     "start_time": "2024-09-14T07:28:37.473438Z"
    },
    "execution": {
     "iopub.execute_input": "2024-09-16T16:30:19.913369Z",
     "iopub.status.busy": "2024-09-16T16:30:19.912981Z",
     "iopub.status.idle": "2024-09-16T16:30:19.960181Z",
     "shell.execute_reply": "2024-09-16T16:30:19.959331Z"
    },
    "papermill": {
     "duration": 0.057311,
     "end_time": "2024-09-16T16:30:19.962589",
     "exception": false,
     "start_time": "2024-09-16T16:30:19.905278",
     "status": "completed"
    },
    "tags": []
   },
   "outputs": [],
   "source": [
    "class FeatureExtractor(nn.Module):\n",
    "    def __init__(self):\n",
    "        super(FeatureExtractor, self).__init__()\n",
    "        resnet18 = models.resnet18(weights=models.ResNet18_Weights.DEFAULT)\n",
    "        self.features = nn.Sequential(*list(resnet18.children())[:-1])\n",
    "        \n",
    "    def forward(self, x):\n",
    "        x = self.features(x)\n",
    "        return x.view(x.size(0), -1)"
   ]
  },
  {
   "cell_type": "code",
   "execution_count": 11,
   "id": "7f1f5ddb",
   "metadata": {
    "ExecuteTime": {
     "end_time": "2024-09-14T07:28:37.545899Z",
     "start_time": "2024-09-14T07:28:37.524842Z"
    },
    "execution": {
     "iopub.execute_input": "2024-09-16T16:30:19.977836Z",
     "iopub.status.busy": "2024-09-16T16:30:19.977244Z",
     "iopub.status.idle": "2024-09-16T16:30:20.025968Z",
     "shell.execute_reply": "2024-09-16T16:30:20.024920Z"
    },
    "papermill": {
     "duration": 0.058953,
     "end_time": "2024-09-16T16:30:20.028518",
     "exception": false,
     "start_time": "2024-09-16T16:30:19.969565",
     "status": "completed"
    },
    "tags": []
   },
   "outputs": [],
   "source": [
    "class AttentionLayer(nn.Module):\n",
    "    def __init__(self, input_dim, attention_dim):\n",
    "        super(AttentionLayer, self).__init__()\n",
    "        self.attention = nn.Sequential(\n",
    "            nn.Linear(input_dim, attention_dim),\n",
    "            nn.Tanh(),\n",
    "            nn.Linear(attention_dim, 1)\n",
    "        )\n",
    "    \n",
    "    def forward(self, features):\n",
    "        weights = self.attention(features)\n",
    "        weights = torch.softmax(weights, dim=1)\n",
    "        weighted_features = torch.sum(weights * features, dim=1)\n",
    "        return weighted_features, weights"
   ]
  },
  {
   "cell_type": "code",
   "execution_count": 12,
   "id": "463c1eef",
   "metadata": {
    "ExecuteTime": {
     "end_time": "2024-09-14T07:28:37.592904Z",
     "start_time": "2024-09-14T07:28:37.575334Z"
    },
    "execution": {
     "iopub.execute_input": "2024-09-16T16:30:20.043460Z",
     "iopub.status.busy": "2024-09-16T16:30:20.043093Z",
     "iopub.status.idle": "2024-09-16T16:30:20.091288Z",
     "shell.execute_reply": "2024-09-16T16:30:20.090504Z"
    },
    "papermill": {
     "duration": 0.058091,
     "end_time": "2024-09-16T16:30:20.093521",
     "exception": false,
     "start_time": "2024-09-16T16:30:20.035430",
     "status": "completed"
    },
    "tags": []
   },
   "outputs": [],
   "source": [
    "class MILModel(nn.Module):\n",
    "    def __init__(self, num_classes):\n",
    "        super(MILModel, self).__init__()\n",
    "        self.feature_extractor = FeatureExtractor()\n",
    "        self.attention = AttentionLayer(512, 256)\n",
    "        self.classifier = nn.Sequential(\n",
    "            nn.Linear(512, 256),\n",
    "            nn.ReLU(),\n",
    "            nn.Dropout(0.5),\n",
    "            nn.Linear(256, num_classes)  # No Sigmoid here\n",
    "        )\n",
    "    \n",
    "    def forward(self, x):\n",
    "        batch_size, num_images, channels, height, width = x.size()\n",
    "        x = x.view(-1, channels, height, width)\n",
    "        features = self.feature_extractor(x)\n",
    "        features = features.view(batch_size, num_images, -1)\n",
    "        weighted_features, attention_weights = self.attention(features)\n",
    "        output = self.classifier(weighted_features)\n",
    "        return output, attention_weights, features"
   ]
  },
  {
   "cell_type": "code",
   "execution_count": 13,
   "id": "d75447c5",
   "metadata": {
    "execution": {
     "iopub.execute_input": "2024-09-16T16:30:20.107795Z",
     "iopub.status.busy": "2024-09-16T16:30:20.107458Z",
     "iopub.status.idle": "2024-09-16T16:30:20.159818Z",
     "shell.execute_reply": "2024-09-16T16:30:20.158827Z"
    },
    "papermill": {
     "duration": 0.062291,
     "end_time": "2024-09-16T16:30:20.162230",
     "exception": false,
     "start_time": "2024-09-16T16:30:20.099939",
     "status": "completed"
    },
    "tags": []
   },
   "outputs": [],
   "source": [
    "# In train_model function\n",
    "def train_model(model, train_loader, criterion, optimizer, scaler, device, num_epochs, accumulation_steps):\n",
    "    for epoch in range(num_epochs):\n",
    "        model.train()\n",
    "        running_loss = 0.0\n",
    "        correct = 0\n",
    "        total = 0\n",
    "        train_loader_tqdm = tqdm(train_loader, leave=False)\n",
    "        optimizer.zero_grad()\n",
    "        \n",
    "        for i, (inputs, labels) in enumerate(train_loader_tqdm):\n",
    "            inputs, labels = inputs.to(device), labels.to(device)\n",
    "            inputs = inputs.permute(0, 1, 4, 2, 3)\n",
    "\n",
    "            with autocast(device.type):\n",
    "                outputs, _, _ = model(inputs)\n",
    "                outputs = outputs.squeeze(1)\n",
    "                loss = criterion(outputs, labels.float()) / accumulation_steps\n",
    "\n",
    "            scaler.scale(loss).backward()\n",
    "\n",
    "            if (i + 1) % accumulation_steps == 0:\n",
    "                scaler.step(optimizer)\n",
    "                scaler.update()\n",
    "                optimizer.zero_grad()\n",
    "\n",
    "            running_loss += loss.item() * accumulation_steps\n",
    "            predicted = (outputs >= 0.5).float()\n",
    "            correct += (predicted == labels.float()).sum().item()\n",
    "            total += labels.size(0)\n",
    "            \n",
    "            train_loader_tqdm.set_description(f\"Epoch {epoch+1}/{num_epochs} - Loss: {loss.item():.4f}\")\n",
    "        \n",
    "        epoch_loss = running_loss / len(train_loader)\n",
    "        epoch_acc = correct / total\n",
    "        print(f'Epoch {epoch+1}/{num_epochs}, Loss: {epoch_loss:.4f}, Acc: {epoch_acc:.4f}')\n",
    "    \n",
    "    return model"
   ]
  },
  {
   "cell_type": "code",
   "execution_count": 14,
   "id": "1fd9d2b4",
   "metadata": {
    "execution": {
     "iopub.execute_input": "2024-09-16T16:30:20.177237Z",
     "iopub.status.busy": "2024-09-16T16:30:20.176905Z",
     "iopub.status.idle": "2024-09-16T16:47:12.496252Z",
     "shell.execute_reply": "2024-09-16T16:47:12.494907Z"
    },
    "papermill": {
     "duration": 1012.329718,
     "end_time": "2024-09-16T16:47:12.498621",
     "exception": false,
     "start_time": "2024-09-16T16:30:20.168903",
     "status": "completed"
    },
    "tags": []
   },
   "outputs": [
    {
     "name": "stderr",
     "output_type": "stream",
     "text": [
      "Downloading: \"https://download.pytorch.org/models/resnet18-f37072fd.pth\" to /root/.cache/torch/hub/checkpoints/resnet18-f37072fd.pth\n",
      "100%|██████████| 44.7M/44.7M [00:00<00:00, 161MB/s]\n",
      "                                                                           "
     ]
    },
    {
     "name": "stdout",
     "output_type": "stream",
     "text": [
      "Epoch 1/1, Loss: 0.7073, Acc: 0.5740\n"
     ]
    },
    {
     "name": "stderr",
     "output_type": "stream",
     "text": [
      "\r"
     ]
    }
   ],
   "source": [
    "# In the main execution\n",
    "if __name__ == \"__main__\":\n",
    "    device = torch.device('cuda' if torch.cuda.is_available() else 'cpu')\n",
    "    \n",
    "    train_loader = get_train_loader(DICOM_DIR, patient_scan_labels, batch_size=TRAIN_BATCH_SIZE)\n",
    "    test_loader = get_test_loader(DICOM_DIR, patient_scan_labels, batch_size=TEST_BATCH_SIZE)\n",
    "\n",
    "    num_epochs = 1\n",
    "    model = MILModel(num_classes=1).to(device)\n",
    "    criterion = nn.BCEWithLogitsLoss()\n",
    "    optimizer = optim.AdamW(model.parameters(), lr=0.001, weight_decay=1e-5)\n",
    "    scaler = GradScaler()\n",
    "    accumulation_steps = 16  # Increased from 4 to 16\n",
    "\n",
    "    trained_model = train_model(model, train_loader, criterion, optimizer, scaler, device, num_epochs, accumulation_steps)\n",
    "\n",
    "    torch.save(trained_model.state_dict(), 'optimized_mil_model.pth')    "
   ]
  },
  {
   "cell_type": "code",
   "execution_count": 15,
   "id": "ce8918c8",
   "metadata": {
    "execution": {
     "iopub.execute_input": "2024-09-16T16:47:12.692700Z",
     "iopub.status.busy": "2024-09-16T16:47:12.691684Z",
     "iopub.status.idle": "2024-09-16T16:47:13.533598Z",
     "shell.execute_reply": "2024-09-16T16:47:13.532634Z"
    },
    "papermill": {
     "duration": 0.940073,
     "end_time": "2024-09-16T16:47:13.536094",
     "exception": false,
     "start_time": "2024-09-16T16:47:12.596021",
     "status": "completed"
    },
    "tags": []
   },
   "outputs": [],
   "source": [
    "from sklearn.metrics import accuracy_score, precision_score, recall_score, f1_score\n",
    "import csv\n",
    "\n",
    "def evaluate_model(model, test_loader, criterion, device):\n",
    "    model.eval()\n",
    "    running_loss = 0.0\n",
    "    all_preds = []\n",
    "    all_labels = []\n",
    "    \n",
    "    with torch.no_grad():\n",
    "        for inputs, labels in tqdm(test_loader):\n",
    "            if inputs is None or labels is None:\n",
    "                continue\n",
    "\n",
    "            inputs, labels = inputs.to(device), labels.to(device)\n",
    "            inputs = inputs.permute(0, 1, 4, 2, 3)  # Permute to match model input shape\n",
    "            \n",
    "            with autocast(device.type):\n",
    "                outputs, _, _ = model(inputs)\n",
    "                outputs = outputs.squeeze(1)\n",
    "                loss = criterion(outputs, labels.float())\n",
    "            \n",
    "            running_loss += loss.item()\n",
    "            \n",
    "            # Adjust threshold for binary classification\n",
    "            predicted = (outputs >= 0.3).float()  # Changed threshold from 0.5 to 0.3\n",
    "            \n",
    "            all_preds.extend(predicted.cpu().numpy())\n",
    "            all_labels.extend(labels.cpu().numpy())\n",
    "    \n",
    "    avg_loss = running_loss / len(test_loader)\n",
    "    accuracy = accuracy_score(all_labels, all_preds)\n",
    "    \n",
    "    # Handle undefined metrics by using zero_division=1 to avoid warnings\n",
    "    precision = precision_score(all_labels, all_preds, zero_division=1)\n",
    "    recall = recall_score(all_labels, all_preds, zero_division=1)\n",
    "    f1 = f1_score(all_labels, all_preds, zero_division=1)\n",
    "    \n",
    "    print(f\"Test Loss: {avg_loss:.4f}, Accuracy: {accuracy:.4f}, Precision: {precision:.4f}, Recall: {recall:.4f}, F1 Score: {f1:.4f}\")\n",
    "    \n",
    "    return all_preds, all_labels, avg_loss, accuracy, precision, recall, f1"
   ]
  },
  {
   "cell_type": "code",
   "execution_count": 16,
   "id": "6542dbf6",
   "metadata": {
    "execution": {
     "iopub.execute_input": "2024-09-16T16:47:13.723089Z",
     "iopub.status.busy": "2024-09-16T16:47:13.721763Z",
     "iopub.status.idle": "2024-09-16T17:01:59.350387Z",
     "shell.execute_reply": "2024-09-16T17:01:59.349020Z"
    },
    "papermill": {
     "duration": 885.724966,
     "end_time": "2024-09-16T17:01:59.353083",
     "exception": false,
     "start_time": "2024-09-16T16:47:13.628117",
     "status": "completed"
    },
    "tags": []
   },
   "outputs": [
    {
     "name": "stderr",
     "output_type": "stream",
     "text": [
      "/tmp/ipykernel_23/1452225764.py:16: FutureWarning: You are using `torch.load` with `weights_only=False` (the current default value), which uses the default pickle module implicitly. It is possible to construct malicious pickle data which will execute arbitrary code during unpickling (See https://github.com/pytorch/pytorch/blob/main/SECURITY.md#untrusted-models for more details). In a future release, the default value for `weights_only` will be flipped to `True`. This limits the functions that could be executed during unpickling. Arbitrary objects will no longer be allowed to be loaded via this mode unless they are explicitly allowlisted by the user via `torch.serialization.add_safe_globals`. We recommend you start setting `weights_only=True` for any use case where you don't have full control of the loaded file. Please open an issue on GitHub for any issues related to this experimental feature.\n",
      "  model.load_state_dict(torch.load('optimized_mil_model.pth'))  # Load the trained model\n",
      "100%|██████████| 500/500 [14:45<00:00,  1.77s/it]"
     ]
    },
    {
     "name": "stdout",
     "output_type": "stream",
     "text": [
      "Test Loss: 0.6810, Accuracy: 0.5790, Precision: 1.0000, Recall: 0.0000, F1 Score: 0.0000\n",
      "Results saved to test_results.csv\n"
     ]
    },
    {
     "name": "stderr",
     "output_type": "stream",
     "text": [
      "\n"
     ]
    }
   ],
   "source": [
    "\n",
    "# Function to save predictions to CSV\n",
    "def save_test_results(predictions, labels, output_file=\"test_results.csv\"):\n",
    "    with open(output_file, mode='w', newline='') as file:\n",
    "        writer = csv.writer(file)\n",
    "        writer.writerow([\"True Label\", \"Predicted Label\"])\n",
    "        for true_label, pred in zip(labels, predictions):\n",
    "            writer.writerow([true_label, pred])\n",
    "    \n",
    "    print(f\"Results saved to {output_file}\")\n",
    "\n",
    "# Evaluate the model and save the results\n",
    "if __name__ == \"__main__\":\n",
    "    test_loader = get_test_loader(DICOM_DIR, patient_scan_labels, batch_size=TEST_BATCH_SIZE)\n",
    "    \n",
    "    model = MILModel(num_classes=1).to(device)\n",
    "    model.load_state_dict(torch.load('optimized_mil_model.pth'))  # Load the trained model\n",
    "    criterion = nn.BCEWithLogitsLoss()\n",
    "    \n",
    "    predictions, labels, test_loss, test_acc, test_precision, test_recall, test_f1 = evaluate_model(model, test_loader, criterion, device)\n",
    "    \n",
    "    # Save test results to CSV\n",
    "    save_test_results(predictions, labels)"
   ]
  }
 ],
 "metadata": {
  "kaggle": {
   "accelerator": "gpu",
   "dataSources": [
    {
     "datasetId": 5705276,
     "sourceId": 9399351,
     "sourceType": "datasetVersion"
    }
   ],
   "dockerImageVersionId": 30762,
   "isGpuEnabled": true,
   "isInternetEnabled": true,
   "language": "python",
   "sourceType": "notebook"
  },
  "kernelspec": {
   "display_name": "Python 3",
   "language": "python",
   "name": "python3"
  },
  "language_info": {
   "codemirror_mode": {
    "name": "ipython",
    "version": 3
   },
   "file_extension": ".py",
   "mimetype": "text/x-python",
   "name": "python",
   "nbconvert_exporter": "python",
   "pygments_lexer": "ipython3",
   "version": "3.10.14"
  },
  "papermill": {
   "default_parameters": {},
   "duration": 1912.817659,
   "end_time": "2024-09-16T17:02:02.272038",
   "environment_variables": {},
   "exception": null,
   "input_path": "__notebook__.ipynb",
   "output_path": "__notebook__.ipynb",
   "parameters": {},
   "start_time": "2024-09-16T16:30:09.454379",
   "version": "2.6.0"
  }
 },
 "nbformat": 4,
 "nbformat_minor": 5
}
