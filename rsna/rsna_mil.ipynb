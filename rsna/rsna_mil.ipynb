{
 "cells": [
  {
   "cell_type": "markdown",
   "metadata": {},
   "source": [
    "## Library"
   ]
  },
  {
   "cell_type": "code",
   "metadata": {
    "ExecuteTime": {
     "end_time": "2024-09-14T07:28:37.120692Z",
     "start_time": "2024-09-14T07:28:36.048336Z"
    }
   },
   "source": [
    "import torch\n",
    "import torch.optim as optim\n",
    "from torch.optim import Optimizer\n",
    "import torch.nn as nn\n",
    "import torch.nn.functional as F\n",
    "import torchvision.models as models\n",
    "\n",
    "import numpy as np\n",
    "import pydicom\n",
    "import cv2\n",
    "import os\n",
    "import pandas as pd\n",
    "from skimage.transform import resize\n",
    "\n",
    "from torch.utils.data import Dataset, DataLoader\n",
    "from tqdm import tqdm"
   ],
   "outputs": [],
   "execution_count": 1
  },
  {
   "cell_type": "markdown",
   "metadata": {},
   "source": [
    "## Init GPU"
   ]
  },
  {
   "cell_type": "code",
   "metadata": {
    "ExecuteTime": {
     "end_time": "2024-09-14T07:28:37.147624Z",
     "start_time": "2024-09-14T07:28:37.123291Z"
    }
   },
   "source": [
    "# Initialize GPU Device\n",
    "device = torch.device('cuda' if torch.cuda.is_available() else 'cpu')\n",
    "\n",
    "if torch.cuda.is_available():\n",
    "    print(f\"GPU: {torch.cuda.get_device_name(0)} is available.\")\n",
    "else:\n",
    "    print(\"No GPU available. Training will run on CPU.\")\n",
    "\n",
    "print(device)"
   ],
   "outputs": [
    {
     "name": "stdout",
     "output_type": "stream",
     "text": [
      "GPU: NVIDIA GeForce RTX 4070 SUPER is available.\n",
      "cuda\n"
     ]
    }
   ],
   "execution_count": 2
  },
  {
   "cell_type": "code",
   "metadata": {
    "ExecuteTime": {
     "end_time": "2024-09-14T07:28:37.195720Z",
     "start_time": "2024-09-14T07:28:37.181737Z"
    }
   },
   "source": [
    "%load_ext autoreload\n",
    "%autoreload 2"
   ],
   "outputs": [],
   "execution_count": 3
  },
  {
   "cell_type": "markdown",
   "metadata": {},
   "source": [
    "## Config Info"
   ]
  },
  {
   "cell_type": "code",
   "metadata": {
    "ExecuteTime": {
     "end_time": "2024-09-14T07:28:37.241496Z",
     "start_time": "2024-09-14T07:28:37.226978Z"
    }
   },
   "source": [
    "# Constants\n",
    "TEST_SIZE = 0.02\n",
    "HEIGHT = 224\n",
    "WIDTH = 224\n",
    "CHANNELS = 3\n",
    "TRAIN_BATCH_SIZE = 8\n",
    "VALID_BATCH_SIZE = 8\n",
    "TEST_BATCH_SIZE = 4\n",
    "SHAPE = (HEIGHT, WIDTH, CHANNELS)\n",
    "\n",
    "# Folders\n",
    "DATA_DIR = './rsna-mil-training'"
   ],
   "outputs": [],
   "execution_count": 4
  },
  {
   "cell_type": "code",
   "metadata": {
    "ExecuteTime": {
     "end_time": "2024-09-14T07:28:37.286525Z",
     "start_time": "2024-09-14T07:28:37.272027Z"
    }
   },
   "source": [
    "def preprocess_slice(slice, target_size=(224, 224)):\n",
    "    slice = resize(slice, target_size, anti_aliasing=True)\n",
    "    brain_channel = apply_windowing(slice, window=(40, 80))\n",
    "    subdural_channel = apply_windowing(slice, window=(80, 200))\n",
    "    bone_channel = apply_windowing(slice, window=(600, 2800))\n",
    "    \n",
    "    multichannel_slice = np.stack([brain_channel, subdural_channel, bone_channel], axis=-1)\n",
    "    return multichannel_slice\n",
    "\n",
    "def apply_windowing(slice, window):\n",
    "    window_width, window_level = window\n",
    "    lower_bound = window_level - window_width // 2\n",
    "    upper_bound = window_level + window_width // 2\n",
    "    \n",
    "    windowed_slice = np.clip(slice, lower_bound, upper_bound)\n",
    "    windowed_slice = (windowed_slice - lower_bound) / (upper_bound - lower_bound)\n",
    "    return windowed_slice"
   ],
   "outputs": [],
   "execution_count": 5
  },
  {
   "cell_type": "code",
   "metadata": {
    "ExecuteTime": {
     "end_time": "2024-09-14T07:28:37.334765Z",
     "start_time": "2024-09-14T07:28:37.319238Z"
    }
   },
   "source": [
    "def read_dicom_folder(folder_path):\n",
    "    slices = []\n",
    "    for filename in os.listdir(folder_path):\n",
    "        if filename.endswith(\".dcm\"):\n",
    "            file_path = os.path.join(folder_path, filename)\n",
    "            ds = pydicom.dcmread(file_path)\n",
    "            slices.append(ds.pixel_array)\n",
    "    \n",
    "    # Add black images if the number of slices is less than 60\n",
    "    num_slices = len(slices)\n",
    "    if num_slices < 60:\n",
    "        black_slice = np.zeros_like(slices[0])\n",
    "        for _ in range(60 - num_slices):\n",
    "            slices.append(black_slice)\n",
    "    \n",
    "    return slices"
   ],
   "outputs": [],
   "execution_count": 6
  },
  {
   "cell_type": "code",
   "metadata": {
    "ExecuteTime": {
     "end_time": "2024-09-14T07:28:37.387325Z",
     "start_time": "2024-09-14T07:28:37.366621Z"
    }
   },
   "source": [
    "def process_patient_data(data_dir, row):\n",
    "    \"\"\"\n",
    "    Process data for a single patient based on the row from the DataFrame.\n",
    "    \n",
    "    Args:\n",
    "        data_dir (str): The directory containing DICOM folders.\n",
    "        row (pd.Series): A row from the patient_scan_labels DataFrame.\n",
    "\n",
    "    Returns:\n",
    "        Tuple: Preprocessed slices and label.\n",
    "    \"\"\"\n",
    "    patient_id = row['patient_id'].replace('ID_', '')  # Remove 'ID_' prefix\n",
    "    study_instance_uid = row['study_instance_uid'].replace('ID_', '')  # Remove 'ID_' prefix\n",
    "    \n",
    "    # Construct folder path based on patient_id and study_instance_uid\n",
    "    folder_name = f\"{patient_id}_{study_instance_uid}\"\n",
    "    folder_path = os.path.join(data_dir, folder_name)\n",
    "    \n",
    "    # Read and preprocess DICOM slices\n",
    "    if os.path.exists(folder_path):\n",
    "        slices = read_dicom_folder(folder_path)\n",
    "        preprocessed_slices = [preprocess_slice(slice) for slice in slices]\n",
    "        \n",
    "        # Determine label based on any of the hemorrhage indicators\n",
    "        label = 1 if row[['any', 'epidural', 'intraparenchymal', 'intraventricular', 'subarachnoid', 'subdural']].any() else 0\n",
    "        \n",
    "        return preprocessed_slices, label\n",
    "    else:\n",
    "        print(f\"Folder not found: {folder_path}\")\n",
    "        return None, None  # Handle the case where the folder is not found"
   ],
   "outputs": [],
   "execution_count": 7
  },
  {
   "cell_type": "code",
   "metadata": {
    "ExecuteTime": {
     "end_time": "2024-09-14T07:28:37.441645Z",
     "start_time": "2024-09-14T07:28:37.417416Z"
    }
   },
   "source": [
    "class TrainDatasetGenerator(Dataset):\n",
    "    \"\"\"\n",
    "    A custom dataset class for training data.\n",
    "    \"\"\"\n",
    "    def __init__(self, data_dir, patient_scan_labels):\n",
    "        self.data_dir = data_dir\n",
    "        self.patient_scan_labels = patient_scan_labels\n",
    "\n",
    "    def __len__(self):\n",
    "        return len(self.patient_scan_labels)\n",
    "\n",
    "    def __getitem__(self, idx):\n",
    "        row = self.patient_scan_labels.iloc[idx]\n",
    "        preprocessed_slices, label = process_patient_data(self.data_dir, row)\n",
    "        \n",
    "        if preprocessed_slices is not None:\n",
    "            # Convert the list of numpy arrays to a single numpy array\n",
    "            preprocessed_slices = np.array(preprocessed_slices)  # Convert to numpy array\n",
    "            return torch.tensor(preprocessed_slices, dtype=torch.float32), torch.tensor(label, dtype=torch.long)\n",
    "        else:\n",
    "            return None, None  # Handle the case where the folder is not found\n",
    "\n",
    "class TestDatasetGenerator(Dataset):\n",
    "    \"\"\"\n",
    "    A custom dataset class for testing data.\n",
    "    \"\"\"\n",
    "    def __init__(self, data_dir, patient_scan_labels):\n",
    "        self.data_dir = data_dir\n",
    "        self.patient_scan_labels = patient_scan_labels\n",
    "\n",
    "    def __len__(self):\n",
    "        return len(self.patient_scan_labels)\n",
    "\n",
    "    def __getitem__(self, idx):\n",
    "        row = self.patient_scan_labels.iloc[idx]\n",
    "        preprocessed_slices, label = process_patient_data(self.data_dir, row)\n",
    "        \n",
    "        if preprocessed_slices is not None:\n",
    "            # Convert the list of numpy arrays to a single numpy array\n",
    "            preprocessed_slices = np.array(preprocessed_slices)  # Convert to numpy array\n",
    "            return torch.tensor(preprocessed_slices, dtype=torch.float32), torch.tensor(label, dtype=torch.long)\n",
    "        else:\n",
    "            return None, None  # Handle the case where the folder is not found\n",
    "        \n",
    "\n",
    "# Function to create DataLoader for training\n",
    "def get_train_loader(data_dir, patient_scan_labels, batch_size=TRAIN_BATCH_SIZE, shuffle=True):\n",
    "    train_dataset = TrainDatasetGenerator(data_dir, patient_scan_labels)\n",
    "    return DataLoader(train_dataset, batch_size=batch_size, shuffle=shuffle)\n",
    "\n",
    "# Function to create DataLoader for testing\n",
    "def get_test_loader(data_dir, patient_scan_labels, batch_size=TEST_BATCH_SIZE):\n",
    "    test_dataset = TestDatasetGenerator(data_dir, patient_scan_labels)\n",
    "    return DataLoader(test_dataset, batch_size=batch_size, shuffle=False)"
   ],
   "outputs": [],
   "execution_count": 8
  },
  {
   "metadata": {},
   "cell_type": "markdown",
   "source": "## CNN Feature Extractor"
  },
  {
   "metadata": {
    "ExecuteTime": {
     "end_time": "2024-09-14T07:28:37.496836Z",
     "start_time": "2024-09-14T07:28:37.473438Z"
    }
   },
   "cell_type": "code",
   "source": [
    "class FeatureExtractor(torch.nn.Module):\n",
    "    def __init__(self):\n",
    "        super(FeatureExtractor, self).__init__()\n",
    "        resnet18 = models.resnet18(pretrained=True)\n",
    "        self.features = torch.nn.Sequential(*list(resnet18.children())[:-1])\n",
    "        \n",
    "    def forward(self, x):\n",
    "        x = self.features(x)\n",
    "        return x.view(x.size(0), -1)"
   ],
   "outputs": [],
   "execution_count": 9
  },
  {
   "cell_type": "code",
   "metadata": {
    "ExecuteTime": {
     "end_time": "2024-09-14T07:28:37.545899Z",
     "start_time": "2024-09-14T07:28:37.524842Z"
    }
   },
   "source": [
    "class AttentionLayer(torch.nn.Module):\n",
    "    def __init__(self, input_dim, attention_dim):\n",
    "        super(AttentionLayer, self).__init__()\n",
    "        self.attention = torch.nn.Sequential(\n",
    "            torch.nn.Linear(input_dim, attention_dim),\n",
    "            torch.nn.Tanh(),\n",
    "            torch.nn.Linear(attention_dim, 1)\n",
    "        )\n",
    "    \n",
    "    def forward(self, features):\n",
    "        weights = self.attention(features)\n",
    "        weights = torch.softmax(weights, dim=1)\n",
    "        weighted_features = torch.sum(weights * features, dim=1)\n",
    "        return weighted_features, weights"
   ],
   "outputs": [],
   "execution_count": 10
  },
  {
   "cell_type": "code",
   "metadata": {
    "ExecuteTime": {
     "end_time": "2024-09-14T07:28:37.592904Z",
     "start_time": "2024-09-14T07:28:37.575334Z"
    }
   },
   "source": [
    "class MILModel(torch.nn.Module):\n",
    "    def __init__(self, num_classes):\n",
    "        super(MILModel, self).__init__()\n",
    "        self.feature_extractor = FeatureExtractor()\n",
    "        self.attention = AttentionLayer(512, 256)  # 512 is the output dimension of ResNet18\n",
    "        # self.classifier = torch.nn.Linear(512, num_classes)\n",
    "        self.classifier = torch.nn.Sequential(\n",
    "            torch.nn.Linear(512, num_classes),\n",
    "            torch.nn.Sigmoid()\n",
    "        )\n",
    "    def forward(self, x):\n",
    "        batch_size, num_images, height, width, channels = x.size()\n",
    "        x = x.view(-1, channels, height, width)\n",
    "        features = self.feature_extractor(x)\n",
    "        features = features.view(batch_size, num_images, -1)\n",
    "        weighted_features, attention_weights = self.attention(features)\n",
    "        output = self.classifier(weighted_features)\n",
    "        return output, attention_weights"
   ],
   "outputs": [],
   "execution_count": 11
  },
  {
   "cell_type": "code",
   "metadata": {
    "ExecuteTime": {
     "end_time": "2024-09-14T07:28:37.646853Z",
     "start_time": "2024-09-14T07:28:37.627110Z"
    }
   },
   "source": [
    "data_dir = '../rsna-mil-training'\n",
    "patient_scan_labels = pd.read_csv('training_1000_scan_subset.csv')"
   ],
   "outputs": [],
   "execution_count": 12
  },
  {
   "cell_type": "code",
   "metadata": {
    "ExecuteTime": {
     "end_time": "2024-09-14T07:28:37.698868Z",
     "start_time": "2024-09-14T07:28:37.677329Z"
    }
   },
   "source": [
    "train_loader = get_train_loader(data_dir, patient_scan_labels, batch_size=TRAIN_BATCH_SIZE)\n",
    "test_loader = get_test_loader(data_dir, patient_scan_labels, batch_size=TEST_BATCH_SIZE)"
   ],
   "outputs": [],
   "execution_count": 13
  },
  {
   "cell_type": "code",
   "metadata": {
    "ExecuteTime": {
     "end_time": "2024-09-14T07:33:11.863708Z",
     "start_time": "2024-09-14T07:28:37.726956Z"
    }
   },
   "source": [
    "num_epochs = 1\n",
    "model = MILModel(num_classes=1).to(device)\n",
    "criterion = nn.BCELoss()\n",
    "optimizer = optim.Adam(model.parameters(), lr=0.001)\n",
    "\n",
    "# Training loop\n",
    "for epoch in range(num_epochs):\n",
    "    print('############################################')\n",
    "    print(f\"Epoch [{epoch + 1}/{num_epochs}]\")\n",
    "    total_loss = 0\n",
    "    correct = 0\n",
    "    total = 0\n",
    "    \n",
    "    model.train()\n",
    "\n",
    "    train_loader_tqdm = tqdm(train_loader, leave=False)\n",
    "    for batch_idx, (batch_slices, batch_labels) in enumerate(train_loader_tqdm):\n",
    "        try:\n",
    "            # print(f\"\\nBatch {batch_idx + 1}\")\n",
    "            # print(f\"Input shape: {batch_slices.shape}\")\n",
    "            # print(f\"Labels shape: {batch_labels.shape}\")\n",
    "            # print(f\"Labels: {batch_labels}\")\n",
    "\n",
    "            batch_slices = batch_slices.to(device)\n",
    "            batch_labels = batch_labels.to(device)\n",
    "\n",
    "            optimizer.zero_grad()\n",
    "            outputs, attention_weights = model(batch_slices)\n",
    "            \n",
    "            # print(f\"Model output shape: {outputs.shape}\")\n",
    "            # print(f\"Model output: {outputs.squeeze()}\")\n",
    "            # print(f\"Attention weights shape: {attention_weights.shape}\")\n",
    "            \n",
    "            loss = criterion(outputs.squeeze(), batch_labels.float())\n",
    "            # print(f\"Loss: {loss.item()}\")\n",
    "\n",
    "            loss.backward()\n",
    "            optimizer.step()\n",
    "\n",
    "            total_loss += loss.item()\n",
    "            predicted = (outputs.squeeze() >= 0.5).float()\n",
    "            correct += (predicted == batch_labels.float()).sum().item()\n",
    "            total += batch_labels.size(0)\n",
    "\n",
    "            batch_accuracy = (predicted == batch_labels.float()).float().mean().item()\n",
    "\n",
    "            train_loader_tqdm.set_description(f\"Epoch [{epoch + 1}/{num_epochs}]\")\n",
    "            train_loader_tqdm.set_postfix(loss=loss.item(), accuracy=batch_accuracy)\n",
    "\n",
    "            # if batch_idx % 10 == 0:  # Print detailed info every 10 batches\n",
    "            #     print(f\"\\nDetailed batch info:\")\n",
    "            #     print(f\"Outputs: {outputs.squeeze()}\")\n",
    "            #     print(f\"Labels: {batch_labels.float()}\")\n",
    "            #     print(f\"Predictions: {predicted}\")\n",
    "\n",
    "        except Exception as e:\n",
    "            print(f\"Error in batch {batch_idx + 1}: {str(e)}\")\n",
    "            print(f\"Input shape: {batch_slices.shape}\")\n",
    "            print(f\"Labels shape: {batch_labels.shape}\")\n",
    "            raise  # Re-raise the exception for full traceback\n",
    "\n",
    "    avg_loss = total_loss / len(train_loader)\n",
    "    accuracy = correct / total\n",
    "\n",
    "    print(f'Epoch [{epoch + 1}/{num_epochs}], Loss: {avg_loss:.4f}, Accuracy: {accuracy:.4f}')"
   ],
   "outputs": [
    {
     "name": "stderr",
     "output_type": "stream",
     "text": [
      "/home/hskha23/miniconda3/envs/tf/lib/python3.10/site-packages/torchvision/models/_utils.py:208: UserWarning: The parameter 'pretrained' is deprecated since 0.13 and may be removed in the future, please use 'weights' instead.\n",
      "  warnings.warn(\n",
      "/home/hskha23/miniconda3/envs/tf/lib/python3.10/site-packages/torchvision/models/_utils.py:223: UserWarning: Arguments other than a weight enum or `None` for 'weights' are deprecated since 0.13 and may be removed in the future. The current behavior is equivalent to passing `weights=ResNet18_Weights.IMAGENET1K_V1`. You can also use `weights=ResNet18_Weights.DEFAULT` to get the most up-to-date weights.\n",
      "  warnings.warn(msg)\n"
     ]
    },
    {
     "name": "stdout",
     "output_type": "stream",
     "text": [
      "############################################\n",
      "Epoch [1/1]\n"
     ]
    },
    {
     "name": "stderr",
     "output_type": "stream",
     "text": [
      "                                                                                          "
     ]
    },
    {
     "name": "stdout",
     "output_type": "stream",
     "text": [
      "Epoch [1/1], Loss: 0.7056, Accuracy: 0.5450\n"
     ]
    },
    {
     "name": "stderr",
     "output_type": "stream",
     "text": [
      "\r"
     ]
    }
   ],
   "execution_count": 14
  }
 ],
 "metadata": {
  "kernelspec": {
   "display_name": "tf",
   "language": "python",
   "name": "python3"
  },
  "language_info": {
   "codemirror_mode": {
    "name": "ipython",
    "version": 3
   },
   "file_extension": ".py",
   "mimetype": "text/x-python",
   "name": "python",
   "nbconvert_exporter": "python",
   "pygments_lexer": "ipython3",
   "version": "3.10.9"
  }
 },
 "nbformat": 4,
 "nbformat_minor": 2
}
