{
 "cells": [
  {
   "metadata": {},
   "cell_type": "markdown",
   "source": "# Gaussian Process Regression",
   "id": "5e2c430c08fa0160"
  },
  {
   "metadata": {},
   "cell_type": "markdown",
   "source": "## Import Libraries",
   "id": "4f2e64d51cb4d08c"
  },
  {
   "metadata": {
    "ExecuteTime": {
     "end_time": "2024-10-16T13:28:25.048014Z",
     "start_time": "2024-10-16T13:28:24.110936Z"
    }
   },
   "cell_type": "code",
   "source": [
    "import numpy as np\n",
    "import torch\n",
    "from sklearn.metrics import precision_score, recall_score\n",
    "import gpytorch\n",
    "from scipy.io import loadmat\n",
    "import matplotlib.pyplot as plt\n",
    "from torch.utils.data import Dataset, DataLoader"
   ],
   "id": "eb33f66b966d52ab",
   "outputs": [],
   "execution_count": 1
  },
  {
   "metadata": {},
   "cell_type": "markdown",
   "source": "## Load the Dataset",
   "id": "e723c9abe5a419ba"
  },
  {
   "cell_type": "code",
   "id": "initial_id",
   "metadata": {
    "collapsed": true,
    "ExecuteTime": {
     "end_time": "2024-10-16T13:28:25.060518Z",
     "start_time": "2024-10-16T13:28:25.052194Z"
    }
   },
   "source": [
    "# Load the training dataset\n",
    "train_data = loadmat('../data/sarcos_inv.mat')['sarcos_inv'].astype(np.float32)\n",
    "val_data, train_data = train_data[:4448], train_data[4484:].astype(np.float32)\n",
    "test_data = loadmat('../data/sarcos_inv_test.mat')['sarcos_inv_test'].astype(np.float32)\n",
    "\n",
    "X_train, Y_train = train_data[:, :21], train_data[:, 21:]\n",
    "X_val, Y_val = val_data[:, :21], val_data[:, 21:]\n",
    "X_test, Y_test = test_data[:, :21], test_data[:, 21:]\n",
    "\n",
    "# Print the shape of the training and testing datasets\n",
    "print(f\"Shape of the training dataset: {X_train.shape}, {Y_train.shape}\")\n",
    "print(f\"Shape of the validation dataset: {X_val.shape}, {Y_val.shape}\")\n",
    "print(f\"Shape of the testing dataset: {X_test.shape}, {Y_test.shape}\")"
   ],
   "outputs": [
    {
     "name": "stdout",
     "output_type": "stream",
     "text": [
      "Shape of the training dataset: (40000, 21), (40000, 7)\n",
      "Shape of the validation dataset: (4448, 21), (4448, 7)\n",
      "Shape of the testing dataset: (4449, 21), (4449, 7)\n"
     ]
    }
   ],
   "execution_count": 2
  },
  {
   "metadata": {},
   "cell_type": "markdown",
   "source": "### Create PyTorch Dataset",
   "id": "ca5d88565103bf0a"
  },
  {
   "metadata": {
    "ExecuteTime": {
     "end_time": "2024-10-16T13:28:25.104145Z",
     "start_time": "2024-10-16T13:28:25.101669Z"
    }
   },
   "cell_type": "code",
   "source": [
    "class DatasetGenerator(Dataset):\n",
    "    def __init__(self, features, targets):\n",
    "        self.features = torch.tensor(features, dtype=torch.float64)\n",
    "        self.targets = torch.tensor(targets, dtype=torch.float64)\n",
    "\n",
    "    def __len__(self):\n",
    "        return len(self.features)\n",
    "\n",
    "    def __getitem__(self, idx):\n",
    "        return self.features[idx], self.targets[idx]"
   ],
   "id": "82ef8724045f6270",
   "outputs": [],
   "execution_count": 3
  },
  {
   "metadata": {},
   "cell_type": "markdown",
   "source": "### Data Preparation",
   "id": "25f2b7be3144a9d7"
  },
  {
   "metadata": {
    "ExecuteTime": {
     "end_time": "2024-10-16T13:28:25.163816Z",
     "start_time": "2024-10-16T13:28:25.149498Z"
    }
   },
   "cell_type": "code",
   "source": [
    "# Create dataset instances\n",
    "train_dataset = DatasetGenerator(X_train, Y_train)\n",
    "val_dataset = DatasetGenerator(X_val, Y_val)\n",
    "test_dataset = DatasetGenerator(X_test, Y_test)\n",
    "\n",
    "# Create DataLoaders\n",
    "train_loader = DataLoader(train_dataset, batch_size=256, shuffle=True)\n",
    "val_loader = DataLoader(val_dataset, batch_size=256, shuffle=False)\n",
    "test_loader = DataLoader(test_dataset, batch_size=256, shuffle=False)"
   ],
   "id": "50a452e7da976ce",
   "outputs": [],
   "execution_count": 4
  },
  {
   "metadata": {},
   "cell_type": "markdown",
   "source": "## Define the GP Model",
   "id": "ad1dae48fc4e76c7"
  },
  {
   "metadata": {
    "ExecuteTime": {
     "end_time": "2024-10-16T13:28:25.220890Z",
     "start_time": "2024-10-16T13:28:25.217930Z"
    }
   },
   "cell_type": "code",
   "source": [
    "# class ExactGPModel(gpytorch.models.ExactGP):\n",
    "#     def __init__(self, train_x, train_y, likelihood):\n",
    "#         super(ExactGPModel, self).__init__(train_x, train_y, likelihood)\n",
    "#         # Using MultitaskMean for multi-output\n",
    "#         self.mean_module = gpytorch.means.MultitaskMean(gpytorch.means.ConstantMean(), num_tasks=train_y.size(1))\n",
    "#         self.covar_module = gpytorch.kernels.ScaleKernel(gpytorch.kernels.RBFKernel())\n",
    "#         \n",
    "#     def forward(self, x):\n",
    "#         mean_x = self.mean_module(x)\n",
    "#         covar_x = self.covar_module(x)\n",
    "#         return gpytorch.distributions.MultivariateNormal(mean_x, covar_x)\n",
    "\n",
    "class ExactGPModel(gpytorch.models.ExactGP):\n",
    "    def __init__(self, train_x, train_y, likelihood):\n",
    "        super(ExactGPModel, self).__init__(train_x, train_y, likelihood)\n",
    "        self.mean_module = gpytorch.means.ConstantMean()\n",
    "        self.covar_module = gpytorch.kernels.ScaleKernel(gpytorch.kernels.RBFKernel())\n",
    "\n",
    "    def forward(self, x):\n",
    "        mean_x = self.mean_module(x)\n",
    "        covar_x = self.covar_module(x)\n",
    "        return gpytorch.distributions.MultivariateNormal(mean_x, covar_x)\n"
   ],
   "id": "e7a9953089d4df68",
   "outputs": [],
   "execution_count": 5
  },
  {
   "metadata": {},
   "cell_type": "markdown",
   "source": "## Train the GP Model",
   "id": "92b8cc8d35e2549a"
  },
  {
   "metadata": {
    "ExecuteTime": {
     "end_time": "2024-10-16T13:28:25.728980Z",
     "start_time": "2024-10-16T13:28:25.282762Z"
    }
   },
   "cell_type": "code",
   "source": [
    "# Check if GPU is available\n",
    "device = torch.device(\"cuda\" if torch.cuda.is_available() else \"cpu\")\n",
    "\n",
    "# Initialize likelihood and model without passing train_x and train_y\n",
    "likelihood = gpytorch.likelihoods.GaussianLikelihood().to(device)\n",
    "model = ExactGPModel(None, None, likelihood).to(device)\n",
    "\n",
    "# Set the model in training mode\n",
    "model.train()\n",
    "likelihood.train()\n",
    "\n",
    "# Define optimizer and loss function\n",
    "optimizer = torch.optim.Adam(model.parameters(), lr=0.1)\n",
    "mll = gpytorch.mlls.ExactMarginalLogLikelihood(likelihood, model)\n",
    "\n",
    "# Parameters for training\n",
    "num_epochs = 100\n",
    "\n",
    "# Lists to store metrics\n",
    "losses = []\n",
    "accuracies = []\n",
    "precisions = []\n",
    "recalls = []\n",
    "\n",
    "# Training loop with DataLoader\n",
    "for epoch in range(num_epochs):\n",
    "    model.train()\n",
    "    likelihood.train()\n",
    "    \n",
    "    total_loss = 0.0\n",
    "    \n",
    "    # Iterate over batches using DataLoader\n",
    "    for batch_x, batch_y in train_loader:\n",
    "        # Set the model's training inputs\n",
    "        model.set_train_data(inputs=batch_x, targets=batch_y) \n",
    "        \n",
    "        batch_x, batch_y = batch_x.to(device), batch_y.to(device)  # Move to GPU\n",
    "        \n",
    "        optimizer.zero_grad()  # Zero gradients from previous step\n",
    "        \n",
    "         # Set new training data for each batch\n",
    "        \n",
    "        output = model(batch_x)  # Forward pass (using only training inputs)\n",
    "        loss = -mll(output, batch_y)  # Compute loss\n",
    "        loss.backward()  # Backward pass\n",
    "        \n",
    "        total_loss += loss.item()\n",
    "        \n",
    "        optimizer.step()  # Update parameters\n",
    "    \n",
    "    # Average loss for the epoch\n",
    "    avg_loss = total_loss / len(train_loader)\n",
    "    losses.append(avg_loss)\n",
    "\n",
    "    print(f\"Epoch {epoch + 1}: Loss: {avg_loss:.4f}\")\n",
    "\n",
    "print(\"Training completed.\")"
   ],
   "id": "93db5a28321c3bfc",
   "outputs": [
    {
     "ename": "RuntimeError",
     "evalue": "Cannot modify dtype of inputs (expected None, found torch.float64).",
     "output_type": "error",
     "traceback": [
      "\u001B[0;31m---------------------------------------------------------------------------\u001B[0m",
      "\u001B[0;31mRuntimeError\u001B[0m                              Traceback (most recent call last)",
      "Cell \u001B[0;32mIn[6], line 35\u001B[0m\n\u001B[1;32m     32\u001B[0m \u001B[38;5;66;03m# Iterate over batches using DataLoader\u001B[39;00m\n\u001B[1;32m     33\u001B[0m \u001B[38;5;28;01mfor\u001B[39;00m batch_x, batch_y \u001B[38;5;129;01min\u001B[39;00m train_loader:\n\u001B[1;32m     34\u001B[0m     \u001B[38;5;66;03m# Set the model's training inputs\u001B[39;00m\n\u001B[0;32m---> 35\u001B[0m     \u001B[43mmodel\u001B[49m\u001B[38;5;241;43m.\u001B[39;49m\u001B[43mset_train_data\u001B[49m\u001B[43m(\u001B[49m\u001B[43minputs\u001B[49m\u001B[38;5;241;43m=\u001B[39;49m\u001B[43mbatch_x\u001B[49m\u001B[43m,\u001B[49m\u001B[43m \u001B[49m\u001B[43mtargets\u001B[49m\u001B[38;5;241;43m=\u001B[39;49m\u001B[43mbatch_y\u001B[49m\u001B[43m)\u001B[49m \n\u001B[1;32m     37\u001B[0m     batch_x, batch_y \u001B[38;5;241m=\u001B[39m batch_x\u001B[38;5;241m.\u001B[39mto(device), batch_y\u001B[38;5;241m.\u001B[39mto(device)  \u001B[38;5;66;03m# Move to GPU\u001B[39;00m\n\u001B[1;32m     39\u001B[0m     optimizer\u001B[38;5;241m.\u001B[39mzero_grad()  \u001B[38;5;66;03m# Zero gradients from previous step\u001B[39;00m\n",
      "File \u001B[0;32m~/miniconda3/envs/tf/lib/python3.10/site-packages/gpytorch/models/exact_gp.py:124\u001B[0m, in \u001B[0;36mExactGP.set_train_data\u001B[0;34m(self, inputs, targets, strict)\u001B[0m\n\u001B[1;32m    122\u001B[0m                     msg \u001B[38;5;241m=\u001B[39m \u001B[38;5;124m\"\u001B[39m\u001B[38;5;124mCannot modify \u001B[39m\u001B[38;5;132;01m{attr}\u001B[39;00m\u001B[38;5;124m of inputs (expected \u001B[39m\u001B[38;5;132;01m{e_attr}\u001B[39;00m\u001B[38;5;124m, found \u001B[39m\u001B[38;5;132;01m{f_attr}\u001B[39;00m\u001B[38;5;124m).\u001B[39m\u001B[38;5;124m\"\u001B[39m\n\u001B[1;32m    123\u001B[0m                     msg \u001B[38;5;241m=\u001B[39m msg\u001B[38;5;241m.\u001B[39mformat(attr\u001B[38;5;241m=\u001B[39mattr, e_attr\u001B[38;5;241m=\u001B[39mexpected_attr, f_attr\u001B[38;5;241m=\u001B[39mfound_attr)\n\u001B[0;32m--> 124\u001B[0m                     \u001B[38;5;28;01mraise\u001B[39;00m \u001B[38;5;167;01mRuntimeError\u001B[39;00m(msg)\n\u001B[1;32m    125\u001B[0m     \u001B[38;5;28mself\u001B[39m\u001B[38;5;241m.\u001B[39mtrain_inputs \u001B[38;5;241m=\u001B[39m inputs\n\u001B[1;32m    126\u001B[0m \u001B[38;5;28;01mif\u001B[39;00m targets \u001B[38;5;129;01mis\u001B[39;00m \u001B[38;5;129;01mnot\u001B[39;00m \u001B[38;5;28;01mNone\u001B[39;00m:\n",
      "\u001B[0;31mRuntimeError\u001B[0m: Cannot modify dtype of inputs (expected None, found torch.float64)."
     ]
    }
   ],
   "execution_count": 6
  },
  {
   "metadata": {},
   "cell_type": "markdown",
   "source": "## Make Predictions",
   "id": "f52cbb9b1f2ed087"
  },
  {
   "metadata": {},
   "cell_type": "code",
   "source": [
    "# Set the model in evaluation mode\n",
    "model.eval()\n",
    "likelihood.eval()\n",
    "\n",
    "with torch.no_grad(), gpytorch.settings.fast_pred_var():\n",
    "    observed_pred = likelihood(model(torch.tensor(X_test, dtype=torch.float32)))\n",
    "\n",
    "mean = observed_pred.mean\n",
    "lower, upper = observed_pred.confidence_region()\n",
    "\n",
    "# Visualize results (assuming you're interested in plotting a specific feature)\n",
    "plt.figure(figsize=(10, 6))\n",
    "plt.plot(Y_test[:100], label='True Values', color='blue')  # Plot true values for first 100 samples\n",
    "plt.plot(mean.numpy()[:100], 'k*', label='Predicted Mean')  # Predicted mean for first 100 samples\n",
    "plt.fill_between(range(100), lower.numpy()[:100], upper.numpy()[:100], alpha=0.5,\n",
    "                 label='Confidence Interval')\n",
    "plt.title('Gaussian Process Regression Predictions')\n",
    "plt.xlabel('Sample Index')\n",
    "plt.ylabel('Torque')\n",
    "plt.legend()\n",
    "plt.show()"
   ],
   "id": "c4d11dc493e0449a",
   "outputs": [],
   "execution_count": null
  }
 ],
 "metadata": {
  "kernelspec": {
   "display_name": "Python 3",
   "language": "python",
   "name": "python3"
  },
  "language_info": {
   "codemirror_mode": {
    "name": "ipython",
    "version": 2
   },
   "file_extension": ".py",
   "mimetype": "text/x-python",
   "name": "python",
   "nbconvert_exporter": "python",
   "pygments_lexer": "ipython2",
   "version": "2.7.6"
  }
 },
 "nbformat": 4,
 "nbformat_minor": 5
}
