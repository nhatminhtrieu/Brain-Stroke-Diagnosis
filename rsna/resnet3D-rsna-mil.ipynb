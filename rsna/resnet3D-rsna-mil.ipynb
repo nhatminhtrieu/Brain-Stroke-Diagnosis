{
 "cells": [
  {
   "cell_type": "markdown",
   "id": "81d96c28",
   "metadata": {
    "papermill": {
     "duration": 0.013909,
     "end_time": "2024-09-28T10:20:31.912670",
     "exception": false,
     "start_time": "2024-09-28T10:20:31.898761",
     "status": "completed"
    },
    "tags": []
   },
   "source": [
    "## Library"
   ]
  },
  {
   "cell_type": "code",
   "execution_count": 1,
   "id": "8c14e92f",
   "metadata": {
    "ExecuteTime": {
     "end_time": "2024-09-26T14:06:49.153031Z",
     "start_time": "2024-09-26T14:06:48.559249Z"
    },
    "execution": {
     "iopub.execute_input": "2024-09-28T10:20:31.939791Z",
     "iopub.status.busy": "2024-09-28T10:20:31.939487Z",
     "iopub.status.idle": "2024-09-28T10:20:48.479667Z",
     "shell.execute_reply": "2024-09-28T10:20:48.478567Z"
    },
    "papermill": {
     "duration": 16.556306,
     "end_time": "2024-09-28T10:20:48.482084",
     "exception": false,
     "start_time": "2024-09-28T10:20:31.925778",
     "status": "completed"
    },
    "tags": []
   },
   "outputs": [
    {
     "name": "stdout",
     "output_type": "stream",
     "text": [
      "Collecting gpytorch\r\n",
      "  Downloading gpytorch-1.13-py3-none-any.whl.metadata (8.0 kB)\r\n",
      "Collecting jaxtyping==0.2.19 (from gpytorch)\r\n",
      "  Downloading jaxtyping-0.2.19-py3-none-any.whl.metadata (5.7 kB)\r\n",
      "Requirement already satisfied: mpmath<=1.3,>=0.19 in /opt/conda/lib/python3.10/site-packages (from gpytorch) (1.3.0)\r\n",
      "Requirement already satisfied: scikit-learn in /opt/conda/lib/python3.10/site-packages (from gpytorch) (1.2.2)\r\n",
      "Requirement already satisfied: scipy>=1.6.0 in /opt/conda/lib/python3.10/site-packages (from gpytorch) (1.14.0)\r\n",
      "Collecting linear-operator>=0.5.3 (from gpytorch)\r\n",
      "  Downloading linear_operator-0.5.3-py3-none-any.whl.metadata (15 kB)\r\n",
      "Requirement already satisfied: numpy>=1.20.0 in /opt/conda/lib/python3.10/site-packages (from jaxtyping==0.2.19->gpytorch) (1.26.4)\r\n",
      "Requirement already satisfied: typeguard>=2.13.3 in /opt/conda/lib/python3.10/site-packages (from jaxtyping==0.2.19->gpytorch) (4.3.0)\r\n",
      "Requirement already satisfied: typing-extensions>=3.7.4.1 in /opt/conda/lib/python3.10/site-packages (from jaxtyping==0.2.19->gpytorch) (4.12.2)\r\n",
      "Requirement already satisfied: torch>=1.11 in /opt/conda/lib/python3.10/site-packages (from linear-operator>=0.5.3->gpytorch) (2.4.0)\r\n",
      "Requirement already satisfied: joblib>=1.1.1 in /opt/conda/lib/python3.10/site-packages (from scikit-learn->gpytorch) (1.4.2)\r\n",
      "Requirement already satisfied: threadpoolctl>=2.0.0 in /opt/conda/lib/python3.10/site-packages (from scikit-learn->gpytorch) (3.5.0)\r\n",
      "Requirement already satisfied: filelock in /opt/conda/lib/python3.10/site-packages (from torch>=1.11->linear-operator>=0.5.3->gpytorch) (3.15.1)\r\n",
      "Requirement already satisfied: sympy in /opt/conda/lib/python3.10/site-packages (from torch>=1.11->linear-operator>=0.5.3->gpytorch) (1.13.2)\r\n",
      "Requirement already satisfied: networkx in /opt/conda/lib/python3.10/site-packages (from torch>=1.11->linear-operator>=0.5.3->gpytorch) (3.3)\r\n",
      "Requirement already satisfied: jinja2 in /opt/conda/lib/python3.10/site-packages (from torch>=1.11->linear-operator>=0.5.3->gpytorch) (3.1.4)\r\n",
      "Requirement already satisfied: fsspec in /opt/conda/lib/python3.10/site-packages (from torch>=1.11->linear-operator>=0.5.3->gpytorch) (2024.6.1)\r\n",
      "Requirement already satisfied: MarkupSafe>=2.0 in /opt/conda/lib/python3.10/site-packages (from jinja2->torch>=1.11->linear-operator>=0.5.3->gpytorch) (2.1.5)\r\n",
      "Downloading gpytorch-1.13-py3-none-any.whl (277 kB)\r\n",
      "\u001b[2K   \u001b[90m━━━━━━━━━━━━━━━━━━━━━━━━━━━━━━━━━━━━━━━━\u001b[0m \u001b[32m277.8/277.8 kB\u001b[0m \u001b[31m11.3 MB/s\u001b[0m eta \u001b[36m0:00:00\u001b[0m\r\n",
      "\u001b[?25hDownloading jaxtyping-0.2.19-py3-none-any.whl (24 kB)\r\n",
      "Downloading linear_operator-0.5.3-py3-none-any.whl (176 kB)\r\n",
      "\u001b[2K   \u001b[90m━━━━━━━━━━━━━━━━━━━━━━━━━━━━━━━━━━━━━━━━\u001b[0m \u001b[32m176.4/176.4 kB\u001b[0m \u001b[31m9.5 MB/s\u001b[0m eta \u001b[36m0:00:00\u001b[0m\r\n",
      "\u001b[?25hInstalling collected packages: jaxtyping, linear-operator, gpytorch\r\n",
      "Successfully installed gpytorch-1.13 jaxtyping-0.2.19 linear-operator-0.5.3\r\n"
     ]
    }
   ],
   "source": [
    "!pip install gpytorch"
   ]
  },
  {
   "cell_type": "code",
   "execution_count": 2,
   "id": "048f0466",
   "metadata": {
    "ExecuteTime": {
     "end_time": "2024-09-26T14:06:50.423796Z",
     "start_time": "2024-09-26T14:06:49.159734Z"
    },
    "execution": {
     "iopub.execute_input": "2024-09-28T10:20:48.512023Z",
     "iopub.status.busy": "2024-09-28T10:20:48.511684Z",
     "iopub.status.idle": "2024-09-28T10:20:59.356614Z",
     "shell.execute_reply": "2024-09-28T10:20:59.355780Z"
    },
    "papermill": {
     "duration": 10.86231,
     "end_time": "2024-09-28T10:20:59.358849",
     "exception": false,
     "start_time": "2024-09-28T10:20:48.496539",
     "status": "completed"
    },
    "tags": []
   },
   "outputs": [],
   "source": [
    "import os\n",
    "import matplotlib.pyplot as plt\n",
    "import numpy as np\n",
    "import pandas as pd\n",
    "import pydicom\n",
    "from tqdm import tqdm\n",
    "from skimage.transform import resize\n",
    "import cv2\n",
    "from typing import Type\n",
    "\n",
    "from sklearn.model_selection import train_test_split\n",
    "from sklearn.metrics import roc_curve, auc\n",
    "from sklearn.metrics import accuracy_score, precision_score, recall_score, f1_score\n",
    "from sklearn.metrics import confusion_matrix, ConfusionMatrixDisplay\n",
    "\n",
    "import torch\n",
    "import torch.nn as nn\n",
    "from torch.utils.data import Dataset, DataLoader\n",
    "import torch.optim as optim\n",
    "import torch.nn.functional as F\n",
    "\n",
    "import gpytorch\n",
    "from gpytorch.models import ApproximateGP\n",
    "from gpytorch.variational import CholeskyVariationalDistribution\n",
    "from gpytorch.variational import VariationalStrategy\n",
    "\n",
    "os.environ['PYTORCH_CUDA_ALLOC_CONF'] = 'expandable_segments:True'"
   ]
  },
  {
   "cell_type": "code",
   "execution_count": 3,
   "id": "8ccd0cf9",
   "metadata": {
    "ExecuteTime": {
     "end_time": "2024-09-26T14:06:50.447428Z",
     "start_time": "2024-09-26T14:06:50.445775Z"
    },
    "execution": {
     "iopub.execute_input": "2024-09-28T10:20:59.388516Z",
     "iopub.status.busy": "2024-09-28T10:20:59.388051Z",
     "iopub.status.idle": "2024-09-28T10:20:59.392710Z",
     "shell.execute_reply": "2024-09-28T10:20:59.391861Z"
    },
    "papermill": {
     "duration": 0.021579,
     "end_time": "2024-09-28T10:20:59.394720",
     "exception": false,
     "start_time": "2024-09-28T10:20:59.373141",
     "status": "completed"
    },
    "tags": []
   },
   "outputs": [],
   "source": [
    "import warnings\n",
    "from sklearn.exceptions import UndefinedMetricWarning\n",
    "\n",
    "warnings.filterwarnings(\"ignore\", category=RuntimeWarning)\n",
    "warnings.filterwarnings(\"ignore\", category=UndefinedMetricWarning)"
   ]
  },
  {
   "cell_type": "markdown",
   "id": "7ad45744",
   "metadata": {
    "papermill": {
     "duration": 0.013995,
     "end_time": "2024-09-28T10:20:59.422723",
     "exception": false,
     "start_time": "2024-09-28T10:20:59.408728",
     "status": "completed"
    },
    "tags": []
   },
   "source": [
    "## Init GPU"
   ]
  },
  {
   "cell_type": "code",
   "execution_count": 4,
   "id": "75cca427",
   "metadata": {
    "ExecuteTime": {
     "end_time": "2024-09-26T14:06:50.549359Z",
     "start_time": "2024-09-26T14:06:50.495507Z"
    },
    "execution": {
     "iopub.execute_input": "2024-09-28T10:20:59.451662Z",
     "iopub.status.busy": "2024-09-28T10:20:59.451366Z",
     "iopub.status.idle": "2024-09-28T10:20:59.527169Z",
     "shell.execute_reply": "2024-09-28T10:20:59.526058Z"
    },
    "papermill": {
     "duration": 0.092625,
     "end_time": "2024-09-28T10:20:59.529153",
     "exception": false,
     "start_time": "2024-09-28T10:20:59.436528",
     "status": "completed"
    },
    "tags": []
   },
   "outputs": [
    {
     "name": "stdout",
     "output_type": "stream",
     "text": [
      "GPU: Tesla P100-PCIE-16GB is available.\n",
      "cuda\n"
     ]
    }
   ],
   "source": [
    "# Initialize GPU Device\n",
    "device = torch.device('cuda' if torch.cuda.is_available() else 'cpu')\n",
    "\n",
    "if torch.cuda.is_available():\n",
    "    print(f\"GPU: {torch.cuda.get_device_name(0)} is available.\")\n",
    "else:\n",
    "    print(\"No GPU available. Training will run on CPU.\")\n",
    "\n",
    "print(device)"
   ]
  },
  {
   "cell_type": "code",
   "execution_count": 5,
   "id": "5e127174",
   "metadata": {
    "ExecuteTime": {
     "end_time": "2024-09-26T14:06:50.618691Z",
     "start_time": "2024-09-26T14:06:50.599434Z"
    },
    "execution": {
     "iopub.execute_input": "2024-09-28T10:20:59.558321Z",
     "iopub.status.busy": "2024-09-28T10:20:59.558006Z",
     "iopub.status.idle": "2024-09-28T10:20:59.607082Z",
     "shell.execute_reply": "2024-09-28T10:20:59.606412Z"
    },
    "papermill": {
     "duration": 0.065885,
     "end_time": "2024-09-28T10:20:59.608989",
     "exception": false,
     "start_time": "2024-09-28T10:20:59.543104",
     "status": "completed"
    },
    "tags": []
   },
   "outputs": [],
   "source": [
    "%load_ext autoreload\n",
    "%autoreload 2"
   ]
  },
  {
   "cell_type": "markdown",
   "id": "8310105d",
   "metadata": {
    "papermill": {
     "duration": 0.01368,
     "end_time": "2024-09-28T10:20:59.636512",
     "exception": false,
     "start_time": "2024-09-28T10:20:59.622832",
     "status": "completed"
    },
    "tags": []
   },
   "source": [
    "## Config Info"
   ]
  },
  {
   "cell_type": "code",
   "execution_count": 6,
   "id": "6c4e839b",
   "metadata": {
    "ExecuteTime": {
     "end_time": "2024-09-26T14:06:50.668118Z",
     "start_time": "2024-09-26T14:06:50.645478Z"
    },
    "execution": {
     "iopub.execute_input": "2024-09-28T10:20:59.665248Z",
     "iopub.status.busy": "2024-09-28T10:20:59.664934Z",
     "iopub.status.idle": "2024-09-28T10:20:59.706526Z",
     "shell.execute_reply": "2024-09-28T10:20:59.705842Z"
    },
    "papermill": {
     "duration": 0.058171,
     "end_time": "2024-09-28T10:20:59.708456",
     "exception": false,
     "start_time": "2024-09-28T10:20:59.650285",
     "status": "completed"
    },
    "tags": []
   },
   "outputs": [],
   "source": [
    "# Constants\n",
    "HEIGHT = 224\n",
    "WIDTH = 224\n",
    "CHANNELS = 3\n",
    "\n",
    "TRAIN_BATCH_SIZE = 16\n",
    "VALID_BATCH_SIZE = 8\n",
    "TEST_BATCH_SIZE = 8\n",
    "TEST_SIZE = 0.15\n",
    "VALID_SIZE = 0.15\n",
    "\n",
    "MAX_SLICES = 60\n",
    "SHAPE = (HEIGHT, WIDTH, CHANNELS)\n",
    "\n",
    "NUM_EPOCHS = 20\n",
    "LEARNING_RATE = 1e-3\n",
    "INDUCING_POINTS = 128\n",
    "\n",
    "# TARGET_LABELS = ['any', 'epidural', 'intraparenchymal', 'intraventricular', 'subarachnoid', 'subdural']\n",
    "TARGET_LABELS = ['intraparenchymal']\n",
    "\n",
    "MODEL_PATH = 'trained_model.pth'\n",
    "DEVICE = 'cuda'"
   ]
  },
  {
   "cell_type": "code",
   "execution_count": 7,
   "id": "78954f5b",
   "metadata": {
    "ExecuteTime": {
     "end_time": "2024-09-26T14:06:50.716904Z",
     "start_time": "2024-09-26T14:06:50.694455Z"
    },
    "execution": {
     "iopub.execute_input": "2024-09-28T10:20:59.737560Z",
     "iopub.status.busy": "2024-09-28T10:20:59.737271Z",
     "iopub.status.idle": "2024-09-28T10:20:59.800959Z",
     "shell.execute_reply": "2024-09-28T10:20:59.799900Z"
    },
    "papermill": {
     "duration": 0.080486,
     "end_time": "2024-09-28T10:20:59.802988",
     "exception": false,
     "start_time": "2024-09-28T10:20:59.722502",
     "status": "completed"
    },
    "tags": []
   },
   "outputs": [
    {
     "name": "stdout",
     "output_type": "stream",
     "text": [
      "Running on Kaggle\n"
     ]
    }
   ],
   "source": [
    "# Kaggle and local switch\n",
    "KAGGLE = os.path.exists('/kaggle')\n",
    "print(\"Running on Kaggle\" if KAGGLE else \"Running locally\")\n",
    "\n",
    "DATA_DIR = '/kaggle/input/' if KAGGLE else '../rsna-mil-training/'\n",
    "DICOM_DIR = DATA_DIR + 'rsna-mil-training/'\n",
    "CSV_PATH = DATA_DIR + 'training_1000_scan_subset.csv' if KAGGLE else './data_analyze/training_1000_scan_subset.csv'\n",
    "\n",
    "dicom_dir = DICOM_DIR if KAGGLE else DATA_DIR\n",
    "# Load patient scan labels\n",
    "patient_scan_labels = pd.read_csv(CSV_PATH)"
   ]
  },
  {
   "cell_type": "markdown",
   "id": "d6bc1f9e",
   "metadata": {
    "papermill": {
     "duration": 0.013734,
     "end_time": "2024-09-28T10:20:59.830709",
     "exception": false,
     "start_time": "2024-09-28T10:20:59.816975",
     "status": "completed"
    },
    "tags": []
   },
   "source": [
    "## Data Preprocessing"
   ]
  },
  {
   "cell_type": "code",
   "execution_count": 8,
   "id": "a122bf0f",
   "metadata": {
    "ExecuteTime": {
     "end_time": "2024-09-26T14:06:50.760578Z",
     "start_time": "2024-09-26T14:06:50.744851Z"
    },
    "execution": {
     "iopub.execute_input": "2024-09-28T10:20:59.859768Z",
     "iopub.status.busy": "2024-09-28T10:20:59.859475Z",
     "iopub.status.idle": "2024-09-28T10:20:59.904884Z",
     "shell.execute_reply": "2024-09-28T10:20:59.904230Z"
    },
    "papermill": {
     "duration": 0.062102,
     "end_time": "2024-09-28T10:20:59.906663",
     "exception": false,
     "start_time": "2024-09-28T10:20:59.844561",
     "status": "completed"
    },
    "tags": []
   },
   "outputs": [],
   "source": [
    "def correct_dcm(dcm):\n",
    "    x = dcm.pixel_array + 1000\n",
    "    px_mode = 4096\n",
    "    x[x>=px_mode] = x[x>=px_mode] - px_mode\n",
    "    dcm.PixelData = x.tobytes()\n",
    "    dcm.RescaleIntercept = -1000\n",
    "\n",
    "def window_image(dcm, window_center, window_width):    \n",
    "    if (dcm.BitsStored == 12) and (dcm.PixelRepresentation == 0) and (int(dcm.RescaleIntercept) > -100):\n",
    "        correct_dcm(dcm)\n",
    "    img = dcm.pixel_array * dcm.RescaleSlope + dcm.RescaleIntercept\n",
    "    \n",
    "    # Resize\n",
    "    img = cv2.resize(img, SHAPE[:2], interpolation = cv2.INTER_LINEAR)\n",
    "   \n",
    "    img_min = window_center - window_width // 2\n",
    "    img_max = window_center + window_width // 2\n",
    "    img = np.clip(img, img_min, img_max)\n",
    "    return img\n",
    "\n",
    "def bsb_window(dcm):\n",
    "    brain_img = window_image(dcm, 40, 80)\n",
    "    subdural_img = window_image(dcm, 80, 200)\n",
    "    soft_img = window_image(dcm, 40, 380)\n",
    "    \n",
    "    brain_img = (brain_img - 0) / 80\n",
    "    subdural_img = (subdural_img - (-20)) / 200\n",
    "    soft_img = (soft_img - (-150)) / 380\n",
    "    \n",
    "    bsb_img = np.stack([brain_img, subdural_img, soft_img], axis=-1)\n",
    "    return bsb_img.astype(np.float16)"
   ]
  },
  {
   "cell_type": "code",
   "execution_count": 9,
   "id": "fea8bbd0",
   "metadata": {
    "ExecuteTime": {
     "end_time": "2024-09-26T14:06:50.811026Z",
     "start_time": "2024-09-26T14:06:50.790932Z"
    },
    "execution": {
     "iopub.execute_input": "2024-09-28T10:20:59.935804Z",
     "iopub.status.busy": "2024-09-28T10:20:59.935496Z",
     "iopub.status.idle": "2024-09-28T10:20:59.977150Z",
     "shell.execute_reply": "2024-09-28T10:20:59.976487Z"
    },
    "papermill": {
     "duration": 0.058337,
     "end_time": "2024-09-28T10:20:59.979148",
     "exception": false,
     "start_time": "2024-09-28T10:20:59.920811",
     "status": "completed"
    },
    "tags": []
   },
   "outputs": [],
   "source": [
    "def preprocess_slice(slice, target_size=(HEIGHT, WIDTH)):\n",
    "    # Check if type of slice is dicom or an empty numpy array\n",
    "    if (type(slice) == np.ndarray):\n",
    "        slice = resize(slice, target_size, anti_aliasing=True)\n",
    "        multichannel_slice = np.stack([slice, slice, slice], axis=-1)\n",
    "        return multichannel_slice.astype(np.float16)\n",
    "    else:\n",
    "        slice = bsb_window(slice)\n",
    "        return slice.astype(np.float16)"
   ]
  },
  {
   "cell_type": "code",
   "execution_count": 10,
   "id": "86a85983",
   "metadata": {
    "ExecuteTime": {
     "end_time": "2024-09-26T14:06:50.865850Z",
     "start_time": "2024-09-26T14:06:50.841576Z"
    },
    "execution": {
     "iopub.execute_input": "2024-09-28T10:21:00.008277Z",
     "iopub.status.busy": "2024-09-28T10:21:00.007983Z",
     "iopub.status.idle": "2024-09-28T10:21:00.049909Z",
     "shell.execute_reply": "2024-09-28T10:21:00.049242Z"
    },
    "papermill": {
     "duration": 0.058544,
     "end_time": "2024-09-28T10:21:00.051816",
     "exception": false,
     "start_time": "2024-09-28T10:20:59.993272",
     "status": "completed"
    },
    "tags": []
   },
   "outputs": [],
   "source": [
    "def read_dicom_folder(folder_path):\n",
    "    slices = []\n",
    "    for filename in sorted(os.listdir(folder_path))[:MAX_SLICES]:  # Limit to MAX_SLICES\n",
    "        if filename.endswith(\".dcm\"):\n",
    "            file_path = os.path.join(folder_path, filename)\n",
    "            ds = pydicom.dcmread(file_path)\n",
    "            slices.append(ds)\n",
    "            \n",
    "    # Sort slices by images position (z-coordinate) in ascending order\n",
    "    slices = sorted(slices, key=lambda x: float(x.ImagePositionPatient[2]))\n",
    "    \n",
    "    # Pad with black images if necessary\n",
    "    while len(slices) < MAX_SLICES:\n",
    "        slices.append(np.zeros_like(slices[0].pixel_array))\n",
    "    \n",
    "    return slices[:MAX_SLICES]  # Ensure we return exactly MAX_SLICES"
   ]
  },
  {
   "cell_type": "markdown",
   "id": "eb138b4c",
   "metadata": {
    "papermill": {
     "duration": 0.013678,
     "end_time": "2024-09-28T10:21:00.079662",
     "exception": false,
     "start_time": "2024-09-28T10:21:00.065984",
     "status": "completed"
    },
    "tags": []
   },
   "source": [
    "## Dataset and DataLoader"
   ]
  },
  {
   "cell_type": "markdown",
   "id": "2098d31d",
   "metadata": {
    "papermill": {
     "duration": 0.013614,
     "end_time": "2024-09-28T10:21:00.107139",
     "exception": false,
     "start_time": "2024-09-28T10:21:00.093525",
     "status": "completed"
    },
    "tags": []
   },
   "source": [
    "### Splitting the Dataset"
   ]
  },
  {
   "cell_type": "code",
   "execution_count": 11,
   "id": "62b96b6d",
   "metadata": {
    "ExecuteTime": {
     "end_time": "2024-09-26T14:06:50.919343Z",
     "start_time": "2024-09-26T14:06:50.893626Z"
    },
    "execution": {
     "iopub.execute_input": "2024-09-28T10:21:00.136075Z",
     "iopub.status.busy": "2024-09-28T10:21:00.135814Z",
     "iopub.status.idle": "2024-09-28T10:21:00.177405Z",
     "shell.execute_reply": "2024-09-28T10:21:00.176558Z"
    },
    "papermill": {
     "duration": 0.058256,
     "end_time": "2024-09-28T10:21:00.179393",
     "exception": false,
     "start_time": "2024-09-28T10:21:00.121137",
     "status": "completed"
    },
    "tags": []
   },
   "outputs": [],
   "source": [
    "def split_dataset(patient_scan_labels, test_size=TEST_SIZE, val_size=VALID_SIZE, random_state=42):\n",
    "    # If any of the hemorrhage indicators is 1, the label is 1, otherwise 0\n",
    "    patient_scan_labels['label'] = patient_scan_labels[['any', 'epidural', 'intraparenchymal', 'intraventricular', 'subarachnoid', 'subdural']].any(axis=1).astype(int)\n",
    "\n",
    "    # Extract the labels from the DataFrame\n",
    "    labels = patient_scan_labels['label']\n",
    "\n",
    "    # First, split off the test set\n",
    "    train_val_labels, test_labels = train_test_split(\n",
    "        patient_scan_labels, \n",
    "        test_size=test_size, \n",
    "        stratify=labels, \n",
    "        random_state=random_state\n",
    "    )\n",
    "\n",
    "    # Calculate the validation size relative to the train_val set\n",
    "    val_size_adjusted = val_size / (1 - test_size)\n",
    "\n",
    "    # Split the train_val set into train and validation sets\n",
    "    train_labels, val_labels = train_test_split(\n",
    "        train_val_labels, \n",
    "        test_size=val_size_adjusted, \n",
    "        stratify=train_val_labels['label'], \n",
    "        random_state=random_state\n",
    "    )\n",
    "\n",
    "    return train_labels, val_labels, test_labels"
   ]
  },
  {
   "cell_type": "markdown",
   "id": "cb9aaaf4",
   "metadata": {
    "papermill": {
     "duration": 0.013598,
     "end_time": "2024-09-28T10:21:00.206839",
     "exception": false,
     "start_time": "2024-09-28T10:21:00.193241",
     "status": "completed"
    },
    "tags": []
   },
   "source": [
    "### Processing the Data"
   ]
  },
  {
   "cell_type": "code",
   "execution_count": 12,
   "id": "5921c249",
   "metadata": {
    "ExecuteTime": {
     "end_time": "2024-09-26T14:06:50.964443Z",
     "start_time": "2024-09-26T14:06:50.945254Z"
    },
    "execution": {
     "iopub.execute_input": "2024-09-28T10:21:00.235640Z",
     "iopub.status.busy": "2024-09-28T10:21:00.235350Z",
     "iopub.status.idle": "2024-09-28T10:21:00.277728Z",
     "shell.execute_reply": "2024-09-28T10:21:00.277051Z"
    },
    "papermill": {
     "duration": 0.058972,
     "end_time": "2024-09-28T10:21:00.279616",
     "exception": false,
     "start_time": "2024-09-28T10:21:00.220644",
     "status": "completed"
    },
    "tags": []
   },
   "outputs": [],
   "source": [
    "def process_patient_data(dicom_dir, row, num_instances=12, depth=5):\n",
    "    patient_id = row['patient_id'].replace('ID_', '')\n",
    "    study_instance_uid = row['study_instance_uid'].replace('ID_', '')\n",
    "    \n",
    "    folder_name = f\"{patient_id}_{study_instance_uid}\"\n",
    "    folder_path = os.path.join(dicom_dir, folder_name)\n",
    "    \n",
    "    if os.path.exists(folder_path):\n",
    "        slices = read_dicom_folder(folder_path)\n",
    "        \n",
    "        # Ensure we have enough slices to create the specified instances\n",
    "        if len(slices) < depth * num_instances:\n",
    "            print(f\"Not enough slices for patient {patient_id}: found {len(slices)}, needed {depth * num_instances}\")\n",
    "            return None, None\n",
    "        \n",
    "        preprocessed_slices = [preprocess_slice(slice) for slice in slices]\n",
    "        \n",
    "        # Stack preprocessed slices into an array\n",
    "        preprocessed_slices = np.stack(preprocessed_slices, axis=0)  # (num_slices, height, width, channels)\n",
    "        \n",
    "        # Reshape to (num_instances, depth, height, width, channels)\n",
    "        reshaped_slices = preprocessed_slices[:num_instances * depth].reshape(num_instances, depth, *preprocessed_slices.shape[1:])  # (num_instances, depth, height, width, channels)\n",
    "        \n",
    "        # Labeling remains consistent  \n",
    "        label = 1 if row[['any', 'epidural', 'intraparenchymal', 'intraventricular', 'subarachnoid', 'subdural']].any() else 0\n",
    "        \n",
    "        return reshaped_slices, label\n",
    "    \n",
    "    else:\n",
    "        print(f\"Folder not found: {folder_path}\")\n",
    "        return None, None"
   ]
  },
  {
   "cell_type": "code",
   "execution_count": 13,
   "id": "1c2bf1b2",
   "metadata": {
    "ExecuteTime": {
     "end_time": "2024-09-26T14:06:51.014008Z",
     "start_time": "2024-09-26T14:06:50.995437Z"
    },
    "execution": {
     "iopub.execute_input": "2024-09-28T10:21:00.308483Z",
     "iopub.status.busy": "2024-09-28T10:21:00.308148Z",
     "iopub.status.idle": "2024-09-28T10:21:00.351907Z",
     "shell.execute_reply": "2024-09-28T10:21:00.351221Z"
    },
    "papermill": {
     "duration": 0.060387,
     "end_time": "2024-09-28T10:21:00.353897",
     "exception": false,
     "start_time": "2024-09-28T10:21:00.293510",
     "status": "completed"
    },
    "tags": []
   },
   "outputs": [],
   "source": [
    "class TrainDatasetGenerator(Dataset):\n",
    "    \"\"\"\n",
    "    A custom dataset class for training data.\n",
    "    \"\"\"\n",
    "    def __init__(self, data_dir, patient_scan_labels):\n",
    "        self.data_dir = data_dir\n",
    "        self.patient_scan_labels = patient_scan_labels\n",
    "\n",
    "    def __len__(self):\n",
    "        return len(self.patient_scan_labels)\n",
    "\n",
    "    def __getitem__(self, idx):\n",
    "        row = self.patient_scan_labels.iloc[idx]\n",
    "        preprocessed_slices, label = process_patient_data(self.data_dir, row)\n",
    "        \n",
    "        if preprocessed_slices is not None:\n",
    "            # Convert the list of numpy arrays to a single numpy array\n",
    "            preprocessed_slices = np.array(preprocessed_slices)  # Convert to numpy array\n",
    "            return torch.tensor(preprocessed_slices, dtype=torch.float32), torch.tensor(label, dtype=torch.long)\n",
    "        else:\n",
    "            return None, None  # Handle the case where the folder is not found\n",
    "\n",
    "class TestDatasetGenerator(Dataset):\n",
    "    \"\"\"\n",
    "    A custom dataset class for testing data.\n",
    "    \"\"\"\n",
    "    def __init__(self, data_dir, patient_scan_labels):\n",
    "        self.data_dir = data_dir\n",
    "        self.patient_scan_labels = patient_scan_labels\n",
    "\n",
    "    def __len__(self):\n",
    "        return len(self.patient_scan_labels)\n",
    "\n",
    "    def __getitem__(self, idx):\n",
    "        row = self.patient_scan_labels.iloc[idx]\n",
    "        preprocessed_slices, label = process_patient_data(self.data_dir, row)\n",
    "        \n",
    "        if preprocessed_slices is not None:\n",
    "            # Convert the list of numpy arrays to a single numpy array\n",
    "            preprocessed_slices = np.array(preprocessed_slices)  # Convert to numpy array\n",
    "            return torch.tensor(preprocessed_slices, dtype=torch.float32), torch.tensor(label, dtype=torch.long)\n",
    "        else:\n",
    "            return None, None  # Handle the case where the folder is not found"
   ]
  },
  {
   "cell_type": "markdown",
   "id": "620e0e16",
   "metadata": {
    "papermill": {
     "duration": 0.013626,
     "end_time": "2024-09-28T10:21:00.381444",
     "exception": false,
     "start_time": "2024-09-28T10:21:00.367818",
     "status": "completed"
    },
    "tags": []
   },
   "source": [
    "## Data augmentation"
   ]
  },
  {
   "cell_type": "code",
   "execution_count": 14,
   "id": "d947dc51",
   "metadata": {
    "execution": {
     "iopub.execute_input": "2024-09-28T10:21:00.410624Z",
     "iopub.status.busy": "2024-09-28T10:21:00.410354Z",
     "iopub.status.idle": "2024-09-28T10:21:02.908150Z",
     "shell.execute_reply": "2024-09-28T10:21:02.907371Z"
    },
    "papermill": {
     "duration": 2.515092,
     "end_time": "2024-09-28T10:21:02.910440",
     "exception": false,
     "start_time": "2024-09-28T10:21:00.395348",
     "status": "completed"
    },
    "tags": []
   },
   "outputs": [],
   "source": [
    "from torchvision import transforms\n",
    "from scipy.ndimage import rotate\n",
    "from skimage.transform import resize\n",
    "from scipy.ndimage import gaussian_filter\n",
    "\n",
    "class RandomRotation3D:\n",
    "    def __init__(self, degrees, axes=(1, 2)):\n",
    "        self.degrees = degrees\n",
    "        self.axes = axes\n",
    "\n",
    "    def __call__(self, sample):\n",
    "        angle = np.random.uniform(-self.degrees, self.degrees)\n",
    "        return rotate(sample, angle, axes=self.axes, reshape=False, order=1, mode='constant', cval=0)\n",
    "\n",
    "class RandomFlip3D:\n",
    "    def __init__(self, axis):\n",
    "        self.axis = axis\n",
    "\n",
    "    def __call__(self, sample):\n",
    "        if np.random.random() > 0.5:\n",
    "            return np.flip(sample, axis=self.axis).copy()\n",
    "        return sample\n",
    "\n",
    "class RandomNoise3D:\n",
    "    def __init__(self, mean=0, std=0.01):\n",
    "        self.mean = mean\n",
    "        self.std = std\n",
    "\n",
    "    def __call__(self, sample):\n",
    "        noise = np.random.normal(self.mean, self.std, sample.shape)\n",
    "        return np.clip(sample + noise, 0, 1)  # Ensure values stay in [0, 1] range\n",
    "\n",
    "class RandomBrightnessContrast3D:\n",
    "    def __init__(self, brightness=0.1, contrast=0.1):\n",
    "        self.brightness = brightness\n",
    "        self.contrast = contrast\n",
    "\n",
    "    def __call__(self, sample):\n",
    "        alpha = 1.0 + np.random.uniform(-self.contrast, self.contrast)\n",
    "        beta = np.random.uniform(-self.brightness, self.brightness)\n",
    "        return np.clip(alpha * sample + beta, 0, 1)\n",
    "\n",
    "class RandomBlur3D:\n",
    "    def __init__(self, sigma=(0.1, 1.0)):\n",
    "        self.sigma = sigma\n",
    "\n",
    "    def __call__(self, sample):\n",
    "        sigma = np.random.uniform(self.sigma[0], self.sigma[1])\n",
    "        return gaussian_filter(sample, sigma=sigma)\n",
    "\n",
    "def get_augmentation_transform():\n",
    "    return transforms.Compose([\n",
    "        RandomRotation3D(degrees=10),\n",
    "        RandomFlip3D(axis=2),\n",
    "        RandomNoise3D(mean=0, std=0.01),\n",
    "        RandomBrightnessContrast3D(brightness=0.05, contrast=0.05),\n",
    "        RandomBlur3D(sigma=(0.1, 0.5)),\n",
    "        transforms.Lambda(lambda x: torch.tensor(x).float())\n",
    "    ])\n",
    "\n",
    "class AugmentedDataset(torch.utils.data.Dataset):\n",
    "    def __init__(self, original_dataset, transform=None, aug_prob=0.5):\n",
    "        self.original_dataset = original_dataset\n",
    "        self.transform = transform\n",
    "        self.aug_prob = aug_prob\n",
    "\n",
    "    def __len__(self):\n",
    "        return len(self.original_dataset)\n",
    "\n",
    "    def __getitem__(self, idx):\n",
    "        sample, label = self.original_dataset[idx]\n",
    "        if self.transform and np.random.random() < self.aug_prob:\n",
    "            sample = self.transform(sample)\n",
    "        return sample, label"
   ]
  },
  {
   "cell_type": "markdown",
   "id": "98849e65",
   "metadata": {
    "papermill": {
     "duration": 0.013909,
     "end_time": "2024-09-28T10:21:02.939330",
     "exception": false,
     "start_time": "2024-09-28T10:21:02.925421",
     "status": "completed"
    },
    "tags": []
   },
   "source": [
    "## CNN Feature Extractor"
   ]
  },
  {
   "cell_type": "code",
   "execution_count": 15,
   "id": "0734b1e0",
   "metadata": {
    "ExecuteTime": {
     "end_time": "2024-09-26T14:06:51.060155Z",
     "start_time": "2024-09-26T14:06:51.045602Z"
    },
    "execution": {
     "iopub.execute_input": "2024-09-28T10:21:02.968455Z",
     "iopub.status.busy": "2024-09-28T10:21:02.967994Z",
     "iopub.status.idle": "2024-09-28T10:21:03.021025Z",
     "shell.execute_reply": "2024-09-28T10:21:03.020351Z"
    },
    "papermill": {
     "duration": 0.06979,
     "end_time": "2024-09-28T10:21:03.022955",
     "exception": false,
     "start_time": "2024-09-28T10:21:02.953165",
     "status": "completed"
    },
    "tags": []
   },
   "outputs": [],
   "source": [
    "def get_train_loader(dicom_dir, patient_scan_labels, batch_size=TRAIN_BATCH_SIZE, shuffle=True):\n",
    "    # Create the original dataset\n",
    "    original_dataset = TrainDatasetGenerator(dicom_dir, patient_scan_labels)\n",
    "    \n",
    "    # Create the augmented dataset\n",
    "    augmented_dataset = AugmentedDataset(original_dataset, transform=get_augmentation_transform())\n",
    "    \n",
    "    # Create and return the DataLoader with the augmented dataset\n",
    "    return DataLoader(\n",
    "        augmented_dataset, \n",
    "        batch_size=batch_size, \n",
    "        shuffle=shuffle, \n",
    "        num_workers=4, \n",
    "        pin_memory=True\n",
    "    )\n",
    "\n",
    "def get_test_loader(dicom_dir, patient_scan_labels, batch_size=TEST_BATCH_SIZE):\n",
    "    test_dataset = TestDatasetGenerator(dicom_dir, patient_scan_labels)\n",
    "    return DataLoader(test_dataset, batch_size=batch_size, shuffle=True, num_workers=4, pin_memory=True)"
   ]
  },
  {
   "cell_type": "markdown",
   "id": "7eac2628",
   "metadata": {
    "papermill": {
     "duration": 0.013593,
     "end_time": "2024-09-28T10:21:03.050482",
     "exception": false,
     "start_time": "2024-09-28T10:21:03.036889",
     "status": "completed"
    },
    "tags": []
   },
   "source": [
    "### Sparse Gaussian Process Regression"
   ]
  },
  {
   "cell_type": "code",
   "execution_count": 16,
   "id": "10485a72",
   "metadata": {
    "ExecuteTime": {
     "end_time": "2024-09-26T14:06:51.150869Z",
     "start_time": "2024-09-26T14:06:51.094633Z"
    },
    "execution": {
     "iopub.execute_input": "2024-09-28T10:21:03.079586Z",
     "iopub.status.busy": "2024-09-28T10:21:03.079248Z",
     "iopub.status.idle": "2024-09-28T10:21:03.132089Z",
     "shell.execute_reply": "2024-09-28T10:21:03.131429Z"
    },
    "papermill": {
     "duration": 0.069625,
     "end_time": "2024-09-28T10:21:03.134060",
     "exception": false,
     "start_time": "2024-09-28T10:21:03.064435",
     "status": "completed"
    },
    "tags": []
   },
   "outputs": [],
   "source": [
    "class SparseGPLayer(ApproximateGP):\n",
    "    def __init__(self, num_inputs, num_inducing=INDUCING_POINTS):\n",
    "        inducing_points = torch.randn(num_inducing, num_inputs)\n",
    "        variational_distribution = CholeskyVariationalDistribution(num_inducing)\n",
    "        variational_strategy = VariationalStrategy(\n",
    "            self, inducing_points, variational_distribution, learn_inducing_locations=True\n",
    "        )\n",
    "        \n",
    "        super(SparseGPLayer, self).__init__(variational_strategy)\n",
    "        \n",
    "        self.mean_module = gpytorch.means.ConstantMean()\n",
    "        self.covar_module = gpytorch.kernels.ScaleKernel(gpytorch.kernels.RBFKernel())\n",
    "        \n",
    "    def forward(self, x):\n",
    "        mean = self.mean_module(x)\n",
    "        covar = self.covar_module(x)\n",
    "        return gpytorch.distributions.MultivariateNormal(mean, covar)"
   ]
  },
  {
   "cell_type": "code",
   "execution_count": 17,
   "id": "f5b9c077",
   "metadata": {
    "ExecuteTime": {
     "end_time": "2024-09-26T14:06:51.182548Z",
     "start_time": "2024-09-26T14:06:51.166342Z"
    },
    "execution": {
     "iopub.execute_input": "2024-09-28T10:21:03.163590Z",
     "iopub.status.busy": "2024-09-28T10:21:03.163051Z",
     "iopub.status.idle": "2024-09-28T10:21:03.214198Z",
     "shell.execute_reply": "2024-09-28T10:21:03.213542Z"
    },
    "papermill": {
     "duration": 0.067769,
     "end_time": "2024-09-28T10:21:03.216124",
     "exception": false,
     "start_time": "2024-09-28T10:21:03.148355",
     "status": "completed"
    },
    "tags": []
   },
   "outputs": [],
   "source": [
    "class SparseGPWrapper(nn.Module):\n",
    "    def __init__(self, num_inputs, num_inducing=INDUCING_POINTS):\n",
    "        super(SparseGPWrapper, self).__init__()\n",
    "        self.gp_layer = SparseGPLayer(num_inputs, num_inducing)\n",
    "        self.likelihood = gpytorch.likelihoods.GaussianLikelihood()\n",
    "        \n",
    "    def forward(self, x):\n",
    "        # Get the GP output\n",
    "        gp_output = self.gp_layer(x)\n",
    "        # Return the mean of the GP output\n",
    "        return self.likelihood(gp_output)"
   ]
  },
  {
   "cell_type": "markdown",
   "id": "2134cc45",
   "metadata": {
    "papermill": {
     "duration": 0.013598,
     "end_time": "2024-09-28T10:21:03.243510",
     "exception": false,
     "start_time": "2024-09-28T10:21:03.229912",
     "status": "completed"
    },
    "tags": []
   },
   "source": [
    "### Attention Layer"
   ]
  },
  {
   "cell_type": "code",
   "execution_count": 18,
   "id": "bd17b55d",
   "metadata": {
    "ExecuteTime": {
     "end_time": "2024-09-26T14:06:51.235970Z",
     "start_time": "2024-09-26T14:06:51.211910Z"
    },
    "execution": {
     "iopub.execute_input": "2024-09-28T10:21:03.272337Z",
     "iopub.status.busy": "2024-09-28T10:21:03.272008Z",
     "iopub.status.idle": "2024-09-28T10:21:03.321088Z",
     "shell.execute_reply": "2024-09-28T10:21:03.320426Z"
    },
    "papermill": {
     "duration": 0.065644,
     "end_time": "2024-09-28T10:21:03.322929",
     "exception": false,
     "start_time": "2024-09-28T10:21:03.257285",
     "status": "completed"
    },
    "tags": []
   },
   "outputs": [],
   "source": [
    "class AttentionLayer(nn.Module):\n",
    "    def __init__(self, input_dim, hidden_dim):\n",
    "        super(AttentionLayer, self).__init__()\n",
    "        self.attention = nn.Sequential(\n",
    "            nn.Linear(input_dim, hidden_dim),\n",
    "            nn.Tanh(),\n",
    "            nn.Linear(hidden_dim, 1)\n",
    "        )\n",
    "\n",
    "    def forward(self, x):\n",
    "        # x shape: (batch_size, num_instances, feature_dim)\n",
    "        attention_weights = self.attention(x)\n",
    "        weights = F.softmax(attention_weights, dim=1)\n",
    "        \n",
    "        return (x * weights).sum(dim=1), weights.squeeze(-1)"
   ]
  },
  {
   "cell_type": "code",
   "execution_count": 19,
   "id": "4820aca8",
   "metadata": {
    "ExecuteTime": {
     "end_time": "2024-09-26T14:06:51.283731Z",
     "start_time": "2024-09-26T14:06:51.262533Z"
    },
    "execution": {
     "iopub.execute_input": "2024-09-28T10:21:03.351988Z",
     "iopub.status.busy": "2024-09-28T10:21:03.351710Z",
     "iopub.status.idle": "2024-09-28T10:21:03.401514Z",
     "shell.execute_reply": "2024-09-28T10:21:03.400832Z"
    },
    "papermill": {
     "duration": 0.06665,
     "end_time": "2024-09-28T10:21:03.403313",
     "exception": false,
     "start_time": "2024-09-28T10:21:03.336663",
     "status": "completed"
    },
    "tags": []
   },
   "outputs": [],
   "source": [
    "class GatedAttention(nn.Module):\n",
    "    def __init__(self, input_dim, hidden_dim):\n",
    "        super(GatedAttention, self).__init__()\n",
    "        self.attention = nn.Sequential(\n",
    "            nn.Linear(input_dim, hidden_dim),\n",
    "            nn.Tanh(),\n",
    "            nn.Linear(hidden_dim, 1)\n",
    "        )\n",
    "        self.gate = nn.Sequential(\n",
    "            nn.Linear(input_dim, hidden_dim),\n",
    "            nn.Tanh(),\n",
    "            nn.Linear(hidden_dim, 1)\n",
    "        )\n",
    "        \n",
    "    def forward(self, x):\n",
    "        # x shape: (batch_size, num_instances, input_dim)\n",
    "        attention_weights = self.attention(x)\n",
    "        gate_weights = torch.sigmoid(self.gate(x))\n",
    "        \n",
    "        weights = attention_weights * gate_weights\n",
    "        weights = F.softmax(weights, dim=1)\n",
    "        \n",
    "        return (x * weights).sum(dim=1), weights.squeeze(-1)"
   ]
  },
  {
   "cell_type": "markdown",
   "id": "625d5b85",
   "metadata": {
    "papermill": {
     "duration": 0.013634,
     "end_time": "2024-09-28T10:21:03.431168",
     "exception": false,
     "start_time": "2024-09-28T10:21:03.417534",
     "status": "completed"
    },
    "tags": []
   },
   "source": [
    "### FocalLoss"
   ]
  },
  {
   "cell_type": "code",
   "execution_count": 20,
   "id": "4bdc63c6",
   "metadata": {
    "execution": {
     "iopub.execute_input": "2024-09-28T10:21:03.459947Z",
     "iopub.status.busy": "2024-09-28T10:21:03.459661Z",
     "iopub.status.idle": "2024-09-28T10:21:03.508803Z",
     "shell.execute_reply": "2024-09-28T10:21:03.507940Z"
    },
    "papermill": {
     "duration": 0.065658,
     "end_time": "2024-09-28T10:21:03.510714",
     "exception": false,
     "start_time": "2024-09-28T10:21:03.445056",
     "status": "completed"
    },
    "tags": []
   },
   "outputs": [],
   "source": [
    "class FocalLoss(nn.Module):\n",
    "    def __init__(self, alpha=0.25, gamma=2):\n",
    "        super(FocalLoss, self).__init__()\n",
    "        self.alpha = alpha\n",
    "        self.gamma = gamma\n",
    "\n",
    "    def forward(self, inputs, targets):\n",
    "        BCE_loss = F.binary_cross_entropy_with_logits(inputs, targets, reduction='none')\n",
    "        pt = torch.exp(-BCE_loss)\n",
    "        F_loss = self.alpha * (1-pt)**self.gamma * BCE_loss\n",
    "        return torch.mean(F_loss)"
   ]
  },
  {
   "cell_type": "markdown",
   "id": "8633967c",
   "metadata": {
    "papermill": {
     "duration": 0.013642,
     "end_time": "2024-09-28T10:21:03.538237",
     "exception": false,
     "start_time": "2024-09-28T10:21:03.524595",
     "status": "completed"
    },
    "tags": []
   },
   "source": [
    "### ResNet3D Model"
   ]
  },
  {
   "cell_type": "markdown",
   "id": "1f18fd72",
   "metadata": {
    "papermill": {
     "duration": 0.013989,
     "end_time": "2024-09-28T10:21:03.566133",
     "exception": false,
     "start_time": "2024-09-28T10:21:03.552144",
     "status": "completed"
    },
    "tags": []
   },
   "source": [
    "#### Basic Block"
   ]
  },
  {
   "cell_type": "code",
   "execution_count": 21,
   "id": "26eefc6b",
   "metadata": {
    "ExecuteTime": {
     "end_time": "2024-09-26T14:06:51.381657Z",
     "start_time": "2024-09-26T14:06:51.364267Z"
    },
    "execution": {
     "iopub.execute_input": "2024-09-28T10:21:03.594969Z",
     "iopub.status.busy": "2024-09-28T10:21:03.594704Z",
     "iopub.status.idle": "2024-09-28T10:21:03.650802Z",
     "shell.execute_reply": "2024-09-28T10:21:03.649959Z"
    },
    "papermill": {
     "duration": 0.072827,
     "end_time": "2024-09-28T10:21:03.652785",
     "exception": false,
     "start_time": "2024-09-28T10:21:03.579958",
     "status": "completed"
    },
    "tags": []
   },
   "outputs": [],
   "source": [
    "class BasicBlock3D(nn.Module):\n",
    "    def __init__(\n",
    "        self, \n",
    "        in_channels: int,\n",
    "        out_channels: int,\n",
    "        stride: int = 1,\n",
    "        expansion: int = 1,\n",
    "        downsample: nn.Module = None,\n",
    "        dropout_rate: float = 0.25,\n",
    "        num_inducing_points: int = INDUCING_POINTS\n",
    "    ) -> None:\n",
    "        super(BasicBlock3D, self).__init__()\n",
    "        self.expansion = expansion\n",
    "        self.downsample = downsample\n",
    "        \n",
    "        self.conv1 = nn.Conv3d(\n",
    "            in_channels, \n",
    "            out_channels, \n",
    "            kernel_size=3, \n",
    "            stride=stride, \n",
    "            padding=1,\n",
    "            bias=False\n",
    "        )\n",
    "        self.bn1 = nn.BatchNorm3d(out_channels)\n",
    "        self.relu = nn.ReLU(inplace=True)\n",
    "        self.dropout = nn.Dropout3d(dropout_rate)\n",
    "        self.conv2 = nn.Conv3d(\n",
    "            out_channels, \n",
    "            out_channels*self.expansion, \n",
    "            kernel_size=3, \n",
    "            stride=1,\n",
    "            padding=1,\n",
    "            bias=False\n",
    "        )\n",
    "        self.bn2 = nn.BatchNorm3d(out_channels*self.expansion)\n",
    "\n",
    "    def forward(self, x: torch.Tensor) -> torch.Tensor:\n",
    "        identity = x\n",
    "        \n",
    "        out = self.relu(self.bn1(self.conv1(x)))\n",
    "        out = self.dropout(out)\n",
    "        \n",
    "        out = self.conv2(out)\n",
    "        out = self.bn2(out)\n",
    "        \n",
    "        if self.downsample is not None:\n",
    "            identity = self.downsample(x)\n",
    "        \n",
    "        out += identity\n",
    "        out = self.relu(out)\n",
    "        \n",
    "        return out"
   ]
  },
  {
   "cell_type": "markdown",
   "id": "2737835d",
   "metadata": {
    "papermill": {
     "duration": 0.013991,
     "end_time": "2024-09-28T10:21:03.716719",
     "exception": false,
     "start_time": "2024-09-28T10:21:03.702728",
     "status": "completed"
    },
    "tags": []
   },
   "source": [
    "#### ResNet3D Model"
   ]
  },
  {
   "cell_type": "code",
   "execution_count": 22,
   "id": "858f8451",
   "metadata": {
    "ExecuteTime": {
     "end_time": "2024-09-26T14:06:51.450173Z",
     "start_time": "2024-09-26T14:06:51.429617Z"
    },
    "execution": {
     "iopub.execute_input": "2024-09-28T10:21:03.758655Z",
     "iopub.status.busy": "2024-09-28T10:21:03.757983Z",
     "iopub.status.idle": "2024-09-28T10:21:03.846672Z",
     "shell.execute_reply": "2024-09-28T10:21:03.845854Z"
    },
    "papermill": {
     "duration": 0.113447,
     "end_time": "2024-09-28T10:21:03.848964",
     "exception": false,
     "start_time": "2024-09-28T10:21:03.735517",
     "status": "completed"
    },
    "tags": []
   },
   "outputs": [],
   "source": [
    "class ResNet3D_MIL(nn.Module):\n",
    "    def __init__(\n",
    "        self, \n",
    "        img_channels: int,\n",
    "        num_layers: int,\n",
    "        block: Type[BasicBlock3D],\n",
    "        num_classes: int = 1,\n",
    "        dropout_rate: float = 0.25,\n",
    "        num_inducing_points = INDUCING_POINTS\n",
    "    ) -> None:\n",
    "        super(ResNet3D_MIL, self).__init__()\n",
    "        \n",
    "        if num_layers == 18:\n",
    "            layers = [2, 2, 2, 2]\n",
    "            self.expansion = 1\n",
    "        elif num_layers == 34:\n",
    "            layers = [3, 4, 6, 3]\n",
    "            self.expansion = 1\n",
    "        elif num_layers == 50:\n",
    "            layers = [3, 4, 6, 3]\n",
    "            self.expansion = 4\n",
    "        else:\n",
    "            raise ValueError(\"Unsupported number of layers\")\n",
    "        \n",
    "        self.in_channels = 16\n",
    "        self.conv1 = nn.Conv3d(\n",
    "            in_channels=img_channels,\n",
    "            out_channels=self.in_channels,\n",
    "            kernel_size=7, \n",
    "            stride=(1, 2, 2),\n",
    "            padding=3,\n",
    "            bias=False\n",
    "        )\n",
    "        self.bn1 = nn.BatchNorm3d(self.in_channels)\n",
    "        self.relu = nn.ReLU(inplace=True)\n",
    "        self.meanpool = nn.AvgPool3d(kernel_size=3, stride=2, padding=1)\n",
    "        \n",
    "        self.layer1 = self._make_layer(block, 32, layers[0], stride=1, dropout_rate=dropout_rate)\n",
    "        self.layer2 = self._make_layer(block, 32, layers[1], stride=2, dropout_rate=dropout_rate)\n",
    "        self.layer3 = self._make_layer(block, 32, layers[2], stride=2, dropout_rate=dropout_rate)\n",
    "        self.layer4 = self._make_layer(block, 32, layers[3], stride=2, dropout_rate=dropout_rate)\n",
    "        \n",
    "        self.avgpool = nn.AdaptiveAvgPool3d((1, 1, 1))\n",
    "        self.feature_dim = 32 * self.expansion\n",
    "        self.gated_attention = GatedAttention(self.feature_dim, 256)\n",
    "        \n",
    "        # Inducing points for Sparse Gaussian Process (example size; adjust as needed)\n",
    "        self.sparse_gp = SparseGPWrapper(num_inputs=self.feature_dim, num_inducing=num_inducing_points)\n",
    "\n",
    "        self.fc = nn.Linear(self.feature_dim + 1, num_classes) # +1 for the GP mean\n",
    "        \n",
    "        self.l2_reg = 1e-5\n",
    "\n",
    "    def _make_layer(\n",
    "        self, \n",
    "        block: Type[BasicBlock3D],\n",
    "        out_channels: int,\n",
    "        blocks: int,\n",
    "        stride: int = 1,\n",
    "        dropout_rate: float = 0.25\n",
    "    ) -> nn.Sequential:\n",
    "        downsample = None\n",
    "        if stride != 1 or self.in_channels != out_channels * self.expansion:\n",
    "            downsample = nn.Sequential(\n",
    "                nn.Conv3d(\n",
    "                    self.in_channels, \n",
    "                    out_channels * self.expansion,\n",
    "                    kernel_size=1,\n",
    "                    stride=stride,\n",
    "                    bias=False \n",
    "                ),\n",
    "                nn.BatchNorm3d(out_channels * self.expansion),\n",
    "            )\n",
    "        \n",
    "        layers = []\n",
    "        layers.append(\n",
    "            block(\n",
    "                self.in_channels, out_channels, stride, self.expansion, downsample, dropout_rate\n",
    "            )\n",
    "        )\n",
    "        self.in_channels = out_channels * self.expansion\n",
    "        for _ in range(1, blocks):\n",
    "            layers.append(block(\n",
    "                self.in_channels,\n",
    "                out_channels,\n",
    "                expansion=self.expansion,\n",
    "                dropout_rate=dropout_rate\n",
    "            ))\n",
    "        \n",
    "        return nn.Sequential(*layers)\n",
    "\n",
    "    def forward(self, x: torch.Tensor) -> torch.Tensor:\n",
    "        assert x.dim() == 6, f\"Expected 6D input (batch_size, num_instances, depth, height, width, channels), but got {x.dim()}D input; x.shape={x.shape}\"\n",
    "        batch_size, num_instances, d, h, w, c = x.size()\n",
    "\n",
    "        out = x.view(batch_size * num_instances, c, d, h, w)\n",
    "        # print(f'After initial reshape: {out.shape}')\n",
    "\n",
    "        out = self.conv1(out)\n",
    "        out = self.bn1(out)\n",
    "        out = self.relu(out)\n",
    "        out = self.meanpool(out)\n",
    "\n",
    "        out = self.layer1(out)\n",
    "        out = self.layer2(out)\n",
    "        out = self.layer3(out)\n",
    "        out = self.layer4(out)\n",
    "\n",
    "        out = self.avgpool(out)\n",
    "        out = torch.flatten(out, 1)\n",
    "        # print(f'After flattening: {out.shape}')\n",
    "\n",
    "        out = out.view(batch_size, num_instances, -1)\n",
    "        # print(f'After reshaping to (batch, instances, features): {out.shape}')\n",
    "\n",
    "        attention_out, attention_weights = self.gated_attention(out)\n",
    "        # print(f'Attention output shape: {attention_out.shape}')\n",
    "\n",
    "        gp_out = self.sparse_gp(out.view(-1, self.feature_dim))\n",
    "        # Extract the mean from the MultivariateNormal distribution\n",
    "        gp_mean = gp_out.mean.view(batch_size, num_instances, -1)\n",
    "        gp_mean = torch.mean(gp_mean, dim=1)\n",
    "        # print(f'GP mean shape: {gp_mean.shape}')\n",
    "\n",
    "        combined_out = torch.cat((attention_out, gp_mean), dim=-1)\n",
    "        # print(f'Combined output shape: {combined_out.shape}')\n",
    "\n",
    "        out = self.fc(combined_out)\n",
    "        # print(f'Final output shape: {out.shape}')\n",
    "\n",
    "        assert out.shape == (batch_size, self.fc.out_features), f\"Expected output shape (batch_size, {self.fc.out_features}), but got {out.shape}\"\n",
    "\n",
    "        return out\n",
    "\n",
    "    def get_l2_reg(self):\n",
    "        l2_reg = 0.0\n",
    "        for param in self.parameters():\n",
    "            l2_reg += torch.norm(param, p=2)\n",
    "        return self.l2_reg * l2_reg\n",
    "    \n",
    "def ResNet3D18_MIL(img_channels: int = 3, num_classes: int = 1, dropout_rate: float = 0.25, num_inducing_points=INDUCING_POINTS):\n",
    "    return ResNet3D_MIL(img_channels, 18, BasicBlock3D, num_classes, dropout_rate, num_inducing_points)\n",
    "\n",
    "def ResNet3D34_MIL(img_channels: int = 3, num_classes: int = 1, dropout_rate: float = 0.25, num_inducing_points=INDUCING_POINTS):\n",
    "    return ResNet3D_MIL(img_channels, 34, BasicBlock3D, num_classes, dropout_rate, num_inducing_points)\n",
    "\n",
    "def ResNet3D50_MIL(img_channels: int = 3, num_classes: int = 1, dropout_rate: float = 0.25, num_inducing_points=INDUCING_POINTS):\n",
    "    return ResNet3D_MIL(img_channels, 50, BasicBlock3D, num_classes, dropout_rate, num_inducing_points)"
   ]
  },
  {
   "cell_type": "markdown",
   "id": "4f88e51d",
   "metadata": {
    "papermill": {
     "duration": 0.014726,
     "end_time": "2024-09-28T10:21:03.878879",
     "exception": false,
     "start_time": "2024-09-28T10:21:03.864153",
     "status": "completed"
    },
    "tags": []
   },
   "source": [
    "## Training and Evaluation"
   ]
  },
  {
   "cell_type": "markdown",
   "id": "583431b1",
   "metadata": {
    "papermill": {
     "duration": 0.014697,
     "end_time": "2024-09-28T10:21:03.908450",
     "exception": false,
     "start_time": "2024-09-28T10:21:03.893753",
     "status": "completed"
    },
    "tags": []
   },
   "source": [
    "### Training"
   ]
  },
  {
   "cell_type": "code",
   "execution_count": 23,
   "id": "c875ccbc",
   "metadata": {
    "ExecuteTime": {
     "end_time": "2024-09-26T14:06:51.496475Z",
     "start_time": "2024-09-26T14:06:51.472936Z"
    },
    "execution": {
     "iopub.execute_input": "2024-09-28T10:21:03.939839Z",
     "iopub.status.busy": "2024-09-28T10:21:03.939508Z",
     "iopub.status.idle": "2024-09-28T10:21:04.002743Z",
     "shell.execute_reply": "2024-09-28T10:21:04.002048Z"
    },
    "papermill": {
     "duration": 0.081513,
     "end_time": "2024-09-28T10:21:04.004673",
     "exception": false,
     "start_time": "2024-09-28T10:21:03.923160",
     "status": "completed"
    },
    "tags": []
   },
   "outputs": [],
   "source": [
    "def train_epoch(model, data_loader, criterion, optimizer, scheduler, device):\n",
    "    \"\"\"Train the model for one epoch.\"\"\"\n",
    "    model.train()\n",
    "    total_loss = 0.0\n",
    "    predictions = []\n",
    "    labels = []\n",
    "\n",
    "    for batch_data, batch_labels in data_loader:\n",
    "        batch_data = batch_data.to(device)\n",
    "        batch_labels = batch_labels.float().to(device)\n",
    "\n",
    "        optimizer.zero_grad()\n",
    "        outputs = model(batch_data).squeeze()\n",
    "        loss = criterion(outputs, batch_labels) + model.get_l2_reg()\n",
    "        loss.backward()\n",
    "        optimizer.step()\n",
    "        scheduler.step()\n",
    "\n",
    "        total_loss += loss.item()\n",
    "        predictions.extend((outputs > 0).cpu().numpy())\n",
    "        labels.extend(batch_labels.cpu().numpy())\n",
    "\n",
    "    return total_loss / len(data_loader), predictions, labels\n",
    "\n",
    "def validate(model, data_loader, criterion, device):\n",
    "    \"\"\"Validate the model.\"\"\"\n",
    "    model.eval()\n",
    "    total_loss = 0.0\n",
    "    predictions = []\n",
    "    labels = []\n",
    "\n",
    "    with torch.no_grad():\n",
    "        for batch_data, batch_labels in data_loader:\n",
    "            batch_data = batch_data.to(device)\n",
    "            batch_labels = batch_labels.float().to(device)\n",
    "\n",
    "            outputs = model(batch_data).squeeze()\n",
    "            loss = criterion(outputs, batch_labels)\n",
    "\n",
    "            total_loss += loss.item()\n",
    "            predictions.extend((outputs > 0).cpu().numpy())\n",
    "            labels.extend(batch_labels.cpu().numpy())\n",
    "\n",
    "    return total_loss / len(data_loader) , predictions, labels\n",
    "\n",
    "def calculate_metrics(predictions, labels):\n",
    "    \"\"\"Calculate and return performance metrics.\"\"\"\n",
    "    return {\n",
    "        \"accuracy\": accuracy_score(labels, predictions),\n",
    "        \"precision\": precision_score(labels, predictions),\n",
    "        \"recall\": recall_score(labels, predictions),\n",
    "        \"f1\": f1_score(labels, predictions)\n",
    "    }\n",
    "\n",
    "def print_epoch_stats(epoch, num_epochs, phase, loss, metrics):\n",
    "    \"\"\"Print statistics for an epoch.\"\"\"\n",
    "    print(f\"Epoch {epoch+1}/{num_epochs} - {phase.capitalize()}:\")\n",
    "    print(f\"Loss: {loss:.4f}, Accuracy: {metrics['accuracy']:.4f}, \"\n",
    "          f\"Precision: {metrics['precision']:.4f}, Recall: {metrics['recall']:.4f}, \"\n",
    "          f\"F1: {metrics['f1']:.4f}\")\n",
    "\n",
    "def train_model(model, train_loader, val_loader, criterion, optimizer, num_epochs, learning_rate, device='cuda'):\n",
    "    \"\"\"Train the model and return the best model based on validation accuracy.\"\"\"\n",
    "    model = model.to(device)\n",
    "    scheduler = optim.lr_scheduler.OneCycleLR(optimizer, max_lr=learning_rate, \n",
    "                                              steps_per_epoch=len(train_loader), epochs=num_epochs)\n",
    "\n",
    "    best_val_accuracy = 0.0\n",
    "    best_model_state = None\n",
    "\n",
    "    for epoch in range(num_epochs):\n",
    "        # Training phase\n",
    "        train_loss, train_predictions, train_labels = train_epoch(model, train_loader, criterion, optimizer, scheduler, device)\n",
    "        train_metrics = calculate_metrics(train_predictions, train_labels)\n",
    "        print_epoch_stats(epoch, num_epochs, \"train\", train_loss, train_metrics)\n",
    "\n",
    "        # Validation phase\n",
    "        val_loss, val_predictions, val_labels = validate(model, val_loader, criterion, device)\n",
    "        val_metrics = calculate_metrics(val_predictions, val_labels)\n",
    "        print_epoch_stats(epoch, num_epochs, \"validation\", val_loss, val_metrics)\n",
    "\n",
    "        # Save best model\n",
    "        if val_metrics['accuracy'] > best_val_accuracy:\n",
    "            best_val_accuracy = val_metrics['accuracy']\n",
    "            best_model_state = model.state_dict()\n",
    "\n",
    "    # Load best model\n",
    "    model.load_state_dict(best_model_state)\n",
    "    return model"
   ]
  },
  {
   "cell_type": "markdown",
   "id": "10780f1d",
   "metadata": {
    "papermill": {
     "duration": 0.013826,
     "end_time": "2024-09-28T10:21:04.032638",
     "exception": false,
     "start_time": "2024-09-28T10:21:04.018812",
     "status": "completed"
    },
    "tags": []
   },
   "source": [
    "### Evaluation Functions"
   ]
  },
  {
   "cell_type": "code",
   "execution_count": 24,
   "id": "9a4b3250",
   "metadata": {
    "ExecuteTime": {
     "end_time": "2024-09-26T14:06:51.552789Z",
     "start_time": "2024-09-26T14:06:51.524906Z"
    },
    "execution": {
     "iopub.execute_input": "2024-09-28T10:21:04.061665Z",
     "iopub.status.busy": "2024-09-28T10:21:04.061354Z",
     "iopub.status.idle": "2024-09-28T10:21:04.115314Z",
     "shell.execute_reply": "2024-09-28T10:21:04.114427Z"
    },
    "papermill": {
     "duration": 0.070765,
     "end_time": "2024-09-28T10:21:04.117289",
     "exception": false,
     "start_time": "2024-09-28T10:21:04.046524",
     "status": "completed"
    },
    "tags": []
   },
   "outputs": [],
   "source": [
    "## Model Evaluation Functions\n",
    "def evaluate_model(model, data_loader, device='cuda'):\n",
    "    \"\"\"Evaluate the model on the given data loader.\"\"\"\n",
    "    model = model.to(device)\n",
    "    model.eval()\n",
    "    predictions = []\n",
    "    labels = []\n",
    "\n",
    "    with torch.no_grad():\n",
    "        for batch_data, batch_labels in data_loader:\n",
    "            batch_data = batch_data.to(device)\n",
    "            batch_labels = batch_labels.float().to(device)\n",
    "\n",
    "            outputs = model(batch_data).squeeze()\n",
    "            predictions.extend((outputs > 0).cpu().numpy())\n",
    "            labels.extend(batch_labels.cpu().numpy())\n",
    "\n",
    "    return np.array(predictions), np.array(labels)\n",
    "\n",
    "def print_metrics(metrics):\n",
    "    \"\"\"Print the calculated metrics.\"\"\"\n",
    "    print(f\"Test Accuracy: {metrics['accuracy']:.4f}, \"\n",
    "          f\"Precision: {metrics['precision']:.4f}, \"\n",
    "          f\"Recall: {metrics['recall']:.4f}, \"\n",
    "          f\"F1: {metrics['f1']:.4f}\")"
   ]
  },
  {
   "cell_type": "markdown",
   "id": "2e97ad6f",
   "metadata": {
    "papermill": {
     "duration": 0.013714,
     "end_time": "2024-09-28T10:21:04.144783",
     "exception": false,
     "start_time": "2024-09-28T10:21:04.131069",
     "status": "completed"
    },
    "tags": []
   },
   "source": [
    "### Visualization Functions"
   ]
  },
  {
   "cell_type": "code",
   "execution_count": 25,
   "id": "34e160b0",
   "metadata": {
    "ExecuteTime": {
     "end_time": "2024-09-26T14:32:36.802512Z",
     "start_time": "2024-09-26T14:32:36.786903Z"
    },
    "execution": {
     "iopub.execute_input": "2024-09-28T10:21:04.173898Z",
     "iopub.status.busy": "2024-09-28T10:21:04.173629Z",
     "iopub.status.idle": "2024-09-28T10:21:04.228859Z",
     "shell.execute_reply": "2024-09-28T10:21:04.228192Z"
    },
    "papermill": {
     "duration": 0.07212,
     "end_time": "2024-09-28T10:21:04.230783",
     "exception": false,
     "start_time": "2024-09-28T10:21:04.158663",
     "status": "completed"
    },
    "tags": []
   },
   "outputs": [],
   "source": [
    "## Visualization Functions\n",
    "def plot_roc_curve(model, data_loader, device):\n",
    "    \"\"\"Plot the ROC curve for the model predictions.\"\"\"\n",
    "    # predictions, labels = evaluate_model(model, data_loader, device)\n",
    "    \n",
    "    model.eval()\n",
    "    labels = []\n",
    "    predictions = []\n",
    "    with torch.no_grad():\n",
    "        for batch_data, batch_labels in data_loader:\n",
    "            batch_data = batch_data.to(device)\n",
    "            batch_labels = batch_labels.float().to(device)\n",
    "\n",
    "            outputs = model(batch_data).squeeze()\n",
    "            predictions.extend(outputs.cpu().numpy())\n",
    "            labels.extend(batch_labels.cpu().numpy())\n",
    "            \n",
    "    fpr, tpr, _ = roc_curve(labels, predictions)\n",
    "    roc_auc = auc(fpr, tpr)\n",
    "    \n",
    "    plt.figure()\n",
    "    plt.plot(fpr, tpr, color='darkorange', lw=2, label=f'ROC curve (AUC = {roc_auc:.2f})')\n",
    "    plt.plot([0, 1], [0, 1], color='navy', lw=2, linestyle='--')\n",
    "    plt.xlim([0.0, 1.0])\n",
    "    plt.ylim([0.0, 1.05])\n",
    "    plt.xlabel('False Positive Rate')\n",
    "    plt.ylabel('True Positive Rate')\n",
    "    plt.title('Receiver Operating Characteristic (ROC) Curve')\n",
    "    plt.legend(loc=\"lower right\")\n",
    "    plt.show()\n",
    "\n",
    "def plot_confusion_matrix(model, data_loader, device):\n",
    "    \"\"\"Plot the confusion matrix for the model predictions.\"\"\"\n",
    "    predictions, labels = evaluate_model(model, data_loader, device)\n",
    "    \n",
    "    cm = confusion_matrix(labels, predictions)\n",
    "    disp = ConfusionMatrixDisplay(confusion_matrix=cm)\n",
    "    disp.plot()\n",
    "    plt.title('Confusion Matrix')\n",
    "    plt.show()"
   ]
  },
  {
   "cell_type": "markdown",
   "id": "c8dde715",
   "metadata": {
    "papermill": {
     "duration": 0.013649,
     "end_time": "2024-09-28T10:21:04.258255",
     "exception": false,
     "start_time": "2024-09-28T10:21:04.244606",
     "status": "completed"
    },
    "tags": []
   },
   "source": [
    "### Data Processing Functions"
   ]
  },
  {
   "cell_type": "code",
   "execution_count": 26,
   "id": "ab96ce32",
   "metadata": {
    "ExecuteTime": {
     "end_time": "2024-09-26T14:06:51.650533Z",
     "start_time": "2024-09-26T14:06:51.627710Z"
    },
    "execution": {
     "iopub.execute_input": "2024-09-28T10:21:04.287048Z",
     "iopub.status.busy": "2024-09-28T10:21:04.286786Z",
     "iopub.status.idle": "2024-09-28T10:21:04.339530Z",
     "shell.execute_reply": "2024-09-28T10:21:04.338858Z"
    },
    "papermill": {
     "duration": 0.069226,
     "end_time": "2024-09-28T10:21:04.341349",
     "exception": false,
     "start_time": "2024-09-28T10:21:04.272123",
     "status": "completed"
    },
    "tags": []
   },
   "outputs": [],
   "source": [
    "## Data Processing Functions\n",
    "def load_model(model_class, model_path):\n",
    "    \"\"\"Load a trained model from a file.\"\"\"\n",
    "    if not os.path.exists(model_path):\n",
    "        raise FileNotFoundError(f\"Model file not found at {model_path}\")\n",
    "\n",
    "    model = model_class()\n",
    "    try:\n",
    "        state_dict = torch.load(model_path, map_location=torch.device('cuda'), weights_only=True)\n",
    "        if not state_dict:\n",
    "            raise ValueError(f\"The state dictionary loaded from {model_path} is empty\")\n",
    "        model.load_state_dict(state_dict)\n",
    "    except Exception as e:\n",
    "        print(f\"Error loading model from {model_path}: {str(e)}\")\n",
    "        print(\"Initializing model with random weights instead.\")\n",
    "        return model  # Return the model with random initialization\n",
    "\n",
    "    return model.eval()\n",
    "\n",
    "\n",
    "def get_test_results(model, test_loader, test_labels):\n",
    "    \"\"\"Get test results including patient information.\"\"\"\n",
    "    predictions, _ = evaluate_model(model, test_loader)\n",
    "    \n",
    "    results = []\n",
    "    for i, row in enumerate(test_labels.itertuples(index=False)):\n",
    "        result = {col: getattr(row, col) for col in test_labels.columns}\n",
    "        result['prediction'] = predictions[i]\n",
    "        results.append(result)\n",
    "    \n",
    "    return pd.DataFrame(results)"
   ]
  },
  {
   "cell_type": "markdown",
   "id": "f7f37562",
   "metadata": {
    "papermill": {
     "duration": 0.013672,
     "end_time": "2024-09-28T10:21:04.369156",
     "exception": false,
     "start_time": "2024-09-28T10:21:04.355484",
     "status": "completed"
    },
    "tags": []
   },
   "source": [
    "## Main"
   ]
  },
  {
   "cell_type": "code",
   "execution_count": 27,
   "id": "b0934dc6",
   "metadata": {
    "ExecuteTime": {
     "end_time": "2024-09-26T14:33:28.926765Z",
     "start_time": "2024-09-26T14:33:01.988863Z"
    },
    "execution": {
     "iopub.execute_input": "2024-09-28T10:21:04.398457Z",
     "iopub.status.busy": "2024-09-28T10:21:04.397905Z",
     "iopub.status.idle": "2024-09-28T13:10:58.417496Z",
     "shell.execute_reply": "2024-09-28T13:10:58.416295Z"
    },
    "papermill": {
     "duration": 10194.0545,
     "end_time": "2024-09-28T13:10:58.437703",
     "exception": false,
     "start_time": "2024-09-28T10:21:04.383203",
     "status": "completed"
    },
    "tags": []
   },
   "outputs": [
    {
     "name": "stdout",
     "output_type": "stream",
     "text": [
      "Epoch 1/20 - Train:\n",
      "Loss: 0.0666, Accuracy: 0.5000, Precision: 0.5000, Recall: 1.0000, F1: 0.6667\n",
      "Epoch 1/20 - Validation:\n",
      "Loss: 0.0453, Accuracy: 0.5000, Precision: 0.5000, Recall: 1.0000, F1: 0.6667\n",
      "Epoch 2/20 - Train:\n",
      "Loss: 0.0474, Accuracy: 0.4829, Precision: 0.4888, Recall: 0.7514, F1: 0.5923\n",
      "Epoch 2/20 - Validation:\n",
      "Loss: 0.0433, Accuracy: 0.5000, Precision: 0.5000, Recall: 0.0667, F1: 0.1176\n",
      "Epoch 3/20 - Train:\n",
      "Loss: 0.0462, Accuracy: 0.5171, Precision: 0.5140, Recall: 0.6286, F1: 0.5656\n",
      "Epoch 3/20 - Validation:\n",
      "Loss: 0.0430, Accuracy: 0.4933, Precision: 0.4783, Recall: 0.1467, F1: 0.2245\n",
      "Epoch 4/20 - Train:\n",
      "Loss: 0.0461, Accuracy: 0.5057, Precision: 0.5047, Recall: 0.6171, F1: 0.5553\n",
      "Epoch 4/20 - Validation:\n",
      "Loss: 0.0423, Accuracy: 0.5467, Precision: 0.5289, Recall: 0.8533, F1: 0.6531\n",
      "Epoch 5/20 - Train:\n",
      "Loss: 0.0458, Accuracy: 0.5200, Precision: 0.5143, Recall: 0.7200, F1: 0.6000\n",
      "Epoch 5/20 - Validation:\n",
      "Loss: 0.0439, Accuracy: 0.4667, Precision: 0.4000, Recall: 0.1333, F1: 0.2000\n",
      "Epoch 6/20 - Train:\n",
      "Loss: 0.0457, Accuracy: 0.5557, Precision: 0.5494, Recall: 0.6200, F1: 0.5826\n",
      "Epoch 6/20 - Validation:\n",
      "Loss: 0.0455, Accuracy: 0.5400, Precision: 0.5312, Recall: 0.6800, F1: 0.5965\n",
      "Epoch 7/20 - Train:\n",
      "Loss: 0.0456, Accuracy: 0.5429, Precision: 0.5362, Recall: 0.6343, F1: 0.5812\n",
      "Epoch 7/20 - Validation:\n",
      "Loss: 0.0431, Accuracy: 0.5133, Precision: 0.5312, Recall: 0.2267, F1: 0.3178\n",
      "Epoch 8/20 - Train:\n",
      "Loss: 0.0452, Accuracy: 0.5743, Precision: 0.5813, Recall: 0.5314, F1: 0.5552\n",
      "Epoch 8/20 - Validation:\n",
      "Loss: 0.0426, Accuracy: 0.5533, Precision: 0.5625, Recall: 0.4800, F1: 0.5180\n",
      "Epoch 9/20 - Train:\n",
      "Loss: 0.0447, Accuracy: 0.5771, Precision: 0.5722, Recall: 0.6114, F1: 0.5912\n",
      "Epoch 9/20 - Validation:\n",
      "Loss: 0.0456, Accuracy: 0.5333, Precision: 0.5258, Recall: 0.6800, F1: 0.5930\n",
      "Epoch 10/20 - Train:\n",
      "Loss: 0.0446, Accuracy: 0.5771, Precision: 0.5662, Recall: 0.6600, F1: 0.6095\n",
      "Epoch 10/20 - Validation:\n",
      "Loss: 0.0420, Accuracy: 0.5467, Precision: 0.5333, Recall: 0.7467, F1: 0.6222\n",
      "Epoch 11/20 - Train:\n",
      "Loss: 0.0443, Accuracy: 0.5743, Precision: 0.5743, Recall: 0.5743, F1: 0.5743\n",
      "Epoch 11/20 - Validation:\n",
      "Loss: 0.0453, Accuracy: 0.5133, Precision: 0.5074, Recall: 0.9200, F1: 0.6540\n",
      "Epoch 12/20 - Train:\n",
      "Loss: 0.0437, Accuracy: 0.6114, Precision: 0.6043, Recall: 0.6457, F1: 0.6243\n",
      "Epoch 12/20 - Validation:\n",
      "Loss: 0.0404, Accuracy: 0.6533, Precision: 0.6825, Recall: 0.5733, F1: 0.6232\n",
      "Epoch 13/20 - Train:\n",
      "Loss: 0.0424, Accuracy: 0.6314, Precision: 0.6353, Recall: 0.6171, F1: 0.6261\n",
      "Epoch 13/20 - Validation:\n",
      "Loss: 0.0454, Accuracy: 0.6333, Precision: 0.8125, Recall: 0.3467, F1: 0.4860\n",
      "Epoch 14/20 - Train:\n",
      "Loss: 0.0425, Accuracy: 0.6300, Precision: 0.6289, Recall: 0.6343, F1: 0.6316\n",
      "Epoch 14/20 - Validation:\n",
      "Loss: 0.0423, Accuracy: 0.5933, Precision: 0.5714, Recall: 0.7467, F1: 0.6474\n",
      "Epoch 15/20 - Train:\n",
      "Loss: 0.0418, Accuracy: 0.6414, Precision: 0.6394, Recall: 0.6486, F1: 0.6440\n",
      "Epoch 15/20 - Validation:\n",
      "Loss: 0.0408, Accuracy: 0.5867, Precision: 0.5631, Recall: 0.7733, F1: 0.6517\n",
      "Epoch 16/20 - Train:\n",
      "Loss: 0.0419, Accuracy: 0.6657, Precision: 0.6737, Recall: 0.6429, F1: 0.6579\n",
      "Epoch 16/20 - Validation:\n",
      "Loss: 0.0416, Accuracy: 0.5933, Precision: 0.6250, Recall: 0.4667, F1: 0.5344\n",
      "Epoch 17/20 - Train:\n",
      "Loss: 0.0430, Accuracy: 0.6257, Precision: 0.6140, Recall: 0.6771, F1: 0.6440\n",
      "Epoch 17/20 - Validation:\n",
      "Loss: 0.0411, Accuracy: 0.6400, Precision: 0.6265, Recall: 0.6933, F1: 0.6582\n",
      "Epoch 18/20 - Train:\n",
      "Loss: 0.0420, Accuracy: 0.6557, Precision: 0.6562, Recall: 0.6543, F1: 0.6552\n",
      "Epoch 18/20 - Validation:\n",
      "Loss: 0.0418, Accuracy: 0.6400, Precision: 0.6329, Recall: 0.6667, F1: 0.6494\n",
      "Epoch 19/20 - Train:\n",
      "Loss: 0.0418, Accuracy: 0.6314, Precision: 0.6353, Recall: 0.6171, F1: 0.6261\n",
      "Epoch 19/20 - Validation:\n",
      "Loss: 0.0392, Accuracy: 0.6800, Precision: 0.6753, Recall: 0.6933, F1: 0.6842\n",
      "Epoch 20/20 - Train:\n",
      "Loss: 0.0409, Accuracy: 0.6629, Precision: 0.6696, Recall: 0.6429, F1: 0.6560\n",
      "Epoch 20/20 - Validation:\n",
      "Loss: 0.0404, Accuracy: 0.6600, Precision: 0.6622, Recall: 0.6533, F1: 0.6577\n",
      "Test Accuracy: 0.6667, Precision: 0.7049, Recall: 0.5733, F1: 0.6324\n"
     ]
    },
    {
     "data": {
      "image/png": "[encoded data removed]",
      "text/plain": [
       "<Figure size 640x480 with 1 Axes>"
      ]
     },
     "metadata": {},
     "output_type": "display_data"
    },
    {
     "data": {
      "image/png": "[encoded data removed]",
      "text/plain": [
       "<Figure size 640x480 with 2 Axes>"
      ]
     },
     "metadata": {},
     "output_type": "display_data"
    },
    {
     "name": "stdout",
     "output_type": "stream",
     "text": [
      "    patient_id study_instance_uid  label  prediction\n",
      "0  ID_0748e0c1      ID_286183702b      0       False\n",
      "1  ID_1528ff50      ID_5d0a50f3db      1        True\n",
      "2  ID_07d4f582      ID_8b1137e5bc      0        True\n",
      "3  ID_03131dd0      ID_a4ed78f57e      0       False\n",
      "4  ID_05e0a4a1      ID_9dd14f9fa3      1       False\n"
     ]
    }
   ],
   "source": [
    "## Main Execution\n",
    "def main():\n",
    "    train_labels, val_labels, test_labels = split_dataset(patient_scan_labels, test_size=TEST_SIZE)\n",
    "    train_loader = get_train_loader(dicom_dir, train_labels, batch_size=TRAIN_BATCH_SIZE)\n",
    "    val_loader = get_train_loader(dicom_dir, val_labels, batch_size=VALID_BATCH_SIZE)\n",
    "    test_loader = get_test_loader(dicom_dir, test_labels, batch_size=TEST_BATCH_SIZE)\n",
    "    \n",
    "    # Initialize model, criterion, and optimizer\n",
    "    model = ResNet3D18_MIL()  # Assuming this is your model class\n",
    "    # criterion = torch.nn.BCEWithLogitsLoss()  # Binary Cross Entropy Loss\n",
    "    criterion = FocalLoss()\n",
    "    optimizer = optim.Adam(model.parameters(), lr=LEARNING_RATE)\n",
    "    \n",
    "    # Train model\n",
    "    trained_model = train_model(model, train_loader, val_loader, criterion, optimizer, NUM_EPOCHS, LEARNING_RATE, DEVICE)\n",
    "    \n",
    "    # Save model\n",
    "    torch.save(trained_model.state_dict(), MODEL_PATH)\n",
    "    \n",
    "    # Load best model\n",
    "    trained_model = load_model(ResNet3D18_MIL, MODEL_PATH)\n",
    "\n",
    "    # Evaluate model\n",
    "    predictions, labels = evaluate_model(trained_model, test_loader, DEVICE)\n",
    "    metrics = calculate_metrics(predictions, labels)\n",
    "    print_metrics(metrics)\n",
    "    \n",
    "    # Visualizations\n",
    "    plot_roc_curve(trained_model, test_loader, DEVICE)\n",
    "    plot_confusion_matrix(trained_model, test_loader, DEVICE)\n",
    "\n",
    "    # Select only the required columns\n",
    "    required_columns = ['patient_id', 'study_instance_uid', 'label']\n",
    "    test_labels = test_labels[required_columns]\n",
    "    \n",
    "    # Save results\n",
    "    results_df = get_test_results(trained_model, test_loader, test_labels)\n",
    "    results_df.to_csv('results.csv', index=False)\n",
    "    print(results_df.head())\n",
    "\n",
    "\n",
    "if __name__ == \"__main__\":\n",
    "    main()"
   ]
  },
  {
   "cell_type": "markdown",
   "id": "90b52ac8",
   "metadata": {
    "papermill": {
     "duration": 0.018464,
     "end_time": "2024-09-28T13:10:58.474407",
     "exception": false,
     "start_time": "2024-09-28T13:10:58.455943",
     "status": "completed"
    },
    "tags": []
   },
   "source": [
    "## Visualizing Attention Weights and Images"
   ]
  },
  {
   "cell_type": "markdown",
   "id": "bce4a5f5",
   "metadata": {
    "papermill": {
     "duration": 0.01791,
     "end_time": "2024-09-28T13:10:58.510461",
     "exception": false,
     "start_time": "2024-09-28T13:10:58.492551",
     "status": "completed"
    },
    "tags": []
   },
   "source": [
    "### Show Attention Weights and Images for a Single Patient"
   ]
  },
  {
   "cell_type": "code",
   "execution_count": 28,
   "id": "df14ff68",
   "metadata": {
    "ExecuteTime": {
     "end_time": "2024-09-26T14:25:27.269464Z",
     "start_time": "2024-09-26T14:25:27.253461Z"
    },
    "execution": {
     "iopub.execute_input": "2024-09-28T13:10:58.549028Z",
     "iopub.status.busy": "2024-09-28T13:10:58.548039Z",
     "iopub.status.idle": "2024-09-28T13:10:58.612387Z",
     "shell.execute_reply": "2024-09-28T13:10:58.611481Z"
    },
    "papermill": {
     "duration": 0.085605,
     "end_time": "2024-09-28T13:10:58.614248",
     "exception": false,
     "start_time": "2024-09-28T13:10:58.528643",
     "status": "completed"
    },
    "tags": []
   },
   "outputs": [],
   "source": [
    "# Function to test a single patient\n",
    "def test_single_patient(model, patient_data):\n",
    "    model.eval()\n",
    "    with torch.no_grad():\n",
    "        for batch_data, batch_labels in patient_data:\n",
    "            batch_data = batch_data.to(device)  # Move data to device\n",
    "            outputs, gated_attention = model(batch_data)  # Get outputs and attention weights\n",
    "            outputs = outputs.squeeze()  # Remove extra dimension\n",
    "            \n",
    "            predictions = (outputs > 0).cpu().numpy()\n",
    "            \n",
    "            print(\"Predictions:\", predictions)\n",
    "            print(\"Labels: \", batch_labels.cpu().numpy())\n",
    "            # Print attention weights\n",
    "            attention_weights_np = gated_attention.cpu().numpy()  # Move to CPU for easier handling\n",
    "            print(\"Attention Weights for Slides:\")\n",
    "            \n",
    "            for i in range(attention_weights_np.shape[1]):  # Iterate over instances/slides\n",
    "                print(f'Slide {i+1}: Attention Weight: {attention_weights_np[0][i][0]}')  # Print weight for each slide\n",
    "                \n",
    "            # Plot the images\n",
    "            plot_images(batch_data[0].cpu(), batch_labels[0].cpu())\n",
    "            \n",
    "            break  # Only test one patient"
   ]
  },
  {
   "cell_type": "code",
   "execution_count": 29,
   "id": "99a435c6",
   "metadata": {
    "ExecuteTime": {
     "end_time": "2024-09-26T14:25:27.309580Z",
     "start_time": "2024-09-26T14:25:27.295662Z"
    },
    "execution": {
     "iopub.execute_input": "2024-09-28T13:10:58.651639Z",
     "iopub.status.busy": "2024-09-28T13:10:58.651331Z",
     "iopub.status.idle": "2024-09-28T13:10:58.704866Z",
     "shell.execute_reply": "2024-09-28T13:10:58.703980Z"
    },
    "papermill": {
     "duration": 0.074488,
     "end_time": "2024-09-28T13:10:58.706860",
     "exception": false,
     "start_time": "2024-09-28T13:10:58.632372",
     "status": "completed"
    },
    "tags": []
   },
   "outputs": [],
   "source": [
    "def plot_images(images, labels):\n",
    "    print(images.shape)\n",
    "    batch_size, num_images_per_batch, height, width, channels = images.shape\n",
    "    images = images.view(batch_size * num_images_per_batch, height, width, channels)\n",
    "    \n",
    "    print(f'Images shape: {images.shape}')\n",
    "    num_images = images.size(0) \n",
    "    images = images.numpy()\n",
    "    \n",
    "    plt.figure(figsize=(15, 15))\n",
    "    \n",
    "    for i in range(num_images):\n",
    "        plt.subplot(8, 8, i + 1)\n",
    "        plt.imshow(images[i], cmap='gray')\n",
    "        plt.title(f'Image {i + 1}')\n",
    "        plt.axis('off')\n",
    "    \n",
    "    plt.tight_layout() \n",
    "    plt.show()\n",
    "    \n",
    "# # Call the function with the test_loader\n",
    "# test_loader = get_test_loader(dicom_dir, test_labels, batch_size=2)\n",
    "# test_single_patient(trained_model, test_loader)"
   ]
  }
 ],
 "metadata": {
  "kaggle": {
   "accelerator": "gpu",
   "dataSources": [
    {
     "datasetId": 5705276,
     "sourceId": 9450447,
     "sourceType": "datasetVersion"
    }
   ],
   "dockerImageVersionId": 30762,
   "isGpuEnabled": true,
   "isInternetEnabled": true,
   "language": "python",
   "sourceType": "notebook"
  },
  "kernelspec": {
   "display_name": "Python 3",
   "language": "python",
   "name": "python3"
  },
  "language_info": {
   "codemirror_mode": {
    "name": "ipython",
    "version": 3
   },
   "file_extension": ".py",
   "mimetype": "text/x-python",
   "name": "python",
   "nbconvert_exporter": "python",
   "pygments_lexer": "ipython3",
   "version": "3.10.14"
  },
  "papermill": {
   "default_parameters": {},
   "duration": 10235.01019,
   "end_time": "2024-09-28T13:11:03.240288",
   "environment_variables": {},
   "exception": null,
   "input_path": "__notebook__.ipynb",
   "output_path": "__notebook__.ipynb",
   "parameters": {},
   "start_time": "2024-09-28T10:20:28.230098",
   "version": "2.6.0"
  }
 },
 "nbformat": 4,
 "nbformat_minor": 5
}
