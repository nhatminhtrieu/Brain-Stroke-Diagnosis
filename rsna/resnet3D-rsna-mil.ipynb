{
 "cells": [
  {
   "cell_type": "markdown",
   "id": "17f73b18",
   "metadata": {
    "papermill": {
     "duration": 0.01516,
     "end_time": "2024-09-27T11:48:29.670445",
     "exception": false,
     "start_time": "2024-09-27T11:48:29.655285",
     "status": "completed"
    },
    "tags": []
   },
   "source": [
    "## Library"
   ]
  },
  {
   "cell_type": "code",
   "execution_count": 1,
   "id": "ad0bba25",
   "metadata": {
    "ExecuteTime": {
     "end_time": "2024-09-26T14:06:49.153031Z",
     "start_time": "2024-09-26T14:06:48.559249Z"
    },
    "execution": {
     "iopub.execute_input": "2024-09-27T11:48:29.699489Z",
     "iopub.status.busy": "2024-09-27T11:48:29.699080Z",
     "iopub.status.idle": "2024-09-27T11:48:45.343242Z",
     "shell.execute_reply": "2024-09-27T11:48:45.342267Z"
    },
    "papermill": {
     "duration": 15.661773,
     "end_time": "2024-09-27T11:48:45.345868",
     "exception": false,
     "start_time": "2024-09-27T11:48:29.684095",
     "status": "completed"
    },
    "tags": []
   },
   "outputs": [
    {
     "name": "stdout",
     "output_type": "stream",
     "text": [
      "Collecting gpytorch\r\n",
      "  Downloading gpytorch-1.13-py3-none-any.whl.metadata (8.0 kB)\r\n",
      "Collecting jaxtyping==0.2.19 (from gpytorch)\r\n",
      "  Downloading jaxtyping-0.2.19-py3-none-any.whl.metadata (5.7 kB)\r\n",
      "Requirement already satisfied: mpmath<=1.3,>=0.19 in /opt/conda/lib/python3.10/site-packages (from gpytorch) (1.3.0)\r\n",
      "Requirement already satisfied: scikit-learn in /opt/conda/lib/python3.10/site-packages (from gpytorch) (1.2.2)\r\n",
      "Requirement already satisfied: scipy>=1.6.0 in /opt/conda/lib/python3.10/site-packages (from gpytorch) (1.14.0)\r\n",
      "Collecting linear-operator>=0.5.3 (from gpytorch)\r\n",
      "  Downloading linear_operator-0.5.3-py3-none-any.whl.metadata (15 kB)\r\n",
      "Requirement already satisfied: numpy>=1.20.0 in /opt/conda/lib/python3.10/site-packages (from jaxtyping==0.2.19->gpytorch) (1.26.4)\r\n",
      "Requirement already satisfied: typeguard>=2.13.3 in /opt/conda/lib/python3.10/site-packages (from jaxtyping==0.2.19->gpytorch) (4.3.0)\r\n",
      "Requirement already satisfied: typing-extensions>=3.7.4.1 in /opt/conda/lib/python3.10/site-packages (from jaxtyping==0.2.19->gpytorch) (4.12.2)\r\n",
      "Requirement already satisfied: torch>=1.11 in /opt/conda/lib/python3.10/site-packages (from linear-operator>=0.5.3->gpytorch) (2.4.0)\r\n",
      "Requirement already satisfied: joblib>=1.1.1 in /opt/conda/lib/python3.10/site-packages (from scikit-learn->gpytorch) (1.4.2)\r\n",
      "Requirement already satisfied: threadpoolctl>=2.0.0 in /opt/conda/lib/python3.10/site-packages (from scikit-learn->gpytorch) (3.5.0)\r\n",
      "Requirement already satisfied: filelock in /opt/conda/lib/python3.10/site-packages (from torch>=1.11->linear-operator>=0.5.3->gpytorch) (3.15.1)\r\n",
      "Requirement already satisfied: sympy in /opt/conda/lib/python3.10/site-packages (from torch>=1.11->linear-operator>=0.5.3->gpytorch) (1.13.2)\r\n",
      "Requirement already satisfied: networkx in /opt/conda/lib/python3.10/site-packages (from torch>=1.11->linear-operator>=0.5.3->gpytorch) (3.3)\r\n",
      "Requirement already satisfied: jinja2 in /opt/conda/lib/python3.10/site-packages (from torch>=1.11->linear-operator>=0.5.3->gpytorch) (3.1.4)\r\n",
      "Requirement already satisfied: fsspec in /opt/conda/lib/python3.10/site-packages (from torch>=1.11->linear-operator>=0.5.3->gpytorch) (2024.6.1)\r\n",
      "Requirement already satisfied: MarkupSafe>=2.0 in /opt/conda/lib/python3.10/site-packages (from jinja2->torch>=1.11->linear-operator>=0.5.3->gpytorch) (2.1.5)\r\n",
      "Downloading gpytorch-1.13-py3-none-any.whl (277 kB)\r\n",
      "\u001b[2K   \u001b[90m━━━━━━━━━━━━━━━━━━━━━━━━━━━━━━━━━━━━━━━━\u001b[0m \u001b[32m277.8/277.8 kB\u001b[0m \u001b[31m6.3 MB/s\u001b[0m eta \u001b[36m0:00:00\u001b[0m\r\n",
      "\u001b[?25hDownloading jaxtyping-0.2.19-py3-none-any.whl (24 kB)\r\n",
      "Downloading linear_operator-0.5.3-py3-none-any.whl (176 kB)\r\n",
      "\u001b[2K   \u001b[90m━━━━━━━━━━━━━━━━━━━━━━━━━━━━━━━━━━━━━━━━\u001b[0m \u001b[32m176.4/176.4 kB\u001b[0m \u001b[31m15.3 MB/s\u001b[0m eta \u001b[36m0:00:00\u001b[0m\r\n",
      "\u001b[?25hInstalling collected packages: jaxtyping, linear-operator, gpytorch\r\n",
      "Successfully installed gpytorch-1.13 jaxtyping-0.2.19 linear-operator-0.5.3\r\n"
     ]
    }
   ],
   "source": [
    "!pip install gpytorch"
   ]
  },
  {
   "cell_type": "code",
   "execution_count": 2,
   "id": "a95bf25e",
   "metadata": {
    "ExecuteTime": {
     "end_time": "2024-09-26T14:06:50.423796Z",
     "start_time": "2024-09-26T14:06:49.159734Z"
    },
    "execution": {
     "iopub.execute_input": "2024-09-27T11:48:45.378720Z",
     "iopub.status.busy": "2024-09-27T11:48:45.378332Z",
     "iopub.status.idle": "2024-09-27T11:48:52.272403Z",
     "shell.execute_reply": "2024-09-27T11:48:52.271575Z"
    },
    "papermill": {
     "duration": 6.912689,
     "end_time": "2024-09-27T11:48:52.274715",
     "exception": false,
     "start_time": "2024-09-27T11:48:45.362026",
     "status": "completed"
    },
    "tags": []
   },
   "outputs": [],
   "source": [
    "import os\n",
    "import matplotlib.pyplot as plt\n",
    "import numpy as np\n",
    "import pandas as pd\n",
    "import pydicom\n",
    "from tqdm import tqdm\n",
    "from skimage.transform import resize\n",
    "import cv2\n",
    "from typing import Type\n",
    "\n",
    "from sklearn.model_selection import train_test_split\n",
    "from sklearn.metrics import roc_curve, auc\n",
    "from sklearn.metrics import accuracy_score, precision_score, recall_score, f1_score\n",
    "from sklearn.metrics import confusion_matrix, ConfusionMatrixDisplay\n",
    "\n",
    "import torch\n",
    "import torch.nn as nn\n",
    "from torch.utils.data import Dataset, DataLoader\n",
    "import torch.optim as optim\n",
    "import torch.nn.functional as F\n",
    "\n",
    "import gpytorch\n",
    "from gpytorch.models import ApproximateGP\n",
    "from gpytorch.variational import CholeskyVariationalDistribution\n",
    "from gpytorch.variational import VariationalStrategy\n",
    "\n",
    "os.environ['PYTORCH_CUDA_ALLOC_CONF'] = 'expandable_segments:True'"
   ]
  },
  {
   "cell_type": "code",
   "execution_count": 3,
   "id": "45cf9272",
   "metadata": {
    "ExecuteTime": {
     "end_time": "2024-09-26T14:06:50.447428Z",
     "start_time": "2024-09-26T14:06:50.445775Z"
    },
    "execution": {
     "iopub.execute_input": "2024-09-27T11:48:52.306595Z",
     "iopub.status.busy": "2024-09-27T11:48:52.305752Z",
     "iopub.status.idle": "2024-09-27T11:48:52.310629Z",
     "shell.execute_reply": "2024-09-27T11:48:52.309729Z"
    },
    "papermill": {
     "duration": 0.022839,
     "end_time": "2024-09-27T11:48:52.312493",
     "exception": false,
     "start_time": "2024-09-27T11:48:52.289654",
     "status": "completed"
    },
    "tags": []
   },
   "outputs": [],
   "source": [
    "import warnings\n",
    "from sklearn.exceptions import UndefinedMetricWarning\n",
    "\n",
    "warnings.filterwarnings(\"ignore\", category=RuntimeWarning)\n",
    "warnings.filterwarnings(\"ignore\", category=UndefinedMetricWarning)"
   ]
  },
  {
   "cell_type": "markdown",
   "id": "eb29180e",
   "metadata": {
    "papermill": {
     "duration": 0.015373,
     "end_time": "2024-09-27T11:48:52.342863",
     "exception": false,
     "start_time": "2024-09-27T11:48:52.327490",
     "status": "completed"
    },
    "tags": []
   },
   "source": [
    "## Init GPU"
   ]
  },
  {
   "cell_type": "code",
   "execution_count": 4,
   "id": "7af8b980",
   "metadata": {
    "ExecuteTime": {
     "end_time": "2024-09-26T14:06:50.549359Z",
     "start_time": "2024-09-26T14:06:50.495507Z"
    },
    "execution": {
     "iopub.execute_input": "2024-09-27T11:48:52.374423Z",
     "iopub.status.busy": "2024-09-27T11:48:52.373660Z",
     "iopub.status.idle": "2024-09-27T11:48:52.486115Z",
     "shell.execute_reply": "2024-09-27T11:48:52.484969Z"
    },
    "papermill": {
     "duration": 0.130674,
     "end_time": "2024-09-27T11:48:52.488195",
     "exception": false,
     "start_time": "2024-09-27T11:48:52.357521",
     "status": "completed"
    },
    "tags": []
   },
   "outputs": [
    {
     "name": "stdout",
     "output_type": "stream",
     "text": [
      "GPU: Tesla T4 is available.\n",
      "cuda\n"
     ]
    }
   ],
   "source": [
    "# Initialize GPU Device\n",
    "device = torch.device('cuda' if torch.cuda.is_available() else 'cpu')\n",
    "\n",
    "if torch.cuda.is_available():\n",
    "    print(f\"GPU: {torch.cuda.get_device_name(0)} is available.\")\n",
    "else:\n",
    "    print(\"No GPU available. Training will run on CPU.\")\n",
    "\n",
    "print(device)"
   ]
  },
  {
   "cell_type": "code",
   "execution_count": 5,
   "id": "6fc39d26",
   "metadata": {
    "ExecuteTime": {
     "end_time": "2024-09-26T14:06:50.618691Z",
     "start_time": "2024-09-26T14:06:50.599434Z"
    },
    "execution": {
     "iopub.execute_input": "2024-09-27T11:48:52.520146Z",
     "iopub.status.busy": "2024-09-27T11:48:52.519361Z",
     "iopub.status.idle": "2024-09-27T11:48:52.573796Z",
     "shell.execute_reply": "2024-09-27T11:48:52.572951Z"
    },
    "papermill": {
     "duration": 0.072572,
     "end_time": "2024-09-27T11:48:52.576100",
     "exception": false,
     "start_time": "2024-09-27T11:48:52.503528",
     "status": "completed"
    },
    "tags": []
   },
   "outputs": [],
   "source": [
    "%load_ext autoreload\n",
    "%autoreload 2"
   ]
  },
  {
   "cell_type": "markdown",
   "id": "29b3ba26",
   "metadata": {
    "papermill": {
     "duration": 0.014374,
     "end_time": "2024-09-27T11:48:52.606274",
     "exception": false,
     "start_time": "2024-09-27T11:48:52.591900",
     "status": "completed"
    },
    "tags": []
   },
   "source": [
    "## Config Info"
   ]
  },
  {
   "cell_type": "code",
   "execution_count": 6,
   "id": "2db46219",
   "metadata": {
    "ExecuteTime": {
     "end_time": "2024-09-26T14:06:50.668118Z",
     "start_time": "2024-09-26T14:06:50.645478Z"
    },
    "execution": {
     "iopub.execute_input": "2024-09-27T11:48:52.637700Z",
     "iopub.status.busy": "2024-09-27T11:48:52.636855Z",
     "iopub.status.idle": "2024-09-27T11:48:52.682098Z",
     "shell.execute_reply": "2024-09-27T11:48:52.681273Z"
    },
    "papermill": {
     "duration": 0.063755,
     "end_time": "2024-09-27T11:48:52.684390",
     "exception": false,
     "start_time": "2024-09-27T11:48:52.620635",
     "status": "completed"
    },
    "tags": []
   },
   "outputs": [],
   "source": [
    "# Constants\n",
    "HEIGHT = 224\n",
    "WIDTH = 224\n",
    "CHANNELS = 3\n",
    "\n",
    "TRAIN_BATCH_SIZE = 8\n",
    "VALID_BATCH_SIZE = 4\n",
    "TEST_BATCH_SIZE = 4\n",
    "TEST_SIZE = 0.15\n",
    "VALID_SIZE = 0.15\n",
    "\n",
    "MAX_SLICES = 60\n",
    "SHAPE = (HEIGHT, WIDTH, CHANNELS)\n",
    "\n",
    "NUM_EPOCHS = 20\n",
    "LEARNING_RATE = 2e-3\n",
    "INDUCING_POINTS = 128\n",
    "\n",
    "# TARGET_LABELS = ['any', 'epidural', 'intraparenchymal', 'intraventricular', 'subarachnoid', 'subdural']\n",
    "TARGET_LABELS = ['intraparenchymal']\n",
    "\n",
    "MODEL_PATH = 'trained_model.pth'\n",
    "DEVICE = 'cuda'"
   ]
  },
  {
   "cell_type": "code",
   "execution_count": 7,
   "id": "c0f888e0",
   "metadata": {
    "ExecuteTime": {
     "end_time": "2024-09-26T14:06:50.716904Z",
     "start_time": "2024-09-26T14:06:50.694455Z"
    },
    "execution": {
     "iopub.execute_input": "2024-09-27T11:48:52.715639Z",
     "iopub.status.busy": "2024-09-27T11:48:52.715236Z",
     "iopub.status.idle": "2024-09-27T11:48:52.776458Z",
     "shell.execute_reply": "2024-09-27T11:48:52.775269Z"
    },
    "papermill": {
     "duration": 0.079588,
     "end_time": "2024-09-27T11:48:52.778693",
     "exception": false,
     "start_time": "2024-09-27T11:48:52.699105",
     "status": "completed"
    },
    "tags": []
   },
   "outputs": [
    {
     "name": "stdout",
     "output_type": "stream",
     "text": [
      "Running on Kaggle\n"
     ]
    }
   ],
   "source": [
    "# Kaggle and local switch\n",
    "KAGGLE = os.path.exists('/kaggle')\n",
    "print(\"Running on Kaggle\" if KAGGLE else \"Running locally\")\n",
    "\n",
    "DATA_DIR = '/kaggle/input/' if KAGGLE else '../rsna-mil-training/'\n",
    "DICOM_DIR = DATA_DIR + 'rsna-mil-training/'\n",
    "CSV_PATH = DATA_DIR + 'training_1000_scan_subset.csv' if KAGGLE else './data_analyze/training_1000_scan_subset.csv'\n",
    "\n",
    "dicom_dir = DICOM_DIR if KAGGLE else DATA_DIR\n",
    "# Load patient scan labels\n",
    "patient_scan_labels = pd.read_csv(CSV_PATH)"
   ]
  },
  {
   "cell_type": "markdown",
   "id": "e9b16816",
   "metadata": {
    "papermill": {
     "duration": 0.014283,
     "end_time": "2024-09-27T11:48:52.809490",
     "exception": false,
     "start_time": "2024-09-27T11:48:52.795207",
     "status": "completed"
    },
    "tags": []
   },
   "source": [
    "## Data Preprocessing"
   ]
  },
  {
   "cell_type": "code",
   "execution_count": 8,
   "id": "ad603d5d",
   "metadata": {
    "ExecuteTime": {
     "end_time": "2024-09-26T14:06:50.760578Z",
     "start_time": "2024-09-26T14:06:50.744851Z"
    },
    "execution": {
     "iopub.execute_input": "2024-09-27T11:48:52.841337Z",
     "iopub.status.busy": "2024-09-27T11:48:52.840976Z",
     "iopub.status.idle": "2024-09-27T11:48:52.891832Z",
     "shell.execute_reply": "2024-09-27T11:48:52.890804Z"
    },
    "papermill": {
     "duration": 0.069434,
     "end_time": "2024-09-27T11:48:52.894278",
     "exception": false,
     "start_time": "2024-09-27T11:48:52.824844",
     "status": "completed"
    },
    "tags": []
   },
   "outputs": [],
   "source": [
    "def correct_dcm(dcm):\n",
    "    x = dcm.pixel_array + 1000\n",
    "    px_mode = 4096\n",
    "    x[x>=px_mode] = x[x>=px_mode] - px_mode\n",
    "    dcm.PixelData = x.tobytes()\n",
    "    dcm.RescaleIntercept = -1000\n",
    "\n",
    "def window_image(dcm, window_center, window_width):    \n",
    "    if (dcm.BitsStored == 12) and (dcm.PixelRepresentation == 0) and (int(dcm.RescaleIntercept) > -100):\n",
    "        correct_dcm(dcm)\n",
    "    img = dcm.pixel_array * dcm.RescaleSlope + dcm.RescaleIntercept\n",
    "    \n",
    "    # Resize\n",
    "    img = cv2.resize(img, SHAPE[:2], interpolation = cv2.INTER_LINEAR)\n",
    "   \n",
    "    img_min = window_center - window_width // 2\n",
    "    img_max = window_center + window_width // 2\n",
    "    img = np.clip(img, img_min, img_max)\n",
    "    return img\n",
    "\n",
    "def bsb_window(dcm):\n",
    "    brain_img = window_image(dcm, 40, 80)\n",
    "    subdural_img = window_image(dcm, 80, 200)\n",
    "    soft_img = window_image(dcm, 40, 380)\n",
    "    \n",
    "    brain_img = (brain_img - 0) / 80\n",
    "    subdural_img = (subdural_img - (-20)) / 200\n",
    "    soft_img = (soft_img - (-150)) / 380\n",
    "    \n",
    "    bsb_img = np.stack([brain_img, subdural_img, soft_img], axis=-1)\n",
    "    return bsb_img.astype(np.float16)"
   ]
  },
  {
   "cell_type": "code",
   "execution_count": 9,
   "id": "690fabc9",
   "metadata": {
    "ExecuteTime": {
     "end_time": "2024-09-26T14:06:50.811026Z",
     "start_time": "2024-09-26T14:06:50.790932Z"
    },
    "execution": {
     "iopub.execute_input": "2024-09-27T11:48:52.927417Z",
     "iopub.status.busy": "2024-09-27T11:48:52.926596Z",
     "iopub.status.idle": "2024-09-27T11:48:52.973292Z",
     "shell.execute_reply": "2024-09-27T11:48:52.972314Z"
    },
    "papermill": {
     "duration": 0.065448,
     "end_time": "2024-09-27T11:48:52.975592",
     "exception": false,
     "start_time": "2024-09-27T11:48:52.910144",
     "status": "completed"
    },
    "tags": []
   },
   "outputs": [],
   "source": [
    "def preprocess_slice(slice, target_size=(HEIGHT, WIDTH)):\n",
    "    # Check if type of slice is dicom or an empty numpy array\n",
    "    if (type(slice) == np.ndarray):\n",
    "        slice = resize(slice, target_size, anti_aliasing=True)\n",
    "        multichannel_slice = np.stack([slice, slice, slice], axis=-1)\n",
    "        return multichannel_slice.astype(np.float16)\n",
    "    else:\n",
    "        slice = bsb_window(slice)\n",
    "        return slice.astype(np.float16)"
   ]
  },
  {
   "cell_type": "code",
   "execution_count": 10,
   "id": "ac0e8f14",
   "metadata": {
    "ExecuteTime": {
     "end_time": "2024-09-26T14:06:50.865850Z",
     "start_time": "2024-09-26T14:06:50.841576Z"
    },
    "execution": {
     "iopub.execute_input": "2024-09-27T11:48:53.007143Z",
     "iopub.status.busy": "2024-09-27T11:48:53.006232Z",
     "iopub.status.idle": "2024-09-27T11:48:53.053161Z",
     "shell.execute_reply": "2024-09-27T11:48:53.052400Z"
    },
    "papermill": {
     "duration": 0.064772,
     "end_time": "2024-09-27T11:48:53.055229",
     "exception": false,
     "start_time": "2024-09-27T11:48:52.990457",
     "status": "completed"
    },
    "tags": []
   },
   "outputs": [],
   "source": [
    "def read_dicom_folder(folder_path):\n",
    "    slices = []\n",
    "    for filename in sorted(os.listdir(folder_path))[:MAX_SLICES]:  # Limit to MAX_SLICES\n",
    "        if filename.endswith(\".dcm\"):\n",
    "            file_path = os.path.join(folder_path, filename)\n",
    "            ds = pydicom.dcmread(file_path)\n",
    "            slices.append(ds)\n",
    "            \n",
    "    # Sort slices by images position (z-coordinate) in ascending order\n",
    "    slices = sorted(slices, key=lambda x: float(x.ImagePositionPatient[2]))\n",
    "    \n",
    "    # Pad with black images if necessary\n",
    "    while len(slices) < MAX_SLICES:\n",
    "        slices.append(np.zeros_like(slices[0].pixel_array))\n",
    "    \n",
    "    return slices[:MAX_SLICES]  # Ensure we return exactly MAX_SLICES"
   ]
  },
  {
   "cell_type": "markdown",
   "id": "c0453ad9",
   "metadata": {
    "papermill": {
     "duration": 0.014789,
     "end_time": "2024-09-27T11:48:53.084802",
     "exception": false,
     "start_time": "2024-09-27T11:48:53.070013",
     "status": "completed"
    },
    "tags": []
   },
   "source": [
    "## Dataset and DataLoader"
   ]
  },
  {
   "cell_type": "markdown",
   "id": "1e2d2c5f",
   "metadata": {
    "papermill": {
     "duration": 0.014044,
     "end_time": "2024-09-27T11:48:53.113692",
     "exception": false,
     "start_time": "2024-09-27T11:48:53.099648",
     "status": "completed"
    },
    "tags": []
   },
   "source": [
    "### Splitting the Dataset"
   ]
  },
  {
   "cell_type": "code",
   "execution_count": 11,
   "id": "065cda45",
   "metadata": {
    "ExecuteTime": {
     "end_time": "2024-09-26T14:06:50.919343Z",
     "start_time": "2024-09-26T14:06:50.893626Z"
    },
    "execution": {
     "iopub.execute_input": "2024-09-27T11:48:53.144265Z",
     "iopub.status.busy": "2024-09-27T11:48:53.143440Z",
     "iopub.status.idle": "2024-09-27T11:48:53.190731Z",
     "shell.execute_reply": "2024-09-27T11:48:53.189961Z"
    },
    "papermill": {
     "duration": 0.064864,
     "end_time": "2024-09-27T11:48:53.192771",
     "exception": false,
     "start_time": "2024-09-27T11:48:53.127907",
     "status": "completed"
    },
    "tags": []
   },
   "outputs": [],
   "source": [
    "def split_dataset(patient_scan_labels, test_size=TEST_SIZE, val_size=VALID_SIZE, random_state=42):\n",
    "    # If any of the hemorrhage indicators is 1, the label is 1, otherwise 0\n",
    "    patient_scan_labels['label'] = patient_scan_labels[['any', 'epidural', 'intraparenchymal', 'intraventricular', 'subarachnoid', 'subdural']].any(axis=1).astype(int)\n",
    "\n",
    "    # Extract the labels from the DataFrame\n",
    "    labels = patient_scan_labels['label']\n",
    "\n",
    "    # First, split off the test set\n",
    "    train_val_labels, test_labels = train_test_split(\n",
    "        patient_scan_labels, \n",
    "        test_size=test_size, \n",
    "        stratify=labels, \n",
    "        random_state=random_state\n",
    "    )\n",
    "\n",
    "    # Calculate the validation size relative to the train_val set\n",
    "    val_size_adjusted = val_size / (1 - test_size)\n",
    "\n",
    "    # Split the train_val set into train and validation sets\n",
    "    train_labels, val_labels = train_test_split(\n",
    "        train_val_labels, \n",
    "        test_size=val_size_adjusted, \n",
    "        stratify=train_val_labels['label'], \n",
    "        random_state=random_state\n",
    "    )\n",
    "\n",
    "    return train_labels, val_labels, test_labels"
   ]
  },
  {
   "cell_type": "markdown",
   "id": "cd87ecd2",
   "metadata": {
    "papermill": {
     "duration": 0.015084,
     "end_time": "2024-09-27T11:48:53.222865",
     "exception": false,
     "start_time": "2024-09-27T11:48:53.207781",
     "status": "completed"
    },
    "tags": []
   },
   "source": [
    "### Processing the Data"
   ]
  },
  {
   "cell_type": "code",
   "execution_count": 12,
   "id": "d297896b",
   "metadata": {
    "ExecuteTime": {
     "end_time": "2024-09-26T14:06:50.964443Z",
     "start_time": "2024-09-26T14:06:50.945254Z"
    },
    "execution": {
     "iopub.execute_input": "2024-09-27T11:48:53.256511Z",
     "iopub.status.busy": "2024-09-27T11:48:53.256114Z",
     "iopub.status.idle": "2024-09-27T11:48:53.307646Z",
     "shell.execute_reply": "2024-09-27T11:48:53.306759Z"
    },
    "papermill": {
     "duration": 0.07083,
     "end_time": "2024-09-27T11:48:53.309974",
     "exception": false,
     "start_time": "2024-09-27T11:48:53.239144",
     "status": "completed"
    },
    "tags": []
   },
   "outputs": [],
   "source": [
    "def process_patient_data(dicom_dir, row, num_instances=12, depth=5):\n",
    "    patient_id = row['patient_id'].replace('ID_', '')\n",
    "    study_instance_uid = row['study_instance_uid'].replace('ID_', '')\n",
    "    \n",
    "    folder_name = f\"{patient_id}_{study_instance_uid}\"\n",
    "    folder_path = os.path.join(dicom_dir, folder_name)\n",
    "    \n",
    "    if os.path.exists(folder_path):\n",
    "        slices = read_dicom_folder(folder_path)\n",
    "        \n",
    "        # Ensure we have enough slices to create the specified instances\n",
    "        if len(slices) < depth * num_instances:\n",
    "            print(f\"Not enough slices for patient {patient_id}: found {len(slices)}, needed {depth * num_instances}\")\n",
    "            return None, None\n",
    "        \n",
    "        preprocessed_slices = [preprocess_slice(slice) for slice in slices]\n",
    "        \n",
    "        # Stack preprocessed slices into an array\n",
    "        preprocessed_slices = np.stack(preprocessed_slices, axis=0)  # (num_slices, height, width, channels)\n",
    "        \n",
    "        # Reshape to (num_instances, depth, height, width, channels)\n",
    "        reshaped_slices = preprocessed_slices[:num_instances * depth].reshape(num_instances, depth, *preprocessed_slices.shape[1:])  # (num_instances, depth, height, width, channels)\n",
    "        \n",
    "        # Labeling remains consistent  \n",
    "        label = 1 if row[['any', 'epidural', 'intraparenchymal', 'intraventricular', 'subarachnoid', 'subdural']].any() else 0\n",
    "        \n",
    "        return reshaped_slices, label\n",
    "    \n",
    "    else:\n",
    "        print(f\"Folder not found: {folder_path}\")\n",
    "        return None, None"
   ]
  },
  {
   "cell_type": "code",
   "execution_count": 13,
   "id": "7f22e731",
   "metadata": {
    "ExecuteTime": {
     "end_time": "2024-09-26T14:06:51.014008Z",
     "start_time": "2024-09-26T14:06:50.995437Z"
    },
    "execution": {
     "iopub.execute_input": "2024-09-27T11:48:53.345265Z",
     "iopub.status.busy": "2024-09-27T11:48:53.344832Z",
     "iopub.status.idle": "2024-09-27T11:48:53.398429Z",
     "shell.execute_reply": "2024-09-27T11:48:53.397454Z"
    },
    "papermill": {
     "duration": 0.074031,
     "end_time": "2024-09-27T11:48:53.400899",
     "exception": false,
     "start_time": "2024-09-27T11:48:53.326868",
     "status": "completed"
    },
    "tags": []
   },
   "outputs": [],
   "source": [
    "class TrainDatasetGenerator(Dataset):\n",
    "    \"\"\"\n",
    "    A custom dataset class for training data.\n",
    "    \"\"\"\n",
    "    def __init__(self, data_dir, patient_scan_labels):\n",
    "        self.data_dir = data_dir\n",
    "        self.patient_scan_labels = patient_scan_labels\n",
    "\n",
    "    def __len__(self):\n",
    "        return len(self.patient_scan_labels)\n",
    "\n",
    "    def __getitem__(self, idx):\n",
    "        row = self.patient_scan_labels.iloc[idx]\n",
    "        preprocessed_slices, label = process_patient_data(self.data_dir, row)\n",
    "        \n",
    "        if preprocessed_slices is not None:\n",
    "            # Convert the list of numpy arrays to a single numpy array\n",
    "            preprocessed_slices = np.array(preprocessed_slices)  # Convert to numpy array\n",
    "            return torch.tensor(preprocessed_slices, dtype=torch.float32), torch.tensor(label, dtype=torch.long)\n",
    "        else:\n",
    "            return None, None  # Handle the case where the folder is not found\n",
    "\n",
    "class TestDatasetGenerator(Dataset):\n",
    "    \"\"\"\n",
    "    A custom dataset class for testing data.\n",
    "    \"\"\"\n",
    "    def __init__(self, data_dir, patient_scan_labels):\n",
    "        self.data_dir = data_dir\n",
    "        self.patient_scan_labels = patient_scan_labels\n",
    "\n",
    "    def __len__(self):\n",
    "        return len(self.patient_scan_labels)\n",
    "\n",
    "    def __getitem__(self, idx):\n",
    "        row = self.patient_scan_labels.iloc[idx]\n",
    "        preprocessed_slices, label = process_patient_data(self.data_dir, row)\n",
    "        \n",
    "        if preprocessed_slices is not None:\n",
    "            # Convert the list of numpy arrays to a single numpy array\n",
    "            preprocessed_slices = np.array(preprocessed_slices)  # Convert to numpy array\n",
    "            return torch.tensor(preprocessed_slices, dtype=torch.float32), torch.tensor(label, dtype=torch.long)\n",
    "        else:\n",
    "            return None, None  # Handle the case where the folder is not found"
   ]
  },
  {
   "cell_type": "markdown",
   "id": "c88eb13a",
   "metadata": {
    "papermill": {
     "duration": 0.015946,
     "end_time": "2024-09-27T11:48:53.433378",
     "exception": false,
     "start_time": "2024-09-27T11:48:53.417432",
     "status": "completed"
    },
    "tags": []
   },
   "source": [
    "## Data augmentation"
   ]
  },
  {
   "cell_type": "code",
   "execution_count": 14,
   "id": "097813d2",
   "metadata": {
    "execution": {
     "iopub.execute_input": "2024-09-27T11:48:53.465010Z",
     "iopub.status.busy": "2024-09-27T11:48:53.464645Z",
     "iopub.status.idle": "2024-09-27T11:48:55.140036Z",
     "shell.execute_reply": "2024-09-27T11:48:55.139178Z"
    },
    "papermill": {
     "duration": 1.694088,
     "end_time": "2024-09-27T11:48:55.142375",
     "exception": false,
     "start_time": "2024-09-27T11:48:53.448287",
     "status": "completed"
    },
    "tags": []
   },
   "outputs": [],
   "source": [
    "import numpy as np\n",
    "import torch\n",
    "from torchvision import transforms\n",
    "from scipy.ndimage import rotate\n",
    "\n",
    "class RandomRotation3D:\n",
    "    def __init__(self, degrees):\n",
    "        self.degrees = degrees\n",
    "\n",
    "    def __call__(self, sample):\n",
    "        angle = np.random.uniform(-self.degrees, self.degrees)\n",
    "        return rotate(sample, angle, axes=(1, 2), reshape=False)\n",
    "\n",
    "class RandomFlip3D:\n",
    "    def __init__(self, axis):\n",
    "        self.axis = axis\n",
    "\n",
    "    def __call__(self, sample):\n",
    "        return np.flip(sample, axis=self.axis).copy()\n",
    "\n",
    "class RandomNoise3D:\n",
    "    def __init__(self, mean=0, std=0.1):\n",
    "        self.mean = mean\n",
    "        self.std = std\n",
    "\n",
    "    def __call__(self, sample):\n",
    "        noise = np.random.normal(self.mean, self.std, sample.shape)\n",
    "        return sample + noise\n",
    "\n",
    "def get_augmentation_transform():\n",
    "    return transforms.Compose([\n",
    "        RandomRotation3D(degrees=15),\n",
    "        RandomFlip3D(axis=2),\n",
    "        RandomNoise3D(mean=0, std=0.05),\n",
    "        transforms.Lambda(lambda x: torch.tensor(x).float())\n",
    "    ])\n",
    "\n",
    "class AugmentedDataset(torch.utils.data.Dataset):\n",
    "    def __init__(self, original_dataset, transform=None):\n",
    "        self.original_dataset = original_dataset\n",
    "        self.transform = transform\n",
    "\n",
    "    def __len__(self):\n",
    "        return len(self.original_dataset)\n",
    "\n",
    "    def __getitem__(self, idx):\n",
    "        sample, label = self.original_dataset[idx]\n",
    "        if self.transform:\n",
    "            sample = self.transform(sample)\n",
    "        return sample, label\n",
    "\n",
    "def get_augmented_loader(original_dataset, batch_size, shuffle=True):\n",
    "    augmented_dataset = AugmentedDataset(original_dataset, transform=get_augmentation_transform())\n",
    "    return torch.utils.data.DataLoader(augmented_dataset, batch_size=batch_size, shuffle=shuffle)"
   ]
  },
  {
   "cell_type": "markdown",
   "id": "6b9f73d2",
   "metadata": {
    "papermill": {
     "duration": 0.014312,
     "end_time": "2024-09-27T11:48:55.171785",
     "exception": false,
     "start_time": "2024-09-27T11:48:55.157473",
     "status": "completed"
    },
    "tags": []
   },
   "source": [
    "## CNN Feature Extractor"
   ]
  },
  {
   "cell_type": "code",
   "execution_count": 15,
   "id": "62648fa1",
   "metadata": {
    "ExecuteTime": {
     "end_time": "2024-09-26T14:06:51.060155Z",
     "start_time": "2024-09-26T14:06:51.045602Z"
    },
    "execution": {
     "iopub.execute_input": "2024-09-27T11:48:55.202606Z",
     "iopub.status.busy": "2024-09-27T11:48:55.202080Z",
     "iopub.status.idle": "2024-09-27T11:48:55.259819Z",
     "shell.execute_reply": "2024-09-27T11:48:55.259044Z"
    },
    "papermill": {
     "duration": 0.075903,
     "end_time": "2024-09-27T11:48:55.262138",
     "exception": false,
     "start_time": "2024-09-27T11:48:55.186235",
     "status": "completed"
    },
    "tags": []
   },
   "outputs": [],
   "source": [
    "# def get_train_loader(dicom_dir, patient_scan_labels, batch_size=TRAIN_BATCH_SIZE, shuffle=True):\n",
    "#     train_dataset = TrainDatasetGenerator(dicom_dir, patient_scan_labels)\n",
    "#     return DataLoader(train_dataset, batch_size=batch_size, shuffle=shuffle, num_workers=4, pin_memory=True)\n",
    "\n",
    "def get_train_loader(dicom_dir, patient_scan_labels, batch_size=TRAIN_BATCH_SIZE, shuffle=True):\n",
    "    # Create the original dataset\n",
    "    original_dataset = TrainDatasetGenerator(dicom_dir, patient_scan_labels)\n",
    "    \n",
    "    # Create the augmented dataset\n",
    "    augmented_dataset = AugmentedDataset(original_dataset, transform=get_augmentation_transform())\n",
    "    \n",
    "    # Create and return the DataLoader with the augmented dataset\n",
    "    return DataLoader(\n",
    "        augmented_dataset, \n",
    "        batch_size=batch_size, \n",
    "        shuffle=shuffle, \n",
    "        num_workers=4, \n",
    "        pin_memory=True\n",
    "    )\n",
    "\n",
    "def get_test_loader(dicom_dir, patient_scan_labels, batch_size=TEST_BATCH_SIZE):\n",
    "    test_dataset = TestDatasetGenerator(dicom_dir, patient_scan_labels)\n",
    "    return DataLoader(test_dataset, batch_size=batch_size, shuffle=True, num_workers=4, pin_memory=True)"
   ]
  },
  {
   "cell_type": "markdown",
   "id": "565c1866",
   "metadata": {
    "papermill": {
     "duration": 0.016546,
     "end_time": "2024-09-27T11:48:55.295014",
     "exception": false,
     "start_time": "2024-09-27T11:48:55.278468",
     "status": "completed"
    },
    "tags": []
   },
   "source": [
    "### Sparse Gaussian Process Regression"
   ]
  },
  {
   "cell_type": "code",
   "execution_count": 16,
   "id": "4bd8bf1d",
   "metadata": {
    "ExecuteTime": {
     "end_time": "2024-09-26T14:06:51.150869Z",
     "start_time": "2024-09-26T14:06:51.094633Z"
    },
    "execution": {
     "iopub.execute_input": "2024-09-27T11:48:55.329479Z",
     "iopub.status.busy": "2024-09-27T11:48:55.329027Z",
     "iopub.status.idle": "2024-09-27T11:48:55.387910Z",
     "shell.execute_reply": "2024-09-27T11:48:55.387191Z"
    },
    "papermill": {
     "duration": 0.078539,
     "end_time": "2024-09-27T11:48:55.390088",
     "exception": false,
     "start_time": "2024-09-27T11:48:55.311549",
     "status": "completed"
    },
    "tags": []
   },
   "outputs": [],
   "source": [
    "class SparseGPLayer(ApproximateGP):\n",
    "    def __init__(self, num_inputs, num_inducing=INDUCING_POINTS):\n",
    "        # Initialize inducing points\n",
    "        inducing_points = torch.randn(num_inducing, num_inputs)\n",
    "        \n",
    "        # Initialize variational parameters\n",
    "        variational_distribution = CholeskyVariationalDistribution(num_inducing)\n",
    "        variational_strategy = VariationalStrategy(\n",
    "            self, inducing_points, variational_distribution, learn_inducing_locations=True\n",
    "        )\n",
    "        \n",
    "        super(SparseGPLayer, self).__init__(variational_strategy)\n",
    "        \n",
    "        # Mean and covariance modules\n",
    "        self.mean_module = gpytorch.means.ConstantMean()\n",
    "        self.covar_module = gpytorch.kernels.ScaleKernel(gpytorch.kernels.RBFKernel())\n",
    "        \n",
    "    def forward(self, x):\n",
    "        mean_x = self.mean_module(x)\n",
    "        covar_x = self.covar_module(x)\n",
    "        return gpytorch.distributions.MultivariateNormal(mean_x, covar_x)"
   ]
  },
  {
   "cell_type": "code",
   "execution_count": 17,
   "id": "c62a67db",
   "metadata": {
    "ExecuteTime": {
     "end_time": "2024-09-26T14:06:51.182548Z",
     "start_time": "2024-09-26T14:06:51.166342Z"
    },
    "execution": {
     "iopub.execute_input": "2024-09-27T11:48:55.420618Z",
     "iopub.status.busy": "2024-09-27T11:48:55.420292Z",
     "iopub.status.idle": "2024-09-27T11:48:55.475038Z",
     "shell.execute_reply": "2024-09-27T11:48:55.474323Z"
    },
    "papermill": {
     "duration": 0.072445,
     "end_time": "2024-09-27T11:48:55.477139",
     "exception": false,
     "start_time": "2024-09-27T11:48:55.404694",
     "status": "completed"
    },
    "tags": []
   },
   "outputs": [],
   "source": [
    "class SparseGPWrapper(nn.Module):\n",
    "    def __init__(self, num_inputs, num_inducing=INDUCING_POINTS):\n",
    "        super(SparseGPWrapper, self).__init__()\n",
    "        self.gp_layer = SparseGPLayer(num_inputs, num_inducing)\n",
    "        self.likelihood = gpytorch.likelihoods.GaussianLikelihood()\n",
    "        \n",
    "    def forward(self, x):\n",
    "        # Get the GP output\n",
    "        gp_output = self.gp_layer(x)\n",
    "        # Return the mean of the GP output\n",
    "        return gp_output.mean"
   ]
  },
  {
   "cell_type": "markdown",
   "id": "0681734e",
   "metadata": {
    "papermill": {
     "duration": 0.014519,
     "end_time": "2024-09-27T11:48:55.506319",
     "exception": false,
     "start_time": "2024-09-27T11:48:55.491800",
     "status": "completed"
    },
    "tags": []
   },
   "source": [
    "### Attention Layer"
   ]
  },
  {
   "cell_type": "code",
   "execution_count": 18,
   "id": "e9bd240c",
   "metadata": {
    "ExecuteTime": {
     "end_time": "2024-09-26T14:06:51.235970Z",
     "start_time": "2024-09-26T14:06:51.211910Z"
    },
    "execution": {
     "iopub.execute_input": "2024-09-27T11:48:55.538557Z",
     "iopub.status.busy": "2024-09-27T11:48:55.538178Z",
     "iopub.status.idle": "2024-09-27T11:48:55.596839Z",
     "shell.execute_reply": "2024-09-27T11:48:55.595857Z"
    },
    "papermill": {
     "duration": 0.077492,
     "end_time": "2024-09-27T11:48:55.599142",
     "exception": false,
     "start_time": "2024-09-27T11:48:55.521650",
     "status": "completed"
    },
    "tags": []
   },
   "outputs": [],
   "source": [
    "class AttentionLayer(nn.Module):\n",
    "    def __init__(self, input_dim, hidden_dim):\n",
    "        super(AttentionLayer, self).__init__()\n",
    "        self.attention = nn.Sequential(\n",
    "            nn.Linear(input_dim, hidden_dim),\n",
    "            nn.Tanh(),\n",
    "            nn.Linear(hidden_dim, 1)\n",
    "        )\n",
    "\n",
    "    def forward(self, x):\n",
    "        # x shape: (batch_size, num_instances, feature_dim)\n",
    "        attention_weights = self.attention(x)\n",
    "        weights = F.softmax(attention_weights, dim=1)\n",
    "        \n",
    "        return (x * weights).sum(dim=1), weights.squeeze(-1)"
   ]
  },
  {
   "cell_type": "code",
   "execution_count": 19,
   "id": "d07f979e",
   "metadata": {
    "ExecuteTime": {
     "end_time": "2024-09-26T14:06:51.283731Z",
     "start_time": "2024-09-26T14:06:51.262533Z"
    },
    "execution": {
     "iopub.execute_input": "2024-09-27T11:48:55.630133Z",
     "iopub.status.busy": "2024-09-27T11:48:55.629709Z",
     "iopub.status.idle": "2024-09-27T11:48:55.685963Z",
     "shell.execute_reply": "2024-09-27T11:48:55.685038Z"
    },
    "papermill": {
     "duration": 0.074197,
     "end_time": "2024-09-27T11:48:55.688234",
     "exception": false,
     "start_time": "2024-09-27T11:48:55.614037",
     "status": "completed"
    },
    "tags": []
   },
   "outputs": [],
   "source": [
    "class GatedAttention(nn.Module):\n",
    "    def __init__(self, input_dim, hidden_dim):\n",
    "        super(GatedAttention, self).__init__()\n",
    "        self.attention = nn.Sequential(\n",
    "            nn.Linear(input_dim, hidden_dim),\n",
    "            nn.Tanh(),\n",
    "            nn.Linear(hidden_dim, 1)\n",
    "        )\n",
    "        self.gate = nn.Sequential(\n",
    "            nn.Linear(input_dim, hidden_dim),\n",
    "            nn.Tanh(),\n",
    "            nn.Linear(hidden_dim, 1)\n",
    "        )\n",
    "        \n",
    "    def forward(self, x):\n",
    "        # x shape: (batch_size, num_instances, input_dim)\n",
    "        attention_weights = self.attention(x)\n",
    "        gate_weights = torch.sigmoid(self.gate(x))\n",
    "        \n",
    "        weights = attention_weights * gate_weights\n",
    "        weights = F.softmax(weights, dim=1)\n",
    "        \n",
    "        return (x * weights).sum(dim=1), weights.squeeze(-1)"
   ]
  },
  {
   "cell_type": "markdown",
   "id": "4d0dd6af",
   "metadata": {
    "papermill": {
     "duration": 0.01474,
     "end_time": "2024-09-27T11:48:55.717862",
     "exception": false,
     "start_time": "2024-09-27T11:48:55.703122",
     "status": "completed"
    },
    "tags": []
   },
   "source": [
    "### Sparse Gaussian Process Layer"
   ]
  },
  {
   "cell_type": "code",
   "execution_count": 20,
   "id": "99ba1844",
   "metadata": {
    "ExecuteTime": {
     "end_time": "2024-09-26T14:06:51.342207Z",
     "start_time": "2024-09-26T14:06:51.314592Z"
    },
    "execution": {
     "iopub.execute_input": "2024-09-27T11:48:55.749601Z",
     "iopub.status.busy": "2024-09-27T11:48:55.748665Z",
     "iopub.status.idle": "2024-09-27T11:48:55.809908Z",
     "shell.execute_reply": "2024-09-27T11:48:55.808835Z"
    },
    "papermill": {
     "duration": 0.07973,
     "end_time": "2024-09-27T11:48:55.812369",
     "exception": false,
     "start_time": "2024-09-27T11:48:55.732639",
     "status": "completed"
    },
    "tags": []
   },
   "outputs": [],
   "source": [
    "class SparseGPlayer(gpytorch.models.ApproximateGP):\n",
    "    def __init__(self, inducing_points):\n",
    "        inducing_points = inducing_points.to(device)\n",
    "        variational_distribution = gpytorch.variational.CholeskyVariationalDistribution(\n",
    "            inducing_points.size(0)\n",
    "        )\n",
    "        variational_strategy = gpytorch.variational.VariationalStrategy(\n",
    "            self, inducing_points, variational_distribution, learn_inducing_locations=True\n",
    "        )\n",
    "        super(SparseGPlayer, self).__init__(variational_strategy)\n",
    "        \n",
    "        self.mean_module = gpytorch.means.ConstantMean().to(device)\n",
    "        self.covar_module = gpytorch.kernels.ScaleKernel(gpytorch.kernels.RBFKernel()).to(device)\n",
    "    \n",
    "    def forward(self, x):\n",
    "        x = x.to(device)\n",
    "        \n",
    "        mean_x = self.mean_module(x)\n",
    "        covar_x = self.covar_module(x)\n",
    "        return gpytorch.distributions.MultivariateNormal(mean_x, covar_x)"
   ]
  },
  {
   "cell_type": "markdown",
   "id": "cf4a7a26",
   "metadata": {
    "papermill": {
     "duration": 0.016346,
     "end_time": "2024-09-27T11:48:55.845445",
     "exception": false,
     "start_time": "2024-09-27T11:48:55.829099",
     "status": "completed"
    },
    "tags": []
   },
   "source": [
    "### ResNet3D Model"
   ]
  },
  {
   "cell_type": "markdown",
   "id": "d54cdbec",
   "metadata": {
    "papermill": {
     "duration": 0.015913,
     "end_time": "2024-09-27T11:48:55.877503",
     "exception": false,
     "start_time": "2024-09-27T11:48:55.861590",
     "status": "completed"
    },
    "tags": []
   },
   "source": [
    "#### Basic Block"
   ]
  },
  {
   "cell_type": "code",
   "execution_count": 21,
   "id": "f9e7ec98",
   "metadata": {
    "ExecuteTime": {
     "end_time": "2024-09-26T14:06:51.381657Z",
     "start_time": "2024-09-26T14:06:51.364267Z"
    },
    "execution": {
     "iopub.execute_input": "2024-09-27T11:48:55.911498Z",
     "iopub.status.busy": "2024-09-27T11:48:55.911108Z",
     "iopub.status.idle": "2024-09-27T11:48:55.976971Z",
     "shell.execute_reply": "2024-09-27T11:48:55.975951Z"
    },
    "papermill": {
     "duration": 0.085838,
     "end_time": "2024-09-27T11:48:55.979402",
     "exception": false,
     "start_time": "2024-09-27T11:48:55.893564",
     "status": "completed"
    },
    "tags": []
   },
   "outputs": [],
   "source": [
    "class BasicBlock3D(nn.Module):\n",
    "    def __init__(\n",
    "        self, \n",
    "        in_channels: int,\n",
    "        out_channels: int,\n",
    "        stride: int = 1,\n",
    "        expansion: int = 1,\n",
    "        downsample: nn.Module = None,\n",
    "        dropout_rate: float = 0.25,\n",
    "        num_inducing_points: int = INDUCING_POINTS\n",
    "    ) -> None:\n",
    "        super(BasicBlock3D, self).__init__()\n",
    "        self.expansion = expansion\n",
    "        self.downsample = downsample\n",
    "        \n",
    "        self.conv1 = nn.Conv3d(\n",
    "            in_channels, \n",
    "            out_channels, \n",
    "            kernel_size=3, \n",
    "            stride=stride, \n",
    "            padding=1,\n",
    "            bias=False\n",
    "        )\n",
    "        self.bn1 = nn.BatchNorm3d(out_channels)\n",
    "        self.relu = nn.ReLU(inplace=True)\n",
    "        self.dropout = nn.Dropout3d(dropout_rate)\n",
    "        self.conv2 = nn.Conv3d(\n",
    "            out_channels, \n",
    "            out_channels*self.expansion, \n",
    "            kernel_size=3, \n",
    "            stride=1,\n",
    "            padding=1,\n",
    "            bias=False\n",
    "        )\n",
    "        self.bn2 = nn.BatchNorm3d(out_channels*self.expansion)\n",
    "\n",
    "    def forward(self, x: torch.Tensor) -> torch.Tensor:\n",
    "        identity = x\n",
    "        \n",
    "        out = self.relu(self.bn1(self.conv1(x)))\n",
    "        out = self.dropout(out)\n",
    "        \n",
    "        out = self.conv2(out)\n",
    "        out = self.bn2(out)\n",
    "        \n",
    "        if self.downsample is not None:\n",
    "            identity = self.downsample(x)\n",
    "        \n",
    "        out += identity\n",
    "        out = self.relu(out)\n",
    "        \n",
    "        return out"
   ]
  },
  {
   "cell_type": "markdown",
   "id": "6e7a7a72",
   "metadata": {
    "papermill": {
     "duration": 0.016226,
     "end_time": "2024-09-27T11:48:56.049815",
     "exception": false,
     "start_time": "2024-09-27T11:48:56.033589",
     "status": "completed"
    },
    "tags": []
   },
   "source": [
    "#### ResNet3D Model"
   ]
  },
  {
   "cell_type": "code",
   "execution_count": 22,
   "id": "56873342",
   "metadata": {
    "ExecuteTime": {
     "end_time": "2024-09-26T14:06:51.450173Z",
     "start_time": "2024-09-26T14:06:51.429617Z"
    },
    "execution": {
     "iopub.execute_input": "2024-09-27T11:48:56.081210Z",
     "iopub.status.busy": "2024-09-27T11:48:56.080713Z",
     "iopub.status.idle": "2024-09-27T11:48:56.156909Z",
     "shell.execute_reply": "2024-09-27T11:48:56.155964Z"
    },
    "papermill": {
     "duration": 0.095025,
     "end_time": "2024-09-27T11:48:56.159451",
     "exception": false,
     "start_time": "2024-09-27T11:48:56.064426",
     "status": "completed"
    },
    "tags": []
   },
   "outputs": [],
   "source": [
    "class ResNet3D_MIL(nn.Module):\n",
    "    def __init__(\n",
    "        self, \n",
    "        img_channels: int,\n",
    "        num_layers: int,\n",
    "        block: Type[BasicBlock3D],\n",
    "        num_classes: int = 1,\n",
    "        dropout_rate: float = 0.25,\n",
    "        num_inducing_points = INDUCING_POINTS\n",
    "    ) -> None:\n",
    "        super(ResNet3D_MIL, self).__init__()\n",
    "        \n",
    "        if num_layers == 18:\n",
    "            layers = [2, 2, 2, 2]\n",
    "            self.expansion = 1\n",
    "        elif num_layers == 34:\n",
    "            layers = [3, 4, 6, 3]\n",
    "            self.expansion = 1\n",
    "        elif num_layers == 50:\n",
    "            layers = [3, 4, 6, 3]\n",
    "            self.expansion = 4\n",
    "        else:\n",
    "            raise ValueError(\"Unsupported number of layers\")\n",
    "        \n",
    "        self.in_channels = 16\n",
    "        self.conv1 = nn.Conv3d(\n",
    "            in_channels=img_channels,\n",
    "            out_channels=self.in_channels,\n",
    "            kernel_size=7, \n",
    "            stride=(1, 2, 2),\n",
    "            padding=3,\n",
    "            bias=False\n",
    "        )\n",
    "        self.bn1 = nn.BatchNorm3d(self.in_channels)\n",
    "        self.relu = nn.ReLU(inplace=True)\n",
    "        self.maxpool = nn.MaxPool3d(kernel_size=3, stride=2, padding=1)\n",
    "        \n",
    "        self.layer1 = self._make_layer(block, 32, layers[0], stride=1, dropout_rate=dropout_rate)\n",
    "        self.layer2 = self._make_layer(block, 32, layers[1], stride=2, dropout_rate=dropout_rate)\n",
    "        self.layer3 = self._make_layer(block, 32, layers[2], stride=2, dropout_rate=dropout_rate)\n",
    "        self.layer4 = self._make_layer(block, 32, layers[3], stride=2, dropout_rate=dropout_rate)\n",
    "        \n",
    "        self.avgpool = nn.AdaptiveAvgPool3d((1, 1, 1))\n",
    "#         self.fc = nn.Linear(32*self.expansion, num_classes)\n",
    "\n",
    "        self.feature_dim = 32 * self.expansion\n",
    "        self.gated_attention = GatedAttention(self.feature_dim, 256)\n",
    "        \n",
    "#         # Inducing points for Sparse Gaussian Process (example size; adjust as needed)\n",
    "#         inducing_points_size = num_inducing_points\n",
    "#         inducing_points_tensor = torch.randn(inducing_points_size , 32).to(device)\n",
    "#         # Initialize Sparse Gaussian Process model with inducing points \n",
    "#         self.sparse_gp_model = SparseGPlayer(inducing_points_tensor).to(device)\n",
    "        self.sparse_gp = SparseGPWrapper(num_inputs=self.feature_dim, num_inducing=num_inducing_points)\n",
    "\n",
    "        self.fc = nn.Linear(self.feature_dim + 1, num_classes) # +1 for the GP mean\n",
    "\n",
    "    def _make_layer(\n",
    "        self, \n",
    "        block: Type[BasicBlock3D],\n",
    "        out_channels: int,\n",
    "        blocks: int,\n",
    "        stride: int = 1,\n",
    "        dropout_rate: float = 0.25\n",
    "    ) -> nn.Sequential:\n",
    "        downsample = None\n",
    "        if stride != 1 or self.in_channels != out_channels * self.expansion:\n",
    "            downsample = nn.Sequential(\n",
    "                nn.Conv3d(\n",
    "                    self.in_channels, \n",
    "                    out_channels * self.expansion,\n",
    "                    kernel_size=1,\n",
    "                    stride=stride,\n",
    "                    bias=False \n",
    "                ),\n",
    "                nn.BatchNorm3d(out_channels * self.expansion),\n",
    "            )\n",
    "        \n",
    "        layers = []\n",
    "        layers.append(\n",
    "            block(\n",
    "                self.in_channels, out_channels, stride, self.expansion, downsample, dropout_rate\n",
    "            )\n",
    "        )\n",
    "        self.in_channels = out_channels * self.expansion\n",
    "        for _ in range(1, blocks):\n",
    "            layers.append(block(\n",
    "                self.in_channels,\n",
    "                out_channels,\n",
    "                expansion=self.expansion,\n",
    "                dropout_rate=dropout_rate\n",
    "            ))\n",
    "        \n",
    "        return nn.Sequential(*layers)\n",
    "\n",
    "    def forward(self, x: torch.Tensor) -> torch.Tensor:\n",
    "        \n",
    "        # Input shape assertion\n",
    "        assert x.dim() == 6, f\"Expected 6D input (batch_size, num_instances, depth, height, width, channels), but got {x.dim()}D input; x.shape={x.shape}\"\n",
    "        batch_size, num_instances, d, h, w, c = x.size()\n",
    "        \n",
    "        # Reshape to (batch_size * num_instances, channels, height, width)\n",
    "        out = x.view(batch_size * num_instances, c, d, h, w)\n",
    "        # print(f'x shape after view: {out.size()}')\n",
    "        \n",
    "        out = self.conv1(out)\n",
    "        out = self.bn1(out)\n",
    "        out = self.relu(out)\n",
    "        \n",
    "        out = self.maxpool(out)\n",
    "\n",
    "        out = self.layer1(out)\n",
    "        out = self.layer2(out)\n",
    "        out = self.layer3(out)\n",
    "        out = self.layer4(out)\n",
    "\n",
    "        out = self.avgpool(out)\n",
    "        out = torch.flatten(out, 1)\n",
    "        # print(f'out shape after avgpool: {out.size()}')\n",
    "        \n",
    "        # Reshape back to (batch_size, num_instances, features)\n",
    "        out = out.view(batch_size, num_instances, -1)\n",
    "        # print(f'out shape after view: {out.size()}')\n",
    "        \n",
    "        # Apply GatedAttention\n",
    "#         out, attention_weights = self.gated_attention(out)\n",
    "        attention_out, attention_weights = self.gated_attention(out)\n",
    "    \n",
    "    \n",
    "        # Apply Sparse GP\n",
    "        gp_out = self.sparse_gp(out.view(-1, self.feature_dim))\n",
    "        gp_out = gp_out.view(batch_size, num_instances, -1)\n",
    "        gp_mean = torch.mean(gp_out, dim=1)\n",
    "\n",
    "        # out = torch.max(out, dim=1)[0]  # Take max across instances\n",
    "        \n",
    "        # # Prepare input for Sparse GP model (requires reshaping) \n",
    "        # gp_input=torch.randn(batch_size, num_instances , 32).to(device)  \n",
    "        # \n",
    "        # # Print shape of GP input\n",
    "        # print(f'GP input shape: {gp_input.size()}')\n",
    "        # \n",
    "        # gp_output=self.sparse_gp_model(gp_input)\n",
    "        # \n",
    "        # # Use GP output mean (or any other desired statistic) as additional features \n",
    "        # gp_mean_features=gp_output.mean\n",
    "        # \n",
    "        # # Print shape of out and GP mean features\n",
    "        # print(f'out shape: {out.size()}')\n",
    "        # print(f'GP mean features shape: {gp_mean_features.size()}')\n",
    "        # # Print shape gp unsqueezed\n",
    "        # print(f'GP mean features unsqueezed shape: {gp_mean_features.unsqueeze(0).size()}')\n",
    "        # \n",
    "        # # Concatenate GP features with attention output \n",
    "        # combined_out=torch.cat((out , gp_mean_features), dim=-1)\n",
    "        \n",
    "        # Concatenate attention output and GP mean\n",
    "        combined_out = torch.cat((attention_out, gp_mean), dim=-1)\n",
    "    \n",
    "#         print(f\"attention_out shape: {attention_out.shape}\")\n",
    "#         print(f\"gp_mean shape: {gp_mean.shape}\")\n",
    "#         print(f\"combined_out shape: {combined_out.shape}\")\n",
    "#         print(f\"self.fc.weight shape: {self.fc.weight.shape}\")\n",
    "        \n",
    "        # Apply final fully connected layer\n",
    "        out = self.fc(combined_out)\n",
    "\n",
    "        \n",
    "        # Assert that the output shape is correct\n",
    "        assert out.shape == (batch_size, self.fc.out_features), f\"Expected output shape (batch_size, {self.fc.out_features}), but got {out.shape}\"\n",
    "        \n",
    "        return out\n",
    "\n",
    "\n",
    "def ResNet3D18_MIL(img_channels: int = 3, num_classes: int = 1, dropout_rate: float = 0.25, num_inducing_points=INDUCING_POINTS):\n",
    "    return ResNet3D_MIL(img_channels, 18, BasicBlock3D, num_classes, dropout_rate, num_inducing_points)\n",
    "\n",
    "def ResNet3D34_MIL(img_channels: int = 3, num_classes: int = 1, dropout_rate: float = 0.25, num_inducing_points=INDUCING_POINTS):\n",
    "    return ResNet3D_MIL(img_channels, 34, BasicBlock3D, num_classes, dropout_rate, num_inducing_points)\n",
    "\n",
    "def ResNet3D50_MIL(img_channels: int = 3, num_classes: int = 1, dropout_rate: float = 0.25, num_inducing_points=INDUCING_POINTS):\n",
    "    return ResNet3D_MIL(img_channels, 50, BasicBlock3D, num_classes, dropout_rate, num_inducing_points)"
   ]
  },
  {
   "cell_type": "markdown",
   "id": "118d3a92",
   "metadata": {
    "papermill": {
     "duration": 0.014452,
     "end_time": "2024-09-27T11:48:56.188902",
     "exception": false,
     "start_time": "2024-09-27T11:48:56.174450",
     "status": "completed"
    },
    "tags": []
   },
   "source": [
    "## Training and Evaluation"
   ]
  },
  {
   "cell_type": "markdown",
   "id": "dcf38355",
   "metadata": {
    "papermill": {
     "duration": 0.01435,
     "end_time": "2024-09-27T11:48:56.219130",
     "exception": false,
     "start_time": "2024-09-27T11:48:56.204780",
     "status": "completed"
    },
    "tags": []
   },
   "source": [
    "### Training"
   ]
  },
  {
   "cell_type": "code",
   "execution_count": 23,
   "id": "20183636",
   "metadata": {
    "ExecuteTime": {
     "end_time": "2024-09-26T14:06:51.496475Z",
     "start_time": "2024-09-26T14:06:51.472936Z"
    },
    "execution": {
     "iopub.execute_input": "2024-09-27T11:48:56.251457Z",
     "iopub.status.busy": "2024-09-27T11:48:56.251096Z",
     "iopub.status.idle": "2024-09-27T11:48:56.318262Z",
     "shell.execute_reply": "2024-09-27T11:48:56.317503Z"
    },
    "papermill": {
     "duration": 0.086462,
     "end_time": "2024-09-27T11:48:56.320488",
     "exception": false,
     "start_time": "2024-09-27T11:48:56.234026",
     "status": "completed"
    },
    "tags": []
   },
   "outputs": [],
   "source": [
    "def train_epoch(model, data_loader, criterion, optimizer, scheduler, device):\n",
    "    \"\"\"Train the model for one epoch.\"\"\"\n",
    "    model.train()\n",
    "    total_loss = 0.0\n",
    "    predictions = []\n",
    "    labels = []\n",
    "\n",
    "    for batch_data, batch_labels in data_loader:\n",
    "        batch_data = batch_data.to(device)\n",
    "        batch_labels = batch_labels.float().to(device)\n",
    "\n",
    "        optimizer.zero_grad()\n",
    "        outputs = model(batch_data).squeeze()\n",
    "        loss = criterion(outputs, batch_labels)\n",
    "        loss.backward()\n",
    "        optimizer.step()\n",
    "        scheduler.step()\n",
    "\n",
    "        total_loss += loss.item()\n",
    "        predictions.extend((outputs > 0).cpu().numpy())\n",
    "        labels.extend(batch_labels.cpu().numpy())\n",
    "\n",
    "    return total_loss, predictions, labels\n",
    "\n",
    "def validate(model, data_loader, criterion, device):\n",
    "    \"\"\"Validate the model.\"\"\"\n",
    "    model.eval()\n",
    "    total_loss = 0.0\n",
    "    predictions = []\n",
    "    labels = []\n",
    "\n",
    "    with torch.no_grad():\n",
    "        for batch_data, batch_labels in data_loader:\n",
    "            batch_data = batch_data.to(device)\n",
    "            batch_labels = batch_labels.float().to(device)\n",
    "\n",
    "            outputs = model(batch_data).squeeze()\n",
    "            loss = criterion(outputs, batch_labels)\n",
    "\n",
    "            total_loss += loss.item()\n",
    "            predictions.extend((outputs > 0).cpu().numpy())\n",
    "            labels.extend(batch_labels.cpu().numpy())\n",
    "\n",
    "    return total_loss, predictions, labels\n",
    "\n",
    "def calculate_metrics(predictions, labels):\n",
    "    \"\"\"Calculate and return performance metrics.\"\"\"\n",
    "    return {\n",
    "        \"accuracy\": accuracy_score(labels, predictions),\n",
    "        \"precision\": precision_score(labels, predictions),\n",
    "        \"recall\": recall_score(labels, predictions),\n",
    "        \"f1\": f1_score(labels, predictions)\n",
    "    }\n",
    "\n",
    "def print_epoch_stats(epoch, num_epochs, phase, loss, metrics):\n",
    "    \"\"\"Print statistics for an epoch.\"\"\"\n",
    "    print(f\"Epoch {epoch+1}/{num_epochs} - {phase.capitalize()}:\")\n",
    "    print(f\"Loss: {loss:.4f}, Accuracy: {metrics['accuracy']:.4f}, \"\n",
    "          f\"Precision: {metrics['precision']:.4f}, Recall: {metrics['recall']:.4f}, \"\n",
    "          f\"F1: {metrics['f1']:.4f}\")\n",
    "\n",
    "def train_model(model, train_loader, val_loader, criterion, optimizer, num_epochs, learning_rate, device='cuda'):\n",
    "    \"\"\"Train the model and return the best model based on validation accuracy.\"\"\"\n",
    "    model = model.to(device)\n",
    "    scheduler = optim.lr_scheduler.OneCycleLR(optimizer, max_lr=learning_rate, \n",
    "                                              steps_per_epoch=len(train_loader), epochs=num_epochs)\n",
    "\n",
    "    best_val_accuracy = 0.0\n",
    "    best_model_state = None\n",
    "\n",
    "    for epoch in range(num_epochs):\n",
    "        # Training phase\n",
    "        train_loss, train_predictions, train_labels = train_epoch(model, train_loader, criterion, optimizer, scheduler, device)\n",
    "        train_metrics = calculate_metrics(train_predictions, train_labels)\n",
    "        print_epoch_stats(epoch, num_epochs, \"train\", train_loss, train_metrics)\n",
    "\n",
    "        # Validation phase\n",
    "        val_loss, val_predictions, val_labels = validate(model, val_loader, criterion, device)\n",
    "        val_metrics = calculate_metrics(val_predictions, val_labels)\n",
    "        print_epoch_stats(epoch, num_epochs, \"validation\", val_loss, val_metrics)\n",
    "\n",
    "        # Save best model\n",
    "        if val_metrics['accuracy'] > best_val_accuracy:\n",
    "            best_val_accuracy = val_metrics['accuracy']\n",
    "            best_model_state = model.state_dict()\n",
    "\n",
    "    # Load best model\n",
    "    model.load_state_dict(best_model_state)\n",
    "    return model"
   ]
  },
  {
   "cell_type": "markdown",
   "id": "d3e1807d",
   "metadata": {
    "papermill": {
     "duration": 0.014898,
     "end_time": "2024-09-27T11:48:56.351055",
     "exception": false,
     "start_time": "2024-09-27T11:48:56.336157",
     "status": "completed"
    },
    "tags": []
   },
   "source": [
    "### Evaluation Functions"
   ]
  },
  {
   "cell_type": "code",
   "execution_count": 24,
   "id": "a3b6506b",
   "metadata": {
    "ExecuteTime": {
     "end_time": "2024-09-26T14:06:51.552789Z",
     "start_time": "2024-09-26T14:06:51.524906Z"
    },
    "execution": {
     "iopub.execute_input": "2024-09-27T11:48:56.382194Z",
     "iopub.status.busy": "2024-09-27T11:48:56.381299Z",
     "iopub.status.idle": "2024-09-27T11:48:56.439021Z",
     "shell.execute_reply": "2024-09-27T11:48:56.438235Z"
    },
    "papermill": {
     "duration": 0.075693,
     "end_time": "2024-09-27T11:48:56.441219",
     "exception": false,
     "start_time": "2024-09-27T11:48:56.365526",
     "status": "completed"
    },
    "tags": []
   },
   "outputs": [],
   "source": [
    "## Model Evaluation Functions\n",
    "def evaluate_model(model, data_loader, device='cuda'):\n",
    "    \"\"\"Evaluate the model on the given data loader.\"\"\"\n",
    "    model = model.to(device)\n",
    "    model.eval()\n",
    "    predictions = []\n",
    "    labels = []\n",
    "\n",
    "    with torch.no_grad():\n",
    "        for batch_data, batch_labels in data_loader:\n",
    "            batch_data = batch_data.to(device)\n",
    "            batch_labels = batch_labels.float().to(device)\n",
    "\n",
    "            outputs = model(batch_data).squeeze()\n",
    "            predictions.extend((outputs > 0).cpu().numpy())\n",
    "            labels.extend(batch_labels.cpu().numpy())\n",
    "\n",
    "    return np.array(predictions), np.array(labels)\n",
    "\n",
    "def print_metrics(metrics):\n",
    "    \"\"\"Print the calculated metrics.\"\"\"\n",
    "    print(f\"Test Accuracy: {metrics['accuracy']:.4f}, \"\n",
    "          f\"Precision: {metrics['precision']:.4f}, \"\n",
    "          f\"Recall: {metrics['recall']:.4f}, \"\n",
    "          f\"F1: {metrics['f1']:.4f}\")"
   ]
  },
  {
   "cell_type": "markdown",
   "id": "7291472b",
   "metadata": {
    "papermill": {
     "duration": 0.014487,
     "end_time": "2024-09-27T11:48:56.470670",
     "exception": false,
     "start_time": "2024-09-27T11:48:56.456183",
     "status": "completed"
    },
    "tags": []
   },
   "source": [
    "### Visualization Functions"
   ]
  },
  {
   "cell_type": "code",
   "execution_count": 25,
   "id": "367e3aa9",
   "metadata": {
    "ExecuteTime": {
     "end_time": "2024-09-26T14:32:36.802512Z",
     "start_time": "2024-09-26T14:32:36.786903Z"
    },
    "execution": {
     "iopub.execute_input": "2024-09-27T11:48:56.501648Z",
     "iopub.status.busy": "2024-09-27T11:48:56.500799Z",
     "iopub.status.idle": "2024-09-27T11:48:56.563064Z",
     "shell.execute_reply": "2024-09-27T11:48:56.562217Z"
    },
    "papermill": {
     "duration": 0.080429,
     "end_time": "2024-09-27T11:48:56.565699",
     "exception": false,
     "start_time": "2024-09-27T11:48:56.485270",
     "status": "completed"
    },
    "tags": []
   },
   "outputs": [],
   "source": [
    "## Visualization Functions\n",
    "def plot_roc_curve(model, data_loader, device):\n",
    "    \"\"\"Plot the ROC curve for the model predictions.\"\"\"\n",
    "    # predictions, labels = evaluate_model(model, data_loader, device)\n",
    "    \n",
    "    model.eval()\n",
    "    labels = []\n",
    "    predictions = []\n",
    "    with torch.no_grad():\n",
    "        for batch_data, batch_labels in data_loader:\n",
    "            batch_data = batch_data.to(device)\n",
    "            batch_labels = batch_labels.float().to(device)\n",
    "\n",
    "            outputs = model(batch_data).squeeze()\n",
    "            predictions.extend(outputs.cpu().numpy())\n",
    "            labels.extend(batch_labels.cpu().numpy())\n",
    "            \n",
    "    fpr, tpr, _ = roc_curve(labels, predictions)\n",
    "    roc_auc = auc(fpr, tpr)\n",
    "    \n",
    "    plt.figure()\n",
    "    plt.plot(fpr, tpr, color='darkorange', lw=2, label=f'ROC curve (AUC = {roc_auc:.2f})')\n",
    "    plt.plot([0, 1], [0, 1], color='navy', lw=2, linestyle='--')\n",
    "    plt.xlim([0.0, 1.0])\n",
    "    plt.ylim([0.0, 1.05])\n",
    "    plt.xlabel('False Positive Rate')\n",
    "    plt.ylabel('True Positive Rate')\n",
    "    plt.title('Receiver Operating Characteristic (ROC) Curve')\n",
    "    plt.legend(loc=\"lower right\")\n",
    "    plt.show()\n",
    "\n",
    "def plot_confusion_matrix(model, data_loader, device):\n",
    "    \"\"\"Plot the confusion matrix for the model predictions.\"\"\"\n",
    "    predictions, labels = evaluate_model(model, data_loader, device)\n",
    "    \n",
    "    cm = confusion_matrix(labels, predictions)\n",
    "    disp = ConfusionMatrixDisplay(confusion_matrix=cm)\n",
    "    disp.plot()\n",
    "    plt.title('Confusion Matrix')\n",
    "    plt.show()"
   ]
  },
  {
   "cell_type": "markdown",
   "id": "248f6e85",
   "metadata": {
    "papermill": {
     "duration": 0.015755,
     "end_time": "2024-09-27T11:48:56.598298",
     "exception": false,
     "start_time": "2024-09-27T11:48:56.582543",
     "status": "completed"
    },
    "tags": []
   },
   "source": [
    "### Data Processing Functions"
   ]
  },
  {
   "cell_type": "code",
   "execution_count": 26,
   "id": "c95264ef",
   "metadata": {
    "ExecuteTime": {
     "end_time": "2024-09-26T14:06:51.650533Z",
     "start_time": "2024-09-26T14:06:51.627710Z"
    },
    "execution": {
     "iopub.execute_input": "2024-09-27T11:48:56.632135Z",
     "iopub.status.busy": "2024-09-27T11:48:56.631551Z",
     "iopub.status.idle": "2024-09-27T11:48:56.690090Z",
     "shell.execute_reply": "2024-09-27T11:48:56.689286Z"
    },
    "papermill": {
     "duration": 0.077726,
     "end_time": "2024-09-27T11:48:56.692360",
     "exception": false,
     "start_time": "2024-09-27T11:48:56.614634",
     "status": "completed"
    },
    "tags": []
   },
   "outputs": [],
   "source": [
    "## Data Processing Functions\n",
    "def load_model(model_class, model_path):\n",
    "    \"\"\"Load a trained model from a file.\"\"\"\n",
    "    if not os.path.exists(model_path):\n",
    "        raise FileNotFoundError(f\"Model file not found at {model_path}\")\n",
    "\n",
    "    model = model_class()\n",
    "    try:\n",
    "        state_dict = torch.load(model_path, map_location=torch.device('cuda'), weights_only=True)\n",
    "        if not state_dict:\n",
    "            raise ValueError(f\"The state dictionary loaded from {model_path} is empty\")\n",
    "        model.load_state_dict(state_dict)\n",
    "    except Exception as e:\n",
    "        print(f\"Error loading model from {model_path}: {str(e)}\")\n",
    "        print(\"Initializing model with random weights instead.\")\n",
    "        return model  # Return the model with random initialization\n",
    "\n",
    "    return model.eval()\n",
    "\n",
    "\n",
    "def get_test_results(model, test_loader, test_labels):\n",
    "    \"\"\"Get test results including patient information.\"\"\"\n",
    "    predictions, _ = evaluate_model(model, test_loader)\n",
    "    \n",
    "    results = []\n",
    "    for i, row in enumerate(test_labels.itertuples(index=False)):\n",
    "        result = {col: getattr(row, col) for col in test_labels.columns}\n",
    "        result['prediction'] = predictions[i]\n",
    "        results.append(result)\n",
    "    \n",
    "    return pd.DataFrame(results)"
   ]
  },
  {
   "cell_type": "markdown",
   "id": "8ad815c5",
   "metadata": {
    "papermill": {
     "duration": 0.015131,
     "end_time": "2024-09-27T11:48:56.722594",
     "exception": false,
     "start_time": "2024-09-27T11:48:56.707463",
     "status": "completed"
    },
    "tags": []
   },
   "source": [
    "## Main"
   ]
  },
  {
   "cell_type": "code",
   "execution_count": 27,
   "id": "6bb52ea9",
   "metadata": {
    "ExecuteTime": {
     "end_time": "2024-09-26T14:33:28.926765Z",
     "start_time": "2024-09-26T14:33:01.988863Z"
    },
    "execution": {
     "iopub.execute_input": "2024-09-27T11:48:56.756670Z",
     "iopub.status.busy": "2024-09-27T11:48:56.755584Z",
     "iopub.status.idle": "2024-09-27T16:32:18.549375Z",
     "shell.execute_reply": "2024-09-27T16:32:18.548181Z"
    },
    "papermill": {
     "duration": 17001.833838,
     "end_time": "2024-09-27T16:32:18.572609",
     "exception": false,
     "start_time": "2024-09-27T11:48:56.738771",
     "status": "completed"
    },
    "tags": []
   },
   "outputs": [
    {
     "name": "stdout",
     "output_type": "stream",
     "text": [
      "Epoch 1/20 - Train:\n",
      "Loss: 61.7906, Accuracy: 0.5214, Precision: 0.5532, Recall: 0.2229, F1: 0.3177\n",
      "Epoch 1/20 - Validation:\n",
      "Loss: 25.8104, Accuracy: 0.5467, Precision: 0.5263, Recall: 0.9333, F1: 0.6731\n",
      "Epoch 2/20 - Train:\n",
      "Loss: 59.9439, Accuracy: 0.5571, Precision: 0.5532, Recall: 0.5943, F1: 0.5730\n",
      "Epoch 2/20 - Validation:\n",
      "Loss: 39.3283, Accuracy: 0.5200, Precision: 1.0000, Recall: 0.0400, F1: 0.0769\n",
      "Epoch 3/20 - Train:\n",
      "Loss: 60.6712, Accuracy: 0.5443, Precision: 0.5442, Recall: 0.5457, F1: 0.5449\n",
      "Epoch 3/20 - Validation:\n",
      "Loss: 26.2668, Accuracy: 0.4933, Precision: 0.4963, Recall: 0.8933, F1: 0.6381\n",
      "Epoch 4/20 - Train:\n",
      "Loss: 60.3449, Accuracy: 0.5514, Precision: 0.5563, Recall: 0.5086, F1: 0.5313\n",
      "Epoch 4/20 - Validation:\n",
      "Loss: 25.9709, Accuracy: 0.5933, Precision: 0.5636, Recall: 0.8267, F1: 0.6703\n",
      "Epoch 5/20 - Train:\n",
      "Loss: 60.7235, Accuracy: 0.5229, Precision: 0.5206, Recall: 0.5771, F1: 0.5474\n",
      "Epoch 5/20 - Validation:\n",
      "Loss: 26.1614, Accuracy: 0.6000, Precision: 0.6829, Recall: 0.3733, F1: 0.4828\n",
      "Epoch 6/20 - Train:\n",
      "Loss: 59.4299, Accuracy: 0.5700, Precision: 0.5710, Recall: 0.5629, F1: 0.5669\n",
      "Epoch 6/20 - Validation:\n",
      "Loss: 27.8425, Accuracy: 0.5333, Precision: 0.6316, Recall: 0.1600, F1: 0.2553\n",
      "Epoch 7/20 - Train:\n",
      "Loss: 60.1266, Accuracy: 0.5714, Precision: 0.5702, Recall: 0.5800, F1: 0.5751\n",
      "Epoch 7/20 - Validation:\n",
      "Loss: 28.4383, Accuracy: 0.5000, Precision: 0.0000, Recall: 0.0000, F1: 0.0000\n",
      "Epoch 8/20 - Train:\n",
      "Loss: 60.4565, Accuracy: 0.5600, Precision: 0.5580, Recall: 0.5771, F1: 0.5674\n",
      "Epoch 8/20 - Validation:\n",
      "Loss: 25.5327, Accuracy: 0.6200, Precision: 0.7647, Recall: 0.3467, F1: 0.4771\n",
      "Epoch 9/20 - Train:\n",
      "Loss: 59.8783, Accuracy: 0.5671, Precision: 0.5604, Recall: 0.6229, F1: 0.5900\n",
      "Epoch 9/20 - Validation:\n",
      "Loss: 26.1395, Accuracy: 0.5733, Precision: 0.7391, Recall: 0.2267, F1: 0.3469\n",
      "Epoch 10/20 - Train:\n",
      "Loss: 58.8628, Accuracy: 0.5771, Precision: 0.5839, Recall: 0.5371, F1: 0.5595\n",
      "Epoch 10/20 - Validation:\n",
      "Loss: 27.1306, Accuracy: 0.4800, Precision: 0.4897, Recall: 0.9467, F1: 0.6455\n",
      "Epoch 11/20 - Train:\n",
      "Loss: 59.4217, Accuracy: 0.5857, Precision: 0.5843, Recall: 0.5943, F1: 0.5892\n",
      "Epoch 11/20 - Validation:\n",
      "Loss: 25.9415, Accuracy: 0.6667, Precision: 0.6866, Recall: 0.6133, F1: 0.6479\n",
      "Epoch 12/20 - Train:\n",
      "Loss: 58.6966, Accuracy: 0.5914, Precision: 0.5930, Recall: 0.5829, F1: 0.5879\n",
      "Epoch 12/20 - Validation:\n",
      "Loss: 25.6242, Accuracy: 0.6267, Precision: 0.6022, Recall: 0.7467, F1: 0.6667\n",
      "Epoch 13/20 - Train:\n",
      "Loss: 58.4600, Accuracy: 0.6000, Precision: 0.5967, Recall: 0.6171, F1: 0.6067\n",
      "Epoch 13/20 - Validation:\n",
      "Loss: 25.6875, Accuracy: 0.5600, Precision: 0.5464, Recall: 0.7067, F1: 0.6163\n",
      "Epoch 14/20 - Train:\n",
      "Loss: 58.3279, Accuracy: 0.6057, Precision: 0.5979, Recall: 0.6457, F1: 0.6209\n",
      "Epoch 14/20 - Validation:\n",
      "Loss: 25.8159, Accuracy: 0.6000, Precision: 0.5714, Recall: 0.8000, F1: 0.6667\n",
      "Epoch 15/20 - Train:\n",
      "Loss: 57.8484, Accuracy: 0.5929, Precision: 0.6066, Recall: 0.5286, F1: 0.5649\n",
      "Epoch 15/20 - Validation:\n",
      "Loss: 25.4557, Accuracy: 0.6533, Precision: 0.6420, Recall: 0.6933, F1: 0.6667\n",
      "Epoch 16/20 - Train:\n",
      "Loss: 57.2263, Accuracy: 0.6243, Precision: 0.6113, Recall: 0.6829, F1: 0.6451\n",
      "Epoch 16/20 - Validation:\n",
      "Loss: 25.2500, Accuracy: 0.6733, Precision: 0.6383, Recall: 0.8000, F1: 0.7101\n",
      "Epoch 17/20 - Train:\n",
      "Loss: 56.6960, Accuracy: 0.6500, Precision: 0.6606, Recall: 0.6171, F1: 0.6381\n",
      "Epoch 17/20 - Validation:\n",
      "Loss: 25.3472, Accuracy: 0.6200, Precision: 0.5938, Recall: 0.7600, F1: 0.6667\n",
      "Epoch 18/20 - Train:\n",
      "Loss: 56.2499, Accuracy: 0.6357, Precision: 0.6353, Recall: 0.6371, F1: 0.6362\n",
      "Epoch 18/20 - Validation:\n",
      "Loss: 24.9685, Accuracy: 0.6267, Precision: 0.5922, Recall: 0.8133, F1: 0.6854\n",
      "Epoch 19/20 - Train:\n",
      "Loss: 56.1488, Accuracy: 0.6529, Precision: 0.6597, Recall: 0.6314, F1: 0.6453\n",
      "Epoch 19/20 - Validation:\n",
      "Loss: 25.9145, Accuracy: 0.6000, Precision: 0.5824, Recall: 0.7067, F1: 0.6386\n",
      "Epoch 20/20 - Train:\n",
      "Loss: 56.3180, Accuracy: 0.6271, Precision: 0.6305, Recall: 0.6143, F1: 0.6223\n",
      "Epoch 20/20 - Validation:\n",
      "Loss: 25.3500, Accuracy: 0.6333, Precision: 0.6220, Recall: 0.6800, F1: 0.6497\n",
      "Test Accuracy: 0.5400, Precision: 0.8750, Recall: 0.0933, F1: 0.1687\n"
     ]
    },
    {
     "data": {
      "image/png": "[encoded data removed]",
      "text/plain": [
       "<Figure size 640x480 with 1 Axes>"
      ]
     },
     "metadata": {},
     "output_type": "display_data"
    },
    {
     "data": {
      "image/png": "[encoded data removed]",
      "text/plain": [
       "<Figure size 640x480 with 2 Axes>"
      ]
     },
     "metadata": {},
     "output_type": "display_data"
    },
    {
     "name": "stdout",
     "output_type": "stream",
     "text": [
      "    patient_id study_instance_uid  label  prediction\n",
      "0  ID_0748e0c1      ID_286183702b      0       False\n",
      "1  ID_1528ff50      ID_5d0a50f3db      1       False\n",
      "2  ID_07d4f582      ID_8b1137e5bc      0       False\n",
      "3  ID_03131dd0      ID_a4ed78f57e      0       False\n",
      "4  ID_05e0a4a1      ID_9dd14f9fa3      1       False\n"
     ]
    }
   ],
   "source": [
    "## Main Execution\n",
    "def main():\n",
    "    train_labels, val_labels, test_labels = split_dataset(patient_scan_labels, test_size=TEST_SIZE)\n",
    "    train_loader = get_train_loader(dicom_dir, train_labels, batch_size=TRAIN_BATCH_SIZE)\n",
    "    val_loader = get_train_loader(dicom_dir, val_labels, batch_size=VALID_BATCH_SIZE)\n",
    "    test_loader = get_test_loader(dicom_dir, test_labels, batch_size=TEST_BATCH_SIZE)\n",
    "    \n",
    "    # Initialize model, criterion, and optimizer\n",
    "    model = ResNet3D18_MIL()  # Assuming this is your model class\n",
    "    criterion = torch.nn.BCEWithLogitsLoss()  # Binary Cross Entropy Loss\n",
    "    optimizer = optim.Adam(model.parameters(), lr=LEARNING_RATE)\n",
    "    \n",
    "    # Train model\n",
    "    trained_model = train_model(model, train_loader, val_loader, criterion, optimizer, NUM_EPOCHS, LEARNING_RATE, DEVICE)\n",
    "    \n",
    "    # Save model\n",
    "    torch.save(trained_model.state_dict(), MODEL_PATH)\n",
    "    \n",
    "    # Load best model\n",
    "    trained_model = load_model(ResNet3D18_MIL, MODEL_PATH)\n",
    "\n",
    "    # Evaluate model\n",
    "    predictions, labels = evaluate_model(trained_model, test_loader, DEVICE)\n",
    "    metrics = calculate_metrics(predictions, labels)\n",
    "    print_metrics(metrics)\n",
    "    \n",
    "    # Visualizations\n",
    "    plot_roc_curve(trained_model, test_loader, DEVICE)\n",
    "    plot_confusion_matrix(trained_model, test_loader, DEVICE)\n",
    "\n",
    "    # Select only the required columns\n",
    "    required_columns = ['patient_id', 'study_instance_uid', 'label']\n",
    "    test_labels = test_labels[required_columns]\n",
    "    \n",
    "    # Save results\n",
    "    results_df = get_test_results(trained_model, test_loader, test_labels)\n",
    "    results_df.to_csv('results.csv', index=False)\n",
    "    print(results_df.head())\n",
    "\n",
    "\n",
    "if __name__ == \"__main__\":\n",
    "    main()"
   ]
  },
  {
   "cell_type": "markdown",
   "id": "4e980b4e",
   "metadata": {
    "papermill": {
     "duration": 0.019303,
     "end_time": "2024-09-27T16:32:18.611777",
     "exception": false,
     "start_time": "2024-09-27T16:32:18.592474",
     "status": "completed"
    },
    "tags": []
   },
   "source": [
    "## Visualizing Attention Weights and Images"
   ]
  },
  {
   "cell_type": "markdown",
   "id": "8ecb4b92",
   "metadata": {
    "papermill": {
     "duration": 0.018695,
     "end_time": "2024-09-27T16:32:18.649707",
     "exception": false,
     "start_time": "2024-09-27T16:32:18.631012",
     "status": "completed"
    },
    "tags": []
   },
   "source": [
    "### Show Attention Weights and Images for a Single Patient"
   ]
  },
  {
   "cell_type": "code",
   "execution_count": 28,
   "id": "ef9f653a",
   "metadata": {
    "ExecuteTime": {
     "end_time": "2024-09-26T14:25:27.269464Z",
     "start_time": "2024-09-26T14:25:27.253461Z"
    },
    "execution": {
     "iopub.execute_input": "2024-09-27T16:32:18.689999Z",
     "iopub.status.busy": "2024-09-27T16:32:18.689580Z",
     "iopub.status.idle": "2024-09-27T16:32:18.754600Z",
     "shell.execute_reply": "2024-09-27T16:32:18.753718Z"
    },
    "papermill": {
     "duration": 0.087543,
     "end_time": "2024-09-27T16:32:18.756712",
     "exception": false,
     "start_time": "2024-09-27T16:32:18.669169",
     "status": "completed"
    },
    "tags": []
   },
   "outputs": [],
   "source": [
    "# Function to test a single patient\n",
    "def test_single_patient(model, patient_data):\n",
    "    model.eval()\n",
    "    with torch.no_grad():\n",
    "        for batch_data, batch_labels in patient_data:\n",
    "            batch_data = batch_data.to(device)  # Move data to device\n",
    "            outputs, gated_attention = model(batch_data)  # Get outputs and attention weights\n",
    "            outputs = outputs.squeeze()  # Remove extra dimension\n",
    "            \n",
    "            predictions = (outputs > 0).cpu().numpy()\n",
    "            \n",
    "            print(\"Predictions:\", predictions)\n",
    "            print(\"Labels: \", batch_labels.cpu().numpy())\n",
    "            # Print attention weights\n",
    "            attention_weights_np = gated_attention.cpu().numpy()  # Move to CPU for easier handling\n",
    "            print(\"Attention Weights for Slides:\")\n",
    "            \n",
    "            for i in range(attention_weights_np.shape[1]):  # Iterate over instances/slides\n",
    "                print(f'Slide {i+1}: Attention Weight: {attention_weights_np[0][i][0]}')  # Print weight for each slide\n",
    "                \n",
    "            # Plot the images\n",
    "            plot_images(batch_data[0].cpu(), batch_labels[0].cpu())\n",
    "            \n",
    "            break  # Only test one patient"
   ]
  },
  {
   "cell_type": "code",
   "execution_count": 29,
   "id": "66be690b",
   "metadata": {
    "ExecuteTime": {
     "end_time": "2024-09-26T14:25:27.309580Z",
     "start_time": "2024-09-26T14:25:27.295662Z"
    },
    "execution": {
     "iopub.execute_input": "2024-09-27T16:32:18.797223Z",
     "iopub.status.busy": "2024-09-27T16:32:18.796854Z",
     "iopub.status.idle": "2024-09-27T16:32:18.854291Z",
     "shell.execute_reply": "2024-09-27T16:32:18.853557Z"
    },
    "papermill": {
     "duration": 0.080116,
     "end_time": "2024-09-27T16:32:18.856413",
     "exception": false,
     "start_time": "2024-09-27T16:32:18.776297",
     "status": "completed"
    },
    "tags": []
   },
   "outputs": [],
   "source": [
    "def plot_images(images, labels):\n",
    "    print(images.shape)\n",
    "    batch_size, num_images_per_batch, height, width, channels = images.shape\n",
    "    images = images.view(batch_size * num_images_per_batch, height, width, channels)\n",
    "    \n",
    "    print(f'Images shape: {images.shape}')\n",
    "    num_images = images.size(0) \n",
    "    images = images.numpy()\n",
    "    \n",
    "    plt.figure(figsize=(15, 15))\n",
    "    \n",
    "    for i in range(num_images):\n",
    "        plt.subplot(8, 8, i + 1)\n",
    "        plt.imshow(images[i], cmap='gray')\n",
    "        plt.title(f'Image {i + 1}')\n",
    "        plt.axis('off')\n",
    "    \n",
    "    plt.tight_layout() \n",
    "    plt.show()\n",
    "    \n",
    "# # Call the function with the test_loader\n",
    "# test_loader = get_test_loader(dicom_dir, test_labels, batch_size=2)\n",
    "# test_single_patient(trained_model, test_loader)"
   ]
  }
 ],
 "metadata": {
  "kaggle": {
   "accelerator": "nvidiaTeslaT4",
   "dataSources": [
    {
     "datasetId": 5705276,
     "sourceId": 9450447,
     "sourceType": "datasetVersion"
    }
   ],
   "dockerImageVersionId": 30762,
   "isGpuEnabled": true,
   "isInternetEnabled": true,
   "language": "python",
   "sourceType": "notebook"
  },
  "kernelspec": {
   "display_name": "Python 3",
   "language": "python",
   "name": "python3"
  },
  "language_info": {
   "codemirror_mode": {
    "name": "ipython",
    "version": 3
   },
   "file_extension": ".py",
   "mimetype": "text/x-python",
   "name": "python",
   "nbconvert_exporter": "python",
   "pygments_lexer": "ipython3",
   "version": "3.10.14"
  },
  "papermill": {
   "default_parameters": {},
   "duration": 17034.627768,
   "end_time": "2024-09-27T16:32:21.613707",
   "environment_variables": {},
   "exception": null,
   "input_path": "__notebook__.ipynb",
   "output_path": "__notebook__.ipynb",
   "parameters": {},
   "start_time": "2024-09-27T11:48:26.985939",
   "version": "2.6.0"
  }
 },
 "nbformat": 4,
 "nbformat_minor": 5
}
