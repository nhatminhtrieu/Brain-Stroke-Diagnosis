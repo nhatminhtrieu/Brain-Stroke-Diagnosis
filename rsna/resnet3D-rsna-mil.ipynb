{
 "cells": [
  {
   "cell_type": "markdown",
   "id": "2b2278e2",
   "metadata": {
    "papermill": {
     "duration": 0.015175,
     "end_time": "2024-09-27T18:02:06.647144",
     "exception": false,
     "start_time": "2024-09-27T18:02:06.631969",
     "status": "completed"
    },
    "tags": []
   },
   "source": [
    "## Library"
   ]
  },
  {
   "cell_type": "code",
   "execution_count": 1,
   "id": "549921df",
   "metadata": {
    "ExecuteTime": {
     "end_time": "2024-09-26T14:06:49.153031Z",
     "start_time": "2024-09-26T14:06:48.559249Z"
    },
    "execution": {
     "iopub.execute_input": "2024-09-27T18:02:06.675915Z",
     "iopub.status.busy": "2024-09-27T18:02:06.675541Z",
     "iopub.status.idle": "2024-09-27T18:02:22.063055Z",
     "shell.execute_reply": "2024-09-27T18:02:22.061906Z"
    },
    "papermill": {
     "duration": 15.40475,
     "end_time": "2024-09-27T18:02:22.065561",
     "exception": false,
     "start_time": "2024-09-27T18:02:06.660811",
     "status": "completed"
    },
    "tags": []
   },
   "outputs": [
    {
     "name": "stdout",
     "output_type": "stream",
     "text": [
      "Collecting gpytorch\r\n",
      "  Downloading gpytorch-1.13-py3-none-any.whl.metadata (8.0 kB)\r\n",
      "Collecting jaxtyping==0.2.19 (from gpytorch)\r\n",
      "  Downloading jaxtyping-0.2.19-py3-none-any.whl.metadata (5.7 kB)\r\n",
      "Requirement already satisfied: mpmath<=1.3,>=0.19 in /opt/conda/lib/python3.10/site-packages (from gpytorch) (1.3.0)\r\n",
      "Requirement already satisfied: scikit-learn in /opt/conda/lib/python3.10/site-packages (from gpytorch) (1.2.2)\r\n",
      "Requirement already satisfied: scipy>=1.6.0 in /opt/conda/lib/python3.10/site-packages (from gpytorch) (1.14.0)\r\n",
      "Collecting linear-operator>=0.5.3 (from gpytorch)\r\n",
      "  Downloading linear_operator-0.5.3-py3-none-any.whl.metadata (15 kB)\r\n",
      "Requirement already satisfied: numpy>=1.20.0 in /opt/conda/lib/python3.10/site-packages (from jaxtyping==0.2.19->gpytorch) (1.26.4)\r\n",
      "Requirement already satisfied: typeguard>=2.13.3 in /opt/conda/lib/python3.10/site-packages (from jaxtyping==0.2.19->gpytorch) (4.3.0)\r\n",
      "Requirement already satisfied: typing-extensions>=3.7.4.1 in /opt/conda/lib/python3.10/site-packages (from jaxtyping==0.2.19->gpytorch) (4.12.2)\r\n",
      "Requirement already satisfied: torch>=1.11 in /opt/conda/lib/python3.10/site-packages (from linear-operator>=0.5.3->gpytorch) (2.4.0)\r\n",
      "Requirement already satisfied: joblib>=1.1.1 in /opt/conda/lib/python3.10/site-packages (from scikit-learn->gpytorch) (1.4.2)\r\n",
      "Requirement already satisfied: threadpoolctl>=2.0.0 in /opt/conda/lib/python3.10/site-packages (from scikit-learn->gpytorch) (3.5.0)\r\n",
      "Requirement already satisfied: filelock in /opt/conda/lib/python3.10/site-packages (from torch>=1.11->linear-operator>=0.5.3->gpytorch) (3.15.1)\r\n",
      "Requirement already satisfied: sympy in /opt/conda/lib/python3.10/site-packages (from torch>=1.11->linear-operator>=0.5.3->gpytorch) (1.13.2)\r\n",
      "Requirement already satisfied: networkx in /opt/conda/lib/python3.10/site-packages (from torch>=1.11->linear-operator>=0.5.3->gpytorch) (3.3)\r\n",
      "Requirement already satisfied: jinja2 in /opt/conda/lib/python3.10/site-packages (from torch>=1.11->linear-operator>=0.5.3->gpytorch) (3.1.4)\r\n",
      "Requirement already satisfied: fsspec in /opt/conda/lib/python3.10/site-packages (from torch>=1.11->linear-operator>=0.5.3->gpytorch) (2024.6.1)\r\n",
      "Requirement already satisfied: MarkupSafe>=2.0 in /opt/conda/lib/python3.10/site-packages (from jinja2->torch>=1.11->linear-operator>=0.5.3->gpytorch) (2.1.5)\r\n",
      "Downloading gpytorch-1.13-py3-none-any.whl (277 kB)\r\n",
      "\u001b[2K   \u001b[90m━━━━━━━━━━━━━━━━━━━━━━━━━━━━━━━━━━━━━━━━\u001b[0m \u001b[32m277.8/277.8 kB\u001b[0m \u001b[31m4.5 MB/s\u001b[0m eta \u001b[36m0:00:00\u001b[0m\r\n",
      "\u001b[?25hDownloading jaxtyping-0.2.19-py3-none-any.whl (24 kB)\r\n",
      "Downloading linear_operator-0.5.3-py3-none-any.whl (176 kB)\r\n",
      "\u001b[2K   \u001b[90m━━━━━━━━━━━━━━━━━━━━━━━━━━━━━━━━━━━━━━━━\u001b[0m \u001b[32m176.4/176.4 kB\u001b[0m \u001b[31m13.7 MB/s\u001b[0m eta \u001b[36m0:00:00\u001b[0m\r\n",
      "\u001b[?25hInstalling collected packages: jaxtyping, linear-operator, gpytorch\r\n",
      "Successfully installed gpytorch-1.13 jaxtyping-0.2.19 linear-operator-0.5.3\r\n"
     ]
    }
   ],
   "source": [
    "!pip install gpytorch"
   ]
  },
  {
   "cell_type": "code",
   "execution_count": 2,
   "id": "d1741f75",
   "metadata": {
    "ExecuteTime": {
     "end_time": "2024-09-26T14:06:50.423796Z",
     "start_time": "2024-09-26T14:06:49.159734Z"
    },
    "execution": {
     "iopub.execute_input": "2024-09-27T18:02:22.097195Z",
     "iopub.status.busy": "2024-09-27T18:02:22.096366Z",
     "iopub.status.idle": "2024-09-27T18:02:29.385579Z",
     "shell.execute_reply": "2024-09-27T18:02:29.384694Z"
    },
    "papermill": {
     "duration": 7.307411,
     "end_time": "2024-09-27T18:02:29.388060",
     "exception": false,
     "start_time": "2024-09-27T18:02:22.080649",
     "status": "completed"
    },
    "tags": []
   },
   "outputs": [],
   "source": [
    "import os\n",
    "import matplotlib.pyplot as plt\n",
    "import numpy as np\n",
    "import pandas as pd\n",
    "import pydicom\n",
    "from tqdm import tqdm\n",
    "from skimage.transform import resize\n",
    "import cv2\n",
    "from typing import Type\n",
    "\n",
    "from sklearn.model_selection import train_test_split\n",
    "from sklearn.metrics import roc_curve, auc\n",
    "from sklearn.metrics import accuracy_score, precision_score, recall_score, f1_score\n",
    "from sklearn.metrics import confusion_matrix, ConfusionMatrixDisplay\n",
    "\n",
    "import torch\n",
    "import torch.nn as nn\n",
    "from torch.utils.data import Dataset, DataLoader\n",
    "import torch.optim as optim\n",
    "import torch.nn.functional as F\n",
    "\n",
    "import gpytorch\n",
    "from gpytorch.models import ApproximateGP\n",
    "from gpytorch.variational import CholeskyVariationalDistribution\n",
    "from gpytorch.variational import VariationalStrategy\n",
    "\n",
    "os.environ['PYTORCH_CUDA_ALLOC_CONF'] = 'expandable_segments:True'"
   ]
  },
  {
   "cell_type": "code",
   "execution_count": 3,
   "id": "53cdf909",
   "metadata": {
    "ExecuteTime": {
     "end_time": "2024-09-26T14:06:50.447428Z",
     "start_time": "2024-09-26T14:06:50.445775Z"
    },
    "execution": {
     "iopub.execute_input": "2024-09-27T18:02:29.420883Z",
     "iopub.status.busy": "2024-09-27T18:02:29.420310Z",
     "iopub.status.idle": "2024-09-27T18:02:29.425693Z",
     "shell.execute_reply": "2024-09-27T18:02:29.424752Z"
    },
    "papermill": {
     "duration": 0.024137,
     "end_time": "2024-09-27T18:02:29.427869",
     "exception": false,
     "start_time": "2024-09-27T18:02:29.403732",
     "status": "completed"
    },
    "tags": []
   },
   "outputs": [],
   "source": [
    "import warnings\n",
    "from sklearn.exceptions import UndefinedMetricWarning\n",
    "\n",
    "warnings.filterwarnings(\"ignore\", category=RuntimeWarning)\n",
    "warnings.filterwarnings(\"ignore\", category=UndefinedMetricWarning)"
   ]
  },
  {
   "cell_type": "markdown",
   "id": "18f84b6e",
   "metadata": {
    "papermill": {
     "duration": 0.015543,
     "end_time": "2024-09-27T18:02:29.458904",
     "exception": false,
     "start_time": "2024-09-27T18:02:29.443361",
     "status": "completed"
    },
    "tags": []
   },
   "source": [
    "## Init GPU"
   ]
  },
  {
   "cell_type": "code",
   "execution_count": 4,
   "id": "901c7aa0",
   "metadata": {
    "ExecuteTime": {
     "end_time": "2024-09-26T14:06:50.549359Z",
     "start_time": "2024-09-26T14:06:50.495507Z"
    },
    "execution": {
     "iopub.execute_input": "2024-09-27T18:02:29.491813Z",
     "iopub.status.busy": "2024-09-27T18:02:29.491015Z",
     "iopub.status.idle": "2024-09-27T18:02:29.609881Z",
     "shell.execute_reply": "2024-09-27T18:02:29.608682Z"
    },
    "papermill": {
     "duration": 0.138096,
     "end_time": "2024-09-27T18:02:29.612045",
     "exception": false,
     "start_time": "2024-09-27T18:02:29.473949",
     "status": "completed"
    },
    "tags": []
   },
   "outputs": [
    {
     "name": "stdout",
     "output_type": "stream",
     "text": [
      "GPU: Tesla T4 is available.\n",
      "cuda\n"
     ]
    }
   ],
   "source": [
    "# Initialize GPU Device\n",
    "device = torch.device('cuda' if torch.cuda.is_available() else 'cpu')\n",
    "\n",
    "if torch.cuda.is_available():\n",
    "    print(f\"GPU: {torch.cuda.get_device_name(0)} is available.\")\n",
    "else:\n",
    "    print(\"No GPU available. Training will run on CPU.\")\n",
    "\n",
    "print(device)"
   ]
  },
  {
   "cell_type": "code",
   "execution_count": 5,
   "id": "59f62046",
   "metadata": {
    "ExecuteTime": {
     "end_time": "2024-09-26T14:06:50.618691Z",
     "start_time": "2024-09-26T14:06:50.599434Z"
    },
    "execution": {
     "iopub.execute_input": "2024-09-27T18:02:29.643397Z",
     "iopub.status.busy": "2024-09-27T18:02:29.643077Z",
     "iopub.status.idle": "2024-09-27T18:02:29.694985Z",
     "shell.execute_reply": "2024-09-27T18:02:29.693967Z"
    },
    "papermill": {
     "duration": 0.070158,
     "end_time": "2024-09-27T18:02:29.697387",
     "exception": false,
     "start_time": "2024-09-27T18:02:29.627229",
     "status": "completed"
    },
    "tags": []
   },
   "outputs": [],
   "source": [
    "%load_ext autoreload\n",
    "%autoreload 2"
   ]
  },
  {
   "cell_type": "markdown",
   "id": "e59702b0",
   "metadata": {
    "papermill": {
     "duration": 0.015686,
     "end_time": "2024-09-27T18:02:29.729048",
     "exception": false,
     "start_time": "2024-09-27T18:02:29.713362",
     "status": "completed"
    },
    "tags": []
   },
   "source": [
    "## Config Info"
   ]
  },
  {
   "cell_type": "code",
   "execution_count": 6,
   "id": "ac453ff8",
   "metadata": {
    "ExecuteTime": {
     "end_time": "2024-09-26T14:06:50.668118Z",
     "start_time": "2024-09-26T14:06:50.645478Z"
    },
    "execution": {
     "iopub.execute_input": "2024-09-27T18:02:29.759696Z",
     "iopub.status.busy": "2024-09-27T18:02:29.759346Z",
     "iopub.status.idle": "2024-09-27T18:02:29.806437Z",
     "shell.execute_reply": "2024-09-27T18:02:29.805718Z"
    },
    "papermill": {
     "duration": 0.064936,
     "end_time": "2024-09-27T18:02:29.808663",
     "exception": false,
     "start_time": "2024-09-27T18:02:29.743727",
     "status": "completed"
    },
    "tags": []
   },
   "outputs": [],
   "source": [
    "# Constants\n",
    "HEIGHT = 224\n",
    "WIDTH = 224\n",
    "CHANNELS = 3\n",
    "\n",
    "TRAIN_BATCH_SIZE = 8\n",
    "VALID_BATCH_SIZE = 4\n",
    "TEST_BATCH_SIZE = 4\n",
    "TEST_SIZE = 0.15\n",
    "VALID_SIZE = 0.15\n",
    "\n",
    "MAX_SLICES = 60\n",
    "SHAPE = (HEIGHT, WIDTH, CHANNELS)\n",
    "\n",
    "NUM_EPOCHS = 50\n",
    "LEARNING_RATE = 1e-3\n",
    "INDUCING_POINTS = 128\n",
    "\n",
    "# TARGET_LABELS = ['any', 'epidural', 'intraparenchymal', 'intraventricular', 'subarachnoid', 'subdural']\n",
    "TARGET_LABELS = ['intraparenchymal']\n",
    "\n",
    "MODEL_PATH = 'trained_model.pth'\n",
    "DEVICE = 'cuda'"
   ]
  },
  {
   "cell_type": "code",
   "execution_count": 7,
   "id": "68053f22",
   "metadata": {
    "ExecuteTime": {
     "end_time": "2024-09-26T14:06:50.716904Z",
     "start_time": "2024-09-26T14:06:50.694455Z"
    },
    "execution": {
     "iopub.execute_input": "2024-09-27T18:02:29.839796Z",
     "iopub.status.busy": "2024-09-27T18:02:29.839413Z",
     "iopub.status.idle": "2024-09-27T18:02:29.910069Z",
     "shell.execute_reply": "2024-09-27T18:02:29.908936Z"
    },
    "papermill": {
     "duration": 0.088862,
     "end_time": "2024-09-27T18:02:29.912433",
     "exception": false,
     "start_time": "2024-09-27T18:02:29.823571",
     "status": "completed"
    },
    "tags": []
   },
   "outputs": [
    {
     "name": "stdout",
     "output_type": "stream",
     "text": [
      "Running on Kaggle\n"
     ]
    }
   ],
   "source": [
    "# Kaggle and local switch\n",
    "KAGGLE = os.path.exists('/kaggle')\n",
    "print(\"Running on Kaggle\" if KAGGLE else \"Running locally\")\n",
    "\n",
    "DATA_DIR = '/kaggle/input/' if KAGGLE else '../rsna-mil-training/'\n",
    "DICOM_DIR = DATA_DIR + 'rsna-mil-training/'\n",
    "CSV_PATH = DATA_DIR + 'training_1000_scan_subset.csv' if KAGGLE else './data_analyze/training_1000_scan_subset.csv'\n",
    "\n",
    "dicom_dir = DICOM_DIR if KAGGLE else DATA_DIR\n",
    "# Load patient scan labels\n",
    "patient_scan_labels = pd.read_csv(CSV_PATH)"
   ]
  },
  {
   "cell_type": "markdown",
   "id": "1e833168",
   "metadata": {
    "papermill": {
     "duration": 0.014824,
     "end_time": "2024-09-27T18:02:29.943405",
     "exception": false,
     "start_time": "2024-09-27T18:02:29.928581",
     "status": "completed"
    },
    "tags": []
   },
   "source": [
    "## Data Preprocessing"
   ]
  },
  {
   "cell_type": "code",
   "execution_count": 8,
   "id": "dd2b6e9a",
   "metadata": {
    "ExecuteTime": {
     "end_time": "2024-09-26T14:06:50.760578Z",
     "start_time": "2024-09-26T14:06:50.744851Z"
    },
    "execution": {
     "iopub.execute_input": "2024-09-27T18:02:29.975082Z",
     "iopub.status.busy": "2024-09-27T18:02:29.974272Z",
     "iopub.status.idle": "2024-09-27T18:02:30.024573Z",
     "shell.execute_reply": "2024-09-27T18:02:30.023737Z"
    },
    "papermill": {
     "duration": 0.068761,
     "end_time": "2024-09-27T18:02:30.026759",
     "exception": false,
     "start_time": "2024-09-27T18:02:29.957998",
     "status": "completed"
    },
    "tags": []
   },
   "outputs": [],
   "source": [
    "def correct_dcm(dcm):\n",
    "    x = dcm.pixel_array + 1000\n",
    "    px_mode = 4096\n",
    "    x[x>=px_mode] = x[x>=px_mode] - px_mode\n",
    "    dcm.PixelData = x.tobytes()\n",
    "    dcm.RescaleIntercept = -1000\n",
    "\n",
    "def window_image(dcm, window_center, window_width):    \n",
    "    if (dcm.BitsStored == 12) and (dcm.PixelRepresentation == 0) and (int(dcm.RescaleIntercept) > -100):\n",
    "        correct_dcm(dcm)\n",
    "    img = dcm.pixel_array * dcm.RescaleSlope + dcm.RescaleIntercept\n",
    "    \n",
    "    # Resize\n",
    "    img = cv2.resize(img, SHAPE[:2], interpolation = cv2.INTER_LINEAR)\n",
    "   \n",
    "    img_min = window_center - window_width // 2\n",
    "    img_max = window_center + window_width // 2\n",
    "    img = np.clip(img, img_min, img_max)\n",
    "    return img\n",
    "\n",
    "def bsb_window(dcm):\n",
    "    brain_img = window_image(dcm, 40, 80)\n",
    "    subdural_img = window_image(dcm, 80, 200)\n",
    "    soft_img = window_image(dcm, 40, 380)\n",
    "    \n",
    "    brain_img = (brain_img - 0) / 80\n",
    "    subdural_img = (subdural_img - (-20)) / 200\n",
    "    soft_img = (soft_img - (-150)) / 380\n",
    "    \n",
    "    bsb_img = np.stack([brain_img, subdural_img, soft_img], axis=-1)\n",
    "    return bsb_img.astype(np.float16)"
   ]
  },
  {
   "cell_type": "code",
   "execution_count": 9,
   "id": "8a2b0d78",
   "metadata": {
    "ExecuteTime": {
     "end_time": "2024-09-26T14:06:50.811026Z",
     "start_time": "2024-09-26T14:06:50.790932Z"
    },
    "execution": {
     "iopub.execute_input": "2024-09-27T18:02:30.058206Z",
     "iopub.status.busy": "2024-09-27T18:02:30.057631Z",
     "iopub.status.idle": "2024-09-27T18:02:30.105149Z",
     "shell.execute_reply": "2024-09-27T18:02:30.104358Z"
    },
    "papermill": {
     "duration": 0.065749,
     "end_time": "2024-09-27T18:02:30.107536",
     "exception": false,
     "start_time": "2024-09-27T18:02:30.041787",
     "status": "completed"
    },
    "tags": []
   },
   "outputs": [],
   "source": [
    "def preprocess_slice(slice, target_size=(HEIGHT, WIDTH)):\n",
    "    # Check if type of slice is dicom or an empty numpy array\n",
    "    if (type(slice) == np.ndarray):\n",
    "        slice = resize(slice, target_size, anti_aliasing=True)\n",
    "        multichannel_slice = np.stack([slice, slice, slice], axis=-1)\n",
    "        return multichannel_slice.astype(np.float16)\n",
    "    else:\n",
    "        slice = bsb_window(slice)\n",
    "        return slice.astype(np.float16)"
   ]
  },
  {
   "cell_type": "code",
   "execution_count": 10,
   "id": "feb1dd56",
   "metadata": {
    "ExecuteTime": {
     "end_time": "2024-09-26T14:06:50.865850Z",
     "start_time": "2024-09-26T14:06:50.841576Z"
    },
    "execution": {
     "iopub.execute_input": "2024-09-27T18:02:30.140118Z",
     "iopub.status.busy": "2024-09-27T18:02:30.139419Z",
     "iopub.status.idle": "2024-09-27T18:02:30.184909Z",
     "shell.execute_reply": "2024-09-27T18:02:30.184103Z"
    },
    "papermill": {
     "duration": 0.0641,
     "end_time": "2024-09-27T18:02:30.187187",
     "exception": false,
     "start_time": "2024-09-27T18:02:30.123087",
     "status": "completed"
    },
    "tags": []
   },
   "outputs": [],
   "source": [
    "def read_dicom_folder(folder_path):\n",
    "    slices = []\n",
    "    for filename in sorted(os.listdir(folder_path))[:MAX_SLICES]:  # Limit to MAX_SLICES\n",
    "        if filename.endswith(\".dcm\"):\n",
    "            file_path = os.path.join(folder_path, filename)\n",
    "            ds = pydicom.dcmread(file_path)\n",
    "            slices.append(ds)\n",
    "            \n",
    "    # Sort slices by images position (z-coordinate) in ascending order\n",
    "    slices = sorted(slices, key=lambda x: float(x.ImagePositionPatient[2]))\n",
    "    \n",
    "    # Pad with black images if necessary\n",
    "    while len(slices) < MAX_SLICES:\n",
    "        slices.append(np.zeros_like(slices[0].pixel_array))\n",
    "    \n",
    "    return slices[:MAX_SLICES]  # Ensure we return exactly MAX_SLICES"
   ]
  },
  {
   "cell_type": "markdown",
   "id": "8d9955a9",
   "metadata": {
    "papermill": {
     "duration": 0.014728,
     "end_time": "2024-09-27T18:02:30.217460",
     "exception": false,
     "start_time": "2024-09-27T18:02:30.202732",
     "status": "completed"
    },
    "tags": []
   },
   "source": [
    "## Dataset and DataLoader"
   ]
  },
  {
   "cell_type": "markdown",
   "id": "0bc80317",
   "metadata": {
    "papermill": {
     "duration": 0.014539,
     "end_time": "2024-09-27T18:02:30.246935",
     "exception": false,
     "start_time": "2024-09-27T18:02:30.232396",
     "status": "completed"
    },
    "tags": []
   },
   "source": [
    "### Splitting the Dataset"
   ]
  },
  {
   "cell_type": "code",
   "execution_count": 11,
   "id": "d1cbe029",
   "metadata": {
    "ExecuteTime": {
     "end_time": "2024-09-26T14:06:50.919343Z",
     "start_time": "2024-09-26T14:06:50.893626Z"
    },
    "execution": {
     "iopub.execute_input": "2024-09-27T18:02:30.279519Z",
     "iopub.status.busy": "2024-09-27T18:02:30.278902Z",
     "iopub.status.idle": "2024-09-27T18:02:30.328298Z",
     "shell.execute_reply": "2024-09-27T18:02:30.327392Z"
    },
    "papermill": {
     "duration": 0.068647,
     "end_time": "2024-09-27T18:02:30.330804",
     "exception": false,
     "start_time": "2024-09-27T18:02:30.262157",
     "status": "completed"
    },
    "tags": []
   },
   "outputs": [],
   "source": [
    "def split_dataset(patient_scan_labels, test_size=TEST_SIZE, val_size=VALID_SIZE, random_state=42):\n",
    "    # If any of the hemorrhage indicators is 1, the label is 1, otherwise 0\n",
    "    patient_scan_labels['label'] = patient_scan_labels[['any', 'epidural', 'intraparenchymal', 'intraventricular', 'subarachnoid', 'subdural']].any(axis=1).astype(int)\n",
    "\n",
    "    # Extract the labels from the DataFrame\n",
    "    labels = patient_scan_labels['label']\n",
    "\n",
    "    # First, split off the test set\n",
    "    train_val_labels, test_labels = train_test_split(\n",
    "        patient_scan_labels, \n",
    "        test_size=test_size, \n",
    "        stratify=labels, \n",
    "        random_state=random_state\n",
    "    )\n",
    "\n",
    "    # Calculate the validation size relative to the train_val set\n",
    "    val_size_adjusted = val_size / (1 - test_size)\n",
    "\n",
    "    # Split the train_val set into train and validation sets\n",
    "    train_labels, val_labels = train_test_split(\n",
    "        train_val_labels, \n",
    "        test_size=val_size_adjusted, \n",
    "        stratify=train_val_labels['label'], \n",
    "        random_state=random_state\n",
    "    )\n",
    "\n",
    "    return train_labels, val_labels, test_labels"
   ]
  },
  {
   "cell_type": "markdown",
   "id": "86acdf2e",
   "metadata": {
    "papermill": {
     "duration": 0.01467,
     "end_time": "2024-09-27T18:02:30.361061",
     "exception": false,
     "start_time": "2024-09-27T18:02:30.346391",
     "status": "completed"
    },
    "tags": []
   },
   "source": [
    "### Processing the Data"
   ]
  },
  {
   "cell_type": "code",
   "execution_count": 12,
   "id": "f684b427",
   "metadata": {
    "ExecuteTime": {
     "end_time": "2024-09-26T14:06:50.964443Z",
     "start_time": "2024-09-26T14:06:50.945254Z"
    },
    "execution": {
     "iopub.execute_input": "2024-09-27T18:02:30.393817Z",
     "iopub.status.busy": "2024-09-27T18:02:30.392998Z",
     "iopub.status.idle": "2024-09-27T18:02:30.441259Z",
     "shell.execute_reply": "2024-09-27T18:02:30.440428Z"
    },
    "papermill": {
     "duration": 0.066799,
     "end_time": "2024-09-27T18:02:30.443402",
     "exception": false,
     "start_time": "2024-09-27T18:02:30.376603",
     "status": "completed"
    },
    "tags": []
   },
   "outputs": [],
   "source": [
    "def process_patient_data(dicom_dir, row, num_instances=12, depth=5):\n",
    "    patient_id = row['patient_id'].replace('ID_', '')\n",
    "    study_instance_uid = row['study_instance_uid'].replace('ID_', '')\n",
    "    \n",
    "    folder_name = f\"{patient_id}_{study_instance_uid}\"\n",
    "    folder_path = os.path.join(dicom_dir, folder_name)\n",
    "    \n",
    "    if os.path.exists(folder_path):\n",
    "        slices = read_dicom_folder(folder_path)\n",
    "        \n",
    "        # Ensure we have enough slices to create the specified instances\n",
    "        if len(slices) < depth * num_instances:\n",
    "            print(f\"Not enough slices for patient {patient_id}: found {len(slices)}, needed {depth * num_instances}\")\n",
    "            return None, None\n",
    "        \n",
    "        preprocessed_slices = [preprocess_slice(slice) for slice in slices]\n",
    "        \n",
    "        # Stack preprocessed slices into an array\n",
    "        preprocessed_slices = np.stack(preprocessed_slices, axis=0)  # (num_slices, height, width, channels)\n",
    "        \n",
    "        # Reshape to (num_instances, depth, height, width, channels)\n",
    "        reshaped_slices = preprocessed_slices[:num_instances * depth].reshape(num_instances, depth, *preprocessed_slices.shape[1:])  # (num_instances, depth, height, width, channels)\n",
    "        \n",
    "        # Labeling remains consistent  \n",
    "        label = 1 if row[['any', 'epidural', 'intraparenchymal', 'intraventricular', 'subarachnoid', 'subdural']].any() else 0\n",
    "        \n",
    "        return reshaped_slices, label\n",
    "    \n",
    "    else:\n",
    "        print(f\"Folder not found: {folder_path}\")\n",
    "        return None, None"
   ]
  },
  {
   "cell_type": "code",
   "execution_count": 13,
   "id": "a4e4ea6d",
   "metadata": {
    "ExecuteTime": {
     "end_time": "2024-09-26T14:06:51.014008Z",
     "start_time": "2024-09-26T14:06:50.995437Z"
    },
    "execution": {
     "iopub.execute_input": "2024-09-27T18:02:30.475770Z",
     "iopub.status.busy": "2024-09-27T18:02:30.475011Z",
     "iopub.status.idle": "2024-09-27T18:02:30.525192Z",
     "shell.execute_reply": "2024-09-27T18:02:30.524426Z"
    },
    "papermill": {
     "duration": 0.068526,
     "end_time": "2024-09-27T18:02:30.527585",
     "exception": false,
     "start_time": "2024-09-27T18:02:30.459059",
     "status": "completed"
    },
    "tags": []
   },
   "outputs": [],
   "source": [
    "class TrainDatasetGenerator(Dataset):\n",
    "    \"\"\"\n",
    "    A custom dataset class for training data.\n",
    "    \"\"\"\n",
    "    def __init__(self, data_dir, patient_scan_labels):\n",
    "        self.data_dir = data_dir\n",
    "        self.patient_scan_labels = patient_scan_labels\n",
    "\n",
    "    def __len__(self):\n",
    "        return len(self.patient_scan_labels)\n",
    "\n",
    "    def __getitem__(self, idx):\n",
    "        row = self.patient_scan_labels.iloc[idx]\n",
    "        preprocessed_slices, label = process_patient_data(self.data_dir, row)\n",
    "        \n",
    "        if preprocessed_slices is not None:\n",
    "            # Convert the list of numpy arrays to a single numpy array\n",
    "            preprocessed_slices = np.array(preprocessed_slices)  # Convert to numpy array\n",
    "            return torch.tensor(preprocessed_slices, dtype=torch.float32), torch.tensor(label, dtype=torch.long)\n",
    "        else:\n",
    "            return None, None  # Handle the case where the folder is not found\n",
    "\n",
    "class TestDatasetGenerator(Dataset):\n",
    "    \"\"\"\n",
    "    A custom dataset class for testing data.\n",
    "    \"\"\"\n",
    "    def __init__(self, data_dir, patient_scan_labels):\n",
    "        self.data_dir = data_dir\n",
    "        self.patient_scan_labels = patient_scan_labels\n",
    "\n",
    "    def __len__(self):\n",
    "        return len(self.patient_scan_labels)\n",
    "\n",
    "    def __getitem__(self, idx):\n",
    "        row = self.patient_scan_labels.iloc[idx]\n",
    "        preprocessed_slices, label = process_patient_data(self.data_dir, row)\n",
    "        \n",
    "        if preprocessed_slices is not None:\n",
    "            # Convert the list of numpy arrays to a single numpy array\n",
    "            preprocessed_slices = np.array(preprocessed_slices)  # Convert to numpy array\n",
    "            return torch.tensor(preprocessed_slices, dtype=torch.float32), torch.tensor(label, dtype=torch.long)\n",
    "        else:\n",
    "            return None, None  # Handle the case where the folder is not found"
   ]
  },
  {
   "cell_type": "markdown",
   "id": "693a019a",
   "metadata": {
    "papermill": {
     "duration": 0.015652,
     "end_time": "2024-09-27T18:02:30.558817",
     "exception": false,
     "start_time": "2024-09-27T18:02:30.543165",
     "status": "completed"
    },
    "tags": []
   },
   "source": [
    "## Data augmentation"
   ]
  },
  {
   "cell_type": "code",
   "execution_count": 14,
   "id": "4f01ab65",
   "metadata": {
    "execution": {
     "iopub.execute_input": "2024-09-27T18:02:30.592344Z",
     "iopub.status.busy": "2024-09-27T18:02:30.591713Z",
     "iopub.status.idle": "2024-09-27T18:02:32.390297Z",
     "shell.execute_reply": "2024-09-27T18:02:32.389207Z"
    },
    "papermill": {
     "duration": 1.817871,
     "end_time": "2024-09-27T18:02:32.392693",
     "exception": false,
     "start_time": "2024-09-27T18:02:30.574822",
     "status": "completed"
    },
    "tags": []
   },
   "outputs": [],
   "source": [
    "from torchvision import transforms\n",
    "from scipy.ndimage import rotate\n",
    "from skimage.transform import resize\n",
    "from scipy.ndimage import gaussian_filter\n",
    "\n",
    "class RandomRotation3D:\n",
    "    def __init__(self, degrees, axes=(1, 2)):\n",
    "        self.degrees = degrees\n",
    "        self.axes = axes\n",
    "\n",
    "    def __call__(self, sample):\n",
    "        angle = np.random.uniform(-self.degrees, self.degrees)\n",
    "        return rotate(sample, angle, axes=self.axes, reshape=False, order=1, mode='constant', cval=0)\n",
    "\n",
    "class RandomFlip3D:\n",
    "    def __init__(self, axis):\n",
    "        self.axis = axis\n",
    "\n",
    "    def __call__(self, sample):\n",
    "        if np.random.random() > 0.5:\n",
    "            return np.flip(sample, axis=self.axis).copy()\n",
    "        return sample\n",
    "\n",
    "class RandomNoise3D:\n",
    "    def __init__(self, mean=0, std=0.01):\n",
    "        self.mean = mean\n",
    "        self.std = std\n",
    "\n",
    "    def __call__(self, sample):\n",
    "        noise = np.random.normal(self.mean, self.std, sample.shape)\n",
    "        return np.clip(sample + noise, 0, 1)  # Ensure values stay in [0, 1] range\n",
    "\n",
    "class RandomBrightnessContrast3D:\n",
    "    def __init__(self, brightness=0.1, contrast=0.1):\n",
    "        self.brightness = brightness\n",
    "        self.contrast = contrast\n",
    "\n",
    "    def __call__(self, sample):\n",
    "        alpha = 1.0 + np.random.uniform(-self.contrast, self.contrast)\n",
    "        beta = np.random.uniform(-self.brightness, self.brightness)\n",
    "        return np.clip(alpha * sample + beta, 0, 1)\n",
    "\n",
    "class RandomBlur3D:\n",
    "    def __init__(self, sigma=(0.1, 1.0)):\n",
    "        self.sigma = sigma\n",
    "\n",
    "    def __call__(self, sample):\n",
    "        sigma = np.random.uniform(self.sigma[0], self.sigma[1])\n",
    "        return gaussian_filter(sample, sigma=sigma)\n",
    "\n",
    "def get_augmentation_transform():\n",
    "    return transforms.Compose([\n",
    "        RandomRotation3D(degrees=10),\n",
    "        RandomFlip3D(axis=2),\n",
    "        RandomNoise3D(mean=0, std=0.01),\n",
    "        RandomBrightnessContrast3D(brightness=0.05, contrast=0.05),\n",
    "        RandomBlur3D(sigma=(0.1, 0.5)),\n",
    "        transforms.Lambda(lambda x: torch.tensor(x).float())\n",
    "    ])\n",
    "\n",
    "class AugmentedDataset(torch.utils.data.Dataset):\n",
    "    def __init__(self, original_dataset, transform=None, aug_prob=0.5):\n",
    "        self.original_dataset = original_dataset\n",
    "        self.transform = transform\n",
    "        self.aug_prob = aug_prob\n",
    "\n",
    "    def __len__(self):\n",
    "        return len(self.original_dataset)\n",
    "\n",
    "    def __getitem__(self, idx):\n",
    "        sample, label = self.original_dataset[idx]\n",
    "        if self.transform and np.random.random() < self.aug_prob:\n",
    "            sample = self.transform(sample)\n",
    "        return sample, label\n",
    "\n",
    "def get_augmented_loader(original_dataset, batch_size, shuffle=True, aug_prob=0.5):\n",
    "    augmented_dataset = AugmentedDataset(original_dataset, transform=get_augmentation_transform(), aug_prob=aug_prob)\n",
    "    return torch.utils.data.DataLoader(augmented_dataset, batch_size=batch_size, shuffle=shuffle)"
   ]
  },
  {
   "cell_type": "markdown",
   "id": "b5ff889e",
   "metadata": {
    "papermill": {
     "duration": 0.014446,
     "end_time": "2024-09-27T18:02:32.422054",
     "exception": false,
     "start_time": "2024-09-27T18:02:32.407608",
     "status": "completed"
    },
    "tags": []
   },
   "source": [
    "## CNN Feature Extractor"
   ]
  },
  {
   "cell_type": "code",
   "execution_count": 15,
   "id": "12e3fdc9",
   "metadata": {
    "ExecuteTime": {
     "end_time": "2024-09-26T14:06:51.060155Z",
     "start_time": "2024-09-26T14:06:51.045602Z"
    },
    "execution": {
     "iopub.execute_input": "2024-09-27T18:02:32.453700Z",
     "iopub.status.busy": "2024-09-27T18:02:32.453160Z",
     "iopub.status.idle": "2024-09-27T18:02:32.510097Z",
     "shell.execute_reply": "2024-09-27T18:02:32.509326Z"
    },
    "papermill": {
     "duration": 0.075334,
     "end_time": "2024-09-27T18:02:32.512227",
     "exception": false,
     "start_time": "2024-09-27T18:02:32.436893",
     "status": "completed"
    },
    "tags": []
   },
   "outputs": [],
   "source": [
    "# def get_train_loader(dicom_dir, patient_scan_labels, batch_size=TRAIN_BATCH_SIZE, shuffle=True):\n",
    "#     train_dataset = TrainDatasetGenerator(dicom_dir, patient_scan_labels)\n",
    "#     return DataLoader(train_dataset, batch_size=batch_size, shuffle=shuffle, num_workers=4, pin_memory=True)\n",
    "\n",
    "def get_train_loader(dicom_dir, patient_scan_labels, batch_size=TRAIN_BATCH_SIZE, shuffle=True):\n",
    "    # Create the original dataset\n",
    "    original_dataset = TrainDatasetGenerator(dicom_dir, patient_scan_labels)\n",
    "    \n",
    "    # Create the augmented dataset\n",
    "    augmented_dataset = AugmentedDataset(original_dataset, transform=get_augmentation_transform())\n",
    "    \n",
    "    # Create and return the DataLoader with the augmented dataset\n",
    "    return DataLoader(\n",
    "        augmented_dataset, \n",
    "        batch_size=batch_size, \n",
    "        shuffle=shuffle, \n",
    "        num_workers=4, \n",
    "        pin_memory=True\n",
    "    )\n",
    "\n",
    "def get_test_loader(dicom_dir, patient_scan_labels, batch_size=TEST_BATCH_SIZE):\n",
    "    test_dataset = TestDatasetGenerator(dicom_dir, patient_scan_labels)\n",
    "    return DataLoader(test_dataset, batch_size=batch_size, shuffle=True, num_workers=4, pin_memory=True)"
   ]
  },
  {
   "cell_type": "markdown",
   "id": "a97b60b3",
   "metadata": {
    "papermill": {
     "duration": 0.014738,
     "end_time": "2024-09-27T18:02:32.542376",
     "exception": false,
     "start_time": "2024-09-27T18:02:32.527638",
     "status": "completed"
    },
    "tags": []
   },
   "source": [
    "### Sparse Gaussian Process Regression"
   ]
  },
  {
   "cell_type": "code",
   "execution_count": 16,
   "id": "92a94e89",
   "metadata": {
    "ExecuteTime": {
     "end_time": "2024-09-26T14:06:51.150869Z",
     "start_time": "2024-09-26T14:06:51.094633Z"
    },
    "execution": {
     "iopub.execute_input": "2024-09-27T18:02:32.573357Z",
     "iopub.status.busy": "2024-09-27T18:02:32.572989Z",
     "iopub.status.idle": "2024-09-27T18:02:32.629724Z",
     "shell.execute_reply": "2024-09-27T18:02:32.628973Z"
    },
    "papermill": {
     "duration": 0.074783,
     "end_time": "2024-09-27T18:02:32.631816",
     "exception": false,
     "start_time": "2024-09-27T18:02:32.557033",
     "status": "completed"
    },
    "tags": []
   },
   "outputs": [],
   "source": [
    "class SparseGPLayer(ApproximateGP):\n",
    "    def __init__(self, num_inputs, num_inducing=INDUCING_POINTS):\n",
    "        # Initialize inducing points\n",
    "        inducing_points = torch.randn(num_inducing, num_inputs)\n",
    "        \n",
    "        # Initialize variational parameters\n",
    "        variational_distribution = CholeskyVariationalDistribution(num_inducing)\n",
    "        variational_strategy = VariationalStrategy(\n",
    "            self, inducing_points, variational_distribution, learn_inducing_locations=True\n",
    "        )\n",
    "        \n",
    "        super(SparseGPLayer, self).__init__(variational_strategy)\n",
    "        \n",
    "        # Mean and covariance modules\n",
    "        self.mean_module = gpytorch.means.ConstantMean()\n",
    "        self.covar_module = gpytorch.kernels.ScaleKernel(gpytorch.kernels.RBFKernel())\n",
    "        \n",
    "    def forward(self, x):\n",
    "        mean_x = self.mean_module(x)\n",
    "        covar_x = self.covar_module(x)\n",
    "        return gpytorch.distributions.MultivariateNormal(mean_x, covar_x)"
   ]
  },
  {
   "cell_type": "code",
   "execution_count": 17,
   "id": "0c63993c",
   "metadata": {
    "ExecuteTime": {
     "end_time": "2024-09-26T14:06:51.182548Z",
     "start_time": "2024-09-26T14:06:51.166342Z"
    },
    "execution": {
     "iopub.execute_input": "2024-09-27T18:02:32.663283Z",
     "iopub.status.busy": "2024-09-27T18:02:32.662946Z",
     "iopub.status.idle": "2024-09-27T18:02:32.717740Z",
     "shell.execute_reply": "2024-09-27T18:02:32.716927Z"
    },
    "papermill": {
     "duration": 0.072934,
     "end_time": "2024-09-27T18:02:32.719923",
     "exception": false,
     "start_time": "2024-09-27T18:02:32.646989",
     "status": "completed"
    },
    "tags": []
   },
   "outputs": [],
   "source": [
    "class SparseGPWrapper(nn.Module):\n",
    "    def __init__(self, num_inputs, num_inducing=INDUCING_POINTS):\n",
    "        super(SparseGPWrapper, self).__init__()\n",
    "        self.gp_layer = SparseGPLayer(num_inputs, num_inducing)\n",
    "        self.likelihood = gpytorch.likelihoods.GaussianLikelihood()\n",
    "        \n",
    "    def forward(self, x):\n",
    "        # Get the GP output\n",
    "        gp_output = self.gp_layer(x)\n",
    "        # Return the mean of the GP output\n",
    "        return gp_output.mean"
   ]
  },
  {
   "cell_type": "markdown",
   "id": "32f56376",
   "metadata": {
    "papermill": {
     "duration": 0.014546,
     "end_time": "2024-09-27T18:02:32.750999",
     "exception": false,
     "start_time": "2024-09-27T18:02:32.736453",
     "status": "completed"
    },
    "tags": []
   },
   "source": [
    "### Attention Layer"
   ]
  },
  {
   "cell_type": "code",
   "execution_count": 18,
   "id": "9c93ff3d",
   "metadata": {
    "ExecuteTime": {
     "end_time": "2024-09-26T14:06:51.235970Z",
     "start_time": "2024-09-26T14:06:51.211910Z"
    },
    "execution": {
     "iopub.execute_input": "2024-09-27T18:02:32.782797Z",
     "iopub.status.busy": "2024-09-27T18:02:32.782454Z",
     "iopub.status.idle": "2024-09-27T18:02:32.838030Z",
     "shell.execute_reply": "2024-09-27T18:02:32.837345Z"
    },
    "papermill": {
     "duration": 0.074205,
     "end_time": "2024-09-27T18:02:32.839985",
     "exception": false,
     "start_time": "2024-09-27T18:02:32.765780",
     "status": "completed"
    },
    "tags": []
   },
   "outputs": [],
   "source": [
    "class AttentionLayer(nn.Module):\n",
    "    def __init__(self, input_dim, hidden_dim):\n",
    "        super(AttentionLayer, self).__init__()\n",
    "        self.attention = nn.Sequential(\n",
    "            nn.Linear(input_dim, hidden_dim),\n",
    "            nn.Tanh(),\n",
    "            nn.Linear(hidden_dim, 1)\n",
    "        )\n",
    "\n",
    "    def forward(self, x):\n",
    "        # x shape: (batch_size, num_instances, feature_dim)\n",
    "        attention_weights = self.attention(x)\n",
    "        weights = F.softmax(attention_weights, dim=1)\n",
    "        \n",
    "        return (x * weights).sum(dim=1), weights.squeeze(-1)"
   ]
  },
  {
   "cell_type": "code",
   "execution_count": 19,
   "id": "db480aca",
   "metadata": {
    "ExecuteTime": {
     "end_time": "2024-09-26T14:06:51.283731Z",
     "start_time": "2024-09-26T14:06:51.262533Z"
    },
    "execution": {
     "iopub.execute_input": "2024-09-27T18:02:32.871031Z",
     "iopub.status.busy": "2024-09-27T18:02:32.870697Z",
     "iopub.status.idle": "2024-09-27T18:02:32.926098Z",
     "shell.execute_reply": "2024-09-27T18:02:32.925384Z"
    },
    "papermill": {
     "duration": 0.073254,
     "end_time": "2024-09-27T18:02:32.928090",
     "exception": false,
     "start_time": "2024-09-27T18:02:32.854836",
     "status": "completed"
    },
    "tags": []
   },
   "outputs": [],
   "source": [
    "class GatedAttention(nn.Module):\n",
    "    def __init__(self, input_dim, hidden_dim):\n",
    "        super(GatedAttention, self).__init__()\n",
    "        self.attention = nn.Sequential(\n",
    "            nn.Linear(input_dim, hidden_dim),\n",
    "            nn.Tanh(),\n",
    "            nn.Linear(hidden_dim, 1)\n",
    "        )\n",
    "        self.gate = nn.Sequential(\n",
    "            nn.Linear(input_dim, hidden_dim),\n",
    "            nn.Tanh(),\n",
    "            nn.Linear(hidden_dim, 1)\n",
    "        )\n",
    "        \n",
    "    def forward(self, x):\n",
    "        # x shape: (batch_size, num_instances, input_dim)\n",
    "        attention_weights = self.attention(x)\n",
    "        gate_weights = torch.sigmoid(self.gate(x))\n",
    "        \n",
    "        weights = attention_weights * gate_weights\n",
    "        weights = F.softmax(weights, dim=1)\n",
    "        \n",
    "        return (x * weights).sum(dim=1), weights.squeeze(-1)"
   ]
  },
  {
   "cell_type": "markdown",
   "id": "d6faa76c",
   "metadata": {
    "papermill": {
     "duration": 0.014516,
     "end_time": "2024-09-27T18:02:32.957832",
     "exception": false,
     "start_time": "2024-09-27T18:02:32.943316",
     "status": "completed"
    },
    "tags": []
   },
   "source": [
    "### Sparse Gaussian Process Layer"
   ]
  },
  {
   "cell_type": "code",
   "execution_count": 20,
   "id": "2c760646",
   "metadata": {
    "ExecuteTime": {
     "end_time": "2024-09-26T14:06:51.342207Z",
     "start_time": "2024-09-26T14:06:51.314592Z"
    },
    "execution": {
     "iopub.execute_input": "2024-09-27T18:02:32.988823Z",
     "iopub.status.busy": "2024-09-27T18:02:32.988443Z",
     "iopub.status.idle": "2024-09-27T18:02:33.044769Z",
     "shell.execute_reply": "2024-09-27T18:02:33.044035Z"
    },
    "papermill": {
     "duration": 0.074387,
     "end_time": "2024-09-27T18:02:33.046843",
     "exception": false,
     "start_time": "2024-09-27T18:02:32.972456",
     "status": "completed"
    },
    "tags": []
   },
   "outputs": [],
   "source": [
    "class SparseGPlayer(gpytorch.models.ApproximateGP):\n",
    "    def __init__(self, inducing_points):\n",
    "        inducing_points = inducing_points.to(device)\n",
    "        variational_distribution = gpytorch.variational.CholeskyVariationalDistribution(\n",
    "            inducing_points.size(0)\n",
    "        )\n",
    "        variational_strategy = gpytorch.variational.VariationalStrategy(\n",
    "            self, inducing_points, variational_distribution, learn_inducing_locations=True\n",
    "        )\n",
    "        super(SparseGPlayer, self).__init__(variational_strategy)\n",
    "        \n",
    "        self.mean_module = gpytorch.means.ConstantMean().to(device)\n",
    "        self.covar_module = gpytorch.kernels.ScaleKernel(gpytorch.kernels.RBFKernel()).to(device)\n",
    "    \n",
    "    def forward(self, x):\n",
    "        x = x.to(device)\n",
    "        \n",
    "        mean_x = self.mean_module(x)\n",
    "        covar_x = self.covar_module(x)\n",
    "        return gpytorch.distributions.MultivariateNormal(mean_x, covar_x)"
   ]
  },
  {
   "cell_type": "markdown",
   "id": "fb0536d1",
   "metadata": {
    "papermill": {
     "duration": 0.015003,
     "end_time": "2024-09-27T18:02:33.078109",
     "exception": false,
     "start_time": "2024-09-27T18:02:33.063106",
     "status": "completed"
    },
    "tags": []
   },
   "source": [
    "### ResNet3D Model"
   ]
  },
  {
   "cell_type": "markdown",
   "id": "48ad3375",
   "metadata": {
    "papermill": {
     "duration": 0.014329,
     "end_time": "2024-09-27T18:02:33.107308",
     "exception": false,
     "start_time": "2024-09-27T18:02:33.092979",
     "status": "completed"
    },
    "tags": []
   },
   "source": [
    "#### Basic Block"
   ]
  },
  {
   "cell_type": "code",
   "execution_count": 21,
   "id": "f9b02159",
   "metadata": {
    "ExecuteTime": {
     "end_time": "2024-09-26T14:06:51.381657Z",
     "start_time": "2024-09-26T14:06:51.364267Z"
    },
    "execution": {
     "iopub.execute_input": "2024-09-27T18:02:33.138540Z",
     "iopub.status.busy": "2024-09-27T18:02:33.138197Z",
     "iopub.status.idle": "2024-09-27T18:02:33.197140Z",
     "shell.execute_reply": "2024-09-27T18:02:33.196395Z"
    },
    "papermill": {
     "duration": 0.077143,
     "end_time": "2024-09-27T18:02:33.199144",
     "exception": false,
     "start_time": "2024-09-27T18:02:33.122001",
     "status": "completed"
    },
    "tags": []
   },
   "outputs": [],
   "source": [
    "class BasicBlock3D(nn.Module):\n",
    "    def __init__(\n",
    "        self, \n",
    "        in_channels: int,\n",
    "        out_channels: int,\n",
    "        stride: int = 1,\n",
    "        expansion: int = 1,\n",
    "        downsample: nn.Module = None,\n",
    "        dropout_rate: float = 0.25,\n",
    "        num_inducing_points: int = INDUCING_POINTS\n",
    "    ) -> None:\n",
    "        super(BasicBlock3D, self).__init__()\n",
    "        self.expansion = expansion\n",
    "        self.downsample = downsample\n",
    "        \n",
    "        self.conv1 = nn.Conv3d(\n",
    "            in_channels, \n",
    "            out_channels, \n",
    "            kernel_size=3, \n",
    "            stride=stride, \n",
    "            padding=1,\n",
    "            bias=False\n",
    "        )\n",
    "        self.bn1 = nn.BatchNorm3d(out_channels)\n",
    "        self.relu = nn.ReLU(inplace=True)\n",
    "        self.dropout = nn.Dropout3d(dropout_rate)\n",
    "        self.conv2 = nn.Conv3d(\n",
    "            out_channels, \n",
    "            out_channels*self.expansion, \n",
    "            kernel_size=3, \n",
    "            stride=1,\n",
    "            padding=1,\n",
    "            bias=False\n",
    "        )\n",
    "        self.bn2 = nn.BatchNorm3d(out_channels*self.expansion)\n",
    "\n",
    "    def forward(self, x: torch.Tensor) -> torch.Tensor:\n",
    "        identity = x\n",
    "        \n",
    "        out = self.relu(self.bn1(self.conv1(x)))\n",
    "        out = self.dropout(out)\n",
    "        \n",
    "        out = self.conv2(out)\n",
    "        out = self.bn2(out)\n",
    "        \n",
    "        if self.downsample is not None:\n",
    "            identity = self.downsample(x)\n",
    "        \n",
    "        out += identity\n",
    "        out = self.relu(out)\n",
    "        \n",
    "        return out"
   ]
  },
  {
   "cell_type": "markdown",
   "id": "d05b245e",
   "metadata": {
    "papermill": {
     "duration": 0.01475,
     "end_time": "2024-09-27T18:02:33.265889",
     "exception": false,
     "start_time": "2024-09-27T18:02:33.251139",
     "status": "completed"
    },
    "tags": []
   },
   "source": [
    "#### ResNet3D Model"
   ]
  },
  {
   "cell_type": "code",
   "execution_count": 22,
   "id": "56f51d8f",
   "metadata": {
    "ExecuteTime": {
     "end_time": "2024-09-26T14:06:51.450173Z",
     "start_time": "2024-09-26T14:06:51.429617Z"
    },
    "execution": {
     "iopub.execute_input": "2024-09-27T18:02:33.297546Z",
     "iopub.status.busy": "2024-09-27T18:02:33.297177Z",
     "iopub.status.idle": "2024-09-27T18:02:33.376067Z",
     "shell.execute_reply": "2024-09-27T18:02:33.375264Z"
    },
    "papermill": {
     "duration": 0.097646,
     "end_time": "2024-09-27T18:02:33.378225",
     "exception": false,
     "start_time": "2024-09-27T18:02:33.280579",
     "status": "completed"
    },
    "tags": []
   },
   "outputs": [],
   "source": [
    "class ResNet3D_MIL(nn.Module):\n",
    "    def __init__(\n",
    "        self, \n",
    "        img_channels: int,\n",
    "        num_layers: int,\n",
    "        block: Type[BasicBlock3D],\n",
    "        num_classes: int = 1,\n",
    "        dropout_rate: float = 0.25,\n",
    "        num_inducing_points = INDUCING_POINTS\n",
    "    ) -> None:\n",
    "        super(ResNet3D_MIL, self).__init__()\n",
    "        \n",
    "        if num_layers == 18:\n",
    "            layers = [2, 2, 2, 2]\n",
    "            self.expansion = 1\n",
    "        elif num_layers == 34:\n",
    "            layers = [3, 4, 6, 3]\n",
    "            self.expansion = 1\n",
    "        elif num_layers == 50:\n",
    "            layers = [3, 4, 6, 3]\n",
    "            self.expansion = 4\n",
    "        else:\n",
    "            raise ValueError(\"Unsupported number of layers\")\n",
    "        \n",
    "        self.in_channels = 16\n",
    "        self.conv1 = nn.Conv3d(\n",
    "            in_channels=img_channels,\n",
    "            out_channels=self.in_channels,\n",
    "            kernel_size=7, \n",
    "            stride=(1, 2, 2),\n",
    "            padding=3,\n",
    "            bias=False\n",
    "        )\n",
    "        self.bn1 = nn.BatchNorm3d(self.in_channels)\n",
    "        self.relu = nn.ReLU(inplace=True)\n",
    "        self.maxpool = nn.MaxPool3d(kernel_size=3, stride=2, padding=1)\n",
    "        \n",
    "        self.layer1 = self._make_layer(block, 32, layers[0], stride=1, dropout_rate=dropout_rate)\n",
    "        self.layer2 = self._make_layer(block, 32, layers[1], stride=2, dropout_rate=dropout_rate)\n",
    "        self.layer3 = self._make_layer(block, 32, layers[2], stride=2, dropout_rate=dropout_rate)\n",
    "        self.layer4 = self._make_layer(block, 32, layers[3], stride=2, dropout_rate=dropout_rate)\n",
    "        \n",
    "        self.avgpool = nn.AdaptiveAvgPool3d((1, 1, 1))\n",
    "#         self.fc = nn.Linear(32*self.expansion, num_classes)\n",
    "\n",
    "        self.feature_dim = 32 * self.expansion\n",
    "        self.gated_attention = GatedAttention(self.feature_dim, 256)\n",
    "        \n",
    "#         # Inducing points for Sparse Gaussian Process (example size; adjust as needed)\n",
    "#         inducing_points_size = num_inducing_points\n",
    "#         inducing_points_tensor = torch.randn(inducing_points_size , 32).to(device)\n",
    "#         # Initialize Sparse Gaussian Process model with inducing points \n",
    "#         self.sparse_gp_model = SparseGPlayer(inducing_points_tensor).to(device)\n",
    "        self.sparse_gp = SparseGPWrapper(num_inputs=self.feature_dim, num_inducing=num_inducing_points)\n",
    "\n",
    "        self.fc = nn.Linear(self.feature_dim + 1, num_classes) # +1 for the GP mean\n",
    "\n",
    "    def _make_layer(\n",
    "        self, \n",
    "        block: Type[BasicBlock3D],\n",
    "        out_channels: int,\n",
    "        blocks: int,\n",
    "        stride: int = 1,\n",
    "        dropout_rate: float = 0.25\n",
    "    ) -> nn.Sequential:\n",
    "        downsample = None\n",
    "        if stride != 1 or self.in_channels != out_channels * self.expansion:\n",
    "            downsample = nn.Sequential(\n",
    "                nn.Conv3d(\n",
    "                    self.in_channels, \n",
    "                    out_channels * self.expansion,\n",
    "                    kernel_size=1,\n",
    "                    stride=stride,\n",
    "                    bias=False \n",
    "                ),\n",
    "                nn.BatchNorm3d(out_channels * self.expansion),\n",
    "            )\n",
    "        \n",
    "        layers = []\n",
    "        layers.append(\n",
    "            block(\n",
    "                self.in_channels, out_channels, stride, self.expansion, downsample, dropout_rate\n",
    "            )\n",
    "        )\n",
    "        self.in_channels = out_channels * self.expansion\n",
    "        for _ in range(1, blocks):\n",
    "            layers.append(block(\n",
    "                self.in_channels,\n",
    "                out_channels,\n",
    "                expansion=self.expansion,\n",
    "                dropout_rate=dropout_rate\n",
    "            ))\n",
    "        \n",
    "        return nn.Sequential(*layers)\n",
    "\n",
    "    def forward(self, x: torch.Tensor) -> torch.Tensor:\n",
    "        \n",
    "        # Input shape assertion\n",
    "        assert x.dim() == 6, f\"Expected 6D input (batch_size, num_instances, depth, height, width, channels), but got {x.dim()}D input; x.shape={x.shape}\"\n",
    "        batch_size, num_instances, d, h, w, c = x.size()\n",
    "        \n",
    "        # Reshape to (batch_size * num_instances, channels, height, width)\n",
    "        out = x.view(batch_size * num_instances, c, d, h, w)\n",
    "        # print(f'x shape after view: {out.size()}')\n",
    "        \n",
    "        out = self.conv1(out)\n",
    "        out = self.bn1(out)\n",
    "        out = self.relu(out)\n",
    "        \n",
    "        out = self.maxpool(out)\n",
    "\n",
    "        out = self.layer1(out)\n",
    "        out = self.layer2(out)\n",
    "        out = self.layer3(out)\n",
    "        out = self.layer4(out)\n",
    "\n",
    "        out = self.avgpool(out)\n",
    "        out = torch.flatten(out, 1)\n",
    "        # print(f'out shape after avgpool: {out.size()}')\n",
    "        \n",
    "        # Reshape back to (batch_size, num_instances, features)\n",
    "        out = out.view(batch_size, num_instances, -1)\n",
    "        # print(f'out shape after view: {out.size()}')\n",
    "        \n",
    "        # Apply GatedAttention\n",
    "#         out, attention_weights = self.gated_attention(out)\n",
    "        attention_out, attention_weights = self.gated_attention(out)\n",
    "    \n",
    "    \n",
    "        # Apply Sparse GP\n",
    "        gp_out = self.sparse_gp(out.view(-1, self.feature_dim))\n",
    "        gp_out = gp_out.view(batch_size, num_instances, -1)\n",
    "        gp_mean = torch.mean(gp_out, dim=1)\n",
    "\n",
    "        # out = torch.max(out, dim=1)[0]  # Take max across instances\n",
    "        \n",
    "        # # Prepare input for Sparse GP model (requires reshaping) \n",
    "        # gp_input=torch.randn(batch_size, num_instances , 32).to(device)  \n",
    "        # \n",
    "        # # Print shape of GP input\n",
    "        # print(f'GP input shape: {gp_input.size()}')\n",
    "        # \n",
    "        # gp_output=self.sparse_gp_model(gp_input)\n",
    "        # \n",
    "        # # Use GP output mean (or any other desired statistic) as additional features \n",
    "        # gp_mean_features=gp_output.mean\n",
    "        # \n",
    "        # # Print shape of out and GP mean features\n",
    "        # print(f'out shape: {out.size()}')\n",
    "        # print(f'GP mean features shape: {gp_mean_features.size()}')\n",
    "        # # Print shape gp unsqueezed\n",
    "        # print(f'GP mean features unsqueezed shape: {gp_mean_features.unsqueeze(0).size()}')\n",
    "        # \n",
    "        # # Concatenate GP features with attention output \n",
    "        # combined_out=torch.cat((out , gp_mean_features), dim=-1)\n",
    "        \n",
    "        # Concatenate attention output and GP mean\n",
    "        combined_out = torch.cat((attention_out, gp_mean), dim=-1)\n",
    "    \n",
    "#         print(f\"attention_out shape: {attention_out.shape}\")\n",
    "#         print(f\"gp_mean shape: {gp_mean.shape}\")\n",
    "#         print(f\"combined_out shape: {combined_out.shape}\")\n",
    "#         print(f\"self.fc.weight shape: {self.fc.weight.shape}\")\n",
    "        \n",
    "        # Apply final fully connected layer\n",
    "        out = self.fc(combined_out)\n",
    "\n",
    "        \n",
    "        # Assert that the output shape is correct\n",
    "        assert out.shape == (batch_size, self.fc.out_features), f\"Expected output shape (batch_size, {self.fc.out_features}), but got {out.shape}\"\n",
    "        \n",
    "        return out\n",
    "\n",
    "\n",
    "def ResNet3D18_MIL(img_channels: int = 3, num_classes: int = 1, dropout_rate: float = 0.25, num_inducing_points=INDUCING_POINTS):\n",
    "    return ResNet3D_MIL(img_channels, 18, BasicBlock3D, num_classes, dropout_rate, num_inducing_points)\n",
    "\n",
    "def ResNet3D34_MIL(img_channels: int = 3, num_classes: int = 1, dropout_rate: float = 0.25, num_inducing_points=INDUCING_POINTS):\n",
    "    return ResNet3D_MIL(img_channels, 34, BasicBlock3D, num_classes, dropout_rate, num_inducing_points)\n",
    "\n",
    "def ResNet3D50_MIL(img_channels: int = 3, num_classes: int = 1, dropout_rate: float = 0.25, num_inducing_points=INDUCING_POINTS):\n",
    "    return ResNet3D_MIL(img_channels, 50, BasicBlock3D, num_classes, dropout_rate, num_inducing_points)"
   ]
  },
  {
   "cell_type": "markdown",
   "id": "617d4a4b",
   "metadata": {
    "papermill": {
     "duration": 0.014583,
     "end_time": "2024-09-27T18:02:33.408186",
     "exception": false,
     "start_time": "2024-09-27T18:02:33.393603",
     "status": "completed"
    },
    "tags": []
   },
   "source": [
    "## Training and Evaluation"
   ]
  },
  {
   "cell_type": "markdown",
   "id": "68a0bb50",
   "metadata": {
    "papermill": {
     "duration": 0.01434,
     "end_time": "2024-09-27T18:02:33.437082",
     "exception": false,
     "start_time": "2024-09-27T18:02:33.422742",
     "status": "completed"
    },
    "tags": []
   },
   "source": [
    "### Training"
   ]
  },
  {
   "cell_type": "code",
   "execution_count": 23,
   "id": "bc70387d",
   "metadata": {
    "ExecuteTime": {
     "end_time": "2024-09-26T14:06:51.496475Z",
     "start_time": "2024-09-26T14:06:51.472936Z"
    },
    "execution": {
     "iopub.execute_input": "2024-09-27T18:02:33.468922Z",
     "iopub.status.busy": "2024-09-27T18:02:33.468559Z",
     "iopub.status.idle": "2024-09-27T18:02:33.535166Z",
     "shell.execute_reply": "2024-09-27T18:02:33.534406Z"
    },
    "papermill": {
     "duration": 0.085491,
     "end_time": "2024-09-27T18:02:33.537314",
     "exception": false,
     "start_time": "2024-09-27T18:02:33.451823",
     "status": "completed"
    },
    "tags": []
   },
   "outputs": [],
   "source": [
    "def train_epoch(model, data_loader, criterion, optimizer, scheduler, device):\n",
    "    \"\"\"Train the model for one epoch.\"\"\"\n",
    "    model.train()\n",
    "    total_loss = 0.0\n",
    "    predictions = []\n",
    "    labels = []\n",
    "\n",
    "    for batch_data, batch_labels in data_loader:\n",
    "        batch_data = batch_data.to(device)\n",
    "        batch_labels = batch_labels.float().to(device)\n",
    "\n",
    "        optimizer.zero_grad()\n",
    "        outputs = model(batch_data).squeeze()\n",
    "        loss = criterion(outputs, batch_labels)\n",
    "        loss.backward()\n",
    "        optimizer.step()\n",
    "        scheduler.step()\n",
    "\n",
    "        total_loss += loss.item()\n",
    "        predictions.extend((outputs > 0).cpu().numpy())\n",
    "        labels.extend(batch_labels.cpu().numpy())\n",
    "\n",
    "    return total_loss, predictions, labels\n",
    "\n",
    "def validate(model, data_loader, criterion, device):\n",
    "    \"\"\"Validate the model.\"\"\"\n",
    "    model.eval()\n",
    "    total_loss = 0.0\n",
    "    predictions = []\n",
    "    labels = []\n",
    "\n",
    "    with torch.no_grad():\n",
    "        for batch_data, batch_labels in data_loader:\n",
    "            batch_data = batch_data.to(device)\n",
    "            batch_labels = batch_labels.float().to(device)\n",
    "\n",
    "            outputs = model(batch_data).squeeze()\n",
    "            loss = criterion(outputs, batch_labels)\n",
    "\n",
    "            total_loss += loss.item()\n",
    "            predictions.extend((outputs > 0).cpu().numpy())\n",
    "            labels.extend(batch_labels.cpu().numpy())\n",
    "\n",
    "    return total_loss, predictions, labels\n",
    "\n",
    "def calculate_metrics(predictions, labels):\n",
    "    \"\"\"Calculate and return performance metrics.\"\"\"\n",
    "    return {\n",
    "        \"accuracy\": accuracy_score(labels, predictions),\n",
    "        \"precision\": precision_score(labels, predictions),\n",
    "        \"recall\": recall_score(labels, predictions),\n",
    "        \"f1\": f1_score(labels, predictions)\n",
    "    }\n",
    "\n",
    "def print_epoch_stats(epoch, num_epochs, phase, loss, metrics):\n",
    "    \"\"\"Print statistics for an epoch.\"\"\"\n",
    "    print(f\"Epoch {epoch+1}/{num_epochs} - {phase.capitalize()}:\")\n",
    "    print(f\"Loss: {loss:.4f}, Accuracy: {metrics['accuracy']:.4f}, \"\n",
    "          f\"Precision: {metrics['precision']:.4f}, Recall: {metrics['recall']:.4f}, \"\n",
    "          f\"F1: {metrics['f1']:.4f}\")\n",
    "\n",
    "def train_model(model, train_loader, val_loader, criterion, optimizer, num_epochs, learning_rate, device='cuda'):\n",
    "    \"\"\"Train the model and return the best model based on validation accuracy.\"\"\"\n",
    "    model = model.to(device)\n",
    "    scheduler = optim.lr_scheduler.OneCycleLR(optimizer, max_lr=learning_rate, \n",
    "                                              steps_per_epoch=len(train_loader), epochs=num_epochs)\n",
    "\n",
    "    best_val_accuracy = 0.0\n",
    "    best_model_state = None\n",
    "\n",
    "    for epoch in range(num_epochs):\n",
    "        # Training phase\n",
    "        train_loss, train_predictions, train_labels = train_epoch(model, train_loader, criterion, optimizer, scheduler, device)\n",
    "        train_metrics = calculate_metrics(train_predictions, train_labels)\n",
    "        print_epoch_stats(epoch, num_epochs, \"train\", train_loss, train_metrics)\n",
    "\n",
    "        # Validation phase\n",
    "        val_loss, val_predictions, val_labels = validate(model, val_loader, criterion, device)\n",
    "        val_metrics = calculate_metrics(val_predictions, val_labels)\n",
    "        print_epoch_stats(epoch, num_epochs, \"validation\", val_loss, val_metrics)\n",
    "\n",
    "        # Save best model\n",
    "        if val_metrics['accuracy'] > best_val_accuracy:\n",
    "            best_val_accuracy = val_metrics['accuracy']\n",
    "            best_model_state = model.state_dict()\n",
    "\n",
    "    # Load best model\n",
    "    model.load_state_dict(best_model_state)\n",
    "    return model"
   ]
  },
  {
   "cell_type": "markdown",
   "id": "bf6fd74f",
   "metadata": {
    "papermill": {
     "duration": 0.014576,
     "end_time": "2024-09-27T18:02:33.566922",
     "exception": false,
     "start_time": "2024-09-27T18:02:33.552346",
     "status": "completed"
    },
    "tags": []
   },
   "source": [
    "### Evaluation Functions"
   ]
  },
  {
   "cell_type": "code",
   "execution_count": 24,
   "id": "d7821ae3",
   "metadata": {
    "ExecuteTime": {
     "end_time": "2024-09-26T14:06:51.552789Z",
     "start_time": "2024-09-26T14:06:51.524906Z"
    },
    "execution": {
     "iopub.execute_input": "2024-09-27T18:02:33.598909Z",
     "iopub.status.busy": "2024-09-27T18:02:33.598549Z",
     "iopub.status.idle": "2024-09-27T18:02:33.653746Z",
     "shell.execute_reply": "2024-09-27T18:02:33.652796Z"
    },
    "papermill": {
     "duration": 0.073709,
     "end_time": "2024-09-27T18:02:33.656001",
     "exception": false,
     "start_time": "2024-09-27T18:02:33.582292",
     "status": "completed"
    },
    "tags": []
   },
   "outputs": [],
   "source": [
    "## Model Evaluation Functions\n",
    "def evaluate_model(model, data_loader, device='cuda'):\n",
    "    \"\"\"Evaluate the model on the given data loader.\"\"\"\n",
    "    model = model.to(device)\n",
    "    model.eval()\n",
    "    predictions = []\n",
    "    labels = []\n",
    "\n",
    "    with torch.no_grad():\n",
    "        for batch_data, batch_labels in data_loader:\n",
    "            batch_data = batch_data.to(device)\n",
    "            batch_labels = batch_labels.float().to(device)\n",
    "\n",
    "            outputs = model(batch_data).squeeze()\n",
    "            predictions.extend((outputs > 0).cpu().numpy())\n",
    "            labels.extend(batch_labels.cpu().numpy())\n",
    "\n",
    "    return np.array(predictions), np.array(labels)\n",
    "\n",
    "def print_metrics(metrics):\n",
    "    \"\"\"Print the calculated metrics.\"\"\"\n",
    "    print(f\"Test Accuracy: {metrics['accuracy']:.4f}, \"\n",
    "          f\"Precision: {metrics['precision']:.4f}, \"\n",
    "          f\"Recall: {metrics['recall']:.4f}, \"\n",
    "          f\"F1: {metrics['f1']:.4f}\")"
   ]
  },
  {
   "cell_type": "markdown",
   "id": "967256f4",
   "metadata": {
    "papermill": {
     "duration": 0.014606,
     "end_time": "2024-09-27T18:02:33.686093",
     "exception": false,
     "start_time": "2024-09-27T18:02:33.671487",
     "status": "completed"
    },
    "tags": []
   },
   "source": [
    "### Visualization Functions"
   ]
  },
  {
   "cell_type": "code",
   "execution_count": 25,
   "id": "66c3ca68",
   "metadata": {
    "ExecuteTime": {
     "end_time": "2024-09-26T14:32:36.802512Z",
     "start_time": "2024-09-26T14:32:36.786903Z"
    },
    "execution": {
     "iopub.execute_input": "2024-09-27T18:02:33.716511Z",
     "iopub.status.busy": "2024-09-27T18:02:33.716223Z",
     "iopub.status.idle": "2024-09-27T18:02:33.774984Z",
     "shell.execute_reply": "2024-09-27T18:02:33.774272Z"
    },
    "papermill": {
     "duration": 0.076301,
     "end_time": "2024-09-27T18:02:33.777176",
     "exception": false,
     "start_time": "2024-09-27T18:02:33.700875",
     "status": "completed"
    },
    "tags": []
   },
   "outputs": [],
   "source": [
    "## Visualization Functions\n",
    "def plot_roc_curve(model, data_loader, device):\n",
    "    \"\"\"Plot the ROC curve for the model predictions.\"\"\"\n",
    "    # predictions, labels = evaluate_model(model, data_loader, device)\n",
    "    \n",
    "    model.eval()\n",
    "    labels = []\n",
    "    predictions = []\n",
    "    with torch.no_grad():\n",
    "        for batch_data, batch_labels in data_loader:\n",
    "            batch_data = batch_data.to(device)\n",
    "            batch_labels = batch_labels.float().to(device)\n",
    "\n",
    "            outputs = model(batch_data).squeeze()\n",
    "            predictions.extend(outputs.cpu().numpy())\n",
    "            labels.extend(batch_labels.cpu().numpy())\n",
    "            \n",
    "    fpr, tpr, _ = roc_curve(labels, predictions)\n",
    "    roc_auc = auc(fpr, tpr)\n",
    "    \n",
    "    plt.figure()\n",
    "    plt.plot(fpr, tpr, color='darkorange', lw=2, label=f'ROC curve (AUC = {roc_auc:.2f})')\n",
    "    plt.plot([0, 1], [0, 1], color='navy', lw=2, linestyle='--')\n",
    "    plt.xlim([0.0, 1.0])\n",
    "    plt.ylim([0.0, 1.05])\n",
    "    plt.xlabel('False Positive Rate')\n",
    "    plt.ylabel('True Positive Rate')\n",
    "    plt.title('Receiver Operating Characteristic (ROC) Curve')\n",
    "    plt.legend(loc=\"lower right\")\n",
    "    plt.show()\n",
    "\n",
    "def plot_confusion_matrix(model, data_loader, device):\n",
    "    \"\"\"Plot the confusion matrix for the model predictions.\"\"\"\n",
    "    predictions, labels = evaluate_model(model, data_loader, device)\n",
    "    \n",
    "    cm = confusion_matrix(labels, predictions)\n",
    "    disp = ConfusionMatrixDisplay(confusion_matrix=cm)\n",
    "    disp.plot()\n",
    "    plt.title('Confusion Matrix')\n",
    "    plt.show()"
   ]
  },
  {
   "cell_type": "markdown",
   "id": "08cd38d4",
   "metadata": {
    "papermill": {
     "duration": 0.015026,
     "end_time": "2024-09-27T18:02:33.807276",
     "exception": false,
     "start_time": "2024-09-27T18:02:33.792250",
     "status": "completed"
    },
    "tags": []
   },
   "source": [
    "### Data Processing Functions"
   ]
  },
  {
   "cell_type": "code",
   "execution_count": 26,
   "id": "507c05ab",
   "metadata": {
    "ExecuteTime": {
     "end_time": "2024-09-26T14:06:51.650533Z",
     "start_time": "2024-09-26T14:06:51.627710Z"
    },
    "execution": {
     "iopub.execute_input": "2024-09-27T18:02:33.838370Z",
     "iopub.status.busy": "2024-09-27T18:02:33.838019Z",
     "iopub.status.idle": "2024-09-27T18:02:33.893075Z",
     "shell.execute_reply": "2024-09-27T18:02:33.892405Z"
    },
    "papermill": {
     "duration": 0.073092,
     "end_time": "2024-09-27T18:02:33.895059",
     "exception": false,
     "start_time": "2024-09-27T18:02:33.821967",
     "status": "completed"
    },
    "tags": []
   },
   "outputs": [],
   "source": [
    "## Data Processing Functions\n",
    "def load_model(model_class, model_path):\n",
    "    \"\"\"Load a trained model from a file.\"\"\"\n",
    "    if not os.path.exists(model_path):\n",
    "        raise FileNotFoundError(f\"Model file not found at {model_path}\")\n",
    "\n",
    "    model = model_class()\n",
    "    try:\n",
    "        state_dict = torch.load(model_path, map_location=torch.device('cuda'), weights_only=True)\n",
    "        if not state_dict:\n",
    "            raise ValueError(f\"The state dictionary loaded from {model_path} is empty\")\n",
    "        model.load_state_dict(state_dict)\n",
    "    except Exception as e:\n",
    "        print(f\"Error loading model from {model_path}: {str(e)}\")\n",
    "        print(\"Initializing model with random weights instead.\")\n",
    "        return model  # Return the model with random initialization\n",
    "\n",
    "    return model.eval()\n",
    "\n",
    "\n",
    "def get_test_results(model, test_loader, test_labels):\n",
    "    \"\"\"Get test results including patient information.\"\"\"\n",
    "    predictions, _ = evaluate_model(model, test_loader)\n",
    "    \n",
    "    results = []\n",
    "    for i, row in enumerate(test_labels.itertuples(index=False)):\n",
    "        result = {col: getattr(row, col) for col in test_labels.columns}\n",
    "        result['prediction'] = predictions[i]\n",
    "        results.append(result)\n",
    "    \n",
    "    return pd.DataFrame(results)"
   ]
  },
  {
   "cell_type": "markdown",
   "id": "593b3279",
   "metadata": {
    "papermill": {
     "duration": 0.01501,
     "end_time": "2024-09-27T18:02:33.925214",
     "exception": false,
     "start_time": "2024-09-27T18:02:33.910204",
     "status": "completed"
    },
    "tags": []
   },
   "source": [
    "## Main"
   ]
  },
  {
   "cell_type": "code",
   "execution_count": 27,
   "id": "157460b9",
   "metadata": {
    "ExecuteTime": {
     "end_time": "2024-09-26T14:33:28.926765Z",
     "start_time": "2024-09-26T14:33:01.988863Z"
    },
    "execution": {
     "iopub.execute_input": "2024-09-27T18:02:33.955847Z",
     "iopub.status.busy": "2024-09-27T18:02:33.955522Z",
     "iopub.status.idle": "2024-09-28T01:43:34.555676Z",
     "shell.execute_reply": "2024-09-28T01:43:34.554213Z"
    },
    "papermill": {
     "duration": 27660.64198,
     "end_time": "2024-09-28T01:43:34.582155",
     "exception": false,
     "start_time": "2024-09-27T18:02:33.940175",
     "status": "completed"
    },
    "tags": []
   },
   "outputs": [
    {
     "name": "stdout",
     "output_type": "stream",
     "text": [
      "Epoch 1/50 - Train:\n",
      "Loss: 61.0953, Accuracy: 0.5057, Precision: 0.5068, Recall: 0.4257, F1: 0.4627\n",
      "Epoch 1/50 - Validation:\n",
      "Loss: 26.2905, Accuracy: 0.5000, Precision: 0.5000, Recall: 1.0000, F1: 0.6667\n",
      "Epoch 2/50 - Train:\n",
      "Loss: 60.3374, Accuracy: 0.5614, Precision: 0.5719, Recall: 0.4886, F1: 0.5270\n",
      "Epoch 2/50 - Validation:\n",
      "Loss: 26.2719, Accuracy: 0.5600, Precision: 0.5338, Recall: 0.9467, F1: 0.6827\n",
      "Epoch 3/50 - Train:\n",
      "Loss: 60.0954, Accuracy: 0.5643, Precision: 0.5537, Recall: 0.6629, F1: 0.6034\n",
      "Epoch 3/50 - Validation:\n",
      "Loss: 26.1317, Accuracy: 0.6133, Precision: 0.6809, Recall: 0.4267, F1: 0.5246\n",
      "Epoch 4/50 - Train:\n",
      "Loss: 60.1917, Accuracy: 0.5329, Precision: 0.5358, Recall: 0.4914, F1: 0.5127\n",
      "Epoch 4/50 - Validation:\n",
      "Loss: 25.9492, Accuracy: 0.5467, Precision: 0.5556, Recall: 0.4667, F1: 0.5072\n",
      "Epoch 5/50 - Train:\n",
      "Loss: 60.7018, Accuracy: 0.5714, Precision: 0.5714, Recall: 0.5714, F1: 0.5714\n",
      "Epoch 5/50 - Validation:\n",
      "Loss: 25.5499, Accuracy: 0.6000, Precision: 0.5664, Recall: 0.8533, F1: 0.6809\n",
      "Epoch 6/50 - Train:\n",
      "Loss: 59.9752, Accuracy: 0.5757, Precision: 0.5671, Recall: 0.6400, F1: 0.6013\n",
      "Epoch 6/50 - Validation:\n",
      "Loss: 26.2407, Accuracy: 0.5267, Precision: 0.5204, Recall: 0.6800, F1: 0.5896\n",
      "Epoch 7/50 - Train:\n",
      "Loss: 59.9306, Accuracy: 0.5886, Precision: 0.5779, Recall: 0.6571, F1: 0.6150\n",
      "Epoch 7/50 - Validation:\n",
      "Loss: 28.3392, Accuracy: 0.5067, Precision: 0.5111, Recall: 0.3067, F1: 0.3833\n",
      "Epoch 8/50 - Train:\n",
      "Loss: 58.9020, Accuracy: 0.5486, Precision: 0.5470, Recall: 0.5657, F1: 0.5562\n",
      "Epoch 8/50 - Validation:\n",
      "Loss: 25.8980, Accuracy: 0.5933, Precision: 0.6129, Recall: 0.5067, F1: 0.5547\n",
      "Epoch 9/50 - Train:\n",
      "Loss: 58.6823, Accuracy: 0.6014, Precision: 0.5913, Recall: 0.6571, F1: 0.6225\n",
      "Epoch 9/50 - Validation:\n",
      "Loss: 26.5512, Accuracy: 0.5400, Precision: 0.5652, Recall: 0.3467, F1: 0.4298\n",
      "Epoch 10/50 - Train:\n",
      "Loss: 58.6463, Accuracy: 0.5957, Precision: 0.6106, Recall: 0.5286, F1: 0.5666\n",
      "Epoch 10/50 - Validation:\n",
      "Loss: 25.7103, Accuracy: 0.5733, Precision: 0.5514, Recall: 0.7867, F1: 0.6484\n",
      "Epoch 11/50 - Train:\n",
      "Loss: 57.4737, Accuracy: 0.6129, Precision: 0.6053, Recall: 0.6486, F1: 0.6262\n",
      "Epoch 11/50 - Validation:\n",
      "Loss: 28.7101, Accuracy: 0.5067, Precision: 0.5143, Recall: 0.2400, F1: 0.3273\n",
      "Epoch 12/50 - Train:\n",
      "Loss: 57.8271, Accuracy: 0.5971, Precision: 0.5872, Recall: 0.6543, F1: 0.6189\n",
      "Epoch 12/50 - Validation:\n",
      "Loss: 25.8640, Accuracy: 0.6133, Precision: 0.7429, Recall: 0.3467, F1: 0.4727\n",
      "Epoch 13/50 - Train:\n",
      "Loss: 56.7596, Accuracy: 0.6386, Precision: 0.6465, Recall: 0.6114, F1: 0.6285\n",
      "Epoch 13/50 - Validation:\n",
      "Loss: 25.9389, Accuracy: 0.5600, Precision: 0.5366, Recall: 0.8800, F1: 0.6667\n",
      "Epoch 14/50 - Train:\n",
      "Loss: 56.4197, Accuracy: 0.6300, Precision: 0.6226, Recall: 0.6600, F1: 0.6408\n",
      "Epoch 14/50 - Validation:\n",
      "Loss: 24.9573, Accuracy: 0.6667, Precision: 0.6506, Recall: 0.7200, F1: 0.6835\n",
      "Epoch 15/50 - Train:\n",
      "Loss: 56.3585, Accuracy: 0.6400, Precision: 0.6310, Recall: 0.6743, F1: 0.6519\n",
      "Epoch 15/50 - Validation:\n",
      "Loss: 26.3119, Accuracy: 0.5400, Precision: 0.5224, Recall: 0.9333, F1: 0.6699\n",
      "Epoch 16/50 - Train:\n",
      "Loss: 55.5202, Accuracy: 0.6529, Precision: 0.6588, Recall: 0.6343, F1: 0.6463\n",
      "Epoch 16/50 - Validation:\n",
      "Loss: 27.5283, Accuracy: 0.5667, Precision: 0.6562, Recall: 0.2800, F1: 0.3925\n",
      "Epoch 17/50 - Train:\n",
      "Loss: 55.6997, Accuracy: 0.6329, Precision: 0.6253, Recall: 0.6629, F1: 0.6436\n",
      "Epoch 17/50 - Validation:\n",
      "Loss: 25.9749, Accuracy: 0.5800, Precision: 0.5811, Recall: 0.5733, F1: 0.5772\n",
      "Epoch 18/50 - Train:\n",
      "Loss: 54.9723, Accuracy: 0.6400, Precision: 0.6433, Recall: 0.6286, F1: 0.6358\n",
      "Epoch 18/50 - Validation:\n",
      "Loss: 37.3758, Accuracy: 0.5200, Precision: 0.6667, Recall: 0.0800, F1: 0.1429\n",
      "Epoch 19/50 - Train:\n",
      "Loss: 55.0534, Accuracy: 0.6557, Precision: 0.6510, Recall: 0.6714, F1: 0.6610\n",
      "Epoch 19/50 - Validation:\n",
      "Loss: 24.4630, Accuracy: 0.6000, Precision: 0.5714, Recall: 0.8000, F1: 0.6667\n",
      "Epoch 20/50 - Train:\n",
      "Loss: 54.4401, Accuracy: 0.6614, Precision: 0.6574, Recall: 0.6743, F1: 0.6657\n",
      "Epoch 20/50 - Validation:\n",
      "Loss: 30.7480, Accuracy: 0.5600, Precision: 0.7647, Recall: 0.1733, F1: 0.2826\n",
      "Epoch 21/50 - Train:\n",
      "Loss: 55.0168, Accuracy: 0.6400, Precision: 0.6369, Recall: 0.6514, F1: 0.6441\n",
      "Epoch 21/50 - Validation:\n",
      "Loss: 24.7852, Accuracy: 0.6333, Precision: 0.5943, Recall: 0.8400, F1: 0.6961\n",
      "Epoch 22/50 - Train:\n",
      "Loss: 54.1651, Accuracy: 0.6657, Precision: 0.6611, Recall: 0.6800, F1: 0.6704\n",
      "Epoch 22/50 - Validation:\n",
      "Loss: 25.4704, Accuracy: 0.5867, Precision: 0.5765, Recall: 0.6533, F1: 0.6125\n",
      "Epoch 23/50 - Train:\n",
      "Loss: 53.1861, Accuracy: 0.6657, Precision: 0.6568, Recall: 0.6943, F1: 0.6750\n",
      "Epoch 23/50 - Validation:\n",
      "Loss: 23.4154, Accuracy: 0.6600, Precision: 0.6463, Recall: 0.7067, F1: 0.6752\n",
      "Epoch 24/50 - Train:\n",
      "Loss: 51.9206, Accuracy: 0.6843, Precision: 0.6787, Recall: 0.7000, F1: 0.6892\n",
      "Epoch 24/50 - Validation:\n",
      "Loss: 24.9554, Accuracy: 0.5800, Precision: 0.5625, Recall: 0.7200, F1: 0.6316\n",
      "Epoch 25/50 - Train:\n",
      "Loss: 53.6736, Accuracy: 0.6729, Precision: 0.6649, Recall: 0.6971, F1: 0.6806\n",
      "Epoch 25/50 - Validation:\n",
      "Loss: 24.0882, Accuracy: 0.6533, Precision: 0.6420, Recall: 0.6933, F1: 0.6667\n",
      "Epoch 26/50 - Train:\n",
      "Loss: 51.1998, Accuracy: 0.6929, Precision: 0.7143, Recall: 0.6429, F1: 0.6767\n",
      "Epoch 26/50 - Validation:\n",
      "Loss: 27.0008, Accuracy: 0.5933, Precision: 0.6296, Recall: 0.4533, F1: 0.5271\n",
      "Epoch 27/50 - Train:\n",
      "Loss: 53.0921, Accuracy: 0.6829, Precision: 0.6768, Recall: 0.7000, F1: 0.6882\n",
      "Epoch 27/50 - Validation:\n",
      "Loss: 24.2772, Accuracy: 0.6467, Precision: 0.6410, Recall: 0.6667, F1: 0.6536\n",
      "Epoch 28/50 - Train:\n",
      "Loss: 52.3774, Accuracy: 0.6643, Precision: 0.6584, Recall: 0.6829, F1: 0.6704\n",
      "Epoch 28/50 - Validation:\n",
      "Loss: 37.9254, Accuracy: 0.5067, Precision: 0.5556, Recall: 0.0667, F1: 0.1190\n",
      "Epoch 29/50 - Train:\n",
      "Loss: 53.3012, Accuracy: 0.6671, Precision: 0.6577, Recall: 0.6971, F1: 0.6768\n",
      "Epoch 29/50 - Validation:\n",
      "Loss: 24.7324, Accuracy: 0.6600, Precision: 0.6667, Recall: 0.6400, F1: 0.6531\n",
      "Epoch 30/50 - Train:\n",
      "Loss: 51.2112, Accuracy: 0.7014, Precision: 0.6986, Recall: 0.7086, F1: 0.7035\n",
      "Epoch 30/50 - Validation:\n",
      "Loss: 24.1656, Accuracy: 0.6467, Precision: 0.6170, Recall: 0.7733, F1: 0.6864\n",
      "Epoch 31/50 - Train:\n",
      "Loss: 51.0339, Accuracy: 0.6814, Precision: 0.6789, Recall: 0.6886, F1: 0.6837\n",
      "Epoch 31/50 - Validation:\n",
      "Loss: 24.7995, Accuracy: 0.6600, Precision: 0.6667, Recall: 0.6400, F1: 0.6531\n",
      "Epoch 32/50 - Train:\n",
      "Loss: 49.9947, Accuracy: 0.7186, Precision: 0.7143, Recall: 0.7286, F1: 0.7214\n",
      "Epoch 32/50 - Validation:\n",
      "Loss: 22.6579, Accuracy: 0.6733, Precision: 0.6857, Recall: 0.6400, F1: 0.6621\n",
      "Epoch 33/50 - Train:\n",
      "Loss: 48.5995, Accuracy: 0.7329, Precision: 0.7233, Recall: 0.7543, F1: 0.7385\n",
      "Epoch 33/50 - Validation:\n",
      "Loss: 25.0751, Accuracy: 0.6133, Precision: 0.5955, Recall: 0.7067, F1: 0.6463\n",
      "Epoch 34/50 - Train:\n",
      "Loss: 50.2712, Accuracy: 0.7071, Precision: 0.6913, Recall: 0.7486, F1: 0.7188\n",
      "Epoch 34/50 - Validation:\n",
      "Loss: 24.9076, Accuracy: 0.6133, Precision: 0.6308, Recall: 0.5467, F1: 0.5857\n",
      "Epoch 35/50 - Train:\n",
      "Loss: 49.0910, Accuracy: 0.7186, Precision: 0.7131, Recall: 0.7314, F1: 0.7221\n",
      "Epoch 35/50 - Validation:\n",
      "Loss: 23.6546, Accuracy: 0.6733, Precision: 0.6477, Recall: 0.7600, F1: 0.6994\n",
      "Epoch 36/50 - Train:\n",
      "Loss: 48.7630, Accuracy: 0.7286, Precision: 0.7395, Recall: 0.7057, F1: 0.7222\n",
      "Epoch 36/50 - Validation:\n",
      "Loss: 23.6711, Accuracy: 0.6400, Precision: 0.6082, Recall: 0.7867, F1: 0.6860\n",
      "Epoch 37/50 - Train:\n",
      "Loss: 47.8877, Accuracy: 0.7157, Precision: 0.7046, Recall: 0.7429, F1: 0.7232\n",
      "Epoch 37/50 - Validation:\n",
      "Loss: 23.4905, Accuracy: 0.6600, Precision: 0.6176, Recall: 0.8400, F1: 0.7119\n",
      "Epoch 38/50 - Train:\n",
      "Loss: 47.2914, Accuracy: 0.7300, Precision: 0.7268, Recall: 0.7371, F1: 0.7319\n",
      "Epoch 38/50 - Validation:\n",
      "Loss: 23.0316, Accuracy: 0.7333, Precision: 0.6923, Recall: 0.8400, F1: 0.7590\n",
      "Epoch 39/50 - Train:\n",
      "Loss: 46.8874, Accuracy: 0.7429, Precision: 0.7388, Recall: 0.7514, F1: 0.7450\n",
      "Epoch 39/50 - Validation:\n",
      "Loss: 25.0065, Accuracy: 0.6333, Precision: 0.6316, Recall: 0.6400, F1: 0.6358\n",
      "Epoch 40/50 - Train:\n",
      "Loss: 45.5439, Accuracy: 0.7586, Precision: 0.7388, Recall: 0.8000, F1: 0.7682\n",
      "Epoch 40/50 - Validation:\n",
      "Loss: 22.6582, Accuracy: 0.7133, Precision: 0.7424, Recall: 0.6533, F1: 0.6950\n",
      "Epoch 41/50 - Train:\n",
      "Loss: 46.0912, Accuracy: 0.7500, Precision: 0.7437, Recall: 0.7629, F1: 0.7532\n",
      "Epoch 41/50 - Validation:\n",
      "Loss: 24.2381, Accuracy: 0.6600, Precision: 0.6364, Recall: 0.7467, F1: 0.6871\n",
      "Epoch 42/50 - Train:\n",
      "Loss: 45.0079, Accuracy: 0.7529, Precision: 0.7479, Recall: 0.7629, F1: 0.7553\n",
      "Epoch 42/50 - Validation:\n",
      "Loss: 22.6921, Accuracy: 0.7333, Precision: 0.7333, Recall: 0.7333, F1: 0.7333\n",
      "Epoch 43/50 - Train:\n",
      "Loss: 46.0570, Accuracy: 0.7414, Precision: 0.7407, Recall: 0.7429, F1: 0.7418\n",
      "Epoch 43/50 - Validation:\n",
      "Loss: 24.1355, Accuracy: 0.6733, Precision: 0.6275, Recall: 0.8533, F1: 0.7232\n",
      "Epoch 44/50 - Train:\n",
      "Loss: 44.9285, Accuracy: 0.7471, Precision: 0.7450, Recall: 0.7514, F1: 0.7482\n",
      "Epoch 44/50 - Validation:\n",
      "Loss: 23.0041, Accuracy: 0.6800, Precision: 0.6667, Recall: 0.7200, F1: 0.6923\n",
      "Epoch 45/50 - Train:\n",
      "Loss: 43.5516, Accuracy: 0.7700, Precision: 0.7708, Recall: 0.7686, F1: 0.7697\n",
      "Epoch 45/50 - Validation:\n",
      "Loss: 21.6977, Accuracy: 0.7000, Precision: 0.7083, Recall: 0.6800, F1: 0.6939\n",
      "Epoch 46/50 - Train:\n",
      "Loss: 43.9471, Accuracy: 0.7614, Precision: 0.7563, Recall: 0.7714, F1: 0.7638\n",
      "Epoch 46/50 - Validation:\n",
      "Loss: 22.8704, Accuracy: 0.7000, Precision: 0.6829, Recall: 0.7467, F1: 0.7134\n",
      "Epoch 47/50 - Train:\n",
      "Loss: 44.3660, Accuracy: 0.7557, Precision: 0.7493, Recall: 0.7686, F1: 0.7588\n",
      "Epoch 47/50 - Validation:\n",
      "Loss: 22.5843, Accuracy: 0.6867, Precision: 0.6628, Recall: 0.7600, F1: 0.7081\n",
      "Epoch 48/50 - Train:\n",
      "Loss: 42.7339, Accuracy: 0.7700, Precision: 0.7723, Recall: 0.7657, F1: 0.7690\n",
      "Epoch 48/50 - Validation:\n",
      "Loss: 22.5329, Accuracy: 0.7133, Precision: 0.7162, Recall: 0.7067, F1: 0.7114\n",
      "Epoch 49/50 - Train:\n",
      "Loss: 42.0866, Accuracy: 0.7871, Precision: 0.7784, Recall: 0.8029, F1: 0.7904\n",
      "Epoch 49/50 - Validation:\n",
      "Loss: 22.2071, Accuracy: 0.7067, Precision: 0.6962, Recall: 0.7333, F1: 0.7143\n",
      "Epoch 50/50 - Train:\n",
      "Loss: 44.4166, Accuracy: 0.7514, Precision: 0.7404, Recall: 0.7743, F1: 0.7570\n",
      "Epoch 50/50 - Validation:\n",
      "Loss: 23.0492, Accuracy: 0.6933, Precision: 0.6629, Recall: 0.7867, F1: 0.7195\n",
      "Test Accuracy: 0.6600, Precision: 0.6818, Recall: 0.6000, F1: 0.6383\n"
     ]
    },
    {
     "data": {
      "image/png": "[encoded data removed]",
      "text/plain": [
       "<Figure size 640x480 with 1 Axes>"
      ]
     },
     "metadata": {},
     "output_type": "display_data"
    },
    {
     "data": {
      "image/png": "[encoded data removed]",
      "text/plain": [
       "<Figure size 640x480 with 2 Axes>"
      ]
     },
     "metadata": {},
     "output_type": "display_data"
    },
    {
     "name": "stdout",
     "output_type": "stream",
     "text": [
      "    patient_id study_instance_uid  label  prediction\n",
      "0  ID_0748e0c1      ID_286183702b      0       False\n",
      "1  ID_1528ff50      ID_5d0a50f3db      1        True\n",
      "2  ID_07d4f582      ID_8b1137e5bc      0       False\n",
      "3  ID_03131dd0      ID_a4ed78f57e      0        True\n",
      "4  ID_05e0a4a1      ID_9dd14f9fa3      1        True\n"
     ]
    }
   ],
   "source": [
    "## Main Execution\n",
    "def main():\n",
    "    train_labels, val_labels, test_labels = split_dataset(patient_scan_labels, test_size=TEST_SIZE)\n",
    "    train_loader = get_train_loader(dicom_dir, train_labels, batch_size=TRAIN_BATCH_SIZE)\n",
    "    val_loader = get_train_loader(dicom_dir, val_labels, batch_size=VALID_BATCH_SIZE)\n",
    "    test_loader = get_test_loader(dicom_dir, test_labels, batch_size=TEST_BATCH_SIZE)\n",
    "    \n",
    "    # Initialize model, criterion, and optimizer\n",
    "    model = ResNet3D18_MIL()  # Assuming this is your model class\n",
    "    criterion = torch.nn.BCEWithLogitsLoss()  # Binary Cross Entropy Loss\n",
    "    optimizer = optim.Adam(model.parameters(), lr=LEARNING_RATE)\n",
    "    \n",
    "    # Train model\n",
    "    trained_model = train_model(model, train_loader, val_loader, criterion, optimizer, NUM_EPOCHS, LEARNING_RATE, DEVICE)\n",
    "    \n",
    "    # Save model\n",
    "    torch.save(trained_model.state_dict(), MODEL_PATH)\n",
    "    \n",
    "    # Load best model\n",
    "    trained_model = load_model(ResNet3D18_MIL, MODEL_PATH)\n",
    "\n",
    "    # Evaluate model\n",
    "    predictions, labels = evaluate_model(trained_model, test_loader, DEVICE)\n",
    "    metrics = calculate_metrics(predictions, labels)\n",
    "    print_metrics(metrics)\n",
    "    \n",
    "    # Visualizations\n",
    "    plot_roc_curve(trained_model, test_loader, DEVICE)\n",
    "    plot_confusion_matrix(trained_model, test_loader, DEVICE)\n",
    "\n",
    "    # Select only the required columns\n",
    "    required_columns = ['patient_id', 'study_instance_uid', 'label']\n",
    "    test_labels = test_labels[required_columns]\n",
    "    \n",
    "    # Save results\n",
    "    results_df = get_test_results(trained_model, test_loader, test_labels)\n",
    "    results_df.to_csv('results.csv', index=False)\n",
    "    print(results_df.head())\n",
    "\n",
    "\n",
    "if __name__ == \"__main__\":\n",
    "    main()"
   ]
  },
  {
   "cell_type": "markdown",
   "id": "2d46ab87",
   "metadata": {
    "papermill": {
     "duration": 0.024871,
     "end_time": "2024-09-28T01:43:34.632105",
     "exception": false,
     "start_time": "2024-09-28T01:43:34.607234",
     "status": "completed"
    },
    "tags": []
   },
   "source": [
    "## Visualizing Attention Weights and Images"
   ]
  },
  {
   "cell_type": "markdown",
   "id": "85047f0c",
   "metadata": {
    "papermill": {
     "duration": 0.024928,
     "end_time": "2024-09-28T01:43:34.682780",
     "exception": false,
     "start_time": "2024-09-28T01:43:34.657852",
     "status": "completed"
    },
    "tags": []
   },
   "source": [
    "### Show Attention Weights and Images for a Single Patient"
   ]
  },
  {
   "cell_type": "code",
   "execution_count": 28,
   "id": "f9b01c6b",
   "metadata": {
    "ExecuteTime": {
     "end_time": "2024-09-26T14:25:27.269464Z",
     "start_time": "2024-09-26T14:25:27.253461Z"
    },
    "execution": {
     "iopub.execute_input": "2024-09-28T01:43:34.735784Z",
     "iopub.status.busy": "2024-09-28T01:43:34.735318Z",
     "iopub.status.idle": "2024-09-28T01:43:34.802862Z",
     "shell.execute_reply": "2024-09-28T01:43:34.802046Z"
    },
    "papermill": {
     "duration": 0.097237,
     "end_time": "2024-09-28T01:43:34.805131",
     "exception": false,
     "start_time": "2024-09-28T01:43:34.707894",
     "status": "completed"
    },
    "tags": []
   },
   "outputs": [],
   "source": [
    "# Function to test a single patient\n",
    "def test_single_patient(model, patient_data):\n",
    "    model.eval()\n",
    "    with torch.no_grad():\n",
    "        for batch_data, batch_labels in patient_data:\n",
    "            batch_data = batch_data.to(device)  # Move data to device\n",
    "            outputs, gated_attention = model(batch_data)  # Get outputs and attention weights\n",
    "            outputs = outputs.squeeze()  # Remove extra dimension\n",
    "            \n",
    "            predictions = (outputs > 0).cpu().numpy()\n",
    "            \n",
    "            print(\"Predictions:\", predictions)\n",
    "            print(\"Labels: \", batch_labels.cpu().numpy())\n",
    "            # Print attention weights\n",
    "            attention_weights_np = gated_attention.cpu().numpy()  # Move to CPU for easier handling\n",
    "            print(\"Attention Weights for Slides:\")\n",
    "            \n",
    "            for i in range(attention_weights_np.shape[1]):  # Iterate over instances/slides\n",
    "                print(f'Slide {i+1}: Attention Weight: {attention_weights_np[0][i][0]}')  # Print weight for each slide\n",
    "                \n",
    "            # Plot the images\n",
    "            plot_images(batch_data[0].cpu(), batch_labels[0].cpu())\n",
    "            \n",
    "            break  # Only test one patient"
   ]
  },
  {
   "cell_type": "code",
   "execution_count": 29,
   "id": "3871bae7",
   "metadata": {
    "ExecuteTime": {
     "end_time": "2024-09-26T14:25:27.309580Z",
     "start_time": "2024-09-26T14:25:27.295662Z"
    },
    "execution": {
     "iopub.execute_input": "2024-09-28T01:43:34.855457Z",
     "iopub.status.busy": "2024-09-28T01:43:34.855103Z",
     "iopub.status.idle": "2024-09-28T01:43:34.912099Z",
     "shell.execute_reply": "2024-09-28T01:43:34.911388Z"
    },
    "papermill": {
     "duration": 0.084133,
     "end_time": "2024-09-28T01:43:34.914100",
     "exception": false,
     "start_time": "2024-09-28T01:43:34.829967",
     "status": "completed"
    },
    "tags": []
   },
   "outputs": [],
   "source": [
    "def plot_images(images, labels):\n",
    "    print(images.shape)\n",
    "    batch_size, num_images_per_batch, height, width, channels = images.shape\n",
    "    images = images.view(batch_size * num_images_per_batch, height, width, channels)\n",
    "    \n",
    "    print(f'Images shape: {images.shape}')\n",
    "    num_images = images.size(0) \n",
    "    images = images.numpy()\n",
    "    \n",
    "    plt.figure(figsize=(15, 15))\n",
    "    \n",
    "    for i in range(num_images):\n",
    "        plt.subplot(8, 8, i + 1)\n",
    "        plt.imshow(images[i], cmap='gray')\n",
    "        plt.title(f'Image {i + 1}')\n",
    "        plt.axis('off')\n",
    "    \n",
    "    plt.tight_layout() \n",
    "    plt.show()\n",
    "    \n",
    "# # Call the function with the test_loader\n",
    "# test_loader = get_test_loader(dicom_dir, test_labels, batch_size=2)\n",
    "# test_single_patient(trained_model, test_loader)"
   ]
  }
 ],
 "metadata": {
  "kaggle": {
   "accelerator": "nvidiaTeslaT4",
   "dataSources": [
    {
     "datasetId": 5705276,
     "sourceId": 9450447,
     "sourceType": "datasetVersion"
    }
   ],
   "dockerImageVersionId": 30762,
   "isGpuEnabled": true,
   "isInternetEnabled": true,
   "language": "python",
   "sourceType": "notebook"
  },
  "kernelspec": {
   "display_name": "Python 3",
   "language": "python",
   "name": "python3"
  },
  "language_info": {
   "codemirror_mode": {
    "name": "ipython",
    "version": 3
   },
   "file_extension": ".py",
   "mimetype": "text/x-python",
   "name": "python",
   "nbconvert_exporter": "python",
   "pygments_lexer": "ipython3",
   "version": "3.10.14"
  },
  "papermill": {
   "default_parameters": {},
   "duration": 27694.210643,
   "end_time": "2024-09-28T01:43:38.019996",
   "environment_variables": {},
   "exception": null,
   "input_path": "__notebook__.ipynb",
   "output_path": "__notebook__.ipynb",
   "parameters": {},
   "start_time": "2024-09-27T18:02:03.809353",
   "version": "2.6.0"
  }
 },
 "nbformat": 4,
 "nbformat_minor": 5
}
