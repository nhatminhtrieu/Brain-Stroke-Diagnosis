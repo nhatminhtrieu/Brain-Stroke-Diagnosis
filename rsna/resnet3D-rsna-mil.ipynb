{
 "metadata": {
  "kernelspec": {
   "name": "python3",
   "display_name": "Python 3",
   "language": "python"
  },
  "language_info": {
   "name": "python",
   "version": "3.10.14",
   "mimetype": "text/x-python",
   "codemirror_mode": {
    "name": "ipython",
    "version": 3
   },
   "pygments_lexer": "ipython3",
   "nbconvert_exporter": "python",
   "file_extension": ".py"
  },
  "kaggle": {
   "accelerator": "gpu",
   "dataSources": [
    {
     "sourceId": 9399351,
     "sourceType": "datasetVersion",
     "datasetId": 5705276
    }
   ],
   "dockerImageVersionId": 30762,
   "isInternetEnabled": true,
   "language": "python",
   "sourceType": "notebook",
   "isGpuEnabled": true
  }
 },
 "nbformat_minor": 4,
 "nbformat": 4,
 "cells": [
  {
   "cell_type": "markdown",
   "source": "## Library",
   "metadata": {}
  },
  {
   "cell_type": "code",
   "source": [
    "import os\n",
    "import csv\n",
    "\n",
    "import numpy as np\n",
    "import pandas as pd\n",
    "import pydicom\n",
    "from tqdm import tqdm\n",
    "from skimage.transform import resize\n",
    "import cv2\n",
    "from sklearn.model_selection import train_test_split\n",
    "\n",
    "import torch\n",
    "import torch.nn as nn\n",
    "from torch.utils.data import Dataset, DataLoader\n",
    "import torchvision.models as models\n",
    "import torch.nn.functional as F\n",
    "\n",
    "os.environ['PYTORCH_CUDA_ALLOC_CONF'] = 'expandable_segments:True'"
   ],
   "metadata": {
    "execution": {
     "iopub.status.busy": "2024-09-17T13:12:06.657632Z",
     "iopub.execute_input": "2024-09-17T13:12:06.658489Z",
     "iopub.status.idle": "2024-09-17T13:12:12.565284Z",
     "shell.execute_reply.started": "2024-09-17T13:12:06.658444Z",
     "shell.execute_reply": "2024-09-17T13:12:12.564455Z"
    },
    "trusted": true,
    "ExecuteTime": {
     "end_time": "2024-09-18T07:26:00.049672Z",
     "start_time": "2024-09-18T07:25:58.827126Z"
    }
   },
   "outputs": [],
   "execution_count": 1
  },
  {
   "cell_type": "markdown",
   "source": "## Init GPU",
   "metadata": {}
  },
  {
   "cell_type": "code",
   "source": "# Initialize GPU Device\ndevice = torch.device('cuda' if torch.cuda.is_available() else 'cpu')\n\nif torch.cuda.is_available():\n    print(f\"GPU: {torch.cuda.get_device_name(0)} is available.\")\nelse:\n    print(\"No GPU available. Training will run on CPU.\")\n\nprint(device)",
   "metadata": {
    "execution": {
     "iopub.status.busy": "2024-09-17T13:12:12.567164Z",
     "iopub.execute_input": "2024-09-17T13:12:12.567970Z",
     "iopub.status.idle": "2024-09-17T13:12:12.623942Z",
     "shell.execute_reply.started": "2024-09-17T13:12:12.567924Z",
     "shell.execute_reply": "2024-09-17T13:12:12.623018Z"
    },
    "trusted": true,
    "ExecuteTime": {
     "end_time": "2024-09-18T07:26:00.090077Z",
     "start_time": "2024-09-18T07:26:00.058310Z"
    }
   },
   "outputs": [
    {
     "name": "stdout",
     "output_type": "stream",
     "text": [
      "GPU: NVIDIA GeForce RTX 4070 SUPER is available.\n",
      "cuda\n"
     ]
    }
   ],
   "execution_count": 2
  },
  {
   "cell_type": "code",
   "source": "%load_ext autoreload\n%autoreload 2",
   "metadata": {
    "execution": {
     "iopub.status.busy": "2024-09-17T13:12:12.625028Z",
     "iopub.execute_input": "2024-09-17T13:12:12.625361Z",
     "iopub.status.idle": "2024-09-17T13:12:12.677673Z",
     "shell.execute_reply.started": "2024-09-17T13:12:12.625328Z",
     "shell.execute_reply": "2024-09-17T13:12:12.676808Z"
    },
    "trusted": true,
    "ExecuteTime": {
     "end_time": "2024-09-18T07:26:00.143646Z",
     "start_time": "2024-09-18T07:26:00.127560Z"
    }
   },
   "outputs": [],
   "execution_count": 3
  },
  {
   "cell_type": "markdown",
   "source": "## Config Info",
   "metadata": {}
  },
  {
   "cell_type": "code",
   "source": [
    "# Constants\n",
    "TEST_SIZE = 0.2\n",
    "HEIGHT = 224\n",
    "WIDTH = 224\n",
    "CHANNELS = 3\n",
    "TRAIN_BATCH_SIZE = 2\n",
    "VALID_BATCH_SIZE = 2\n",
    "TEST_BATCH_SIZE = 2\n",
    "MAX_SLICES = 60\n",
    "NUM_EPOCHS = 1\n",
    "ACCUMULATION_STEPS = 64\n",
    "SHAPE = (HEIGHT, WIDTH, CHANNELS)"
   ],
   "metadata": {
    "execution": {
     "iopub.status.busy": "2024-09-17T13:12:12.679620Z",
     "iopub.execute_input": "2024-09-17T13:12:12.679915Z",
     "iopub.status.idle": "2024-09-17T13:12:12.726300Z",
     "shell.execute_reply.started": "2024-09-17T13:12:12.679883Z",
     "shell.execute_reply": "2024-09-17T13:12:12.725447Z"
    },
    "trusted": true,
    "ExecuteTime": {
     "end_time": "2024-09-18T07:26:00.202252Z",
     "start_time": "2024-09-18T07:26:00.176212Z"
    }
   },
   "outputs": [],
   "execution_count": 4
  },
  {
   "cell_type": "code",
   "source": [
    "# Folders\n",
    "DATA_DIR = '../rsna-mil-training/'\n",
    "DICOM_DIR = DATA_DIR + 'rsna-mil-training'\n",
    "CSV_PATH = './data_analyze/training_1000_scan_subset.csv'\n",
    "patient_scan_labels = pd.read_csv(CSV_PATH)"
   ],
   "metadata": {
    "execution": {
     "iopub.status.busy": "2024-09-17T13:12:12.727356Z",
     "iopub.execute_input": "2024-09-17T13:12:12.727619Z",
     "iopub.status.idle": "2024-09-17T13:12:12.784661Z",
     "shell.execute_reply.started": "2024-09-17T13:12:12.727588Z",
     "shell.execute_reply": "2024-09-17T13:12:12.783914Z"
    },
    "trusted": true,
    "ExecuteTime": {
     "end_time": "2024-09-18T07:26:00.246173Z",
     "start_time": "2024-09-18T07:26:00.227527Z"
    }
   },
   "outputs": [],
   "execution_count": 5
  },
  {
   "metadata": {},
   "cell_type": "markdown",
   "source": "## Data Preprocessing"
  },
  {
   "metadata": {
    "ExecuteTime": {
     "end_time": "2024-09-18T07:26:00.299409Z",
     "start_time": "2024-09-18T07:26:00.276302Z"
    }
   },
   "cell_type": "code",
   "source": [
    "def correct_dcm(dcm):\n",
    "    x = dcm.pixel_array + 1000\n",
    "    px_mode = 4096\n",
    "    x[x>=px_mode] = x[x>=px_mode] - px_mode\n",
    "    dcm.PixelData = x.tobytes()\n",
    "    dcm.RescaleIntercept = -1000\n",
    "\n",
    "def window_image(dcm, window_center, window_width):    \n",
    "    if (dcm.BitsStored == 12) and (dcm.PixelRepresentation == 0) and (int(dcm.RescaleIntercept) > -100):\n",
    "        correct_dcm(dcm)\n",
    "    img = dcm.pixel_array * dcm.RescaleSlope + dcm.RescaleIntercept\n",
    "    \n",
    "    # Resize\n",
    "    img = cv2.resize(img, SHAPE[:2], interpolation = cv2.INTER_LINEAR)\n",
    "   \n",
    "    img_min = window_center - window_width // 2\n",
    "    img_max = window_center + window_width // 2\n",
    "    img = np.clip(img, img_min, img_max)\n",
    "    return img\n",
    "\n",
    "def bsb_window(dcm):\n",
    "    brain_img = window_image(dcm, 40, 80)\n",
    "    subdural_img = window_image(dcm, 80, 200)\n",
    "    soft_img = window_image(dcm, 40, 380)\n",
    "    \n",
    "    brain_img = (brain_img - 0) / 80\n",
    "    subdural_img = (subdural_img - (-20)) / 200\n",
    "    soft_img = (soft_img - (-150)) / 380\n",
    "    \n",
    "    bsb_img = np.stack([brain_img, subdural_img, soft_img], axis=-1)\n",
    "    return bsb_img.astype(np.float16)"
   ],
   "outputs": [],
   "execution_count": 6
  },
  {
   "cell_type": "code",
   "source": [
    "def preprocess_slice(slice, target_size=(HEIGHT, WIDTH)):\n",
    "    # Check if type of slice is dicom \n",
    "    if (type(slice) == np.ndarray):\n",
    "        slice = resize(slice, target_size, anti_aliasing=True)\n",
    "        brain_window = apply_windowing(slice, window=(40, 80))\n",
    "        subdural_window = apply_windowing(slice, window=(80, 200))\n",
    "        bone_window = apply_windowing(slice, window=(600, 2800))\n",
    "        \n",
    "        multichannel_slice = np.stack([brain_window, subdural_window, bone_window], axis=-1)\n",
    "        return multichannel_slice.astype(np.float16)\n",
    "    else:\n",
    "        slice = bsb_window(slice)\n",
    "        return slice.astype(np.float16)\n",
    "\n",
    "def apply_windowing(slice, window):\n",
    "    window_width, window_level = window\n",
    "    lower_bound = window_level - window_width // 2\n",
    "    upper_bound = window_level + window_width // 2\n",
    "    \n",
    "    windowed_slice = np.clip(slice, lower_bound, upper_bound)\n",
    "    windowed_slice = (windowed_slice - lower_bound) / (upper_bound - lower_bound)\n",
    "    return windowed_slice"
   ],
   "metadata": {
    "execution": {
     "iopub.status.busy": "2024-09-17T13:12:12.785792Z",
     "iopub.execute_input": "2024-09-17T13:12:12.786096Z",
     "iopub.status.idle": "2024-09-17T13:12:12.834386Z",
     "shell.execute_reply.started": "2024-09-17T13:12:12.786063Z",
     "shell.execute_reply": "2024-09-17T13:12:12.833478Z"
    },
    "trusted": true,
    "ExecuteTime": {
     "end_time": "2024-09-18T07:26:00.351235Z",
     "start_time": "2024-09-18T07:26:00.329455Z"
    }
   },
   "outputs": [],
   "execution_count": 7
  },
  {
   "cell_type": "code",
   "source": [
    "def read_dicom_folder(folder_path):\n",
    "    slices = []\n",
    "    for filename in sorted(os.listdir(folder_path))[:MAX_SLICES]:  # Limit to MAX_SLICES\n",
    "        if filename.endswith(\".dcm\"):\n",
    "            file_path = os.path.join(folder_path, filename)\n",
    "            ds = pydicom.dcmread(file_path)\n",
    "            slices.append(ds)\n",
    "    \n",
    "    # Pad with black images if necessary\n",
    "    while len(slices) < MAX_SLICES:\n",
    "        slices.append(np.zeros_like(slices[0].pixel_array))\n",
    "    \n",
    "    return slices[:MAX_SLICES]  # Ensure we return exactly MAX_SLICES"
   ],
   "metadata": {
    "execution": {
     "iopub.status.busy": "2024-09-17T13:12:12.835371Z",
     "iopub.execute_input": "2024-09-17T13:12:12.835679Z",
     "iopub.status.idle": "2024-09-17T13:12:12.880681Z",
     "shell.execute_reply.started": "2024-09-17T13:12:12.835649Z",
     "shell.execute_reply": "2024-09-17T13:12:12.879837Z"
    },
    "trusted": true,
    "ExecuteTime": {
     "end_time": "2024-09-18T07:26:00.393587Z",
     "start_time": "2024-09-18T07:26:00.380203Z"
    }
   },
   "outputs": [],
   "execution_count": 8
  },
  {
   "metadata": {},
   "cell_type": "markdown",
   "source": "## Split Dataset"
  },
  {
   "metadata": {
    "ExecuteTime": {
     "end_time": "2024-09-18T07:26:00.439346Z",
     "start_time": "2024-09-18T07:26:00.424222Z"
    }
   },
   "cell_type": "code",
   "source": [
    "def split_dataset(patient_scan_labels, test_size=0.2, val_size=0.2, random_state=42):\n",
    "    \"\"\"\n",
    "    Split the dataset into training, validation, and testing sets while maintaining the same ratio of labels.\n",
    "\n",
    "    Args:\n",
    "        patient_scan_labels (pd.DataFrame): The DataFrame containing patient scan labels.\n",
    "        test_size (float): The proportion of the dataset to include in the test split.\n",
    "        val_size (float): The proportion of the training set to include in the validation split.\n",
    "        random_state (int): The seed used by the random number generator.\n",
    "\n",
    "    Returns:\n",
    "        Tuple: train_labels, val_labels, test_labels\n",
    "    \"\"\"\n",
    "    # If any of the hemorrhage indicators is 1, the label is 1, otherwise 0\n",
    "    patient_scan_labels['label'] = patient_scan_labels[['any', 'epidural', 'intraparenchymal', 'intraventricular', 'subarachnoid', 'subdural']].any(axis=1).astype(int)\n",
    "\n",
    "    # Extract the labels from the DataFrame\n",
    "    labels = patient_scan_labels['label']\n",
    "\n",
    "    # First, split off the test set\n",
    "    train_val_labels, test_labels = train_test_split(\n",
    "        patient_scan_labels, \n",
    "        test_size=test_size, \n",
    "        stratify=labels, \n",
    "        random_state=random_state\n",
    "    )\n",
    "\n",
    "    # Calculate the validation size relative to the train_val set\n",
    "    val_size_adjusted = val_size / (1 - test_size)\n",
    "\n",
    "    # Split the train_val set into train and validation sets\n",
    "    train_labels, val_labels = train_test_split(\n",
    "        train_val_labels, \n",
    "        test_size=val_size_adjusted, \n",
    "        stratify=train_val_labels['label'], \n",
    "        random_state=random_state\n",
    "    )\n",
    "\n",
    "    return train_labels, val_labels, test_labels"
   ],
   "outputs": [],
   "execution_count": 9
  },
  {
   "cell_type": "code",
   "source": [
    "def process_patient_data(dicom_dir, row):\n",
    "    patient_id = row['patient_id'].replace('ID_', '')\n",
    "    study_instance_uid = row['study_instance_uid'].replace('ID_', '')\n",
    "    \n",
    "    folder_name = f\"{patient_id}_{study_instance_uid}\"\n",
    "    folder_path = os.path.join(dicom_dir, folder_name)\n",
    "    \n",
    "    if os.path.exists(folder_path):\n",
    "        slices = read_dicom_folder(folder_path)\n",
    "        preprocessed_slices = [preprocess_slice(slice) for slice in slices]\n",
    "        \n",
    "        # Thêm chiều depth\n",
    "        preprocessed_slices = np.stack(preprocessed_slices, axis=0)  # (depth, height, width, channels)\n",
    "        preprocessed_slices = np.transpose(preprocessed_slices, (3, 0, 1, 2))  # (channels, depth, height, width)\n",
    "        \n",
    "        label = 1 if row[['any', 'epidural', 'intraparenchymal', 'intraventricular', 'subarachnoid', 'subdural']].any() else 0\n",
    "        \n",
    "        return preprocessed_slices, label\n",
    "    else:\n",
    "        print(f\"Folder not found: {folder_path}\")\n",
    "        return None, None"
   ],
   "metadata": {
    "execution": {
     "iopub.status.busy": "2024-09-17T13:12:12.881844Z",
     "iopub.execute_input": "2024-09-17T13:12:12.882455Z",
     "iopub.status.idle": "2024-09-17T13:12:12.928171Z",
     "shell.execute_reply.started": "2024-09-17T13:12:12.882413Z",
     "shell.execute_reply": "2024-09-17T13:12:12.927277Z"
    },
    "trusted": true,
    "ExecuteTime": {
     "end_time": "2024-09-18T07:26:00.494878Z",
     "start_time": "2024-09-18T07:26:00.471874Z"
    }
   },
   "outputs": [],
   "execution_count": 10
  },
  {
   "cell_type": "code",
   "source": [
    "class TrainDatasetGenerator(Dataset):\n",
    "    \"\"\"\n",
    "    A custom dataset class for training data.\n",
    "    \"\"\"\n",
    "    def __init__(self, data_dir, patient_scan_labels):\n",
    "        self.data_dir = data_dir\n",
    "        self.patient_scan_labels = patient_scan_labels\n",
    "\n",
    "    def __len__(self):\n",
    "        return len(self.patient_scan_labels)\n",
    "\n",
    "    def __getitem__(self, idx):\n",
    "        row = self.patient_scan_labels.iloc[idx]\n",
    "        preprocessed_slices, label = process_patient_data(self.data_dir, row)\n",
    "        \n",
    "        if preprocessed_slices is not None:\n",
    "            # Convert the list of numpy arrays to a single numpy array\n",
    "            preprocessed_slices = np.array(preprocessed_slices)  # Convert to numpy array\n",
    "            return torch.tensor(preprocessed_slices, dtype=torch.float32), torch.tensor(label, dtype=torch.long)\n",
    "        else:\n",
    "            return None, None  # Handle the case where the folder is not found\n",
    "\n",
    "class TestDatasetGenerator(Dataset):\n",
    "    \"\"\"\n",
    "    A custom dataset class for testing data.\n",
    "    \"\"\"\n",
    "    def __init__(self, data_dir, patient_scan_labels):\n",
    "        self.data_dir = data_dir\n",
    "        self.patient_scan_labels = patient_scan_labels\n",
    "\n",
    "    def __len__(self):\n",
    "        return len(self.patient_scan_labels)\n",
    "\n",
    "    def __getitem__(self, idx):\n",
    "        row = self.patient_scan_labels.iloc[idx]\n",
    "        preprocessed_slices, label = process_patient_data(self.data_dir, row)\n",
    "        \n",
    "        if preprocessed_slices is not None:\n",
    "            # Convert the list of numpy arrays to a single numpy array\n",
    "            preprocessed_slices = np.array(preprocessed_slices)  # Convert to numpy array\n",
    "            return torch.tensor(preprocessed_slices, dtype=torch.float32), torch.tensor(label, dtype=torch.long)\n",
    "        else:\n",
    "            return None, None  # Handle the case where the folder is not found"
   ],
   "metadata": {
    "execution": {
     "iopub.status.busy": "2024-09-17T13:12:12.929648Z",
     "iopub.execute_input": "2024-09-17T13:12:12.929932Z",
     "iopub.status.idle": "2024-09-17T13:12:12.980970Z",
     "shell.execute_reply.started": "2024-09-17T13:12:12.929900Z",
     "shell.execute_reply": "2024-09-17T13:12:12.980108Z"
    },
    "trusted": true,
    "ExecuteTime": {
     "end_time": "2024-09-18T07:26:00.543531Z",
     "start_time": "2024-09-18T07:26:00.525490Z"
    }
   },
   "outputs": [],
   "execution_count": 11
  },
  {
   "cell_type": "code",
   "source": "def get_train_loader(dicom_dir, patient_scan_labels, batch_size=TRAIN_BATCH_SIZE, shuffle=True):\n    train_dataset = TrainDatasetGenerator(dicom_dir, patient_scan_labels)\n    return DataLoader(train_dataset, batch_size=batch_size, shuffle=shuffle, num_workers=4, pin_memory=True)\n\ndef get_test_loader(dicom_dir, patient_scan_labels, batch_size=TEST_BATCH_SIZE):\n    test_dataset = TestDatasetGenerator(dicom_dir, patient_scan_labels)\n    return DataLoader(test_dataset, batch_size=batch_size, shuffle=False, num_workers=4, pin_memory=True)",
   "metadata": {
    "execution": {
     "iopub.status.busy": "2024-09-17T13:12:12.983835Z",
     "iopub.execute_input": "2024-09-17T13:12:12.984133Z",
     "iopub.status.idle": "2024-09-17T13:12:13.026742Z",
     "shell.execute_reply.started": "2024-09-17T13:12:12.984084Z",
     "shell.execute_reply": "2024-09-17T13:12:13.025761Z"
    },
    "trusted": true,
    "ExecuteTime": {
     "end_time": "2024-09-18T07:26:00.595824Z",
     "start_time": "2024-09-18T07:26:00.572705Z"
    }
   },
   "outputs": [],
   "execution_count": 12
  },
  {
   "cell_type": "markdown",
   "source": "## CNN Feature Extractor",
   "metadata": {}
  },
  {
   "metadata": {
    "ExecuteTime": {
     "end_time": "2024-09-18T07:26:00.644372Z",
     "start_time": "2024-09-18T07:26:00.618359Z"
    }
   },
   "cell_type": "code",
   "source": [
    "class ResidualBlock3D(nn.Module):\n",
    "    def __init__(self, in_channels, out_channels, stride=1):\n",
    "        super(ResidualBlock3D, self).__init__()\n",
    "        self.conv1 = nn.Conv3d(in_channels, out_channels, kernel_size=3, stride=stride, padding=1, bias=False)\n",
    "        self.bn1 = nn.BatchNorm3d(out_channels)\n",
    "        self.conv2 = nn.Conv3d(out_channels, out_channels, kernel_size=3, stride=1, padding=1, bias=False)\n",
    "        self.bn2 = nn.BatchNorm3d(out_channels)\n",
    "\n",
    "        self.shortcut = nn.Sequential()\n",
    "        if stride != 1 or in_channels != out_channels:\n",
    "            self.shortcut = nn.Sequential(\n",
    "                nn.Conv3d(in_channels, out_channels, kernel_size=1, stride=stride, bias=False),\n",
    "                nn.BatchNorm3d(out_channels)\n",
    "            )\n",
    "\n",
    "    def forward(self, x):\n",
    "        out = F.relu(self.bn1(self.conv1(x)))\n",
    "        out = self.bn2(self.conv2(out))\n",
    "        out += self.shortcut(x)\n",
    "        out = F.relu(out)\n",
    "        return out"
   ],
   "outputs": [],
   "execution_count": 13
  },
  {
   "metadata": {
    "ExecuteTime": {
     "end_time": "2024-09-18T07:26:00.698707Z",
     "start_time": "2024-09-18T07:26:00.680796Z"
    }
   },
   "cell_type": "code",
   "source": [
    "class ResNet3D_MIL(nn.Module):\n",
    "    def __init__(self, block, num_blocks, num_classes=2):\n",
    "        super(ResNet3D_MIL, self).__init__()\n",
    "        self.in_channels = 64\n",
    "\n",
    "        self.conv1 = nn.Conv3d(3, 64, kernel_size=7, stride=(1, 2, 2), padding=3, bias=False)\n",
    "        self.bn1 = nn.BatchNorm3d(64)\n",
    "        self.maxpool = nn.MaxPool3d(kernel_size=3, stride=2, padding=1)\n",
    "\n",
    "        self.layer1 = self._make_layer(block, 64, num_blocks[0], stride=1)\n",
    "        self.layer2 = self._make_layer(block, 128, num_blocks[1], stride=2)\n",
    "        self.layer3 = self._make_layer(block, 256, num_blocks[2], stride=2)\n",
    "        self.layer4 = self._make_layer(block, 512, num_blocks[3], stride=2)\n",
    "\n",
    "        self.avgpool = nn.AdaptiveAvgPool3d((1, 1, 1))\n",
    "        self.fc = nn.Linear(512, num_classes)\n",
    "        \n",
    "        self.dropout = nn.Dropout(0.25)\n",
    "\n",
    "    def _make_layer(self, block, out_channels, num_blocks, stride):\n",
    "        strides = [stride] + [1] * (num_blocks - 1)\n",
    "        layers = []\n",
    "        for stride in strides:\n",
    "            layers.append(block(self.in_channels, out_channels, stride))\n",
    "            self.in_channels = out_channels\n",
    "        return nn.Sequential(*layers)\n",
    "\n",
    "    def forward(self, x):\n",
    "        # x shape: (batch_size, num_instances, channels, depth, height, width)\n",
    "        batch_size, c, d, h, w = x.size()\n",
    "        x = x.view(batch_size, c, d, h, w)\n",
    "\n",
    "        out = F.relu(self.bn1(self.conv1(x)))\n",
    "        out = self.maxpool(out)\n",
    "\n",
    "        out = self.layer1(out)\n",
    "        out = self.dropout(out)\n",
    "        out = self.layer2(out)\n",
    "        out = self.dropout(out)\n",
    "        out = self.layer3(out)\n",
    "        out = self.dropout(out)\n",
    "        out = self.layer4(out)\n",
    "\n",
    "        out = self.avgpool(out)\n",
    "        out = out.view(out.size(0), -1)\n",
    "        out = self.dropout(out)\n",
    "        out = self.fc(out)\n",
    "\n",
    "        # Reshape back to (batch_size, num_instances, num_classes)\n",
    "        # out = out.view(batch_size, num_instances, -1)\n",
    "\n",
    "        # MIL aggregation (max pooling over instances)\n",
    "        out = torch.max(out, dim=1)[0]\n",
    "\n",
    "        return out\n",
    "\n",
    "def ResNet3D18_MIL():\n",
    "    return ResNet3D_MIL(ResidualBlock3D, [2, 2, 2, 2])"
   ],
   "outputs": [],
   "execution_count": 14
  },
  {
   "metadata": {
    "ExecuteTime": {
     "end_time": "2024-09-18T07:26:00.741895Z",
     "start_time": "2024-09-18T07:26:00.723294Z"
    }
   },
   "cell_type": "code",
   "source": [
    "import torch.optim as optim\n",
    "from sklearn.metrics import accuracy_score, precision_score, recall_score, f1_score\n",
    "\n",
    "def train_model(model, train_loader, val_loader, num_epochs=10, learning_rate=0.001, device='cuda'):\n",
    "    model = model.to(device)\n",
    "    criterion = nn.BCEWithLogitsLoss()\n",
    "    optimizer = optim.Adam(model.parameters(), lr=learning_rate, weight_decay=1e-5)\n",
    "    \n",
    "    best_val_accuracy = 0.0\n",
    "    best_model = None\n",
    "\n",
    "    for epoch in range(num_epochs):\n",
    "        model.train()\n",
    "        train_loss = 0.0\n",
    "        train_predictions = []\n",
    "        train_labels = []\n",
    "\n",
    "        for batch_data, batch_labels in train_loader:\n",
    "            batch_data = batch_data.to(device)\n",
    "            batch_labels = batch_labels.float().to(device)\n",
    "\n",
    "            optimizer.zero_grad()\n",
    "            outputs = model(batch_data).squeeze()\n",
    "            loss = criterion(outputs, batch_labels)\n",
    "            loss.backward()\n",
    "            optimizer.step()\n",
    "\n",
    "            train_loss += loss.item()\n",
    "            train_predictions.extend((outputs > 0).cpu().numpy())\n",
    "            train_labels.extend(batch_labels.cpu().numpy())\n",
    "\n",
    "        train_accuracy = accuracy_score(train_labels, train_predictions)\n",
    "        train_precision = precision_score(train_labels, train_predictions)\n",
    "        train_recall = recall_score(train_labels, train_predictions)\n",
    "        train_f1 = f1_score(train_labels, train_predictions)\n",
    "\n",
    "        # Validation\n",
    "        model.eval()\n",
    "        val_loss = 0.0\n",
    "        val_predictions = []\n",
    "        val_labels = []\n",
    "\n",
    "        with torch.no_grad():\n",
    "            for batch_data, batch_labels in val_loader:\n",
    "                batch_data = batch_data.to(device)\n",
    "                batch_labels = batch_labels.float().to(device)\n",
    "\n",
    "                outputs = model(batch_data).squeeze()\n",
    "                loss = criterion(outputs, batch_labels)\n",
    "\n",
    "                val_loss += loss.item()\n",
    "                val_predictions.extend((outputs > 0).cpu().numpy())\n",
    "                val_labels.extend(batch_labels.cpu().numpy())\n",
    "\n",
    "        val_accuracy = accuracy_score(val_labels, val_predictions)\n",
    "        val_precision = precision_score(val_labels, val_predictions)\n",
    "        val_recall = recall_score(val_labels, val_predictions)\n",
    "        val_f1 = f1_score(val_labels, val_predictions)\n",
    "\n",
    "        print(f\"Epoch {epoch+1}/{num_epochs}\")\n",
    "        print(f\"Train Loss: {train_loss:.4f}, Accuracy: {train_accuracy:.4f}, Precision: {train_precision:.4f}, Recall: {train_recall:.4f}, F1: {train_f1:.4f}\")\n",
    "        print(f\"Val Loss: {val_loss:.4f}, Accuracy: {val_accuracy:.4f}, Precision: {val_precision:.4f}, Recall: {val_recall:.4f}, F1: {val_f1:.4f}\")\n",
    "\n",
    "        if val_accuracy > best_val_accuracy:\n",
    "            best_val_accuracy = val_accuracy\n",
    "            best_model = model.state_dict()\n",
    "\n",
    "    # Load best model\n",
    "    model.load_state_dict(best_model)\n",
    "    return model"
   ],
   "outputs": [],
   "execution_count": 15
  },
  {
   "metadata": {
    "ExecuteTime": {
     "end_time": "2024-09-18T07:58:11.325959Z",
     "start_time": "2024-09-18T07:26:00.788732Z"
    }
   },
   "cell_type": "code",
   "source": [
    "if __name__ == \"__main__\":\n",
    "    device = torch.device('cuda' if torch.cuda.is_available() else 'cpu')\n",
    "    \n",
    "    # Sử dụng hàm train_model\n",
    "    model = ResNet3D18_MIL()\n",
    "    \n",
    "    train_labels, val_labels, test_labels = split_dataset(patient_scan_labels, test_size=TEST_SIZE)\n",
    "    \n",
    "    train_loader = get_train_loader(DATA_DIR, train_labels, batch_size=8)\n",
    "    val_loader = get_train_loader(DATA_DIR, val_labels, batch_size=4)\n",
    "    test_loader = get_test_loader(DATA_DIR, test_labels, batch_size=4)\n",
    "    \n",
    "    trained_model = train_model(model, train_loader, val_loader, num_epochs=50, learning_rate=0.001)"
   ],
   "outputs": [
    {
     "name": "stdout",
     "output_type": "stream",
     "text": [
      "Epoch 1/50\n",
      "Train Loss: 54.3502, Accuracy: 0.5767, Precision: 0.4976, Recall: 0.4111, F1: 0.4502\n",
      "Val Loss: 95.3470, Accuracy: 0.5800, Precision: 0.0000, Recall: 0.0000, F1: 0.0000\n"
     ]
    },
    {
     "name": "stderr",
     "output_type": "stream",
     "text": [
      "/home/hskha23/miniconda3/envs/tf/lib/python3.10/site-packages/sklearn/metrics/_classification.py:1531: UndefinedMetricWarning: Precision is ill-defined and being set to 0.0 due to no predicted samples. Use `zero_division` parameter to control this behavior.\n",
      "  _warn_prf(average, modifier, f\"{metric.capitalize()} is\", len(result))\n"
     ]
    },
    {
     "name": "stdout",
     "output_type": "stream",
     "text": [
      "Epoch 2/50\n",
      "Train Loss: 48.3191, Accuracy: 0.6500, Precision: 0.6175, Recall: 0.4466, F1: 0.5183\n",
      "Val Loss: 65.9111, Accuracy: 0.5800, Precision: 0.0000, Recall: 0.0000, F1: 0.0000\n"
     ]
    },
    {
     "name": "stderr",
     "output_type": "stream",
     "text": [
      "/home/hskha23/miniconda3/envs/tf/lib/python3.10/site-packages/sklearn/metrics/_classification.py:1531: UndefinedMetricWarning: Precision is ill-defined and being set to 0.0 due to no predicted samples. Use `zero_division` parameter to control this behavior.\n",
      "  _warn_prf(average, modifier, f\"{metric.capitalize()} is\", len(result))\n"
     ]
    },
    {
     "name": "stdout",
     "output_type": "stream",
     "text": [
      "Epoch 3/50\n",
      "Train Loss: 48.7251, Accuracy: 0.6400, Precision: 0.5869, Recall: 0.4941, F1: 0.5365\n",
      "Val Loss: 35.3097, Accuracy: 0.5750, Precision: 0.4966, Recall: 0.8571, F1: 0.6288\n",
      "Epoch 4/50\n",
      "Train Loss: 45.3804, Accuracy: 0.6750, Precision: 0.6272, Recall: 0.5652, F1: 0.5946\n",
      "Val Loss: 41.1967, Accuracy: 0.6350, Precision: 0.7037, Recall: 0.2262, F1: 0.3423\n",
      "Epoch 5/50\n",
      "Train Loss: 45.5781, Accuracy: 0.6650, Precision: 0.6150, Recall: 0.5494, F1: 0.5804\n",
      "Val Loss: 37.0099, Accuracy: 0.6100, Precision: 0.7500, Recall: 0.1071, F1: 0.1875\n",
      "Epoch 6/50\n",
      "Train Loss: 43.7078, Accuracy: 0.6917, Precision: 0.6453, Recall: 0.5968, F1: 0.6201\n",
      "Val Loss: 32.1076, Accuracy: 0.6500, Precision: 0.7917, Recall: 0.2262, F1: 0.3519\n",
      "Epoch 7/50\n",
      "Train Loss: 41.0310, Accuracy: 0.7100, Precision: 0.6653, Recall: 0.6285, F1: 0.6463\n",
      "Val Loss: 38.7609, Accuracy: 0.5550, Precision: 0.4839, Recall: 0.8929, F1: 0.6276\n",
      "Epoch 8/50\n",
      "Train Loss: 43.2397, Accuracy: 0.6950, Precision: 0.6522, Recall: 0.5929, F1: 0.6211\n",
      "Val Loss: 31.2636, Accuracy: 0.6800, Precision: 0.6562, Recall: 0.5000, F1: 0.5676\n",
      "Epoch 9/50\n",
      "Train Loss: 40.1181, Accuracy: 0.7350, Precision: 0.7009, Recall: 0.6482, F1: 0.6735\n",
      "Val Loss: 75.5843, Accuracy: 0.5850, Precision: 1.0000, Recall: 0.0119, F1: 0.0235\n",
      "Epoch 10/50\n",
      "Train Loss: 41.2507, Accuracy: 0.7233, Precision: 0.6951, Recall: 0.6126, F1: 0.6513\n",
      "Val Loss: 33.4651, Accuracy: 0.6050, Precision: 0.5185, Recall: 0.8333, F1: 0.6393\n",
      "Epoch 11/50\n",
      "Train Loss: 38.4941, Accuracy: 0.7550, Precision: 0.7409, Recall: 0.6443, F1: 0.6892\n",
      "Val Loss: 36.9701, Accuracy: 0.6600, Precision: 0.5645, Recall: 0.8333, F1: 0.6731\n",
      "Epoch 12/50\n",
      "Train Loss: 43.9527, Accuracy: 0.6833, Precision: 0.6413, Recall: 0.5652, F1: 0.6008\n",
      "Val Loss: 32.0537, Accuracy: 0.6200, Precision: 0.7857, Recall: 0.1310, F1: 0.2245\n",
      "Epoch 13/50\n",
      "Train Loss: 39.8048, Accuracy: 0.7383, Precision: 0.6905, Recall: 0.6877, F1: 0.6891\n",
      "Val Loss: 30.3921, Accuracy: 0.6750, Precision: 0.6022, Recall: 0.6667, F1: 0.6328\n",
      "Epoch 14/50\n",
      "Train Loss: 39.4142, Accuracy: 0.7500, Precision: 0.7137, Recall: 0.6798, F1: 0.6964\n",
      "Val Loss: 34.8018, Accuracy: 0.6700, Precision: 0.7250, Recall: 0.3452, F1: 0.4677\n",
      "Epoch 15/50\n",
      "Train Loss: 38.6859, Accuracy: 0.7400, Precision: 0.7195, Recall: 0.6285, F1: 0.6709\n",
      "Val Loss: 49.4972, Accuracy: 0.6650, Precision: 0.7931, Recall: 0.2738, F1: 0.4071\n",
      "Epoch 16/50\n",
      "Train Loss: 36.8970, Accuracy: 0.7633, Precision: 0.7176, Recall: 0.7233, F1: 0.7205\n",
      "Val Loss: 31.5919, Accuracy: 0.6750, Precision: 0.6022, Recall: 0.6667, F1: 0.6328\n",
      "Epoch 17/50\n",
      "Train Loss: 34.3286, Accuracy: 0.7900, Precision: 0.7550, Recall: 0.7431, F1: 0.7490\n",
      "Val Loss: 34.2697, Accuracy: 0.6700, Precision: 0.5918, Recall: 0.6905, F1: 0.6374\n",
      "Epoch 18/50\n",
      "Train Loss: 34.9215, Accuracy: 0.7717, Precision: 0.7458, Recall: 0.6957, F1: 0.7198\n",
      "Val Loss: 34.6077, Accuracy: 0.7200, Precision: 0.6842, Recall: 0.6190, F1: 0.6500\n",
      "Epoch 19/50\n",
      "Train Loss: 34.9416, Accuracy: 0.7767, Precision: 0.7409, Recall: 0.7233, F1: 0.7320\n",
      "Val Loss: 38.5454, Accuracy: 0.6600, Precision: 0.6538, Recall: 0.4048, F1: 0.5000\n",
      "Epoch 20/50\n",
      "Train Loss: 35.1086, Accuracy: 0.7733, Precision: 0.7388, Recall: 0.7154, F1: 0.7269\n",
      "Val Loss: 50.3023, Accuracy: 0.6250, Precision: 0.7143, Recall: 0.1786, F1: 0.2857\n",
      "Epoch 21/50\n",
      "Train Loss: 33.2029, Accuracy: 0.7917, Precision: 0.7807, Recall: 0.7036, F1: 0.7401\n",
      "Val Loss: 37.0551, Accuracy: 0.6500, Precision: 0.7059, Recall: 0.2857, F1: 0.4068\n",
      "Epoch 22/50\n",
      "Train Loss: 30.7335, Accuracy: 0.8233, Precision: 0.8075, Recall: 0.7628, F1: 0.7846\n",
      "Val Loss: 67.7406, Accuracy: 0.5750, Precision: 0.3333, Recall: 0.0119, F1: 0.0230\n",
      "Epoch 23/50\n",
      "Train Loss: 33.8735, Accuracy: 0.7900, Precision: 0.7571, Recall: 0.7391, F1: 0.7480\n",
      "Val Loss: 38.7615, Accuracy: 0.6050, Precision: 0.5238, Recall: 0.6548, F1: 0.5820\n",
      "Epoch 24/50\n",
      "Train Loss: 31.6134, Accuracy: 0.7933, Precision: 0.7676, Recall: 0.7312, F1: 0.7490\n",
      "Val Loss: 58.0903, Accuracy: 0.6200, Precision: 0.6000, Recall: 0.2857, F1: 0.3871\n",
      "Epoch 25/50\n",
      "Train Loss: 26.5065, Accuracy: 0.8350, Precision: 0.8208, Recall: 0.7787, F1: 0.7992\n",
      "Val Loss: 130.0732, Accuracy: 0.6300, Precision: 0.8571, Recall: 0.1429, F1: 0.2449\n",
      "Epoch 26/50\n",
      "Train Loss: 27.7453, Accuracy: 0.8417, Precision: 0.8086, Recall: 0.8182, F1: 0.8134\n",
      "Val Loss: 41.8595, Accuracy: 0.6300, Precision: 0.5446, Recall: 0.7262, F1: 0.6224\n",
      "Epoch 27/50\n",
      "Train Loss: 28.2103, Accuracy: 0.8517, Precision: 0.8417, Recall: 0.7984, F1: 0.8195\n",
      "Val Loss: 53.4629, Accuracy: 0.6500, Precision: 0.5686, Recall: 0.6905, F1: 0.6237\n",
      "Epoch 28/50\n",
      "Train Loss: 26.6883, Accuracy: 0.8583, Precision: 0.8333, Recall: 0.8300, F1: 0.8317\n",
      "Val Loss: 43.8098, Accuracy: 0.6400, Precision: 0.5536, Recall: 0.7381, F1: 0.6327\n",
      "Epoch 29/50\n",
      "Train Loss: 29.2388, Accuracy: 0.8383, Precision: 0.8250, Recall: 0.7826, F1: 0.8032\n",
      "Val Loss: 49.9609, Accuracy: 0.6000, Precision: 0.5714, Recall: 0.1905, F1: 0.2857\n",
      "Epoch 30/50\n",
      "Train Loss: 24.4055, Accuracy: 0.8450, Precision: 0.8175, Recall: 0.8142, F1: 0.8158\n",
      "Val Loss: 50.1466, Accuracy: 0.6350, Precision: 0.7619, Recall: 0.1905, F1: 0.3048\n",
      "Epoch 31/50\n",
      "Train Loss: 21.9484, Accuracy: 0.8800, Precision: 0.8577, Recall: 0.8577, F1: 0.8577\n",
      "Val Loss: 336.4149, Accuracy: 0.5800, Precision: 0.0000, Recall: 0.0000, F1: 0.0000\n"
     ]
    },
    {
     "name": "stderr",
     "output_type": "stream",
     "text": [
      "/home/hskha23/miniconda3/envs/tf/lib/python3.10/site-packages/sklearn/metrics/_classification.py:1531: UndefinedMetricWarning: Precision is ill-defined and being set to 0.0 due to no predicted samples. Use `zero_division` parameter to control this behavior.\n",
      "  _warn_prf(average, modifier, f\"{metric.capitalize()} is\", len(result))\n"
     ]
    },
    {
     "name": "stdout",
     "output_type": "stream",
     "text": [
      "Epoch 32/50\n",
      "Train Loss: 21.1874, Accuracy: 0.8733, Precision: 0.8583, Recall: 0.8379, F1: 0.8480\n",
      "Val Loss: 163.7847, Accuracy: 0.6000, Precision: 0.6667, Recall: 0.0952, F1: 0.1667\n",
      "Epoch 33/50\n",
      "Train Loss: 25.6072, Accuracy: 0.8483, Precision: 0.8189, Recall: 0.8221, F1: 0.8205\n",
      "Val Loss: 81.3434, Accuracy: 0.6000, Precision: 0.6429, Recall: 0.1071, F1: 0.1837\n",
      "Epoch 34/50\n",
      "Train Loss: 20.3268, Accuracy: 0.8900, Precision: 0.8755, Recall: 0.8617, F1: 0.8685\n",
      "Val Loss: 95.0220, Accuracy: 0.6050, Precision: 0.6087, Recall: 0.1667, F1: 0.2617\n",
      "Epoch 35/50\n",
      "Train Loss: 17.5326, Accuracy: 0.9000, Precision: 0.8971, Recall: 0.8617, F1: 0.8790\n",
      "Val Loss: 54.4055, Accuracy: 0.6800, Precision: 0.6786, Recall: 0.4524, F1: 0.5429\n",
      "Epoch 36/50\n",
      "Train Loss: 19.6379, Accuracy: 0.8933, Precision: 0.8826, Recall: 0.8617, F1: 0.8720\n",
      "Val Loss: 52.9634, Accuracy: 0.6200, Precision: 0.5435, Recall: 0.5952, F1: 0.5682\n",
      "Epoch 37/50\n",
      "Train Loss: 16.3869, Accuracy: 0.9133, Precision: 0.9069, Recall: 0.8854, F1: 0.8960\n",
      "Val Loss: 86.3210, Accuracy: 0.5350, Precision: 0.4713, Recall: 0.8810, F1: 0.6141\n",
      "Epoch 38/50\n",
      "Train Loss: 16.7722, Accuracy: 0.8967, Precision: 0.8745, Recall: 0.8814, F1: 0.8780\n",
      "Val Loss: 72.4026, Accuracy: 0.6800, Precision: 0.7083, Recall: 0.4048, F1: 0.5152\n",
      "Epoch 39/50\n",
      "Train Loss: 14.3701, Accuracy: 0.9267, Precision: 0.9231, Recall: 0.9012, F1: 0.9120\n",
      "Val Loss: 74.0634, Accuracy: 0.6500, Precision: 0.5625, Recall: 0.7500, F1: 0.6429\n",
      "Epoch 40/50\n",
      "Train Loss: 16.3087, Accuracy: 0.9183, Precision: 0.9016, Recall: 0.9051, F1: 0.9034\n",
      "Val Loss: 77.8237, Accuracy: 0.6750, Precision: 0.7021, Recall: 0.3929, F1: 0.5038\n",
      "Epoch 41/50\n",
      "Train Loss: 10.2440, Accuracy: 0.9533, Precision: 0.9518, Recall: 0.9368, F1: 0.9442\n",
      "Val Loss: 70.3960, Accuracy: 0.6100, Precision: 0.5246, Recall: 0.7619, F1: 0.6214\n",
      "Epoch 42/50\n",
      "Train Loss: 16.5657, Accuracy: 0.9117, Precision: 0.9000, Recall: 0.8893, F1: 0.8946\n",
      "Val Loss: 77.9424, Accuracy: 0.6300, Precision: 0.6316, Recall: 0.2857, F1: 0.3934\n",
      "Epoch 43/50\n",
      "Train Loss: 14.0934, Accuracy: 0.9250, Precision: 0.9062, Recall: 0.9170, F1: 0.9116\n",
      "Val Loss: 66.9330, Accuracy: 0.6700, Precision: 0.6607, Recall: 0.4405, F1: 0.5286\n",
      "Epoch 44/50\n",
      "Train Loss: 15.3742, Accuracy: 0.9267, Precision: 0.9231, Recall: 0.9012, F1: 0.9120\n",
      "Val Loss: 52.9001, Accuracy: 0.6800, Precision: 0.6613, Recall: 0.4881, F1: 0.5616\n",
      "Epoch 45/50\n",
      "Train Loss: 11.4188, Accuracy: 0.9350, Precision: 0.9115, Recall: 0.9368, F1: 0.9240\n",
      "Val Loss: 129.1881, Accuracy: 0.4650, Precision: 0.4327, Recall: 0.8810, F1: 0.5804\n",
      "Epoch 46/50\n",
      "Train Loss: 14.0119, Accuracy: 0.9267, Precision: 0.9130, Recall: 0.9130, F1: 0.9130\n",
      "Val Loss: 72.7333, Accuracy: 0.6800, Precision: 0.6613, Recall: 0.4881, F1: 0.5616\n",
      "Epoch 47/50\n",
      "Train Loss: 10.0765, Accuracy: 0.9533, Precision: 0.9555, Recall: 0.9328, F1: 0.9440\n",
      "Val Loss: 76.1960, Accuracy: 0.6050, Precision: 0.5214, Recall: 0.7262, F1: 0.6070\n",
      "Epoch 48/50\n",
      "Train Loss: 8.8947, Accuracy: 0.9517, Precision: 0.9409, Recall: 0.9447, F1: 0.9428\n",
      "Val Loss: 60.4742, Accuracy: 0.6750, Precision: 0.6727, Recall: 0.4405, F1: 0.5324\n",
      "Epoch 49/50\n",
      "Train Loss: 13.4909, Accuracy: 0.9350, Precision: 0.9147, Recall: 0.9328, F1: 0.9237\n",
      "Val Loss: 86.9256, Accuracy: 0.6300, Precision: 0.7500, Recall: 0.1786, F1: 0.2885\n",
      "Epoch 50/50\n",
      "Train Loss: 10.7244, Accuracy: 0.9367, Precision: 0.9183, Recall: 0.9328, F1: 0.9255\n",
      "Val Loss: 94.8712, Accuracy: 0.5850, Precision: 0.5039, Recall: 0.7619, F1: 0.6066\n"
     ]
    }
   ],
   "execution_count": 16
  },
  {
   "metadata": {},
   "cell_type": "markdown",
   "source": "## Test Model"
  },
  {
   "metadata": {
    "ExecuteTime": {
     "end_time": "2024-09-18T07:58:20.444461Z",
     "start_time": "2024-09-18T07:58:11.374238Z"
    }
   },
   "cell_type": "code",
   "source": [
    "def test_model(model, test_loader, device='cuda'):\n",
    "    model = model.to(device)\n",
    "    model.eval()\n",
    "    test_predictions = []\n",
    "    test_labels = []\n",
    "\n",
    "    with torch.no_grad():\n",
    "        for batch_data, batch_labels in test_loader:\n",
    "            batch_data = batch_data.to(device)\n",
    "            batch_labels = batch_labels.float().to(device)\n",
    "\n",
    "            outputs = model(batch_data).squeeze()\n",
    "            test_predictions.extend((outputs > 0).cpu().numpy())\n",
    "            test_labels.extend(batch_labels.cpu().numpy())\n",
    "\n",
    "    test_accuracy = accuracy_score(test_labels, test_predictions)\n",
    "    test_precision = precision_score(test_labels, test_predictions)\n",
    "    test_recall = recall_score(test_labels, test_predictions)\n",
    "    test_f1 = f1_score(test_labels, test_predictions)\n",
    "\n",
    "    print(f\"Test Accuracy: {test_accuracy:.4f}, Precision: {test_precision:.4f}, Recall: {test_recall:.4f}, F1: {test_f1:.4f}\")\n",
    "\n",
    "    return test_accuracy, test_precision, test_recall, test_f1\n",
    "\n",
    "test_model(trained_model, test_loader)"
   ],
   "outputs": [
    {
     "name": "stdout",
     "output_type": "stream",
     "text": [
      "Test Accuracy: 0.5550, Precision: 0.4832, Recall: 0.8571, F1: 0.6180\n"
     ]
    },
    {
     "data": {
      "text/plain": [
       "(0.555, 0.48322147651006714, 0.8571428571428571, 0.6180257510729614)"
      ]
     },
     "execution_count": 17,
     "metadata": {},
     "output_type": "execute_result"
    }
   ],
   "execution_count": 17
  },
  {
   "metadata": {},
   "cell_type": "markdown",
   "source": "## Save Model"
  },
  {
   "metadata": {
    "ExecuteTime": {
     "end_time": "2024-09-18T07:58:20.561687Z",
     "start_time": "2024-09-18T07:58:20.452957Z"
    }
   },
   "cell_type": "code",
   "source": [
    "# Save the model\n",
    "torch.save(trained_model.state_dict(), 'trained_model.pth')"
   ],
   "outputs": [],
   "execution_count": 18
  },
  {
   "metadata": {
    "ExecuteTime": {
     "end_time": "2024-09-18T07:58:37.974347Z",
     "start_time": "2024-09-18T07:58:20.570153Z"
    }
   },
   "cell_type": "code",
   "source": [
    "# Load the model and test it on test loader and print the results of classification to a csv \n",
    "\n",
    "# Load the model\n",
    "model = ResNet3D18_MIL()\n",
    "\n",
    "# Load the trained model\n",
    "model.load_state_dict(torch.load('trained_model.pth'))\n",
    "model.eval()\n",
    "\n",
    "# Test the model\n",
    "test_loader = get_test_loader(DATA_DIR, test_labels, batch_size=4)\n",
    "test_model(model, test_loader)\n",
    "\n",
    "# Save the results to a csv file\n",
    "results = []\n",
    "with torch.no_grad():\n",
    "    for batch_data, batch_labels in test_loader:\n",
    "        batch_data = batch_data.to(device)\n",
    "        batch_labels = batch_labels.float().to(device)\n",
    "\n",
    "        outputs = model(batch_data).squeeze()\n",
    "        predictions = (outputs > 0).cpu().numpy()\n",
    "\n",
    "        for i in range(len(predictions)):\n",
    "            results.append({\n",
    "                'prediction': predictions[i],\n",
    "                'label': batch_labels[i].cpu().numpy()\n",
    "            })\n",
    "            \n",
    "results_df = pd.DataFrame(results)\n",
    "results_df.to_csv('results.csv', index=False)\n",
    "\n",
    "results_df.head()"
   ],
   "outputs": [
    {
     "name": "stderr",
     "output_type": "stream",
     "text": [
      "/tmp/ipykernel_21055/3266071535.py:7: FutureWarning: You are using `torch.load` with `weights_only=False` (the current default value), which uses the default pickle module implicitly. It is possible to construct malicious pickle data which will execute arbitrary code during unpickling (See https://github.com/pytorch/pytorch/blob/main/SECURITY.md#untrusted-models for more details). In a future release, the default value for `weights_only` will be flipped to `True`. This limits the functions that could be executed during unpickling. Arbitrary objects will no longer be allowed to be loaded via this mode unless they are explicitly allowlisted by the user via `torch.serialization.add_safe_globals`. We recommend you start setting `weights_only=True` for any use case where you don't have full control of the loaded file. Please open an issue on GitHub for any issues related to this experimental feature.\n",
      "  model.load_state_dict(torch.load('trained_model.pth'))\n"
     ]
    },
    {
     "name": "stdout",
     "output_type": "stream",
     "text": [
      "Test Accuracy: 0.5550, Precision: 0.4832, Recall: 0.8571, F1: 0.6180\n"
     ]
    },
    {
     "data": {
      "text/plain": [
       "   prediction label\n",
       "0        True   1.0\n",
       "1        True   0.0\n",
       "2        True   1.0\n",
       "3        True   1.0\n",
       "4        True   1.0"
      ],
      "text/html": [
       "<div>\n",
       "<style scoped>\n",
       "    .dataframe tbody tr th:only-of-type {\n",
       "        vertical-align: middle;\n",
       "    }\n",
       "\n",
       "    .dataframe tbody tr th {\n",
       "        vertical-align: top;\n",
       "    }\n",
       "\n",
       "    .dataframe thead th {\n",
       "        text-align: right;\n",
       "    }\n",
       "</style>\n",
       "<table border=\"1\" class=\"dataframe\">\n",
       "  <thead>\n",
       "    <tr style=\"text-align: right;\">\n",
       "      <th></th>\n",
       "      <th>prediction</th>\n",
       "      <th>label</th>\n",
       "    </tr>\n",
       "  </thead>\n",
       "  <tbody>\n",
       "    <tr>\n",
       "      <th>0</th>\n",
       "      <td>True</td>\n",
       "      <td>1.0</td>\n",
       "    </tr>\n",
       "    <tr>\n",
       "      <th>1</th>\n",
       "      <td>True</td>\n",
       "      <td>0.0</td>\n",
       "    </tr>\n",
       "    <tr>\n",
       "      <th>2</th>\n",
       "      <td>True</td>\n",
       "      <td>1.0</td>\n",
       "    </tr>\n",
       "    <tr>\n",
       "      <th>3</th>\n",
       "      <td>True</td>\n",
       "      <td>1.0</td>\n",
       "    </tr>\n",
       "    <tr>\n",
       "      <th>4</th>\n",
       "      <td>True</td>\n",
       "      <td>1.0</td>\n",
       "    </tr>\n",
       "  </tbody>\n",
       "</table>\n",
       "</div>"
      ]
     },
     "execution_count": 19,
     "metadata": {},
     "output_type": "execute_result"
    }
   ],
   "execution_count": 19
  },
  {
   "metadata": {
    "ExecuteTime": {
     "end_time": "2024-09-18T07:58:46.875675Z",
     "start_time": "2024-09-18T07:58:38.038494Z"
    }
   },
   "cell_type": "code",
   "source": [
    "from sklearn.metrics import roc_curve, auc\n",
    "import matplotlib.pyplot as plt\n",
    "\n",
    "def plot_roc_curve(model, data_loader, device):\n",
    "    model.eval()\n",
    "    all_labels = []\n",
    "    all_scores = []\n",
    "    with torch.no_grad():\n",
    "        for batch_data, batch_labels in data_loader:\n",
    "            batch_data = batch_data.to(device)\n",
    "            outputs = model(batch_data).squeeze()\n",
    "            all_scores.extend(outputs.cpu().numpy())\n",
    "            all_labels.extend(batch_labels.numpy())\n",
    "    \n",
    "    fpr, tpr, _ = roc_curve(all_labels, all_scores)\n",
    "    roc_auc = auc(fpr, tpr)\n",
    "    \n",
    "    plt.figure()\n",
    "    plt.plot(fpr, tpr, color='darkorange', lw=2, label=f'ROC curve (AUC = {roc_auc:.2f})')\n",
    "    plt.plot([0, 1], [0, 1], color='navy', lw=2, linestyle='--')\n",
    "    plt.xlim([0.0, 1.0])\n",
    "    plt.ylim([0.0, 1.05])\n",
    "    plt.xlabel('False Positive Rate')\n",
    "    plt.ylabel('True Positive Rate')\n",
    "    plt.title('Receiver Operating Characteristic (ROC) Curve')\n",
    "    plt.legend(loc=\"lower right\")\n",
    "    plt.show()\n",
    "\n",
    "# Sử dụng hàm này sau khi huấn luyện\n",
    "plot_roc_curve(trained_model, test_loader, device)"
   ],
   "outputs": [
    {
     "data": {
      "text/plain": [
       "<Figure size 640x480 with 1 Axes>"
      ],
      "image/png": "[encoded data removed]"
     },
     "metadata": {},
     "output_type": "display_data"
    }
   ],
   "execution_count": 20
  }
 ]
}
