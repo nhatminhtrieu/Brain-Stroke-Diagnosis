{
 "cells": [
  {
   "metadata": {},
   "cell_type": "markdown",
   "source": "# Attention Layer",
   "id": "4a63a61a889046d6"
  },
  {
   "metadata": {},
   "cell_type": "markdown",
   "source": "## Import Lib",
   "id": "8ef192d740d3f9e"
  },
  {
   "metadata": {
    "ExecuteTime": {
     "end_time": "2024-10-21T15:00:06.800283Z",
     "start_time": "2024-10-21T15:00:06.797864Z"
    }
   },
   "cell_type": "code",
   "source": [
    "import torch\n",
    "import torch.nn as nn\n",
    "import torch.nn.functional as F\n",
    "from torch.xpu import device\n",
    "from torchvision import models\n",
    "from torchvision import datasets\n",
    "from torchvision.transforms import ToTensor\n",
    "from torch.utils.data import DataLoader\n",
    "from sklearn.metrics import accuracy_score, precision_score, f1_score, recall_score\n",
    "\n",
    "import gpytorch\n",
    "\n",
    "import matplotlib.pyplot as plt\n",
    "import numpy as np\n",
    "import random"
   ],
   "id": "743be51811c9768d",
   "outputs": [],
   "execution_count": 29
  },
  {
   "metadata": {
    "ExecuteTime": {
     "end_time": "2024-10-21T15:00:06.821720Z",
     "start_time": "2024-10-21T15:00:06.804323Z"
    }
   },
   "cell_type": "code",
   "source": [
    "# Set a fixed seed value\n",
    "seed_value = 40\n",
    "# Set the random seed for Python's built-in random module\n",
    "random.seed(seed_value)\n",
    "# Set the random seed for NumPy\n",
    "np.random.seed(seed_value)\n",
    "# Set the random seed for PyTorch\n",
    "torch.manual_seed(seed_value)\n",
    "\n",
    "# If using CUDA, set the seed for GPU as well (if applicable)\n",
    "if torch.cuda.is_available():\n",
    "    torch.cuda.manual_seed_all(seed_value)"
   ],
   "id": "6b8e1153f8ca7340",
   "outputs": [],
   "execution_count": 30
  },
  {
   "metadata": {
    "ExecuteTime": {
     "end_time": "2024-10-21T15:00:06.858449Z",
     "start_time": "2024-10-21T15:00:06.853310Z"
    }
   },
   "cell_type": "code",
   "source": [
    "import warnings\n",
    "from sklearn.exceptions import UndefinedMetricWarning\n",
    "\n",
    "warnings.filterwarnings(\"ignore\", category=RuntimeWarning)\n",
    "warnings.filterwarnings(\"ignore\", category=UndefinedMetricWarning)"
   ],
   "id": "590e5508bccbb47b",
   "outputs": [],
   "execution_count": 31
  },
  {
   "metadata": {},
   "cell_type": "markdown",
   "source": "## Data Preparation",
   "id": "9d7ae223d9dfa27d"
  },
  {
   "metadata": {
    "ExecuteTime": {
     "end_time": "2024-10-21T15:00:06.919716Z",
     "start_time": "2024-10-21T15:00:06.907804Z"
    }
   },
   "cell_type": "code",
   "source": [
    "class DatasetGenerator:\n",
    "    def __init__(self, mnist_data, n_bags=1000, min_instances=3, max_instances=5):\n",
    "        self.mnist_data = mnist_data\n",
    "        self.n_bags = n_bags\n",
    "        self.min_instances = min_instances\n",
    "        self.max_instances = max_instances\n",
    "        self.empty_image = torch.zeros(1, 28, 28)  # Create an empty image tensor (1x28x28)\n",
    "\n",
    "    def create_bags(self):\n",
    "        bags = []\n",
    "        labels = []\n",
    "        \n",
    "        for _ in range(self.n_bags):\n",
    "            # Randomly choose a number of instances for the bag\n",
    "            n_instances = np.random.randint(self.min_instances, self.max_instances + 1)\n",
    "            \n",
    "            # Randomly select instances from the dataset\n",
    "            bag_indices = np.random.choice(len(self.mnist_data), n_instances, replace=False)\n",
    "            bag_images = [self.mnist_data[i][0] for i in bag_indices]\n",
    "            \n",
    "            # Determine the label: 1 if any instance is '9', else 0\n",
    "            label = 1 if any(self.mnist_data[i][1] == 9 for i in bag_indices) else 0\n",
    "            \n",
    "            # Convert images to tensors and pad to ensure exactly 7 instances\n",
    "            bag_images_tensors = [ToTensor()(img) for img in bag_images]\n",
    "            while len(bag_images_tensors) < 7:\n",
    "                bag_images_tensors.append(self.empty_image)  # Pad with empty image\n",
    "            \n",
    "            bags.append(torch.stack(bag_images_tensors))\n",
    "            labels.append(label)\n",
    "\n",
    "        return bags, labels\n",
    "\n",
    "class TrainDatasetGenerator(DatasetGenerator):\n",
    "    def __init__(self, mnist_data, n_bags=1000):\n",
    "        super().__init__(mnist_data, n_bags)\n",
    "\n",
    "class TestDatasetGenerator(DatasetGenerator):\n",
    "    def __init__(self, mnist_data, n_bags=500):  # Example: fewer bags for testing\n",
    "        super().__init__(mnist_data, n_bags)"
   ],
   "id": "b0c74e22e200f87c",
   "outputs": [],
   "execution_count": 32
  },
  {
   "metadata": {
    "ExecuteTime": {
     "end_time": "2024-10-21T15:00:07.873400Z",
     "start_time": "2024-10-21T15:00:06.966552Z"
    }
   },
   "cell_type": "code",
   "source": [
    "# Load MNIST dataset\n",
    "mnist_dataset = datasets.MNIST(root='./data', train=True, download=True)\n",
    "\n",
    "# Create training dataset generator and generate bags\n",
    "train_generator = TrainDatasetGenerator(mnist_dataset)\n",
    "train_bags, train_labels = train_generator.create_bags()\n",
    "train_loader = DataLoader(list(zip(train_bags, train_labels)), batch_size=32, shuffle=True)\n",
    "\n",
    "# Create test dataset generator and generate bags\n",
    "test_generator = TestDatasetGenerator(mnist_dataset)\n",
    "test_bags, test_labels = test_generator.create_bags()\n",
    "test_loader = DataLoader(list(zip(test_bags, test_labels)), batch_size=16, shuffle=True)"
   ],
   "id": "a04b09c68297d96f",
   "outputs": [],
   "execution_count": 33
  },
  {
   "metadata": {},
   "cell_type": "markdown",
   "source": "## Attention Layer",
   "id": "222827e790c53375"
  },
  {
   "metadata": {},
   "cell_type": "markdown",
   "source": "### Self-Attention",
   "id": "a5f1288b6239bb36"
  },
  {
   "metadata": {
    "ExecuteTime": {
     "end_time": "2024-10-21T15:00:07.884473Z",
     "start_time": "2024-10-21T15:00:07.882065Z"
    }
   },
   "cell_type": "code",
   "source": [
    "class SelfAttention(nn.Module):\n",
    "    def __init__(self, input_dim):\n",
    "        super(SelfAttention, self).__init__()\n",
    "        self.input_dim = input_dim\n",
    "        # Linear layers for query, key, and value transformations\n",
    "        self.query = nn.Linear(input_dim, input_dim)  # Shape: (input_dim, input_dim)\n",
    "        self.key = nn.Linear(input_dim, input_dim)    # Shape: (input_dim, input_dim)\n",
    "        self.value = nn.Linear(input_dim, input_dim)  # Shape: (input_dim, input_dim)\n",
    "        self.softmax = nn.Softmax(dim=2)              # Softmax along the last dimension\n",
    "\n",
    "    def forward(self, x):  # x.shape: (batch_size, seq_length, input_dim) # seq_length = num_instances\n",
    "        # Transform the input into queries, keys, and values\n",
    "        queries = self.query(x)  # Shape: (batch_size, seq_length, input_dim)\n",
    "        keys = self.key(x)       # Shape: (batch_size, seq_length, input_dim)\n",
    "        values = self.value(x)   # Shape: (batch_size, seq_length, input_dim)\n",
    "\n",
    "        # Compute attention scores\n",
    "        score = torch.bmm(queries, keys.transpose(1, 2)) / (self.input_dim ** 0.5)\n",
    "        # Shape of score: (batch_size, seq_length, seq_length)\n",
    "\n",
    "        attention = self.softmax(score)  \n",
    "        # Shape of attention: (batch_size, seq_length, seq_length)\n",
    "\n",
    "        weighted = torch.bmm(attention, values)  \n",
    "        # Shape of weighted: (batch_size, seq_length, input_dim)\n",
    "\n",
    "        return weighted, attention  # Returns weighted output and attention scores"
   ],
   "id": "5fd7e2264f02a74b",
   "outputs": [],
   "execution_count": 34
  },
  {
   "metadata": {},
   "cell_type": "markdown",
   "source": "### Attention Layer",
   "id": "478d1bf7862fe438"
  },
  {
   "metadata": {
    "ExecuteTime": {
     "end_time": "2024-10-21T15:00:07.978847Z",
     "start_time": "2024-10-21T15:00:07.969174Z"
    }
   },
   "cell_type": "code",
   "source": [
    "class AttentionLayer(nn.Module):\n",
    "    def __init__(self, input_dim, hidden_dim=512):\n",
    "        super(AttentionLayer, self).__init__()\n",
    "        # Sequential model for attention mechanism\n",
    "        self.attention = nn.Sequential(\n",
    "            nn.Linear(input_dim, hidden_dim),  # Shape: (input_dim, hidden_dim)\n",
    "            nn.Tanh(),                          # Activation function\n",
    "            nn.Linear(hidden_dim, 1)           # Shape: (hidden_dim, 1)\n",
    "        )\n",
    "\n",
    "    def forward(self, x):\n",
    "        # x shape: (batch_size, num_instances, feature_dim)\n",
    "        \n",
    "        attention_weights = self.attention(x)  \n",
    "        # Shape of attention_weights: (batch_size, num_instances, 1)\n",
    "\n",
    "        weights = F.softmax(attention_weights, dim=1)  \n",
    "        # Shape of weights: (batch_size, num_instances, 1)\n",
    "\n",
    "        # Element-wise multiplication followed by summation over num_instances\n",
    "        weighted_sum = (x * weights).sum(dim=1)  \n",
    "        # Shape of weighted_sum: (batch_size, feature_dim)\n",
    "\n",
    "        return weighted_sum, weights.squeeze(-1)  \n",
    "        # Returns weighted sum and attention weights with shape (batch_size, num_instances)"
   ],
   "id": "a0c5dbb8cfefc24c",
   "outputs": [],
   "execution_count": 35
  },
  {
   "metadata": {},
   "cell_type": "markdown",
   "source": "## Gaussian Process Layer",
   "id": "184e116b03eebef0"
  },
  {
   "metadata": {
    "ExecuteTime": {
     "end_time": "2024-10-21T15:00:08.021974Z",
     "start_time": "2024-10-21T15:00:08.017742Z"
    }
   },
   "cell_type": "code",
   "source": [
    "class GPModel(gpytorch.models.ApproximateGP):\n",
    "    def __init__(self, inducing_points):\n",
    "        variational_distribution = gpytorch.variational.CholeskyVariationalDistribution(inducing_points.size(0))\n",
    "        variational_strategy = gpytorch.variational.VariationalStrategy(\n",
    "            self, inducing_points, variational_distribution, learn_inducing_locations=True\n",
    "        )\n",
    "        super(GPModel, self).__init__(variational_strategy)\n",
    "        self.mean_module = gpytorch.means.ConstantMean()\n",
    "        self.covar_module = gpytorch.kernels.ScaleKernel(gpytorch.kernels.RBFKernel())\n",
    "\n",
    "    def forward(self, x):\n",
    "        mean_x = self.mean_module(x)\n",
    "        covar_x = self.covar_module(x)\n",
    "        return gpytorch.distributions.MultivariateNormal(mean_x, covar_x)"
   ],
   "id": "dbf94e502c230128",
   "outputs": [],
   "execution_count": 36
  },
  {
   "metadata": {},
   "cell_type": "markdown",
   "source": "## MIL Model",
   "id": "60671b87cb13ea1"
  },
  {
   "metadata": {
    "ExecuteTime": {
     "end_time": "2024-10-21T15:00:08.071636Z",
     "start_time": "2024-10-21T15:00:08.066038Z"
    }
   },
   "cell_type": "code",
   "source": [
    "class MILResNet18(nn.Module):\n",
    "    def __init__(self, attention_method='self-attention'):\n",
    "        super(MILResNet18, self).__init__()\n",
    "        self.resnet = models.resnet18(weights=models.ResNet18_Weights.DEFAULT)\n",
    "        self.resnet.conv1 = nn.Conv2d(1, 64, kernel_size=(7, 7), stride=(2, 2), padding=(3, 3), bias=False)\n",
    "\n",
    "        self.resnet.fc = nn.Identity()\n",
    "        \n",
    "        self.attention_method = attention_method\n",
    "        \n",
    "        self.classifier = nn.Linear(512 + 1, 1)\n",
    "        if attention_method != 'self-attention':\n",
    "            self.attention = AttentionLayer(input_dim=512)\n",
    "        else:\n",
    "            self.attention = SelfAttention(input_dim=512)\n",
    "            \n",
    "        self.dropout = nn.Dropout(0.5)\n",
    "        # Define inducing points for the GP layer\n",
    "        inducing_points = torch.randn(32, 512)\n",
    "        # inducing_points = torch.full((512, 512), 1e-20)  \n",
    "        self.gp_layer = GPModel(inducing_points)    \n",
    "\n",
    "    def forward(self, bags):\n",
    "        # Input shape: torch.Size([32, 7, 1, 28, 28]) # batch_size, num_instances, channels, height, width\n",
    "        batch_size, num_instances = bags.size(0), bags.size(1)\n",
    "        bags_flattened = bags.view(-1, *bags.shape[2:])\n",
    "\n",
    "        features = self.resnet(bags_flattened)\n",
    "        features = features.view(batch_size, num_instances, -1)\n",
    "        attended_features, attended_weights = self.attention(features)\n",
    "        \n",
    "        if self.attention_method != 'self-attention':\n",
    "            attended_features_reshaped = attended_features.view(-1, 512) # Shape: (batch_size * num_instances, feature_dim)\n",
    "        else:\n",
    "            # Shape of attended_features: (batch_size, num_instances, feature_dim) \n",
    "            attended_features_reshaped = attended_features.mean(dim=1) # Shape: (batch_size, feature_dim)\n",
    "            \n",
    "        gp_output = self.gp_layer(attended_features_reshaped)\n",
    "        gp_mean = gp_output.mean.view(batch_size, -1)\n",
    "        if self.attention_method != 'self-attention':\n",
    "            combine_features = torch.cat((attended_features, gp_mean), dim=1)\n",
    "        else: \n",
    "            combine_features = torch.cat((attended_features_reshaped, gp_mean), dim=1)\n",
    "            \n",
    "        combine_features = self.dropout(combine_features)\n",
    "        outputs = torch.sigmoid(self.classifier(combine_features))\n",
    "        return outputs, attended_weights"
   ],
   "id": "68ab01e85b8a8e07",
   "outputs": [],
   "execution_count": 37
  },
  {
   "metadata": {},
   "cell_type": "markdown",
   "source": "## Training Process",
   "id": "1e9c93e0734c3f8e"
  },
  {
   "metadata": {},
   "cell_type": "markdown",
   "source": "### Loss Function",
   "id": "7dca4a53c8cf6042"
  },
  {
   "metadata": {
    "ExecuteTime": {
     "end_time": "2024-10-21T15:00:08.116453Z",
     "start_time": "2024-10-21T15:00:08.113947Z"
    }
   },
   "cell_type": "code",
   "source": [
    "def combined_loss(outputs, gp_distribution, target, alpha=0.5):\n",
    "    # Cross-Entropy Loss for CNN outputs\n",
    "    bce_loss = nn.BCELoss()(outputs.squeeze(), target.float())\n",
    "    kl_divergence = gp_distribution.variational_strategy.kl_divergence()\n",
    "    total_loss = (1 - alpha) * bce_loss + alpha * kl_divergence\n",
    "    \n",
    "    return total_loss"
   ],
   "id": "a1fdc800f3638c7b",
   "outputs": [],
   "execution_count": 38
  },
  {
   "metadata": {},
   "cell_type": "markdown",
   "source": "### Training Loop",
   "id": "14baa8180e2ba67d"
  },
  {
   "metadata": {
    "ExecuteTime": {
     "end_time": "2024-10-21T15:00:09.879439Z",
     "start_time": "2024-10-21T15:00:08.163703Z"
    }
   },
   "cell_type": "code",
   "source": [
    "def train(model, dataloader, epochs=5):\n",
    "    optimizer = torch.optim.Adam(model.parameters(), lr=0.0005)\n",
    "    criterion = nn.BCELoss()\n",
    "\n",
    "    model.train()\n",
    "\n",
    "    for epoch in range(epochs):\n",
    "        all_labels = []\n",
    "        all_outputs = []\n",
    "        total_loss = 0\n",
    "\n",
    "        for batch_images, batch_labels in dataloader:\n",
    "            batch_images = batch_images.to(device)\n",
    "            batch_labels = batch_labels.to(device)\n",
    "            optimizer.zero_grad()\n",
    "\n",
    "            # Forward pass\n",
    "            outputs, attended_weights = model(batch_images.float())\n",
    "            \n",
    "            loss = combined_loss(outputs.squeeze(), model.gp_layer, batch_labels)\n",
    "            \n",
    "            total_loss += loss.item()\n",
    "\n",
    "            # Backward pass\n",
    "            loss.backward()\n",
    "            optimizer.step()\n",
    "\n",
    "            # Collect outputs and labels for metrics calculation\n",
    "            all_labels.extend(batch_labels.cpu().numpy())\n",
    "            all_outputs.extend((outputs.squeeze().cpu().detach().numpy() > 0.5).astype(int))  # Binarize outputs\n",
    "\n",
    "        # Calculate metrics\n",
    "        avg_loss = total_loss / len(dataloader)\n",
    "        accuracy = accuracy_score(all_labels, all_outputs)\n",
    "        recall = recall_score(all_labels, all_outputs)\n",
    "        precision = precision_score(all_labels, all_outputs)\n",
    "        f1 = f1_score(all_labels, all_outputs)\n",
    "\n",
    "        print(f'Epoch [{epoch+1}/{epochs}], Loss: {avg_loss:.4f}, '\n",
    "              f'Accuracy: {accuracy:.4f}, Precision: {precision:.4f}, Recall: {recall:.4f},F1 Score: {f1:.4f}')\n",
    "\n",
    "\n",
    "device = torch.device('cuda' if torch.cuda.is_available() else 'cpu')\n",
    "model = MILResNet18(attention_method='self-attention').to(device)\n",
    "model.to(device)\n",
    "\n",
    "train(model, train_loader)"
   ],
   "id": "48899664dd45f891",
   "outputs": [
    {
     "name": "stdout",
     "output_type": "stream",
     "text": [
      "Epoch [1/5], Loss: 0.2952, Accuracy: 0.7320, Precision: 0.6560, Recall: 0.2671,F1 Score: 0.3796\n",
      "Epoch [2/5], Loss: 0.1395, Accuracy: 0.8990, Precision: 0.8576, Recall: 0.8046,F1 Score: 0.8303\n",
      "Epoch [3/5], Loss: 0.0858, Accuracy: 0.9380, Precision: 0.9016, Recall: 0.8958,F1 Score: 0.8987\n",
      "Epoch [4/5], Loss: 0.0444, Accuracy: 0.9730, Precision: 0.9605, Recall: 0.9511,F1 Score: 0.9558\n",
      "Epoch [5/5], Loss: 0.0388, Accuracy: 0.9720, Precision: 0.9486, Recall: 0.9609,F1 Score: 0.9547\n"
     ]
    }
   ],
   "execution_count": 39
  },
  {
   "metadata": {},
   "cell_type": "markdown",
   "source": "## Testing Process",
   "id": "cd71439a580ec535"
  },
  {
   "metadata": {},
   "cell_type": "markdown",
   "source": "### Plot Attended Weights",
   "id": "a38781df28ad2d0b"
  },
  {
   "metadata": {},
   "cell_type": "markdown",
   "source": "#### Attention Weights Visualization",
   "id": "3b480d27569a9b00"
  },
  {
   "metadata": {
    "ExecuteTime": {
     "end_time": "2024-10-21T15:00:09.889796Z",
     "start_time": "2024-10-21T15:00:09.887822Z"
    }
   },
   "cell_type": "code",
   "source": [
    "def plot_attended_weights(images, attended_weights):\n",
    "    \"\"\"\n",
    "    Plots the original images and their corresponding attended weights in a single figure.\n",
    "\n",
    "    Args:\n",
    "        images (numpy array): A batch of input image arrays.\n",
    "        attended_weights (numpy array): The attended weights corresponding to the images.\n",
    "    \"\"\"\n",
    "    images = images[0]\n",
    "    attended_weights = attended_weights[0]\n",
    "    num_images = images.shape[0]  # Number of images to plot\n",
    "\n",
    "    # Create subplots\n",
    "    fig, axes = plt.subplots(1, num_images, figsize=(num_images * 4, 8))\n",
    "\n",
    "    for i in range(num_images):\n",
    "        axes[i].imshow(images[i].transpose(1, 2, 0))  # Change from CHW to HWC format\n",
    "        axes[i].set_title(f'Image {i + 1} - {attended_weights[i]:.4f}')\n",
    "        axes[i].axis('off')\n",
    "    plt.tight_layout()\n",
    "    plt.show()"
   ],
   "id": "eadcdf4947bd4b4e",
   "outputs": [],
   "execution_count": 40
  },
  {
   "metadata": {},
   "cell_type": "markdown",
   "source": "#### Self-Attention Weights Visualization",
   "id": "8a60897b51633be"
  },
  {
   "metadata": {
    "ExecuteTime": {
     "end_time": "2024-10-21T15:00:09.947978Z",
     "start_time": "2024-10-21T15:00:09.943872Z"
    }
   },
   "cell_type": "code",
   "source": [
    "def plot_self_attention(images, attention_maps):\n",
    "    \"\"\"\n",
    "    Plots the original images and their corresponding self-attention maps in a matrix format.\n",
    "\n",
    "    Args:\n",
    "        images (numpy array): A batch of input image arrays with shape (num_instances, channels, height, width).\n",
    "        attention_maps (numpy array): The attention maps corresponding to the images with shape (num_instances, height, width).\n",
    "    \"\"\"\n",
    "    num_instances = images.shape[0]  # Number of instances/images to plot\n",
    "    print(f'Shape of images: {images.shape}, Shape of attention maps: {attention_maps.shape}')\n",
    "    \n",
    "    # Save the attention maps for each instance to txt file \n",
    "    with open('attention_maps.txt', 'w') as f:\n",
    "        for i in range(num_instances):\n",
    "            f.write(f'Instance {i + 1}\\n')\n",
    "            f.write(f'{attention_maps[i]}\\n\\n')\n",
    "\n",
    "    # Create subplots with 2 columns: original images and attention maps\n",
    "    fig, axes = plt.subplots(num_instances, 2, figsize=(10, num_instances * 4))\n",
    "\n",
    "    for i in range(num_instances):\n",
    "        # Plot original image\n",
    "        axes[i, 0].imshow(images[i].transpose(1, 2, 0))  # Change from CHW to HWC format\n",
    "        axes[i, 0].set_title(f'Original Image {i + 1}')\n",
    "        axes[i, 0].axis('off')\n",
    "\n",
    "        # Plot attention map\n",
    "        axes[i, 1].imshow(attention_maps[i], cmap='jet', alpha=0.5)  # Example colormap\n",
    "        axes[i, 1].set_title(f'Attention Map {i + 1}')\n",
    "        axes[i, 1].axis('off')\n",
    "\n",
    "    plt.tight_layout()\n",
    "    plt.show()\n"
   ],
   "id": "e125e9d3ec82cdfb",
   "outputs": [],
   "execution_count": 41
  },
  {
   "metadata": {},
   "cell_type": "markdown",
   "source": "### Test Function",
   "id": "3b145626c8744bb4"
  },
  {
   "metadata": {
    "ExecuteTime": {
     "end_time": "2024-10-21T15:00:10.417457Z",
     "start_time": "2024-10-21T15:00:10.007267Z"
    }
   },
   "cell_type": "code",
   "source": [
    "def test(model, dataloader):\n",
    "    model.eval()\n",
    "    all_labels = []\n",
    "    all_outputs = []\n",
    "    all_attended_weights = []  # Store attended weights for visualization\n",
    "    images_to_plot = []  # Store images with label = 1\n",
    "    weights_to_plot = []  # Store attended weights for images with label = 1\n",
    "\n",
    "    with torch.no_grad():\n",
    "        for batch_images, batch_labels in dataloader:\n",
    "            batch_images = batch_images.to(device)\n",
    "            batch_labels = batch_labels.to(device)\n",
    "\n",
    "            # Forward pass\n",
    "            outputs, attended_weights = model(batch_images.float())\n",
    "            \n",
    "            # Collect outputs and labels for metrics calculation\n",
    "            all_labels.extend(batch_labels.cpu().numpy())\n",
    "            all_outputs.extend((outputs.squeeze().cpu().detach().numpy() > 0.5).astype(int))  # Binarize outputs\n",
    "\n",
    "            # Check for images with label = 1\n",
    "            for i in range(len(batch_labels)):\n",
    "                if batch_labels[i] == 1:\n",
    "                    images_to_plot.append(batch_images[i].cpu().numpy())\n",
    "                    weights_to_plot.append(attended_weights[i].squeeze().cpu().numpy())\n",
    "\n",
    "    # Calculate metrics\n",
    "    accuracy = accuracy_score(all_labels, all_outputs)\n",
    "    recall = recall_score(all_labels, all_outputs)\n",
    "    precision = precision_score(all_labels, all_outputs)\n",
    "    f1 = f1_score(all_labels, all_outputs)\n",
    "\n",
    "    print(f'Accuracy: {accuracy:.4f}, Precision: {precision:.4f}, Recall: {recall:.4f},F1 Score: {f1:.4f}')\n",
    "\n",
    "    # Plotting attended weights for images with label = 1\n",
    "    if images_to_plot:  # Check if there are any images to plot\n",
    "        # plot_attended_weights(np.array(images_to_plot), np.array(weights_to_plot))\n",
    "        plot_self_attention(np.array(images_to_plot[0]), np.array(weights_to_plot))\n",
    "        \n",
    "# Call the test function with your model and test loader\n",
    "test(model, test_loader)"
   ],
   "id": "4f04580fad06751e",
   "outputs": [
    {
     "name": "stdout",
     "output_type": "stream",
     "text": [
      "Accuracy: 0.9500, Precision: 0.9140, Recall: 0.9497,F1 Score: 0.9315\n",
      "Shape of images: (7, 1, 28, 28), Shape of attention maps: (179, 7, 7)\n"
     ]
    },
    {
     "data": {
      "text/plain": [
       "<Figure size 1000x2800 with 14 Axes>"
      ],
      "image/png": "[encoded data removed]"
     },
     "metadata": {},
     "output_type": "display_data"
    }
   ],
   "execution_count": 42
  },
  {
   "metadata": {},
   "cell_type": "markdown",
   "source": [
    "## References:\n",
    "[1] https://medium.com/@wangdk93/implement-self-attention-and-cross-attention-in-pytorch-1f1a366c9d4b"
   ],
   "id": "77de1738b73d62c5"
  }
 ],
 "metadata": {
  "kernelspec": {
   "display_name": "Python 3",
   "language": "python",
   "name": "python3"
  },
  "language_info": {
   "codemirror_mode": {
    "name": "ipython",
    "version": 2
   },
   "file_extension": ".py",
   "mimetype": "text/x-python",
   "name": "python",
   "nbconvert_exporter": "python",
   "pygments_lexer": "ipython2",
   "version": "2.7.6"
  }
 },
 "nbformat": 4,
 "nbformat_minor": 5
}
