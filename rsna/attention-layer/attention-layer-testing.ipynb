{
 "cells": [
  {
   "metadata": {},
   "cell_type": "markdown",
   "source": "# Attention Layer",
   "id": "4a63a61a889046d6"
  },
  {
   "metadata": {},
   "cell_type": "markdown",
   "source": "## Import Lib",
   "id": "8ef192d740d3f9e"
  },
  {
   "metadata": {
    "ExecuteTime": {
     "end_time": "2024-10-14T06:37:38.839443Z",
     "start_time": "2024-10-14T06:37:38.833791Z"
    }
   },
   "cell_type": "code",
   "source": [
    "import torch\n",
    "import torch.nn as nn\n",
    "import torch.nn.functional as F\n",
    "from torch.xpu import device\n",
    "from torchvision import models\n",
    "from torchvision import datasets\n",
    "from torch.utils.data import DataLoader\n",
    "from sklearn.metrics import accuracy_score, precision_score, f1_score\n",
    "\n",
    "import matplotlib.pyplot as plt\n",
    "import numpy as np\n",
    "import random"
   ],
   "id": "743be51811c9768d",
   "outputs": [],
   "execution_count": 34
  },
  {
   "metadata": {
    "ExecuteTime": {
     "end_time": "2024-10-14T06:37:38.858767Z",
     "start_time": "2024-10-14T06:37:38.856197Z"
    }
   },
   "cell_type": "code",
   "source": [
    "# Set a fixed seed value\n",
    "seed_value = 40\n",
    "\n",
    "# Set the random seed for Python's built-in random module\n",
    "random.seed(seed_value)\n",
    "\n",
    "# Set the random seed for NumPy\n",
    "np.random.seed(seed_value)\n",
    "\n",
    "# Set the random seed for PyTorch\n",
    "torch.manual_seed(seed_value)\n",
    "\n",
    "# If using CUDA, set the seed for GPU as well (if applicable)\n",
    "if torch.cuda.is_available():\n",
    "    torch.cuda.manual_seed_all(seed_value)\n"
   ],
   "id": "6b8e1153f8ca7340",
   "outputs": [],
   "execution_count": 35
  },
  {
   "metadata": {
    "ExecuteTime": {
     "end_time": "2024-10-14T06:37:38.902673Z",
     "start_time": "2024-10-14T06:37:38.900665Z"
    }
   },
   "cell_type": "code",
   "source": [
    "import warnings\n",
    "from sklearn.exceptions import UndefinedMetricWarning\n",
    "\n",
    "warnings.filterwarnings(\"ignore\", category=RuntimeWarning)\n",
    "warnings.filterwarnings(\"ignore\", category=UndefinedMetricWarning)"
   ],
   "id": "590e5508bccbb47b",
   "outputs": [],
   "execution_count": 36
  },
  {
   "metadata": {},
   "cell_type": "markdown",
   "source": "## Data Preparation",
   "id": "9d7ae223d9dfa27d"
  },
  {
   "metadata": {
    "ExecuteTime": {
     "end_time": "2024-10-14T06:37:38.949063Z",
     "start_time": "2024-10-14T06:37:38.945674Z"
    }
   },
   "cell_type": "code",
   "source": [
    "import numpy as np\n",
    "import torch\n",
    "from torchvision import datasets\n",
    "from torchvision.transforms import ToTensor\n",
    "\n",
    "class DatasetGenerator:\n",
    "    def __init__(self, mnist_data, n_bags=1000, min_instances=3, max_instances=5):\n",
    "        self.mnist_data = mnist_data\n",
    "        self.n_bags = n_bags\n",
    "        self.min_instances = min_instances\n",
    "        self.max_instances = max_instances\n",
    "        self.empty_image = torch.zeros(1, 28, 28)  # Create an empty image tensor (1x28x28)\n",
    "\n",
    "    def create_bags(self):\n",
    "        bags = []\n",
    "        labels = []\n",
    "        \n",
    "        for _ in range(self.n_bags):\n",
    "            # Randomly choose a number of instances for the bag\n",
    "            n_instances = np.random.randint(self.min_instances, self.max_instances + 1)\n",
    "            \n",
    "            # Randomly select instances from the dataset\n",
    "            bag_indices = np.random.choice(len(self.mnist_data), n_instances, replace=False)\n",
    "            bag_images = [self.mnist_data[i][0] for i in bag_indices]\n",
    "            \n",
    "            # Determine the label: 1 if any instance is '9', else 0\n",
    "            label = 1 if any(self.mnist_data[i][1] == 9 for i in bag_indices) else 0\n",
    "            \n",
    "            # Convert images to tensors and pad to ensure exactly 7 instances\n",
    "            bag_images_tensors = [ToTensor()(img) for img in bag_images]\n",
    "            while len(bag_images_tensors) < 7:\n",
    "                bag_images_tensors.append(self.empty_image)  # Pad with empty image\n",
    "            \n",
    "            bags.append(torch.stack(bag_images_tensors))\n",
    "            labels.append(label)\n",
    "\n",
    "        return bags, labels\n",
    "\n",
    "class TrainDatasetGenerator(DatasetGenerator):\n",
    "    def __init__(self, mnist_data, n_bags=1000):\n",
    "        super().__init__(mnist_data, n_bags)\n",
    "\n",
    "class TestDatasetGenerator(DatasetGenerator):\n",
    "    def __init__(self, mnist_data, n_bags=500):  # Example: fewer bags for testing\n",
    "        super().__init__(mnist_data, n_bags)"
   ],
   "id": "b0c74e22e200f87c",
   "outputs": [],
   "execution_count": 37
  },
  {
   "metadata": {
    "ExecuteTime": {
     "end_time": "2024-10-14T06:37:39.911358Z",
     "start_time": "2024-10-14T06:37:38.992092Z"
    }
   },
   "cell_type": "code",
   "source": [
    "# Load MNIST dataset\n",
    "mnist_dataset = datasets.MNIST(root='./data', train=True, download=True)\n",
    "\n",
    "# Create training dataset generator and generate bags\n",
    "train_generator = TrainDatasetGenerator(mnist_dataset)\n",
    "train_bags, train_labels = train_generator.create_bags()\n",
    "train_loader = DataLoader(list(zip(train_bags, train_labels)), batch_size=32, shuffle=True)\n",
    "\n",
    "# Create test dataset generator and generate bags\n",
    "test_generator = TestDatasetGenerator(mnist_dataset)\n",
    "test_bags, test_labels = test_generator.create_bags()\n",
    "# Create DataLoader for testing\n",
    "test_loader = DataLoader(list(zip(test_bags, test_labels)), batch_size=16, shuffle=True)"
   ],
   "id": "a04b09c68297d96f",
   "outputs": [],
   "execution_count": 38
  },
  {
   "metadata": {},
   "cell_type": "markdown",
   "source": "## Attention Layer",
   "id": "222827e790c53375"
  },
  {
   "metadata": {
    "ExecuteTime": {
     "end_time": "2024-10-14T06:37:39.921398Z",
     "start_time": "2024-10-14T06:37:39.919392Z"
    }
   },
   "cell_type": "code",
   "source": [
    "# class SelfAttention(nn.Module):\n",
    "#     def __init__(self, input_dim):\n",
    "#         super(SelfAttention, self).__init__()\n",
    "#         self.input_dim = input_dim\n",
    "#         self.query = nn.Linear(input_dim, input_dim)\n",
    "#         self.key = nn.Linear(input_dim, input_dim)\n",
    "#         self.value = nn.Linear(input_dim, input_dim)\n",
    "#         self.softmax = nn.Softmax(dim=2)\n",
    "# \n",
    "#     def forward(self, x):  # x.shape (batch_size, seq_length, input_dim)\n",
    "#         queries = self.query(x)\n",
    "#         keys = self.key(x)\n",
    "#         values = self.value(x)\n",
    "# \n",
    "#         score = torch.bmm(queries, keys.transpose(1, 2)) / (self.input_dim ** 0.5)\n",
    "#         attention = self.softmax(score)\n",
    "#         weighted = torch.bmm(attention, values)\n",
    "#         return weighted, attention\n",
    "\n",
    "class AttentionLayer(nn.Module):\n",
    "    def __init__(self, input_dim, hidden_dim=512):\n",
    "        super(AttentionLayer, self).__init__()\n",
    "        self.attention = nn.Sequential(\n",
    "            nn.Linear(input_dim, hidden_dim),\n",
    "            # nn.Tanh(),\n",
    "            # nn.ReLU(),\n",
    "            nn.PReLU(),\n",
    "            nn.Linear(hidden_dim, 1)\n",
    "        )\n",
    "\n",
    "    def forward(self, x):\n",
    "        # x shape: (batch_size, num_instances, feature_dim)\n",
    "        attention_weights = self.attention(x)\n",
    "        weights = F.softmax(attention_weights, dim=1)\n",
    "\n",
    "        return (x * weights).sum(dim=1), weights.squeeze(-1)"
   ],
   "id": "a0c5dbb8cfefc24c",
   "outputs": [],
   "execution_count": 39
  },
  {
   "metadata": {},
   "cell_type": "markdown",
   "source": "## MIL-CNN Model",
   "id": "f63c6e77d47a7914"
  },
  {
   "metadata": {
    "ExecuteTime": {
     "end_time": "2024-10-14T06:37:39.962483Z",
     "start_time": "2024-10-14T06:37:39.960695Z"
    }
   },
   "cell_type": "code",
   "source": [
    "# class MILResNet18(nn.Module):\n",
    "#     def __init__(self):\n",
    "#         super(MILResNet18, self).__init__()\n",
    "#         self.resnet = models.resnet18(weights=models.ResNet18_Weights.DEFAULT)\n",
    "#         # Modify the first convolutional layer to accept grayscale images\n",
    "#         # Change in_channels from 3 to 1\n",
    "#         self.resnet.conv1 = nn.Conv2d(1, 64, kernel_size=(7, 7), stride=(2, 2), padding=(3, 3), bias=False)\n",
    "#         self.resnet.fc = nn.Identity()  # Remove the final classification layer\n",
    "#         # self.resnet.maxpool = nn.AdaptiveAvgPool2d((1, 1))  # Replace max pooling with average pooling\n",
    "#         self.attention = AttentionLayer(input_dim=512)  # Assuming output dim from ResNet is 512\n",
    "#         self.classifier = nn.Linear(512, 1)  # Binary classification\n",
    "#         self.dropout = nn.Dropout(0.4)\n",
    "#       \n",
    "#     def forward(self, bags):\n",
    "#         # bags.shape: (batch_size, num_instances, channels, height, width)\n",
    "#         batch_size, num_instances = bags.size(0), bags.size(1)\n",
    "#         \n",
    "#         # Flatten to (batch_size * num_instances, channels, height, width)\n",
    "#         bags_flattened = bags.view(-1, *bags.shape[2:])\n",
    "#         \n",
    "#         # Get features from ResNet\n",
    "#         features = self.resnet(bags_flattened)  # Shape: (batch_size * num_instances, 512)\n",
    "# \n",
    "#         # Reshape back to (batch_size, num_instances, 512)\n",
    "#         features = features.view(batch_size, num_instances, -1)\n",
    "# \n",
    "#         # Apply attention mechanism\n",
    "#         attended_features, attended_weights = self.attention(features)\n",
    "# \n",
    "#         # Aggregate features (e.g., mean pooling)\n",
    "#         # aggregated_features = attended_features.mean(dim=1)  # Shape: (batch_size, 512)\n",
    "#         \n",
    "#         # dropped_features = self.dropout(aggregated_features)\n",
    "#         dropped_features = self.dropout(attended_features)\n",
    "#         # Classify bag\n",
    "#         outputs = torch.sigmoid(self.classifier(dropped_features))\n",
    "#         \n",
    "#         return outputs, attended_weights"
   ],
   "id": "eeb49b1fb73f9119",
   "outputs": [],
   "execution_count": 40
  },
  {
   "metadata": {},
   "cell_type": "markdown",
   "source": "## Gaussian Process Layer",
   "id": "184e116b03eebef0"
  },
  {
   "metadata": {
    "ExecuteTime": {
     "end_time": "2024-10-14T06:37:40.013833Z",
     "start_time": "2024-10-14T06:37:40.007340Z"
    }
   },
   "cell_type": "code",
   "source": [
    "import GPy\n",
    "import numpy as np\n",
    "\n",
    "class GaussianProcessModel:\n",
    "    def __init__(self, input_dim):\n",
    "        # Khởi tạo Gaussian Process với kernel RBF\n",
    "        self.model = GPy.models.GPRegression(np.zeros((1, input_dim)), np.zeros((1, 1)), kernel=GPy.kern.RBF(input_dim))\n",
    "\n",
    "    def fit(self, X, y):\n",
    "        # Debug: In kích thước của X và y\n",
    "        # print(\"Fitting GPR model...\")\n",
    "        # print(\"Input features shape:\", X.shape)\n",
    "        # print(\"Target labels shape:\", y.shape)\n",
    "\n",
    "        # Đảm bảo y có kích thước đúng\n",
    "        if len(y.shape) == 1:\n",
    "            y = y.reshape(-1, 1)  # Chuyển đổi thành (n_samples, 1)\n",
    "\n",
    "        # Huấn luyện mô hình GPR\n",
    "        self.model.set_XY(X, y)\n",
    "        self.model.optimize()\n",
    "\n",
    "\n",
    "    def predict(self, X):\n",
    "        # Dự đoán với mô hình GPR\n",
    "        # print(\"Predicting with GPR model...\")\n",
    "        # print(\"Input features for prediction shape:\", X.shape)\n",
    "        return self.model.predict(X)"
   ],
   "id": "9dabe64878aa072e",
   "outputs": [],
   "execution_count": 41
  },
  {
   "metadata": {
    "ExecuteTime": {
     "end_time": "2024-10-14T06:37:40.071564Z",
     "start_time": "2024-10-14T06:37:40.059213Z"
    }
   },
   "cell_type": "code",
   "source": [
    "class MILResNet18(nn.Module):\n",
    "    def __init__(self):\n",
    "        super(MILResNet18, self).__init__()\n",
    "        self.resnet = models.resnet18(weights=models.ResNet18_Weights.DEFAULT)\n",
    "        self.resnet.conv1 = nn.Conv2d(1, 64, kernel_size=(7, 7), stride=(2, 2), padding=(3, 3), bias=False)\n",
    "\n",
    "        self.resnet.fc = nn.Identity()\n",
    "        self.attention = AttentionLayer(input_dim=512)\n",
    "        self.classifier = nn.Linear(512, 1)\n",
    "        self.dropout = nn.Dropout(0.25)\n",
    "        \n",
    "        # Khởi tạo mô hình Gaussian Process\n",
    "        self.gpr_model = GaussianProcessModel(input_dim=128)\n",
    "\n",
    "    def forward(self, bags):\n",
    "        batch_size, num_instances = bags.size(0), bags.size(1)\n",
    "        bags_flattened = bags.view(-1, *bags.shape[2:])\n",
    "        \n",
    "        features = self.resnet(bags_flattened)\n",
    "        features = features.view(batch_size, num_instances, -1)\n",
    "\n",
    "        attended_features, attended_weights = self.attention(features)\n",
    "\n",
    "        # Huấn luyện GPR với attended_features và nhãn tương ứng\n",
    "        if hasattr(self, 'gpr_labels'):\n",
    "            if attended_features.shape[0] == self.gpr_labels.shape[0]:\n",
    "                # Chuyển đổi attended_features thành numpy array\n",
    "                self.gpr_model.fit(attended_features.detach().cpu().numpy(), self.gpr_labels.cpu().numpy())\n",
    "            else:\n",
    "                print(f\"Shape mismatch: {attended_features.shape[0]} vs {self.gpr_labels.shape[0]}\")\n",
    "\n",
    "        outputs = torch.sigmoid(self.classifier(attended_features))\n",
    "        \n",
    "        return outputs, attended_weights, attended_features\n",
    "\n",
    "    def set_gpr_labels(self, labels):\n",
    "        # Phương thức để thiết lập nhãn cho GPR\n",
    "        self.gpr_labels = labels.view(-1, 1).float()"
   ],
   "id": "c071f580a946929",
   "outputs": [],
   "execution_count": 42
  },
  {
   "metadata": {},
   "cell_type": "markdown",
   "source": "## Training Process",
   "id": "1e9c93e0734c3f8e"
  },
  {
   "metadata": {
    "ExecuteTime": {
     "end_time": "2024-10-14T06:37:54.393838Z",
     "start_time": "2024-10-14T06:37:40.114635Z"
    }
   },
   "cell_type": "code",
   "source": [
    "def train(model, dataloader, epochs=20):\n",
    "    optimizer = torch.optim.Adam(model.parameters(), lr=0.001)\n",
    "    criterion = nn.BCELoss()\n",
    "    \n",
    "    model.train()\n",
    "    \n",
    "    for epoch in range(epochs):\n",
    "        all_labels = []\n",
    "        all_outputs = []\n",
    "        total_loss = 0\n",
    "        \n",
    "        for batch_images, batch_labels in dataloader:\n",
    "            model.set_gpr_labels(batch_labels)  # Set labels for Gaussian Process\n",
    "            batch_images = batch_images.to(device)\n",
    "            batch_labels = batch_labels.to(device)\n",
    "            optimizer.zero_grad()\n",
    "    \n",
    "            # Forward pass\n",
    "            outputs, attended_weights, attended_features = model(batch_images.float())\n",
    "            loss = criterion(outputs.squeeze(), batch_labels.float())\n",
    "            total_loss += loss.item()\n",
    "            \n",
    "            # Backward pass\n",
    "            loss.backward()\n",
    "            optimizer.step()\n",
    "\n",
    "            # Collect outputs and labels for metrics calculation\n",
    "            all_labels.extend(batch_labels.cpu().numpy())\n",
    "            all_outputs.extend((outputs.squeeze().cpu().detach().numpy() > 0.5).astype(int))  # Binarize outputs\n",
    "            \n",
    "            # Huấn luyện Gaussian Process với attended features và nhãn\n",
    "            # attended_features = attended_weights.detach().cpu().numpy()  # Hoặc sử dụng attended_features nếu cần\n",
    "            model.gpr_model.fit(attended_features.detach().cpu().numpy(), batch_labels.cpu().numpy())\n",
    "\n",
    "        # Calculate metrics\n",
    "        avg_loss = total_loss / len(dataloader)\n",
    "        accuracy = accuracy_score(all_labels, all_outputs)\n",
    "        precision = precision_score(all_labels, all_outputs)\n",
    "        f1 = f1_score(all_labels, all_outputs)\n",
    "\n",
    "        print(f'Epoch [{epoch+1}/{epochs}], Loss: {avg_loss:.4f}, '\n",
    "              f'Accuracy: {accuracy:.4f}, Precision: {precision:.4f}, F1 Score: {f1:.4f}')\n",
    "\n",
    "\n",
    "device = torch.device('cuda' if torch.cuda.is_available() else 'cpu')\n",
    "model = MILResNet18()\n",
    "model.to(device)\n",
    "\n",
    "train(model, train_loader)"
   ],
   "id": "48899664dd45f891",
   "outputs": [
    {
     "name": "stdout",
     "output_type": "stream",
     "text": [
      "Epoch [1/20], Loss: 0.5799, Accuracy: 0.7500, Precision: 0.6575, F1 Score: 0.4877\n",
      "Epoch [2/20], Loss: 0.3004, Accuracy: 0.8910, Precision: 0.8214, F1 Score: 0.8228\n",
      "Epoch [3/20], Loss: 0.1997, Accuracy: 0.9300, Precision: 0.9100, F1 Score: 0.8826\n",
      "Epoch [4/20], Loss: 0.1195, Accuracy: 0.9610, Precision: 0.9467, F1 Score: 0.9357\n",
      "Epoch [5/20], Loss: 0.0848, Accuracy: 0.9740, Precision: 0.9668, F1 Score: 0.9572\n",
      "Epoch [6/20], Loss: 0.0663, Accuracy: 0.9780, Precision: 0.9582, F1 Score: 0.9644\n",
      "Epoch [7/20], Loss: 0.0690, Accuracy: 0.9800, Precision: 0.9644, F1 Score: 0.9675\n",
      "Epoch [8/20], Loss: 0.0646, Accuracy: 0.9770, Precision: 0.9702, F1 Score: 0.9622\n",
      "Epoch [9/20], Loss: 0.0618, Accuracy: 0.9850, Precision: 0.9740, F1 Score: 0.9756\n",
      "Epoch [10/20], Loss: 0.0474, Accuracy: 0.9880, Precision: 0.9836, F1 Score: 0.9804\n",
      "Epoch [11/20], Loss: 0.0390, Accuracy: 0.9900, Precision: 0.9901, F1 Score: 0.9836\n",
      "Epoch [12/20], Loss: 0.0348, Accuracy: 0.9880, Precision: 0.9836, F1 Score: 0.9804\n",
      "Epoch [13/20], Loss: 0.0659, Accuracy: 0.9780, Precision: 0.9734, F1 Score: 0.9638\n",
      "Epoch [14/20], Loss: 0.0621, Accuracy: 0.9840, Precision: 0.9770, F1 Score: 0.9739\n",
      "Epoch [15/20], Loss: 0.0308, Accuracy: 0.9890, Precision: 0.9837, F1 Score: 0.9821\n",
      "Epoch [16/20], Loss: 0.0236, Accuracy: 0.9950, Precision: 0.9935, F1 Score: 0.9918\n",
      "Epoch [17/20], Loss: 0.0183, Accuracy: 0.9960, Precision: 1.0000, F1 Score: 0.9934\n",
      "Epoch [18/20], Loss: 0.0686, Accuracy: 0.9830, Precision: 0.9770, F1 Score: 0.9722\n",
      "Epoch [19/20], Loss: 0.0396, Accuracy: 0.9930, Precision: 0.9934, F1 Score: 0.9885\n",
      "Epoch [20/20], Loss: 0.0160, Accuracy: 0.9970, Precision: 0.9967, F1 Score: 0.9951\n"
     ]
    }
   ],
   "execution_count": 43
  },
  {
   "metadata": {},
   "cell_type": "markdown",
   "source": "## Testing Process",
   "id": "cd71439a580ec535"
  },
  {
   "metadata": {
    "ExecuteTime": {
     "end_time": "2024-10-14T06:38:08.414500Z",
     "start_time": "2024-10-14T06:38:08.182142Z"
    }
   },
   "cell_type": "code",
   "source": [
    "def test(model, dataloader):\n",
    "    model.eval()\n",
    "    all_labels = []\n",
    "    all_outputs = []\n",
    "    all_attended_weights = []  # Store attended weights for visualization\n",
    "    images_to_plot = []  # Store images with label = 1\n",
    "    weights_to_plot = []  # Store attended weights for images with label = 1\n",
    "\n",
    "    with torch.no_grad():\n",
    "        for batch_images, batch_labels in dataloader:\n",
    "            batch_images = batch_images.to(device)\n",
    "            batch_labels = batch_labels.to(device)\n",
    "\n",
    "            # Forward pass\n",
    "            outputs, attended_weights, _ = model(batch_images.float())\n",
    "\n",
    "            # Collect outputs and labels for metrics calculation\n",
    "            all_labels.extend(batch_labels.cpu().numpy())\n",
    "            all_outputs.extend((outputs.squeeze().cpu().detach().numpy() > 0.5).astype(int))  # Binarize outputs\n",
    "\n",
    "            # Check for images with label = 1\n",
    "            for i in range(len(batch_labels)):\n",
    "                if batch_labels[i] == 1:\n",
    "                    images_to_plot.append(batch_images[i].cpu().numpy())\n",
    "                    weights_to_plot.append(attended_weights[i].squeeze().cpu().numpy())\n",
    "\n",
    "    # Calculate metrics\n",
    "    accuracy = accuracy_score(all_labels, all_outputs)\n",
    "    precision = precision_score(all_labels, all_outputs)\n",
    "    f1 = f1_score(all_labels, all_outputs)\n",
    "\n",
    "    print(f'Test Accuracy: {accuracy:.4f}, Precision: {precision:.4f}, F1 Score: {f1:.4f}')\n",
    "\n",
    "    # Plotting attended weights for images with label = 1\n",
    "    if images_to_plot:  # Check if there are any images to plot\n",
    "        plot_attended_weights(np.array(images_to_plot), np.array(weights_to_plot))\n",
    "\n",
    "def plot_attended_weights(images, attended_weights):\n",
    "    \"\"\"\n",
    "    Plots the original images and their corresponding attended weights in a single figure.\n",
    "\n",
    "    Args:\n",
    "        images (numpy array): A batch of input image arrays.\n",
    "        attended_weights (numpy array): The attended weights corresponding to the images.\n",
    "    \"\"\"\n",
    "    images = images[0]\n",
    "    attended_weights = attended_weights[0]\n",
    "    num_images = images.shape[0]  # Number of images to plot\n",
    "\n",
    "    # Create subplots\n",
    "    fig, axes = plt.subplots(1, num_images, figsize=(num_images * 4, 8))\n",
    "\n",
    "    for i in range(num_images):\n",
    "        # Display the input image\n",
    "        axes[i].imshow(images[i].transpose(1, 2, 0))  # Change from CHW to HWC format\n",
    "        axes[i].set_title(f'Image {i + 1} - {attended_weights[i]:.4f}')\n",
    "        axes[i].axis('off')\n",
    "        \n",
    "        # Plot attention weights as a bar chart\n",
    "        # axes[1, i].bar(range(attended_weights.shape[1]), attended_weights[i], color='orange', alpha=0.7)\n",
    "        # axes[1, i].set_ylim(0, 1)  # Assuming weights are normalized between 0 and 1\n",
    "        # axes[1, i].set_ylabel('Attention Weight')\n",
    "        # axes[1, i].set_xlabel('Feature Index')\n",
    "\n",
    "    plt.tight_layout()\n",
    "    plt.show()\n",
    "    \n",
    "# Call the test function with your model and test loader\n",
    "test(model, test_loader)"
   ],
   "id": "4f04580fad06751e",
   "outputs": [
    {
     "name": "stdout",
     "output_type": "stream",
     "text": [
      "Shape mismatch: 16 vs 8\n",
      "Shape mismatch: 16 vs 8\n",
      "Shape mismatch: 16 vs 8\n",
      "Shape mismatch: 16 vs 8\n",
      "Shape mismatch: 16 vs 8\n",
      "Shape mismatch: 16 vs 8\n",
      "Shape mismatch: 16 vs 8\n",
      "Shape mismatch: 16 vs 8\n",
      "Shape mismatch: 16 vs 8\n",
      "Shape mismatch: 16 vs 8\n",
      "Shape mismatch: 16 vs 8\n",
      "Shape mismatch: 16 vs 8\n",
      "Shape mismatch: 16 vs 8\n",
      "Shape mismatch: 16 vs 8\n",
      "Shape mismatch: 16 vs 8\n",
      "Shape mismatch: 16 vs 8\n",
      "Shape mismatch: 16 vs 8\n",
      "Shape mismatch: 16 vs 8\n",
      "Shape mismatch: 16 vs 8\n",
      "Shape mismatch: 16 vs 8\n",
      "Shape mismatch: 16 vs 8\n",
      "Shape mismatch: 16 vs 8\n",
      "Shape mismatch: 16 vs 8\n",
      "Shape mismatch: 16 vs 8\n",
      "Shape mismatch: 16 vs 8\n",
      "Shape mismatch: 16 vs 8\n",
      "Shape mismatch: 16 vs 8\n",
      "Shape mismatch: 16 vs 8\n",
      "Shape mismatch: 16 vs 8\n",
      "Shape mismatch: 16 vs 8\n",
      "Shape mismatch: 16 vs 8\n",
      "Shape mismatch: 4 vs 8\n",
      "Test Accuracy: 0.9720, Precision: 0.9825, F1 Score: 0.9600\n"
     ]
    },
    {
     "data": {
      "text/plain": [
       "<Figure size 2800x800 with 7 Axes>"
      ],
      "image/png": "[encoded data removed]"
     },
     "metadata": {},
     "output_type": "display_data"
    }
   ],
   "execution_count": 45
  },
  {
   "metadata": {},
   "cell_type": "markdown",
   "source": [
    "## References:\n",
    "[1] https://medium.com/@wangdk93/implement-self-attention-and-cross-attention-in-pytorch-1f1a366c9d4b"
   ],
   "id": "77de1738b73d62c5"
  }
 ],
 "metadata": {
  "kernelspec": {
   "display_name": "Python 3",
   "language": "python",
   "name": "python3"
  },
  "language_info": {
   "codemirror_mode": {
    "name": "ipython",
    "version": 2
   },
   "file_extension": ".py",
   "mimetype": "text/x-python",
   "name": "python",
   "nbconvert_exporter": "python",
   "pygments_lexer": "ipython2",
   "version": "2.7.6"
  }
 },
 "nbformat": 4,
 "nbformat_minor": 5
}
