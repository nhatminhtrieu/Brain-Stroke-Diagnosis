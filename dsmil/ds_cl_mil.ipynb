{
 "cells": [
  {
   "metadata": {},
   "cell_type": "markdown",
   "source": "# Import Libraries",
   "id": "d675e2349b26c09f"
  },
  {
   "cell_type": "code",
   "id": "initial_id",
   "metadata": {
    "collapsed": true,
    "ExecuteTime": {
     "end_time": "2024-12-18T17:48:28.608410Z",
     "start_time": "2024-12-18T17:48:27.541655Z"
    }
   },
   "source": [
    "import torch\n",
    "import torch.nn as nn\n",
    "import torch.nn.functional as F\n",
    "from torchvision.transforms import v2 as transforms\n",
    "import torchvision.datasets as datasets\n",
    "import torchvision.models as models\n",
    "from torch.utils.data import DataLoader, Dataset\n",
    "from sklearn.model_selection import train_test_split"
   ],
   "outputs": [],
   "execution_count": 1
  },
  {
   "metadata": {
    "ExecuteTime": {
     "end_time": "2024-12-18T17:48:28.613937Z",
     "start_time": "2024-12-18T17:48:28.611236Z"
    }
   },
   "cell_type": "code",
   "source": [
    "import random\n",
    "import os\n",
    "import numpy as np\n",
    "\n",
    "def seed_everything(seed=42):\n",
    "    random.seed(seed)\n",
    "    os.environ['PYTHONHASHSEED'] = str(seed)\n",
    "    np.random.seed(seed)\n",
    "    torch.manual_seed(seed)\n",
    "    torch.cuda.manual_seed(seed)\n",
    "    torch.cuda.manual_seed_all(seed)\n",
    "    torch.backends.cudnn.deterministic = True\n",
    "    torch.backends.cudnn.benchmark = False\n",
    "\n",
    "seed_everything()"
   ],
   "id": "f73f8125e33cf5c8",
   "outputs": [],
   "execution_count": 2
  },
  {
   "metadata": {},
   "cell_type": "markdown",
   "source": "# Data Preparation",
   "id": "672bbbd8209f388f"
  },
  {
   "metadata": {
    "ExecuteTime": {
     "end_time": "2024-12-18T17:48:30.480585Z",
     "start_time": "2024-12-18T17:48:28.659690Z"
    }
   },
   "cell_type": "code",
   "source": [
    "# Load and preprocess the MNIST dataset\n",
    "transform = transforms.Compose([\n",
    "    transforms.ToTensor(),\n",
    "    # transforms.Normalize((0.1307,), (0.3081,))\n",
    "])\n",
    "\n",
    "mnist_data = datasets.MNIST(root='./data', train=True, download=True, transform=transform)\n",
    "train_data, eval_data = train_test_split(mnist_data, train_size=0.1, random_state=42, stratify=mnist_data.targets)\n",
    "\n",
    "# Bag-level dataset\n",
    "class BagDataset(Dataset):\n",
    "    def __init__(self, data, bag_size=8):\n",
    "        self.data = data\n",
    "        self.bag_size = bag_size\n",
    "\n",
    "    def __len__(self):\n",
    "        return len(self.data) // self.bag_size\n",
    "\n",
    "    def __getitem__(self, idx):\n",
    "        images, labels = [], []\n",
    "        for i in range(self.bag_size):\n",
    "            img, label = self.data[idx * self.bag_size + i]\n",
    "            images.append(img)\n",
    "            labels.append(label)\n",
    "        bag_label = 1 if 9 in labels else 0\n",
    "        return torch.stack(images), torch.tensor(bag_label)\n",
    "\n",
    "train_dataset = BagDataset(train_data)\n",
    "eval_dataset = BagDataset(eval_data)\n",
    "train_loader = DataLoader(train_dataset, batch_size=64, shuffle=True, pin_memory=True, num_workers=4, drop_last=True)\n",
    "eval_loader = DataLoader(eval_dataset, batch_size=4, shuffle=False, pin_memory=True, num_workers=4, drop_last=True)"
   ],
   "id": "bad48fa375531d1",
   "outputs": [
    {
     "name": "stderr",
     "output_type": "stream",
     "text": [
      "/home/hskha23/miniconda3/envs/tf/lib/python3.10/site-packages/torchvision/transforms/v2/_deprecated.py:42: UserWarning: The transform `ToTensor()` is deprecated and will be removed in a future release. Instead, please use `v2.Compose([v2.ToImage(), v2.ToDtype(torch.float32, scale=True)])`.Output is equivalent up to float precision.\n",
      "  warnings.warn(\n"
     ]
    }
   ],
   "execution_count": 3
  },
  {
   "metadata": {},
   "cell_type": "markdown",
   "source": "# Model Definition",
   "id": "4ad3fd07b10aa85b"
  },
  {
   "metadata": {},
   "cell_type": "markdown",
   "source": "## NTXentLoss",
   "id": "20bbdf04d7172c16"
  },
  {
   "metadata": {
    "ExecuteTime": {
     "end_time": "2024-12-18T17:48:30.498603Z",
     "start_time": "2024-12-18T17:48:30.491681Z"
    }
   },
   "cell_type": "code",
   "source": [
    "# # Define NTXentLoss (provided by you)\n",
    "# class NTXentLoss(nn.Module):\n",
    "#     def __init__(self, temperature=0.5):\n",
    "#         super(NTXentLoss, self).__init__()\n",
    "#         self.temperature = temperature\n",
    "#\n",
    "#     def forward(self, z_i, z_j):\n",
    "#         batch_size = z_i.size(0)\n",
    "#         z = torch.cat([z_i, z_j], dim=0)\n",
    "#         z = F.normalize(z, dim=1)\n",
    "#         similarity_matrix = torch.mm(z, z.T) / self.temperature\n",
    "#         mask = torch.eye(2 * batch_size, device=z.device).bool()\n",
    "#         similarity_matrix.masked_fill_(mask, -float('inf'))\n",
    "#         exp_sim = torch.exp(similarity_matrix)\n",
    "#         denominator = exp_sim.sum(dim=1)\n",
    "#         positive_samples = torch.cat(\n",
    "#             [torch.arange(batch_size, 2 * batch_size), torch.arange(batch_size)], dim=0\n",
    "#         ).to(z.device)\n",
    "#         positives = similarity_matrix[torch.arange(2 * batch_size), positive_samples]\n",
    "#         loss = -torch.log(torch.exp(positives) / denominator)\n",
    "#         return loss.mean()\n",
    "\n",
    "from pytorch_metric_learning import losses\n",
    "import torch.nn.functional as F\n",
    "\n",
    "class NTXentLoss(losses.NTXentLoss):\n",
    "    def __init__(self, temperature, **kwargs):\n",
    "        super().__init__(temperature=temperature, **kwargs)\n",
    "        self.temperature = temperature\n",
    "\n",
    "    def forward(self, embeddings1, embeddings2, labels=None):\n",
    "        # Concatenate the embeddings\n",
    "        embeddings = torch.cat([embeddings1, embeddings2], dim=0)\n",
    "        # Normalize feature vectors\n",
    "        feature_vectors_normalized = F.normalize(embeddings, p=2, dim=1)\n",
    "\n",
    "        if labels == None:\n",
    "            # Self-supervised labels\n",
    "            labels = torch.arange(feature_vectors_normalized.size(0))\n",
    "        else:\n",
    "            # Supervised labels\n",
    "            labels = torch.cat([labels, labels], dim=0)\n",
    "\n",
    "        # Compute logits\n",
    "        logits = torch.div(\n",
    "            torch.matmul(\n",
    "                feature_vectors_normalized, torch.transpose(feature_vectors_normalized, 0, 1)\n",
    "            ),\n",
    "            self.temperature,\n",
    "        )\n",
    "        if labels == None:\n",
    "            return losses.NTXentLoss(temperature=self.temperature)(logits, torch.squeeze(labels))\n",
    "        return losses.SupConLoss(temperature=self.temperature)(logits, torch.squeeze(labels))\n",
    "# NT-Xent loss\n",
    "# criterion = NTXentLoss(0.5)"
   ],
   "id": "dbd03f603a2a8209",
   "outputs": [],
   "execution_count": 4
  },
  {
   "metadata": {},
   "cell_type": "markdown",
   "source": "## Dual-Stream MIL Model (DSMIL)",
   "id": "7bda39b2525a9499"
  },
  {
   "metadata": {
    "ExecuteTime": {
     "end_time": "2024-12-18T17:48:30.535539Z",
     "start_time": "2024-12-18T17:48:30.527874Z"
    }
   },
   "cell_type": "code",
   "source": [
    "class FCLayer(nn.Module):\n",
    "    def __init__(self, input_dim, output_dim=1):\n",
    "        super(FCLayer, self).__init__()\n",
    "        self.fc = nn.Sequential(nn.Linear(input_dim, output_dim))\n",
    "        \n",
    "    def forward(self, x):\n",
    "        return self.fc(x)\n",
    "    \n",
    "class InstanceClassifier(nn.Module):\n",
    "    def __init__(self, input_dim, output_dim=1):\n",
    "        super(InstanceClassifier, self).__init__()\n",
    "        self.features_extractor = models.resnet18(weights=models.ResNet18_Weights.DEFAULT)\n",
    "        self.features_extractor.conv1 = nn.Conv2d(1, 64, kernel_size=7, stride=2, padding=3, bias=False)\n",
    "        self.features_extractor.fc = nn.Identity()\n",
    "        \n",
    "        self.fc = nn.Linear(input_dim, output_dim)\n",
    "        \n",
    "    def forward(self, x):\n",
    "        batch_size, num_instances, C, H, W = x.shape\n",
    "        x = x.view(batch_size * num_instances, C, H, W)\n",
    "        \n",
    "        instance_features = nn.Dropout(0.25)(self.features_extractor(x)).view(batch_size, num_instances, -1)\n",
    "        classes = self.fc(instance_features)\n",
    "        \n",
    "        return instance_features, classes\n",
    "    \n",
    "class BagClassifier(nn.Module):\n",
    "    def __init__(self, input_dim, output_dim=1, hidden_dim=128, dropout_v=0.2, non_linear=True, passing_v=False):\n",
    "        super(BagClassifier, self).__init__()\n",
    "        self.hidden_dim = hidden_dim\n",
    "        \n",
    "        if non_linear:\n",
    "            self.q = nn.Sequential(\n",
    "                nn.Linear(input_dim, hidden_dim),\n",
    "                nn.ReLU(),\n",
    "                nn.Linear(hidden_dim, hidden_dim),\n",
    "                nn.Tanh()\n",
    "            )\n",
    "        else:\n",
    "            self.q = nn.Linear(input_dim, hidden_dim)\n",
    "        \n",
    "        if passing_v:\n",
    "            self.v = nn.Sequential(\n",
    "                nn.Dropout(dropout_v),\n",
    "                nn.Linear(input_dim, input_dim),\n",
    "                nn.ReLU()\n",
    "            )\n",
    "        else:\n",
    "            self.v = nn.Identity()\n",
    "            \n",
    "        self.fc = FCLayer(input_dim, output_dim)\n",
    "        \n",
    "    def forward(self, features, classes):\n",
    "        batch_size = features.size(0)\n",
    "        num_instances = features.size(1)\n",
    "        features_dim = features.size(2)\n",
    "        \n",
    "        combine_features = features.view(features.shape[0] * features.shape[1], -1)\n",
    "        V = self.v(combine_features)\n",
    "        Q = self.q(combine_features)\n",
    "        assert V.shape[0] == Q.shape[0] == batch_size * num_instances, f'V: {V.shape}, Q: {Q.shape}'\n",
    "        assert V.shape[1] == features_dim, f'V: {V.shape} should be [{batch_size * num_instances}, {features_dim}]'\n",
    "        assert Q.shape[1] == self.hidden_dim, f'Q: {Q.shape} should be [{batch_size * num_instances}, {self.hidden_dim}]'\n",
    "        \n",
    "        # Get critical instance indices by squeezing classes\n",
    "        critical_indices = torch.squeeze(classes).argmax(dim=1)  # Shape [32]\n",
    "        assert critical_indices.shape[0] == batch_size, f'Critical indices: {critical_indices.shape}'\n",
    "\n",
    "        # Gather features for each batch using critical instance indices\n",
    "        m_features = features[torch.arange(batch_size).unsqueeze(1), critical_indices.unsqueeze(1)].squeeze()\n",
    "        assert m_features.shape[0] == batch_size, f'M features: {m_features.shape} should be [{batch_size}, {features_dim}]'\n",
    "        q_max = self.q(m_features)\n",
    "        assert q_max.shape[0] == batch_size and q_max.shape[1] == self.hidden_dim, f'Q max: {q_max.shape} should be [{batch_size}, {self.hidden_dim}]'\n",
    "        \n",
    "        A = torch.mm(Q, q_max.mT)\n",
    "        A = F.softmax(A / torch.sqrt(torch.tensor(Q.shape[-1]).float()), dim=0)\n",
    "        assert A.shape[0] == batch_size * num_instances and A.shape[1] == batch_size, f'A: {A.shape} should be [{batch_size * num_instances}, {batch_size}]'\n",
    "        \n",
    "        B = torch.mm(A.T, V)\n",
    "        assert B.shape[0] == batch_size and B.shape[1] == features_dim, f'B: {B.shape} should be [{batch_size}, {features_dim}]'\n",
    "        \n",
    "        B = B.view(1, B.shape[0], B.shape[1])\n",
    "        C = self.fc(B)\n",
    "        C = C.view(1, -1)\n",
    "        \n",
    "        return C, A, B"
   ],
   "id": "cd5780327a678c64",
   "outputs": [],
   "execution_count": 5
  },
  {
   "metadata": {},
   "cell_type": "markdown",
   "source": "## Simple CNN",
   "id": "439b916347aeaace"
  },
  {
   "metadata": {
    "ExecuteTime": {
     "end_time": "2024-12-18T17:48:30.606534Z",
     "start_time": "2024-12-18T17:48:30.603355Z"
    }
   },
   "cell_type": "code",
   "source": [
    "class SimpleCNN(nn.Module):\n",
    "    def __init__(self):\n",
    "        super(SimpleCNN, self).__init__()\n",
    "        self.conv0 = nn.Conv2d(in_channels=1, out_channels=16, kernel_size=(5, 5))\n",
    "        self.pool = nn.MaxPool2d(kernel_size=(2, 2))  # Max pooling layer\n",
    "        self.conv1 = nn.Conv2d(in_channels=16, out_channels=32, kernel_size=(3,3))\n",
    "\n",
    "        self.conv2 = nn.Conv2d(in_channels=32, out_channels=32, kernel_size=(3, 3))\n",
    "        self.conv_layers = nn.ModuleList([self.conv2 for _ in range(1)])\n",
    "        self.fc = nn.Linear(32, 1)\n",
    "        \n",
    "    def forward(self, bag):\n",
    "        batch_size, num_instances, c, h, w = bag.size()\n",
    "        bag = bag.view(batch_size * num_instances, c, h, w)\n",
    "        \n",
    "        # First convolutional layer\n",
    "        x = self.conv0(bag)\n",
    "        x = self.pool(x)\n",
    "        \n",
    "        # Second convolutional layer\n",
    "        x = self.conv1(x)\n",
    "        x = self.pool(x)\n",
    "        \n",
    "        for conv_layer in self.conv_layers:\n",
    "            x = conv_layer(x)\n",
    "            x = self.pool(x)\n",
    "        \n",
    "        # Flatten the output for the fully connected layer\n",
    "        x = x.view(batch_size, num_instances, -1) # From (batch_size * num_instances, 32, 5, 5) to (batch_size, num_instances, 32 * 5 * 5)\n",
    "        \n",
    "        classes = self.fc(x)\n",
    "        return x, classes"
   ],
   "id": "62c92cff83028bf8",
   "outputs": [],
   "execution_count": 6
  },
  {
   "metadata": {},
   "cell_type": "markdown",
   "source": "## Encoder Model",
   "id": "80b183f5701793a1"
  },
  {
   "metadata": {
    "ExecuteTime": {
     "end_time": "2024-12-18T17:48:30.673716Z",
     "start_time": "2024-12-18T17:48:30.670800Z"
    }
   },
   "cell_type": "code",
   "source": [
    "class Encoder(nn.Module):\n",
    "    def __init__(self, base_model, projection_dim=128, input_dim=512):\n",
    "        super(Encoder, self).__init__()\n",
    "        self.encoder = base_model\n",
    "        self.projection = nn.Sequential(\n",
    "            nn.Linear(input_dim, input_dim),\n",
    "            nn.ReLU(),\n",
    "            # nn.Linear(512, projection_dim)\n",
    "            nn.Linear(input_dim, input_dim),\n",
    "            nn.ReLU(),\n",
    "            nn.Linear(input_dim, projection_dim)\n",
    "        )\n",
    "        \n",
    "        self.instance_classifier = InstanceClassifier(input_dim)\n",
    "        self.simple_cnn = SimpleCNN()\n",
    "        self.bag_classifier = BagClassifier(input_dim)\n",
    "        \n",
    "    def forward(self, x):\n",
    "        batch_size, num_instances, channels, height, width = x.size()\n",
    "        \n",
    "        instances_features, classes = self.instance_classifier(x)\n",
    "        # instances_features, classes = self.simple_cnn(x)\n",
    "        \n",
    "        features = instances_features.view(batch_size * num_instances, -1)  # Flatten to (batch_size * num_instances, feature_dim)\n",
    "        \n",
    "        # projection_features = self.projection(features)\n",
    "        \n",
    "        predicted_bags, A, B = self.bag_classifier(instances_features, classes)\n",
    "        projection_features = self.projection(B.squeeze())\n",
    "        \n",
    "        return projection_features, classes, predicted_bags, A, B"
   ],
   "id": "70a7956091c803d9",
   "outputs": [],
   "execution_count": 7
  },
  {
   "metadata": {},
   "cell_type": "markdown",
   "source": "## Augmentation Function",
   "id": "5a2ce984e83bee14"
  },
  {
   "metadata": {
    "ExecuteTime": {
     "end_time": "2024-12-18T17:48:30.740362Z",
     "start_time": "2024-12-18T17:48:30.731974Z"
    }
   },
   "cell_type": "code",
   "source": [
    "# Version 2: Avg time taken: 0.8 seconds for 2 augmentations (w/o ResizedCrop)\n",
    "def augment_batch(batch_images):\n",
    "    batch_size, num_instances, channels, height, width = batch_images.shape\n",
    "\n",
    "    # Define augmentation transformations using GPU-compatible operations\n",
    "    aug_transform = transforms.Compose([\n",
    "        transforms.RandomResizedCrop(28, scale=(0.75, 1.2), ratio=(0.75, 4.0/3.0)),\n",
    "        transforms.RandomApply([transforms.ColorJitter(brightness=0.4, contrast=0.4, saturation=0.4, hue=0.4)], p=0.6),\n",
    "        transforms.RandomGrayscale(p=0.2),\n",
    "    ])\n",
    "\n",
    "    # Apply transformations directly on the tensor without converting to PIL\n",
    "    augmented_batch = torch.empty_like(batch_images)  # Preallocate memory for augmented images\n",
    "\n",
    "    for i in range(batch_size):\n",
    "        for j in range(num_instances):\n",
    "            augmented_batch[i, j] = aug_transform(batch_images[i, j])\n",
    "\n",
    "    return augmented_batch.cuda()  # Move the augmented batch to GPU"
   ],
   "id": "824abbbb6bcc0979",
   "outputs": [],
   "execution_count": 8
  },
  {
   "metadata": {},
   "cell_type": "markdown",
   "source": "## Augmentation with Multi-scale",
   "id": "e874bb3befc172c"
  },
  {
   "metadata": {
    "ExecuteTime": {
     "end_time": "2024-12-18T17:48:30.799078Z",
     "start_time": "2024-12-18T17:48:30.786966Z"
    }
   },
   "cell_type": "code",
   "source": [
    "import torch\n",
    "import torchvision.transforms as transforms\n",
    "\n",
    "def augment_func_v2(batch_images):\n",
    "    batch_size, num_instances, channels, height, width = batch_images.shape\n",
    "\n",
    "    # Define augmentation transformations using GPU-compatible operations\n",
    "    aug_transform = transforms.Compose([\n",
    "        transforms.RandomResizedCrop(28, scale=(0.75, 1.2), ratio=(0.75, 4.0/3.0)),\n",
    "        transforms.RandomApply([transforms.ColorJitter(brightness=0.4, contrast=0.4, saturation=0.4, hue=0.4)], p=0.6),\n",
    "        transforms.RandomGrayscale(p=0.2),\n",
    "    ])\n",
    "\n",
    "    # Preallocate memory for augmented images\n",
    "    augmented_batch = torch.empty((batch_size, num_instances * 4, channels, height, width), device=batch_images.device)\n",
    "\n",
    "    for i in range(batch_size):\n",
    "        for j in range(num_instances):\n",
    "            # Apply the initial transformations\n",
    "            augmented_image = aug_transform(batch_images[i, j])\n",
    "\n",
    "            # Scale the image up to 4 times its original size\n",
    "            scaled_image = torch.nn.functional.interpolate(augmented_image.unsqueeze(0), scale_factor=4, mode='bilinear', align_corners=False).squeeze(0)\n",
    "\n",
    "            # Split the scaled image into 4 parts (assuming it is now (112, 112))\n",
    "            split_images = [\n",
    "                scaled_image[:, :scaled_image.shape[1] // 2, :scaled_image.shape[2] // 2],  # Top-left\n",
    "                scaled_image[:, :scaled_image.shape[1] // 2, scaled_image.shape[2] // 2:],  # Top-right\n",
    "                scaled_image[:, scaled_image.shape[1] // 2:, :scaled_image.shape[2] // 2],  # Bottom-left\n",
    "                scaled_image[:, scaled_image.shape[1] // 2:, scaled_image.shape[2] // 2:]   # Bottom-right\n",
    "            ]\n",
    "\n",
    "            # Fill augmented_batch with split images\n",
    "            for k in range(4):\n",
    "                augmented_batch[i, j * 4 + k] = split_images[k]\n",
    "\n",
    "    return augmented_batch.cuda()  # Move the augmented batch to GPU"
   ],
   "id": "35659d7891e02e25",
   "outputs": [],
   "execution_count": 9
  },
  {
   "metadata": {},
   "cell_type": "markdown",
   "source": "# Model Initialization",
   "id": "862eff286e786bcf"
  },
  {
   "metadata": {
    "ExecuteTime": {
     "end_time": "2024-12-18T17:48:31.092258Z",
     "start_time": "2024-12-18T17:48:30.844472Z"
    }
   },
   "cell_type": "code",
   "source": [
    "# Initialize models, loss function, and optimizer\n",
    "base_model = models.resnet18(weights=None)\n",
    "base_model.conv1 = nn.Conv2d(1, 64, kernel_size=7, stride=2, padding=3, bias=False)\n",
    "base_model.fc = nn.Identity()\n",
    "encoder = Encoder(base_model).cuda()\n",
    "projection_dim = 256\n",
    "ntxent_loss = NTXentLoss(0.5).cuda()"
   ],
   "id": "aa34df87541f2986",
   "outputs": [],
   "execution_count": 10
  },
  {
   "metadata": {},
   "cell_type": "markdown",
   "source": "# Model Training & Evaluation",
   "id": "2fd8f0b3fc1bc9c5"
  },
  {
   "metadata": {
    "ExecuteTime": {
     "end_time": "2024-12-18T17:49:57.973473Z",
     "start_time": "2024-12-18T17:48:31.101805Z"
    }
   },
   "cell_type": "code",
   "source": [
    "# Training parameters\n",
    "epochs = 50\n",
    "learning_rate = 1e-3\n",
    "optimizer = torch.optim.Adam(encoder.parameters(), lr=learning_rate)\n",
    "bceLoss = nn.BCEWithLogitsLoss()\n",
    "\n",
    "correct_predictions = 0\n",
    "total_samples = 0\n",
    "# Training loop for contrastive learning\n",
    "for epoch in range(epochs):\n",
    "    encoder.train()\n",
    "    total_loss = 0\n",
    "    for images, labels in train_loader:\n",
    "        images = images.cuda()  # Move the batch to GPU\n",
    "        labels = labels.cuda()\n",
    "        \n",
    "        aug1 = augment_batch(images).cuda()\n",
    "        aug2 = augment_batch(images).cuda()\n",
    "        \n",
    "        z_i, outputs_1, predicted_bags_1, _, _ = encoder(aug1)\n",
    "        z_j, outputs_2, predicted_bags_2, _, _ = encoder(aug2)\n",
    "\n",
    "        NTXLoss = ntxent_loss(z_i, z_j, labels.float())\n",
    "        max_agg_1 = torch.max(outputs_1, dim=1).values.squeeze()\n",
    "        max_agg_2 = torch.max(outputs_2, dim=1).values.squeeze()\n",
    "\n",
    "        loss_max_1 = bceLoss(max_agg_1, labels.float())\n",
    "        loss_max_2 = bceLoss(max_agg_2, labels.float())\n",
    "        loss_bag_1 = bceLoss(predicted_bags_1.squeeze(), labels.float())\n",
    "        loss_bag_2 = bceLoss(predicted_bags_2.squeeze(), labels.float())\n",
    "\n",
    "        loss = 0.6 * NTXLoss + 0.1 * loss_max_1 + 0.1 * loss_max_2 + 0.1 * loss_bag_1 + 0.1 * loss_bag_2\n",
    "        # loss = 0.25 * loss_max_1 + 0.25 * loss_max_2 + 0.25 * loss_bag_1 + 0.25 * loss_bag_2\n",
    "        loss = loss.mean()\n",
    "\n",
    "        optimizer.zero_grad()\n",
    "        loss.backward()\n",
    "        optimizer.step()\n",
    "        total_loss += loss.item()\n",
    "\n",
    "        # Calculate predictions and update correct predictions count\n",
    "        predicted = (torch.sigmoid(predicted_bags_1.squeeze()) > 0.5).float()  # Binary classification threshold\n",
    "        correct_predictions += (predicted == labels).sum().item()\n",
    "        total_samples += labels.size(0)\n",
    "\n",
    "    # Calculate average loss and accuracy for this epoch\n",
    "    avg_loss = total_loss / len(train_loader)\n",
    "    accuracy = (correct_predictions / total_samples) * 100  # Convert to percentage\n",
    "    print(f\"Epoch [{epoch+1}/{epochs}], Loss: {total_loss/len(train_loader):.5f}, Accuracy: {accuracy:.2f}%\")\n",
    "    \n",
    "# Evaluation loop\n",
    "with torch.no_grad():\n",
    "    encoder.eval()\n",
    "    correct, total = 0, 0\n",
    "    for images, labels in eval_loader:\n",
    "        images = images.cuda()\n",
    "        labels = labels.cuda()\n",
    "        z_i, output, predicted_bags, _, _ = encoder(images)\n",
    "        predicted = (torch.sigmoid(predicted_bags.squeeze()) > 0.5).float()\n",
    "        total += labels.size(0)\n",
    "        correct += (predicted == labels).sum().item()\n",
    "    print(f\"Test Accuracy: {correct/total}\")"
   ],
   "id": "52689a59ab9a7caf",
   "outputs": [
    {
     "name": "stdout",
     "output_type": "stream",
     "text": [
      "Epoch [1/50], Loss: 3.20343, Accuracy: 54.69%\n",
      "Epoch [2/50], Loss: 3.17568, Accuracy: 57.24%\n",
      "Epoch [3/50], Loss: 3.15272, Accuracy: 57.72%\n",
      "Epoch [4/50], Loss: 3.11879, Accuracy: 60.87%\n",
      "Epoch [5/50], Loss: 3.10681, Accuracy: 63.32%\n",
      "Epoch [6/50], Loss: 3.00376, Accuracy: 66.45%\n",
      "Epoch [7/50], Loss: 2.97340, Accuracy: 68.87%\n",
      "Epoch [8/50], Loss: 2.84069, Accuracy: 71.66%\n",
      "Epoch [9/50], Loss: 2.80341, Accuracy: 73.90%\n",
      "Epoch [10/50], Loss: 2.75685, Accuracy: 75.85%\n",
      "Epoch [11/50], Loss: 2.69516, Accuracy: 77.67%\n",
      "Epoch [12/50], Loss: 2.71292, Accuracy: 79.08%\n",
      "Epoch [13/50], Loss: 2.67334, Accuracy: 80.44%\n",
      "Epoch [14/50], Loss: 2.65422, Accuracy: 81.58%\n",
      "Epoch [15/50], Loss: 2.65452, Accuracy: 82.56%\n",
      "Epoch [16/50], Loss: 2.63673, Accuracy: 83.48%\n",
      "Epoch [17/50], Loss: 2.65116, Accuracy: 84.26%\n",
      "Epoch [18/50], Loss: 2.60990, Accuracy: 85.06%\n",
      "Epoch [19/50], Loss: 2.58342, Accuracy: 85.75%\n",
      "Epoch [20/50], Loss: 2.58543, Accuracy: 86.38%\n",
      "Epoch [21/50], Loss: 2.57201, Accuracy: 86.99%\n",
      "Epoch [22/50], Loss: 2.59955, Accuracy: 87.51%\n",
      "Epoch [23/50], Loss: 2.65683, Accuracy: 87.91%\n",
      "Epoch [24/50], Loss: 2.66763, Accuracy: 88.28%\n",
      "Epoch [25/50], Loss: 2.63726, Accuracy: 88.62%\n",
      "Epoch [26/50], Loss: 2.59193, Accuracy: 89.00%\n",
      "Epoch [27/50], Loss: 2.59197, Accuracy: 89.34%\n",
      "Epoch [28/50], Loss: 2.57499, Accuracy: 89.67%\n",
      "Epoch [29/50], Loss: 2.59997, Accuracy: 89.97%\n",
      "Epoch [30/50], Loss: 2.57956, Accuracy: 90.26%\n",
      "Epoch [31/50], Loss: 2.59945, Accuracy: 90.53%\n",
      "Epoch [32/50], Loss: 2.55520, Accuracy: 90.80%\n",
      "Epoch [33/50], Loss: 2.59267, Accuracy: 91.03%\n",
      "Epoch [34/50], Loss: 2.58504, Accuracy: 91.24%\n",
      "Epoch [35/50], Loss: 2.61607, Accuracy: 91.44%\n",
      "Epoch [36/50], Loss: 2.58862, Accuracy: 91.62%\n",
      "Epoch [37/50], Loss: 2.55616, Accuracy: 91.83%\n",
      "Epoch [38/50], Loss: 2.60127, Accuracy: 91.99%\n",
      "Epoch [39/50], Loss: 2.57593, Accuracy: 92.17%\n",
      "Epoch [40/50], Loss: 2.55400, Accuracy: 92.33%\n",
      "Epoch [41/50], Loss: 2.55922, Accuracy: 92.49%\n",
      "Epoch [42/50], Loss: 2.56526, Accuracy: 92.64%\n",
      "Epoch [43/50], Loss: 2.53946, Accuracy: 92.79%\n",
      "Epoch [44/50], Loss: 2.54121, Accuracy: 92.95%\n",
      "Epoch [45/50], Loss: 2.64642, Accuracy: 93.04%\n",
      "Epoch [46/50], Loss: 2.62927, Accuracy: 93.13%\n",
      "Epoch [47/50], Loss: 2.58759, Accuracy: 93.24%\n",
      "Epoch [48/50], Loss: 2.57876, Accuracy: 93.35%\n",
      "Epoch [49/50], Loss: 2.54812, Accuracy: 93.46%\n",
      "Epoch [50/50], Loss: 2.59064, Accuracy: 93.56%\n",
      "Test Accuracy: 0.9530231179608772\n"
     ]
    }
   ],
   "execution_count": 11
  },
  {
   "metadata": {},
   "cell_type": "markdown",
   "source": "# Visualizing Augmented Bags",
   "id": "450d9cf578cd11d9"
  },
  {
   "metadata": {
    "ExecuteTime": {
     "end_time": "2024-12-18T17:49:58.534933Z",
     "start_time": "2024-12-18T17:49:58.096113Z"
    }
   },
   "cell_type": "code",
   "source": [
    "import matplotlib.pyplot as plt\n",
    "\n",
    "def visualize_augmented_bags(original_bags, augmented_bags, num_bags=8):\n",
    "    \"\"\"\n",
    "    Visualizes original and augmented bags of images.\n",
    "\n",
    "    Parameters:\n",
    "    - original_bags: A tensor of shape (batch_size, num_instances, channels, height, width)\n",
    "    - augmented_bags: A tensor of shape (batch_size, num_instances, channels, height, width)\n",
    "    - num_bags: Number of bags to visualize.\n",
    "    \"\"\"\n",
    "    batch_size = original_bags.size(0)\n",
    "    \n",
    "    # Limit the number of bags to visualize\n",
    "    num_bags = min(num_bags, batch_size)\n",
    "\n",
    "    fig, axes = plt.subplots(num_bags, 2, figsize=(10, 2 * num_bags))\n",
    "    \n",
    "    for i in range(num_bags):\n",
    "        # Original images\n",
    "        for j in range(original_bags.size(1)):  # Iterate over instances in the bag\n",
    "            img = original_bags[i][j].cpu().numpy().squeeze()  # Remove channel dimension\n",
    "            axes[i, 0].imshow(img, cmap='gray')\n",
    "            axes[i, 0].axis('off')\n",
    "        axes[i, 0].set_title(f'Original Bag {i + 1}')\n",
    "        \n",
    "        # Augmented images\n",
    "        for j in range(augmented_bags.size(1)):\n",
    "            img = augmented_bags[i][j].cpu().numpy().squeeze()  # Remove channel dimension\n",
    "            axes[i, 1].imshow(img, cmap='gray')\n",
    "            axes[i, 1].axis('off')\n",
    "        axes[i, 1].set_title(f'Augmented Bag {i + 1}')\n",
    "\n",
    "    plt.tight_layout()\n",
    "    plt.show()\n",
    "\n",
    "# Get the first batch of images from the evaluation loader\n",
    "images, _ = next(iter(eval_loader))\n",
    "print(f'Original batch shape: {images.shape}')\n",
    "\n",
    "# Augment the batch of images\n",
    "augmented_images = augment_batch(images)\n",
    "print(f'Augmented batch shape: {augmented_images.shape}')\n",
    "\n",
    "# Visualize the original and augmented bags\n",
    "visualize_augmented_bags(images, augmented_images)"
   ],
   "id": "2d6ef0f4cc987c4e",
   "outputs": [
    {
     "name": "stdout",
     "output_type": "stream",
     "text": [
      "Original batch shape: torch.Size([4, 8, 1, 28, 28])\n",
      "Augmented batch shape: torch.Size([4, 8, 1, 28, 28])\n"
     ]
    },
    {
     "data": {
      "text/plain": [
       "<Figure size 1000x800 with 8 Axes>"
      ],
      "image/png": "[encoded data removed]"
     },
     "metadata": {},
     "output_type": "display_data"
    }
   ],
   "execution_count": 12
  },
  {
   "metadata": {
    "ExecuteTime": {
     "end_time": "2024-12-18T17:49:58.543955Z",
     "start_time": "2024-12-18T17:49:58.542678Z"
    }
   },
   "cell_type": "code",
   "source": "",
   "id": "2eb660a0d59d60d",
   "outputs": [],
   "execution_count": null
  }
 ],
 "metadata": {
  "kernelspec": {
   "display_name": "Python 3",
   "language": "python",
   "name": "python3"
  },
  "language_info": {
   "codemirror_mode": {
    "name": "ipython",
    "version": 2
   },
   "file_extension": ".py",
   "mimetype": "text/x-python",
   "name": "python",
   "nbconvert_exporter": "python",
   "pygments_lexer": "ipython2",
   "version": "2.7.6"
  }
 },
 "nbformat": 4,
 "nbformat_minor": 5
}
