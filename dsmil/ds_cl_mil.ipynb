{
 "cells": [
  {
   "metadata": {},
   "cell_type": "markdown",
   "source": "# Import Libraries",
   "id": "d675e2349b26c09f"
  },
  {
   "cell_type": "code",
   "id": "initial_id",
   "metadata": {
    "collapsed": true,
    "ExecuteTime": {
     "end_time": "2024-12-03T14:55:45.462640Z",
     "start_time": "2024-12-03T14:55:44.431396Z"
    }
   },
   "source": [
    "import torch\n",
    "import torch.nn as nn\n",
    "import torch.nn.functional as F\n",
    "from torchvision.transforms import v2 as transforms\n",
    "import torchvision.datasets as datasets\n",
    "import torchvision.models as models\n",
    "from torch.utils.data import DataLoader, Dataset\n",
    "from sklearn.model_selection import train_test_split"
   ],
   "outputs": [],
   "execution_count": 1
  },
  {
   "metadata": {},
   "cell_type": "markdown",
   "source": "# Data Preparation",
   "id": "672bbbd8209f388f"
  },
  {
   "metadata": {
    "ExecuteTime": {
     "end_time": "2024-12-03T14:55:47.242432Z",
     "start_time": "2024-12-03T14:55:45.465959Z"
    }
   },
   "cell_type": "code",
   "source": [
    "# Load and preprocess the MNIST dataset\n",
    "transform = transforms.Compose([\n",
    "    transforms.ToTensor(),\n",
    "    # transforms.Normalize((0.1307,), (0.3081,))\n",
    "])\n",
    "\n",
    "mnist_data = datasets.MNIST(root='./data', train=True, download=True, transform=transform)\n",
    "train_data, eval_data = train_test_split(mnist_data, train_size=0.1, random_state=42, stratify=mnist_data.targets)\n",
    "\n",
    "# Bag-level dataset\n",
    "class BagDataset(Dataset):\n",
    "    def __init__(self, data, bag_size=8):\n",
    "        self.data = data\n",
    "        self.bag_size = bag_size\n",
    "\n",
    "    def __len__(self):\n",
    "        return len(self.data) // self.bag_size\n",
    "\n",
    "    def __getitem__(self, idx):\n",
    "        images, labels = [], []\n",
    "        for i in range(self.bag_size):\n",
    "            img, label = self.data[idx * self.bag_size + i]\n",
    "            images.append(img)\n",
    "            labels.append(label)\n",
    "        bag_label = 1 if 9 in labels else 0\n",
    "        return torch.stack(images), torch.tensor(bag_label)\n",
    "\n",
    "train_dataset = BagDataset(train_data)\n",
    "eval_dataset = BagDataset(eval_data)\n",
    "train_loader = DataLoader(train_dataset, batch_size=4, shuffle=True, pin_memory=True, num_workers=4, drop_last=True)\n",
    "eval_loader = DataLoader(eval_dataset, batch_size=4, shuffle=False, pin_memory=True, num_workers=4, drop_last=True)"
   ],
   "id": "bad48fa375531d1",
   "outputs": [
    {
     "name": "stderr",
     "output_type": "stream",
     "text": [
      "/home/hskha23/miniconda3/envs/tf/lib/python3.10/site-packages/torchvision/transforms/v2/_deprecated.py:42: UserWarning: The transform `ToTensor()` is deprecated and will be removed in a future release. Instead, please use `v2.Compose([v2.ToImage(), v2.ToDtype(torch.float32, scale=True)])`.Output is equivalent up to float precision.\n",
      "  warnings.warn(\n"
     ]
    }
   ],
   "execution_count": 2
  },
  {
   "metadata": {},
   "cell_type": "markdown",
   "source": "# Model Definition",
   "id": "4ad3fd07b10aa85b"
  },
  {
   "metadata": {},
   "cell_type": "markdown",
   "source": "## NTXentLoss",
   "id": "20bbdf04d7172c16"
  },
  {
   "metadata": {
    "ExecuteTime": {
     "end_time": "2024-12-03T14:55:47.271473Z",
     "start_time": "2024-12-03T14:55:47.269124Z"
    }
   },
   "cell_type": "code",
   "source": [
    "# Define NTXentLoss (provided by you)\n",
    "class NTXentLoss(nn.Module):\n",
    "    def __init__(self, temperature=0.5):\n",
    "        super(NTXentLoss, self).__init__()\n",
    "        self.temperature = temperature\n",
    "\n",
    "    def forward(self, z_i, z_j):\n",
    "        batch_size = z_i.size(0)\n",
    "        z = torch.cat([z_i, z_j], dim=0)\n",
    "        z = F.normalize(z, dim=1)\n",
    "        similarity_matrix = torch.mm(z, z.T) / self.temperature\n",
    "        mask = torch.eye(2 * batch_size, device=z.device).bool()\n",
    "        similarity_matrix.masked_fill_(mask, -float('inf'))\n",
    "        exp_sim = torch.exp(similarity_matrix)\n",
    "        denominator = exp_sim.sum(dim=1)\n",
    "        positive_samples = torch.cat(\n",
    "            [torch.arange(batch_size, 2 * batch_size), torch.arange(batch_size)], dim=0\n",
    "        ).to(z.device)\n",
    "        positives = similarity_matrix[torch.arange(2 * batch_size), positive_samples]\n",
    "        loss = -torch.log(torch.exp(positives) / denominator)\n",
    "        return loss.mean()"
   ],
   "id": "dbd03f603a2a8209",
   "outputs": [],
   "execution_count": 3
  },
  {
   "metadata": {},
   "cell_type": "markdown",
   "source": "## Dual-Stream MIL Model (DSMIL)",
   "id": "7bda39b2525a9499"
  },
  {
   "metadata": {
    "ExecuteTime": {
     "end_time": "2024-12-03T14:55:47.327112Z",
     "start_time": "2024-12-03T14:55:47.316817Z"
    }
   },
   "cell_type": "code",
   "source": [
    "class FCLayer(nn.Module):\n",
    "    def __init__(self, input_dim, output_dim=1):\n",
    "        super(FCLayer, self).__init__()\n",
    "        self.fc = nn.Sequential(nn.Linear(input_dim, output_dim))\n",
    "        \n",
    "    def forward(self, x):\n",
    "        return self.fc(x)\n",
    "    \n",
    "class InstanceClassifier(nn.Module):\n",
    "    def __init__(self, input_dim, output_dim=1):\n",
    "        super(InstanceClassifier, self).__init__()\n",
    "        self.features_extractor = models.resnet18(weights=models.ResNet18_Weights.DEFAULT)\n",
    "        self.features_extractor.conv1 = nn.Conv2d(1, 64, kernel_size=7, stride=2, padding=3, bias=False)\n",
    "        self.features_extractor.fc = nn.Identity()\n",
    "        \n",
    "        self.fc = nn.Linear(input_dim, output_dim)\n",
    "        \n",
    "    def forward(self, x):\n",
    "        batch_size, num_instances, C, H, W = x.shape\n",
    "        x = x.view(batch_size * num_instances, C, H, W)\n",
    "        \n",
    "        instance_features = nn.Dropout(0.25)(self.features_extractor(x)).view(batch_size, num_instances, -1)\n",
    "        classes = self.fc(instance_features)\n",
    "        \n",
    "        return instance_features, classes\n",
    "    \n",
    "class BagClassifier(nn.Module):\n",
    "    def __init__(self, input_dim, output_dim=1, hidden_dim=128, dropout_v=0.2, non_linear=True, passing_v=False):\n",
    "        super(BagClassifier, self).__init__()\n",
    "        self.hidden_dim = hidden_dim\n",
    "        \n",
    "        if non_linear:\n",
    "            self.q = nn.Sequential(\n",
    "                nn.Linear(input_dim, hidden_dim),\n",
    "                nn.ReLU(),\n",
    "                nn.Linear(hidden_dim, hidden_dim),\n",
    "                nn.Tanh()\n",
    "            )\n",
    "        else:\n",
    "            self.q = nn.Linear(input_dim, hidden_dim)\n",
    "        \n",
    "        if passing_v:\n",
    "            self.v = nn.Sequential(\n",
    "                nn.Dropout(dropout_v),\n",
    "                nn.Linear(input_dim, input_dim),\n",
    "                nn.ReLU()\n",
    "            )\n",
    "        else:\n",
    "            self.v = nn.Identity()\n",
    "            \n",
    "        self.fc = FCLayer(input_dim, output_dim)\n",
    "        \n",
    "    def forward(self, features, classes):\n",
    "        batch_size = features.size(0)\n",
    "        num_instances = features.size(1)\n",
    "        features_dim = features.size(2)\n",
    "        \n",
    "        combine_features = features.view(features.shape[0] * features.shape[1], -1)\n",
    "        V = self.v(combine_features)\n",
    "        Q = self.q(combine_features)\n",
    "        assert V.shape[0] == Q.shape[0] == batch_size * num_instances, f'V: {V.shape}, Q: {Q.shape}'\n",
    "        assert V.shape[1] == features_dim, f'V: {V.shape} should be [{batch_size * num_instances}, {features_dim}]'\n",
    "        assert Q.shape[1] == self.hidden_dim, f'Q: {Q.shape} should be [{batch_size * num_instances}, {self.hidden_dim}]'\n",
    "        \n",
    "        # Get critical instance indices by squeezing classes\n",
    "        critical_indices = torch.squeeze(classes).argmax(dim=1)  # Shape [32]\n",
    "        assert critical_indices.shape[0] == batch_size, f'Critical indices: {critical_indices.shape}'\n",
    "\n",
    "        # Gather features for each batch using critical instance indices\n",
    "        m_features = features[torch.arange(batch_size).unsqueeze(1), critical_indices.unsqueeze(1)].squeeze()\n",
    "        assert m_features.shape[0] == batch_size, f'M features: {m_features.shape} should be [{batch_size}, {features_dim}]'\n",
    "        q_max = self.q(m_features)\n",
    "        assert q_max.shape[0] == batch_size and q_max.shape[1] == self.hidden_dim, f'Q max: {q_max.shape} should be [{batch_size}, {self.hidden_dim}]'\n",
    "        \n",
    "        A = torch.mm(Q, q_max.mT)\n",
    "        A = F.softmax(A / torch.sqrt(torch.tensor(Q.shape[-1]).float()), dim=0)\n",
    "        assert A.shape[0] == batch_size * num_instances and A.shape[1] == batch_size, f'A: {A.shape} should be [{batch_size * num_instances}, {batch_size}]'\n",
    "        \n",
    "        B = torch.mm(A.T, V)\n",
    "        assert B.shape[0] == batch_size and B.shape[1] == features_dim, f'B: {B.shape} should be [{batch_size}, {features_dim}]'\n",
    "        \n",
    "        B = B.view(1, B.shape[0], B.shape[1])\n",
    "        C = self.fc(B)\n",
    "        C = C.view(1, -1)\n",
    "        \n",
    "        return C, A, B"
   ],
   "id": "cd5780327a678c64",
   "outputs": [],
   "execution_count": 4
  },
  {
   "metadata": {},
   "cell_type": "markdown",
   "source": "## Encoder Model",
   "id": "80b183f5701793a1"
  },
  {
   "metadata": {
    "ExecuteTime": {
     "end_time": "2024-12-03T14:55:47.372536Z",
     "start_time": "2024-12-03T14:55:47.369994Z"
    }
   },
   "cell_type": "code",
   "source": [
    "class Encoder(nn.Module):\n",
    "    def __init__(self, base_model, projection_dim=128):\n",
    "        super(Encoder, self).__init__()\n",
    "        self.encoder = base_model\n",
    "        self.projection = nn.Sequential(\n",
    "            nn.Linear(512, 512),\n",
    "            nn.ReLU(),\n",
    "            nn.Linear(512, projection_dim)\n",
    "        )\n",
    "        \n",
    "        self.instance_classifier = InstanceClassifier(512)\n",
    "        self.bag_classifier = BagClassifier(512)\n",
    "        \n",
    "    def forward(self, x):\n",
    "        batch_size, num_instances, channels, height, width = x.size()\n",
    "        \n",
    "        instances_features, classes = self.instance_classifier(x)\n",
    "        \n",
    "        features = instances_features.view(batch_size * num_instances, -1)  # Flatten to (batch_size * num_instances, feature_dim)\n",
    "        \n",
    "        projection_features = self.projection(features)\n",
    "        \n",
    "        predicted_bags, A, B = self.bag_classifier(instances_features, classes)\n",
    "        \n",
    "        return projection_features, classes, predicted_bags, A, B"
   ],
   "id": "70a7956091c803d9",
   "outputs": [],
   "execution_count": 5
  },
  {
   "metadata": {},
   "cell_type": "markdown",
   "source": "## Augmentation Function",
   "id": "5a2ce984e83bee14"
  },
  {
   "metadata": {
    "ExecuteTime": {
     "end_time": "2024-12-03T14:55:47.418844Z",
     "start_time": "2024-12-03T14:55:47.415863Z"
    }
   },
   "cell_type": "code",
   "source": [
    "# Augmentation function\n",
    "def augment_batch(batch_images):\n",
    "    batch_size, num_instances, channels, height, width = batch_images.shape\n",
    "    aug_transform = transforms.Compose([\n",
    "        # transforms.RandomResizedCrop(224, scale=(0.8, 1.2)),\n",
    "        # transforms.RandomHorizontalFlip(),\n",
    "        transforms.RandomApply([transforms.ColorJitter(brightness=0.4, contrast=0.4, saturation=0.4, hue=0.4)], p=0.6),\n",
    "        transforms.RandomGrayscale(p=0.2),\n",
    "        transforms.Compose([transforms.ToImage(), transforms.ToDtype(torch.float32, scale=True)])\n",
    "        # transforms.Normalize((0.1307,), (0.3081,))\n",
    "    ])\n",
    "    \n",
    "    # Apply transformation to each image instance in the batch\n",
    "    augmented_batch = []\n",
    "    for i in range(batch_size):\n",
    "        augmented_instances = [aug_transform(transforms.ToPILImage()(img.cpu())) for img in batch_images[i]]\n",
    "        augmented_batch.append(torch.stack(augmented_instances))\n",
    "    \n",
    "    return torch.stack(augmented_batch).cuda()  # Move the augmented batch to GPU"
   ],
   "id": "824abbbb6bcc0979",
   "outputs": [],
   "execution_count": 6
  },
  {
   "metadata": {},
   "cell_type": "markdown",
   "source": "# Model Initialization",
   "id": "862eff286e786bcf"
  },
  {
   "metadata": {
    "ExecuteTime": {
     "end_time": "2024-12-03T14:55:47.677984Z",
     "start_time": "2024-12-03T14:55:47.462371Z"
    }
   },
   "cell_type": "code",
   "source": [
    "# Initialize models, loss function, and optimizer\n",
    "base_model = models.resnet18(weights=None)\n",
    "base_model.conv1 = nn.Conv2d(1, 64, kernel_size=7, stride=2, padding=3, bias=False)\n",
    "base_model.fc = nn.Identity()\n",
    "encoder = Encoder(base_model).cuda()\n",
    "projection_dim = 256\n",
    "ntxent_loss = NTXentLoss().cuda()"
   ],
   "id": "aa34df87541f2986",
   "outputs": [],
   "execution_count": 7
  },
  {
   "metadata": {},
   "cell_type": "markdown",
   "source": "# Model Training & Evaluation",
   "id": "2fd8f0b3fc1bc9c5"
  },
  {
   "metadata": {
    "ExecuteTime": {
     "end_time": "2024-12-03T14:58:43.645361Z",
     "start_time": "2024-12-03T14:55:47.688491Z"
    }
   },
   "cell_type": "code",
   "source": [
    "# Training parameters\n",
    "epochs = 50\n",
    "learning_rate = 1e-3\n",
    "optimizer = torch.optim.Adam(encoder.parameters(), lr=learning_rate)\n",
    "bceLoss = nn.BCEWithLogitsLoss()\n",
    "\n",
    "\n",
    "correct_predictions = 0\n",
    "total_samples = 0\n",
    "# Training loop for contrastive learning\n",
    "for epoch in range(epochs):\n",
    "    encoder.train()\n",
    "    total_loss = 0\n",
    "    for images, labels in train_loader:\n",
    "        images = images.cuda()  # Move the batch to GPU\n",
    "        labels = labels.cuda()\n",
    "        aug1 = augment_batch(images).cuda()\n",
    "        aug2 = augment_batch(images).cuda()\n",
    "\n",
    "        z_i, outputs_1, predicted_bags_1, _, _ = encoder(aug1)\n",
    "        z_j, outputs_2, predicted_bags_2, _, _ = encoder(aug2)\n",
    "\n",
    "        NTXLoss = ntxent_loss(z_i, z_j)\n",
    "        max_agg_1 = torch.max(outputs_1, dim=1).values.squeeze()\n",
    "        max_agg_2 = torch.max(outputs_2, dim=1).values.squeeze()\n",
    "\n",
    "        loss_max_1 = bceLoss(max_agg_1, labels.float())\n",
    "        loss_max_2 = bceLoss(max_agg_2, labels.float())\n",
    "        loss_bag_1 = bceLoss(predicted_bags_1.squeeze(), labels.float())\n",
    "        loss_bag_2 = bceLoss(predicted_bags_2.squeeze(), labels.float())\n",
    "\n",
    "        loss = 0.2 * NTXLoss + 0.2 * loss_max_1 + 0.2 * loss_max_2 + 0.2 * loss_bag_1 + 0.2 * loss_bag_2\n",
    "        loss = loss.mean()\n",
    "\n",
    "        optimizer.zero_grad()\n",
    "        loss.backward()\n",
    "        optimizer.step()\n",
    "        total_loss += loss.item()\n",
    "\n",
    "        # Calculate predictions and update correct predictions count\n",
    "        predicted = (torch.sigmoid(predicted_bags_1.squeeze()) > 0.5).float()  # Binary classification threshold\n",
    "        correct_predictions += (predicted == labels).sum().item()\n",
    "        total_samples += labels.size(0)\n",
    "\n",
    "    # Calculate average loss and accuracy for this epoch\n",
    "    avg_loss = total_loss / len(train_loader)\n",
    "    accuracy = (correct_predictions / total_samples) * 100  # Convert to percentage\n",
    "    print(f\"Epoch [{epoch+1}/{epochs}], Loss: {total_loss/len(train_loader):.5f}, Accuracy: {accuracy:.2f}%\")\n",
    "\n",
    "# Evaluation loop\n",
    "with torch.no_grad():\n",
    "    encoder.eval()\n",
    "    correct, total = 0, 0\n",
    "    for images, labels in eval_loader:\n",
    "        images = images.cuda()\n",
    "        labels = labels.cuda()\n",
    "        z_i, output, predicted_bags, _, _ = encoder(images)\n",
    "        predicted = (torch.sigmoid(predicted_bags.squeeze()) > 0.5).float()\n",
    "        total += labels.size(0)\n",
    "        correct += (predicted == labels).sum().item()\n",
    "    print(f\"Test Accuracy: {correct/total}\")"
   ],
   "id": "52689a59ab9a7caf",
   "outputs": [
    {
     "name": "stdout",
     "output_type": "stream",
     "text": [
      "Epoch [1/50], Loss: 1.18312, Accuracy: 56.68%\n",
      "Epoch [2/50], Loss: 1.01672, Accuracy: 58.09%\n",
      "Epoch [3/50], Loss: 1.03173, Accuracy: 58.42%\n",
      "Epoch [4/50], Loss: 1.04852, Accuracy: 57.99%\n",
      "Epoch [5/50], Loss: 0.95491, Accuracy: 57.73%\n",
      "Epoch [6/50], Loss: 0.87046, Accuracy: 61.65%\n",
      "Epoch [7/50], Loss: 0.76209, Accuracy: 65.47%\n",
      "Epoch [8/50], Loss: 0.72730, Accuracy: 68.57%\n",
      "Epoch [9/50], Loss: 0.68798, Accuracy: 71.09%\n",
      "Epoch [10/50], Loss: 0.70413, Accuracy: 73.20%\n",
      "Epoch [11/50], Loss: 0.68679, Accuracy: 74.87%\n",
      "Epoch [12/50], Loss: 0.62967, Accuracy: 76.55%\n",
      "Epoch [13/50], Loss: 0.63659, Accuracy: 77.90%\n",
      "Epoch [14/50], Loss: 0.65844, Accuracy: 78.97%\n",
      "Epoch [15/50], Loss: 0.62133, Accuracy: 80.06%\n",
      "Epoch [16/50], Loss: 0.64307, Accuracy: 80.96%\n",
      "Epoch [17/50], Loss: 0.59252, Accuracy: 81.87%\n",
      "Epoch [18/50], Loss: 0.64407, Accuracy: 82.62%\n",
      "Epoch [19/50], Loss: 0.69196, Accuracy: 83.16%\n",
      "Epoch [20/50], Loss: 0.61291, Accuracy: 83.74%\n",
      "Epoch [21/50], Loss: 0.51320, Accuracy: 84.47%\n",
      "Epoch [22/50], Loss: 0.60939, Accuracy: 84.97%\n",
      "Epoch [23/50], Loss: 0.52048, Accuracy: 85.56%\n",
      "Epoch [24/50], Loss: 0.52752, Accuracy: 86.09%\n",
      "Epoch [25/50], Loss: 0.59076, Accuracy: 86.50%\n",
      "Epoch [26/50], Loss: 0.52013, Accuracy: 86.95%\n",
      "Epoch [27/50], Loss: 0.51199, Accuracy: 87.39%\n",
      "Epoch [28/50], Loss: 0.52398, Accuracy: 87.79%\n",
      "Epoch [29/50], Loss: 0.49789, Accuracy: 88.18%\n",
      "Epoch [30/50], Loss: 0.51655, Accuracy: 88.52%\n",
      "Epoch [31/50], Loss: 0.61000, Accuracy: 88.69%\n",
      "Epoch [32/50], Loss: 0.49304, Accuracy: 89.03%\n",
      "Epoch [33/50], Loss: 0.49798, Accuracy: 89.32%\n",
      "Epoch [34/50], Loss: 0.50058, Accuracy: 89.60%\n",
      "Epoch [35/50], Loss: 0.51907, Accuracy: 89.83%\n",
      "Epoch [36/50], Loss: 0.50493, Accuracy: 90.07%\n",
      "Epoch [37/50], Loss: 0.51327, Accuracy: 90.32%\n",
      "Epoch [38/50], Loss: 0.51973, Accuracy: 90.54%\n",
      "Epoch [39/50], Loss: 0.54067, Accuracy: 90.72%\n",
      "Epoch [40/50], Loss: 0.48401, Accuracy: 90.94%\n",
      "Epoch [41/50], Loss: 0.48011, Accuracy: 91.15%\n",
      "Epoch [42/50], Loss: 0.48179, Accuracy: 91.35%\n",
      "Epoch [43/50], Loss: 0.47621, Accuracy: 91.55%\n",
      "Epoch [44/50], Loss: 0.47684, Accuracy: 91.73%\n",
      "Epoch [45/50], Loss: 0.47450, Accuracy: 91.91%\n",
      "Epoch [46/50], Loss: 0.47645, Accuracy: 92.08%\n",
      "Epoch [47/50], Loss: 0.47336, Accuracy: 92.24%\n",
      "Epoch [48/50], Loss: 0.47846, Accuracy: 92.40%\n",
      "Epoch [49/50], Loss: 0.47435, Accuracy: 92.55%\n",
      "Epoch [50/50], Loss: 0.47577, Accuracy: 92.69%\n",
      "Test Accuracy: 0.9324244220509781\n"
     ]
    }
   ],
   "execution_count": 8
  },
  {
   "metadata": {},
   "cell_type": "markdown",
   "source": "# Visualizing Augmented Bags",
   "id": "450d9cf578cd11d9"
  },
  {
   "metadata": {
    "ExecuteTime": {
     "end_time": "2024-12-03T14:58:44.119362Z",
     "start_time": "2024-12-03T14:58:43.695919Z"
    }
   },
   "cell_type": "code",
   "source": [
    "import matplotlib.pyplot as plt\n",
    "\n",
    "def visualize_augmented_bags(original_bags, augmented_bags, num_bags=8):\n",
    "    \"\"\"\n",
    "    Visualizes original and augmented bags of images.\n",
    "\n",
    "    Parameters:\n",
    "    - original_bags: A tensor of shape (batch_size, num_instances, channels, height, width)\n",
    "    - augmented_bags: A tensor of shape (batch_size, num_instances, channels, height, width)\n",
    "    - num_bags: Number of bags to visualize.\n",
    "    \"\"\"\n",
    "    batch_size = original_bags.size(0)\n",
    "    \n",
    "    # Limit the number of bags to visualize\n",
    "    num_bags = min(num_bags, batch_size)\n",
    "\n",
    "    fig, axes = plt.subplots(num_bags, 2, figsize=(10, 2 * num_bags))\n",
    "    \n",
    "    for i in range(num_bags):\n",
    "        # Original images\n",
    "        for j in range(original_bags.size(1)):  # Iterate over instances in the bag\n",
    "            img = original_bags[i][j].cpu().numpy().squeeze()  # Remove channel dimension\n",
    "            axes[i, 0].imshow(img, cmap='gray')\n",
    "            axes[i, 0].axis('off')\n",
    "        axes[i, 0].set_title(f'Original Bag {i + 1}')\n",
    "        \n",
    "        # Augmented images\n",
    "        for j in range(augmented_bags.size(1)):\n",
    "            img = augmented_bags[i][j].cpu().numpy().squeeze()  # Remove channel dimension\n",
    "            axes[i, 1].imshow(img)\n",
    "            axes[i, 1].axis('off')\n",
    "        axes[i, 1].set_title(f'Augmented Bag {i + 1}')\n",
    "\n",
    "    plt.tight_layout()\n",
    "    plt.show()\n",
    "\n",
    "# Get the first batch of images from the evaluation loader\n",
    "images, _ = next(iter(eval_loader))\n",
    "print(f'Original batch shape: {images.shape}')\n",
    "\n",
    "# Augment the batch of images\n",
    "augmented_images = augment_batch(images)\n",
    "print(f'Augmented batch shape: {augmented_images.shape}')\n",
    "\n",
    "# Visualize the original and augmented bags\n",
    "visualize_augmented_bags(images, augmented_images)"
   ],
   "id": "2d6ef0f4cc987c4e",
   "outputs": [
    {
     "name": "stdout",
     "output_type": "stream",
     "text": [
      "Original batch shape: torch.Size([4, 8, 1, 28, 28])\n",
      "Augmented batch shape: torch.Size([4, 8, 1, 28, 28])\n"
     ]
    },
    {
     "data": {
      "text/plain": [
       "<Figure size 1000x800 with 8 Axes>"
      ],
      "image/png": "[encoded data removed]"
     },
     "metadata": {},
     "output_type": "display_data"
    }
   ],
   "execution_count": 9
  },
  {
   "metadata": {
    "ExecuteTime": {
     "end_time": "2024-12-03T14:58:44.155329Z",
     "start_time": "2024-12-03T14:58:44.154216Z"
    }
   },
   "cell_type": "code",
   "source": "",
   "id": "2eb660a0d59d60d",
   "outputs": [],
   "execution_count": null
  }
 ],
 "metadata": {
  "kernelspec": {
   "display_name": "Python 3",
   "language": "python",
   "name": "python3"
  },
  "language_info": {
   "codemirror_mode": {
    "name": "ipython",
    "version": 2
   },
   "file_extension": ".py",
   "mimetype": "text/x-python",
   "name": "python",
   "nbconvert_exporter": "python",
   "pygments_lexer": "ipython2",
   "version": "2.7.6"
  }
 },
 "nbformat": 4,
 "nbformat_minor": 5
}
